{
  "nbformat": 4,
  "nbformat_minor": 0,
  "metadata": {
    "colab": {
      "name": "[E-01]Rock_Paper_Scissor.ipynb",
      "provenance": [],
      "collapsed_sections": []
    },
    "kernelspec": {
      "name": "python3",
      "display_name": "Python 3"
    },
    "language_info": {
      "name": "python"
    }
  },
  "cells": [
    {
      "cell_type": "markdown",
      "metadata": {
        "id": "n_9XS37_cN7S"
      },
      "source": [
        "Colab Environment Setting"
      ]
    },
    {
      "cell_type": "code",
      "metadata": {
        "colab": {
          "base_uri": "https://localhost:8080/"
        },
        "id": "0wo58nq2h46a",
        "outputId": "18106f51-5530-4c9d-bcaf-10d0bef3a427"
      },
      "source": [
        "from google.colab import drive\n",
        "drive.mount('/content/drive')\n"
      ],
      "execution_count": 2,
      "outputs": [
        {
          "output_type": "stream",
          "text": [
            "Drive already mounted at /content/drive; to attempt to forcibly remount, call drive.mount(\"/content/drive\", force_remount=True).\n"
          ],
          "name": "stdout"
        }
      ]
    },
    {
      "cell_type": "code",
      "metadata": {
        "id": "oNtAxbVLhJTy"
      },
      "source": [
        "import tensorflow as tf\n",
        "from tensorflow import keras\n",
        "from tensorflow.keras import layers\n",
        "import numpy as np\n",
        "import matplotlib.pyplot as plt\n",
        "from PIL import Image\n",
        "import os\n",
        "from glob import glob, iglob"
      ],
      "execution_count": 3,
      "outputs": []
    },
    {
      "cell_type": "code",
      "metadata": {
        "id": "eMME-i_rJP6F"
      },
      "source": [
        "# Training Dataset Setting\n",
        "train_img_path = '/content/drive/MyDrive/Colab Notebooks/aiffel_lms/lms_rock'\n",
        "\n",
        "train_img_path_r = glob(train_img_path + '/rock/*.jpg')\n",
        "train_img_path_p = glob(train_img_path + '/paper/*.jpg')\n",
        "train_img_path_s = glob(train_img_path + '/scissor/*.jpg')\n"
      ],
      "execution_count": 15,
      "outputs": []
    },
    {
      "cell_type": "code",
      "metadata": {
        "colab": {
          "base_uri": "https://localhost:8080/"
        },
        "id": "nttiELW3hNVg",
        "outputId": "94c4f804-40ac-48cb-aece-fff3d429c960"
      },
      "source": [
        "# Image Size Check\n",
        "\n",
        "for i in range(len(train_img_path_r)):\n",
        "    if Image.open(train_img_path_r[i]).size != (28, 28):\n",
        "        print('there is non 28 * 28 image')\n",
        "    else:\n",
        "      break\n",
        "print('Every image is 28 * 28')\n"
      ],
      "execution_count": 18,
      "outputs": [
        {
          "output_type": "stream",
          "text": [
            "Every image is 28 * 28\n"
          ],
          "name": "stdout"
        }
      ]
    },
    {
      "cell_type": "code",
      "metadata": {
        "id": "o-xA_SyYdj34"
      },
      "source": [
        "# Image Size Check Function\n",
        "\n",
        "def size_check(img_path):\n",
        "  for i in range(len(img_path)):\n",
        "    if Image.open(img_path[i]).size != (28, 28):\n",
        "      print('there is non 28 * 28 image')\n",
        "    else:\n",
        "      break\n",
        "  print('Every image is 28 * 28')"
      ],
      "execution_count": 19,
      "outputs": []
    },
    {
      "cell_type": "code",
      "metadata": {
        "colab": {
          "base_uri": "https://localhost:8080/"
        },
        "id": "VO5G8wY8gMHe",
        "outputId": "cfd11185-0feb-4113-87cc-30813c6cda23"
      },
      "source": [
        "# Img Size check\n",
        "size_check(train_img_path_r)\n",
        "size_check(train_img_path_s)\n",
        "size_check(train_img_path_p)"
      ],
      "execution_count": 20,
      "outputs": [
        {
          "output_type": "stream",
          "text": [
            "Every image is 28 * 28\n",
            "Every image is 28 * 28\n",
            "Every image is 28 * 28\n"
          ],
          "name": "stdout"
        }
      ]
    },
    {
      "cell_type": "markdown",
      "metadata": {
        "id": "j-BW4U07euCV"
      },
      "source": [
        ">> Checked out every image size"
      ]
    },
    {
      "cell_type": "code",
      "metadata": {
        "id": "FAhi_wE9lXVL"
      },
      "source": [
        "# Image Resizing. \n",
        "# Actually don't need this time every image is 28 * 28 size\n",
        "\n",
        "\n",
        "def resize_images(img_path):\n",
        "    images = img_path\n",
        "    print(len(images), 'images to be resized')\n",
        "\n",
        "    target_size = (28, 28)\n",
        "    for img in images:\n",
        "        old_img = Image.open(img)\n",
        "        new_img = old_img.resize(target_size, Image.ANTIALIAS)\n",
        "        new_img.save(img, 'jpeg')\n",
        "\n",
        "    print(len(images), 'image resized')\n"
      ],
      "execution_count": 22,
      "outputs": []
    },
    {
      "cell_type": "code",
      "metadata": {
        "id": "WSohJrjEllJ9"
      },
      "source": [
        "# Image Quantity Check\n",
        "\n",
        "def count_image(img_path):\n",
        "  images = img_path\n",
        "  print(len(images), 'images are counted')"
      ],
      "execution_count": 23,
      "outputs": []
    },
    {
      "cell_type": "code",
      "metadata": {
        "colab": {
          "base_uri": "https://localhost:8080/"
        },
        "id": "9wHRkAAwl7b3",
        "outputId": "f36f6c13-6037-4d58-840c-f1d16bdf4d9b"
      },
      "source": [
        "count_image(train_img_path_r)\n",
        "count_image(train_img_path_p)\n",
        "count_image(train_img_path_s)"
      ],
      "execution_count": 24,
      "outputs": [
        {
          "output_type": "stream",
          "text": [
            "1206 images are counted\n",
            "1326 images are counted\n",
            "993 images are counted\n"
          ],
          "name": "stdout"
        }
      ]
    },
    {
      "cell_type": "code",
      "metadata": {
        "colab": {
          "base_uri": "https://localhost:8080/"
        },
        "id": "V0KO253eOl7_",
        "outputId": "b943e2b6-28d1-4c5e-9563-5a423ff87fb9"
      },
      "source": [
        "print(1206 + 1326 + 993)"
      ],
      "execution_count": 25,
      "outputs": [
        {
          "output_type": "stream",
          "text": [
            "3525\n"
          ],
          "name": "stdout"
        }
      ]
    },
    {
      "cell_type": "code",
      "metadata": {
        "colab": {
          "base_uri": "https://localhost:8080/"
        },
        "id": "XWAlP2XiL7Kl",
        "outputId": "a17d77f6-c118-4fc5-8929-217c7c38afd1"
      },
      "source": [
        "#For resize_images function Testing\n",
        "resize_images(train_img_path_r)"
      ],
      "execution_count": 26,
      "outputs": [
        {
          "output_type": "stream",
          "text": [
            "1206 images to be resized\n",
            "1206 image resized\n"
          ],
          "name": "stdout"
        }
      ]
    },
    {
      "cell_type": "markdown",
      "metadata": {
        "id": "M9R2phqoYuXw"
      },
      "source": [
        ">> Training Image\n",
        "*   Rock images 1206\n",
        "*   Paper images 1326\n",
        "*   Scissor images 993\n",
        "\n",
        "\n"
      ]
    },
    {
      "cell_type": "markdown",
      "metadata": {
        "id": "_m52qVo-cruI"
      },
      "source": [
        "Bring Data as numpy"
      ]
    },
    {
      "cell_type": "code",
      "metadata": {
        "id": "MCGAq3WIhSDf"
      },
      "source": [
        "\n",
        "def load_data(img_path, number_of_data):  # 가위바위보 이미지 개수 총합 디폴트로 세팅하지 않음\n",
        "    # 가위 : 0, 바위 : 1, 보 : 2\n",
        "    img_size = 28\n",
        "    color = 3\n",
        "    # 이미지 데이터와 라벨(가위 : 0, 바위 : 1, 보 : 2) 데이터를 담을 행렬(matrix) 영역을 생성\n",
        "    imgs = np.zeros(number_of_data * img_size * img_size * color, dtype=np.int32).reshape(number_of_data, img_size,\n",
        "                                                                                          img_size, color)\n",
        "    labels = np.zeros(number_of_data, dtype=np.int32)\n",
        "\n",
        "    idx = 0\n",
        "    for file in iglob(img_path + '/scissor/*.jpg'):\n",
        "        img = np.array(Image.open(file), dtype=np.int32)\n",
        "        imgs[idx, :, :, :] = img  # 데이터 영역에 이미지 행렬을 복사\n",
        "        labels[idx] = 0  # 가위 : 0\n",
        "        idx = idx + 1\n",
        "\n",
        "    for file in iglob(img_path + '/rock/*.jpg'):\n",
        "        img = np.array(Image.open(file), dtype=np.int32)\n",
        "        imgs[idx, :, :, :] = img  # 데이터 영역에 이미지 행렬을 복사\n",
        "        labels[idx] = 1  # 바위 : 1\n",
        "        idx = idx + 1\n",
        "\n",
        "    for file in iglob(img_path + '/paper/*.jpg'):\n",
        "        img = np.array(Image.open(file), dtype=np.int32)\n",
        "        imgs[idx, :, :, :] = img  # 데이터 영역에 이미지 행렬을 복사\n",
        "        labels[idx] = 2  # 보 : 2\n",
        "        idx = idx + 1\n",
        "\n",
        "    print(\"학습데이터(x_train)의 이미지 개수는\", idx, \"입니다.\")\n",
        "    return imgs, labels"
      ],
      "execution_count": 27,
      "outputs": []
    },
    {
      "cell_type": "code",
      "metadata": {
        "id": "B8VLw6TzhSBf"
      },
      "source": [
        "# Don't need. Mark for Study\n",
        "# IMG_SIZE = 28\n",
        "\n",
        "# resize_and_rescale = tf.keras.Sequential([\n",
        "#     layers.experimental.preprocessing.Resizing(IMG_SIZE, IMG_SIZE),\n",
        "#     layers.experimental.preprocessing.Rescaling(1. / 255)\n",
        "# ])\n"
      ],
      "execution_count": 28,
      "outputs": []
    },
    {
      "cell_type": "markdown",
      "metadata": {
        "id": "Ud2oVQ9GgHps"
      },
      "source": [
        "## TryOut #1"
      ]
    },
    {
      "cell_type": "markdown",
      "metadata": {
        "id": "SQoOmygPgS6d"
      },
      "source": [
        "Split Train & Test within One DataSet"
      ]
    },
    {
      "cell_type": "code",
      "metadata": {
        "colab": {
          "base_uri": "https://localhost:8080/"
        },
        "id": "cWlBUfMEhom6",
        "outputId": "c0a7cb6f-cc16-4eea-d8cf-1fd30cde2f6d"
      },
      "source": [
        "(x_train, y_train) = load_data(train_img_path, 3525) #전체 데이터 다 들고옴\n",
        "x_train_norm = x_train / 255.0  # 입력은 0~1 사이의 값으로 정규화"
      ],
      "execution_count": 29,
      "outputs": [
        {
          "output_type": "stream",
          "text": [
            "학습데이터(x_train)의 이미지 개수는 3525 입니다.\n"
          ],
          "name": "stdout"
        }
      ]
    },
    {
      "cell_type": "code",
      "metadata": {
        "colab": {
          "base_uri": "https://localhost:8080/"
        },
        "id": "5damAQ1cf83g",
        "outputId": "c39e40b9-fde2-4e67-d0b2-9529d01a6d3f"
      },
      "source": [
        "# Using Train_Test_Split, Spliting Train & Test DataSet\n",
        "\n",
        "from sklearn.model_selection import train_test_split\n",
        "\n",
        "x1_train, x1_test, y1_train, y1_test = train_test_split(x_train_norm, y_train, test_size=0.2, random_state = 10)\n",
        "\n",
        "print(\"x1_train shape: {}\".format(x1_train.shape))\n",
        "print(\"y1_train shape: {}\".format(y1_train.shape))"
      ],
      "execution_count": 30,
      "outputs": [
        {
          "output_type": "stream",
          "text": [
            "x1_train shape: (2820, 28, 28, 3)\n",
            "y1_train shape: (2820,)\n"
          ],
          "name": "stdout"
        }
      ]
    },
    {
      "cell_type": "code",
      "metadata": {
        "colab": {
          "base_uri": "https://localhost:8080/",
          "height": 588
        },
        "id": "ybyTwd_uf81G",
        "outputId": "c476f5b4-9833-4f7b-ba48-ed1fab032d45"
      },
      "source": [
        "# Image labeling check \n",
        "\n",
        "plt.figure(figsize=(10, 10))\n",
        "for i in range(16):\n",
        "    plt.subplot(4, 4, i + 1)\n",
        "    plt.xticks([])\n",
        "    plt.yticks([])\n",
        "    plt.grid(False)\n",
        "    plt.imshow(x1_train[i], cmap=plt.cm.binary)\n",
        "    plt.xlabel(y1_train[i])\n",
        "plt.show()"
      ],
      "execution_count": 31,
      "outputs": [
        {
          "output_type": "display_data",
          "data": {
            "image/png": "[encoded data removed]",
            "text/plain": [
              "<Figure size 720x720 with 16 Axes>"
            ]
          },
          "metadata": {
            "tags": []
          }
        }
      ]
    },
    {
      "cell_type": "code",
      "metadata": {
        "id": "kffR1LtAf8zY"
      },
      "source": [
        "c1 = 16\n",
        "c2 = 32\n",
        "n_dense = 128"
      ],
      "execution_count": 32,
      "outputs": []
    },
    {
      "cell_type": "code",
      "metadata": {
        "id": "Mh9nHQ1Lf8v9"
      },
      "source": [
        "# Modeling #1\n",
        "\n",
        "model_1 = tf.keras.Sequential([\n",
        "  layers.Conv2D(c1, (3, 3), padding='same', activation='relu', input_shape=(28, 28, 3)),\n",
        "  layers.MaxPooling2D(2, 2),\n",
        "  layers.Conv2D(c2, (3, 3), activation='relu'),\n",
        "  layers.MaxPooling2D((2, 2)),\n",
        "  layers.Flatten(),\n",
        "  layers.Dense(n_dense, activation='relu'),\n",
        "  layers.Dense(3, activation='softmax')  # 입력받은 값을 0-1 사이의 값으로 정규화\n",
        "])"
      ],
      "execution_count": 34,
      "outputs": []
    },
    {
      "cell_type": "code",
      "metadata": {
        "id": "QYCVVj91g07u"
      },
      "source": [
        "# Compiling _ Accuracy Purpose \n",
        "\n",
        "model_1.compile(optimizer='adam', loss='sparse_categorical_crossentropy',\n",
        "              metrics=['accuracy'])"
      ],
      "execution_count": 35,
      "outputs": []
    },
    {
      "cell_type": "code",
      "metadata": {
        "colab": {
          "base_uri": "https://localhost:8080/"
        },
        "id": "c_ODj7GEg2cc",
        "outputId": "43f6e989-cdaf-4edb-e640-109f8c540acd"
      },
      "source": [
        "model_1.fit(x1_train, y1_train, epochs=20)"
      ],
      "execution_count": 36,
      "outputs": [
        {
          "output_type": "stream",
          "text": [
            "Epoch 1/20\n",
            "89/89 [==============================] - 3s 21ms/step - loss: 1.0131 - accuracy: 0.4826\n",
            "Epoch 2/20\n",
            "89/89 [==============================] - 2s 22ms/step - loss: 0.7298 - accuracy: 0.6702\n",
            "Epoch 3/20\n",
            "89/89 [==============================] - 2s 22ms/step - loss: 0.5834 - accuracy: 0.7567\n",
            "Epoch 4/20\n",
            "89/89 [==============================] - 2s 22ms/step - loss: 0.4847 - accuracy: 0.7816\n",
            "Epoch 5/20\n",
            "89/89 [==============================] - 2s 22ms/step - loss: 0.4095 - accuracy: 0.8266\n",
            "Epoch 6/20\n",
            "89/89 [==============================] - 2s 22ms/step - loss: 0.3458 - accuracy: 0.8461\n",
            "Epoch 7/20\n",
            "89/89 [==============================] - 2s 22ms/step - loss: 0.3222 - accuracy: 0.8631\n",
            "Epoch 8/20\n",
            "89/89 [==============================] - 2s 22ms/step - loss: 0.2659 - accuracy: 0.8830\n",
            "Epoch 9/20\n",
            "89/89 [==============================] - 2s 22ms/step - loss: 0.2353 - accuracy: 0.8968\n",
            "Epoch 10/20\n",
            "89/89 [==============================] - 2s 22ms/step - loss: 0.2214 - accuracy: 0.8968\n",
            "Epoch 11/20\n",
            "89/89 [==============================] - 2s 22ms/step - loss: 0.2196 - accuracy: 0.8947\n",
            "Epoch 12/20\n",
            "89/89 [==============================] - 2s 22ms/step - loss: 0.2072 - accuracy: 0.9004\n",
            "Epoch 13/20\n",
            "89/89 [==============================] - 2s 22ms/step - loss: 0.1892 - accuracy: 0.8989\n",
            "Epoch 14/20\n",
            "89/89 [==============================] - 2s 22ms/step - loss: 0.1819 - accuracy: 0.9060\n",
            "Epoch 15/20\n",
            "89/89 [==============================] - 2s 22ms/step - loss: 0.1720 - accuracy: 0.9121\n",
            "Epoch 16/20\n",
            "89/89 [==============================] - 2s 22ms/step - loss: 0.1651 - accuracy: 0.9138\n",
            "Epoch 17/20\n",
            "89/89 [==============================] - 2s 22ms/step - loss: 0.1673 - accuracy: 0.9103\n",
            "Epoch 18/20\n",
            "89/89 [==============================] - 2s 23ms/step - loss: 0.1581 - accuracy: 0.9096\n",
            "Epoch 19/20\n",
            "89/89 [==============================] - 2s 22ms/step - loss: 0.1539 - accuracy: 0.9152\n",
            "Epoch 20/20\n",
            "89/89 [==============================] - 2s 22ms/step - loss: 0.1550 - accuracy: 0.9138\n"
          ],
          "name": "stdout"
        },
        {
          "output_type": "execute_result",
          "data": {
            "text/plain": [
              "<tensorflow.python.keras.callbacks.History at 0x7fb35614c750>"
            ]
          },
          "metadata": {
            "tags": []
          },
          "execution_count": 36
        }
      ]
    },
    {
      "cell_type": "code",
      "metadata": {
        "colab": {
          "base_uri": "https://localhost:8080/"
        },
        "id": "F5NgiLqif8tA",
        "outputId": "1aa5f867-7bff-4d6f-9e91-05a2f3a712d6"
      },
      "source": [
        "# Test Result\n",
        "\n",
        "test_loss, test_accuracy = model_1.evaluate(x1_test, y1_test)"
      ],
      "execution_count": 37,
      "outputs": [
        {
          "output_type": "stream",
          "text": [
            "23/23 [==============================] - 0s 9ms/step - loss: 0.1579 - accuracy: 0.9078\n"
          ],
          "name": "stdout"
        }
      ]
    },
    {
      "cell_type": "markdown",
      "metadata": {
        "id": "UBo_bQNtRO-C"
      },
      "source": [
        "Model #1 Test Result"
      ]
    },
    {
      "cell_type": "code",
      "metadata": {
        "colab": {
          "base_uri": "https://localhost:8080/"
        },
        "id": "z67D_aanf8j7",
        "outputId": "aa02dec6-121b-4806-ef3c-8fd58664463a"
      },
      "source": [
        "print('test loss: {}'.format(test_loss))\n",
        "print('test accuracy: {}'.format(test_accuracy))"
      ],
      "execution_count": 38,
      "outputs": [
        {
          "output_type": "stream",
          "text": [
            "test loss: 0.1578543484210968\n",
            "test accuracy: 0.9078013896942139\n"
          ],
          "name": "stdout"
        }
      ]
    },
    {
      "cell_type": "markdown",
      "metadata": {
        "id": "-nQoRl2By7SN"
      },
      "source": [
        ">> 조원들과 테스트 결과를 가지고 논의한 결과 하나의 데이터셋으로 train & test 데이터를 나눠 실행한 accuracy와 train & test 데이터를 아예 다른 데이터셋을 이용해 진행한 accuracy의 차이가 큰 것을 확인했다. \n",
        "그래서 위와같은 결과를 하나 도출한 후 Individual Train DataSet, Test DataSet을 이용해 다시 한번 진행했다."
      ]
    },
    {
      "cell_type": "markdown",
      "metadata": {
        "id": "EuYt4AOSgvjZ"
      },
      "source": [
        "## Using Individual Train & Test Dataset"
      ]
    },
    {
      "cell_type": "markdown",
      "metadata": {
        "id": "4Xx42j4CaVd4"
      },
      "source": [
        "Training Data Normalization "
      ]
    },
    {
      "cell_type": "code",
      "metadata": {
        "colab": {
          "base_uri": "https://localhost:8080/"
        },
        "id": "o4R3KMZIhSH8",
        "outputId": "0f9522cf-e994-4e89-bc03-65d7327624fa"
      },
      "source": [
        "(x_train, y_train) = load_data(train_img_path, 3525)  \n",
        "x_train_norm = x_train / 255.0  # 입력은 0~1 사이의 값으로 정규화\n"
      ],
      "execution_count": 39,
      "outputs": [
        {
          "output_type": "stream",
          "text": [
            "학습데이터(x_train)의 이미지 개수는 3525 입니다.\n"
          ],
          "name": "stdout"
        }
      ]
    },
    {
      "cell_type": "markdown",
      "metadata": {
        "id": "itOVmoXocPrH"
      },
      "source": [
        ">> For Optimizing Test Result Add RandomFlip"
      ]
    },
    {
      "cell_type": "markdown",
      "metadata": {
        "id": "wCEvpoyncyP3"
      },
      "source": [
        "Model #2 | RandomFlip, RandomRotation = 0.2"
      ]
    },
    {
      "cell_type": "code",
      "metadata": {
        "id": "wMvDJhkRhSPI"
      },
      "source": [
        "data_augmentation_2 = tf.keras.Sequential([\n",
        "\n",
        "    layers.experimental.preprocessing.RandomFlip('horizontal_and_vertical'),\n",
        "    layers.experimental.preprocessing.RandomRotation(0.2)\n",
        "])"
      ],
      "execution_count": 40,
      "outputs": []
    },
    {
      "cell_type": "code",
      "metadata": {
        "id": "AvO4gMyEPKGV"
      },
      "source": [
        "c1 = 16\n",
        "c2 = 32\n",
        "n_dense = 128"
      ],
      "execution_count": 41,
      "outputs": []
    },
    {
      "cell_type": "code",
      "metadata": {
        "id": "LYzfu7OdPFDK"
      },
      "source": [
        "model_2 = tf.keras.Sequential([\n",
        "  data_augmentation_2,\n",
        "  layers.Conv2D(c1, (3, 3), padding='same', activation='relu', input_shape=(28, 28, 3)),\n",
        "  layers.MaxPooling2D(2, 2),\n",
        "  layers.Conv2D(c2, (3, 3), activation='relu'),\n",
        "  layers.MaxPooling2D((2, 2)),\n",
        "  layers.Flatten(),\n",
        "  layers.Dense(n_dense, activation='relu'),\n",
        "  layers.Dense(3, activation='softmax')  # 입력받은 값을 0-1 사이의 값으로 정규화\n",
        "])"
      ],
      "execution_count": 42,
      "outputs": []
    },
    {
      "cell_type": "code",
      "metadata": {
        "id": "cA-Lj77lPE5p"
      },
      "source": [
        "model_2.compile(optimizer='adam', loss='sparse_categorical_crossentropy',\n",
        "              metrics=['accuracy'])"
      ],
      "execution_count": 43,
      "outputs": []
    },
    {
      "cell_type": "code",
      "metadata": {
        "colab": {
          "base_uri": "https://localhost:8080/"
        },
        "id": "qvVtMHuySXo0",
        "outputId": "af1a520f-27ce-4ef0-9d0f-276f52e72e9a"
      },
      "source": [
        "model_2.fit(x_train_norm, y_train, epochs=20, validation_split=0.25)"
      ],
      "execution_count": 44,
      "outputs": [
        {
          "output_type": "stream",
          "text": [
            "Epoch 1/20\n",
            "83/83 [==============================] - 3s 29ms/step - loss: 1.0298 - accuracy: 0.4695 - val_loss: 1.7016 - val_accuracy: 0.0000e+00\n",
            "Epoch 2/20\n",
            "83/83 [==============================] - 2s 27ms/step - loss: 1.0023 - accuracy: 0.5093 - val_loss: 1.6513 - val_accuracy: 0.0000e+00\n",
            "Epoch 3/20\n",
            "83/83 [==============================] - 2s 27ms/step - loss: 0.9628 - accuracy: 0.5414 - val_loss: 1.5153 - val_accuracy: 0.0454\n",
            "Epoch 4/20\n",
            "83/83 [==============================] - 2s 27ms/step - loss: 0.9000 - accuracy: 0.5853 - val_loss: 1.8413 - val_accuracy: 0.0839\n",
            "Epoch 5/20\n",
            "83/83 [==============================] - 2s 28ms/step - loss: 0.8462 - accuracy: 0.6239 - val_loss: 2.0019 - val_accuracy: 0.0692\n",
            "Epoch 6/20\n",
            "83/83 [==============================] - 2s 28ms/step - loss: 0.8010 - accuracy: 0.6406 - val_loss: 1.1496 - val_accuracy: 0.3719\n",
            "Epoch 7/20\n",
            "83/83 [==============================] - 2s 28ms/step - loss: 0.7598 - accuracy: 0.6765 - val_loss: 1.6333 - val_accuracy: 0.2166\n",
            "Epoch 8/20\n",
            "83/83 [==============================] - 2s 27ms/step - loss: 0.7016 - accuracy: 0.7068 - val_loss: 1.6849 - val_accuracy: 0.2381\n",
            "Epoch 9/20\n",
            "83/83 [==============================] - 2s 27ms/step - loss: 0.6672 - accuracy: 0.7386 - val_loss: 1.8597 - val_accuracy: 0.2052\n",
            "Epoch 10/20\n",
            "83/83 [==============================] - 2s 27ms/step - loss: 0.6609 - accuracy: 0.7386 - val_loss: 1.8983 - val_accuracy: 0.2426\n",
            "Epoch 11/20\n",
            "83/83 [==============================] - 2s 28ms/step - loss: 0.6124 - accuracy: 0.7533 - val_loss: 1.2763 - val_accuracy: 0.4762\n",
            "Epoch 12/20\n",
            "83/83 [==============================] - 2s 28ms/step - loss: 0.5979 - accuracy: 0.7768 - val_loss: 1.4366 - val_accuracy: 0.4274\n",
            "Epoch 13/20\n",
            "83/83 [==============================] - 2s 28ms/step - loss: 0.5832 - accuracy: 0.7684 - val_loss: 1.2154 - val_accuracy: 0.5113\n",
            "Epoch 14/20\n",
            "83/83 [==============================] - 2s 28ms/step - loss: 0.5277 - accuracy: 0.7942 - val_loss: 1.7540 - val_accuracy: 0.3844\n",
            "Epoch 15/20\n",
            "83/83 [==============================] - 2s 28ms/step - loss: 0.5248 - accuracy: 0.7911 - val_loss: 1.2704 - val_accuracy: 0.5227\n",
            "Epoch 16/20\n",
            "83/83 [==============================] - 2s 28ms/step - loss: 0.5233 - accuracy: 0.7980 - val_loss: 1.6958 - val_accuracy: 0.3991\n",
            "Epoch 17/20\n",
            "83/83 [==============================] - 2s 27ms/step - loss: 0.4698 - accuracy: 0.8131 - val_loss: 1.2354 - val_accuracy: 0.5261\n",
            "Epoch 18/20\n",
            "83/83 [==============================] - 2s 28ms/step - loss: 0.4671 - accuracy: 0.8112 - val_loss: 1.2203 - val_accuracy: 0.5363\n",
            "Epoch 19/20\n",
            "83/83 [==============================] - 2s 28ms/step - loss: 0.4469 - accuracy: 0.8233 - val_loss: 1.2528 - val_accuracy: 0.5147\n",
            "Epoch 20/20\n",
            "83/83 [==============================] - 2s 27ms/step - loss: 0.4414 - accuracy: 0.8191 - val_loss: 1.3657 - val_accuracy: 0.5011\n"
          ],
          "name": "stdout"
        },
        {
          "output_type": "execute_result",
          "data": {
            "text/plain": [
              "<tensorflow.python.keras.callbacks.History at 0x7fb35a87ec10>"
            ]
          },
          "metadata": {
            "tags": []
          },
          "execution_count": 44
        }
      ]
    },
    {
      "cell_type": "markdown",
      "metadata": {
        "id": "AZtWQRrSbY9D"
      },
      "source": [
        "Model #2 Train Result : loss: 0.2219 - accuracy: 0.9035 - val_loss: 0.8504 - val_accuracy: 0.7109\n",
        "\n",
        "- loss : 훈련 손실값\n",
        "- acc : 훈련 정확도\n",
        "- val_loss : 검증 손실값\n",
        "- val_acc : 검증 정확도\n"
      ]
    },
    {
      "cell_type": "markdown",
      "metadata": {
        "id": "KRbzT06Xc7zs"
      },
      "source": [
        "Model #3 | RandomFlip, RandomRotation = 0.5\n",
        ">> Model #2보다 더 나은 accuracy 결과를 얻기 위해 진행"
      ]
    },
    {
      "cell_type": "code",
      "metadata": {
        "id": "KlDZXC10Smf3"
      },
      "source": [
        "## Increase Rotation ratio\n",
        "\n",
        "data_augmentation_3 = tf.keras.Sequential([\n",
        "\n",
        "    layers.experimental.preprocessing.RandomFlip('horizontal_and_vertical'),\n",
        "    layers.experimental.preprocessing.RandomRotation(0.5)\n",
        "])"
      ],
      "execution_count": 45,
      "outputs": []
    },
    {
      "cell_type": "code",
      "metadata": {
        "id": "A2J9iIXMSmdB"
      },
      "source": [
        "c3 = 32\n",
        "c4 = 64\n",
        "n_dense_1 = 256"
      ],
      "execution_count": 46,
      "outputs": []
    },
    {
      "cell_type": "code",
      "metadata": {
        "id": "Sk8nubSeSmag"
      },
      "source": [
        "model_3 = tf.keras.Sequential([\n",
        "  data_augmentation_3,\n",
        "  layers.Conv2D(c3, (3, 3), padding='same', activation='relu', input_shape=(28, 28, 3)),\n",
        "  layers.MaxPooling2D(2, 2),\n",
        "  layers.Dropout(.5),\n",
        "  layers.Conv2D(c4, (3, 3), activation='relu'),\n",
        "  layers.Dropout(.5),\n",
        "  layers.MaxPooling2D((2, 2)),\n",
        "  layers.Flatten(),\n",
        "  layers.Dense(n_dense_1, activation='relu'),\n",
        "  layers.Dense(3, activation='softmax')  # 입력받은 값을 0-1 사이의 값으로 정규화\n",
        "])"
      ],
      "execution_count": 47,
      "outputs": []
    },
    {
      "cell_type": "code",
      "metadata": {
        "id": "Jx3gBFErSmYB"
      },
      "source": [
        "model_3.compile(optimizer='adam', loss='sparse_categorical_crossentropy',\n",
        "              metrics=['accuracy'])"
      ],
      "execution_count": 48,
      "outputs": []
    },
    {
      "cell_type": "code",
      "metadata": {
        "colab": {
          "base_uri": "https://localhost:8080/"
        },
        "id": "mGEIs_cBSmLq",
        "outputId": "6b39b575-6d50-4b64-e70f-fd7bdc6b54f3"
      },
      "source": [
        "model_3.fit(x_train_norm, y_train, epochs=20, validation_split=0.5)"
      ],
      "execution_count": 49,
      "outputs": [
        {
          "output_type": "stream",
          "text": [
            "Epoch 1/20\n",
            "56/56 [==============================] - 4s 58ms/step - loss: 0.7368 - accuracy: 0.5448 - val_loss: 2.5434 - val_accuracy: 0.1429\n",
            "Epoch 2/20\n",
            "56/56 [==============================] - 3s 54ms/step - loss: 0.6808 - accuracy: 0.5624 - val_loss: 3.7972 - val_accuracy: 0.0000e+00\n",
            "Epoch 3/20\n",
            "56/56 [==============================] - 3s 54ms/step - loss: 0.6831 - accuracy: 0.5823 - val_loss: 3.7355 - val_accuracy: 0.0993\n",
            "Epoch 4/20\n",
            "56/56 [==============================] - 3s 55ms/step - loss: 0.6731 - accuracy: 0.5743 - val_loss: 4.2441 - val_accuracy: 0.1435\n",
            "Epoch 5/20\n",
            "56/56 [==============================] - 3s 54ms/step - loss: 0.6596 - accuracy: 0.5993 - val_loss: 4.3483 - val_accuracy: 0.1214\n",
            "Epoch 6/20\n",
            "56/56 [==============================] - 3s 54ms/step - loss: 0.6478 - accuracy: 0.6243 - val_loss: 3.4181 - val_accuracy: 0.1679\n",
            "Epoch 7/20\n",
            "56/56 [==============================] - 3s 54ms/step - loss: 0.6443 - accuracy: 0.6198 - val_loss: 4.4877 - val_accuracy: 0.0862\n",
            "Epoch 8/20\n",
            "56/56 [==============================] - 3s 54ms/step - loss: 0.6277 - accuracy: 0.6442 - val_loss: 3.7383 - val_accuracy: 0.0726\n",
            "Epoch 9/20\n",
            "56/56 [==============================] - 3s 55ms/step - loss: 0.6235 - accuracy: 0.6493 - val_loss: 3.7552 - val_accuracy: 0.0715\n",
            "Epoch 10/20\n",
            "56/56 [==============================] - 3s 54ms/step - loss: 0.5938 - accuracy: 0.6839 - val_loss: 4.2551 - val_accuracy: 0.0233\n",
            "Epoch 11/20\n",
            "56/56 [==============================] - 3s 54ms/step - loss: 0.5852 - accuracy: 0.6833 - val_loss: 4.4528 - val_accuracy: 0.1134\n",
            "Epoch 12/20\n",
            "56/56 [==============================] - 3s 53ms/step - loss: 0.5634 - accuracy: 0.7026 - val_loss: 5.1823 - val_accuracy: 0.0766\n",
            "Epoch 13/20\n",
            "56/56 [==============================] - 3s 54ms/step - loss: 0.5578 - accuracy: 0.6964 - val_loss: 5.2356 - val_accuracy: 0.1486\n",
            "Epoch 14/20\n",
            "56/56 [==============================] - 3s 54ms/step - loss: 0.5348 - accuracy: 0.7350 - val_loss: 3.9333 - val_accuracy: 0.2019\n",
            "Epoch 15/20\n",
            "56/56 [==============================] - 3s 54ms/step - loss: 0.5165 - accuracy: 0.7463 - val_loss: 6.4842 - val_accuracy: 0.1134\n",
            "Epoch 16/20\n",
            "56/56 [==============================] - 3s 54ms/step - loss: 0.4936 - accuracy: 0.7526 - val_loss: 6.7531 - val_accuracy: 0.1475\n",
            "Epoch 17/20\n",
            "56/56 [==============================] - 3s 54ms/step - loss: 0.4796 - accuracy: 0.7781 - val_loss: 6.3912 - val_accuracy: 0.1384\n",
            "Epoch 18/20\n",
            "56/56 [==============================] - 3s 54ms/step - loss: 0.4440 - accuracy: 0.8104 - val_loss: 5.3664 - val_accuracy: 0.1917\n",
            "Epoch 19/20\n",
            "56/56 [==============================] - 3s 54ms/step - loss: 0.4595 - accuracy: 0.8019 - val_loss: 7.0142 - val_accuracy: 0.1356\n",
            "Epoch 20/20\n",
            "56/56 [==============================] - 3s 53ms/step - loss: 0.4356 - accuracy: 0.8036 - val_loss: 6.4976 - val_accuracy: 0.1832\n"
          ],
          "name": "stdout"
        },
        {
          "output_type": "execute_result",
          "data": {
            "text/plain": [
              "<tensorflow.python.keras.callbacks.History at 0x7fb3519dc050>"
            ]
          },
          "metadata": {
            "tags": []
          },
          "execution_count": 49
        }
      ]
    },
    {
      "cell_type": "markdown",
      "metadata": {
        "id": "9PQD741PeCnm"
      },
      "source": [
        "Model_1 Train Result : loss: 0.5611 - accuracy: 0.7624 - val_loss: 1.3630 - val_accuracy: 0.2506"
      ]
    },
    {
      "cell_type": "markdown",
      "metadata": {
        "id": "85YWRNThaeec"
      },
      "source": [
        "#### Test Data Load | Individual Dataset"
      ]
    },
    {
      "cell_type": "code",
      "metadata": {
        "id": "-XF33oWphSKd"
      },
      "source": [
        "###Test data\n",
        "# os.getcwd()\n",
        "test_img_path = '/content/drive/MyDrive/Colab Notebooks/aiffel_lms/lms_rock/new_test'\n",
        "\n",
        "test_img_path_r = glob(test_img_path + '/rock/*.jpg')\n",
        "test_img_path_s = glob(test_img_path + '/scissor/*.jpg')\n",
        "test_img_path_p = glob(test_img_path + '/paper/*.jpg')"
      ],
      "execution_count": 50,
      "outputs": []
    },
    {
      "cell_type": "code",
      "metadata": {
        "colab": {
          "base_uri": "https://localhost:8080/"
        },
        "id": "WoyOdJlWhSMm",
        "outputId": "8cbe8c3b-b40d-44bd-b085-52b44a65e1a6"
      },
      "source": [
        "count_image(test_img_path_r) \n",
        "count_image(test_img_path_p)\n",
        "count_image(test_img_path_s) \n"
      ],
      "execution_count": 51,
      "outputs": [
        {
          "output_type": "stream",
          "text": [
            "209 images are counted\n",
            "209 images are counted\n",
            "209 images are counted\n"
          ],
          "name": "stdout"
        }
      ]
    },
    {
      "cell_type": "code",
      "metadata": {
        "colab": {
          "base_uri": "https://localhost:8080/"
        },
        "id": "JH4FUkTGVuhp",
        "outputId": "99b7309c-b25b-4572-cb3b-0552ec5d052c"
      },
      "source": [
        "print(209+209+209)\n",
        "# 즉 전체 627개"
      ],
      "execution_count": 52,
      "outputs": [
        {
          "output_type": "stream",
          "text": [
            "627\n"
          ],
          "name": "stdout"
        }
      ]
    },
    {
      "cell_type": "code",
      "metadata": {
        "colab": {
          "base_uri": "https://localhost:8080/"
        },
        "id": "dk7iaLIThsD2",
        "outputId": "eb429c0b-b856-4192-b8c7-138b6ebc0fd6"
      },
      "source": [
        "# Bring Test Images\n",
        "(x_test, y_test) = load_data(test_img_path, 627)\n"
      ],
      "execution_count": 53,
      "outputs": [
        {
          "output_type": "stream",
          "text": [
            "학습데이터(x_train)의 이미지 개수는 627 입니다.\n"
          ],
          "name": "stdout"
        }
      ]
    },
    {
      "cell_type": "code",
      "metadata": {
        "colab": {
          "base_uri": "https://localhost:8080/"
        },
        "id": "DZ-2aIbthSVs",
        "outputId": "81da5f08-d542-48b1-ba1f-a4bf07536022"
      },
      "source": [
        "# model accuracy check_using model\n",
        "test_loss_t, test_accuracy_t = model_2.evaluate(x_test, y_test, verbose = 1)"
      ],
      "execution_count": 54,
      "outputs": [
        {
          "output_type": "stream",
          "text": [
            "20/20 [==============================] - 0s 9ms/step - loss: 497.7734 - accuracy: 0.3796\n"
          ],
          "name": "stdout"
        }
      ]
    },
    {
      "cell_type": "code",
      "metadata": {
        "colab": {
          "base_uri": "https://localhost:8080/"
        },
        "id": "6-xyTIMKhSYW",
        "outputId": "c09b981c-aa92-486c-db8a-c9fe5313f701"
      },
      "source": [
        "# model accuracy check_using model_1\n",
        "test_loss_t, test_accuracy_t = model_3.evaluate(x_test, y_test, verbose = 1)"
      ],
      "execution_count": 55,
      "outputs": [
        {
          "output_type": "stream",
          "text": [
            "20/20 [==============================] - 0s 12ms/step - loss: 637.1075 - accuracy: 0.3668\n"
          ],
          "name": "stdout"
        }
      ]
    },
    {
      "cell_type": "markdown",
      "metadata": {
        "id": "H9jJvq2UeVjA"
      },
      "source": [
        "# Conclusion\n",
        "1. Train Data와 Test Data를 아예 다른 이미지로 트레이닝 & 테스트를 진행했을 시 2개의 모델 다 예측률이 낮게 나옴\n",
        "2. Train 이미지에 비슷한 이미지가 많아서 이런 결과가 나왔을 수 있겠지만 추가적인 공부를 통해 문제를 해결해보고 싶음 \n",
        "3. 추후 Model을 체계적으로 설계해보고자 함 "
      ]
    }
  ]
}