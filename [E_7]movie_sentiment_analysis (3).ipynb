{
  "nbformat": 4,
  "nbformat_minor": 0,
  "metadata": {
    "colab": {
      "name": "[E_7]movie_sentiment_analysis.ipynb",
      "provenance": [],
      "collapsed_sections": []
    },
    "kernelspec": {
      "name": "python3",
      "display_name": "Python 3"
    },
    "language_info": {
      "name": "python"
    },
    "accelerator": "GPU"
  },
  "cells": [
    {
      "cell_type": "markdown",
      "metadata": {
        "id": "aBaE4qo_4s_E"
      },
      "source": [
        "### Naver Movie Review Sentiment Analysis\n",
        "- Word Embedding을 통해 리뷰의 내용이 긍정인지 부정인지 확인하고자 함 "
      ]
    },
    {
      "cell_type": "code",
      "metadata": {
        "colab": {
          "base_uri": "https://localhost:8080/"
        },
        "id": "jl9u3dIEywJI",
        "outputId": "ebb73cdf-2c77-4b17-a53c-4883d9e1fbe6"
      },
      "source": [
        "from google.colab import drive\n",
        "drive.mount('/content/drive')"
      ],
      "execution_count": 5,
      "outputs": [
        {
          "output_type": "stream",
          "text": [
            "Drive already mounted at /content/drive; to attempt to forcibly remount, call drive.mount(\"/content/drive\", force_remount=True).\n"
          ],
          "name": "stdout"
        }
      ]
    },
    {
      "cell_type": "code",
      "metadata": {
        "colab": {
          "base_uri": "https://localhost:8080/"
        },
        "id": "Mh2xSnvFzwWO",
        "outputId": "152b7a53-e811-4b12-bcd1-ab55d9fb7b2f"
      },
      "source": [
        "!apt-get update \n",
        "!apt-get install g++ openjdk-8-jdk \n",
        "!pip install konlpy JPype1-py3 \n",
        "!bash <(curl -s https://raw.githubusercontent.com/konlpy/konlpy/master/scripts/mecab.sh)\n"
      ],
      "execution_count": 6,
      "outputs": [
        {
          "output_type": "stream",
          "text": [
            "Get:1 https://cloud.r-project.org/bin/linux/ubuntu bionic-cran40/ InRelease [3,626 B]\n",
            "Ign:2 https://developer.download.nvidia.com/compute/cuda/repos/ubuntu1804/x86_64  InRelease\n",
            "Get:3 https://cloud.r-project.org/bin/linux/ubuntu bionic-cran40/ Packages [66.2 kB]\n",
            "Get:4 http://security.ubuntu.com/ubuntu bionic-security InRelease [88.7 kB]\n",
            "Ign:5 https://developer.download.nvidia.com/compute/machine-learning/repos/ubuntu1804/x86_64  InRelease\n",
            "Get:6 https://developer.download.nvidia.com/compute/cuda/repos/ubuntu1804/x86_64  Release [697 B]\n",
            "Hit:7 https://developer.download.nvidia.com/compute/machine-learning/repos/ubuntu1804/x86_64  Release\n",
            "Hit:8 http://archive.ubuntu.com/ubuntu bionic InRelease\n",
            "Get:9 http://ppa.launchpad.net/c2d4u.team/c2d4u4.0+/ubuntu bionic InRelease [15.9 kB]\n",
            "Get:10 https://developer.download.nvidia.com/compute/cuda/repos/ubuntu1804/x86_64  Release.gpg [836 B]\n",
            "Get:12 http://archive.ubuntu.com/ubuntu bionic-updates InRelease [88.7 kB]\n",
            "Hit:13 http://ppa.launchpad.net/cran/libgit2/ubuntu bionic InRelease\n",
            "Ign:14 https://developer.download.nvidia.com/compute/cuda/repos/ubuntu1804/x86_64  Packages\n",
            "Get:14 https://developer.download.nvidia.com/compute/cuda/repos/ubuntu1804/x86_64  Packages [695 kB]\n",
            "Get:15 http://archive.ubuntu.com/ubuntu bionic-backports InRelease [74.6 kB]\n",
            "Get:16 http://ppa.launchpad.net/deadsnakes/ppa/ubuntu bionic InRelease [15.9 kB]\n",
            "Get:17 http://security.ubuntu.com/ubuntu bionic-security/main amd64 Packages [2,263 kB]\n",
            "Get:18 http://archive.ubuntu.com/ubuntu bionic-updates/restricted amd64 Packages [544 kB]\n",
            "Get:19 http://ppa.launchpad.net/graphics-drivers/ppa/ubuntu bionic InRelease [21.3 kB]\n",
            "Get:20 http://security.ubuntu.com/ubuntu bionic-security/universe amd64 Packages [1,421 kB]\n",
            "Get:21 http://security.ubuntu.com/ubuntu bionic-security/multiverse amd64 Packages [26.7 kB]\n",
            "Get:22 http://security.ubuntu.com/ubuntu bionic-security/restricted amd64 Packages [510 kB]\n",
            "Get:23 http://archive.ubuntu.com/ubuntu bionic-updates/multiverse amd64 Packages [39.4 kB]\n",
            "Get:24 http://archive.ubuntu.com/ubuntu bionic-updates/universe amd64 Packages [2,196 kB]\n",
            "Get:25 http://ppa.launchpad.net/c2d4u.team/c2d4u4.0+/ubuntu bionic/main Sources [1,786 kB]\n",
            "Get:26 http://archive.ubuntu.com/ubuntu bionic-updates/main amd64 Packages [2,699 kB]\n",
            "Get:27 http://ppa.launchpad.net/c2d4u.team/c2d4u4.0+/ubuntu bionic/main amd64 Packages [914 kB]\n",
            "Get:28 http://ppa.launchpad.net/deadsnakes/ppa/ubuntu bionic/main amd64 Packages [40.9 kB]\n",
            "Get:29 http://ppa.launchpad.net/graphics-drivers/ppa/ubuntu bionic/main amd64 Packages [44.1 kB]\n",
            "Fetched 13.6 MB in 8s (1,635 kB/s)\n",
            "Reading package lists... Done\n",
            "Reading package lists... Done\n",
            "Building dependency tree       \n",
            "Reading state information... Done\n",
            "g++ is already the newest version (4:7.4.0-1ubuntu2.3).\n",
            "g++ set to manually installed.\n",
            "The following additional packages will be installed:\n",
            "  fonts-dejavu-core fonts-dejavu-extra libatk-wrapper-java\n",
            "  libatk-wrapper-java-jni libgail-common libgail18 libgtk2.0-0 libgtk2.0-bin\n",
            "  libgtk2.0-common libxxf86dga1 openjdk-8-jdk-headless openjdk-8-jre\n",
            "  openjdk-8-jre-headless x11-utils\n",
            "Suggested packages:\n",
            "  gvfs openjdk-8-demo openjdk-8-source visualvm icedtea-8-plugin libnss-mdns\n",
            "  fonts-ipafont-gothic fonts-ipafont-mincho fonts-wqy-microhei\n",
            "  fonts-wqy-zenhei fonts-indic mesa-utils\n",
            "The following NEW packages will be installed:\n",
            "  fonts-dejavu-core fonts-dejavu-extra libatk-wrapper-java\n",
            "  libatk-wrapper-java-jni libgail-common libgail18 libgtk2.0-0 libgtk2.0-bin\n",
            "  libgtk2.0-common libxxf86dga1 openjdk-8-jdk openjdk-8-jdk-headless\n",
            "  openjdk-8-jre openjdk-8-jre-headless x11-utils\n",
            "0 upgraded, 15 newly installed, 0 to remove and 104 not upgraded.\n",
            "Need to get 43.5 MB of archives.\n",
            "After this operation, 163 MB of additional disk space will be used.\n",
            "Get:1 http://archive.ubuntu.com/ubuntu bionic/main amd64 libxxf86dga1 amd64 2:1.1.4-1 [13.7 kB]\n",
            "Get:2 http://archive.ubuntu.com/ubuntu bionic/main amd64 fonts-dejavu-core all 2.37-1 [1,041 kB]\n",
            "Get:3 http://archive.ubuntu.com/ubuntu bionic/main amd64 fonts-dejavu-extra all 2.37-1 [1,953 kB]\n",
            "Get:4 http://archive.ubuntu.com/ubuntu bionic/main amd64 x11-utils amd64 7.7+3build1 [196 kB]\n",
            "Get:5 http://archive.ubuntu.com/ubuntu bionic/main amd64 libatk-wrapper-java all 0.33.3-20ubuntu0.1 [34.7 kB]\n",
            "Get:6 http://archive.ubuntu.com/ubuntu bionic/main amd64 libatk-wrapper-java-jni amd64 0.33.3-20ubuntu0.1 [28.3 kB]\n",
            "Get:7 http://archive.ubuntu.com/ubuntu bionic/main amd64 libgtk2.0-common all 2.24.32-1ubuntu1 [125 kB]\n",
            "Get:8 http://archive.ubuntu.com/ubuntu bionic/main amd64 libgtk2.0-0 amd64 2.24.32-1ubuntu1 [1,769 kB]\n",
            "Get:9 http://archive.ubuntu.com/ubuntu bionic/main amd64 libgail18 amd64 2.24.32-1ubuntu1 [14.2 kB]\n",
            "Get:10 http://archive.ubuntu.com/ubuntu bionic/main amd64 libgail-common amd64 2.24.32-1ubuntu1 [112 kB]\n",
            "Get:11 http://archive.ubuntu.com/ubuntu bionic/main amd64 libgtk2.0-bin amd64 2.24.32-1ubuntu1 [7,536 B]\n",
            "Get:12 http://archive.ubuntu.com/ubuntu bionic-updates/universe amd64 openjdk-8-jre-headless amd64 8u292-b10-0ubuntu1~18.04 [28.2 MB]\n",
            "Get:13 http://archive.ubuntu.com/ubuntu bionic-updates/universe amd64 openjdk-8-jre amd64 8u292-b10-0ubuntu1~18.04 [69.6 kB]\n",
            "Get:14 http://archive.ubuntu.com/ubuntu bionic-updates/universe amd64 openjdk-8-jdk-headless amd64 8u292-b10-0ubuntu1~18.04 [8,284 kB]\n",
            "Get:15 http://archive.ubuntu.com/ubuntu bionic-updates/universe amd64 openjdk-8-jdk amd64 8u292-b10-0ubuntu1~18.04 [1,644 kB]\n",
            "Fetched 43.5 MB in 6s (7,876 kB/s)\n",
            "Selecting previously unselected package libxxf86dga1:amd64.\n",
            "(Reading database ... 160837 files and directories currently installed.)\n",
            "Preparing to unpack .../00-libxxf86dga1_2%3a1.1.4-1_amd64.deb ...\n",
            "Unpacking libxxf86dga1:amd64 (2:1.1.4-1) ...\n",
            "Selecting previously unselected package fonts-dejavu-core.\n",
            "Preparing to unpack .../01-fonts-dejavu-core_2.37-1_all.deb ...\n",
            "Unpacking fonts-dejavu-core (2.37-1) ...\n",
            "Selecting previously unselected package fonts-dejavu-extra.\n",
            "Preparing to unpack .../02-fonts-dejavu-extra_2.37-1_all.deb ...\n",
            "Unpacking fonts-dejavu-extra (2.37-1) ...\n",
            "Selecting previously unselected package x11-utils.\n",
            "Preparing to unpack .../03-x11-utils_7.7+3build1_amd64.deb ...\n",
            "Unpacking x11-utils (7.7+3build1) ...\n",
            "Selecting previously unselected package libatk-wrapper-java.\n",
            "Preparing to unpack .../04-libatk-wrapper-java_0.33.3-20ubuntu0.1_all.deb ...\n",
            "Unpacking libatk-wrapper-java (0.33.3-20ubuntu0.1) ...\n",
            "Selecting previously unselected package libatk-wrapper-java-jni:amd64.\n",
            "Preparing to unpack .../05-libatk-wrapper-java-jni_0.33.3-20ubuntu0.1_amd64.deb ...\n",
            "Unpacking libatk-wrapper-java-jni:amd64 (0.33.3-20ubuntu0.1) ...\n",
            "Selecting previously unselected package libgtk2.0-common.\n",
            "Preparing to unpack .../06-libgtk2.0-common_2.24.32-1ubuntu1_all.deb ...\n",
            "Unpacking libgtk2.0-common (2.24.32-1ubuntu1) ...\n",
            "Selecting previously unselected package libgtk2.0-0:amd64.\n",
            "Preparing to unpack .../07-libgtk2.0-0_2.24.32-1ubuntu1_amd64.deb ...\n",
            "Unpacking libgtk2.0-0:amd64 (2.24.32-1ubuntu1) ...\n",
            "Selecting previously unselected package libgail18:amd64.\n",
            "Preparing to unpack .../08-libgail18_2.24.32-1ubuntu1_amd64.deb ...\n",
            "Unpacking libgail18:amd64 (2.24.32-1ubuntu1) ...\n",
            "Selecting previously unselected package libgail-common:amd64.\n",
            "Preparing to unpack .../09-libgail-common_2.24.32-1ubuntu1_amd64.deb ...\n",
            "Unpacking libgail-common:amd64 (2.24.32-1ubuntu1) ...\n",
            "Selecting previously unselected package libgtk2.0-bin.\n",
            "Preparing to unpack .../10-libgtk2.0-bin_2.24.32-1ubuntu1_amd64.deb ...\n",
            "Unpacking libgtk2.0-bin (2.24.32-1ubuntu1) ...\n",
            "Selecting previously unselected package openjdk-8-jre-headless:amd64.\n",
            "Preparing to unpack .../11-openjdk-8-jre-headless_8u292-b10-0ubuntu1~18.04_amd64.deb ...\n",
            "Unpacking openjdk-8-jre-headless:amd64 (8u292-b10-0ubuntu1~18.04) ...\n",
            "Selecting previously unselected package openjdk-8-jre:amd64.\n",
            "Preparing to unpack .../12-openjdk-8-jre_8u292-b10-0ubuntu1~18.04_amd64.deb ...\n",
            "Unpacking openjdk-8-jre:amd64 (8u292-b10-0ubuntu1~18.04) ...\n",
            "Selecting previously unselected package openjdk-8-jdk-headless:amd64.\n",
            "Preparing to unpack .../13-openjdk-8-jdk-headless_8u292-b10-0ubuntu1~18.04_amd64.deb ...\n",
            "Unpacking openjdk-8-jdk-headless:amd64 (8u292-b10-0ubuntu1~18.04) ...\n",
            "Selecting previously unselected package openjdk-8-jdk:amd64.\n",
            "Preparing to unpack .../14-openjdk-8-jdk_8u292-b10-0ubuntu1~18.04_amd64.deb ...\n",
            "Unpacking openjdk-8-jdk:amd64 (8u292-b10-0ubuntu1~18.04) ...\n",
            "Setting up libgtk2.0-common (2.24.32-1ubuntu1) ...\n",
            "Setting up fonts-dejavu-core (2.37-1) ...\n",
            "Setting up libxxf86dga1:amd64 (2:1.1.4-1) ...\n",
            "Setting up fonts-dejavu-extra (2.37-1) ...\n",
            "Setting up openjdk-8-jre-headless:amd64 (8u292-b10-0ubuntu1~18.04) ...\n",
            "update-alternatives: using /usr/lib/jvm/java-8-openjdk-amd64/jre/bin/orbd to provide /usr/bin/orbd (orbd) in auto mode\n",
            "update-alternatives: using /usr/lib/jvm/java-8-openjdk-amd64/jre/bin/servertool to provide /usr/bin/servertool (servertool) in auto mode\n",
            "update-alternatives: using /usr/lib/jvm/java-8-openjdk-amd64/jre/bin/tnameserv to provide /usr/bin/tnameserv (tnameserv) in auto mode\n",
            "Setting up libgtk2.0-0:amd64 (2.24.32-1ubuntu1) ...\n",
            "Setting up libgail18:amd64 (2.24.32-1ubuntu1) ...\n",
            "Setting up openjdk-8-jdk-headless:amd64 (8u292-b10-0ubuntu1~18.04) ...\n",
            "update-alternatives: using /usr/lib/jvm/java-8-openjdk-amd64/bin/idlj to provide /usr/bin/idlj (idlj) in auto mode\n",
            "update-alternatives: using /usr/lib/jvm/java-8-openjdk-amd64/bin/wsimport to provide /usr/bin/wsimport (wsimport) in auto mode\n",
            "update-alternatives: using /usr/lib/jvm/java-8-openjdk-amd64/bin/jsadebugd to provide /usr/bin/jsadebugd (jsadebugd) in auto mode\n",
            "update-alternatives: using /usr/lib/jvm/java-8-openjdk-amd64/bin/native2ascii to provide /usr/bin/native2ascii (native2ascii) in auto mode\n",
            "update-alternatives: using /usr/lib/jvm/java-8-openjdk-amd64/bin/javah to provide /usr/bin/javah (javah) in auto mode\n",
            "update-alternatives: using /usr/lib/jvm/java-8-openjdk-amd64/bin/hsdb to provide /usr/bin/hsdb (hsdb) in auto mode\n",
            "update-alternatives: using /usr/lib/jvm/java-8-openjdk-amd64/bin/clhsdb to provide /usr/bin/clhsdb (clhsdb) in auto mode\n",
            "update-alternatives: using /usr/lib/jvm/java-8-openjdk-amd64/bin/extcheck to provide /usr/bin/extcheck (extcheck) in auto mode\n",
            "update-alternatives: using /usr/lib/jvm/java-8-openjdk-amd64/bin/schemagen to provide /usr/bin/schemagen (schemagen) in auto mode\n",
            "update-alternatives: using /usr/lib/jvm/java-8-openjdk-amd64/bin/xjc to provide /usr/bin/xjc (xjc) in auto mode\n",
            "update-alternatives: using /usr/lib/jvm/java-8-openjdk-amd64/bin/jhat to provide /usr/bin/jhat (jhat) in auto mode\n",
            "update-alternatives: using /usr/lib/jvm/java-8-openjdk-amd64/bin/wsgen to provide /usr/bin/wsgen (wsgen) in auto mode\n",
            "Setting up x11-utils (7.7+3build1) ...\n",
            "Setting up libgail-common:amd64 (2.24.32-1ubuntu1) ...\n",
            "Setting up libatk-wrapper-java (0.33.3-20ubuntu0.1) ...\n",
            "Setting up libgtk2.0-bin (2.24.32-1ubuntu1) ...\n",
            "Setting up libatk-wrapper-java-jni:amd64 (0.33.3-20ubuntu0.1) ...\n",
            "Setting up openjdk-8-jre:amd64 (8u292-b10-0ubuntu1~18.04) ...\n",
            "update-alternatives: using /usr/lib/jvm/java-8-openjdk-amd64/jre/bin/policytool to provide /usr/bin/policytool (policytool) in auto mode\n",
            "Setting up openjdk-8-jdk:amd64 (8u292-b10-0ubuntu1~18.04) ...\n",
            "update-alternatives: using /usr/lib/jvm/java-8-openjdk-amd64/bin/appletviewer to provide /usr/bin/appletviewer (appletviewer) in auto mode\n",
            "update-alternatives: using /usr/lib/jvm/java-8-openjdk-amd64/bin/jconsole to provide /usr/bin/jconsole (jconsole) in auto mode\n",
            "Processing triggers for man-db (2.8.3-2ubuntu0.1) ...\n",
            "Processing triggers for hicolor-icon-theme (0.17-2) ...\n",
            "Processing triggers for fontconfig (2.12.6-0ubuntu2) ...\n",
            "Processing triggers for mime-support (3.60ubuntu1) ...\n",
            "Processing triggers for libc-bin (2.27-3ubuntu1.2) ...\n",
            "/sbin/ldconfig.real: /usr/local/lib/python3.7/dist-packages/ideep4py/lib/libmkldnn.so.0 is not a symbolic link\n",
            "\n",
            "Collecting konlpy\n",
            "  Downloading konlpy-0.5.2-py2.py3-none-any.whl (19.4 MB)\n",
            "\u001b[K     |████████████████████████████████| 19.4 MB 1.2 MB/s \n",
            "\u001b[?25hCollecting JPype1-py3\n",
            "  Downloading JPype1-py3-0.5.5.4.tar.gz (88 kB)\n",
            "\u001b[K     |████████████████████████████████| 88 kB 5.9 MB/s \n",
            "\u001b[?25hRequirement already satisfied: numpy>=1.6 in /usr/local/lib/python3.7/dist-packages (from konlpy) (1.19.5)\n",
            "Collecting colorama\n",
            "  Downloading colorama-0.4.4-py2.py3-none-any.whl (16 kB)\n",
            "Requirement already satisfied: lxml>=4.1.0 in /usr/local/lib/python3.7/dist-packages (from konlpy) (4.2.6)\n",
            "Collecting JPype1>=0.7.0\n",
            "  Downloading JPype1-1.3.0-cp37-cp37m-manylinux_2_5_x86_64.manylinux1_x86_64.whl (448 kB)\n",
            "\u001b[K     |████████████████████████████████| 448 kB 49.5 MB/s \n",
            "\u001b[?25hCollecting beautifulsoup4==4.6.0\n",
            "  Downloading beautifulsoup4-4.6.0-py3-none-any.whl (86 kB)\n",
            "\u001b[K     |████████████████████████████████| 86 kB 5.9 MB/s \n",
            "\u001b[?25hRequirement already satisfied: tweepy>=3.7.0 in /usr/local/lib/python3.7/dist-packages (from konlpy) (3.10.0)\n",
            "Requirement already satisfied: typing-extensions in /usr/local/lib/python3.7/dist-packages (from JPype1>=0.7.0->konlpy) (3.7.4.3)\n",
            "Requirement already satisfied: six>=1.10.0 in /usr/local/lib/python3.7/dist-packages (from tweepy>=3.7.0->konlpy) (1.15.0)\n",
            "Requirement already satisfied: requests-oauthlib>=0.7.0 in /usr/local/lib/python3.7/dist-packages (from tweepy>=3.7.0->konlpy) (1.3.0)\n",
            "Requirement already satisfied: requests[socks]>=2.11.1 in /usr/local/lib/python3.7/dist-packages (from tweepy>=3.7.0->konlpy) (2.23.0)\n",
            "Requirement already satisfied: oauthlib>=3.0.0 in /usr/local/lib/python3.7/dist-packages (from requests-oauthlib>=0.7.0->tweepy>=3.7.0->konlpy) (3.1.1)\n",
            "Requirement already satisfied: certifi>=2017.4.17 in /usr/local/lib/python3.7/dist-packages (from requests[socks]>=2.11.1->tweepy>=3.7.0->konlpy) (2021.5.30)\n",
            "Requirement already satisfied: chardet<4,>=3.0.2 in /usr/local/lib/python3.7/dist-packages (from requests[socks]>=2.11.1->tweepy>=3.7.0->konlpy) (3.0.4)\n",
            "Requirement already satisfied: urllib3!=1.25.0,!=1.25.1,<1.26,>=1.21.1 in /usr/local/lib/python3.7/dist-packages (from requests[socks]>=2.11.1->tweepy>=3.7.0->konlpy) (1.24.3)\n",
            "Requirement already satisfied: idna<3,>=2.5 in /usr/local/lib/python3.7/dist-packages (from requests[socks]>=2.11.1->tweepy>=3.7.0->konlpy) (2.10)\n",
            "Requirement already satisfied: PySocks!=1.5.7,>=1.5.6 in /usr/local/lib/python3.7/dist-packages (from requests[socks]>=2.11.1->tweepy>=3.7.0->konlpy) (1.7.1)\n",
            "Building wheels for collected packages: JPype1-py3\n",
            "  Building wheel for JPype1-py3 (setup.py) ... \u001b[?25l\u001b[?25hdone\n",
            "  Created wheel for JPype1-py3: filename=JPype1_py3-0.5.5.4-cp37-cp37m-linux_x86_64.whl size=2666710 sha256=6bb3c0d80b1b3340f626d6cad60626666aef0a7c0b18a094a3b22b83c456f45a\n",
            "  Stored in directory: /root/.cache/pip/wheels/e7/d1/09/f55dca0203b0691945bdf0f63d486a0b4d4e5ec4bd78a2502e\n",
            "Successfully built JPype1-py3\n",
            "Installing collected packages: JPype1, colorama, beautifulsoup4, konlpy, JPype1-py3\n",
            "  Attempting uninstall: beautifulsoup4\n",
            "    Found existing installation: beautifulsoup4 4.6.3\n",
            "    Uninstalling beautifulsoup4-4.6.3:\n",
            "      Successfully uninstalled beautifulsoup4-4.6.3\n",
            "Successfully installed JPype1-1.3.0 JPype1-py3-0.5.5.4 beautifulsoup4-4.6.0 colorama-0.4.4 konlpy-0.5.2\n",
            "Installing automake (A dependency for mecab-ko)\n",
            "Hit:1 https://cloud.r-project.org/bin/linux/ubuntu bionic-cran40/ InRelease\n",
            "Ign:2 https://developer.download.nvidia.com/compute/cuda/repos/ubuntu1804/x86_64  InRelease\n",
            "Hit:3 http://security.ubuntu.com/ubuntu bionic-security InRelease\n",
            "Ign:4 https://developer.download.nvidia.com/compute/machine-learning/repos/ubuntu1804/x86_64  InRelease\n",
            "Hit:5 https://developer.download.nvidia.com/compute/cuda/repos/ubuntu1804/x86_64  Release\n",
            "Hit:6 https://developer.download.nvidia.com/compute/machine-learning/repos/ubuntu1804/x86_64  Release\n",
            "Hit:7 http://ppa.launchpad.net/c2d4u.team/c2d4u4.0+/ubuntu bionic InRelease\n",
            "Hit:8 http://archive.ubuntu.com/ubuntu bionic InRelease\n",
            "Hit:11 http://archive.ubuntu.com/ubuntu bionic-updates InRelease\n",
            "Hit:12 http://archive.ubuntu.com/ubuntu bionic-backports InRelease\n",
            "Hit:13 http://ppa.launchpad.net/cran/libgit2/ubuntu bionic InRelease\n",
            "Hit:14 http://ppa.launchpad.net/deadsnakes/ppa/ubuntu bionic InRelease\n",
            "Hit:15 http://ppa.launchpad.net/graphics-drivers/ppa/ubuntu bionic InRelease\n",
            "Reading package lists... Done\n",
            "Reading package lists... Done\n",
            "Building dependency tree       \n",
            "Reading state information... Done\n",
            "The following additional packages will be installed:\n",
            "  autoconf autotools-dev libsigsegv2 m4\n",
            "Suggested packages:\n",
            "  autoconf-archive gnu-standards autoconf-doc libtool gettext m4-doc\n",
            "The following NEW packages will be installed:\n",
            "  autoconf automake autotools-dev libsigsegv2 m4\n",
            "0 upgraded, 5 newly installed, 0 to remove and 104 not upgraded.\n",
            "Need to get 1,082 kB of archives.\n",
            "After this operation, 3,994 kB of additional disk space will be used.\n",
            "Get:1 http://archive.ubuntu.com/ubuntu bionic/main amd64 libsigsegv2 amd64 2.12-1 [14.7 kB]\n",
            "Get:2 http://archive.ubuntu.com/ubuntu bionic/main amd64 m4 amd64 1.4.18-1 [197 kB]\n",
            "Get:3 http://archive.ubuntu.com/ubuntu bionic/main amd64 autoconf all 2.69-11 [322 kB]\n",
            "Get:4 http://archive.ubuntu.com/ubuntu bionic/main amd64 autotools-dev all 20180224.1 [39.6 kB]\n",
            "Get:5 http://archive.ubuntu.com/ubuntu bionic/main amd64 automake all 1:1.15.1-3ubuntu2 [509 kB]\n",
            "Fetched 1,082 kB in 2s (497 kB/s)\n",
            "debconf: unable to initialize frontend: Dialog\n",
            "debconf: (No usable dialog-like program is installed, so the dialog based frontend cannot be used. at /usr/share/perl5/Debconf/FrontEnd/Dialog.pm line 76, <> line 5.)\n",
            "debconf: falling back to frontend: Readline\n",
            "debconf: unable to initialize frontend: Readline\n",
            "debconf: (This frontend requires a controlling tty.)\n",
            "debconf: falling back to frontend: Teletype\n",
            "dpkg-preconfigure: unable to re-open stdin: \n",
            "Selecting previously unselected package libsigsegv2:amd64.\n",
            "(Reading database ... 161413 files and directories currently installed.)\n",
            "Preparing to unpack .../libsigsegv2_2.12-1_amd64.deb ...\n",
            "Unpacking libsigsegv2:amd64 (2.12-1) ...\n",
            "Selecting previously unselected package m4.\n",
            "Preparing to unpack .../archives/m4_1.4.18-1_amd64.deb ...\n",
            "Unpacking m4 (1.4.18-1) ...\n",
            "Selecting previously unselected package autoconf.\n",
            "Preparing to unpack .../autoconf_2.69-11_all.deb ...\n",
            "Unpacking autoconf (2.69-11) ...\n",
            "Selecting previously unselected package autotools-dev.\n",
            "Preparing to unpack .../autotools-dev_20180224.1_all.deb ...\n",
            "Unpacking autotools-dev (20180224.1) ...\n",
            "Selecting previously unselected package automake.\n",
            "Preparing to unpack .../automake_1%3a1.15.1-3ubuntu2_all.deb ...\n",
            "Unpacking automake (1:1.15.1-3ubuntu2) ...\n",
            "Setting up libsigsegv2:amd64 (2.12-1) ...\n",
            "Setting up m4 (1.4.18-1) ...\n",
            "Setting up autotools-dev (20180224.1) ...\n",
            "Setting up autoconf (2.69-11) ...\n",
            "Setting up automake (1:1.15.1-3ubuntu2) ...\n",
            "update-alternatives: using /usr/bin/automake-1.15 to provide /usr/bin/automake (automake) in auto mode\n",
            "Processing triggers for libc-bin (2.27-3ubuntu1.2) ...\n",
            "/sbin/ldconfig.real: /usr/local/lib/python3.7/dist-packages/ideep4py/lib/libmkldnn.so.0 is not a symbolic link\n",
            "\n",
            "Processing triggers for man-db (2.8.3-2ubuntu0.1) ...\n",
            "Install mecab-ko-dic\n",
            "  % Total    % Received % Xferd  Average Speed   Time    Time     Time  Current\n",
            "                                 Dload  Upload   Total   Spent    Left  Speed\n",
            "  0     0    0     0    0     0      0      0 --:--:-- --:--:-- --:--:--     0\n",
            "100 1381k  100 1381k    0     0   513k      0  0:00:02  0:00:02 --:--:-- 1044k\n",
            "mecab-0.996-ko-0.9.2/\n",
            "mecab-0.996-ko-0.9.2/example/\n",
            "mecab-0.996-ko-0.9.2/example/example.cpp\n",
            "mecab-0.996-ko-0.9.2/example/example_lattice.cpp\n",
            "mecab-0.996-ko-0.9.2/example/example_lattice.c\n",
            "mecab-0.996-ko-0.9.2/example/example.c\n",
            "mecab-0.996-ko-0.9.2/example/thread_test.cpp\n",
            "mecab-0.996-ko-0.9.2/mecab-config.in\n",
            "mecab-0.996-ko-0.9.2/man/\n",
            "mecab-0.996-ko-0.9.2/man/Makefile.am\n",
            "mecab-0.996-ko-0.9.2/man/mecab.1\n",
            "mecab-0.996-ko-0.9.2/man/Makefile.in\n",
            "mecab-0.996-ko-0.9.2/mecab.iss.in\n",
            "mecab-0.996-ko-0.9.2/config.guess\n",
            "mecab-0.996-ko-0.9.2/README\n",
            "mecab-0.996-ko-0.9.2/COPYING\n",
            "mecab-0.996-ko-0.9.2/CHANGES.md\n",
            "mecab-0.996-ko-0.9.2/README.md\n",
            "mecab-0.996-ko-0.9.2/INSTALL\n",
            "mecab-0.996-ko-0.9.2/config.sub\n",
            "mecab-0.996-ko-0.9.2/configure.in\n",
            "mecab-0.996-ko-0.9.2/swig/\n",
            "mecab-0.996-ko-0.9.2/swig/Makefile\n",
            "mecab-0.996-ko-0.9.2/swig/version.h.in\n",
            "mecab-0.996-ko-0.9.2/swig/version.h\n",
            "mecab-0.996-ko-0.9.2/swig/MeCab.i\n",
            "mecab-0.996-ko-0.9.2/aclocal.m4\n",
            "mecab-0.996-ko-0.9.2/LGPL\n",
            "mecab-0.996-ko-0.9.2/Makefile.am\n",
            "mecab-0.996-ko-0.9.2/configure\n",
            "mecab-0.996-ko-0.9.2/tests/\n",
            "mecab-0.996-ko-0.9.2/tests/autolink/\n",
            "mecab-0.996-ko-0.9.2/tests/autolink/unk.def\n",
            "mecab-0.996-ko-0.9.2/tests/autolink/dicrc\n",
            "mecab-0.996-ko-0.9.2/tests/autolink/dic.csv\n",
            "mecab-0.996-ko-0.9.2/tests/autolink/test\n",
            "mecab-0.996-ko-0.9.2/tests/autolink/char.def\n",
            "mecab-0.996-ko-0.9.2/tests/autolink/matrix.def\n",
            "mecab-0.996-ko-0.9.2/tests/autolink/test.gld\n",
            "mecab-0.996-ko-0.9.2/tests/t9/\n",
            "mecab-0.996-ko-0.9.2/tests/t9/unk.def\n",
            "mecab-0.996-ko-0.9.2/tests/t9/ipadic.pl\n",
            "mecab-0.996-ko-0.9.2/tests/t9/dicrc\n",
            "mecab-0.996-ko-0.9.2/tests/t9/dic.csv\n",
            "mecab-0.996-ko-0.9.2/tests/t9/test\n",
            "mecab-0.996-ko-0.9.2/tests/t9/char.def\n",
            "mecab-0.996-ko-0.9.2/tests/t9/matrix.def\n",
            "mecab-0.996-ko-0.9.2/tests/t9/mkdic.pl\n",
            "mecab-0.996-ko-0.9.2/tests/t9/test.gld\n",
            "mecab-0.996-ko-0.9.2/tests/cost-train/\n",
            "mecab-0.996-ko-0.9.2/tests/cost-train/ipa.train\n",
            "mecab-0.996-ko-0.9.2/tests/cost-train/ipa.test\n",
            "mecab-0.996-ko-0.9.2/tests/cost-train/seed/\n",
            "mecab-0.996-ko-0.9.2/tests/cost-train/seed/rewrite.def\n",
            "mecab-0.996-ko-0.9.2/tests/cost-train/seed/feature.def\n",
            "mecab-0.996-ko-0.9.2/tests/cost-train/seed/unk.def\n",
            "mecab-0.996-ko-0.9.2/tests/cost-train/seed/dicrc\n",
            "mecab-0.996-ko-0.9.2/tests/cost-train/seed/dic.csv\n",
            "mecab-0.996-ko-0.9.2/tests/cost-train/seed/char.def\n",
            "mecab-0.996-ko-0.9.2/tests/cost-train/seed/matrix.def\n",
            "mecab-0.996-ko-0.9.2/tests/run-eval.sh\n",
            "mecab-0.996-ko-0.9.2/tests/run-cost-train.sh\n",
            "mecab-0.996-ko-0.9.2/tests/Makefile.am\n",
            "mecab-0.996-ko-0.9.2/tests/katakana/\n",
            "mecab-0.996-ko-0.9.2/tests/katakana/unk.def\n",
            "mecab-0.996-ko-0.9.2/tests/katakana/dicrc\n",
            "mecab-0.996-ko-0.9.2/tests/katakana/dic.csv\n",
            "mecab-0.996-ko-0.9.2/tests/katakana/test\n",
            "mecab-0.996-ko-0.9.2/tests/katakana/char.def\n",
            "mecab-0.996-ko-0.9.2/tests/katakana/matrix.def\n",
            "mecab-0.996-ko-0.9.2/tests/katakana/test.gld\n",
            "mecab-0.996-ko-0.9.2/tests/eval/\n",
            "mecab-0.996-ko-0.9.2/tests/eval/answer\n",
            "mecab-0.996-ko-0.9.2/tests/eval/system\n",
            "mecab-0.996-ko-0.9.2/tests/eval/test.gld\n",
            "mecab-0.996-ko-0.9.2/tests/shiin/\n",
            "mecab-0.996-ko-0.9.2/tests/shiin/unk.def\n",
            "mecab-0.996-ko-0.9.2/tests/shiin/dicrc\n",
            "mecab-0.996-ko-0.9.2/tests/shiin/dic.csv\n",
            "mecab-0.996-ko-0.9.2/tests/shiin/test\n",
            "mecab-0.996-ko-0.9.2/tests/shiin/char.def\n",
            "mecab-0.996-ko-0.9.2/tests/shiin/matrix.def\n",
            "mecab-0.996-ko-0.9.2/tests/shiin/mkdic.pl\n",
            "mecab-0.996-ko-0.9.2/tests/shiin/test.gld\n",
            "mecab-0.996-ko-0.9.2/tests/latin/\n",
            "mecab-0.996-ko-0.9.2/tests/latin/unk.def\n",
            "mecab-0.996-ko-0.9.2/tests/latin/dicrc\n",
            "mecab-0.996-ko-0.9.2/tests/latin/dic.csv\n",
            "mecab-0.996-ko-0.9.2/tests/latin/test\n",
            "mecab-0.996-ko-0.9.2/tests/latin/char.def\n",
            "mecab-0.996-ko-0.9.2/tests/latin/matrix.def\n",
            "mecab-0.996-ko-0.9.2/tests/latin/test.gld\n",
            "mecab-0.996-ko-0.9.2/tests/chartype/\n",
            "mecab-0.996-ko-0.9.2/tests/chartype/unk.def\n",
            "mecab-0.996-ko-0.9.2/tests/chartype/dicrc\n",
            "mecab-0.996-ko-0.9.2/tests/chartype/dic.csv\n",
            "mecab-0.996-ko-0.9.2/tests/chartype/test\n",
            "mecab-0.996-ko-0.9.2/tests/chartype/char.def\n",
            "mecab-0.996-ko-0.9.2/tests/chartype/matrix.def\n",
            "mecab-0.996-ko-0.9.2/tests/chartype/test.gld\n",
            "mecab-0.996-ko-0.9.2/tests/run-dics.sh\n",
            "mecab-0.996-ko-0.9.2/tests/ngram/\n",
            "mecab-0.996-ko-0.9.2/tests/ngram/unk.def\n",
            "mecab-0.996-ko-0.9.2/tests/ngram/dicrc\n",
            "mecab-0.996-ko-0.9.2/tests/ngram/dic.csv\n",
            "mecab-0.996-ko-0.9.2/tests/ngram/test\n",
            "mecab-0.996-ko-0.9.2/tests/ngram/char.def\n",
            "mecab-0.996-ko-0.9.2/tests/ngram/matrix.def\n",
            "mecab-0.996-ko-0.9.2/tests/ngram/test.gld\n",
            "mecab-0.996-ko-0.9.2/tests/Makefile.in\n",
            "mecab-0.996-ko-0.9.2/ltmain.sh\n",
            "mecab-0.996-ko-0.9.2/config.rpath\n",
            "mecab-0.996-ko-0.9.2/config.h.in\n",
            "mecab-0.996-ko-0.9.2/mecabrc.in\n",
            "mecab-0.996-ko-0.9.2/GPL\n",
            "mecab-0.996-ko-0.9.2/Makefile.train\n",
            "mecab-0.996-ko-0.9.2/ChangeLog\n",
            "mecab-0.996-ko-0.9.2/install-sh\n",
            "mecab-0.996-ko-0.9.2/AUTHORS\n",
            "mecab-0.996-ko-0.9.2/doc/\n",
            "mecab-0.996-ko-0.9.2/doc/bindings.html\n",
            "mecab-0.996-ko-0.9.2/doc/posid.html\n",
            "mecab-0.996-ko-0.9.2/doc/unk.html\n",
            "mecab-0.996-ko-0.9.2/doc/learn.html\n",
            "mecab-0.996-ko-0.9.2/doc/format.html\n",
            "mecab-0.996-ko-0.9.2/doc/libmecab.html\n",
            "mecab-0.996-ko-0.9.2/doc/mecab.css\n",
            "mecab-0.996-ko-0.9.2/doc/feature.html\n",
            "mecab-0.996-ko-0.9.2/doc/Makefile.am\n",
            "mecab-0.996-ko-0.9.2/doc/soft.html\n",
            "mecab-0.996-ko-0.9.2/doc/en/\n",
            "mecab-0.996-ko-0.9.2/doc/en/bindings.html\n",
            "mecab-0.996-ko-0.9.2/doc/dic-detail.html\n",
            "mecab-0.996-ko-0.9.2/doc/flow.png\n",
            "mecab-0.996-ko-0.9.2/doc/mecab.html\n",
            "mecab-0.996-ko-0.9.2/doc/index.html\n",
            "mecab-0.996-ko-0.9.2/doc/result.png\n",
            "mecab-0.996-ko-0.9.2/doc/doxygen/\n",
            "mecab-0.996-ko-0.9.2/doc/doxygen/tab_a.png\n",
            "mecab-0.996-ko-0.9.2/doc/doxygen/globals_eval.html\n",
            "mecab-0.996-ko-0.9.2/doc/doxygen/classMeCab_1_1Tagger-members.html\n",
            "mecab-0.996-ko-0.9.2/doc/doxygen/functions_vars.html\n",
            "mecab-0.996-ko-0.9.2/doc/doxygen/doxygen.css\n",
            "mecab-0.996-ko-0.9.2/doc/doxygen/tab_r.gif\n",
            "mecab-0.996-ko-0.9.2/doc/doxygen/classMeCab_1_1Lattice.html\n",
            "mecab-0.996-ko-0.9.2/doc/doxygen/functions.html\n",
            "mecab-0.996-ko-0.9.2/doc/doxygen/classMeCab_1_1Tagger.html\n",
            "mecab-0.996-ko-0.9.2/doc/doxygen/mecab_8h_source.html\n",
            "mecab-0.996-ko-0.9.2/doc/doxygen/tabs.css\n",
            "mecab-0.996-ko-0.9.2/doc/doxygen/nav_f.png\n",
            "mecab-0.996-ko-0.9.2/doc/doxygen/tab_b.png\n",
            "mecab-0.996-ko-0.9.2/doc/doxygen/globals.html\n",
            "mecab-0.996-ko-0.9.2/doc/doxygen/nav_h.png\n",
            "mecab-0.996-ko-0.9.2/doc/doxygen/tab_h.png\n",
            "mecab-0.996-ko-0.9.2/doc/doxygen/classMeCab_1_1Model.html\n",
            "mecab-0.996-ko-0.9.2/doc/doxygen/globals_func.html\n",
            "mecab-0.996-ko-0.9.2/doc/doxygen/closed.png\n",
            "mecab-0.996-ko-0.9.2/doc/doxygen/tab_l.gif\n",
            "mecab-0.996-ko-0.9.2/doc/doxygen/structmecab__path__t-members.html\n",
            "mecab-0.996-ko-0.9.2/doc/doxygen/functions_func.html\n",
            "mecab-0.996-ko-0.9.2/doc/doxygen/globals_type.html\n",
            "mecab-0.996-ko-0.9.2/doc/doxygen/classMeCab_1_1Lattice-members.html\n",
            "mecab-0.996-ko-0.9.2/doc/doxygen/structmecab__node__t.html\n",
            "mecab-0.996-ko-0.9.2/doc/doxygen/namespacemembers_func.html\n",
            "mecab-0.996-ko-0.9.2/doc/doxygen/tab_s.png\n",
            "mecab-0.996-ko-0.9.2/doc/doxygen/structmecab__dictionary__info__t-members.html\n",
            "mecab-0.996-ko-0.9.2/doc/doxygen/namespacemembers_type.html\n",
            "mecab-0.996-ko-0.9.2/doc/doxygen/classMeCab_1_1Model-members.html\n",
            "mecab-0.996-ko-0.9.2/doc/doxygen/structmecab__dictionary__info__t.html\n",
            "mecab-0.996-ko-0.9.2/doc/doxygen/namespaces.html\n",
            "mecab-0.996-ko-0.9.2/doc/doxygen/namespacemembers.html\n",
            "mecab-0.996-ko-0.9.2/doc/doxygen/namespaceMeCab.html\n",
            "mecab-0.996-ko-0.9.2/doc/doxygen/structmecab__path__t.html\n",
            "mecab-0.996-ko-0.9.2/doc/doxygen/files.html\n",
            "mecab-0.996-ko-0.9.2/doc/doxygen/structmecab__node__t-members.html\n",
            "mecab-0.996-ko-0.9.2/doc/doxygen/index.html\n",
            "mecab-0.996-ko-0.9.2/doc/doxygen/annotated.html\n",
            "mecab-0.996-ko-0.9.2/doc/doxygen/globals_defs.html\n",
            "mecab-0.996-ko-0.9.2/doc/doxygen/classes.html\n",
            "mecab-0.996-ko-0.9.2/doc/doxygen/mecab_8h-source.html\n",
            "mecab-0.996-ko-0.9.2/doc/doxygen/doxygen.png\n",
            "mecab-0.996-ko-0.9.2/doc/doxygen/tab_b.gif\n",
            "mecab-0.996-ko-0.9.2/doc/doxygen/bc_s.png\n",
            "mecab-0.996-ko-0.9.2/doc/doxygen/open.png\n",
            "mecab-0.996-ko-0.9.2/doc/doxygen/mecab_8h.html\n",
            "mecab-0.996-ko-0.9.2/doc/dic.html\n",
            "mecab-0.996-ko-0.9.2/doc/partial.html\n",
            "mecab-0.996-ko-0.9.2/doc/feature.png\n",
            "mecab-0.996-ko-0.9.2/doc/Makefile.in\n",
            "mecab-0.996-ko-0.9.2/missing\n",
            "mecab-0.996-ko-0.9.2/BSD\n",
            "mecab-0.996-ko-0.9.2/NEWS\n",
            "mecab-0.996-ko-0.9.2/mkinstalldirs\n",
            "mecab-0.996-ko-0.9.2/src/\n",
            "mecab-0.996-ko-0.9.2/src/dictionary.h\n",
            "mecab-0.996-ko-0.9.2/src/writer.h\n",
            "mecab-0.996-ko-0.9.2/src/utils.h\n",
            "mecab-0.996-ko-0.9.2/src/string_buffer.cpp\n",
            "mecab-0.996-ko-0.9.2/src/tokenizer.cpp\n",
            "mecab-0.996-ko-0.9.2/src/make.bat\n",
            "mecab-0.996-ko-0.9.2/src/mecab.h\n",
            "mecab-0.996-ko-0.9.2/src/freelist.h\n",
            "mecab-0.996-ko-0.9.2/src/string_buffer.h\n",
            "mecab-0.996-ko-0.9.2/src/learner_tagger.h\n",
            "mecab-0.996-ko-0.9.2/src/dictionary_compiler.cpp\n",
            "mecab-0.996-ko-0.9.2/src/eval.cpp\n",
            "mecab-0.996-ko-0.9.2/src/mecab-system-eval.cpp\n",
            "mecab-0.996-ko-0.9.2/src/darts.h\n",
            "mecab-0.996-ko-0.9.2/src/param.h\n",
            "mecab-0.996-ko-0.9.2/src/char_property.h\n",
            "mecab-0.996-ko-0.9.2/src/learner_node.h\n",
            "mecab-0.996-ko-0.9.2/src/mecab-dict-gen.cpp\n",
            "mecab-0.996-ko-0.9.2/src/mecab-dict-index.cpp\n",
            "mecab-0.996-ko-0.9.2/src/winmain.h\n",
            "mecab-0.996-ko-0.9.2/src/thread.h\n",
            "mecab-0.996-ko-0.9.2/src/context_id.cpp\n",
            "mecab-0.996-ko-0.9.2/src/Makefile.am\n",
            "mecab-0.996-ko-0.9.2/src/connector.h\n",
            "mecab-0.996-ko-0.9.2/src/common.h\n",
            "mecab-0.996-ko-0.9.2/src/dictionary_rewriter.cpp\n",
            "mecab-0.996-ko-0.9.2/src/Makefile.msvc.in\n",
            "mecab-0.996-ko-0.9.2/src/dictionary_rewriter.h\n",
            "mecab-0.996-ko-0.9.2/src/feature_index.h\n",
            "mecab-0.996-ko-0.9.2/src/iconv_utils.cpp\n",
            "mecab-0.996-ko-0.9.2/src/char_property.cpp\n",
            "mecab-0.996-ko-0.9.2/src/mecab-test-gen.cpp\n",
            "mecab-0.996-ko-0.9.2/src/tagger.cpp\n",
            "mecab-0.996-ko-0.9.2/src/mecab-cost-train.cpp\n",
            "mecab-0.996-ko-0.9.2/src/learner.cpp\n",
            "mecab-0.996-ko-0.9.2/src/dictionary.cpp\n",
            "mecab-0.996-ko-0.9.2/src/lbfgs.cpp\n",
            "mecab-0.996-ko-0.9.2/src/ucs.h\n",
            "mecab-0.996-ko-0.9.2/src/writer.cpp\n",
            "mecab-0.996-ko-0.9.2/src/learner_tagger.cpp\n",
            "mecab-0.996-ko-0.9.2/src/lbfgs.h\n",
            "mecab-0.996-ko-0.9.2/src/libmecab.cpp\n",
            "mecab-0.996-ko-0.9.2/src/tokenizer.h\n",
            "mecab-0.996-ko-0.9.2/src/mecab.cpp\n",
            "mecab-0.996-ko-0.9.2/src/utils.cpp\n",
            "mecab-0.996-ko-0.9.2/src/dictionary_generator.cpp\n",
            "mecab-0.996-ko-0.9.2/src/param.cpp\n",
            "mecab-0.996-ko-0.9.2/src/context_id.h\n",
            "mecab-0.996-ko-0.9.2/src/mmap.h\n",
            "mecab-0.996-ko-0.9.2/src/viterbi.h\n",
            "mecab-0.996-ko-0.9.2/src/viterbi.cpp\n",
            "mecab-0.996-ko-0.9.2/src/stream_wrapper.h\n",
            "mecab-0.996-ko-0.9.2/src/feature_index.cpp\n",
            "mecab-0.996-ko-0.9.2/src/nbest_generator.h\n",
            "mecab-0.996-ko-0.9.2/src/ucstable.h\n",
            "mecab-0.996-ko-0.9.2/src/nbest_generator.cpp\n",
            "mecab-0.996-ko-0.9.2/src/iconv_utils.h\n",
            "mecab-0.996-ko-0.9.2/src/connector.cpp\n",
            "mecab-0.996-ko-0.9.2/src/Makefile.in\n",
            "mecab-0.996-ko-0.9.2/src/scoped_ptr.h\n",
            "mecab-0.996-ko-0.9.2/Makefile.in\n",
            "checking for a BSD-compatible install... /usr/bin/install -c\n",
            "checking whether build environment is sane... yes\n",
            "checking for a thread-safe mkdir -p... /bin/mkdir -p\n",
            "checking for gawk... no\n",
            "checking for mawk... mawk\n",
            "checking whether make sets $(MAKE)... yes\n",
            "checking for gcc... gcc\n",
            "checking whether the C compiler works... yes\n",
            "checking for C compiler default output file name... a.out\n",
            "checking for suffix of executables... \n",
            "checking whether we are cross compiling... no\n",
            "checking for suffix of object files... o\n",
            "checking whether we are using the GNU C compiler... yes\n",
            "checking whether gcc accepts -g... yes\n",
            "checking for gcc option to accept ISO C89... none needed\n",
            "checking for style of include used by make... GNU\n",
            "checking dependency style of gcc... none\n",
            "checking for g++... g++\n",
            "checking whether we are using the GNU C++ compiler... yes\n",
            "checking whether g++ accepts -g... yes\n",
            "checking dependency style of g++... none\n",
            "checking how to run the C preprocessor... gcc -E\n",
            "checking for grep that handles long lines and -e... /bin/grep\n",
            "checking for egrep... /bin/grep -E\n",
            "checking whether gcc needs -traditional... no\n",
            "checking whether make sets $(MAKE)... (cached) yes\n",
            "checking build system type... x86_64-unknown-linux-gnu\n",
            "checking host system type... x86_64-unknown-linux-gnu\n",
            "checking how to print strings... printf\n",
            "checking for a sed that does not truncate output... /bin/sed\n",
            "checking for fgrep... /bin/grep -F\n",
            "checking for ld used by gcc... /usr/bin/ld\n",
            "checking if the linker (/usr/bin/ld) is GNU ld... yes\n",
            "checking for BSD- or MS-compatible name lister (nm)... /usr/bin/nm -B\n",
            "checking the name lister (/usr/bin/nm -B) interface... BSD nm\n",
            "checking whether ln -s works... yes\n",
            "checking the maximum length of command line arguments... 1572864\n",
            "checking whether the shell understands some XSI constructs... yes\n",
            "checking whether the shell understands \"+=\"... yes\n",
            "checking how to convert x86_64-unknown-linux-gnu file names to x86_64-unknown-linux-gnu format... func_convert_file_noop\n",
            "checking how to convert x86_64-unknown-linux-gnu file names to toolchain format... func_convert_file_noop\n",
            "checking for /usr/bin/ld option to reload object files... -r\n",
            "checking for objdump... objdump\n",
            "checking how to recognize dependent libraries... pass_all\n",
            "checking for dlltool... dlltool\n",
            "checking how to associate runtime and link libraries... printf %s\\n\n",
            "checking for ar... ar\n",
            "checking for archiver @FILE support... @\n",
            "checking for strip... strip\n",
            "checking for ranlib... ranlib\n",
            "checking command to parse /usr/bin/nm -B output from gcc object... ok\n",
            "checking for sysroot... no\n",
            "./configure: line 7378: /usr/bin/file: No such file or directory\n",
            "checking for mt... no\n",
            "checking if : is a manifest tool... no\n",
            "checking for ANSI C header files... yes\n",
            "checking for sys/types.h... yes\n",
            "checking for sys/stat.h... yes\n",
            "checking for stdlib.h... yes\n",
            "checking for string.h... yes\n",
            "checking for memory.h... yes\n",
            "checking for strings.h... yes\n",
            "checking for inttypes.h... yes\n",
            "checking for stdint.h... yes\n",
            "checking for unistd.h... yes\n",
            "checking for dlfcn.h... yes\n",
            "checking for objdir... .libs\n",
            "checking if gcc supports -fno-rtti -fno-exceptions... no\n",
            "checking for gcc option to produce PIC... -fPIC -DPIC\n",
            "checking if gcc PIC flag -fPIC -DPIC works... yes\n",
            "checking if gcc static flag -static works... yes\n",
            "checking if gcc supports -c -o file.o... yes\n",
            "checking if gcc supports -c -o file.o... (cached) yes\n",
            "checking whether the gcc linker (/usr/bin/ld) supports shared libraries... yes\n",
            "checking whether -lc should be explicitly linked in... no\n",
            "checking dynamic linker characteristics... GNU/Linux ld.so\n",
            "checking how to hardcode library paths into programs... immediate\n",
            "checking whether stripping libraries is possible... yes\n",
            "checking if libtool supports shared libraries... yes\n",
            "checking whether to build shared libraries... yes\n",
            "checking whether to build static libraries... yes\n",
            "checking how to run the C++ preprocessor... g++ -E\n",
            "checking for ld used by g++... /usr/bin/ld\n",
            "checking if the linker (/usr/bin/ld) is GNU ld... yes\n",
            "checking whether the g++ linker (/usr/bin/ld) supports shared libraries... yes\n",
            "checking for g++ option to produce PIC... -fPIC -DPIC\n",
            "checking if g++ PIC flag -fPIC -DPIC works... yes\n",
            "checking if g++ static flag -static works... yes\n",
            "checking if g++ supports -c -o file.o... yes\n",
            "checking if g++ supports -c -o file.o... (cached) yes\n",
            "checking whether the g++ linker (/usr/bin/ld) supports shared libraries... yes\n",
            "checking dynamic linker characteristics... (cached) GNU/Linux ld.so\n",
            "checking how to hardcode library paths into programs... immediate\n",
            "checking for library containing strerror... none required\n",
            "checking whether byte ordering is bigendian... no\n",
            "checking for ld used by GCC... /usr/bin/ld\n",
            "checking if the linker (/usr/bin/ld) is GNU ld... yes\n",
            "checking for shared library run path origin... done\n",
            "checking for iconv... yes\n",
            "checking for working iconv... yes\n",
            "checking for iconv declaration... \n",
            "         extern size_t iconv (iconv_t cd, char * *inbuf, size_t *inbytesleft, char * *outbuf, size_t *outbytesleft);\n",
            "checking for ANSI C header files... (cached) yes\n",
            "checking for an ANSI C-conforming const... yes\n",
            "checking whether byte ordering is bigendian... (cached) no\n",
            "checking for string.h... (cached) yes\n",
            "checking for stdlib.h... (cached) yes\n",
            "checking for unistd.h... (cached) yes\n",
            "checking fcntl.h usability... yes\n",
            "checking fcntl.h presence... yes\n",
            "checking for fcntl.h... yes\n",
            "checking for stdint.h... (cached) yes\n",
            "checking for sys/stat.h... (cached) yes\n",
            "checking sys/mman.h usability... yes\n",
            "checking sys/mman.h presence... yes\n",
            "checking for sys/mman.h... yes\n",
            "checking sys/times.h usability... yes\n",
            "checking sys/times.h presence... yes\n",
            "checking for sys/times.h... yes\n",
            "checking for sys/types.h... (cached) yes\n",
            "checking dirent.h usability... yes\n",
            "checking dirent.h presence... yes\n",
            "checking for dirent.h... yes\n",
            "checking ctype.h usability... yes\n",
            "checking ctype.h presence... yes\n",
            "checking for ctype.h... yes\n",
            "checking for sys/types.h... (cached) yes\n",
            "checking io.h usability... no\n",
            "checking io.h presence... no\n",
            "checking for io.h... no\n",
            "checking windows.h usability... no\n",
            "checking windows.h presence... no\n",
            "checking for windows.h... no\n",
            "checking pthread.h usability... yes\n",
            "checking pthread.h presence... yes\n",
            "checking for pthread.h... yes\n",
            "checking for off_t... yes\n",
            "checking for size_t... yes\n",
            "checking size of char... 1\n",
            "checking size of short... 2\n",
            "checking size of int... 4\n",
            "checking size of long... 8\n",
            "checking size of long long... 8\n",
            "checking size of size_t... 8\n",
            "checking for size_t... (cached) yes\n",
            "checking for unsigned long long int... yes\n",
            "checking for stdlib.h... (cached) yes\n",
            "checking for unistd.h... (cached) yes\n",
            "checking for sys/param.h... yes\n",
            "checking for getpagesize... yes\n",
            "checking for working mmap... yes\n",
            "checking for main in -lstdc++... yes\n",
            "checking for pthread_create in -lpthread... yes\n",
            "checking for pthread_join in -lpthread... yes\n",
            "checking for getenv... yes\n",
            "checking for opendir... yes\n",
            "checking whether make is GNU Make... yes\n",
            "checking if g++ supports stl <vector> (required)... yes\n",
            "checking if g++ supports stl <list> (required)... yes\n",
            "checking if g++ supports stl <map> (required)... yes\n",
            "checking if g++ supports stl <set> (required)... yes\n",
            "checking if g++ supports stl <queue> (required)... yes\n",
            "checking if g++ supports stl <functional> (required)... yes\n",
            "checking if g++ supports stl <algorithm> (required)... yes\n",
            "checking if g++ supports stl <string> (required)... yes\n",
            "checking if g++ supports stl <iostream> (required)... yes\n",
            "checking if g++ supports stl <sstream> (required)... yes\n",
            "checking if g++ supports stl <fstream> (required)... yes\n",
            "checking if g++ supports template <class T> (required)... yes\n",
            "checking if g++ supports const_cast<> (required)... yes\n",
            "checking if g++ supports static_cast<> (required)... yes\n",
            "checking if g++ supports reinterpret_cast<> (required)... yes\n",
            "checking if g++ supports namespaces (required) ... yes\n",
            "checking if g++ supports __thread (optional)... yes\n",
            "checking if g++ supports template <class T> (required)... yes\n",
            "checking if g++ supports GCC native atomic operations (optional)... yes\n",
            "checking if g++ supports OSX native atomic operations (optional)... no\n",
            "checking if g++ environment provides all required features... yes\n",
            "configure: creating ./config.status\n",
            "config.status: creating Makefile\n",
            "config.status: creating src/Makefile\n",
            "config.status: creating src/Makefile.msvc\n",
            "config.status: creating man/Makefile\n",
            "config.status: creating doc/Makefile\n",
            "config.status: creating tests/Makefile\n",
            "config.status: creating swig/version.h\n",
            "config.status: creating mecab.iss\n",
            "config.status: creating mecab-config\n",
            "config.status: creating mecabrc\n",
            "config.status: creating config.h\n",
            "config.status: executing depfiles commands\n",
            "config.status: executing libtool commands\n",
            "config.status: executing default commands\n",
            "make  all-recursive\n",
            "make[1]: Entering directory '/tmp/mecab-0.996-ko-0.9.2'\n",
            "Making all in src\n",
            "make[2]: Entering directory '/tmp/mecab-0.996-ko-0.9.2/src'\n",
            "/bin/bash ../libtool --tag=CXX   --mode=compile g++ -DHAVE_CONFIG_H -I. -I.. -DDIC_VERSION=102   -DMECAB_DEFAULT_RC=\"\\\"/usr/local/etc/mecabrc\\\"\"    -O3 -Wall  -c -o viterbi.lo viterbi.cpp\n",
            "libtool: compile:  g++ -DHAVE_CONFIG_H -I. -I.. -DDIC_VERSION=102 -DMECAB_DEFAULT_RC=\\\"/usr/local/etc/mecabrc\\\" -O3 -Wall -c viterbi.cpp  -fPIC -DPIC -o .libs/viterbi.o\n",
            "In file included from \u001b[01m\u001b[Kviterbi.cpp:14:0\u001b[m\u001b[K:\n",
            "\u001b[01m\u001b[Kparam.h:30:13:\u001b[m\u001b[K \u001b[01;35m\u001b[Kwarning: \u001b[m\u001b[K'\u001b[01m\u001b[KTarget {anonymous}::lexical_cast(Source) [with Target = std::__cxx11::basic_string<char>; Source = std::__cxx11::basic_string<char>]\u001b[m\u001b[K' defined but not used [\u001b[01;35m\u001b[K-Wunused-function\u001b[m\u001b[K]\n",
            " std::string \u001b[01;35m\u001b[Klexical_cast<std::string, std::string>\u001b[m\u001b[K(std::string arg) {\n",
            "             \u001b[01;35m\u001b[K^~~~~~~~~~~~~~~~~~~~~~~~~~~~~~~~~~~~~~\u001b[m\u001b[K\n",
            "libtool: compile:  g++ -DHAVE_CONFIG_H -I. -I.. -DDIC_VERSION=102 -DMECAB_DEFAULT_RC=\\\"/usr/local/etc/mecabrc\\\" -O3 -Wall -c viterbi.cpp -o viterbi.o >/dev/null 2>&1\n",
            "/bin/bash ../libtool --tag=CXX   --mode=compile g++ -DHAVE_CONFIG_H -I. -I.. -DDIC_VERSION=102   -DMECAB_DEFAULT_RC=\"\\\"/usr/local/etc/mecabrc\\\"\"    -O3 -Wall  -c -o tagger.lo tagger.cpp\n",
            "libtool: compile:  g++ -DHAVE_CONFIG_H -I. -I.. -DDIC_VERSION=102 -DMECAB_DEFAULT_RC=\\\"/usr/local/etc/mecabrc\\\" -O3 -Wall -c tagger.cpp  -fPIC -DPIC -o .libs/tagger.o\n",
            "libtool: compile:  g++ -DHAVE_CONFIG_H -I. -I.. -DDIC_VERSION=102 -DMECAB_DEFAULT_RC=\\\"/usr/local/etc/mecabrc\\\" -O3 -Wall -c tagger.cpp -o tagger.o >/dev/null 2>&1\n",
            "/bin/bash ../libtool --tag=CXX   --mode=compile g++ -DHAVE_CONFIG_H -I. -I.. -DDIC_VERSION=102   -DMECAB_DEFAULT_RC=\"\\\"/usr/local/etc/mecabrc\\\"\"    -O3 -Wall  -c -o utils.lo utils.cpp\n",
            "libtool: compile:  g++ -DHAVE_CONFIG_H -I. -I.. -DDIC_VERSION=102 -DMECAB_DEFAULT_RC=\\\"/usr/local/etc/mecabrc\\\" -O3 -Wall -c utils.cpp  -fPIC -DPIC -o .libs/utils.o\n",
            "libtool: compile:  g++ -DHAVE_CONFIG_H -I. -I.. -DDIC_VERSION=102 -DMECAB_DEFAULT_RC=\\\"/usr/local/etc/mecabrc\\\" -O3 -Wall -c utils.cpp -o utils.o >/dev/null 2>&1\n",
            "/bin/bash ../libtool --tag=CXX   --mode=compile g++ -DHAVE_CONFIG_H -I. -I.. -DDIC_VERSION=102   -DMECAB_DEFAULT_RC=\"\\\"/usr/local/etc/mecabrc\\\"\"    -O3 -Wall  -c -o eval.lo eval.cpp\n",
            "libtool: compile:  g++ -DHAVE_CONFIG_H -I. -I.. -DDIC_VERSION=102 -DMECAB_DEFAULT_RC=\\\"/usr/local/etc/mecabrc\\\" -O3 -Wall -c eval.cpp  -fPIC -DPIC -o .libs/eval.o\n",
            "libtool: compile:  g++ -DHAVE_CONFIG_H -I. -I.. -DDIC_VERSION=102 -DMECAB_DEFAULT_RC=\\\"/usr/local/etc/mecabrc\\\" -O3 -Wall -c eval.cpp -o eval.o >/dev/null 2>&1\n",
            "/bin/bash ../libtool --tag=CXX   --mode=compile g++ -DHAVE_CONFIG_H -I. -I.. -DDIC_VERSION=102   -DMECAB_DEFAULT_RC=\"\\\"/usr/local/etc/mecabrc\\\"\"    -O3 -Wall  -c -o iconv_utils.lo iconv_utils.cpp\n",
            "libtool: compile:  g++ -DHAVE_CONFIG_H -I. -I.. -DDIC_VERSION=102 -DMECAB_DEFAULT_RC=\\\"/usr/local/etc/mecabrc\\\" -O3 -Wall -c iconv_utils.cpp  -fPIC -DPIC -o .libs/iconv_utils.o\n",
            "libtool: compile:  g++ -DHAVE_CONFIG_H -I. -I.. -DDIC_VERSION=102 -DMECAB_DEFAULT_RC=\\\"/usr/local/etc/mecabrc\\\" -O3 -Wall -c iconv_utils.cpp -o iconv_utils.o >/dev/null 2>&1\n",
            "/bin/bash ../libtool --tag=CXX   --mode=compile g++ -DHAVE_CONFIG_H -I. -I.. -DDIC_VERSION=102   -DMECAB_DEFAULT_RC=\"\\\"/usr/local/etc/mecabrc\\\"\"    -O3 -Wall  -c -o dictionary_rewriter.lo dictionary_rewriter.cpp\n",
            "libtool: compile:  g++ -DHAVE_CONFIG_H -I. -I.. -DDIC_VERSION=102 -DMECAB_DEFAULT_RC=\\\"/usr/local/etc/mecabrc\\\" -O3 -Wall -c dictionary_rewriter.cpp  -fPIC -DPIC -o .libs/dictionary_rewriter.o\n",
            "libtool: compile:  g++ -DHAVE_CONFIG_H -I. -I.. -DDIC_VERSION=102 -DMECAB_DEFAULT_RC=\\\"/usr/local/etc/mecabrc\\\" -O3 -Wall -c dictionary_rewriter.cpp -o dictionary_rewriter.o >/dev/null 2>&1\n",
            "/bin/bash ../libtool --tag=CXX   --mode=compile g++ -DHAVE_CONFIG_H -I. -I.. -DDIC_VERSION=102   -DMECAB_DEFAULT_RC=\"\\\"/usr/local/etc/mecabrc\\\"\"    -O3 -Wall  -c -o dictionary_generator.lo dictionary_generator.cpp\n",
            "libtool: compile:  g++ -DHAVE_CONFIG_H -I. -I.. -DDIC_VERSION=102 -DMECAB_DEFAULT_RC=\\\"/usr/local/etc/mecabrc\\\" -O3 -Wall -c dictionary_generator.cpp  -fPIC -DPIC -o .libs/dictionary_generator.o\n",
            "libtool: compile:  g++ -DHAVE_CONFIG_H -I. -I.. -DDIC_VERSION=102 -DMECAB_DEFAULT_RC=\\\"/usr/local/etc/mecabrc\\\" -O3 -Wall -c dictionary_generator.cpp -o dictionary_generator.o >/dev/null 2>&1\n",
            "/bin/bash ../libtool --tag=CXX   --mode=compile g++ -DHAVE_CONFIG_H -I. -I.. -DDIC_VERSION=102   -DMECAB_DEFAULT_RC=\"\\\"/usr/local/etc/mecabrc\\\"\"    -O3 -Wall  -c -o dictionary_compiler.lo dictionary_compiler.cpp\n",
            "libtool: compile:  g++ -DHAVE_CONFIG_H -I. -I.. -DDIC_VERSION=102 -DMECAB_DEFAULT_RC=\\\"/usr/local/etc/mecabrc\\\" -O3 -Wall -c dictionary_compiler.cpp  -fPIC -DPIC -o .libs/dictionary_compiler.o\n",
            "libtool: compile:  g++ -DHAVE_CONFIG_H -I. -I.. -DDIC_VERSION=102 -DMECAB_DEFAULT_RC=\\\"/usr/local/etc/mecabrc\\\" -O3 -Wall -c dictionary_compiler.cpp -o dictionary_compiler.o >/dev/null 2>&1\n",
            "/bin/bash ../libtool --tag=CXX   --mode=compile g++ -DHAVE_CONFIG_H -I. -I.. -DDIC_VERSION=102   -DMECAB_DEFAULT_RC=\"\\\"/usr/local/etc/mecabrc\\\"\"    -O3 -Wall  -c -o context_id.lo context_id.cpp\n",
            "libtool: compile:  g++ -DHAVE_CONFIG_H -I. -I.. -DDIC_VERSION=102 -DMECAB_DEFAULT_RC=\\\"/usr/local/etc/mecabrc\\\" -O3 -Wall -c context_id.cpp  -fPIC -DPIC -o .libs/context_id.o\n",
            "libtool: compile:  g++ -DHAVE_CONFIG_H -I. -I.. -DDIC_VERSION=102 -DMECAB_DEFAULT_RC=\\\"/usr/local/etc/mecabrc\\\" -O3 -Wall -c context_id.cpp -o context_id.o >/dev/null 2>&1\n",
            "/bin/bash ../libtool --tag=CXX   --mode=compile g++ -DHAVE_CONFIG_H -I. -I.. -DDIC_VERSION=102   -DMECAB_DEFAULT_RC=\"\\\"/usr/local/etc/mecabrc\\\"\"    -O3 -Wall  -c -o connector.lo connector.cpp\n",
            "libtool: compile:  g++ -DHAVE_CONFIG_H -I. -I.. -DDIC_VERSION=102 -DMECAB_DEFAULT_RC=\\\"/usr/local/etc/mecabrc\\\" -O3 -Wall -c connector.cpp  -fPIC -DPIC -o .libs/connector.o\n",
            "libtool: compile:  g++ -DHAVE_CONFIG_H -I. -I.. -DDIC_VERSION=102 -DMECAB_DEFAULT_RC=\\\"/usr/local/etc/mecabrc\\\" -O3 -Wall -c connector.cpp -o connector.o >/dev/null 2>&1\n",
            "/bin/bash ../libtool --tag=CXX   --mode=compile g++ -DHAVE_CONFIG_H -I. -I.. -DDIC_VERSION=102   -DMECAB_DEFAULT_RC=\"\\\"/usr/local/etc/mecabrc\\\"\"    -O3 -Wall  -c -o nbest_generator.lo nbest_generator.cpp\n",
            "libtool: compile:  g++ -DHAVE_CONFIG_H -I. -I.. -DDIC_VERSION=102 -DMECAB_DEFAULT_RC=\\\"/usr/local/etc/mecabrc\\\" -O3 -Wall -c nbest_generator.cpp  -fPIC -DPIC -o .libs/nbest_generator.o\n",
            "libtool: compile:  g++ -DHAVE_CONFIG_H -I. -I.. -DDIC_VERSION=102 -DMECAB_DEFAULT_RC=\\\"/usr/local/etc/mecabrc\\\" -O3 -Wall -c nbest_generator.cpp -o nbest_generator.o >/dev/null 2>&1\n",
            "/bin/bash ../libtool --tag=CXX   --mode=compile g++ -DHAVE_CONFIG_H -I. -I.. -DDIC_VERSION=102   -DMECAB_DEFAULT_RC=\"\\\"/usr/local/etc/mecabrc\\\"\"    -O3 -Wall  -c -o writer.lo writer.cpp\n",
            "libtool: compile:  g++ -DHAVE_CONFIG_H -I. -I.. -DDIC_VERSION=102 -DMECAB_DEFAULT_RC=\\\"/usr/local/etc/mecabrc\\\" -O3 -Wall -c writer.cpp  -fPIC -DPIC -o .libs/writer.o\n",
            "libtool: compile:  g++ -DHAVE_CONFIG_H -I. -I.. -DDIC_VERSION=102 -DMECAB_DEFAULT_RC=\\\"/usr/local/etc/mecabrc\\\" -O3 -Wall -c writer.cpp -o writer.o >/dev/null 2>&1\n",
            "/bin/bash ../libtool --tag=CXX   --mode=compile g++ -DHAVE_CONFIG_H -I. -I.. -DDIC_VERSION=102   -DMECAB_DEFAULT_RC=\"\\\"/usr/local/etc/mecabrc\\\"\"    -O3 -Wall  -c -o string_buffer.lo string_buffer.cpp\n",
            "libtool: compile:  g++ -DHAVE_CONFIG_H -I. -I.. -DDIC_VERSION=102 -DMECAB_DEFAULT_RC=\\\"/usr/local/etc/mecabrc\\\" -O3 -Wall -c string_buffer.cpp  -fPIC -DPIC -o .libs/string_buffer.o\n",
            "libtool: compile:  g++ -DHAVE_CONFIG_H -I. -I.. -DDIC_VERSION=102 -DMECAB_DEFAULT_RC=\\\"/usr/local/etc/mecabrc\\\" -O3 -Wall -c string_buffer.cpp -o string_buffer.o >/dev/null 2>&1\n",
            "/bin/bash ../libtool --tag=CXX   --mode=compile g++ -DHAVE_CONFIG_H -I. -I.. -DDIC_VERSION=102   -DMECAB_DEFAULT_RC=\"\\\"/usr/local/etc/mecabrc\\\"\"    -O3 -Wall  -c -o param.lo param.cpp\n",
            "libtool: compile:  g++ -DHAVE_CONFIG_H -I. -I.. -DDIC_VERSION=102 -DMECAB_DEFAULT_RC=\\\"/usr/local/etc/mecabrc\\\" -O3 -Wall -c param.cpp  -fPIC -DPIC -o .libs/param.o\n",
            "libtool: compile:  g++ -DHAVE_CONFIG_H -I. -I.. -DDIC_VERSION=102 -DMECAB_DEFAULT_RC=\\\"/usr/local/etc/mecabrc\\\" -O3 -Wall -c param.cpp -o param.o >/dev/null 2>&1\n",
            "/bin/bash ../libtool --tag=CXX   --mode=compile g++ -DHAVE_CONFIG_H -I. -I.. -DDIC_VERSION=102   -DMECAB_DEFAULT_RC=\"\\\"/usr/local/etc/mecabrc\\\"\"    -O3 -Wall  -c -o tokenizer.lo tokenizer.cpp\n",
            "libtool: compile:  g++ -DHAVE_CONFIG_H -I. -I.. -DDIC_VERSION=102 -DMECAB_DEFAULT_RC=\\\"/usr/local/etc/mecabrc\\\" -O3 -Wall -c tokenizer.cpp  -fPIC -DPIC -o .libs/tokenizer.o\n",
            "libtool: compile:  g++ -DHAVE_CONFIG_H -I. -I.. -DDIC_VERSION=102 -DMECAB_DEFAULT_RC=\\\"/usr/local/etc/mecabrc\\\" -O3 -Wall -c tokenizer.cpp -o tokenizer.o >/dev/null 2>&1\n",
            "/bin/bash ../libtool --tag=CXX   --mode=compile g++ -DHAVE_CONFIG_H -I. -I.. -DDIC_VERSION=102   -DMECAB_DEFAULT_RC=\"\\\"/usr/local/etc/mecabrc\\\"\"    -O3 -Wall  -c -o char_property.lo char_property.cpp\n",
            "libtool: compile:  g++ -DHAVE_CONFIG_H -I. -I.. -DDIC_VERSION=102 -DMECAB_DEFAULT_RC=\\\"/usr/local/etc/mecabrc\\\" -O3 -Wall -c char_property.cpp  -fPIC -DPIC -o .libs/char_property.o\n",
            "libtool: compile:  g++ -DHAVE_CONFIG_H -I. -I.. -DDIC_VERSION=102 -DMECAB_DEFAULT_RC=\\\"/usr/local/etc/mecabrc\\\" -O3 -Wall -c char_property.cpp -o char_property.o >/dev/null 2>&1\n",
            "/bin/bash ../libtool --tag=CXX   --mode=compile g++ -DHAVE_CONFIG_H -I. -I.. -DDIC_VERSION=102   -DMECAB_DEFAULT_RC=\"\\\"/usr/local/etc/mecabrc\\\"\"    -O3 -Wall  -c -o dictionary.lo dictionary.cpp\n",
            "libtool: compile:  g++ -DHAVE_CONFIG_H -I. -I.. -DDIC_VERSION=102 -DMECAB_DEFAULT_RC=\\\"/usr/local/etc/mecabrc\\\" -O3 -Wall -c dictionary.cpp  -fPIC -DPIC -o .libs/dictionary.o\n",
            "libtool: compile:  g++ -DHAVE_CONFIG_H -I. -I.. -DDIC_VERSION=102 -DMECAB_DEFAULT_RC=\\\"/usr/local/etc/mecabrc\\\" -O3 -Wall -c dictionary.cpp -o dictionary.o >/dev/null 2>&1\n",
            "/bin/bash ../libtool --tag=CXX   --mode=compile g++ -DHAVE_CONFIG_H -I. -I.. -DDIC_VERSION=102   -DMECAB_DEFAULT_RC=\"\\\"/usr/local/etc/mecabrc\\\"\"    -O3 -Wall  -c -o feature_index.lo feature_index.cpp\n",
            "libtool: compile:  g++ -DHAVE_CONFIG_H -I. -I.. -DDIC_VERSION=102 -DMECAB_DEFAULT_RC=\\\"/usr/local/etc/mecabrc\\\" -O3 -Wall -c feature_index.cpp  -fPIC -DPIC -o .libs/feature_index.o\n",
            "libtool: compile:  g++ -DHAVE_CONFIG_H -I. -I.. -DDIC_VERSION=102 -DMECAB_DEFAULT_RC=\\\"/usr/local/etc/mecabrc\\\" -O3 -Wall -c feature_index.cpp -o feature_index.o >/dev/null 2>&1\n",
            "/bin/bash ../libtool --tag=CXX   --mode=compile g++ -DHAVE_CONFIG_H -I. -I.. -DDIC_VERSION=102   -DMECAB_DEFAULT_RC=\"\\\"/usr/local/etc/mecabrc\\\"\"    -O3 -Wall  -c -o lbfgs.lo lbfgs.cpp\n",
            "libtool: compile:  g++ -DHAVE_CONFIG_H -I. -I.. -DDIC_VERSION=102 -DMECAB_DEFAULT_RC=\\\"/usr/local/etc/mecabrc\\\" -O3 -Wall -c lbfgs.cpp  -fPIC -DPIC -o .libs/lbfgs.o\n",
            "libtool: compile:  g++ -DHAVE_CONFIG_H -I. -I.. -DDIC_VERSION=102 -DMECAB_DEFAULT_RC=\\\"/usr/local/etc/mecabrc\\\" -O3 -Wall -c lbfgs.cpp -o lbfgs.o >/dev/null 2>&1\n",
            "/bin/bash ../libtool --tag=CXX   --mode=compile g++ -DHAVE_CONFIG_H -I. -I.. -DDIC_VERSION=102   -DMECAB_DEFAULT_RC=\"\\\"/usr/local/etc/mecabrc\\\"\"    -O3 -Wall  -c -o learner_tagger.lo learner_tagger.cpp\n",
            "libtool: compile:  g++ -DHAVE_CONFIG_H -I. -I.. -DDIC_VERSION=102 -DMECAB_DEFAULT_RC=\\\"/usr/local/etc/mecabrc\\\" -O3 -Wall -c learner_tagger.cpp  -fPIC -DPIC -o .libs/learner_tagger.o\n",
            "\u001b[01m\u001b[Klearner_tagger.cpp:25:7:\u001b[m\u001b[K \u001b[01;35m\u001b[Kwarning: \u001b[m\u001b[K'\u001b[01m\u001b[Kchar* MeCab::{anonymous}::mystrdup(const string&)\u001b[m\u001b[K' defined but not used [\u001b[01;35m\u001b[K-Wunused-function\u001b[m\u001b[K]\n",
            " char *\u001b[01;35m\u001b[Kmystrdup\u001b[m\u001b[K(const std::string &str) {\n",
            "       \u001b[01;35m\u001b[K^~~~~~~~\u001b[m\u001b[K\n",
            "libtool: compile:  g++ -DHAVE_CONFIG_H -I. -I.. -DDIC_VERSION=102 -DMECAB_DEFAULT_RC=\\\"/usr/local/etc/mecabrc\\\" -O3 -Wall -c learner_tagger.cpp -o learner_tagger.o >/dev/null 2>&1\n",
            "/bin/bash ../libtool --tag=CXX   --mode=compile g++ -DHAVE_CONFIG_H -I. -I.. -DDIC_VERSION=102   -DMECAB_DEFAULT_RC=\"\\\"/usr/local/etc/mecabrc\\\"\"    -O3 -Wall  -c -o learner.lo learner.cpp\n",
            "libtool: compile:  g++ -DHAVE_CONFIG_H -I. -I.. -DDIC_VERSION=102 -DMECAB_DEFAULT_RC=\\\"/usr/local/etc/mecabrc\\\" -O3 -Wall -c learner.cpp  -fPIC -DPIC -o .libs/learner.o\n",
            "libtool: compile:  g++ -DHAVE_CONFIG_H -I. -I.. -DDIC_VERSION=102 -DMECAB_DEFAULT_RC=\\\"/usr/local/etc/mecabrc\\\" -O3 -Wall -c learner.cpp -o learner.o >/dev/null 2>&1\n",
            "/bin/bash ../libtool --tag=CXX   --mode=compile g++ -DHAVE_CONFIG_H -I. -I.. -DDIC_VERSION=102   -DMECAB_DEFAULT_RC=\"\\\"/usr/local/etc/mecabrc\\\"\"    -O3 -Wall  -c -o libmecab.lo libmecab.cpp\n",
            "libtool: compile:  g++ -DHAVE_CONFIG_H -I. -I.. -DDIC_VERSION=102 -DMECAB_DEFAULT_RC=\\\"/usr/local/etc/mecabrc\\\" -O3 -Wall -c libmecab.cpp  -fPIC -DPIC -o .libs/libmecab.o\n",
            "libtool: compile:  g++ -DHAVE_CONFIG_H -I. -I.. -DDIC_VERSION=102 -DMECAB_DEFAULT_RC=\\\"/usr/local/etc/mecabrc\\\" -O3 -Wall -c libmecab.cpp -o libmecab.o >/dev/null 2>&1\n",
            "/bin/bash ../libtool --tag=CXX   --mode=link g++  -O3 -Wall  -no-undefined -version-info 2:0:0  -o libmecab.la -rpath /usr/local/lib viterbi.lo tagger.lo utils.lo eval.lo iconv_utils.lo dictionary_rewriter.lo dictionary_generator.lo dictionary_compiler.lo context_id.lo connector.lo nbest_generator.lo writer.lo string_buffer.lo param.lo tokenizer.lo char_property.lo dictionary.lo feature_index.lo lbfgs.lo learner_tagger.lo learner.lo libmecab.lo  -lpthread -lpthread  -lstdc++ \n",
            "libtool: link: g++  -fPIC -DPIC -shared -nostdlib /usr/lib/gcc/x86_64-linux-gnu/7/../../../x86_64-linux-gnu/crti.o /usr/lib/gcc/x86_64-linux-gnu/7/crtbeginS.o  .libs/viterbi.o .libs/tagger.o .libs/utils.o .libs/eval.o .libs/iconv_utils.o .libs/dictionary_rewriter.o .libs/dictionary_generator.o .libs/dictionary_compiler.o .libs/context_id.o .libs/connector.o .libs/nbest_generator.o .libs/writer.o .libs/string_buffer.o .libs/param.o .libs/tokenizer.o .libs/char_property.o .libs/dictionary.o .libs/feature_index.o .libs/lbfgs.o .libs/learner_tagger.o .libs/learner.o .libs/libmecab.o   -lpthread -L/usr/lib/gcc/x86_64-linux-gnu/7 -L/usr/lib/gcc/x86_64-linux-gnu/7/../../../x86_64-linux-gnu -L/usr/lib/gcc/x86_64-linux-gnu/7/../../../../lib -L/lib/x86_64-linux-gnu -L/lib/../lib -L/usr/lib/x86_64-linux-gnu -L/usr/lib/../lib -L/usr/local/cuda/lib64/stubs -L/usr/lib/gcc/x86_64-linux-gnu/7/../../.. -lstdc++ -lm -lc -lgcc_s /usr/lib/gcc/x86_64-linux-gnu/7/crtendS.o /usr/lib/gcc/x86_64-linux-gnu/7/../../../x86_64-linux-gnu/crtn.o  -O3   -Wl,-soname -Wl,libmecab.so.2 -o .libs/libmecab.so.2.0.0\n",
            "libtool: link: (cd \".libs\" && rm -f \"libmecab.so.2\" && ln -s \"libmecab.so.2.0.0\" \"libmecab.so.2\")\n",
            "libtool: link: (cd \".libs\" && rm -f \"libmecab.so\" && ln -s \"libmecab.so.2.0.0\" \"libmecab.so\")\n",
            "libtool: link: ar cru .libs/libmecab.a  viterbi.o tagger.o utils.o eval.o iconv_utils.o dictionary_rewriter.o dictionary_generator.o dictionary_compiler.o context_id.o connector.o nbest_generator.o writer.o string_buffer.o param.o tokenizer.o char_property.o dictionary.o feature_index.o lbfgs.o learner_tagger.o learner.o libmecab.o\n",
            "ar: `u' modifier ignored since `D' is the default (see `U')\n",
            "libtool: link: ranlib .libs/libmecab.a\n",
            "libtool: link: ( cd \".libs\" && rm -f \"libmecab.la\" && ln -s \"../libmecab.la\" \"libmecab.la\" )\n",
            "g++ -DHAVE_CONFIG_H -I. -I.. -DDIC_VERSION=102   -DMECAB_DEFAULT_RC=\"\\\"/usr/local/etc/mecabrc\\\"\"    -O3 -Wall  -c -o mecab.o mecab.cpp\n",
            "/bin/bash ../libtool --tag=CXX   --mode=link g++  -O3 -Wall    -o mecab mecab.o libmecab.la -lpthread -lpthread  -lstdc++ \n",
            "libtool: link: g++ -O3 -Wall -o .libs/mecab mecab.o  ./.libs/libmecab.so -lpthread -lstdc++\n",
            "g++ -DHAVE_CONFIG_H -I. -I.. -DDIC_VERSION=102   -DMECAB_DEFAULT_RC=\"\\\"/usr/local/etc/mecabrc\\\"\"    -O3 -Wall  -c -o mecab-dict-index.o mecab-dict-index.cpp\n",
            "/bin/bash ../libtool --tag=CXX   --mode=link g++  -O3 -Wall    -o mecab-dict-index mecab-dict-index.o libmecab.la -lpthread -lpthread  -lstdc++ \n",
            "libtool: link: g++ -O3 -Wall -o .libs/mecab-dict-index mecab-dict-index.o  ./.libs/libmecab.so -lpthread -lstdc++\n",
            "g++ -DHAVE_CONFIG_H -I. -I.. -DDIC_VERSION=102   -DMECAB_DEFAULT_RC=\"\\\"/usr/local/etc/mecabrc\\\"\"    -O3 -Wall  -c -o mecab-dict-gen.o mecab-dict-gen.cpp\n",
            "/bin/bash ../libtool --tag=CXX   --mode=link g++  -O3 -Wall    -o mecab-dict-gen mecab-dict-gen.o libmecab.la -lpthread -lpthread  -lstdc++ \n",
            "libtool: link: g++ -O3 -Wall -o .libs/mecab-dict-gen mecab-dict-gen.o  ./.libs/libmecab.so -lpthread -lstdc++\n",
            "g++ -DHAVE_CONFIG_H -I. -I.. -DDIC_VERSION=102   -DMECAB_DEFAULT_RC=\"\\\"/usr/local/etc/mecabrc\\\"\"    -O3 -Wall  -c -o mecab-cost-train.o mecab-cost-train.cpp\n",
            "/bin/bash ../libtool --tag=CXX   --mode=link g++  -O3 -Wall    -o mecab-cost-train mecab-cost-train.o libmecab.la -lpthread -lpthread  -lstdc++ \n",
            "libtool: link: g++ -O3 -Wall -o .libs/mecab-cost-train mecab-cost-train.o  ./.libs/libmecab.so -lpthread -lstdc++\n",
            "g++ -DHAVE_CONFIG_H -I. -I.. -DDIC_VERSION=102   -DMECAB_DEFAULT_RC=\"\\\"/usr/local/etc/mecabrc\\\"\"    -O3 -Wall  -c -o mecab-system-eval.o mecab-system-eval.cpp\n",
            "/bin/bash ../libtool --tag=CXX   --mode=link g++  -O3 -Wall    -o mecab-system-eval mecab-system-eval.o libmecab.la -lpthread -lpthread  -lstdc++ \n",
            "libtool: link: g++ -O3 -Wall -o .libs/mecab-system-eval mecab-system-eval.o  ./.libs/libmecab.so -lpthread -lstdc++\n",
            "g++ -DHAVE_CONFIG_H -I. -I.. -DDIC_VERSION=102   -DMECAB_DEFAULT_RC=\"\\\"/usr/local/etc/mecabrc\\\"\"    -O3 -Wall  -c -o mecab-test-gen.o mecab-test-gen.cpp\n",
            "/bin/bash ../libtool --tag=CXX   --mode=link g++  -O3 -Wall    -o mecab-test-gen mecab-test-gen.o libmecab.la -lpthread -lpthread  -lstdc++ \n",
            "libtool: link: g++ -O3 -Wall -o .libs/mecab-test-gen mecab-test-gen.o  ./.libs/libmecab.so -lpthread -lstdc++\n",
            "make[2]: Leaving directory '/tmp/mecab-0.996-ko-0.9.2/src'\n",
            "Making all in man\n",
            "make[2]: Entering directory '/tmp/mecab-0.996-ko-0.9.2/man'\n",
            "make[2]: Nothing to be done for 'all'.\n",
            "make[2]: Leaving directory '/tmp/mecab-0.996-ko-0.9.2/man'\n",
            "Making all in doc\n",
            "make[2]: Entering directory '/tmp/mecab-0.996-ko-0.9.2/doc'\n",
            "make[2]: Nothing to be done for 'all'.\n",
            "make[2]: Leaving directory '/tmp/mecab-0.996-ko-0.9.2/doc'\n",
            "Making all in tests\n",
            "make[2]: Entering directory '/tmp/mecab-0.996-ko-0.9.2/tests'\n",
            "make[2]: Nothing to be done for 'all'.\n",
            "make[2]: Leaving directory '/tmp/mecab-0.996-ko-0.9.2/tests'\n",
            "make[2]: Entering directory '/tmp/mecab-0.996-ko-0.9.2'\n",
            "make[2]: Leaving directory '/tmp/mecab-0.996-ko-0.9.2'\n",
            "make[1]: Leaving directory '/tmp/mecab-0.996-ko-0.9.2'\n",
            "Making check in src\n",
            "make[1]: Entering directory '/tmp/mecab-0.996-ko-0.9.2/src'\n",
            "make[1]: Nothing to be done for 'check'.\n",
            "make[1]: Leaving directory '/tmp/mecab-0.996-ko-0.9.2/src'\n",
            "Making check in man\n",
            "make[1]: Entering directory '/tmp/mecab-0.996-ko-0.9.2/man'\n",
            "make[1]: Nothing to be done for 'check'.\n",
            "make[1]: Leaving directory '/tmp/mecab-0.996-ko-0.9.2/man'\n",
            "Making check in doc\n",
            "make[1]: Entering directory '/tmp/mecab-0.996-ko-0.9.2/doc'\n",
            "make[1]: Nothing to be done for 'check'.\n",
            "make[1]: Leaving directory '/tmp/mecab-0.996-ko-0.9.2/doc'\n",
            "Making check in tests\n",
            "make[1]: Entering directory '/tmp/mecab-0.996-ko-0.9.2/tests'\n",
            "make  check-TESTS\n",
            "make[2]: Entering directory '/tmp/mecab-0.996-ko-0.9.2/tests'\n",
            "./pos-id.def is not found. minimum setting is used\n",
            "reading ./unk.def ... 2\n",
            "emitting double-array: 100% |###########################################| \n",
            "./model.def is not found. skipped.\n",
            "./pos-id.def is not found. minimum setting is used\n",
            "reading ./dic.csv ... 177\n",
            "emitting double-array: 100% |###########################################| \n",
            "reading ./matrix.def ... 178x178\n",
            "emitting matrix      : 100% |###########################################| \n",
            "\n",
            "done!\n",
            "./pos-id.def is not found. minimum setting is used\n",
            "reading ./unk.def ... 2\n",
            "emitting double-array: 100% |###########################################| \n",
            "./model.def is not found. skipped.\n",
            "./pos-id.def is not found. minimum setting is used\n",
            "reading ./dic.csv ... 83\n",
            "emitting double-array: 100% |###########################################| \n",
            "reading ./matrix.def ... 84x84\n",
            "emitting matrix      : 100% |###########################################| \n",
            "\n",
            "done!\n",
            "./pos-id.def is not found. minimum setting is used\n",
            "reading ./unk.def ... 2\n",
            "emitting double-array: 100% |###########################################| \n",
            "./model.def is not found. skipped.\n",
            "./pos-id.def is not found. minimum setting is used\n",
            "reading ./dic.csv ... 450\n",
            "emitting double-array: 100% |###########################################| \n",
            "reading ./matrix.def ... 1x1\n",
            "\n",
            "done!\n",
            "./pos-id.def is not found. minimum setting is used\n",
            "reading ./unk.def ... 2\n",
            "emitting double-array: 100% |###########################################| \n",
            "./model.def is not found. skipped.\n",
            "./pos-id.def is not found. minimum setting is used\n",
            "reading ./dic.csv ... 162\n",
            "emitting double-array: 100% |###########################################| \n",
            "reading ./matrix.def ... 3x3\n",
            "emitting matrix      : 100% |###########################################| \n",
            "\n",
            "done!\n",
            "./pos-id.def is not found. minimum setting is used\n",
            "reading ./unk.def ... 2\n",
            "emitting double-array: 100% |###########################################| \n",
            "./model.def is not found. skipped.\n",
            "./pos-id.def is not found. minimum setting is used\n",
            "reading ./dic.csv ... 4\n",
            "emitting double-array: 100% |###########################################| \n",
            "reading ./matrix.def ... 1x1\n",
            "\n",
            "done!\n",
            "./pos-id.def is not found. minimum setting is used\n",
            "reading ./unk.def ... 11\n",
            "emitting double-array: 100% |###########################################| \n",
            "./model.def is not found. skipped.\n",
            "./pos-id.def is not found. minimum setting is used\n",
            "reading ./dic.csv ... 1\n",
            "reading ./matrix.def ... 1x1\n",
            "\n",
            "done!\n",
            "./pos-id.def is not found. minimum setting is used\n",
            "reading ./unk.def ... 2\n",
            "emitting double-array: 100% |###########################################| \n",
            "./model.def is not found. skipped.\n",
            "./pos-id.def is not found. minimum setting is used\n",
            "reading ./dic.csv ... 1\n",
            "reading ./matrix.def ... 1x1\n",
            "\n",
            "done!\n",
            "PASS: run-dics.sh\n",
            "PASS: run-eval.sh\n",
            "seed/pos-id.def is not found. minimum setting is used\n",
            "reading seed/unk.def ... 40\n",
            "emitting double-array: 100% |###########################################| \n",
            "seed/model.def is not found. skipped.\n",
            "seed/pos-id.def is not found. minimum setting is used\n",
            "reading seed/dic.csv ... 4335\n",
            "emitting double-array: 100% |###########################################| \n",
            "reading seed/matrix.def ... 1x1\n",
            "\n",
            "done!\n",
            "reading corpus ...\n",
            "Number of sentences: 34\n",
            "Number of features:  64108\n",
            "eta:                 0.00005\n",
            "freq:                1\n",
            "eval-size:           6\n",
            "unk-eval-size:       4\n",
            "threads:             1\n",
            "charset:             EUC-JP\n",
            "C(sigma^2):          1.00000\n",
            "\n",
            "iter=0 err=1.00000 F=0.35771 target=2406.28355 diff=1.00000\n",
            "iter=1 err=0.97059 F=0.65652 target=1484.25231 diff=0.38318\n",
            "iter=2 err=0.91176 F=0.79331 target=863.32765 diff=0.41834\n",
            "iter=3 err=0.85294 F=0.89213 target=596.72480 diff=0.30881\n",
            "iter=4 err=0.61765 F=0.95467 target=336.30744 diff=0.43641\n",
            "iter=5 err=0.50000 F=0.96702 target=246.53039 diff=0.26695\n",
            "iter=6 err=0.35294 F=0.95472 target=188.93963 diff=0.23361\n",
            "iter=7 err=0.20588 F=0.99106 target=168.62665 diff=0.10751\n",
            "iter=8 err=0.05882 F=0.99777 target=158.64865 diff=0.05917\n",
            "iter=9 err=0.08824 F=0.99665 target=154.14530 diff=0.02839\n",
            "iter=10 err=0.08824 F=0.99665 target=151.94257 diff=0.01429\n",
            "iter=11 err=0.02941 F=0.99888 target=147.20825 diff=0.03116\n",
            "iter=12 err=0.00000 F=1.00000 target=147.34956 diff=0.00096\n",
            "iter=13 err=0.02941 F=0.99888 target=146.32592 diff=0.00695\n",
            "iter=14 err=0.00000 F=1.00000 target=145.77299 diff=0.00378\n",
            "iter=15 err=0.02941 F=0.99888 target=145.24641 diff=0.00361\n",
            "iter=16 err=0.00000 F=1.00000 target=144.96490 diff=0.00194\n",
            "iter=17 err=0.02941 F=0.99888 target=144.90246 diff=0.00043\n",
            "iter=18 err=0.00000 F=1.00000 target=144.75959 diff=0.00099\n",
            "iter=19 err=0.00000 F=1.00000 target=144.71727 diff=0.00029\n",
            "iter=20 err=0.00000 F=1.00000 target=144.66337 diff=0.00037\n",
            "iter=21 err=0.00000 F=1.00000 target=144.61349 diff=0.00034\n",
            "iter=22 err=0.00000 F=1.00000 target=144.62987 diff=0.00011\n",
            "iter=23 err=0.00000 F=1.00000 target=144.60060 diff=0.00020\n",
            "iter=24 err=0.00000 F=1.00000 target=144.59125 diff=0.00006\n",
            "iter=25 err=0.00000 F=1.00000 target=144.58619 diff=0.00004\n",
            "iter=26 err=0.00000 F=1.00000 target=144.58219 diff=0.00003\n",
            "iter=27 err=0.00000 F=1.00000 target=144.58059 diff=0.00001\n",
            "\n",
            "Done! writing model file ... \n",
            "model-ipadic.c1.0.f1.model is not a binary model. reopen it as text mode...\n",
            "reading seed/unk.def ... 40\n",
            "reading seed/dic.csv ... 4335\n",
            "emitting model-ipadic.c1.0.f1.dic/left-id.def/ model-ipadic.c1.0.f1.dic/right-id.def\n",
            "emitting model-ipadic.c1.0.f1.dic/unk.def ... 40\n",
            "emitting model-ipadic.c1.0.f1.dic/dic.csv ... 4335\n",
            "emitting matrix      : 100% |###########################################| \n",
            "copying seed/char.def to model-ipadic.c1.0.f1.dic/char.def\n",
            "copying seed/rewrite.def to model-ipadic.c1.0.f1.dic/rewrite.def\n",
            "copying seed/dicrc to model-ipadic.c1.0.f1.dic/dicrc\n",
            "copying seed/feature.def to model-ipadic.c1.0.f1.dic/feature.def\n",
            "copying model-ipadic.c1.0.f1.model to model-ipadic.c1.0.f1.dic/model.def\n",
            "\n",
            "done!\n",
            "model-ipadic.c1.0.f1.dic/pos-id.def is not found. minimum setting is used\n",
            "reading model-ipadic.c1.0.f1.dic/unk.def ... 40\n",
            "emitting double-array: 100% |###########################################| \n",
            "model-ipadic.c1.0.f1.dic/pos-id.def is not found. minimum setting is used\n",
            "reading model-ipadic.c1.0.f1.dic/dic.csv ... 4335\n",
            "emitting double-array: 100% |###########################################| \n",
            "reading model-ipadic.c1.0.f1.dic/matrix.def ... 346x346\n",
            "emitting matrix      : 100% |###########################################| \n",
            "\n",
            "done!\n",
            "              precision          recall         F\n",
            "LEVEL 0:    12.8959(57/442) 11.8998(57/479) 12.3779\n",
            "LEVEL 1:    12.2172(54/442) 11.2735(54/479) 11.7264\n",
            "LEVEL 2:    11.7647(52/442) 10.8559(52/479) 11.2921\n",
            "LEVEL 4:    11.7647(52/442) 10.8559(52/479) 11.2921\n",
            "PASS: run-cost-train.sh\n",
            "==================\n",
            "All 3 tests passed\n",
            "==================\n",
            "make[2]: Leaving directory '/tmp/mecab-0.996-ko-0.9.2/tests'\n",
            "make[1]: Leaving directory '/tmp/mecab-0.996-ko-0.9.2/tests'\n",
            "make[1]: Entering directory '/tmp/mecab-0.996-ko-0.9.2'\n",
            "make[1]: Leaving directory '/tmp/mecab-0.996-ko-0.9.2'\n",
            "Making install in src\n",
            "make[1]: Entering directory '/tmp/mecab-0.996-ko-0.9.2/src'\n",
            "make[2]: Entering directory '/tmp/mecab-0.996-ko-0.9.2/src'\n",
            "test -z \"/usr/local/lib\" || /bin/mkdir -p \"/usr/local/lib\"\n",
            " /bin/bash ../libtool   --mode=install /usr/bin/install -c   libmecab.la '/usr/local/lib'\n",
            "libtool: install: /usr/bin/install -c .libs/libmecab.so.2.0.0 /usr/local/lib/libmecab.so.2.0.0\n",
            "libtool: install: (cd /usr/local/lib && { ln -s -f libmecab.so.2.0.0 libmecab.so.2 || { rm -f libmecab.so.2 && ln -s libmecab.so.2.0.0 libmecab.so.2; }; })\n",
            "libtool: install: (cd /usr/local/lib && { ln -s -f libmecab.so.2.0.0 libmecab.so || { rm -f libmecab.so && ln -s libmecab.so.2.0.0 libmecab.so; }; })\n",
            "libtool: install: /usr/bin/install -c .libs/libmecab.lai /usr/local/lib/libmecab.la\n",
            "libtool: install: /usr/bin/install -c .libs/libmecab.a /usr/local/lib/libmecab.a\n",
            "libtool: install: chmod 644 /usr/local/lib/libmecab.a\n",
            "libtool: install: ranlib /usr/local/lib/libmecab.a\n",
            "libtool: finish: PATH=\"/usr/local/sbin:/usr/local/bin:/usr/sbin:/usr/bin:/sbin:/bin:/snap/bin:/sbin\" ldconfig -n /usr/local/lib\n",
            "----------------------------------------------------------------------\n",
            "Libraries have been installed in:\n",
            "   /usr/local/lib\n",
            "\n",
            "If you ever happen to want to link against installed libraries\n",
            "in a given directory, LIBDIR, you must either use libtool, and\n",
            "specify the full pathname of the library, or use the `-LLIBDIR'\n",
            "flag during linking and do at least one of the following:\n",
            "   - add LIBDIR to the `LD_LIBRARY_PATH' environment variable\n",
            "     during execution\n",
            "   - add LIBDIR to the `LD_RUN_PATH' environment variable\n",
            "     during linking\n",
            "   - use the `-Wl,-rpath -Wl,LIBDIR' linker flag\n",
            "   - have your system administrator add LIBDIR to `/etc/ld.so.conf'\n",
            "\n",
            "See any operating system documentation about shared libraries for\n",
            "more information, such as the ld(1) and ld.so(8) manual pages.\n",
            "----------------------------------------------------------------------\n",
            "test -z \"/usr/local/bin\" || /bin/mkdir -p \"/usr/local/bin\"\n",
            "  /bin/bash ../libtool   --mode=install /usr/bin/install -c mecab '/usr/local/bin'\n",
            "libtool: install: /usr/bin/install -c .libs/mecab /usr/local/bin/mecab\n",
            "test -z \"/usr/local/libexec/mecab\" || /bin/mkdir -p \"/usr/local/libexec/mecab\"\n",
            "  /bin/bash ../libtool   --mode=install /usr/bin/install -c mecab-dict-index mecab-dict-gen mecab-cost-train mecab-system-eval mecab-test-gen '/usr/local/libexec/mecab'\n",
            "libtool: install: /usr/bin/install -c .libs/mecab-dict-index /usr/local/libexec/mecab/mecab-dict-index\n",
            "libtool: install: /usr/bin/install -c .libs/mecab-dict-gen /usr/local/libexec/mecab/mecab-dict-gen\n",
            "libtool: install: /usr/bin/install -c .libs/mecab-cost-train /usr/local/libexec/mecab/mecab-cost-train\n",
            "libtool: install: /usr/bin/install -c .libs/mecab-system-eval /usr/local/libexec/mecab/mecab-system-eval\n",
            "libtool: install: /usr/bin/install -c .libs/mecab-test-gen /usr/local/libexec/mecab/mecab-test-gen\n",
            "test -z \"/usr/local/include\" || /bin/mkdir -p \"/usr/local/include\"\n",
            " /usr/bin/install -c -m 644 mecab.h '/usr/local/include'\n",
            "make[2]: Leaving directory '/tmp/mecab-0.996-ko-0.9.2/src'\n",
            "make[1]: Leaving directory '/tmp/mecab-0.996-ko-0.9.2/src'\n",
            "Making install in man\n",
            "make[1]: Entering directory '/tmp/mecab-0.996-ko-0.9.2/man'\n",
            "make[2]: Entering directory '/tmp/mecab-0.996-ko-0.9.2/man'\n",
            "make[2]: Nothing to be done for 'install-exec-am'.\n",
            "test -z \"/usr/local/share/man/man1\" || /bin/mkdir -p \"/usr/local/share/man/man1\"\n",
            " /usr/bin/install -c -m 644 mecab.1 '/usr/local/share/man/man1'\n",
            "make[2]: Leaving directory '/tmp/mecab-0.996-ko-0.9.2/man'\n",
            "make[1]: Leaving directory '/tmp/mecab-0.996-ko-0.9.2/man'\n",
            "Making install in doc\n",
            "make[1]: Entering directory '/tmp/mecab-0.996-ko-0.9.2/doc'\n",
            "make[2]: Entering directory '/tmp/mecab-0.996-ko-0.9.2/doc'\n",
            "make[2]: Nothing to be done for 'install-exec-am'.\n",
            "make[2]: Nothing to be done for 'install-data-am'.\n",
            "make[2]: Leaving directory '/tmp/mecab-0.996-ko-0.9.2/doc'\n",
            "make[1]: Leaving directory '/tmp/mecab-0.996-ko-0.9.2/doc'\n",
            "Making install in tests\n",
            "make[1]: Entering directory '/tmp/mecab-0.996-ko-0.9.2/tests'\n",
            "make[2]: Entering directory '/tmp/mecab-0.996-ko-0.9.2/tests'\n",
            "make[2]: Nothing to be done for 'install-exec-am'.\n",
            "make[2]: Nothing to be done for 'install-data-am'.\n",
            "make[2]: Leaving directory '/tmp/mecab-0.996-ko-0.9.2/tests'\n",
            "make[1]: Leaving directory '/tmp/mecab-0.996-ko-0.9.2/tests'\n",
            "make[1]: Entering directory '/tmp/mecab-0.996-ko-0.9.2'\n",
            "make[2]: Entering directory '/tmp/mecab-0.996-ko-0.9.2'\n",
            "test -z \"/usr/local/bin\" || /bin/mkdir -p \"/usr/local/bin\"\n",
            " /usr/bin/install -c mecab-config '/usr/local/bin'\n",
            "test -z \"/usr/local/etc\" || /bin/mkdir -p \"/usr/local/etc\"\n",
            " /usr/bin/install -c -m 644 mecabrc '/usr/local/etc'\n",
            "make[2]: Leaving directory '/tmp/mecab-0.996-ko-0.9.2'\n",
            "make[1]: Leaving directory '/tmp/mecab-0.996-ko-0.9.2'\n",
            "Install mecab-ko-dic\n",
            "Install mecab-ko-dic\n",
            "  % Total    % Received % Xferd  Average Speed   Time    Time     Time  Current\n",
            "                                 Dload  Upload   Total   Spent    Left  Speed\n",
            "  0     0    0     0    0     0      0      0 --:--:-- --:--:-- --:--:--     0\n",
            "100 47.4M  100 47.4M    0     0  8357k      0  0:00:05  0:00:05 --:--:--  9.8M\n",
            "mecab-ko-dic-2.1.1-20180720/\n",
            "mecab-ko-dic-2.1.1-20180720/configure\n",
            "mecab-ko-dic-2.1.1-20180720/COPYING\n",
            "mecab-ko-dic-2.1.1-20180720/autogen.sh\n",
            "mecab-ko-dic-2.1.1-20180720/Place-station.csv\n",
            "mecab-ko-dic-2.1.1-20180720/NNG.csv\n",
            "mecab-ko-dic-2.1.1-20180720/README\n",
            "mecab-ko-dic-2.1.1-20180720/EF.csv\n",
            "mecab-ko-dic-2.1.1-20180720/MAG.csv\n",
            "mecab-ko-dic-2.1.1-20180720/Preanalysis.csv\n",
            "mecab-ko-dic-2.1.1-20180720/NNB.csv\n",
            "mecab-ko-dic-2.1.1-20180720/Person-actor.csv\n",
            "mecab-ko-dic-2.1.1-20180720/VV.csv\n",
            "mecab-ko-dic-2.1.1-20180720/Makefile.in\n",
            "mecab-ko-dic-2.1.1-20180720/matrix.def\n",
            "mecab-ko-dic-2.1.1-20180720/EC.csv\n",
            "mecab-ko-dic-2.1.1-20180720/NNBC.csv\n",
            "mecab-ko-dic-2.1.1-20180720/clean\n",
            "mecab-ko-dic-2.1.1-20180720/ChangeLog\n",
            "mecab-ko-dic-2.1.1-20180720/J.csv\n",
            "mecab-ko-dic-2.1.1-20180720/.keep\n",
            "mecab-ko-dic-2.1.1-20180720/feature.def\n",
            "mecab-ko-dic-2.1.1-20180720/Foreign.csv\n",
            "mecab-ko-dic-2.1.1-20180720/XPN.csv\n",
            "mecab-ko-dic-2.1.1-20180720/EP.csv\n",
            "mecab-ko-dic-2.1.1-20180720/NR.csv\n",
            "mecab-ko-dic-2.1.1-20180720/left-id.def\n",
            "mecab-ko-dic-2.1.1-20180720/Place.csv\n",
            "mecab-ko-dic-2.1.1-20180720/Symbol.csv\n",
            "mecab-ko-dic-2.1.1-20180720/dicrc\n",
            "mecab-ko-dic-2.1.1-20180720/NP.csv\n",
            "mecab-ko-dic-2.1.1-20180720/ETM.csv\n",
            "mecab-ko-dic-2.1.1-20180720/IC.csv\n",
            "mecab-ko-dic-2.1.1-20180720/Place-address.csv\n",
            "mecab-ko-dic-2.1.1-20180720/Group.csv\n",
            "mecab-ko-dic-2.1.1-20180720/model.def\n",
            "mecab-ko-dic-2.1.1-20180720/XSN.csv\n",
            "mecab-ko-dic-2.1.1-20180720/INSTALL\n",
            "mecab-ko-dic-2.1.1-20180720/rewrite.def\n",
            "mecab-ko-dic-2.1.1-20180720/Inflect.csv\n",
            "mecab-ko-dic-2.1.1-20180720/configure.ac\n",
            "mecab-ko-dic-2.1.1-20180720/NNP.csv\n",
            "mecab-ko-dic-2.1.1-20180720/CoinedWord.csv\n",
            "mecab-ko-dic-2.1.1-20180720/XSV.csv\n",
            "mecab-ko-dic-2.1.1-20180720/pos-id.def\n",
            "mecab-ko-dic-2.1.1-20180720/Makefile.am\n",
            "mecab-ko-dic-2.1.1-20180720/unk.def\n",
            "mecab-ko-dic-2.1.1-20180720/missing\n",
            "mecab-ko-dic-2.1.1-20180720/VCP.csv\n",
            "mecab-ko-dic-2.1.1-20180720/install-sh\n",
            "mecab-ko-dic-2.1.1-20180720/Hanja.csv\n",
            "mecab-ko-dic-2.1.1-20180720/MAJ.csv\n",
            "mecab-ko-dic-2.1.1-20180720/XSA.csv\n",
            "mecab-ko-dic-2.1.1-20180720/Wikipedia.csv\n",
            "mecab-ko-dic-2.1.1-20180720/tools/\n",
            "mecab-ko-dic-2.1.1-20180720/tools/add-userdic.sh\n",
            "mecab-ko-dic-2.1.1-20180720/tools/mecab-bestn.sh\n",
            "mecab-ko-dic-2.1.1-20180720/tools/convert_for_using_store.sh\n",
            "mecab-ko-dic-2.1.1-20180720/user-dic/\n",
            "mecab-ko-dic-2.1.1-20180720/user-dic/nnp.csv\n",
            "mecab-ko-dic-2.1.1-20180720/user-dic/place.csv\n",
            "mecab-ko-dic-2.1.1-20180720/user-dic/person.csv\n",
            "mecab-ko-dic-2.1.1-20180720/user-dic/README.md\n",
            "mecab-ko-dic-2.1.1-20180720/NorthKorea.csv\n",
            "mecab-ko-dic-2.1.1-20180720/VX.csv\n",
            "mecab-ko-dic-2.1.1-20180720/right-id.def\n",
            "mecab-ko-dic-2.1.1-20180720/VA.csv\n",
            "mecab-ko-dic-2.1.1-20180720/char.def\n",
            "mecab-ko-dic-2.1.1-20180720/NEWS\n",
            "mecab-ko-dic-2.1.1-20180720/MM.csv\n",
            "mecab-ko-dic-2.1.1-20180720/ETN.csv\n",
            "mecab-ko-dic-2.1.1-20180720/AUTHORS\n",
            "mecab-ko-dic-2.1.1-20180720/Person.csv\n",
            "mecab-ko-dic-2.1.1-20180720/XR.csv\n",
            "mecab-ko-dic-2.1.1-20180720/VCN.csv\n",
            "Looking in current directory for macros.\n",
            "configure.ac:2: warning: AM_INIT_AUTOMAKE: two- and three-arguments forms are deprecated.  For more info, see:\n",
            "configure.ac:2: http://www.gnu.org/software/automake/manual/automake.html#Modernize-AM_005fINIT_005fAUTOMAKE-invocation\n",
            "checking for a BSD-compatible install... /usr/bin/install -c\n",
            "checking whether build environment is sane... yes\n",
            "/tmp/mecab-ko-dic-2.1.1-20180720/missing: Unknown `--is-lightweight' option\n",
            "Try `/tmp/mecab-ko-dic-2.1.1-20180720/missing --help' for more information\n",
            "configure: WARNING: 'missing' script is too old or missing\n",
            "checking for a thread-safe mkdir -p... /bin/mkdir -p\n",
            "checking for gawk... no\n",
            "checking for mawk... mawk\n",
            "checking whether make sets $(MAKE)... yes\n",
            "checking whether make supports nested variables... yes\n",
            "checking for mecab-config... /usr/local/bin/mecab-config\n",
            "checking that generated files are newer than configure... done\n",
            "configure: creating ./config.status\n",
            "config.status: creating Makefile\n",
            "/usr/local/lib\n",
            "/sbin/ldconfig.real: /usr/local/lib/python3.7/dist-packages/ideep4py/lib/libmkldnn.so.0 is not a symbolic link\n",
            "\n",
            "/usr/local/libexec/mecab/mecab-dict-index -d . -o . -f UTF-8 -t UTF-8\n",
            "reading ./unk.def ... 13\n",
            "emitting double-array: 100% |###########################################| \n",
            "reading ./XSN.csv ... 124\n",
            "reading ./ETM.csv ... 133\n",
            "reading ./NP.csv ... 342\n",
            "reading ./MAG.csv ... 14242\n",
            "reading ./VV.csv ... 7331\n",
            "reading ./Symbol.csv ... 16\n",
            "reading ./MM.csv ... 453\n",
            "reading ./NNBC.csv ... 677\n",
            "reading ./IC.csv ... 1305\n",
            "reading ./EP.csv ... 51\n",
            "reading ./XPN.csv ... 83\n",
            "reading ./NR.csv ... 482\n",
            "reading ./Group.csv ... 3176\n",
            "reading ./XSA.csv ... 19\n",
            "reading ./Hanja.csv ... 125750\n",
            "reading ./Place-station.csv ... 1145\n",
            "reading ./XR.csv ... 3637\n",
            "reading ./EC.csv ... 2547\n",
            "reading ./VCP.csv ... 9\n",
            "reading ./XSV.csv ... 23\n",
            "reading ./Person.csv ... 196459\n",
            "reading ./Inflect.csv ... 44820\n",
            "reading ./NNP.csv ... 2371\n",
            "reading ./EF.csv ... 1820\n",
            "reading ./Place-address.csv ... 19301\n",
            "reading ./ETN.csv ... 14\n",
            "reading ./Person-actor.csv ... 99230\n",
            "reading ./VCN.csv ... 7\n",
            "reading ./VA.csv ... 2360\n",
            "reading ./Wikipedia.csv ... 36762\n",
            "reading ./NorthKorea.csv ... 3\n",
            "reading ./Foreign.csv ... 11690\n",
            "reading ./Preanalysis.csv ... 5\n",
            "reading ./CoinedWord.csv ... 148\n",
            "reading ./Place.csv ... 30303\n",
            "reading ./NNG.csv ... 208524\n",
            "reading ./J.csv ... 416\n",
            "reading ./VX.csv ... 125\n",
            "reading ./NNB.csv ... 140\n",
            "reading ./MAJ.csv ... 240\n",
            "emitting double-array: 100% |###########################################| \n",
            "reading ./matrix.def ... 3822x2693\n",
            "emitting matrix      : 100% |###########################################| \n",
            "\n",
            "done!\n",
            "echo To enable dictionary, rewrite /usr/local/etc/mecabrc as \\\"dicdir = /usr/local/lib/mecab/dic/mecab-ko-dic\\\"\n",
            "To enable dictionary, rewrite /usr/local/etc/mecabrc as \"dicdir = /usr/local/lib/mecab/dic/mecab-ko-dic\"\n",
            "make[1]: Entering directory '/tmp/mecab-ko-dic-2.1.1-20180720'\n",
            "make[1]: Nothing to be done for 'install-exec-am'.\n",
            " /bin/mkdir -p '/usr/local/lib/mecab/dic/mecab-ko-dic'\n",
            " /usr/bin/install -c -m 644 model.bin matrix.bin char.bin sys.dic unk.dic left-id.def right-id.def rewrite.def pos-id.def dicrc '/usr/local/lib/mecab/dic/mecab-ko-dic'\n",
            "make[1]: Leaving directory '/tmp/mecab-ko-dic-2.1.1-20180720'\n",
            "Install mecab-python\n",
            "/tmp /tmp/mecab-ko-dic-2.1.1-20180720\n",
            "Cloning into 'mecab-python-0.996'...\n",
            "Unpacking objects: 100% (17/17), done.\n",
            "/tmp/mecab-ko-dic-2.1.1-20180720\n",
            "Processing /tmp/mecab-python-0.996\n",
            "\u001b[33m  DEPRECATION: A future pip version will change local packages to be built in-place without first copying to a temporary directory. We recommend you use --use-feature=in-tree-build to test your packages with this new behavior before it becomes the default.\n",
            "   pip 21.3 will remove support for this functionality. You can find discussion regarding this at https://github.com/pypa/pip/issues/7555.\u001b[0m\n",
            "Building wheels for collected packages: mecab-python\n",
            "  Building wheel for mecab-python (setup.py) ... \u001b[?25l\u001b[?25hdone\n",
            "  Created wheel for mecab-python: filename=mecab_python-0.996_ko_0.9.2-cp37-cp37m-linux_x86_64.whl size=141812 sha256=1312189b47b37132c30d1b7704fc5f016dc5eacafb02b6d7f1533a08adabfeb4\n",
            "  Stored in directory: /root/.cache/pip/wheels/40/7b/9f/2922869bef86c3354ae7034f7a3647c573ee1997c2dad0290a\n",
            "\u001b[33m  WARNING: Built wheel for mecab-python is invalid: Metadata 1.2 mandates PEP 440 version, but '0.996-ko-0.9.2' is not\u001b[0m\n",
            "Failed to build mecab-python\n",
            "Installing collected packages: mecab-python\n",
            "    Running setup.py install for mecab-python ... \u001b[?25l\u001b[?25hdone\n",
            "\u001b[33m  DEPRECATION: mecab-python was installed using the legacy 'setup.py install' method, because a wheel could not be built for it. A possible replacement is to fix the wheel build issue reported above. You can find discussion regarding this at https://github.com/pypa/pip/issues/8368.\u001b[0m\n",
            "Successfully installed mecab-python-0.996-ko-0.9.2\n",
            "Done.\n"
          ],
          "name": "stdout"
        }
      ]
    },
    {
      "cell_type": "code",
      "metadata": {
        "id": "kqlwH_C7yhsX"
      },
      "source": [
        "import pandas as pd\n",
        "import numpy as np\n",
        "\n",
        "import urllib.request\n",
        "%matplotlib inline\n",
        "import matplotlib.pyplot as plt\n",
        "\n",
        "from tensorflow import keras\n",
        "from tensorflow.keras import layers, Sequential\n",
        "from tensorflow.keras.preprocessing.text import Tokenizer\n",
        "from tensorflow.keras.preprocessing.sequence import pad_sequences\n",
        "\n",
        "from collections import Counter\n",
        "from konlpy.tag import Okt\n",
        "\n",
        "import re\n",
        "import os\n",
        "from os.path import join\n",
        "from pprint import pprint"
      ],
      "execution_count": 7,
      "outputs": []
    },
    {
      "cell_type": "code",
      "metadata": {
        "colab": {
          "base_uri": "https://localhost:8080/",
          "height": 206
        },
        "id": "60cfgJ1TzYtn",
        "outputId": "7f49702a-c4c5-4927-be84-e725e91ec4d4"
      },
      "source": [
        "root_path = '/content/drive/MyDrive/Colab_Notebook/aiffel_lms/E7_text_sentiment/data'\n",
        "\n",
        "use_data_path = join(root_path, 'use')\n",
        "\n",
        "train_data = pd.read_table(join(use_data_path, 'ratings_train.txt'))\n",
        "test_data = pd.read_table(join(use_data_path, 'ratings_test.txt'))\n",
        "\n",
        "train_data.head()"
      ],
      "execution_count": 8,
      "outputs": [
        {
          "output_type": "execute_result",
          "data": {
            "text/html": [
              "<div>\n",
              "<style scoped>\n",
              "    .dataframe tbody tr th:only-of-type {\n",
              "        vertical-align: middle;\n",
              "    }\n",
              "\n",
              "    .dataframe tbody tr th {\n",
              "        vertical-align: top;\n",
              "    }\n",
              "\n",
              "    .dataframe thead th {\n",
              "        text-align: right;\n",
              "    }\n",
              "</style>\n",
              "<table border=\"1\" class=\"dataframe\">\n",
              "  <thead>\n",
              "    <tr style=\"text-align: right;\">\n",
              "      <th></th>\n",
              "      <th>id</th>\n",
              "      <th>document</th>\n",
              "      <th>label</th>\n",
              "    </tr>\n",
              "  </thead>\n",
              "  <tbody>\n",
              "    <tr>\n",
              "      <th>0</th>\n",
              "      <td>9976970</td>\n",
              "      <td>아 더빙.. 진짜 짜증나네요 목소리</td>\n",
              "      <td>0</td>\n",
              "    </tr>\n",
              "    <tr>\n",
              "      <th>1</th>\n",
              "      <td>3819312</td>\n",
              "      <td>흠...포스터보고 초딩영화줄....오버연기조차 가볍지 않구나</td>\n",
              "      <td>1</td>\n",
              "    </tr>\n",
              "    <tr>\n",
              "      <th>2</th>\n",
              "      <td>10265843</td>\n",
              "      <td>너무재밓었다그래서보는것을추천한다</td>\n",
              "      <td>0</td>\n",
              "    </tr>\n",
              "    <tr>\n",
              "      <th>3</th>\n",
              "      <td>9045019</td>\n",
              "      <td>교도소 이야기구먼 ..솔직히 재미는 없다..평점 조정</td>\n",
              "      <td>0</td>\n",
              "    </tr>\n",
              "    <tr>\n",
              "      <th>4</th>\n",
              "      <td>6483659</td>\n",
              "      <td>사이몬페그의 익살스런 연기가 돋보였던 영화!스파이더맨에서 늙어보이기만 했던 커스틴 ...</td>\n",
              "      <td>1</td>\n",
              "    </tr>\n",
              "  </tbody>\n",
              "</table>\n",
              "</div>"
            ],
            "text/plain": [
              "         id                                           document  label\n",
              "0   9976970                                아 더빙.. 진짜 짜증나네요 목소리      0\n",
              "1   3819312                  흠...포스터보고 초딩영화줄....오버연기조차 가볍지 않구나      1\n",
              "2  10265843                                  너무재밓었다그래서보는것을추천한다      0\n",
              "3   9045019                      교도소 이야기구먼 ..솔직히 재미는 없다..평점 조정      0\n",
              "4   6483659  사이몬페그의 익살스런 연기가 돋보였던 영화!스파이더맨에서 늙어보이기만 했던 커스틴 ...      1"
            ]
          },
          "metadata": {
            "tags": []
          },
          "execution_count": 8
        }
      ]
    },
    {
      "cell_type": "markdown",
      "metadata": {
        "id": "CZTzUFIeQLYB"
      },
      "source": [
        "#### Data 특수문자 미리 삭제 "
      ]
    },
    {
      "cell_type": "code",
      "metadata": {
        "id": "hgDzuFdgOoxP"
      },
      "source": [
        "train_data['document'] = train_data['document'].str.replace(pat=r'[^\\w]', repl=r' ', regex=True)\n",
        "test_data['document'] = test_data['document'].str.replace(pat=r'[^\\w]', repl=r' ', regex=True)"
      ],
      "execution_count": 9,
      "outputs": []
    },
    {
      "cell_type": "code",
      "metadata": {
        "colab": {
          "base_uri": "https://localhost:8080/",
          "height": 424
        },
        "id": "C62RR5_bPAO3",
        "outputId": "709da769-b22b-4330-a0f3-3baa9eeee86c"
      },
      "source": [
        "train_data"
      ],
      "execution_count": 10,
      "outputs": [
        {
          "output_type": "execute_result",
          "data": {
            "text/html": [
              "<div>\n",
              "<style scoped>\n",
              "    .dataframe tbody tr th:only-of-type {\n",
              "        vertical-align: middle;\n",
              "    }\n",
              "\n",
              "    .dataframe tbody tr th {\n",
              "        vertical-align: top;\n",
              "    }\n",
              "\n",
              "    .dataframe thead th {\n",
              "        text-align: right;\n",
              "    }\n",
              "</style>\n",
              "<table border=\"1\" class=\"dataframe\">\n",
              "  <thead>\n",
              "    <tr style=\"text-align: right;\">\n",
              "      <th></th>\n",
              "      <th>id</th>\n",
              "      <th>document</th>\n",
              "      <th>label</th>\n",
              "    </tr>\n",
              "  </thead>\n",
              "  <tbody>\n",
              "    <tr>\n",
              "      <th>0</th>\n",
              "      <td>9976970</td>\n",
              "      <td>아 더빙   진짜 짜증나네요 목소리</td>\n",
              "      <td>0</td>\n",
              "    </tr>\n",
              "    <tr>\n",
              "      <th>1</th>\n",
              "      <td>3819312</td>\n",
              "      <td>흠   포스터보고 초딩영화줄    오버연기조차 가볍지 않구나</td>\n",
              "      <td>1</td>\n",
              "    </tr>\n",
              "    <tr>\n",
              "      <th>2</th>\n",
              "      <td>10265843</td>\n",
              "      <td>너무재밓었다그래서보는것을추천한다</td>\n",
              "      <td>0</td>\n",
              "    </tr>\n",
              "    <tr>\n",
              "      <th>3</th>\n",
              "      <td>9045019</td>\n",
              "      <td>교도소 이야기구먼   솔직히 재미는 없다  평점 조정</td>\n",
              "      <td>0</td>\n",
              "    </tr>\n",
              "    <tr>\n",
              "      <th>4</th>\n",
              "      <td>6483659</td>\n",
              "      <td>사이몬페그의 익살스런 연기가 돋보였던 영화 스파이더맨에서 늙어보이기만 했던 커스틴 ...</td>\n",
              "      <td>1</td>\n",
              "    </tr>\n",
              "    <tr>\n",
              "      <th>...</th>\n",
              "      <td>...</td>\n",
              "      <td>...</td>\n",
              "      <td>...</td>\n",
              "    </tr>\n",
              "    <tr>\n",
              "      <th>149995</th>\n",
              "      <td>6222902</td>\n",
              "      <td>인간이 문제지   소는 뭔죄인가</td>\n",
              "      <td>0</td>\n",
              "    </tr>\n",
              "    <tr>\n",
              "      <th>149996</th>\n",
              "      <td>8549745</td>\n",
              "      <td>평점이 너무 낮아서</td>\n",
              "      <td>1</td>\n",
              "    </tr>\n",
              "    <tr>\n",
              "      <th>149997</th>\n",
              "      <td>9311800</td>\n",
              "      <td>이게 뭐요  한국인은 거들먹거리고 필리핀 혼혈은 착하다</td>\n",
              "      <td>0</td>\n",
              "    </tr>\n",
              "    <tr>\n",
              "      <th>149998</th>\n",
              "      <td>2376369</td>\n",
              "      <td>청춘 영화의 최고봉 방황과 우울했던 날들의 자화상</td>\n",
              "      <td>1</td>\n",
              "    </tr>\n",
              "    <tr>\n",
              "      <th>149999</th>\n",
              "      <td>9619869</td>\n",
              "      <td>한국 영화 최초로 수간하는 내용이 담긴 영화</td>\n",
              "      <td>0</td>\n",
              "    </tr>\n",
              "  </tbody>\n",
              "</table>\n",
              "<p>150000 rows × 3 columns</p>\n",
              "</div>"
            ],
            "text/plain": [
              "              id                                           document  label\n",
              "0        9976970                                아 더빙   진짜 짜증나네요 목소리      0\n",
              "1        3819312                  흠   포스터보고 초딩영화줄    오버연기조차 가볍지 않구나      1\n",
              "2       10265843                                  너무재밓었다그래서보는것을추천한다      0\n",
              "3        9045019                      교도소 이야기구먼   솔직히 재미는 없다  평점 조정      0\n",
              "4        6483659  사이몬페그의 익살스런 연기가 돋보였던 영화 스파이더맨에서 늙어보이기만 했던 커스틴 ...      1\n",
              "...          ...                                                ...    ...\n",
              "149995   6222902                                인간이 문제지   소는 뭔죄인가        0\n",
              "149996   8549745                                      평점이 너무 낮아서         1\n",
              "149997   9311800                    이게 뭐요  한국인은 거들먹거리고 필리핀 혼혈은 착하다       0\n",
              "149998   2376369                        청춘 영화의 최고봉 방황과 우울했던 날들의 자화상      1\n",
              "149999   9619869                           한국 영화 최초로 수간하는 내용이 담긴 영화      0\n",
              "\n",
              "[150000 rows x 3 columns]"
            ]
          },
          "metadata": {
            "tags": []
          },
          "execution_count": 10
        }
      ]
    },
    {
      "cell_type": "markdown",
      "metadata": {
        "id": "akxoYWlz1efh"
      },
      "source": [
        "### Data Loader"
      ]
    },
    {
      "cell_type": "code",
      "metadata": {
        "id": "shfspLEC1UUJ"
      },
      "source": [
        "# Mecab() 분석기 사용 \n",
        "\n",
        "from konlpy.tag import Mecab\n",
        "tokenizer = Mecab()\n",
        "stopwords = ['의','가','이','은','들','는','좀','잘','걍','과','도','를','으로','자','에','와','한','하다']\n",
        "\n",
        "def load_data(train_data, test_data, num_words=10000):\n",
        "    train_data.drop_duplicates(subset=['document'], inplace=True)\n",
        "    train_data = train_data.dropna(how = 'any') \n",
        "    test_data.drop_duplicates(subset=['document'], inplace=True)\n",
        "    test_data = test_data.dropna(how = 'any') \n",
        "    \n",
        "    x_train = []\n",
        "    for sentence in train_data['document']:\n",
        "        temp_x = tokenizer.morphs(sentence) # 형태소 추출 / 토큰화\n",
        "        temp_x = [word for word in temp_x if not word in stopwords] # 불용어 제거\n",
        "        x_train.append(temp_x)\n",
        "\n",
        "    x_test = []\n",
        "    for sentence in test_data['document']:\n",
        "        temp_x = tokenizer.morphs(sentence) \n",
        "        temp_x = [word for word in temp_x if not word in stopwords]\n",
        "        x_test.append(temp_x)\n",
        "    \n",
        "    words = np.concatenate(x_train).tolist()\n",
        "    counter = Counter(words) # 자주 발생하는 단어에 낮은 인덱스가 할당되는 방식으로 진행 \n",
        "    counter = counter.most_common(10000-4)\n",
        "    vocab = ['', '', '', ''] + [key for key, _ in counter]\n",
        "    word_to_index = {word:index for index, word in enumerate(vocab)}\n",
        "        \n",
        "    def wordlist_to_indexlist(wordlist):\n",
        "        return [word_to_index[word] if word in word_to_index else word_to_index[''] for word in wordlist]\n",
        "        \n",
        "    x_train = list(map(wordlist_to_indexlist, x_train))\n",
        "    x_test = list(map(wordlist_to_indexlist, x_test))\n",
        "        \n",
        "    return x_train, np.array(list(train_data['label'])), x_test, np.array(list(test_data['label'])), word_to_index\n",
        "    "
      ],
      "execution_count": 11,
      "outputs": []
    },
    {
      "cell_type": "code",
      "metadata": {
        "id": "b5N3715fAA5k"
      },
      "source": [
        "# 데이터 로드 \n",
        "# 현재 dict에는 10000-4개의 단어가 포함되어 있음  \n",
        "\n",
        "x_train, y_train, x_test, y_test, word_to_index = load_data(train_data, test_data) "
      ],
      "execution_count": 12,
      "outputs": []
    },
    {
      "cell_type": "markdown",
      "metadata": {
        "id": "7Jqzl7mN2Olz"
      },
      "source": [
        "### Fuctions"
      ]
    },
    {
      "cell_type": "markdown",
      "metadata": {
        "id": "aK--6ZVK8Iz0"
      },
      "source": [
        "#### Encoding & Decoding Dictionary "
      ]
    },
    {
      "cell_type": "code",
      "metadata": {
        "id": "E8kQVIFO1USC"
      },
      "source": [
        "# index로 학습 진행한 후, word로 확인하기 위해\n",
        "\n",
        "index_to_word = {index:word for word, index in word_to_index.items()}"
      ],
      "execution_count": 13,
      "outputs": []
    },
    {
      "cell_type": "code",
      "metadata": {
        "colab": {
          "base_uri": "https://localhost:8080/"
        },
        "id": "bz_PyP604HwJ",
        "outputId": "d7d2efa3-8e8e-404f-9ef3-b2f635215bd4"
      },
      "source": [
        "word_to_index.items()"
      ],
      "execution_count": 14,
      "outputs": [
        {
          "output_type": "execute_result",
          "data": {
            "text/plain": [
              "dict_items([('', 3), ('영화', 4), ('다', 5), ('고', 6), ('하', 7), ('을', 8), ('보', 9), ('게', 10), ('지', 11), ('있', 12), ('없', 13), ('좋', 14), ('나', 15), ('었', 16), ('만', 17), ('는데', 18), ('너무', 19), ('봤', 20), ('적', 21), ('안', 22), ('정말', 23), ('로', 24), ('음', 25), ('것', 26), ('아', 27), ('네요', 28), ('재밌', 29), ('어', 30), ('지만', 31), ('같', 32), ('점', 33), ('진짜', 34), ('에서', 35), ('했', 36), ('기', 37), ('네', 38), ('않', 39), ('거', 40), ('았', 41), ('수', 42), ('되', 43), ('면', 44), ('ㅋㅋ', 45), ('인', 46), ('말', 47), ('연기', 48), ('주', 49), ('내', 50), ('최고', 51), ('평점', 52), ('이런', 53), ('던', 54), ('어요', 55), ('할', 56), ('왜', 57), ('겠', 58), ('1', 59), ('스토리', 60), ('해', 61), ('습니다', 62), ('ㅋㅋㅋ', 63), ('듯', 64), ('아니', 65), ('드라마', 66), ('생각', 67), ('더', 68), ('그', 69), ('싶', 70), ('사람', 71), ('때', 72), ('감동', 73), ('배우', 74), ('함', 75), ('본', 76), ('까지', 77), ('뭐', 78), ('알', 79), ('만들', 80), ('내용', 81), ('볼', 82), ('보다', 83), ('라', 84), ('감독', 85), ('재미', 86), ('그냥', 87), ('시간', 88), ('중', 89), ('지루', 90), ('재미있', 91), ('년', 92), ('10', 93), ('였', 94), ('잼', 95), ('사랑', 96), ('못', 97), ('냐', 98), ('재미없', 99), ('쓰레기', 100), ('서', 101), ('라고', 102), ('2', 103), ('니', 104), ('면서', 105), ('번', 106), ('다시', 107), ('나오', 108), ('작품', 109), ('하나', 110), ('야', 111), ('이거', 112), ('줄', 113), ('해서', 114), ('개', 115), ('남', 116), ('정도', 117), ('마지막', 118), ('끝', 119), ('이건', 120), ('액션', 121), ('임', 122), ('ㅋ', 123), ('기대', 124), ('3', 125), ('건', 126), ('라는', 127), ('입니다', 128), ('분', 129), ('다는', 130), ('완전', 131), ('참', 132), ('많', 133), ('처음', 134), ('장면', 135), ('대', 136), ('아깝', 137), ('다가', 138), ('으면', 139), ('지금', 140), ('모르', 141), ('이렇게', 142), ('편', 143), ('일', 144), ('돈', 145), ('이게', 146), ('성', 147), ('느낌', 148), ('이야기', 149), ('최악', 150), ('시', 151), ('된', 152), ('봐도', 153), ('님', 154), ('어서', 155), ('애', 156), ('전', 157), ('넘', 158), ('인데', 159), ('ㅠㅠ', 160), ('다고', 161), ('이해', 162), ('걸', 163), ('별로', 164), ('그리고', 165), ('난', 166), ('명작', 167), ('여자', 168), ('역시', 169), ('이상', 170), ('또', 171), ('한국', 172), ('는지', 173), ('많이', 174), ('에게', 175), ('부터', 176), ('주인공', 177), ('받', 178), ('합니다', 179), ('두', 180), ('살', 181), ('우리', 182), ('요', 183), ('만든', 184), ('길', 185), ('엔', 186), ('괜찮', 187), ('기억', 188), ('한다', 189), ('연출', 190), ('때문', 191), ('이나', 192), ('ㅎㅎ', 193), ('저', 194), ('재', 195), ('꼭', 196), ('며', 197), ('랑', 198), ('현실', 199), ('긴', 200), ('ㅡㅡ', 201), ('무슨', 202), ('내내', 203), ('죽', 204), ('결말', 205), ('남자', 206), ('전개', 207), ('마음', 208), ('세요', 209), ('소재', 210), ('데', 211), ('속', 212), ('공포', 213), ('아서', 214), ('다른', 215), ('씨', 216), ('인생', 217), ('짜증', 218), ('짱', 219), ('뿐', 220), ('별', 221), ('아요', 222), ('은데', 223), ('유치', 224), ('가장', 225), ('필요', 226), ('오', 227), ('음악', 228), ('아이', 229), ('일본', 230), ('낮', 231), ('반전', 232), ('수준', 233), ('다니', 234), ('웃', 235), ('매력', 236), ('인지', 237), ('맞', 238), ('가슴', 239), ('없이', 240), ('원작', 241), ('ㄷ', 242), ('인간', 243), ('높', 244), ('ㅠ', 245), ('밋', 246), ('굿', 247), ('만드', 248), ('급', 249), ('눈물', 250), ('준', 251), ('보여', 252), ('찍', 253), ('인가', 254), ('노', 255), ('코미디', 256), ('신', 257), ('용', 258), ('마', 259), ('여', 260), ('화', 261), ('쓰', 262), ('모든', 263), ('추천', 264), ('5', 265), ('아직', 266), ('처럼', 267), ('아닌', 268), ('눈', 269), ('울', 270), ('자체', 271), ('몰입', 272), ('4', 273), ('란', 274), ('몇', 275), ('대박', 276), ('스럽', 277), ('을까', 278), ('실망', 279), ('는다', 280), ('대한', 281), ('그런', 282), ('죠', 283), ('솔직히', 284), ('캐릭터', 285), ('ㅎ', 286), ('모두', 287), ('아주', 288), ('가족', 289), ('건지', 290), ('여운', 291), ('전혀', 292), ('연기력', 293), ('후', 294), ('다면', 295), ('될', 296), ('뭔가', 297), ('그래도', 298), ('시리즈', 299), ('나라', 300), ('근데', 301), ('표현', 302), ('작', 303), ('모습', 304), ('공감', 305), ('계속', 306), ('먹', 307), ('비', 308), ('제목', 309), ('7', 310), ('이랑', 311), ('극장', 312), ('치', 313), ('이걸', 314), ('바', 315), ('진', 316), ('대사', 317), ('그렇', 318), ('_', 319), ('부분', 320), ('개봉', 321), ('OO', 322), ('대단', 323), ('0', 324), ('어디', 325), ('된다', 326), ('작가', 327), ('기분', 328), ('아쉽', 329), ('제', 330), ('진심', 331), ('구', 332), ('타임', 333), ('보이', 334), ('놓', 335), ('봐야', 336), ('해도', 337), ('웃기', 338), ('물', 339), ('막장', 340), ('삶', 341), ('친구', 342), ('잔잔', 343), ('이제', 344), ('씬', 345), ('조금', 346), ('억지', 347), ('가지', 348), ('영상', 349), ('찾', 350), ('딱', 351), ('요즘', 352), ('라도', 353), ('스릴러', 354), ('같이', 355), ('8', 356), ('믿', 357), ('싫', 358), ('아까운', 359), ('나왔', 360), ('중간', 361), ('긴장감', 362), ('개인', 363), ('점수', 364), ('제대로', 365), ('부족', 366), ('이유', 367), ('노래', 368), ('만큼', 369), ('어떻게', 370), ('시작', 371), ('라면', 372), ('잇', 373), ('구나', 374), ('한테', 375), ('특히', 376), ('날', 377), ('려고', 378), ('제일', 379), ('아름다운', 380), ('니까', 381), ('시대', 382), ('엔딩', 383), ('ㅜㅜ', 384), ('당시', 385), ('나름', 386), ('명', 387), ('무섭', 388), ('사', 389), ('나온', 390), ('오랜만', 391), ('해요', 392), ('팬', 393), ('봐', 394), ('이것', 395), ('9', 396), ('차라리', 397), ('절대', 398), ('세상', 399), ('못하', 400), ('세', 401), ('의미', 402), ('봄', 403), ('욕', 404), ('감', 405), ('훌륭', 406), ('너무나', 407), ('강추', 408), ('됨', 409), ('따뜻', 410), ('ㅡ', 411), ('빼', 412), ('느끼', 413), ('드', 414), ('해야', 415), ('뻔', 416), ('던데', 417), ('글', 418), ('도대체', 419), ('마다', 420), ('답답', 421), ('어야', 422), ('전쟁', 423), ('놈', 424), ('설정', 425), ('무엇', 426), ('수작', 427), ('흥미', 428), ('만화', 429), ('준다', 430), ('그저', 431), ('감정', 432), ('미국', 433), ('신선', 434), ('행복', 435), ('앞', 436), ('형', 437), ('허접', 438), ('시절', 439), ('어도', 440), ('관객', 441), ('배경', 442), ('6', 443), ('사실', 444), ('웃음', 445), ('초반', 446), ('답', 447), ('엄청', 448), ('더라', 449), ('질', 450), ('자신', 451), ('군', 452), ('추억', 453), ('류', 454), ('캐스팅', 455), ('라니', 456), ('멋있', 457), ('시나리오', 458), ('첨', 459), ('어색', 460), ('정신', 461), ('머', 462), ('OOO', 463), ('슬프', 464), ('밖에', 465), ('분위기', 466), ('소름', 467), ('멋진', 468), ('힘들', 469), ('간', 470), ('오늘', 471), ('집', 472), ('어이없', 473), ('잡', 474), ('봐서', 475), ('구성', 476), ('엄마', 477), ('함께', 478), ('위해', 479), ('졸작', 480), ('이딴', 481), ('잊', 482), ('등', 483), ('문제', 484), ('유쾌', 485), ('킬링', 486), ('스러운', 487), ('소리', 488), ('결국', 489), ('낫', 490), ('뭘', 491), ('뭔', 492), ('한데', 493), ('20', 494), ('역사', 495), ('제발', 496), ('포스터', 497), ('아무리', 498), ('코믹', 499), ('어떤', 500), ('맘', 501), ('완벽', 502), ('얼마나', 503), ('애니메이션', 504), ('러', 505), ('주연', 506), ('원', 507), ('버리', 508), ('후회', 509), ('나요', 510), ('뻔한', 511), ('진부', 512), ('나올', 513), ('어릴', 514), ('보단', 515), ('책', 516), ('장난', 517), ('출연', 518), ('됐', 519), ('큰', 520), ('더니', 521), ('밖', 522), ('영화관', 523), ('개연', 524), ('둘', 525), ('극', 526), ('ㅅ', 527), ('보고', 528), ('난다', 529), ('충격', 530), ('여기', 531), ('평가', 532), ('잔인', 533), ('아름답', 534), ('얘기', 535), ('줬', 536), ('예술', 537), ('갈수록', 538), ('매우', 539), ('꺼', 540), ('든', 541), ('위한', 542), ('이리', 543), ('자기', 544), ('이후', 545), ('불', 546), ('읽', 547), ('얼굴', 548), ('꽤', 549), ('티비', 550), ('이쁘', 551), ('별점', 552), ('깊', 553), ('옛날', 554), ('못한', 555), ('반', 556), ('불쌍', 557), ('텐데', 558), ('겟', 559), ('시청', 560), ('순수', 561), ('봐라', 562), ('라서', 563), ('으나', 564), ('건가', 565), ('언제', 566), ('낭비', 567), ('비디오', 568), ('배', 569), ('엇', 570), ('머리', 571), ('애니', 572), ('장르', 573), ('미', 574), ('생각나', 575), ('그래서', 576), ('다운', 577), ('주제', 578), ('하지만', 579), ('다큐', 580), ('궁금', 581), ('아님', 582), ('다음', 583), ('시키', 584), ('그렇게', 585), ('누구', 586), ('동안', 587), ('예전', 588), ('그만', 589), ('크', 590), ('뒤', 591), ('진정', 592), ('상황', 593), ('인상', 594), ('미친', 595), ('스릴', 596), ('이름', 597), ('그러', 598), ('감사', 599), ('아무', 600), ('시즌', 601), ('너', 602), ('B', 603), ('오래', 604), ('본다', 605), ('집중', 606), ('어느', 607), ('로맨스', 608), ('약간', 609), ('나와서', 610), ('방송', 611), ('그나마', 612), ('식', 613), ('까', 614), ('짜리', 615), ('소설', 616), ('여주인공', 617), ('마세요', 618), ('걸작', 619), ('평', 620), ('존나', 621), ('그대로', 622), ('인물', 623), ('났', 624), ('그것', 625), ('회', 626), ('떨어지', 627), ('힘', 628), ('케', 629), ('몰', 630), ('죽이', 631), ('실화', 632), ('꿈', 633), ('해라', 634), ('대체', 635), ('에요', 636), ('훨씬', 637), ('짓', 638), ('사회', 639), ('누가', 640), ('만점', 641), ('전체', 642), ('발연기', 643), ('무', 644), ('비슷', 645), ('엉성', 646), ('막', 647), ('30', 648), ('ㅜ', 649), ('왔', 650), ('CG', 651), ('단', 652), ('햇', 653), ('중국', 654), ('귀엽', 655), ('여주', 656), ('입', 657), ('끝나', 658), ('비교', 659), ('영상미', 660), ('초딩', 661), ('감성', 662), ('네이버', 663), ('세계', 664), ('여배우', 665), ('구만', 666), ('는가', 667), ('느껴', 668), ('망', 669), ('ㅎㅎㅎ', 670), ('나이', 671), ('순간', 672), ('려는', 673), ('상', 674), ('대해', 675), ('어렸', 676), ('쯤', 677), ('첫', 678), ('꿀', 679), ('어설픈', 680), ('판', 681), ('돋', 682), ('갔', 683), ('학교', 684), ('더럽', 685), ('생', 686), ('셨', 687), ('아들', 688), ('100', 689), ('혼자', 690), ('느낄', 691), ('아야', 692), ('가능', 693), ('성룡', 694), ('졸', 695), ('타', 696), ('어린', 697), ('교훈', 698), ('멋지', 699), ('바로', 700), ('맛', 701), ('잘못', 702), ('한마디', 703), ('나가', 704), ('티', 705), ('딸', 706), ('당신', 707), ('화려', 708), ('길래', 709), ('끌', 710), ('존', 711), ('판타지', 712), ('잠', 713), ('땜', 714), ('달', 715), ('맨', 716), ('영', 717), ('빨리', 718), ('목소리', 719), ('든다', 720), ('똥', 721), ('차', 722), ('초', 723), ('삼류', 724), ('거의', 725), ('듣', 726), ('봤었', 727), ('나온다', 728), ('전부', 729), ('지루함', 730), ('독특', 731), ('건데', 732), ('위', 733), ('다르', 734), ('ㅉㅉ', 735), ('어른', 736), ('한번', 737), ('가치', 738), ('률', 739), ('상당히', 740), ('씩', 741), ('아까움', 742), ('90', 743), ('다만', 744), ('질질', 745), ('아버지', 746), ('넣', 747), ('스타일', 748), ('줄거리', 749), ('평론가', 750), ('갑자기', 751), ('군요', 752), ('이번', 753), ('그러나', 754), ('여러', 755), ('당', 756), ('ㅂ', 757), ('허무', 758), ('의도', 759), ('저런', 760), ('대로', 761), ('존재', 762), ('밑', 763), ('에선', 764), ('째', 765), ('각본', 766), ('이러', 767), ('예상', 768), ('성우', 769), ('으면서', 770), ('버린', 771), ('화면', 772), ('그녀', 773), ('너무너무', 774), ('부', 775), ('ㄱ', 776), ('떠나', 777), ('비해', 778), ('자연', 779), ('예쁘', 780), ('그런지', 781), ('담', 782), ('스', 783), ('슬픈', 784), ('굉장히', 785), ('평범', 786), ('관람', 787), ('복수', 788), ('뻔하', 789), ('만나', 790), ('단순', 791), ('댓글', 792), ('중요', 793), ('돼', 794), ('낸', 795), ('줌', 796), ('갖', 797), ('새로운', 798), ('피', 799), ('극장판', 800), ('앗', 801), ('제작', 802), ('일단', 803), ('굳', 804), ('한편', 805), ('못했', 806), ('버렸', 807), ('만족', 808), ('쉽', 809), ('선택', 810), ('쓴', 811), ('TV', 812), ('아빠', 813), ('요소', 814), ('불편', 815), ('항상', 816), ('나옴', 817), ('거기', 818), ('한다는', 819), ('연출력', 820), ('지나', 821), ('그때', 822), ('에로', 823), ('롭', 824), ('탄탄', 825), ('잃', 826), ('흥행', 827), ('한심', 828), ('려', 829), ('예요', 830), ('물론', 831), ('거나', 832), ('발', 833), ('삼', 834), ('산', 835), ('관계', 836), ('조', 837), ('따라', 838), ('전형', 839), ('역대', 840), ('진행', 841), ('점점', 842), ('편집', 843), ('이하', 844), ('총', 845), ('짧', 846), ('법', 847), ('충분히', 848), ('멜', 849), ('던가', 850), ('안타깝', 851), ('에겐', 852), ('아닌가', 853), ('따', 854), ('식상', 855), ('김', 856), ('자꾸', 857), ('훈훈', 858), ('80', 859), ('미안', 860), ('도록', 861), ('게임', 862), ('아까워', 863), ('화이팅', 864), ('몰랐', 865), ('장', 866), ('원래', 867), ('곳', 868), ('그게', 869), ('잖아', 870), ('구요', 871), ('자극', 872), ('몸', 873), ('풀', 874), ('손', 875), ('어쩔', 876), ('뭔지', 877), ('똑같', 878), ('나쁜', 879), ('사건', 880), ('설명', 881), ('간다', 882), ('어울리', 883), ('팔', 884), ('귀신', 885), ('그래픽', 886), ('과거', 887), ('노력', 888), ('짐', 889), ('도저히', 890), ('상상', 891), ('짜', 892), ('황당', 893), ('조차', 894), ('닿', 895), ('개그', 896), ('됬', 897), ('아프', 898), ('죽음', 899), ('듬', 900), ('프랑스', 901), ('코메디', 902), ('홍콩', 903), ('취향', 904), ('했었', 905), ('무조건', 906), ('미치', 907), ('중반', 908), ('역', 909), ('빠', 910), ('속편', 911), ('빠져', 912), ('소중', 913), ('프로', 914), ('무비', 915), ('더빙', 916), ('간만에', 917), ('아쉬운', 918), ('나쁘', 919), ('멋', 920), ('좋아하', 921), ('빙', 922), ('넘치', 923), ('병맛', 924), ('괜히', 925), ('진지', 926), ('빠지', 927), ('척', 928), ('끝내', 929), ('쳐', 930), ('더욱', 931), ('리', 932), ('특유', 933), ('상영', 934), ('결혼', 935), ('참신', 936), ('또한', 937), ('짱짱', 938), ('유명', 939), ('ost', 940), ('심리', 941), ('전설', 942), ('무서운', 943), ('엄청난', 944), ('헐', 945), ('숨', 946), ('오히려', 947), ('예고편', 948), ('후반부', 949), ('왕', 950), ('아저씨', 951), ('틀', 952), ('고자', 953), ('심하', 954), ('바보', 955), ('연기자', 956), ('촬영', 957), ('천재', 958), ('최근', 959), ('소녀', 960), ('느꼈', 961), ('아도', 962), ('로맨틱', 963), ('조연', 964), ('비추', 965), ('ㄴ', 966), ('쩔', 967), ('그리', 968), ('희망', 969), ('으니', 970), ('억지로', 971), ('가볍', 972), ('이란', 973), ('는구나', 974), ('마무리', 975), ('SF', 976), ('표정', 977), ('새끼', 978), ('현재', 979), ('전편', 980), ('온', 981), ('아무것', 982), ('어라', 983), ('힘든', 984), ('동화', 985), ('로서', 986), ('저질', 987), ('던지', 988), ('부모', 989), ('순', 990), ('이야', 991), ('대작', 992), ('아쉬움', 993), ('진실', 994), ('흠', 995), ('노출', 996), ('즐겁', 997), ('서로', 998), ('우연히', 999), ('적당', 1000), ('빨', 1001), ('메세지', 1002), ('여성', 1003), ('이미', 1004), ('그런데', 1005), ('그림', 1006), ('묘사', 1007), ('대한민국', 1008), ('오빠', 1009), ('엉망', 1010), ('땐', 1011), ('으', 1012), ('이래', 1013), ('경찰', 1014), ('그닥', 1015), ('프로그램', 1016), ('유머', 1017), ('십', 1018), ('네여', 1019), ('청춘', 1020), ('허술', 1021), ('암', 1022), ('어설프', 1023), ('쩌', 1024), ('돌', 1025), ('남기', 1026), ('우', 1027), ('tv', 1028), ('지난', 1029), ('왠만', 1030), ('나중', 1031), ('열', 1032), ('셈', 1033), ('갈', 1034), ('그랬', 1035), ('일까', 1036), ('나와', 1037), ('외', 1038), ('신기', 1039), ('졸라', 1040), ('하고', 1041), ('역할', 1042), ('전작', 1043), ('멍청', 1044), ('등장', 1045), ('거리', 1046), ('전달', 1047), ('먼저', 1048), ('ㅠㅠㅠ', 1049), ('왠지', 1050), ('사이', 1051), ('살인', 1052), ('ㅈ', 1053), ('계', 1054), ('졌', 1055), ('끄', 1056), ('놔', 1057), ('예', 1058), ('흥미진진', 1059), ('감상', 1060), ('해피', 1061), ('범죄', 1062), ('써', 1063), ('15', 1064), ('환상', 1065), ('로운', 1066), ('별루', 1067), ('마치', 1068), ('곤', 1069), ('낚', 1070), ('능력', 1071), ('문화', 1072), ('이젠', 1073), ('철학', 1074), ('다행', 1075), ('걸까', 1076), ('리메이크', 1077), ('스런', 1078), ('행동', 1079), ('효과', 1080), ('잊혀', 1081), ('미래', 1082), ('백', 1083), ('D', 1084), ('슴', 1085), ('디', 1086), ('어렵', 1087), ('봣는데', 1088), ('그래', 1089), ('분명', 1090), ('호러', 1091), ('먹먹', 1092), ('새', 1093), ('아닌데', 1094), ('바람', 1095), ('되게', 1096), ('랄까', 1097), ('실제', 1098), ('엿', 1099), ('병', 1100), ('마시', 1101), ('후반', 1102), ('인정', 1103), ('대충', 1104), ('위대', 1105), ('군대', 1106), ('관심', 1107), ('더군요', 1108), ('마저', 1109), ('탄', 1110), ('할까', 1111), ('깊이', 1112), ('께', 1113), ('선생', 1114), ('으며', 1115), ('그런가', 1116), ('카메라', 1117), ('핵', 1118), ('성공', 1119), ('꼴', 1120), ('올', 1121), ('OST', 1122), ('악', 1123), ('키', 1124), ('과정', 1125), ('범인', 1126), ('제작비', 1127), ('아닐까', 1128), ('손발', 1129), ('빵', 1130), ('차이', 1131), ('봅니다', 1132), ('보여준', 1133), ('생애', 1134), ('사극', 1135), ('알바', 1136), ('시도', 1137), ('가득', 1138), ('언니', 1139), ('겁나', 1140), ('귀여운', 1141), ('성인', 1142), ('박수', 1143), ('젊', 1144), ('매', 1145), ('웃긴', 1146), ('천', 1147), ('늙', 1148), ('드립니다', 1149), ('미소', 1150), ('은지', 1151), ('바라', 1152), ('가끔', 1153), ('그럼', 1154), ('스케일', 1155), ('늘', 1156), ('어쩌', 1157), ('평생', 1158), ('됩니다', 1159), ('케이블', 1160), ('동생', 1161), ('벗', 1162), ('낚였', 1163), ('결론', 1164), ('다소', 1165), ('확실히', 1166), ('얻', 1167), ('cg', 1168), ('여서', 1169), ('심심', 1170), ('광고', 1171), ('자유', 1172), ('우울', 1173), ('한계', 1174), ('심', 1175), ('일상', 1176), ('젤', 1177), ('괴물', 1178), ('영웅', 1179), ('메시지', 1180), ('12', 1181), ('귀', 1182), ('억', 1183), ('산만', 1184), ('리얼', 1185), ('채널', 1186), ('당하', 1187), ('폭력', 1188), ('러브', 1189), ('충분', 1190), ('가진', 1191), ('고민', 1192), ('슬픔', 1193), ('자막', 1194), ('커플', 1195), ('아침', 1196), ('볼수록', 1197), ('의리', 1198), ('질리', 1199), ('조폭', 1200), ('독립영화', 1201), ('제작진', 1202), ('덜', 1203), ('걸로', 1204), ('올리', 1205), ('모', 1206), ('연애', 1207), ('리뷰', 1208), ('잤', 1209), ('거지', 1210), ('훨', 1211), ('싸우', 1212), ('아까웠', 1213), ('율', 1214), ('정', 1215), ('성장', 1216), ('ㅇ', 1217), ('아까', 1218), ('기본', 1219), ('흐름', 1220), ('밤', 1221), ('남주', 1222), ('최', 1223), ('끼', 1224), ('표절', 1225), ('져', 1226), ('퀄리티', 1227), ('뮤지컬', 1228), ('정말로', 1229), ('박', 1230), ('아라', 1231), ('줘야', 1232), ('짝', 1233), ('소장', 1234), ('여행', 1235), ('쩐', 1236), ('스타', 1237), ('동물', 1238), ('코드', 1239), ('베', 1240), ('살짝', 1241), ('여전히', 1242), ('어린이', 1243), ('시선', 1244), ('자는', 1245), ('한다고', 1246), ('시청자', 1247), ('개판', 1248), ('악역', 1249), ('굳이', 1250), ('루', 1251), ('열심히', 1252), ('덕분', 1253), ('유일', 1254), ('우정', 1255), ('포장', 1256), ('웃겨', 1257), ('몸매', 1258), ('통해', 1259), ('포기', 1260), ('감탄', 1261), ('반성', 1262), ('인기', 1263), ('테', 1264), ('듯이', 1265), ('막판', 1266), ('분노', 1267), ('알려', 1268), ('정서', 1269), ('40', 1270), ('생겼', 1271), ('과연', 1272), ('깔끔', 1273), ('입도', 1274), ('정치', 1275), ('난해', 1276), ('니깐', 1277), ('실패', 1278), ('고전', 1279), ('드럽', 1280), ('코', 1281), ('쫌', 1282), ('자식', 1283), ('상처', 1284), ('완성도', 1285), ('소', 1286), ('느', 1287), ('용서', 1288), ('몰라도', 1289), ('어찌', 1290), ('불가', 1291), ('종교', 1292), ('약', 1293), ('빡', 1294), ('이연걸', 1295), ('딴', 1296), ('트', 1297), ('불륜', 1298), ('섹시', 1299), ('귀여워', 1300), ('어떻', 1301), ('압권', 1302), ('업', 1303), ('빛', 1304), ('달리', 1305), ('선', 1306), ('의심', 1307), ('섹스', 1308), ('고생', 1309), ('으론', 1310), ('상상력', 1311), ('싸이코', 1312), ('예쁜', 1313), ('까진', 1314), ('터지', 1315), ('딩', 1316), ('하나하나', 1317), ('북한', 1318), ('언제나', 1319), ('70', 1320), ('방', 1321), ('먼', 1322), ('블랙', 1323), ('홍보', 1324), ('끼리', 1325), ('힐링', 1326), ('공부', 1327), ('특별', 1328), ('권', 1329), ('비하', 1330), ('ㅇㅇ', 1331), ('b', 1332), ('긴장', 1333), ('춤', 1334), ('시켜', 1335), ('느와르', 1336), ('살아가', 1337), ('국민', 1338), ('등장인물', 1339), ('ㅁ', 1340), ('표', 1341), ('보인다', 1342), ('의외', 1343), ('찡', 1344), ('통쾌', 1345), ('본방', 1346), ('웃겼', 1347), ('쉬', 1348), ('어제', 1349), ('더만', 1350), ('저예산', 1351), ('휴', 1352), ('돌아가', 1353), ('불쾌', 1354), ('펑펑', 1355), ('보내', 1356), ('남편', 1357), ('재난', 1358), ('나머지', 1359), ('눈빛', 1360), ('에휴', 1361), ('지겹', 1362), ('더라구요', 1363), ('더라도', 1364), ('놀랍', 1365), ('죄', 1366), ('다큐멘터리', 1367), ('열정', 1368), ('쪽', 1369), ('그립', 1370), ('늦', 1371), ('누나', 1372), ('올해', 1373), ('신경', 1374), ('봐요', 1375), ('연결', 1376), ('반개', 1377), ('이기', 1378), ('줘서', 1379), ('뜨', 1380), ('밥', 1381), ('아오', 1382), ('남녀', 1383), ('암튼', 1384), ('조잡', 1385), ('씁쓸', 1386), ('깨', 1387), ('그럭저럭', 1388), ('파', 1389), ('돌려', 1390), ('입장', 1391), ('우주', 1392), ('ㄹ', 1393), ('디즈니', 1394), ('비극', 1395), ('비판', 1396), ('시원', 1397), ('연예인', 1398), ('오락', 1399), ('으로서', 1400), ('볼거리', 1401), ('아쉬웠', 1402), ('살리', 1403), ('비주얼', 1404), ('와서', 1405), ('만든다', 1406), ('아픔', 1407), ('못할', 1408), ('11', 1409), ('아련', 1410), ('출연진', 1411), ('그다지', 1412), ('이제야', 1413), ('스러움', 1414), ('무시', 1415), ('반복', 1416), ('쓰래', 1417), ('무협', 1418), ('그걸', 1419), ('히어로', 1420), ('심각', 1421), ('을지', 1422), ('려면', 1423), ('생기', 1424), ('줘', 1425), ('게다가', 1426), ('바뀌', 1427), ('불구', 1428), ('실력', 1429), ('50', 1430), ('딱히', 1431), ('닮', 1432), ('한다면', 1433), ('자리', 1434), ('지구', 1435), ('악당', 1436), ('결과', 1437), ('헐리우드', 1438), ('과장', 1439), ('한지', 1440), ('강렬', 1441), ('아줌마', 1442), ('설마', 1443), ('러닝', 1444), ('니다', 1445), ('실', 1446), ('썼', 1447), ('뜻', 1448), ('발견', 1449), ('때리', 1450), ('게이', 1451), ('의문', 1452), ('싸구려', 1453), ('하루', 1454), ('쓸', 1455), ('션', 1456), ('부르', 1457), ('냐고', 1458), ('로써', 1459), ('들어가', 1460), ('그거', 1461), ('영환', 1462), ('방금', 1463), ('방식', 1464), ('단지', 1465), ('맞추', 1466), ('썩', 1467), ('한국인', 1468), ('시사회', 1469), ('진다', 1470), ('아픈', 1471), ('생활', 1472), ('깨닫', 1473), ('소소', 1474), ('맨날', 1475), ('태어나', 1476), ('이때', 1477), ('돌리', 1478), ('글쎄', 1479), ('덕', 1480), ('존경', 1481), ('벌', 1482), ('라지만', 1483), ('시각', 1484), ('오글거리', 1485), ('싸', 1486), ('낳', 1487), ('어머니', 1488), ('뛰어난', 1489), ('흔한', 1490), ('놀랐', 1491), ('대화', 1492), ('초등', 1493), ('갑니다', 1494), ('섬세', 1495), ('청소년', 1496), ('확', 1497), ('유', 1498), ('희생', 1499), ('방법', 1500), ('새벽', 1501), ('본인', 1502), ('로봇', 1503), ('무언가', 1504), ('풋풋', 1505), ('조절', 1506), ('진리', 1507), ('무서웠', 1508), ('고통', 1509), ('지요', 1510), ('발전', 1511), ('밋밋', 1512), ('아역', 1513), ('외모', 1514), ('야한', 1515), ('쇼', 1516), ('찝찝', 1517), ('그린', 1518), ('벌써', 1519), ('베스트', 1520), ('따위', 1521), ('흐르', 1522), ('심장', 1523), ('전문가', 1524), ('인도', 1525), ('창', 1526), ('필름', 1527), ('세기', 1528), ('누군가', 1529), ('입감', 1530), ('죄다', 1531), ('이미지', 1532), ('짝퉁', 1533), ('기에', 1534), ('로그인', 1535), ('아류', 1536), ('어려운', 1537), ('느낀', 1538), ('아이돌', 1539), ('버', 1540), ('장애', 1541), ('푹', 1542), ('외국', 1543), ('이따위', 1544), ('묻', 1545), ('헐리', 1546), ('견자단', 1547), ('19', 1548), ('사수', 1549), ('시킨', 1550), ('완', 1551), ('시트콤', 1552), ('갈등', 1553), ('스스로', 1554), ('상업', 1555), ('김기덕', 1556), ('륜', 1557), ('야하', 1558), ('영어', 1559), ('기다리', 1560), ('이쁜', 1561), ('한가', 1562), ('했으나', 1563), ('연속', 1564), ('테러', 1565), ('스러웠', 1566), ('본다면', 1567), ('미스', 1568), ('애기', 1569), ('사기', 1570), ('교육', 1571), ('국내', 1572), ('느라', 1573), ('그려', 1574), ('월', 1575), ('끼치', 1576), ('학생', 1577), ('뭉클', 1578), ('쩝', 1579), ('특이', 1580), ('국가', 1581), ('기술', 1582), ('쏘', 1583), ('자살', 1584), ('명품', 1585), ('인해', 1586), ('미드', 1587), ('오브', 1588), ('앤', 1589), ('내요', 1590), ('와우', 1591), ('오버', 1592), ('망했', 1593), ('세월', 1594), ('영원', 1595), ('깜짝', 1596), ('쥐', 1597), ('대중', 1598), ('주말', 1599), ('특수', 1600), ('챙겨', 1601), ('시걸', 1602), ('력', 1603), ('어여', 1604), ('극치', 1605), ('미모', 1606), ('주변', 1607), ('형편없', 1608), ('겨울', 1609), ('터', 1610), ('지나치', 1611), ('라인', 1612), ('점주', 1613), ('착한', 1614), ('조합', 1615), ('해야지', 1616), ('탑', 1617), ('레전드', 1618), ('18', 1619), ('갠', 1620), ('그지', 1621), ('경험', 1622), ('에피소드', 1623), ('채', 1624), ('해석', 1625), ('13', 1626), ('아름다움', 1627), ('봐야지', 1628), ('갑', 1629), ('고양이', 1630), ('한참', 1631), ('편견', 1632), ('학년', 1633), ('슬펐', 1634), ('할지', 1635), ('완성', 1636), ('새롭', 1637), ('녀', 1638), ('치밀', 1639), ('솔직', 1640), ('꼬', 1641), ('무지', 1642), ('이용', 1643), ('신고', 1644), ('검색', 1645), ('포', 1646), ('단연', 1647), ('는군', 1648), ('고요', 1649), ('영국', 1650), ('투자', 1651), ('호', 1652), ('명화', 1653), ('저렇게', 1654), ('어휴', 1655), ('시시', 1656), ('스크린', 1657), ('움', 1658), ('놀라', 1659), ('우와', 1660), ('멀', 1661), ('양심', 1662), ('007', 1663), ('뇌', 1664), ('캐', 1665), ('래', 1666), ('포인트', 1667), ('허세', 1668), ('찌질', 1669), ('등등', 1670), ('빈', 1671), ('무척', 1672), ('다양', 1673), ('그럴', 1674), ('영혼', 1675), ('사진', 1676), ('민망', 1677), ('참고', 1678), ('대부분', 1679), ('갓', 1680), ('달달', 1681), ('확실', 1682), ('자면', 1683), ('양', 1684), ('뽑', 1685), ('꼽', 1686), ('싸움', 1687), ('기독교', 1688), ('돋보이', 1689), ('대표', 1690), ('21', 1691), ('으로써', 1692), ('형사', 1693), ('찾아보', 1694), ('C', 1695), ('맡', 1696), ('땅', 1697), ('위해서', 1698), ('레', 1699), ('즐거운', 1700), ('레알', 1701), ('실제로', 1702), ('외계인', 1703), ('링', 1704), ('복잡', 1705), ('줍니다', 1706), ('마이너스', 1707), ('용기', 1708), ('인가요', 1709), ('가요', 1710), ('겁니다', 1711), ('생생', 1712), ('일어나', 1713), ('패러디', 1714), ('옆', 1715), ('꽝', 1716), ('초등학생', 1717), ('기자', 1718), ('엉', 1719), ('명성', 1720), ('보였', 1721), ('카리스마', 1722), ('조작', 1723), ('셔서', 1724), ('즐기', 1725), ('더러운', 1726), ('변화', 1727), ('응원', 1728), ('기억나', 1729), ('망한', 1730), ('유발', 1731), ('드림', 1732), ('아내', 1733), ('된다는', 1734), ('못해', 1735), ('포르노', 1736), ('도전', 1737), ('대해서', 1738), ('개념', 1739), ('미쳤', 1740), ('적절', 1741), ('관점', 1742), ('풍경', 1743), ('완전히', 1744), ('망치', 1745), ('화끈', 1746), ('더라면', 1747), ('인상깊', 1748), ('개뿔', 1749), ('얘', 1750), ('직접', 1751), ('더불', 1752), ('개성', 1753), ('코난', 1754), ('센스', 1755), ('개막', 1756), ('버림', 1757), ('형제', 1758), ('스트레스', 1759), ('틈', 1760), ('크리스마스', 1761), ('따로', 1762), ('피해자', 1763), ('할머니', 1764), ('전반', 1765), ('아냐', 1766), ('x', 1767), ('잠깐', 1768), ('의식', 1769), ('역겹', 1770), ('느껴진다', 1771), ('일품', 1772), ('변태', 1773), ('수고', 1774), ('아름다웠', 1775), ('죽여', 1776), ('꽃', 1777), ('탓', 1778), ('빌려', 1779), ('ㅠㅠㅠㅠ', 1780), ('M', 1781), ('당연', 1782), ('가수', 1783), ('악마', 1784), ('기준', 1785), ('공짜', 1786), ('무술', 1787), ('디테일', 1788), ('흘리', 1789), ('모를', 1790), ('데리', 1791), ('욕망', 1792), ('전기세', 1793), ('기법', 1794), ('몇몇', 1795), ('good', 1796), ('관한', 1797), ('놀', 1798), ('빵점', 1799), ('대본', 1800), ('허', 1801), ('정상', 1802), ('야동', 1803), ('내면', 1804), ('끝난', 1805), ('울리', 1806), ('젠장', 1807), ('전투', 1808), ('칼', 1809), ('기회', 1810), ('아까울', 1811), ('그건', 1812), ('아마', 1813), ('전문', 1814), ('잔', 1815), ('씀', 1816), ('선물', 1817), ('다룬', 1818), ('자고', 1819), ('빈약', 1820), ('정의', 1821), ('열받', 1822), ('패', 1823), ('성격', 1824), ('어용', 1825), ('2014', 1826), ('감흥', 1827), ('방영', 1828), ('상태', 1829), ('감히', 1830), ('DVD', 1831), ('뛰어넘', 1832), ('효', 1833), ('이렇', 1834), ('보통', 1835), ('비밀', 1836), ('참으로', 1837), ('졸리', 1838), ('얼마', 1839), ('오바', 1840), ('엇다', 1841), ('안습', 1842), ('해결', 1843), ('칠', 1844), ('현대', 1845), ('는데요', 1846), ('공', 1847), ('바꾸', 1848), ('픈', 1849), ('ㅣ', 1850), ('이영화', 1851), ('팀', 1852), ('감명깊', 1853), ('이럴', 1854), ('옷', 1855), ('사상', 1856), ('레딧', 1857), ('골', 1858), ('배역', 1859), ('the', 1860), ('흑인', 1861), ('뜬금없', 1862), ('미화', 1863), ('근래', 1864), ('이래서', 1865), ('주성치', 1866), ('기발', 1867), ('닥', 1868), ('거짓말', 1869), ('설레', 1870), ('단어', 1871), ('정체', 1872), ('무리', 1873), ('남겨', 1874), ('단편', 1875), ('만남', 1876), ('라기', 1877), ('흘러가', 1878), ('조아', 1879), ('앉', 1880), ('감각', 1881), ('쵝오', 1882), ('제로', 1883), ('어야지', 1884), ('볼려고', 1885), ('지났', 1886), ('으니까', 1887), ('색감', 1888), ('아래', 1889), ('껏', 1890), ('아동', 1891), ('내생', 1892), ('아예', 1893), ('최초', 1894), ('웬만', 1895), ('떨어진다', 1896), ('아기', 1897), ('캬', 1898), ('말아먹', 1899), ('영원히', 1900), ('시기', 1901), ('안타까운', 1902), ('정보', 1903), ('어쩜', 1904), ('잔뜩', 1905), ('심오', 1906), ('보임', 1907), ('공포물', 1908), ('세련', 1909), ('여름', 1910), ('부부', 1911), ('빠져들', 1912), ('젼', 1913), ('보여준다', 1914), ('빛나', 1915), ('작위', 1916), ('껐', 1917), ('따구', 1918), ('뛰', 1919), ('부실', 1920), ('바랍니다', 1921), ('차별', 1922), ('약하', 1923), ('동시', 1924), ('겨우', 1925), ('살린', 1926), ('여러분', 1927), ('탄생', 1928), ('구하', 1929), ('영환데', 1930), ('조화', 1931), ('키스', 1932), ('이끌', 1933), ('이쁨', 1934), ('모험', 1935), ('확인', 1936), ('다루', 1937), ('깎', 1938), ('강력', 1939), ('꼬마', 1940), ('이제서야', 1941), ('삭제', 1942), ('해진다', 1943), ('토', 1944), ('그만큼', 1945), ('예능', 1946), ('빠진', 1947), ('관련', 1948), ('왜곡', 1949), ('슈퍼', 1950), ('바다', 1951), ('승리', 1952), ('사고', 1953), ('폐지', 1954), ('자주', 1955), ('최강', 1956), ('투', 1957), ('넹', 1958), ('풍자', 1959), ('왠', 1960), ('A', 1961), ('씹', 1962), ('살려', 1963), ('아닙니다', 1964), ('생각없이', 1965), ('색다른', 1966), ('치곤', 1967), ('겪', 1968), ('우리나라', 1969), ('여태', 1970), ('운', 1971), ('이루', 1972), ('포스', 1973), ('히', 1974), ('결코', 1975), ('촌스럽', 1976), ('운명', 1977), ('즈', 1978), ('는대', 1979), ('X', 1980), ('sf', 1981), ('매일', 1982), ('목', 1983), ('려다', 1984), ('연극', 1985), ('연인', 1986), ('흉내', 1987), ('워', 1988), ('제외', 1989), ('낚시', 1990), ('망쳐', 1991), ('짠', 1992), ('목적', 1993), ('옛', 1994), ('강하', 1995), ('매니아', 1996), ('드리', 1997), ('혹은', 1998), ('아이디어', 1999), ('앞뒤', 2000), ('느껴졌', 2001), ('올려', 2002), ('무서움', 2003), ('이어지', 2004), ('감안', 2005), ('심지어', 2006), ('오랫만', 2007), ('한숨', 2008), ('컷', 2009), ('요리', 2010), ('적당히', 2011), ('호구', 2012), ('절', 2013), ('먼가', 2014), ('하늘', 2015), ('예산', 2016), ('빵빵', 2017), ('찌', 2018), ('을까요', 2019), ('혹시', 2020), ('블록버스터', 2021), ('끔찍', 2022), ('신비', 2023), ('아무런', 2024), ('꾸', 2025), ('60', 2026), ('플', 2027), ('본지', 2028), ('떼', 2029), ('따라가', 2030), ('꾼', 2031), ('넌', 2032), ('내리', 2033), ('걸리', 2034), ('냄새', 2035), ('열연', 2036), ('모양', 2037), ('건가요', 2038), ('공주', 2039), ('할아버지', 2040), ('시점', 2041), ('후속작', 2042), ('무료', 2043), ('내일', 2044), ('일반', 2045), ('바라보', 2046), ('신나', 2047), ('브', 2048), ('주기', 2049), ('담배', 2050), ('대신', 2051), ('ㅉㅉㅉ', 2052), ('ㅠㅜ', 2053), ('곡', 2054), ('버전', 2055), ('천국', 2056), ('즐거웠', 2057), ('빠르', 2058), ('금', 2059), ('했어요', 2060), ('겨', 2061), ('파괴', 2062), ('다섯', 2063), ('살렸', 2064), ('구리', 2065), ('화나', 2066), ('라곤', 2067), ('당황', 2068), ('대놓고', 2069), ('수많', 2070), ('플롯', 2071), ('그야말로', 2072), ('이전', 2073), ('우분', 2074), ('조카', 2075), ('호감', 2076), ('소년', 2077), ('건만', 2078), ('장국영', 2079), ('돌아보', 2080), ('중독', 2081), ('버릴', 2082), ('중심', 2083), ('신파', 2084), ('심형래', 2085), ('과학', 2086), ('추리', 2087), ('문', 2088), ('사투리', 2089), ('집착', 2090), ('잠시', 2091), ('마디', 2092), ('논리', 2093), ('혀', 2094), ('가정', 2095), ('울컥', 2096), ('부탁', 2097), ('마냥', 2098), ('강', 2099), ('교과서', 2100), ('마리', 2101), ('볼까', 2102), ('잭', 2103), ('예수', 2104), ('손가락', 2105), ('임팩트', 2106), ('의사', 2107), ('야구', 2108), ('따름', 2109), ('안감', 2110), ('대통령', 2111), ('이뻐서', 2112), ('술', 2113), ('욕심', 2114), ('끊', 2115), ('강한', 2116), ('종영', 2117), ('여친', 2118), ('터짐', 2119), ('야지', 2120), ('망하', 2121), ('동네', 2122), ('엠', 2123), ('다를', 2124), ('쓸데없이', 2125), ('수입', 2126), ('처', 2127), ('거부', 2128), ('사라지', 2129), ('못함', 2130), ('했을까', 2131), ('고서', 2132), ('따분', 2133), ('정작', 2134), ('어처구니', 2135), ('일부러', 2136), ('뭘까', 2137), ('르', 2138), ('고맙', 2139), ('조선', 2140), ('마이클', 2141), ('드라', 2142), ('상영관', 2143), ('명배우', 2144), ('놀라운', 2145), ('진정한', 2146), ('실수', 2147), ('해준다', 2148), ('체', 2149), ('당연히', 2150), ('영화제', 2151), ('위험', 2152), ('깍', 2153), ('고등학교', 2154), ('뛰어나', 2155), ('아쉬워', 2156), ('껄', 2157), ('멋졌', 2158), ('탈출', 2159), ('환경', 2160), ('못한다', 2161), ('힘내', 2162), ('설득력', 2163), ('터미네이터', 2164), ('컨셉', 2165), ('하품', 2166), ('로코', 2167), ('뱀파이어', 2168), ('공간', 2169), ('난리', 2170), ('바탕', 2171), ('잔혹', 2172), ('쿡', 2173), ('막히', 2174), ('일깨워', 2175), ('미녀', 2176), ('클레멘타인', 2177), ('멜로', 2178), ('만약', 2179), ('무서워', 2180), ('끼워', 2181), ('명장면', 2182), ('중학교', 2183), ('당할', 2184), ('블', 2185), ('가벼운', 2186), ('dvd', 2187), ('최대', 2188), ('콩', 2189), ('카', 2190), ('혹시나', 2191), ('따지', 2192), ('결정', 2193), ('짜임새', 2194), ('색', 2195), ('인형', 2196), ('주윤발', 2197), ('자랑', 2198), ('고어', 2199), ('지경', 2200), ('는군요', 2201), ('멍', 2202), ('반드시', 2203), ('중간중간', 2204), ('해리포터', 2205), ('반대', 2206), ('별반', 2207), ('음식', 2208), ('동심', 2209), ('사운드', 2210), ('해진', 2211), ('14', 2212), ('저급', 2213), ('착각', 2214), ('루즈', 2215), ('구역', 2216), ('망친', 2217), ('재능', 2218), ('발상', 2219), ('론', 2220), ('스러워', 2221), ('마약', 2222), ('심한', 2223), ('따듯', 2224), ('d', 2225), ('친', 2226), ('조니뎁', 2227), ('숨겨진', 2228), ('선동', 2229), ('빠른', 2230), ('나간', 2231), ('다크', 2232), ('우뢰매', 2233), ('값', 2234), ('자동차', 2235), ('베드', 2236), ('선정', 2237), ('거장', 2238), ('박진감', 2239), ('2000', 2240), ('때우', 2241), ('희대', 2242), ('그대', 2243), ('단순히', 2244), ('틱', 2245), ('뭥미', 2246), ('밝', 2247), ('든지', 2248), ('주일', 2249), ('사용', 2250), ('홍상수', 2251), ('동성애', 2252), ('침', 2253), ('I', 2254), ('부럽', 2255), ('려다가', 2256), ('빌', 2257), ('편안', 2258), ('이소룡', 2259), ('인내심', 2260), ('떠오르', 2261), ('전하', 2262), ('버려', 2263), ('국판', 2264), ('살인마', 2265), ('폭발', 2266), ('여인', 2267), ('극단', 2268), ('평균', 2269), ('만화책', 2270), ('걱정', 2271), ('실험', 2272), ('기적', 2273), ('분장', 2274), ('다신', 2275), ('절정', 2276), ('의상', 2277), ('잠들', 2278), ('하지원', 2279), ('군인', 2280), ('애매', 2281), ('생긴', 2282), ('디워', 2283), ('하정우', 2284), ('익숙', 2285), ('엄청나', 2286), ('의지', 2287), ('귀여움', 2288), ('정신병자', 2289), ('온다', 2290), ('뽕', 2291), ('누군지', 2292), ('떨어짐', 2293), ('나이트', 2294), ('책임', 2295), ('및', 2296), ('해졌', 2297), ('아무튼', 2298), ('우려먹', 2299), ('부작', 2300), ('of', 2301), ('이토록', 2302), ('섞', 2303), ('동영상', 2304), ('피해', 2305), ('네유', 2306), ('리즈', 2307), ('나레이션', 2308), ('쓸데없', 2309), ('분량', 2310), ('세대', 2311), ('으시', 2312), ('붙', 2313), ('만난', 2314), ('할리우드', 2315), ('놨', 2316), ('난잡', 2317), ('느니', 2318), ('상대', 2319), ('돼지', 2320), ('민폐', 2321), ('도움', 2322), ('탈', 2323), ('하하', 2324), ('준비', 2325), ('저렇', 2326), ('떄', 2327), ('연상', 2328), ('적어도', 2329), ('끈', 2330), ('인터넷', 2331), ('목숨', 2332), ('도무지', 2333), ('당한', 2334), ('흑', 2335), ('빠져서', 2336), ('a', 2337), ('남성', 2338), ('영향', 2339), ('반지', 2340), ('검', 2341), ('22', 2342), ('여신', 2343), ('진수', 2344), ('쌍', 2345), ('패스', 2346), ('믿기', 2347), ('우연', 2348), ('응', 2349), ('킹', 2350), ('솔', 2351), ('낚이', 2352), ('보소', 2353), ('짐캐리', 2354), ('거품', 2355), ('메', 2356), ('일본인', 2357), ('줘도', 2358), ('샘', 2359), ('재개봉', 2360), ('다리', 2361), ('평화', 2362), ('인종', 2363), ('출신', 2364), ('뗄', 2365), ('흑백', 2366), ('마이', 2367), ('배트맨', 2368), ('소화', 2369), ('아놀드', 2370), ('요새', 2371), ('처절', 2372), ('서울', 2373), ('옴', 2374), ('비중', 2375), ('네티즌', 2376), ('국', 2377), ('죄송', 2378), ('기존', 2379), ('명대사', 2380), ('송강호', 2381), ('유럽', 2382), ('김치', 2383), ('원조', 2384), ('평소', 2385), ('어쩌면', 2386), ('에다', 2387), ('겉멋', 2388), ('려나', 2389), ('부끄럽', 2390), ('발음', 2391), ('재미나', 2392), ('장난치', 2393), ('하도', 2394), ('건강', 2395), ('배급사', 2396), ('25', 2397), ('옹', 2398), ('저리', 2399), ('축구', 2400), ('조용', 2401), ('납니다', 2402), ('소개', 2403), ('굉장', 2404), ('뭣', 2405), ('거북', 2406), ('이라도', 2407), ('계기', 2408), ('수록', 2409), ('놀이', 2410), ('스포츠', 2411), ('유지', 2412), ('생각난다', 2413), ('충실', 2414), ('극복', 2415), ('흥', 2416), ('빠졌', 2417), ('거림', 2418), ('벗어나', 2419), ('판단', 2420), ('도시', 2421), ('선수', 2422), ('애절', 2423), ('깡패', 2424), ('으려고', 2425), ('양아치', 2426), ('라스트', 2427), ('쭉', 2428), ('인류', 2429), ('오프닝', 2430), ('퍼', 2431), ('언젠가', 2432), ('광', 2433), ('놓치', 2434), ('리얼리티', 2435), ('러시아', 2436), ('능', 2437), ('꿈꾸', 2438), ('정우성', 2439), ('격', 2440), ('구조', 2441), ('만하다', 2442), ('제이슨', 2443), ('반영', 2444), ('설', 2445), ('곧', 2446), ('가까운', 2447), ('글자', 2448), ('제임스', 2449), ('말투', 2450), ('무대', 2451), ('위로', 2452), ('눈물나', 2453), ('담백', 2454), ('무한', 2455), ('최고봉', 2456), ('아까워서', 2457), ('즐겨', 2458), ('변하', 2459), ('에다가', 2460), ('게스트', 2461), ('왕국', 2462), ('무겁', 2463), ('망할', 2464), ('찾아볼', 2465), ('각색', 2466), ('차원', 2467), ('로드', 2468), ('달콤', 2469), ('반담', 2470), ('어둡', 2471), ('으신', 2472), ('류승범', 2473), ('만났', 2474), ('은근히', 2475), ('각', 2476), ('탁월', 2477), ('넘어가', 2478), ('빨갱이', 2479), ('로버트', 2480), ('잖', 2481), ('품', 2482), ('끔', 2483), ('제왕', 2484), ('찬', 2485), ('단체', 2486), ('톰', 2487), ('도데체', 2488), ('최소한', 2489), ('옥', 2490), ('만세', 2491), ('압도', 2492), ('역량', 2493), ('최소', 2494), ('접', 2495), ('유아', 2496), ('독일', 2497), ('파격', 2498), ('느리', 2499), ('연', 2500), ('개콘', 2501), ('과하', 2502), ('정당', 2503), ('부정', 2504), ('치유', 2505), ('잉', 2506), ('는다는', 2507), ('진한', 2508), ('단점', 2509), ('둘째치', 2510), ('그동안', 2511), ('몽환', 2512), ('드디어', 2513), ('밀', 2514), ('왤케', 2515), ('부인', 2516), ('상어', 2517), ('참나', 2518), ('그라', 2519), ('각자', 2520), ('자마자', 2521), ('날리', 2522), ('깨알', 2523), ('짜릿', 2524), ('떨', 2525), ('호기심', 2526), ('세여', 2527), ('범죄자', 2528), ('선사', 2529), ('깨달', 2530), ('바꿔', 2531), ('도와', 2532), ('중년', 2533), ('2012', 2534), ('헛웃음', 2535), ('즐길', 2536), ('컴퓨터', 2537), ('아닐', 2538), ('부리', 2539), ('파리', 2540), ('편하', 2541), ('멘', 2542), ('브루스', 2543), ('죤', 2544), ('올라가', 2545), ('명불허전', 2546), ('킬러', 2547), ('좌', 2548), ('정리', 2549), ('튼', 2550), ('ㅉ', 2551), ('뎅', 2552), ('당했', 2553), ('배꼽', 2554), ('전화', 2555), ('하나님', 2556), ('신하균', 2557), ('폭풍', 2558), ('비행기', 2559), ('이병헌', 2560), ('로웠', 2561), ('움직이', 2562), ('림', 2563), ('해선', 2564), ('으리', 2565), ('뮤직', 2566), ('죽인', 2567), ('아팠', 2568), ('쏟', 2569), ('나왓', 2570), ('화장실', 2571), ('어두운', 2572), ('부활', 2573), ('촌', 2574), ('오글오글', 2575), ('임창정', 2576), ('기다려', 2577), ('대결', 2578), ('향수', 2579), ('말씀', 2580), ('엄', 2581), ('불안', 2582), ('지나가', 2583), ('본능', 2584), ('닥치', 2585), ('신인', 2586), ('역겨운', 2587), ('졸업', 2588), ('하이틴', 2589), ('무게', 2590), ('나타나', 2591), ('된다고', 2592), ('징', 2593), ('웰메이드', 2594), ('억울', 2595), ('교회', 2596), ('녀석', 2597), ('고뇌', 2598), ('슬', 2599), ('폰', 2600), ('락', 2601), ('민족', 2602), ('you', 2603), ('매번', 2604), ('매미', 2605), ('몬', 2606), ('대상', 2607), ('EBS', 2608), ('캐릭', 2609), ('미스터리', 2610), ('엽기', 2611), ('노인', 2612), ('웬', 2613), ('제니퍼', 2614), ('백인', 2615), ('덩어리', 2616), ('스티븐', 2617), ('일부', 2618), ('흐', 2619), ('베리', 2620), ('지르', 2621), ('등록', 2622), ('애초', 2623), ('드문', 2624), ('진진', 2625), ('녹', 2626), ('현', 2627), ('바닥', 2628), ('액션물', 2629), ('튀', 2630), ('실감', 2631), ('이만', 2632), ('가히', 2633), ('무거운', 2634), ('짬뽕', 2635), ('껀', 2636), ('타란티노', 2637), ('순위', 2638), ('짠하', 2639), ('대전', 2640), ('44', 2641), ('명복', 2642), ('쓸쓸', 2643), ('닼', 2644), ('똑같이', 2645), ('좋아할', 2646), ('한방', 2647), ('명연기', 2648), ('시장', 2649), ('연습', 2650), ('무간도', 2651), ('불과', 2652), ('직업', 2653), ('높이', 2654), ('상징', 2655), ('미국식', 2656), ('구분', 2657), ('지식', 2658), ('처리', 2659), ('준거', 2660), ('기사', 2661), ('털', 2662), ('예측', 2663), ('공유', 2664), ('발랄', 2665), ('짜집기', 2666), ('절망', 2667), ('재방', 2668), ('슈', 2669), ('오로지', 2670), ('관', 2671), ('맞춘', 2672), ('뜬금없이', 2673), ('은근', 2674), ('개그맨', 2675), ('회사', 2676), ('창피', 2677), ('여전', 2678), ('습니까', 2679), ('소통', 2680), ('담긴', 2681), ('천만', 2682), ('지키', 2683), ('총체', 2684), ('박보영', 2685), ('박중훈', 2686), ('맛있', 2687), ('강간', 2688), ('필', 2689), ('얼', 2690), ('T', 2691), ('아만다', 2692), ('미스테리', 2693), ('절제', 2694), ('올레', 2695), ('담겨', 2696), ('떠', 2697), ('초월', 2698), ('풍', 2699), ('생명', 2700), ('특집', 2701), ('흡입력', 2702), ('정부', 2703), ('신화', 2704), ('우린', 2705), ('스타뎀', 2706), ('거대', 2707), ('킬', 2708), ('세포', 2709), ('고독', 2710), ('공룡', 2711), ('흘렸', 2712), ('모른다', 2713), ('경우', 2714), ('연관', 2715), ('향연', 2716), ('간지', 2717), ('착하', 2718), ('무식', 2719), ('개꿀', 2720), ('마누라', 2721), ('듭니다', 2722), ('대부', 2723), ('장점', 2724), ('알파치노', 2725), ('고딩', 2726), ('변신', 2727), ('레옹', 2728), ('칭찬', 2729), ('재앙', 2730), ('김수현', 2731), ('다시금', 2732), ('왓', 2733), ('고작', 2734), ('강동원', 2735), ('아쉬울', 2736), ('존스', 2737), ('스파이더맨', 2738), ('도둑', 2739), ('영화사', 2740), ('비록', 2741), ('movie', 2742), ('배신', 2743), ('사과', 2744), ('오그라드', 2745), ('미션', 2746), ('우기', 2747), ('혐오', 2748), ('본질', 2749), ('동양', 2750), ('암울', 2751), ('최후', 2752), ('묘한', 2753), ('부산', 2754), ('늘어지', 2755), ('뒷', 2756), ('깔', 2757), ('뒤죽박죽', 2758), ('커서', 2759), ('포함', 2760), ('도중', 2761), ('혁명', 2762), ('던데요', 2763), ('들어간', 2764), ('채우', 2765), ('서부', 2766), ('내게', 2767), ('돋보였', 2768), ('무난', 2769), ('클래식', 2770), ('지옥', 2771), ('땡', 2772), ('합시다', 2773), ('의한', 2774), ('땀', 2775), ('라이언', 2776), ('쿨', 2777), ('망쳤', 2778), ('잖아요', 2779), ('늑대', 2780), ('스타워즈', 2781), ('케미', 2782), ('전기', 2783), ('레이', 2784), ('마녀', 2785), ('전이', 2786), ('병원', 2787), ('디카프리오', 2788), ('원숭이', 2789), ('방향', 2790), ('보일', 2791), ('담담', 2792), ('절로', 2793), ('인권', 2794), ('킥', 2795), ('픽사', 2796), ('고문', 2797), ('여러모로', 2798), ('기괴', 2799), ('광구', 2800), ('권력', 2801), ('나무', 2802), ('넘기', 2803), ('작화', 2804), ('고증', 2805), ('심사', 2806), ('매끄럽', 2807), ('철', 2808), ('영구', 2809), ('건질', 2810), ('쌩', 2811), ('뚱', 2812), ('제작자', 2813), ('독립', 2814), ('나와야', 2815), ('왕조현', 2816), ('페이크', 2817), ('낭만', 2818), ('16', 2819), ('댄스', 2820), ('런닝', 2821), ('오그라들', 2822), ('혼란', 2823), ('시험', 2824), ('이별', 2825), ('상당', 2826), ('워낙', 2827), ('쥬얼', 2828), ('예고', 2829), ('당장', 2830), ('상실', 2831), ('대학', 2832), ('귀여웠', 2833), ('국어', 2834), ('운동', 2835), ('나을', 2836), ('엮', 2837), ('인식', 2838), ('가짜', 2839), ('딩크', 2840), ('주인', 2841), ('스텝', 2842), ('언', 2843), ('시종일관', 2844), ('낼', 2845), ('허나', 2846), ('스릴러물', 2847), ('맙시다', 2848), ('추격', 2849), ('절대로', 2850), ('사이코', 2851), ('미학', 2852), ('맥', 2853), ('의해', 2854), ('뻔뻔', 2855), ('찬양', 2856), ('섬', 2857), ('섹', 2858), ('ㅜㅠ', 2859), ('남친', 2860), ('천사', 2861), ('너희', 2862), ('어수선', 2863), ('수면제', 2864), ('상관없', 2865), ('우선', 2866), ('엄정화', 2867), ('고인', 2868), ('욕먹', 2869), ('어떠', 2870), ('젖', 2871), ('전성기', 2872), ('셋', 2873), ('유치찬란', 2874), ('위트', 2875), ('센', 2876), ('반응', 2877), ('놀란', 2878), ('진짜로', 2879), ('곱', 2880), ('상식', 2881), ('공연', 2882), ('환자', 2883), ('s', 2884), ('렷', 2885), ('호불호', 2886), ('월드', 2887), ('한석규', 2888), ('김혜수', 2889), ('은가', 2890), ('무기', 2891), ('별거', 2892), ('추가', 2893), ('능가', 2894), ('머릿속', 2895), ('가까이', 2896), ('매주', 2897), ('아이유', 2898), ('하하하', 2899), ('짱구', 2900), ('렉', 2901), ('터졌', 2902), ('감명', 2903), ('덤', 2904), ('방해', 2905), ('세트', 2906), ('환장', 2907), ('랄', 2908), ('떡밥', 2909), ('걷', 2910), ('옳', 2911), ('웃겨서', 2912), ('드립', 2913), ('아마추어', 2914), ('였을', 2915), ('회상', 2916), ('17', 2917), ('폼', 2918), ('모자라', 2919), ('빠질', 2920), ('거짓', 2921), ('쳤', 2922), ('바란다', 2923), ('마찬가지', 2924), ('화질', 2925), ('모아', 2926), ('아닌가요', 2927), ('정신없', 2928), ('기획', 2929), ('릭터', 2930), ('부자연', 2931), ('치고', 2932), ('호흡', 2933), ('쥬', 2934), ('공중', 2935), ('빕', 2936), ('실사', 2937), ('멋져', 2938), ('글고', 2939), ('낮추', 2940), ('긴박', 2941), ('슈퍼맨', 2942), ('외국인', 2943), ('Good', 2944), ('어린애', 2945), ('보물', 2946), ('활용', 2947), ('애잔', 2948), ('차승원', 2949), ('오해', 2950), ('중학생', 2951), ('안타까움', 2952), ('주관', 2953), ('컸', 2954), ('흥분', 2955), ('온갖', 2956), ('서양', 2957), ('구경', 2958), ('허허', 2959), ('음향', 2960), ('형식', 2961), ('니매', 2962), ('아우', 2963), ('오르', 2964), ('께서', 2965), ('애틋', 2966), ('멋져요', 2967), ('어정쩡', 2968), ('셧', 2969), ('자세', 2970), ('택시', 2971), ('쳐도', 2972), ('99', 2973), ('컨', 2974), ('답니다', 2975), ('문득', 2976), ('어차피', 2977), ('세계관', 2978), ('누님', 2979), ('전해', 2980), ('뜬', 2981), ('김희선', 2982), ('에이', 2983), ('걸린', 2984), ('줘야지', 2985), ('널', 2986), ('유덕화', 2987), ('훈', 2988), ('방황', 2989), ('bb', 2990), ('납득', 2991), ('재탕', 2992), ('파워', 2993), ('즐거움', 2994), ('낀', 2995), ('권상우', 2996), ('픽션', 2997), ('나루토', 2998), ('거려서', 2999), ('종', 3000), ('구려', 3001), ('본격', 3002), ('스릴감', 3003), ('봣다', 3004), ('태국', 3005), ('타인', 3006), ('나열', 3007), ('향기', 3008), ('안녕', 3009), ('살아남', 3010), ('구할', 3011), ('승부', 3012), ('으러', 3013), ('캐리', 3014), ('겉', 3015), ('어쨌든', 3016), ('벨', 3017), ('메이', 3018), ('테이큰', 3019), ('상큼', 3020), ('보석', 3021), ('애정', 3022), ('폴', 3023), ('수사', 3024), ('장진', 3025), ('위주', 3026), ('언어', 3027), ('속도', 3028), ('섬뜩', 3029), ('이뻐', 3030), ('역작', 3031), ('의견', 3032), ('is', 3033), ('나았', 3034), ('광기', 3035), ('복선', 3036), ('먹칠', 3037), ('틀리', 3038), ('할려고', 3039), ('전지현', 3040), ('든가', 3041), ('괴', 3042), ('어째', 3043), ('곰', 3044), ('쉬운', 3045), ('닥터', 3046), ('인연', 3047), ('오랫동안', 3048), ('헉', 3049), ('뒤늦', 3050), ('약한', 3051), ('해외', 3052), ('칸', 3053), ('스파이', 3054), ('치료', 3055), ('개똥', 3056), ('생겨서', 3057), ('고향', 3058), ('봐줄', 3059), ('장소', 3060), ('냥', 3061), ('검사', 3062), ('지네', 3063), ('느낀다', 3064), ('지대', 3065), ('비참', 3066), ('슬퍼요', 3067), ('두고두고', 3068), ('귀찮', 3069), ('나갔', 3070), ('반갑', 3071), ('외면', 3072), ('한동안', 3073), ('느껴질', 3074), ('내놓', 3075), ('로빈', 3076), ('저것', 3077), ('어울림', 3078), ('난무', 3079), ('막상', 3080), ('떡', 3081), ('성형', 3082), ('대역', 3083), ('재수없', 3084), ('신부', 3085), ('보여서', 3086), ('나온다고', 3087), ('어린아이', 3088), ('유익', 3089), ('극본', 3090), ('나올까', 3091), ('집단', 3092), ('풀어낸', 3093), ('케빈', 3094), ('민', 3095), ('지내', 3096), ('시체', 3097), ('추', 3098), ('목사', 3099), ('기타', 3100), ('류영화', 3101), ('MBC', 3102), ('런', 3103), ('영웅본색', 3104), ('나머진', 3105), ('가시', 3106), ('독', 3107), ('어딘가', 3108), ('깜놀', 3109), ('모호', 3110), ('에라이', 3111), ('원하', 3112), ('참여', 3113), ('흠잡', 3114), ('간직', 3115), ('홀로', 3116), ('뻥', 3117), ('질문', 3118), ('냈', 3119), ('아야지', 3120), ('수다', 3121), ('어울린다', 3122), ('영화판', 3123), ('찾아가', 3124), ('감정선', 3125), ('더라고요', 3126), ('일반인', 3127), ('던져', 3128), ('엉뚱', 3129), ('피아노', 3130), ('원피스', 3131), ('프', 3132), ('시켰', 3133), ('정확', 3134), ('톤', 3135), ('봣어요', 3136), ('시킬', 3137), ('커버', 3138), ('짙', 3139), ('무서울', 3140), ('박찬욱', 3141), ('버스', 3142), ('이럼', 3143), ('될까', 3144), ('이것저것', 3145), ('고등학생', 3146), ('오로라', 3147), ('유행', 3148), ('괴수', 3149), ('애인', 3150), ('커', 3151), ('셔야', 3152), ('더군', 3153), ('국산', 3154), ('일지', 3155), ('금지', 3156), ('터져', 3157), ('조기', 3158), ('묻어나', 3159), ('묵직', 3160), ('남긴다', 3161), ('비해서', 3162), ('설경구', 3163), ('c', 3164), ('왕자', 3165), ('찬사', 3166), ('부담', 3167), ('다가오', 3168), ('아바타', 3169), ('이뻤', 3170), ('볼일', 3171), ('죽일', 3172), ('가리', 3173), ('흔하', 3174), ('여유', 3175), ('도라에몽', 3176), ('정사', 3177), ('오직', 3178), ('몰라', 3179), ('클라스', 3180), ('저러', 3181), ('개발', 3182), ('귀여워서', 3183), ('드려요', 3184), ('vs', 3185), ('뿌', 3186), ('쟈', 3187), ('인디', 3188), ('최민수', 3189), ('집안', 3190), ('사나이', 3191), ('떠올리', 3192), ('시민', 3193), ('2015', 3194), ('유령', 3195), ('드니로', 3196), ('알리', 3197), ('그냥저냥', 3198), ('대하', 3199), ('유혹', 3200), ('했어도', 3201), ('일찍', 3202), ('겻', 3203), ('강요', 3204), ('미쳐', 3205), ('지우', 3206), ('시골', 3207), ('흔적', 3208), ('이정재', 3209), ('환', 3210), ('줘요', 3211), ('한국어', 3212), ('쏘우', 3213), ('도저', 3214), ('200', 3215), ('가관', 3216), ('맞춰', 3217), ('빅', 3218), ('따스', 3219), ('힙합', 3220), ('먹먹해', 3221), ('갖춘', 3222), ('닷', 3223), ('난국', 3224), ('평론', 3225), ('앙', 3226), ('기다렸', 3227), ('하이', 3228), ('짱나', 3229), ('생김', 3230), ('는다고', 3231), ('구혜선', 3232), ('렸', 3233), ('개소리', 3234), ('로망', 3235), ('오랜', 3236), ('차분', 3237), ('친절', 3238), ('마블', 3239), ('클', 3240), ('꺼버렸', 3241), ('욤', 3242), ('데뷔작', 3243), ('납치', 3244), ('엉망진창', 3245), ('맥스', 3246), ('성적', 3247), ('버린다', 3248), ('군더더기', 3249), ('분명히', 3250), ('실상', 3251), ('커피', 3252), ('날려', 3253), ('될지', 3254), ('반감', 3255), ('주온', 3256), ('차리', 3257), ('김명민', 3258), ('팍팍', 3259), ('심정', 3260), ('예뻐서', 3261), ('번역', 3262), ('기영', 3263), ('저희', 3264), ('쯧쯧', 3265), ('쓰레', 3266), ('송승헌', 3267), ('하아', 3268), ('제시카', 3269), ('롱', 3270), ('밧', 3271), ('스페인', 3272), ('둔', 3273), ('팝콘', 3274), ('아리', 3275), ('연주', 3276), ('새삼', 3277), ('열라', 3278), ('소품', 3279), ('멘탈', 3280), ('투성이', 3281), ('좆', 3282), ('충', 3283), ('농담', 3284), ('손색', 3285), ('소지섭', 3286), ('학원', 3287), ('외로움', 3288), ('게끔', 3289), ('좋아해서', 3290), ('람보', 3291), ('시끄럽', 3292), ('수위', 3293), ('웃긴다', 3294), ('뉴스', 3295), ('강아지', 3296), ('볼꺼', 3297), ('나온다는', 3298), ('나마', 3299), ('모욕', 3300), ('정점', 3301), ('최민식', 3302), ('추구', 3303), ('듦', 3304), ('믿음', 3305), ('뮤', 3306), ('나갈', 3307), ('리스트', 3308), ('없애', 3309), ('불러', 3310), ('색깔', 3311), ('지저분', 3312), ('다이하드', 3313), ('신데렐라', 3314), ('컬트', 3315), ('28', 3316), ('아아', 3317), ('적나라', 3318), ('았었', 3319), ('뿌리', 3320), ('레기', 3321), ('멈추', 3322), ('산다', 3323), ('스필버그', 3324), ('기업', 3325), ('우롱', 3326), ('느냐', 3327), ('성경', 3328), ('끝판', 3329), ('숲', 3330), ('안타까웠', 3331), ('쓴다', 3332), ('오페라', 3333), ('통해서', 3334), ('젊은이', 3335), ('이은주', 3336), ('모독', 3337), ('모방', 3338), ('들어오', 3339), ('끝난다', 3340), ('어중간', 3341), ('향한', 3342), ('쳐서', 3343), ('동감', 3344), ('피곤', 3345), ('청년', 3346), ('미달', 3347), ('떨어졌', 3348), ('놀랬', 3349), ('예뻤', 3350), ('공허', 3351), ('손예진', 3352), ('클라라', 3353), ('학창', 3354), ('모순', 3355), ('드만', 3356), ('미국인', 3357), ('셔', 3358), ('김태희', 3359), ('과도', 3360), ('마마', 3361), ('주위', 3362), ('증말', 3363), ('관람객', 3364), ('층', 3365), ('사장', 3366), ('맞음', 3367), ('각각', 3368), ('경악', 3369), ('본성', 3370), ('지도', 3371), ('왕가위', 3372), ('눈치', 3373), ('고수', 3374), ('쟁이', 3375), ('집니다', 3376), ('여왕', 3377), ('붕', 3378), ('헤', 3379), ('맑', 3380), ('장동건', 3381), ('태양', 3382), ('드래곤볼', 3383), ('동', 3384), ('자격', 3385), ('새록새록', 3386), ('끊기', 3387), ('애국심', 3388), ('탐', 3389), ('슬퍼', 3390), ('조심', 3391), ('괴담', 3392), ('관리', 3393), ('스킵', 3394), ('드물', 3395), ('고르', 3396), ('폭', 3397), ('열광', 3398), ('짜내', 3399), ('조정', 3400), ('학살', 3401), ('재방송', 3402), ('몰락', 3403), ('감기', 3404), ('울림', 3405), ('함부로', 3406), ('타이틀', 3407), ('김민종', 3408), ('전라도', 3409), ('피디', 3410), ('성유리', 3411), ('안성기', 3412), ('이어', 3413), ('부여', 3414), ('푸', 3415), ('마법', 3416), ('임신', 3417), ('유리', 3418), ('울음', 3419), ('상관', 3420), ('부끄러운', 3421), ('풀어내', 3422), ('어지럽', 3423), ('한정', 3424), ('김구라', 3425), ('후기', 3426), ('첩보', 3427), ('위하', 3428), ('남매', 3429), ('할게요', 3430), ('피식', 3431), ('추악', 3432), ('절묘', 3433), ('고급', 3434), ('2013', 3435), ('저주', 3436), ('지역', 3437), ('겁', 3438), ('가난', 3439), ('구라', 3440), ('감옥', 3441), ('자본', 3442), ('엑스맨', 3443), ('남긴', 3444), ('재료', 3445), ('으세요', 3446), ('커녕', 3447), ('출발', 3448), ('이입', 3449), ('냉정', 3450), ('열자', 3451), ('거려', 3452), ('객관', 3453), ('아이언맨', 3454), ('썸', 3455), ('슨', 3456), ('국제', 3457), ('니콜', 3458), ('O', 3459), ('벽', 3460), ('지극히', 3461), ('간간히', 3462), ('돌아오', 3463), ('려는지', 3464), ('이외', 3465), ('보낸다', 3466), ('키우', 3467), ('영활', 3468), ('나와라', 3469), ('정화', 3470), ('노예', 3471), ('파라', 3472), ('색채', 3473), ('아닌지', 3474), ('미장센', 3475), ('블루', 3476), ('2005', 3477), ('감수', 3478), ('장난감', 3479), ('앞서', 3480), ('더더욱', 3481), ('통', 3482), ('규', 3483), ('우승', 3484), ('신세경', 3485), ('북', 3486), ('신세계', 3487), ('적극', 3488), ('일어날', 3489), ('재현', 3490), ('서정', 3491), ('차태현', 3492), ('이웃', 3493), ('할배', 3494), ('카피', 3495), ('효주', 3496), ('베일', 3497), ('법정', 3498), ('조악', 3499), ('정석', 3500), ('졸려', 3501), ('영광', 3502), ('흐지부지', 3503), ('춤추', 3504), ('먼지', 3505), ('황정민', 3506), ('들리', 3507), ('존재감', 3508), ('덮', 3509), ('예쁨', 3510), ('범', 3511), ('만날', 3512), ('공원', 3513), ('아카데미', 3514), ('더욱더', 3515), ('흔들', 3516), ('사전', 3517), ('이민기', 3518), ('지독', 3519), ('지켜', 3520), ('말리', 3521), ('거슬리', 3522), ('예술가', 3523), ('성찰', 3524), ('ㅜㅜㅜ', 3525), ('소피마르소', 3526), ('엽문', 3527), ('이탈리아', 3528), ('경의', 3529), ('부각', 3530), ('OOOO', 3531), ('또는', 3532), ('티나', 3533), ('요약', 3534), ('꺼내', 3535), ('할수록', 3536), ('행위', 3537), ('마을', 3538), ('싼', 3539), ('이연희', 3540), ('다운로드', 3541), ('그지없', 3542), ('외치', 3543), ('려니', 3544), ('부디', 3545), ('다름', 3546), ('빌리', 3547), ('한텐', 3548), ('때로', 3549), ('묘하', 3550), ('라구', 3551), ('박평식', 3552), ('기도', 3553), ('엉터리', 3554), ('공감대', 3555), ('임청하', 3556), ('걸릴', 3557), ('드러나', 3558), ('조명', 3559), ('기록', 3560), ('토할', 3561), ('대비', 3562), ('틀림없', 3563), ('최선', 3564), ('전도연', 3565), ('으려', 3566), ('단역', 3567), ('정통', 3568), ('에드워드', 3569), ('트랜스포머', 3570), ('원했', 3571), ('직', 3572), ('와중', 3573), ('지브리', 3574), ('초기', 3575), ('댓', 3576), ('들어도', 3577), ('출현', 3578), ('ㅄ', 3579), ('실패작', 3580), ('아끼', 3581), ('호텔', 3582), ('반했', 3583), ('꽉', 3584), ('뿜', 3585), ('뭔데', 3586), ('색다르', 3587), ('합', 3588), ('놀래키', 3589), ('양반', 3590), ('어떡', 3591), ('해냈', 3592), ('배속', 3593), ('스러울', 3594), ('해짐', 3595), ('띄', 3596), ('고는', 3597), ('배려', 3598), ('수십', 3599), ('아나', 3600), ('톰크루즈', 3601), ('타지', 3602), ('크루즈', 3603), ('과대평가', 3604), ('o', 3605), ('교수', 3606), ('행', 3607), ('원표', 3608), ('유지태', 3609), ('파이팅', 3610), ('격투', 3611), ('섭외', 3612), ('배울', 3613), ('계시', 3614), ('깨끗', 3615), ('식스', 3616), ('차마', 3617), ('정확히', 3618), ('뚝뚝', 3619), ('공식', 3620), ('자아', 3621), ('멤버', 3622), ('조승우', 3623), ('마니', 3624), ('구원', 3625), ('뜨거운', 3626), ('저게', 3627), ('쿠', 3628), ('신념', 3629), ('반부', 3630), ('봐왔', 3631), ('혹평', 3632), ('에러', 3633), ('져서', 3634), ('신민아', 3635), ('허구', 3636), ('작인', 3637), ('빙판', 3638), ('어딜', 3639), ('써요', 3640), ('300', 3641), ('윌리스', 3642), ('대학생', 3643), ('포켓몬', 3644), ('사냥', 3645), ('통수', 3646), ('데스', 3647), ('주먹', 3648), ('머지', 3649), ('누', 3650), ('남발', 3651), ('CGV', 3652), ('미묘', 3653), ('빠져드', 3654), ('역활', 3655), ('키아누', 3656), ('밴드', 3657), ('붙이', 3658), ('우아', 3659), ('2003', 3660), ('는디', 3661), ('거든', 3662), ('서극', 3663), ('생략', 3664), ('송혜교', 3665), ('풍부', 3666), ('빨간', 3667), ('오인혜', 3668), ('가을', 3669), ('퇴보', 3670), ('순진', 3671), ('다지만', 3672), ('마스터', 3673), ('기간', 3674), ('토끼', 3675), ('주원', 3676), ('호강', 3677), ('데드', 3678), ('절반', 3679), ('The', 3680), ('어이', 3681), ('하드', 3682), ('아프리카', 3683), ('고질라', 3684), ('심했', 3685), ('고마운', 3686), ('저거', 3687), ('극찬', 3688), ('붉', 3689), ('가깝', 3690), ('작전', 3691), ('꼬맹이', 3692), ('위기', 3693), ('혐', 3694), ('부를', 3695), ('특징', 3696), ('증명', 3697), ('그럼에도', 3698), ('몽', 3699), ('송', 3700), ('강조', 3701), ('취급', 3702), ('뽀', 3703), ('때려', 3704), ('노튼', 3705), ('노골', 3706), ('지겨워', 3707), ('젊음', 3708), ('복', 3709), ('인터뷰', 3710), ('장혁', 3711), ('경제', 3712), ('2004', 3713), ('흐뭇', 3714), ('마구', 3715), ('여기저기', 3716), ('거듭', 3717), ('지원', 3718), ('초점', 3719), ('미이라', 3720), ('할꺼', 3721), ('전락', 3722), ('와이프', 3723), ('찜찜', 3724), ('스피드', 3725), ('대단히', 3726), ('뒤집', 3727), ('니콜라스', 3728), ('서프라이즈', 3729), ('겄', 3730), ('그나저나', 3731), ('구멍', 3732), ('백배', 3733), ('접근', 3734), ('타령', 3735), ('획', 3736), ('모성애', 3737), ('일관', 3738), ('강시', 3739), ('흑역사', 3740), ('생존', 3741), ('퀴어', 3742), ('스텝업', 3743), ('희', 3744), ('라며', 3745), ('정신병', 3746), ('24', 3747), ('어쩌다', 3748), ('뻔히', 3749), ('로마', 3750), ('재주', 3751), ('떨어진', 3752), ('뉴욕', 3753), ('롤', 3754), ('무너지', 3755), ('송지효', 3756), ('강지환', 3757), ('제정신', 3758), ('구도', 3759), ('배드', 3760), ('경계', 3761), ('힘드', 3762), ('쥬라기', 3763), ('들어왔', 3764), ('갈리', 3765), ('모델', 3766), ('피터', 3767), ('어거지', 3768), ('메인', 3769), ('멀리', 3770), ('벌어지', 3771), ('비롯', 3772), ('사무라이', 3773), ('이뻐요', 3774), ('그래요', 3775), ('삐', 3776), ('패턴', 3777), ('줘라', 3778), ('장근석', 3779), ('수지', 3780), ('이스트우드', 3781), ('데이빗', 3782), ('오만', 3783), ('똑바로', 3784), ('시사', 3785), ('논', 3786), ('앞부분', 3787), ('http', 3788), ('활동', 3789), ('깨달음', 3790), ('예의', 3791), ('었었', 3792), ('무서워서', 3793), ('헤어지', 3794), ('불행', 3795), ('순이', 3796), ('쌈', 3797), ('마케팅', 3798), ('종류', 3799), ('떠들', 3800), ('봉', 3801), ('퍼즐', 3802), ('임수정', 3803), ('오유', 3804), ('내보내', 3805), ('지배', 3806), ('한글', 3807), ('크리스찬', 3808), ('수애', 3809), ('봣', 3810), ('작렬', 3811), ('메리', 3812), ('평이', 3813), ('부자', 3814), ('등급', 3815), ('PD', 3816), ('는다면', 3817), ('곁', 3818), ('풀리', 3819), ('뺏', 3820), ('관대', 3821), ('예뻐', 3822), ('채워', 3823), ('짜여진', 3824), ('조용히', 3825), ('장군', 3826), ('우왕', 3827), ('꼬라지', 3828), ('가식', 3829), ('제작사', 3830), ('찢', 3831), ('비싼', 3832), ('돼서', 3833), ('우익', 3834), ('런닝맨', 3835), ('더러', 3836), ('그렇지만', 3837), ('두려움', 3838), ('또라이', 3839), ('저번', 3840), ('받아들이', 3841), ('이범수', 3842), ('패션', 3843), ('살인자', 3844), ('바랬', 3845), ('나타내', 3846), ('불후', 3847), ('죽임', 3848), ('난감', 3849), ('밝혀', 3850), ('웅장', 3851), ('안타까울', 3852), ('아기자기', 3853), ('뭔가요', 3854), ('미남', 3855), ('끌리', 3856), ('플레이', 3857), ('어울려', 3858), ('남아돌', 3859), ('걸렸', 3860), ('일요일', 3861), ('임권택', 3862), ('의학', 3863), ('수정', 3864), ('고발', 3865), ('com', 3866), ('빅뱅', 3867), ('인한', 3868), ('느슨', 3869), ('작년', 3870), ('역쉬', 3871), ('데이', 3872), ('ㅏ', 3873), ('이나영', 3874), ('장치', 3875), ('미인', 3876), ('장나라', 3877), ('조지', 3878), ('맹', 3879), ('그분', 3880), ('초능력', 3881), ('원주율', 3882), ('향해', 3883), ('빼놓', 3884), ('부른', 3885), ('원인', 3886), ('보여줌', 3887), ('써서', 3888), ('성숙', 3889), ('극한', 3890), ('무색', 3891), ('연령', 3892), ('잭슨', 3893), ('구지', 3894), ('죽였', 3895), ('침묵', 3896), ('과잉', 3897), ('자본주의', 3898), ('홍금보', 3899), ('1000', 3900), ('엉엉', 3901), ('체험', 3902), ('닫', 3903), ('어설퍼', 3904), ('파악', 3905), ('즘', 3906), ('케릭', 3907), ('져요', 3908), ('휴먼', 3909), ('쉴', 3910), ('이순신', 3911), ('척하', 3912), ('딱딱', 3913), ('ebs', 3914), ('드림웍스', 3915), ('간단', 3916), ('돋보인다', 3917), ('뭡니까', 3918), ('it', 3919), ('나참', 3920), ('땜시', 3921), ('넘어선', 3922), ('지나친', 3923), ('주상욱', 3924), ('랫', 3925), ('일탈', 3926), ('물건', 3927), ('서기', 3928), ('가상', 3929), ('서스펜스', 3930), ('딸리', 3931), ('펭귄', 3932), ('t', 3933), ('짐승', 3934), ('즐', 3935), ('습니당', 3936), ('기쁨', 3937), ('로움', 3938), ('된다면', 3939), ('자위', 3940), ('두말', 3941), ('태도', 3942), ('접하', 3943), ('클린트', 3944), ('다구', 3945), ('분석', 3946), ('지적', 3947), ('to', 3948), ('질주', 3949), ('안다', 3950), ('토니', 3951), ('마음속', 3952), ('외화', 3953), ('낙', 3954), ('투표', 3955), ('씨발', 3956), ('고로', 3957), ('철없', 3958), ('증거', 3959), ('파워레인저', 3960), ('가해자', 3961), ('알려준', 3962), ('스텔라', 3963), ('합니까', 3964), ('몫', 3965), ('지리', 3966), ('계획', 3967), ('녹화', 3968), ('이혼', 3969), ('깁니다', 3970), ('느린', 3971), ('큐', 3972), ('용감', 3973), ('모티브', 3974), ('저녁', 3975), ('코스프레', 3976), ('지인', 3977), ('해질', 3978), ('드러내', 3979), ('더러워', 3980), ('담아내', 3981), ('잃어버린', 3982), ('죽인다', 3983), ('사라졌', 3984), ('당당', 3985), ('작정', 3986), ('써라', 3987), ('랴', 3988), ('고스란히', 3989), ('별다른', 3990), ('앓', 3991), ('뻔해서', 3992), ('엉덩이', 3993), ('묘미', 3994), ('홧팅', 3995), ('하차', 3996), ('하구', 3997), ('서방', 3998), ('난생', 3999), ('자세히', 4000), ('제미', 4001), ('단언', 4002), ('불면증', 4003), ('중후', 4004), ('박신양', 4005), ('양동근', 4006), ('선율', 4007), ('카메론', 4008), ('경', 4009), ('존중', 4010), ('속지', 4011), ('온몸', 4012), ('람', 4013), ('여정', 4014), ('긍정', 4015), ('98', 4016), ('어마어마', 4017), ('오우', 4018), ('간첩', 4019), ('준다는', 4020), ('생각났', 4021), ('엑소시스트', 4022), ('사망', 4023), ('박사', 4024), ('도통', 4025), ('물씬', 4026), ('무리수', 4027), ('무어', 4028), ('날렸', 4029), ('뉴', 4030), ('때메', 4031), ('best', 4032), ('기차', 4033), ('양조위', 4034), ('어우', 4035), ('진작', 4036), ('입니까', 4037), ('애쓰', 4038), ('추락', 4039), ('후한', 4040), ('멘붕', 4041), ('봣습니다', 4042), ('강제', 4043), ('겁니까', 4044), ('팀버튼', 4045), ('명확', 4046), ('유치뽕', 4047), ('위안', 4048), ('손색없', 4049), ('숀', 4050), ('웃겨요', 4051), ('심히', 4052), ('랩', 4053), ('글구', 4054), ('사연', 4055), ('mbc', 4056), ('레이첼', 4057), ('한때', 4058), ('미스터', 4059), ('차지', 4060), ('띵', 4061), ('볼땐', 4062), ('헐크', 4063), ('피트', 4064), ('허무맹랑', 4065), ('총질', 4066), ('어우러진', 4067), ('따윈', 4068), ('로선', 4069), ('나서', 4070), ('적절히', 4071), ('올라갈', 4072), ('고정', 4073), ('익', 4074), ('보스', 4075), ('예뻐요', 4076), ('강호동', 4077), ('오타쿠', 4078), ('히트', 4079), ('잠수함', 4080), ('곱씹', 4081), ('조직', 4082), ('용가리', 4083), ('릴', 4084), ('못생긴', 4085), ('이승기', 4086), ('맛깔', 4087), ('2010', 4088), ('인척', 4089), ('소리지르', 4090), ('싸울', 4091), ('최저', 4092), ('강혜정', 4093), ('저렴', 4094), ('주목', 4095), ('이성재', 4096), ('장편', 4097), ('필수', 4098), ('당최', 4099), ('매혹', 4100), ('오류', 4101), ('언론', 4102), ('웹툰', 4103), ('일세', 4104), ('띠', 4105), ('나누', 4106), ('가졌', 4107), ('재치', 4108), ('논하', 4109), ('흡사', 4110), ('바꾼', 4111), ('실소', 4112), ('인터', 4113), ('아용', 4114), ('은퇴', 4115), ('예매', 4116), ('노동자', 4117), ('욕구', 4118), ('나옵니다', 4119), ('이름값', 4120), ('뜸', 4121), ('마틴', 4122), ('떨어져', 4123), ('달까', 4124), ('500', 4125), ('마요', 4126), ('학대', 4127), ('거창', 4128), ('닌자', 4129), ('봣음', 4130), ('내겐', 4131), ('명곡', 4132), ('슬래셔', 4133), ('슬퍼서', 4134), ('홈', 4135), ('가질', 4136), ('동기', 4137), ('흑흑', 4138), ('태어난', 4139), ('김강우', 4140), ('금요일', 4141), ('ocn', 4142), ('클리셰', 4143), ('은데요', 4144), ('대만', 4145), ('종일', 4146), ('노무', 4147), ('쩜', 4148), ('미술', 4149), ('엘', 4150), ('KBS', 4151), ('조조', 4152), ('베트남', 4153), ('고리', 4154), ('지금껏', 4155), ('이동욱', 4156), ('뜬금', 4157), ('제시', 4158), ('써도', 4159), ('태', 4160), ('몬스터', 4161), ('위원', 4162), ('소박', 4163), ('열린', 4164), ('본다고', 4165), ('곳곳', 4166), ('귀요미', 4167), ('미흡', 4168), ('우습', 4169), ('쏴', 4170), ('수치', 4171), ('마인드', 4172), ('대형', 4173), ('들여', 4174), ('팔아먹', 4175), ('나발', 4176), ('으라고', 4177), ('으려는', 4178), ('근', 4179), ('에일리언', 4180), ('한수', 4181), ('공존', 4182), ('떄문에', 4183), ('임파서블', 4184), ('용두사미', 4185), ('해본다', 4186), ('합리', 4187), ('습작', 4188), ('그룹', 4189), ('환불', 4190), ('흔히', 4191), ('서부극', 4192), ('언급', 4193), ('자료', 4194), ('졌으면', 4195), ('이념', 4196), ('멸망', 4197), ('디자인', 4198), ('껴', 4199), ('쳐먹', 4200), ('저절로', 4201), ('건진', 4202), ('경기', 4203), ('23', 4204), ('느껴짐', 4205), ('공개', 4206), ('장쯔이', 4207), ('모여', 4208), ('황비홍', 4209), ('헛', 4210), ('오리지널', 4211), ('친다', 4212), ('서우', 4213), ('남김', 4214), ('주체', 4215), ('진하', 4216), ('실컷', 4217), ('이겨', 4218), ('자라', 4219), ('니당', 4220), ('에게서', 4221), ('꺼져', 4222), ('투신', 4223), ('발생', 4224), ('놀라울', 4225), ('였으면', 4226), ('연장', 4227), ('차기', 4228), ('츄', 4229), ('뱀', 4230), ('발레', 4231), ('철저', 4232), ('바리', 4233), ('법칙', 4234), ('콘서트', 4235), ('자제', 4236), ('파이', 4237), ('도망가', 4238), ('걸까요', 4239), ('민주', 4240), ('고찰', 4241), ('다니엘', 4242), ('스탈', 4243), ('인디아나', 4244), ('집어넣', 4245), ('거든요', 4246), ('은은', 4247), ('120', 4248), ('더니만', 4249), ('수백', 4250), ('현대인', 4251), ('휴가', 4252), ('문학', 4253), ('큐브', 4254), ('박스', 4255), ('즉', 4256), ('지존', 4257), ('탕웨이', 4258), ('똑똑', 4259), ('찐', 4260), ('경쾌', 4261), ('정재영', 4262), ('추잡', 4263), ('나약', 4264), ('허탈', 4265), ('도덕', 4266), ('솜씨', 4267), ('어의', 4268), ('윤아', 4269), ('엑', 4270), ('두근두근', 4271), ('라길래', 4272), ('바치', 4273), ('허전', 4274), ('안정', 4275), ('가르쳐', 4276), ('비명', 4277), ('하군', 4278), ('어처구니없', 4279), ('달러', 4280), ('샤론스톤', 4281), ('회장', 4282), ('여동생', 4283), ('동호', 4284), ('일대기', 4285), ('총알', 4286), ('이준기', 4287), ('그곳', 4288), ('넋', 4289), ('관가', 4290), ('달라', 4291), ('소나', 4292), ('동료', 4293), ('자매', 4294), ('악평', 4295), ('삼가', 4296), ('감당', 4297), ('비난', 4298), ('브래드피트', 4299), ('대책', 4300), ('김하늘', 4301), ('설레임', 4302), ('갑갑', 4303), ('잘생긴', 4304), ('주의', 4305), ('기대감', 4306), ('거울', 4307), ('린', 4308), ('첩', 4309), ('소문', 4310), ('동일', 4311), ('욱', 4312), ('사라진', 4313), ('고백', 4314), ('2001', 4315), ('홍', 4316), ('진보', 4317), ('짜임', 4318), ('벤', 4319), ('대가리', 4320), ('여고', 4321), ('스콧', 4322), ('팩', 4323), ('흘렀', 4324), ('어찌나', 4325), ('쓰레기통', 4326), ('러셀', 4327), ('지겨운', 4328), ('아무래도', 4329), ('동아리', 4330), ('매회', 4331), ('보냅니다', 4332), ('매트릭스', 4333), ('졸려서', 4334), ('아오이', 4335), ('활약', 4336), ('침몰', 4337), ('믿겨', 4338), ('비유', 4339), ('는겨', 4340), ('진화', 4341), ('뇌리', 4342), ('담아낸', 4343), ('지성', 4344), ('클럽', 4345), ('쿵', 4346), ('마초', 4347), ('읍', 4348), ('혹성탈출', 4349), ('리암니슨', 4350), ('맴', 4351), ('일생', 4352), ('형성', 4353), ('직원', 4354), ('넓', 4355), ('졸음', 4356), ('짓거리', 4357), ('박해일', 4358), ('구먼', 4359), ('화신', 4360), ('투박', 4361), ('상쾌', 4362), ('쏙', 4363), ('사다코', 4364), ('오우삼', 4365), ('신현준', 4366), ('2009', 4367), ('긔', 4368), ('잡히', 4369), ('흘러도', 4370), ('밟', 4371), ('에릭', 4372), ('한예슬', 4373), ('미군', 4374), ('록키', 4375), ('스러워서', 4376), ('측면', 4377), ('궁', 4378), ('뻣', 4379), ('몰라서', 4380), ('하나같이', 4381), ('살아나', 4382), ('상투', 4383), ('케이지', 4384), ('썰', 4385), ('멀쩡', 4386), ('병사', 4387), ('꾹', 4388), ('관념', 4389), ('보장', 4390), ('붙여', 4391), ('타락', 4392), ('가운데', 4393), ('불법', 4394), ('콧물', 4395), ('제리', 4396), ('했으면', 4397), ('주지훈', 4398), ('배운', 4399), ('뻔했', 4400), ('레이싱', 4401), ('내려가', 4402), ('쎄', 4403), ('투자자', 4404), ('kbs', 4405), ('본다는', 4406), ('스무', 4407), ('대표작', 4408), ('어렷', 4409), ('켜', 4410), ('전환', 4411), ('카드', 4412), ('팅', 4413), ('끝날', 4414), ('어떨까', 4415), ('샤', 4416), ('제국', 4417), ('지워', 4418), ('가치관', 4419), ('어지간', 4420), ('설렘', 4421), ('무얼', 4422), ('진솔', 4423), ('한효주', 4424), ('에너지', 4425), ('종합', 4426), ('개독', 4427), ('시스템', 4428), ('슈렉', 4429), ('수술', 4430), ('채플린', 4431), ('습', 4432), ('한없이', 4433), ('염', 4434), ('선배', 4435), ('므로', 4436), ('봐야겠다', 4437), ('미개', 4438), ('어느새', 4439), ('수준급', 4440), ('조선족', 4441), ('퉤', 4442), ('붕괴', 4443), ('미야자키', 4444), ('in', 4445), ('콤비', 4446), ('부재', 4447), ('한두', 4448), ('화해', 4449), ('럼', 4450), ('바이러스', 4451), ('기엔', 4452), ('망함', 4453), ('영상물', 4454), ('요구', 4455), ('박자', 4456), ('함정', 4457), ('갖추', 4458), ('평정', 4459), ('유혼', 4460), ('포드', 4461), ('창조', 4462), ('누르', 4463), ('믄', 4464), ('고래', 4465), ('바래', 4466), ('뻔해', 4467), ('그리운', 4468), ('이중', 4469), ('윤', 4470), ('나와요', 4471), ('갱', 4472), ('人', 4473), ('재회', 4474), ('놨다', 4475), ('치열', 4476), ('없음', 4477), ('직장', 4478), ('힘든데', 4479), ('아이고', 4480), ('휴머니즘', 4481), ('푸른', 4482), ('싹', 4483), ('대략', 4484), ('내려', 4485), ('비오', 4486), ('주행', 4487), ('효민', 4488), ('으셨', 4489), ('앵글', 4490), ('따라서', 4491), ('재발견', 4492), ('배웠', 4493), ('가사', 4494), ('모야', 4495), ('기억난다', 4496), ('현장', 4497), ('멍청이', 4498), ('안목', 4499), ('교감', 4500), ('미리', 4501), ('정적', 4502), ('아담', 4503), ('매년', 4504), ('드신', 4505), ('모자', 4506), ('씨네', 4507), ('욕할', 4508), ('어려서', 4509), ('록', 4510), ('을려고', 4511), ('근거', 4512), ('홍진호', 4513), ('파티', 4514), ('긋', 4515), ('와이어', 4516), ('표본', 4517), ('끈다', 4518), ('97', 4519), ('로보캅', 4520), ('회복', 4521), ('파일', 4522), ('암살', 4523), ('에서부터', 4524), ('이놈', 4525), ('봉작', 4526), ('어설픔', 4527), ('놓친', 4528), ('광주', 4529), ('훼손', 4530), ('어려움', 4531), ('조인성', 4532), ('집중력', 4533), ('F', 4534), ('쫓', 4535), ('조재현', 4536), ('K', 4537), ('줄리아', 4538), ('음모', 4539), ('김남길', 4540), ('중국인', 4541), ('그릇', 4542), ('위원회', 4543), ('요원', 4544), ('웩', 4545), ('였으나', 4546), ('동급', 4547), ('직전', 4548), ('연기파', 4549), ('다듬', 4550), ('가문', 4551), ('아메리칸', 4552), ('토마스', 4553), ('이민정', 4554), ('윤계상', 4555), ('들어갔', 4556), ('망상', 4557), ('잎', 4558), ('고소영', 4559), ('프레디', 4560), ('사소', 4561), ('이랬', 4562), ('개떡', 4563), ('처먹', 4564), ('스캔들', 4565), ('얼른', 4566), ('어째서', 4567), ('어려울', 4568), ('맺', 4569), ('전국', 4570), ('뎁', 4571), ('출연료', 4572), ('깜찍', 4573), ('저기', 4574), ('루이스', 4575), ('백만', 4576), ('유사', 4577), ('어깨', 4578), ('안겨', 4579), ('새로', 4580), ('질투', 4581), ('어딨', 4582), ('남음', 4583), ('씁니다', 4584), ('인데요', 4585), ('쾌감', 4586), ('에이리언', 4587), ('황제', 4588), ('지지', 4589), ('나왔었', 4590), ('지진희', 4591), ('운운', 4592), ('묻혀', 4593), ('모자란', 4594), ('버티', 4595), ('그려냈', 4596), ('그러니까', 4597), ('줄리엣', 4598), ('져야', 4599), ('안타까워', 4600), ('원빈', 4601), ('호평', 4602), ('보호', 4603), ('기묘', 4604), ('이만큼', 4605), ('황홀', 4606), ('여지', 4607), ('그놈', 4608), ('프레데터', 4609), ('증', 4610), ('유덕', 4611), ('엑스트라', 4612), ('안티', 4613), ('정권', 4614), ('여야', 4615), ('구석', 4616), ('조각', 4617), ('따라한', 4618), ('오토바이', 4619), ('and', 4620), ('오싹', 4621), ('무능', 4622), ('신파극', 4623), ('겠다', 4624), ('실존', 4625), ('짜집', 4626), ('평하', 4627), ('작업', 4628), ('미루', 4629), ('진구', 4630), ('미칠', 4631), ('현빈', 4632), ('웨슬리', 4633), ('대구', 4634), ('각성', 4635), ('확신', 4636), ('몰래', 4637), ('밀라', 4638), ('제법', 4639), ('촌스러운', 4640), ('좌파', 4641), ('시티', 4642), ('이성', 4643), ('인셉션', 4644), ('고기', 4645), ('쒸', 4646), ('신들린', 4647), ('진주', 4648), ('문근영', 4649), ('댐', 4650), ('알맹이', 4651), ('도박', 4652), ('사형', 4653), ('고려', 4654), ('데려다', 4655), ('듣보잡', 4656), ('메오', 4657), ('쌍욕', 4658), ('머신', 4659), ('결합', 4660), ('장인', 4661), ('모른', 4662), ('핸드폰', 4663), ('김선아', 4664), ('초심', 4665), ('발휘', 4666), ('슈스케', 4667), ('잘난', 4668), ('변호사', 4669), ('쏠쏠', 4670), ('기보단', 4671), ('중세', 4672), ('눈뜨', 4673), ('적응', 4674), ('자칫', 4675), ('변명', 4676), ('시리', 4677), ('발톱', 4678), ('핀', 4679), ('대변', 4680), ('기술력', 4681), ('간만', 4682), ('소피', 4683), ('이슈', 4684), ('턴', 4685), ('선가', 4686), ('일본식', 4687), ('악몽', 4688), ('줄려고', 4689), ('스탤론', 4690), ('써야', 4691), ('유작', 4692), ('우디', 4693), ('공기', 4694), ('어울렸', 4695), ('고현정', 4696), ('승화', 4697), ('에바', 4698), ('까먹', 4699), ('텐', 4700), ('어둠', 4701), ('그래두', 4702), ('내공', 4703), ('2008', 4704), ('실종', 4705), ('건물', 4706), ('무의미', 4707), ('쥐어짜', 4708), ('리암', 4709), ('후지', 4710), ('영감', 4711), ('압박', 4712), ('팍', 4713), ('아마도', 4714), ('선전', 4715), ('로다', 4716), ('아시아', 4717), ('토요', 4718), ('여진구', 4719), ('놀람', 4720), ('소수', 4721), ('급하', 4722), ('나와도', 4723), ('둘째', 4724), ('봤으니', 4725), ('낯', 4726), ('유치원생', 4727), ('밀려오', 4728), ('큼', 4729), ('니콜키드먼', 4730), ('연쇄', 4731), ('사춘기', 4732), ('마땅', 4733), ('흔들리', 4734), ('멜깁슨', 4735), ('똥폼', 4736), ('그리워', 4737), ('평타', 4738), ('백미', 4739), ('현상', 4740), ('가게', 4741), ('금방', 4742), ('첨보', 4743), ('나타난', 4744), ('늘리', 4745), ('종말', 4746), ('옹호', 4747), ('마루', 4748), ('충무로', 4749), ('각인', 4750), ('제도', 4751), ('스틸', 4752), ('닭', 4753), ('완소', 4754), ('차가운', 4755), ('닦', 4756), ('개미', 4757), ('안함', 4758), ('팝', 4759), ('사라져', 4760), ('떠오른다', 4761), ('지민', 4762), ('둥', 4763), ('어땠을까', 4764), ('논란', 4765), ('사로잡', 4766), ('완벽히', 4767), ('훈련', 4768), ('정유미', 4769), ('공효진', 4770), ('못생겼', 4771), ('이론', 4772), ('작중', 4773), ('이선균', 4774), ('시킨다', 4775), ('풍기', 4776), ('조커', 4777), ('쪼', 4778), ('싱', 4779), ('마련', 4780), ('옴니버스', 4781), ('지하철', 4782), ('저버리', 4783), ('린치', 4784), ('정답', 4785), ('원맨쇼', 4786), ('낯선', 4787), ('하얀', 4788), ('서서히', 4789), ('기부', 4790), ('감독판', 4791), ('어메이징', 4792), ('프로젝트', 4793), ('시킴', 4794), ('피스', 4795), ('요란', 4796), ('이종석', 4797), ('피하', 4798), ('이따', 4799), ('나미', 4800), ('싱겁', 4801), ('my', 4802), ('고마워요', 4803), ('써먹', 4804), ('매기', 4805), ('인증', 4806), ('스탭', 4807), ('화난다', 4808), ('MC', 4809), ('후유증', 4810), ('소방관', 4811), ('들인', 4812), ('농구', 4813), ('나비', 4814), ('공리', 4815), ('창의', 4816), ('기계', 4817), ('액', 4818), ('참혹', 4819), ('그치만', 4820), ('낭', 4821), ('naver', 4822), ('연계', 4823), ('실망감', 4824), ('very', 4825), ('OCN', 4826), ('김수로', 4827), ('기승', 4828), ('유역비', 4829), ('졸립', 4830), ('no', 4831), ('여도', 4832), ('잠든', 4833), ('그딴', 4834), ('본드', 4835), ('일으키', 4836), ('룡', 4837), ('잉여', 4838), ('성괴', 4839), ('찬란', 4840), ('예정', 4841), ('알아보', 4842), ('아웃', 4843), ('독백', 4844), ('독도', 4845), ('나빠', 4846), ('십니다', 4847), ('밝히', 4848), ('어벤져스', 4849), ('타입', 4850), ('찰리', 4851), ('버튼', 4852), ('채민서', 4853), ('망가지', 4854), ('무적', 4855), ('접한', 4856), ('비급', 4857), ('족', 4858), ('빠짐', 4859), ('가미', 4860), ('말기', 4861), ('본받', 4862), ('약속', 4863), ('망신', 4864), ('크리스토퍼', 4865), ('다녀온', 4866), ('달려', 4867), ('글쎄요', 4868), ('스펙타클', 4869), ('원망', 4870), ('도입부', 4871), ('공격', 4872), ('가만히', 4873), ('경이', 4874), ('일방', 4875), ('샷', 4876), ('희한', 4877), ('어유', 4878), ('일제', 4879), ('딘', 4880), ('서민', 4881), ('거시기', 4882), ('결과물', 4883), ('지상파', 4884), ('똘', 4885), ('돌렸', 4886), ('타짜', 4887), ('로부터', 4888), ('이여', 4889), ('오디션', 4890), ('주장', 4891), ('로렌스', 4892), ('히치콕', 4893), ('허준', 4894), ('제한', 4895), ('축', 4896), ('허비', 4897), ('오래오래', 4898), ('관계자', 4899), ('다수', 4900), ('하우스', 4901), ('넘겨', 4902), ('상자', 4903), ('정돈', 4904), ('서인국', 4905), ('터진다', 4906), ('벗기', 4907), ('성의', 4908), ('퀸', 4909), ('황금', 4910), ('복제', 4911), ('케로로', 4912), ('지켜보', 4913), ('헬', 4914), ('생뚱맞', 4915), ('으려나', 4916), ('아날로그', 4917), ('셜록', 4918), ('눈요기', 4919), ('어떨지', 4920), ('낌', 4921), ('우울증', 4922), ('라스', 4923), ('김래원', 4924), ('일기', 4925), ('다기', 4926), ('어리석', 4927), ('작작', 4928), ('여실히', 4929), ('신분', 4930), ('끊임없이', 4931), ('노무현', 4932), ('원초', 4933), ('수업', 4934), ('m', 4935), ('어쨋든', 4936), ('성지', 4937), ('하네', 4938), ('신앙', 4939), ('시켜서', 4940), ('봤으나', 4941), ('라이', 4942), ('동원', 4943), ('브루스윌리스', 4944), ('주제곡', 4945), ('행운', 4946), ('계단', 4947), ('골든', 4948), ('cgv', 4949), ('제공', 4950), ('농락', 4951), ('못지않', 4952), ('2002', 4953), ('2007', 4954), ('에니', 4955), ('교차', 4956), ('최대한', 4957), ('얄팍', 4958), ('덜덜', 4959), ('짐작', 4960), ('유승준', 4961), ('양산', 4962), ('구해', 4963), ('각지', 4964), ('보영', 4965), ('암시', 4966), ('그렸', 4967), ('피라냐', 4968), ('구매', 4969), ('독창', 4970), ('페이지', 4971), ('인내', 4972), ('하필', 4973), ('동경', 4974), ('레오', 4975), ('지속', 4976), ('잡아먹', 4977), ('엄태웅', 4978), ('찡하', 4979), ('외로운', 4980), ('밀려', 4981), ('장녀', 4982), ('이면', 4983), ('개웃', 4984), ('폴워커', 4985), ('악인', 4986), ('관심없', 4987), ('사막', 4988), ('드래곤', 4989), ('토르', 4990), ('볼라고', 4991), ('비씨', 4992), ('향', 4993), ('거슬린다', 4994), ('형태', 4995), ('취미', 4996), ('성향', 4997), ('절절', 4998), ('내놔', 4999), ('압축', 5000), ('화제', 5001), ('린다', 5002), ('구림', 5003), ('덴젤', 5004), ('탔', 5005), ('천녀', 5006), ('리그', 5007), ('카타르시스', 5008), ('공포감', 5009), ('으리으리', 5010), ('삼총사', 5011), ('균형', 5012), ('최하', 5013), ('퍼펙트', 5014), ('웃길', 5015), ('궁금증', 5016), ('근육', 5017), ('신동엽', 5018), ('어려웠', 5019), ('한다니', 5020), ('불꽃', 5021), ('버려서', 5022), ('의존', 5023), ('할까요', 5024), ('대가', 5025), ('애썼', 5026), ('디스', 5027), ('희극', 5028), ('아휴', 5029), ('매치', 5030), ('톰행크스', 5031), ('걸레', 5032), ('me', 5033), ('마크', 5034), ('사라', 5035), ('대리', 5036), ('장만옥', 5037), ('왕따', 5038), ('마라', 5039), ('우수', 5040), ('끼친다', 5041), ('유도', 5042), ('부턴', 5043), ('박힌', 5044), ('어울릴', 5045), ('민주주의', 5046), ('통일', 5047), ('시바', 5048), ('헌터', 5049), ('전통', 5050), ('경지', 5051), ('졸린', 5052), ('뒤통수', 5053), ('시망', 5054), ('탁', 5055), ('사례', 5056), ('키드', 5057), ('편히', 5058), ('테스트', 5059), ('이완', 5060), ('벌레', 5061), ('바램', 5062), ('자존심', 5063), ('도다', 5064), ('계신', 5065), ('친일파', 5066), ('찌르', 5067), ('손꼽히', 5068), ('맥라이언', 5069), ('재연', 5070), ('망해', 5071), ('육체', 5072), ('아파', 5073), ('한몫', 5074), ('결제', 5075), ('로멘', 5076), ('톱', 5077), ('유행어', 5078), ('란다', 5079), ('봅시다', 5080), ('탐욕', 5081), ('토이', 5082), ('펙', 5083), ('충동', 5084), ('약해', 5085), ('선입견', 5086), ('때론', 5087), ('발암', 5088), ('장사', 5089), ('명예', 5090), ('한국식', 5091), ('하루하루', 5092), ('혼', 5093), ('누워', 5094), ('아름다워', 5095), ('2011', 5096), ('내린', 5097), ('비용', 5098), ('무도', 5099), ('브래드', 5100), ('모드', 5101), ('아담샌들러', 5102), ('유우', 5103), ('됌', 5104), ('웨', 5105), ('서세원', 5106), ('도망', 5107), ('봉태규', 5108), ('치명', 5109), ('호소', 5110), ('로버츠', 5111), ('강인', 5112), ('막스', 5113), ('낸다', 5114), ('하긴', 5115), ('한니발', 5116), ('인피니트', 5117), ('윌스미스', 5118), ('핵심', 5119), ('초콜릿', 5120), ('끝났으면', 5121), ('마피아', 5122), ('바비', 5123), ('걸려', 5124), ('깜', 5125), ('여군', 5126), ('질린다', 5127), ('못지', 5128), ('모를까', 5129), ('폭탄', 5130), ('i', 5131), ('베낀', 5132), ('자녀', 5133), ('다길래', 5134), ('도로', 5135), ('444', 5136), ('부류', 5137), ('헬기', 5138), ('콜린', 5139), ('머니', 5140), ('놔서', 5141), ('보상', 5142), ('일어났', 5143), ('그럴싸하', 5144), ('대학교', 5145), ('아트', 5146), ('꺼라', 5147), ('췌', 5148), ('사신', 5149), ('동의', 5150), ('무장', 5151), ('조건', 5152), ('but', 5153), ('흘러', 5154), ('뽀로로', 5155), ('차인표', 5156), ('쥔', 5157), ('일까요', 5158), ('소속', 5159), ('특성', 5160), ('뚫', 5161), ('테이크', 5162), ('허니', 5163), ('무려', 5164), ('블레이드', 5165), ('공상', 5166), ('설치', 5167), ('따라했', 5168), ('무표정', 5169), ('강박', 5170), ('지닌', 5171), ('천박', 5172), ('랏', 5173), ('브라이언', 5174), ('우드', 5175), ('맥어보이', 5176), ('야수', 5177), ('편지', 5178), ('지웠', 5179), ('초라', 5180), ('최진실', 5181), ('버금가', 5182), ('2006', 5183), ('S', 5184), ('넘쳐나', 5185), ('지치', 5186), ('명량', 5187), ('No', 5188), ('형편', 5189), ('유산', 5190), ('샀', 5191), ('넘친다', 5192), ('징그럽', 5193), ('머피', 5194), ('밍', 5195), ('이길', 5196), ('그걸로', 5197), ('love', 5198), ('처참', 5199), ('소스', 5200), ('종이', 5201), ('AV', 5202), ('드라마틱', 5203), ('물고기', 5204), ('화장', 5205), ('데미무어', 5206), ('다케시', 5207), ('부담없이', 5208), ('장미', 5209), ('재미난', 5210), ('외롭', 5211), ('단계', 5212), ('숭고', 5213), ('공익', 5214), ('안경', 5215), ('브금', 5216), ('끼쳤', 5217), ('목표', 5218), ('기반', 5219), ('잠자', 5220), ('핑', 5221), ('문제점', 5222), ('불멸', 5223), ('최지우', 5224), ('해운대', 5225), ('폐', 5226), ('릭', 5227), ('다는데', 5228), ('거린다', 5229), ('문구', 5230), ('신은경', 5231), ('이상실', 5232), ('귀한', 5233), ('는구만', 5234), ('실체', 5235), ('동참', 5236), ('해학', 5237), ('잔잔히', 5238), ('위치', 5239), ('바뀐', 5240), ('남동생', 5241), ('이터', 5242), ('타이밍', 5243), ('윤리', 5244), ('L', 5245), ('샹', 5246), ('빈디젤', 5247), ('자전거', 5248), ('탕', 5249), ('기리', 5250), ('욕하', 5251), ('갔었', 5252), ('부성애', 5253), ('당대', 5254), ('펼치', 5255), ('쌤', 5256), ('도가니', 5257), ('무튼', 5258), ('데뷔', 5259), ('호화', 5260), ('고고', 5261), ('박신혜', 5262), ('삼국지', 5263), ('빠다', 5264), ('원작자', 5265), ('소유', 5266), ('빠진다', 5267), ('되돌아보', 5268), ('놀래', 5269), ('가져다', 5270), ('떠올랐', 5271), ('해놨', 5272), ('부대', 5273), ('방학', 5274), ('엑소', 5275), ('하여튼', 5276), ('캡틴', 5277), ('케이스', 5278), ('쿵푸', 5279), ('미만', 5280), ('불만', 5281), ('와나', 5282), ('맘대로', 5283), ('최강희', 5284), ('터질', 5285), ('슬로우', 5286), ('모션', 5287), ('이정현', 5288), ('권리', 5289), ('퓨', 5290), ('마동석', 5291), ('판치', 5292), ('썰렁', 5293), ('저건', 5294), ('챙기', 5295), ('강도', 5296), ('1990', 5297), ('반면', 5298), ('먹이', 5299), ('잘라', 5300), ('한결', 5301), ('어필', 5302), ('자비', 5303), ('며칠', 5304), ('움직임', 5305), ('모니터', 5306), ('4000', 5307), ('랍니다', 5308), ('29', 5309), ('헛소리', 5310), ('언더', 5311), ('아함', 5312), ('좌절', 5313), ('아일랜드', 5314), ('이나마', 5315), ('전범', 5316), ('변한', 5317), ('다세포', 5318), ('sbs', 5319), ('맙소사', 5320), ('이런지', 5321), ('스페셜', 5322), ('27', 5323), ('기념', 5324), ('추석', 5325), ('콜린퍼스', 5326), ('묶', 5327), ('약자', 5328), ('취', 5329), ('별개', 5330), ('장담', 5331), ('기다', 5332), ('김승우', 5333), ('상승', 5334), ('오늘날', 5335), ('힌', 5336), ('문명', 5337), ('진국', 5338), ('트와일라잇', 5339), ('과제', 5340), ('개봉관', 5341), ('으라면', 5342), ('지라', 5343), ('so', 5344), ('좁', 5345), ('인칭', 5346), ('무모', 5347), ('그림자', 5348), ('av', 5349), ('소외', 5350), ('욕설', 5351), ('브로디', 5352), ('풋', 5353), ('부드럽', 5354), ('정글', 5355), ('스님', 5356), ('물질', 5357), ('충만', 5358), ('태권', 5359), ('꽁', 5360), ('성장기', 5361), ('생명체', 5362), ('포근', 5363), ('리라', 5364), ('크리스틴', 5365), ('부수', 5366), ('기승전결', 5367), ('엠마', 5368), ('밉', 5369), ('팬티', 5370), ('숭', 5371), ('개월', 5372), ('아키라', 5373), ('냄', 5374), ('하야오', 5375), ('마니아', 5376), ('저지르', 5377), ('88', 5378), ('놓칠', 5379), ('으니깐', 5380), ('웬지', 5381), ('적합', 5382), ('저딴', 5383), ('여전사', 5384), ('켠', 5385), ('귀여', 5386), ('진출', 5387), ('이분', 5388), ('테러리스트', 5389), ('빤', 5390), ('중구난방', 5391), ('파멸', 5392), ('전후', 5393), ('한쪽', 5394), ('축하', 5395), ('들으면', 5396), ('건달', 5397), ('쫄깃', 5398), ('철저히', 5399), ('수단', 5400), ('배슬기', 5401), ('폭파', 5402), ('해리', 5403), ('떠난', 5404), ('륵', 5405), ('으아', 5406), ('잣', 5407), ('95', 5408), ('나대', 5409), ('섞인', 5410), ('돋보인', 5411), ('통하', 5412), ('흘러나오', 5413), ('배두나', 5414), ('테이프', 5415), ('속이', 5416), ('이걸로', 5417), ('망침', 5418), ('결투', 5419), ('다가온다', 5420), ('조롱', 5421), ('꼽히', 5422), ('럽', 5423), ('쏠', 5424), ('고스트', 5425), ('산업', 5426), ('아이리스', 5427), ('라면서', 5428), ('윌', 5429), ('후하', 5430), ('어줍잖', 5431), ('느껴져서', 5432), ('돌아온', 5433), ('볼란다', 5434), ('떨어져서', 5435), ('헌신', 5436), ('담주', 5437), ('자질', 5438), ('원스', 5439), ('케이트', 5440), ('열차', 5441), ('단막극', 5442), ('라이트', 5443), ('기대치', 5444), ('금발', 5445), ('오줌', 5446), ('경쟁', 5447), ('E', 5448), ('비됴', 5449), ('만만', 5450), ('윤시윤', 5451), ('연민', 5452), ('워킹', 5453), ('근본', 5454), ('정성', 5455), ('뻘', 5456), ('웅', 5457), ('의외로', 5458), ('치킨', 5459), ('박정희', 5460), ('공각', 5461), ('기동대', 5462), ('ㅐ', 5463), ('통한', 5464), ('이슬람', 5465), ('초호', 5466), ('권하', 5467), ('무성', 5468), ('두뇌', 5469), ('손오공', 5470), ('타이타닉', 5471), ('해져', 5472), ('뚜렷', 5473), ('엿볼', 5474), ('지니어스', 5475), ('뒷부분', 5476), ('짤', 5477), ('충족', 5478), ('모처럼', 5479), ('승', 5480), ('미친다', 5481), ('하여금', 5482), ('데이트', 5483), ('탈락', 5484), ('꺼리', 5485), ('쿠바', 5486), ('맴도', 5487), ('단다', 5488), ('니미', 5489), ('생각날', 5490), ('초한지', 5491), ('스티브', 5492), ('늘어놓', 5493), ('앵', 5494), ('이제껏', 5495), ('떨리', 5496), ('돌림', 5497), ('살아갈', 5498), ('스칼렛', 5499), ('고마워', 5500), ('순간순간', 5501), ('읍니다', 5502), ('ㅊ', 5503), ('하여간', 5504), ('위안부', 5505), ('어울려요', 5506), ('윽', 5507), ('울려', 5508), ('쯧', 5509), ('이야말로', 5510), ('재일', 5511), ('우월주의', 5512), ('송중기', 5513), ('헌', 5514), ('맞먹', 5515), ('드릅', 5516), ('10000', 5517), ('청', 5518), ('근대', 5519), ('라라', 5520), ('버무려', 5521), ('오지', 5522), ('살림', 5523), ('라더니', 5524), ('아가', 5525), ('기운', 5526), ('민영화', 5527), ('날림', 5528), ('바꿀', 5529), ('급급', 5530), ('금치', 5531), ('의아', 5532), ('낯설', 5533), ('부조리', 5534), ('이스라엘', 5535), ('뜨겁', 5536), ('심해', 5537), ('치중', 5538), ('느껴야', 5539), ('밉상', 5540), ('대립', 5541), ('수상', 5542), ('다던데', 5543), ('끝냈', 5544), ('유준상', 5545), ('세력', 5546), ('ㅠㅠㅠㅠㅠ', 5547), ('새로울', 5548), ('것다', 5549), ('마져', 5550), ('다가왔', 5551), ('역부족', 5552), ('이수근', 5553), ('그땐', 5554), ('원제', 5555), ('보네', 5556), ('발차기', 5557), ('군데', 5558), ('델', 5559), ('생겨', 5560), ('치닫', 5561), ('클래스', 5562), ('뛰어났', 5563), ('개지', 5564), ('동정', 5565), ('괴롭히', 5566), ('시위', 5567), ('지연', 5568), ('화내', 5569), ('히틀러', 5570), ('거친', 5571), ('사골', 5572), ('이틀', 5573), ('바른', 5574), ('건담', 5575), ('돼요', 5576), ('워터', 5577), ('조성', 5578), ('심은하', 5579), ('휘', 5580), ('이득', 5581), ('평작', 5582), ('스키', 5583), ('뚝', 5584), ('고릴라', 5585), ('크리스', 5586), ('주민', 5587), ('헤어', 5588), ('침대', 5589), ('미니', 5590), ('곽지민', 5591), ('픽', 5592), ('전투기', 5593), ('후진', 5594), ('씨리', 5595), ('서른', 5596), ('쇼생크', 5597), ('올라오', 5598), ('올린', 5599), ('못해서', 5600), ('불러일으키', 5601), ('음모론', 5602), ('운지', 5603), ('장진영', 5604), ('서비스', 5605), ('상평', 5606), ('보삼', 5607), ('자르', 5608), ('분신', 5609), ('26', 5610), ('무방', 5611), ('에반', 5612), ('아무렇', 5613), ('물결', 5614), ('앞서간', 5615), ('획기', 5616), ('기여', 5617), ('접했', 5618), ('으려다', 5619), ('ㅗ', 5620), ('기영화', 5621), ('와라', 5622), ('걸음', 5623), ('좋아한다면', 5624), ('웨이', 5625), ('도구', 5626), ('기원', 5627), ('구입', 5628), ('노다메', 5629), ('니슨', 5630), ('이대로', 5631), ('살인범', 5632), ('아자', 5633), ('감정이입', 5634), ('박스오피스', 5635), ('버려라', 5636), ('봣네요', 5637), ('견디', 5638), ('일어난', 5639), ('아유', 5640), ('류승룡', 5641), ('조여정', 5642), ('슴다', 5643), ('멋대로', 5644), ('해소', 5645), ('눈감', 5646), ('입가', 5647), ('월드컵', 5648), ('고루', 5649), ('죄책감', 5650), ('가만', 5651), ('주옥같', 5652), ('오죽', 5653), ('뜯', 5654), ('댈', 5655), ('폭소', 5656), ('반해', 5657), ('명언', 5658), ('허각', 5659), ('여명', 5660), ('서양인', 5661), ('고만', 5662), ('캐서린', 5663), ('샤말란', 5664), ('시어머니', 5665), ('했으니', 5666), ('김규리', 5667), ('lt', 5668), ('어쩐지', 5669), ('보수', 5670), ('에로틱', 5671), ('지껄이', 5672), ('변', 5673), ('새드', 5674), ('소련', 5675), ('고선', 5676), ('간절', 5677), ('유치원', 5678), ('퍼지', 5679), ('붙잡', 5680), ('양키', 5681), ('박유천', 5682), ('레터', 5683), ('그로테스크', 5684), ('여우', 5685), ('패기', 5686), ('셔요', 5687), ('억압', 5688), ('고집', 5689), ('여사', 5690), ('스톤', 5691), ('바꿔라', 5692), ('모자이크', 5693), ('넘쳤', 5694), ('으다', 5695), ('할래', 5696), ('유승호', 5697), ('변해', 5698), ('종북', 5699), ('밖엔', 5700), ('연락', 5701), ('눈물샘', 5702), ('ㅓ', 5703), ('되돌', 5704), ('조국', 5705), ('이상우', 5706), ('금포', 5707), ('구린', 5708), ('알차', 5709), ('강예원', 5710), ('갈릴', 5711), ('마이크', 5712), ('그려진', 5713), ('이리저리', 5714), ('전파', 5715), ('헷갈리', 5716), ('신다면', 5717), ('닝', 5718), ('불우', 5719), ('올시다', 5720), ('케이', 5721), ('종종', 5722), ('다면서', 5723), ('공장', 5724), ('제인', 5725), ('루지', 5726), ('쫄', 5727), ('호랑이', 5728), ('방울', 5729), ('여고생', 5730), ('변질', 5731), ('지혜', 5732), ('똥칠', 5733), ('아이러니', 5734), ('미키', 5735), ('야쿠자', 5736), ('무작정', 5737), ('동화책', 5738), ('빛났', 5739), ('튀기', 5740), ('동방', 5741), ('산타', 5742), ('유루', 5743), ('원한', 5744), ('과대', 5745), ('숀펜', 5746), ('인격', 5747), ('소원', 5748), ('완존', 5749), ('훅', 5750), ('모아서', 5751), ('this', 5752), ('후속', 5753), ('기절', 5754), ('ㅜㅜㅜㅜ', 5755), ('광해', 5756), ('일병', 5757), ('비트', 5758), ('솔로', 5759), ('저래', 5760), ('미성년자', 5761), ('옛다', 5762), ('93', 5763), ('콤', 5764), ('떨어뜨리', 5765), ('결', 5766), ('장동민', 5767), ('노리', 5768), ('정준호', 5769), ('상하', 5770), ('이자벨', 5771), ('정신없이', 5772), ('성동일', 5773), ('고개', 5774), ('밴', 5775), ('늘려', 5776), ('맥주', 5777), ('모름', 5778), ('국적', 5779), ('리티', 5780), ('파트너', 5781), ('게리온', 5782), ('결혼식', 5783), ('이브', 5784), ('두렵', 5785), ('신뢰', 5786), ('쓰러지', 5787), ('데스노트', 5788), ('쉐', 5789), ('호프만', 5790), ('놀랄', 5791), ('서사시', 5792), ('영화배우', 5793), ('비둘기', 5794), ('사정', 5795), ('아녀', 5796), ('다임', 5797), ('라이브', 5798), ('괴리', 5799), ('지능', 5800), ('1980', 5801), ('올드보이', 5802), ('십시오', 5803), ('인과', 5804), ('강했', 5805), ('스크림', 5806), ('부시', 5807), ('진자', 5808), ('시원시원', 5809), ('어리', 5810), ('지만은', 5811), ('펼쳐지', 5812), ('저능아', 5813), ('원한다면', 5814), ('울린다', 5815), ('라이프', 5816), ('짝사랑', 5817), ('된장', 5818), ('대영', 5819), ('미숙', 5820), ('간다는', 5821), ('모범', 5822), ('단조', 5823), ('막힌', 5824), ('동성애자', 5825), ('섞여', 5826), ('봉준호', 5827), ('창작', 5828), ('It', 5829), ('환영', 5830), ('gt', 5831), ('보낸', 5832), ('서사', 5833), ('김민준', 5834), ('제레미', 5835), ('할께요', 5836), ('정책', 5837), ('휴잭맨', 5838), ('쿠엔틴', 5839), ('독재', 5840), ('나른', 5841), ('권선징악', 5842), ('과감', 5843), ('붐', 5844), ('이준', 5845), ('역겨웠', 5846), ('교사', 5847), ('시계', 5848), ('흠뻑', 5849), ('인디언', 5850), ('나기', 5851), ('스포일러', 5852), ('릿', 5853), ('나아가', 5854), ('왔음', 5855), ('높여', 5856), ('뎀', 5857), ('창문', 5858), ('따르', 5859), ('늬', 5860), ('장백지', 5861), ('후배', 5862), ('달랐', 5863), ('썅', 5864), ('서바이벌', 5865), ('보편', 5866), ('오묘', 5867), ('이문식', 5868), ('네임', 5869), ('서태지', 5870), ('사자', 5871), ('메이저', 5872), ('탱고', 5873), ('슬슬', 5874), ('남겼', 5875), ('색기', 5876), ('이민호', 5877), ('유머러스', 5878), ('활', 5879), ('힛', 5880), ('거슬렸', 5881), ('중도', 5882), ('오덕', 5883), ('장기', 5884), ('일본어', 5885), ('롯데', 5886), ('인위', 5887), ('랍시고', 5888), ('총격전', 5889), ('무명', 5890), ('소비', 5891), ('완결', 5892), ('래도', 5893), ('설레이', 5894), ('지상', 5895), ('싱크로', 5896), ('XX', 5897), ('훗', 5898), ('돕', 5899), ('김정은', 5900), ('푼', 5901), ('깔려', 5902), ('레드', 5903), ('추격전', 5904), ('진상', 5905), ('순례', 5906), ('밍밍', 5907), ('재벌', 5908), ('비포', 5909), ('윌리엄스', 5910), ('쓰리', 5911), ('텅', 5912), ('사이코패스', 5913), ('당해', 5914), ('떳', 5915), ('이루어지', 5916), ('니까요', 5917), ('살릴', 5918), ('전사', 5919), ('극대', 5920), ('됀', 5921), ('클라', 5922), ('하이라이트', 5923), ('타워', 5924), ('삽입', 5925), ('그런대로', 5926), ('굿바이', 5927), ('할텐데', 5928), ('드러난', 5929), ('녹음', 5930), ('뻑', 5931), ('컴', 5932), ('후련', 5933), ('정치인', 5934), ('츠', 5935), ('핑계', 5936), ('스토리텔링', 5937), ('라이더', 5938), ('다닐', 5939), ('삽질', 5940), ('주로', 5941), ('페미니즘', 5942), ('영화인', 5943), ('천천히', 5944), ('영화광', 5945), ('설리', 5946), ('맷데이먼', 5947), ('중견', 5948), ('훌쩍', 5949), ('서부터', 5950), ('습니', 5951), ('특선', 5952), ('장선우', 5953), ('최수종', 5954), ('당함', 5955), ('이질감', 5956), ('크리', 5957), ('야말로', 5958), ('넘쳐', 5959), ('해줘서', 5960), ('붙인', 5961), ('주진모', 5962), ('졌어요', 5963), ('시퀀스', 5964), ('서커스', 5965), ('온통', 5966), ('주네', 5967), ('틴', 5968), ('배제', 5969), ('보너스', 5970), ('객관적으로', 5971), ('리부트', 5972), ('세끼', 5973), ('웨스턴', 5974), ('마모루', 5975), ('돈다', 5976), ('룰', 5977), ('삼성', 5978), ('돌아왔', 5979), ('소서', 5980), ('로즈', 5981), ('김현주', 5982), ('어땠', 5983), ('쑈', 5984), ('다간', 5985), ('톱스타', 5986), ('주제가', 5987), ('이어서', 5988), ('기어', 5989), ('넷', 5990), ('전반부', 5991), ('흘릴', 5992), ('에라', 5993), ('웃긴데', 5994), ('경각심', 5995), ('주려', 5996), ('개운', 5997), ('햐', 5998), ('들어갈', 5999), ('감점', 6000), ('bgm', 6001), ('후레쉬', 6002), ('파치노', 6003), ('인정받', 6004), ('싱어', 6005), ('기이', 6006), ('현란', 6007), ('유이', 6008), ('파도', 6009), ('싫어하', 6010), ('주요', 6011), ('큐라', 6012), ('자빠졌', 6013), ('f', 6014), ('업그레이드', 6015), ('관우', 6016), ('수습', 6017), ('달린', 6018), ('컨데', 6019), ('반가웠', 6020), ('해봐도', 6021), ('새기', 6022), ('김민희', 6023), ('ㅡㅜ', 6024), ('취지', 6025), ('김보성', 6026), ('말장난', 6027), ('달라서', 6028), ('협박', 6029), ('유해진', 6030), ('주문', 6031), ('쌍둥이', 6032), ('만행', 6033), ('멘스', 6034), ('무서워요', 6035), ('타잔', 6036), ('존나게', 6037), ('과언', 6038), ('어쩌구', 6039), ('르네', 6040), ('비행', 6041), ('성질', 6042), ('콩가루', 6043), ('역겨움', 6044), ('취하', 6045), ('액티비티', 6046), ('이라니', 6047), ('억지웃음', 6048), ('범작', 6049), ('애환', 6050), ('유튜브', 6051), ('멀미', 6052), ('빌려서', 6053), ('죄악', 6054), ('폴리스', 6055), ('맡기', 6056), ('CF', 6057), ('장수', 6058), ('무지하', 6059), ('볼려', 6060), ('이정진', 6061), ('우려', 6062), ('여느', 6063), ('재해석', 6064), ('총격', 6065), ('멈출', 6066), ('마주', 6067), ('몸부림', 6068), ('둠', 6069), ('끼칠', 6070), ('쟝', 6071), ('오리지날', 6072), ('골랐', 6073), ('김창완', 6074), ('투쟁', 6075), ('추적', 6076), ('보리', 6077), ('G', 6078), ('악어', 6079), ('z', 6080), ('나치', 6081), ('안드로메다', 6082), ('모여서', 6083), ('발악', 6084), ('막무가내', 6085), ('러니', 6086), ('오름', 6087), ('헤헤', 6088), ('피노키오', 6089), ('ㅡㅡㅋ', 6090), ('낡', 6091), ('스물', 6092), ('올랐', 6093), ('테론', 6094), ('키드먼', 6095), ('자아내', 6096), ('힐', 6097), ('디아즈', 6098), ('펴', 6099), ('아가씨', 6100), ('한구석', 6101), ('영하', 6102), ('이미연', 6103), ('베끼', 6104), ('김주혁', 6105), ('나나', 6106), ('우상', 6107), ('지쳐', 6108), ('해설', 6109), ('쌓', 6110), ('재생', 6111), ('주년', 6112), ('무고', 6113), ('안개', 6114), ('알맞', 6115), ('맞서', 6116), ('그리움', 6117), ('박물관', 6118), ('간신히', 6119), ('비약', 6120), ('성기', 6121), ('민국', 6122), ('희생자', 6123), ('드릴', 6124), ('답습', 6125), ('본데', 6126), ('꾸준히', 6127), ('운적', 6128), ('쳐다보', 6129), ('조쉬', 6130), ('불교', 6131), ('어게인', 6132), ('유오', 6133), ('새로움', 6134), ('장애인', 6135), ('데요', 6136), ('해리슨', 6137), ('인성', 6138), ('화보', 6139), ('지켜라', 6140), ('혹', 6141), ('딥', 6142), ('펜', 6143), ('초보', 6144), ('장비', 6145), ('울렸', 6146), ('공정', 6147), ('잡스', 6148), ('나인', 6149), ('강우석', 6150), ('존쿠삭', 6151), ('기다린', 6152), ('외계', 6153), ('김옥빈', 6154), ('작살', 6155), ('겜', 6156), ('유선', 6157), ('아이디', 6158), ('마이너', 6159), ('출생', 6160), ('벅찬', 6161), ('명장', 6162), ('시간대', 6163), ('건조', 6164), ('감싸', 6165), ('참으', 6166), ('김준호', 6167), ('후보', 6168), ('고난', 6169), ('퀼', 6170), ('긴박감', 6171), ('노라', 6172), ('루시', 6173), ('합쳐', 6174), ('눈살', 6175), ('아름다워요', 6176), ('울버린', 6177), ('박용우', 6178), ('ㅇㅅㅇ', 6179), ('걸맞', 6180), ('환희', 6181), ('흐른다', 6182), ('다가가', 6183), ('투모로우', 6184), ('작성', 6185), ('얕', 6186), ('겠다는', 6187), ('떤', 6188), ('92', 6189), ('거늘', 6190), ('나눠', 6191), ('특정', 6192), ('야겠다', 6193), ('경력', 6194), ('끝남', 6195), ('인사', 6196), ('젬', 6197), ('140', 6198), ('김소연', 6199), ('현지', 6200), ('심함', 6201), ('같잖', 6202), ('쿵푸팬더', 6203), ('입체', 6204), ('킹콩', 6205), ('보고서', 6206), ('퍼센트', 6207), ('박진영', 6208), ('에스', 6209), ('123', 6210), ('뵈', 6211), ('씻', 6212), ('그럴듯한', 6213), ('리얼리즘', 6214), ('홀', 6215), ('루비', 6216), ('울부짖', 6217), ('디비', 6218), ('크크', 6219), ('윤재', 6220), ('출시', 6221), ('윤발', 6222), ('시덥잖', 6223), ('대다수', 6224), ('인내력', 6225), ('쇼킹', 6226), ('중고', 6227), ('저지른', 6228), ('점대', 6229), ('쫙', 6230), ('플러스', 6231), ('파탄', 6232), ('혼났', 6233), ('여태껏', 6234), ('심금', 6235), ('기타노', 6236), ('반점', 6237), ('달려가', 6238), ('비열', 6239), ('도배', 6240), ('지울', 6241), ('지못미', 6242), ('짝짝', 6243), ('칙칙', 6244), ('울린', 6245), ('엥', 6246), ('배워라', 6247), ('개병', 6248), ('아메리카', 6249), ('명절', 6250), ('k', 6251), ('연출자', 6252), ('다물', 6253), ('주저', 6254), ('무릎', 6255), ('색히', 6256), ('흔해빠진', 6257), ('신발', 6258), ('은유', 6259), ('나무랄', 6260), ('박현지', 6261), ('무미건조', 6262), ('그래야', 6263), ('돌아다니', 6264), ('빠짐없이', 6265), ('눈앞', 6266), ('번방', 6267), ('와인', 6268), ('발리', 6269), ('요가', 6270), ('덴', 6271), ('줄께', 6272), ('망쳐놨', 6273), ('딸아이', 6274), ('극도', 6275), ('애비', 6276), ('유진', 6277), ('사귀', 6278), ('세심', 6279), ('알려진', 6280), ('간접', 6281), ('먹히', 6282), ('증오', 6283), ('머리카락', 6284), ('으휴', 6285), ('뺀', 6286), ('실천', 6287), ('떠날', 6288), ('길거리', 6289), ('대처', 6290), ('레이스', 6291), ('편향', 6292), ('가라', 6293), ('슬플', 6294), ('불리', 6295), ('앨리스', 6296), ('릴리', 6297), ('련', 6298), ('포커스', 6299), ('치부', 6300), ('따른', 6301), ('가위', 6302), ('겁나게', 6303), ('맞춰서', 6304), ('모지', 6305), ('꼴리', 6306), ('수영', 6307), ('33', 6308), ('바꿔서', 6309), ('신랑', 6310), ('연설', 6311), ('화이트', 6312), ('프리퀄', 6313), ('손잡', 6314), ('시대상', 6315), ('위협', 6316), ('맷', 6317), ('콜', 6318), ('뜰', 6319), ('빌린', 6320), ('인시디어스', 6321), ('강소라', 6322), ('더구만', 6323), ('키워', 6324), ('35', 6325), ('대답', 6326), ('진다는', 6327), ('갈망', 6328), ('혈압', 6329), ('이익', 6330), ('성시경', 6331), ('남상미', 6332), ('김윤석', 6333), ('불패', 6334), ('투더', 6335), ('관찰', 6336), ('마른', 6337), ('지친', 6338), ('버려야', 6339), ('부패', 6340), ('甲', 6341), ('뻔할', 6342), ('왠만해서', 6343), ('복귀', 6344), ('눈부신', 6345), ('핫', 6346), ('교양', 6347), ('뵙', 6348), ('절실', 6349), ('사업', 6350), ('안쓰럽', 6351), ('특별히', 6352), ('민간인', 6353), ('그토록', 6354), ('통제', 6355), ('지향', 6356), ('설득', 6357), ('사도', 6358), ('으루', 6359), ('구식', 6360), ('상품', 6361), ('94', 6362), ('기만', 6363), ('편성', 6364), ('축복', 6365), ('결승전', 6366), ('묵', 6367), ('조니', 6368), ('사악', 6369), ('수학', 6370), ('제시카알바', 6371), ('up', 6372), ('모음', 6373), ('천하', 6374), ('개척', 6375), ('be', 6376), ('알렉스', 6377), ('입력', 6378), ('혼합', 6379), ('보냈', 6380), ('명감독', 6381), ('종결', 6382), ('인줄', 6383), ('당당히', 6384), ('났었', 6385), ('무죄', 6386), ('떠서', 6387), ('괴기', 6388), ('혜', 6389), ('일거', 6390), ('출연자', 6391), ('시네마', 6392), ('댜', 6393), ('뼈', 6394), ('을라나', 6395), ('마법사', 6396), ('스나입스', 6397), ('해져서', 6398), ('매드', 6399), ('헝', 6400), ('깡', 6401), ('자국', 6402), ('눈알', 6403), ('성폭행', 6404), ('잔상', 6405), ('아랫', 6406), ('히스레저', 6407), ('떡칠', 6408), ('연구', 6409), ('비우', 6410), ('누드', 6411), ('하찮', 6412), ('애요', 6413), ('샌들러', 6414), ('으악', 6415), ('아하', 6416), ('끓', 6417), ('밸런스', 6418), ('아따', 6419), ('모니카', 6420), ('요기', 6421), ('조지클루니', 6422), ('오래간만', 6423), ('목숨걸', 6424), ('황', 6425), ('워크', 6426), ('마스크', 6427), ('남녀노소', 6428), ('댄', 6429), ('캠프', 6430), ('모시', 6431), ('별론데', 6432), ('반하', 6433), ('스머프', 6434), ('SBS', 6435), ('호주', 6436), ('할려는', 6437), ('ㅇㅇㅇ', 6438), ('석', 6439), ('오션스', 6440), ('세금', 6441), ('리들리', 6442), ('비평', 6443), ('망가진', 6444), ('乃', 6445), ('이룬', 6446), ('후후', 6447), ('그리스', 6448), ('꾸역꾸역', 6449), ('수식어', 6450), ('이서진', 6451), ('조장', 6452), ('떨어질', 6453), ('박한별', 6454), ('송윤아', 6455), ('비슷비슷', 6456), ('발가락', 6457), ('직설', 6458), ('봉전', 6459), ('콘', 6460), ('해줌', 6461), ('제자', 6462), ('삭', 6463), ('식당', 6464), ('무시무시', 6465), ('골라', 6466), ('오점', 6467), ('분열', 6468), ('매튜', 6469), ('표지', 6470), ('스팅', 6471), ('학예회', 6472), ('짖', 6473), ('아포칼립토', 6474), ('숫자', 6475), ('킹왕짱', 6476), ('어염', 6477), ('지상주의', 6478), ('곤란', 6479), ('히스', 6480), ('묘', 6481), ('허망', 6482), ('넘어서', 6483), ('세이', 6484), ('피부', 6485), ('정이건', 6486), ('박하', 6487), ('베를린', 6488), ('합격', 6489), ('달라지', 6490), ('송새벽', 6491), ('맛보', 6492), ('총기', 6493), ('건전', 6494), ('화살', 6495), ('날아가', 6496), ('미지근', 6497), ('절친', 6498), ('준다고', 6499), ('스토커', 6500), ('베토벤', 6501), ('터진', 6502), ('윤은혜', 6503), ('흘려', 6504), ('다지', 6505), ('청순', 6506), ('클로즈업', 6507), ('소심', 6508), ('올바른', 6509), ('소린지', 6510), ('85', 6511), ('정주', 6512), ('이빨', 6513), ('다며', 6514), ('산다는', 6515), ('에리카', 6516), ('우디앨런', 6517), ('꽃미남', 6518), ('하모니', 6519), ('짜맞추', 6520), ('지날수록', 6521), ('영역', 6522), ('반쪽', 6523), ('블러드', 6524), ('찐한', 6525), ('쌍벽', 6526), ('가르침', 6527), ('다짐', 6528), ('춘', 6529), ('눈높이', 6530), ('중점', 6531), ('맛없', 6532), ('특색', 6533), ('굴', 6534), ('다녀왔', 6535), ('조한선', 6536), ('괴상', 6537), ('긴급조치', 6538), ('현우', 6539), ('주식', 6540), ('boring', 6541), ('쪼금', 6542), ('고대', 6543), ('풀어냈', 6544), ('싸인', 6545), ('비리', 6546), ('표출', 6547), ('스페이스', 6548), ('장황', 6549), ('든데', 6550), ('대견', 6551), ('분류', 6552), ('현명', 6553), ('부천', 6554), ('가르치', 6555), ('여지껏', 6556), ('토하', 6557), ('재판', 6558), ('패밀리', 6559), ('은행', 6560), ('닭살', 6561), ('샤를리즈', 6562), ('침략', 6563), ('레즈', 6564), ('포스트', 6565), ('훌', 6566), ('사이트', 6567), ('로썬', 6568), ('꼬집', 6569), ('후편', 6570), ('영애', 6571), ('SM', 6572), ('그날', 6573), ('디지', 6574), ('댔', 6575), ('이미숙', 6576), ('붕가', 6577), ('유부녀', 6578), ('기막힌', 6579), ('틀린', 6580), ('핡', 6581), ('준수', 6582), ('구로사와', 6583), ('발정', 6584), ('달인', 6585), ('명백', 6586), ('박시환', 6587), ('문자', 6588), ('모건', 6589), ('코너', 6590), ('쌀', 6591), ('1997', 6592), ('여부', 6593), ('우베볼', 6594), ('시켜라', 6595), ('줄이', 6596), ('두근거리', 6597), ('압', 6598), ('몸짓', 6599), ('쇠', 6600), ('샤워', 6601), ('저격', 6602), ('쯔', 6603), ('리쉬', 6604), ('누워서', 6605), ('얼음', 6606), ('폰부스', 6607), ('지겨움', 6608), ('이집트', 6609), ('류덕환', 6610), ('짜장면', 6611), ('미사일', 6612), ('봇', 6613), ('예감', 6614), ('늘어진다', 6615), ('감우성', 6616), ('게리올드만', 6617), ('냉소', 6618), ('들려', 6619), ('봣던', 6620), ('누리', 6621), ('떴', 6622), ('킴', 6623), ('강철', 6624), ('무한도전', 6625), ('재수', 6626), ('이쁜데', 6627), ('한반도', 6628), ('을수록', 6629), ('레벨', 6630), ('김아중', 6631), ('맥락', 6632), ('거참', 6633), ('이지아', 6634), ('면은', 6635), ('기초', 6636), ('냉혹', 6637), ('직장인', 6638), ('에바그린', 6639), ('끌어내', 6640), ('내릴', 6641), ('김우빈', 6642), ('아름다우', 6643), ('생길', 6644), ('복싱', 6645), ('나래', 6646), ('홈즈', 6647), ('권장', 6648), ('두세', 6649), ('퍼포먼스', 6650), ('워쇼스키', 6651), ('뱉', 6652), ('싸이', 6653), ('막막', 6654), ('럭', 6655), ('인하', 6656), ('가물가물', 6657), ('아아아', 6658), ('정복', 6659), ('도서관', 6660), ('쟤', 6661), ('파이널', 6662), ('다더니', 6663), ('애서', 6664), ('갚', 6665), ('똑', 6666), ('소유진', 6667), ('세우', 6668), ('워스트', 6669), ('1998', 6670), ('김수미', 6671), ('으므로', 6672), ('동양인', 6673), ('빚', 6674), ('할라고', 6675), ('제라드', 6676), ('디젤', 6677), ('뇬', 6678), ('레고', 6679), ('산드라', 6680), ('토요일', 6681), ('꾀', 6682), ('강남', 6683), ('초중', 6684), ('장엄', 6685), ('잡탕', 6686), ('테마', 6687), ('세용', 6688), ('해적', 6689), ('웡', 6690), ('45', 6691), ('데려다가', 6692), ('통찰', 6693), ('89', 6694), ('예쁘다', 6695), ('징징대', 6696), ('추상', 6697), ('엎', 6698), ('민호', 6699), ('거침없이', 6700), ('애쓴', 6701), ('악한', 6702), ('유아인', 6703), ('뜻깊', 6704), ('스틱', 6705), ('이기심', 6706), ('아파서', 6707), ('참내', 6708), ('했어야', 6709), ('시한부', 6710), ('걔', 6711), ('벨라', 6712), ('보라', 6713), ('꼬이', 6714), ('생전', 6715), ('토크', 6716), ('기능', 6717), ('으으', 6718), ('캡', 6719), ('이안', 6720), ('치매', 6721), ('안젤리나', 6722), ('광대', 6723), ('견줄', 6724), ('함축', 6725), ('연대기', 6726), ('클레이', 6727), ('눌러', 6728), ('소수자', 6729), ('밀라요보비치', 6730), ('데기', 6731), ('개구리', 6732), ('허락', 6733), ('저럴', 6734), ('멎', 6735), ('유희', 6736), ('운영', 6737), ('계급', 6738), ('허리', 6739), ('몽골', 6740), ('오래가', 6741), ('마돈나', 6742), ('브라질', 6743), ('삼촌', 6744), ('상관없이', 6745), ('투입', 6746), ('고소', 6747), ('주의자', 6748), ('반항', 6749), ('쟁쟁', 6750), ('즈음', 6751), ('문소리', 6752), ('오컬트', 6753), ('테일러', 6754), ('세븐', 6755), ('깐', 6756), ('댄싱', 6757), ('공군', 6758), ('믹', 6759), ('땡기', 6760), ('박진희', 6761), ('종편', 6762), ('납', 6763), ('뿌려', 6764), ('파이트', 6765), ('노란', 6766), ('올려야', 6767), ('명분', 6768), ('윌리엄', 6769), ('84', 6770), ('쿼터', 6771), ('빽', 6772), ('변함없', 6773), ('워싱턴', 6774), ('자니', 6775), ('월화', 6776), ('비웃', 6777), ('돌아갈', 6778), ('오정세', 6779), ('경치', 6780), ('쉣', 6781), ('달래', 6782), ('퇴폐', 6783), ('보람', 6784), ('자연스레', 6785), ('휴지', 6786), ('위선', 6787), ('격투기', 6788), ('진가', 6789), ('아파트', 6790), ('판타스틱', 6791), ('싱크', 6792), ('쪄', 6793), ('탱크', 6794), ('파고드', 6795), ('이동진', 6796), ('바르', 6797), ('내주', 6798), ('받쳐', 6799), ('닉', 6800), ('여럿', 6801), ('갤', 6802), ('과분', 6803), ('돌프', 6804), ('고아라', 6805), ('ever', 6806), ('총싸움', 6807), ('이내', 6808), ('배틀', 6809), ('해내', 6810), ('아름다워서', 6811), ('하트', 6812), ('뿐이', 6813), ('어우러져', 6814), ('에잇', 6815), ('바이블', 6816), ('비비', 6817), ('00', 6818), ('권투', 6819), ('뛴다', 6820), ('음산', 6821), ('노아', 6822), ('교통사고', 6823), ('배트', 6824), ('소위', 6825), ('고른', 6826), ('써본다', 6827), ('이보영', 6828), ('말코비치', 6829), ('김대희', 6830), ('허허허', 6831), ('흔치', 6832), ('왤캐', 6833), ('오열', 6834), ('꺼버린', 6835), ('톰하디', 6836), ('버디', 6837), ('보입니다', 6838), ('뚜', 6839), ('당위', 6840), ('누굴', 6841), ('일리', 6842), ('강원도', 6843), ('산뜻', 6844), ('고추', 6845), ('내인생의', 6846), ('싱거운', 6847), ('꺼지', 6848), ('차갑', 6849), ('단면', 6850), ('믹스', 6851), ('면상', 6852), ('순정', 6853), ('강수연', 6854), ('월요일', 6855), ('류승완', 6856), ('남북', 6857), ('앤드류', 6858), ('사촌', 6859), ('페이스', 6860), ('다라', 6861), ('돌아간', 6862), ('장교', 6863), ('숨막히', 6864), ('카메오', 6865), ('괴로웠', 6866), ('마술', 6867), ('싸대', 6868), ('뷰', 6869), ('인대', 6870), ('낮춰야', 6871), ('비긴', 6872), ('처벌', 6873), ('배틀로얄', 6874), ('국회의원', 6875), ('드러운', 6876), ('나위', 6877), ('루크', 6878), ('싯', 6879), ('김윤진', 6880), ('싸웠', 6881), ('들어와', 6882), ('에여', 6883), ('오오', 6884), ('중독자', 6885), ('펑', 6886), ('감격', 6887), ('조안', 6888), ('건너', 6889), ('라운드', 6890), ('토미', 6891), ('바둑', 6892), ('박시후', 6893), ('사물', 6894), ('김지수', 6895), ('신다', 6896), ('아나운서', 6897), ('날라', 6898), ('감출', 6899), ('무덤', 6900), ('바라본', 6901), ('이이', 6902), ('댄서', 6903), ('취해', 6904), ('뭍', 6905), ('정식', 6906), ('놀라움', 6907), ('영호', 6908), ('바쁜', 6909), ('놔두', 6910), ('방송국', 6911), ('토비', 6912), ('을래', 6913), ('이해력', 6914), ('들여서', 6915), ('이요원', 6916), ('아니면', 6917), ('강용석', 6918), ('약함', 6919), ('대요', 6920), ('랭', 6921), ('비노쉬', 6922), ('개고생', 6923), ('탐정', 6924), ('나락', 6925), ('감회', 6926), ('대세', 6927), ('서영희', 6928), ('닌', 6929), ('전무후무', 6930), ('선한', 6931), ('자칭', 6932), ('갑시다', 6933), ('배신감', 6934), ('퍼시픽', 6935), ('전두환', 6936), ('화재', 6937), ('견딜', 6938), ('바디', 6939), ('패틴슨', 6940), ('사토시', 6941), ('탄압', 6942), ('버스터', 6943), ('트리', 6944), ('일치', 6945), ('스마트폰', 6946), ('좃', 6947), ('여학생', 6948), ('포레스트', 6949), ('서유기', 6950), ('총각', 6951), ('으실', 6952), ('바꼈', 6953), ('유전자', 6954), ('올라', 6955), ('미생', 6956), ('보태', 6957), ('챙피', 6958), ('운다', 6959), ('세세', 6960), ('박력', 6961), ('식구', 6962), ('드팔마', 6963), ('므', 6964), ('이모', 6965), ('그럴싸', 6966), ('고조', 6967), ('시켜야', 6968), ('진전', 6969), ('레즈비언', 6970), ('이곳', 6971), ('입술', 6972), ('생생히', 6973), ('역동', 6974), ('따라잡', 6975), ('개똥철학', 6976), ('쌔', 6977), ('그루', 6978), ('이루어진', 6979), ('수천', 6980), ('매료', 6981), ('더러움', 6982), ('크로우', 6983), ('판사', 6984), ('심판', 6985), ('고파', 6986), ('이경영', 6987), ('꼬꼬마', 6988), ('영리', 6989), ('문채원', 6990), ('소시', 6991), ('정무문', 6992), ('남길', 6993), ('낚일', 6994), ('what', 6995), ('참패', 6996), ('필립', 6997), ('대왕', 6998), ('지니', 6999), ('체인지', 7000), ('넘버', 7001), ('리플', 7002), ('막말', 7003), ('할리', 7004), ('묻히', 7005), ('금성무', 7006), ('노고', 7007), ('부처', 7008), ('요거', 7009), ('바랄', 7010), ('이태임', 7011), ('쪽팔리', 7012), ('뛰어다니', 7013), ('크기', 7014), ('무심코', 7015), ('옮겨', 7016), ('루카스', 7017), ('프리', 7018), ('잼따', 7019), ('정준영', 7020), ('무관', 7021), ('입맛', 7022), ('김지운', 7023), ('필모그래피', 7024), ('뽀뽀', 7025), ('만지', 7026), ('미련', 7027), ('불신', 7028), ('의의', 7029), ('보듬', 7030), ('썬', 7031), ('곽부성', 7032), ('주변인', 7033), ('흥겹', 7034), ('들어감', 7035), ('수도', 7036), ('탐험', 7037), ('부드러운', 7038), ('천상', 7039), ('개오', 7040), ('징징', 7041), ('악행', 7042), ('각외', 7043), ('오드리', 7044), ('따라올', 7045), ('연발', 7046), ('제국주의', 7047), ('승자', 7048), ('하녀', 7049), ('아이덴티티', 7050), ('차려', 7051), ('장예모', 7052), ('안다는', 7053), ('am', 7054), ('큰일', 7055), ('Best', 7056), ('한층', 7057), ('오가', 7058), ('괴롭', 7059), ('해당', 7060), ('거칠', 7061), ('방대', 7062), ('쇼크', 7063), ('꼬박꼬박', 7064), ('말론', 7065), ('sm', 7066), ('챔피언', 7067), ('가득찬', 7068), ('깨지', 7069), ('평온', 7070), ('수퍼', 7071), ('스티', 7072), ('러블리', 7073), ('한낱', 7074), ('손꼽', 7075), ('올인', 7076), ('연평해전', 7077), ('게리', 7078), ('돌려줘', 7079), ('합작', 7080), ('마더', 7081), ('파이터', 7082), ('김대중', 7083), ('공평', 7084), ('우스꽝', 7085), ('강의', 7086), ('오감', 7087), ('경고', 7088), ('제격', 7089), ('만드신', 7090), ('개재', 7091), ('가필드', 7092), ('발성', 7093), ('나비효과', 7094), ('달린다', 7095), ('될까요', 7096), ('탱', 7097), ('읎', 7098), ('top', 7099), ('기다림', 7100), ('ㅠㅠㅠㅠㅠㅠ', 7101), ('흘린', 7102), ('1970', 7103), ('타격', 7104), ('못난이', 7105), ('라네', 7106), ('쭈욱', 7107), ('유코', 7108), ('안중근', 7109), ('반가운', 7110), ('퓨전', 7111), ('덧', 7112), ('출동', 7113), ('방어', 7114), ('껍데기', 7115), ('역경', 7116), ('싸가지', 7117), ('쵸', 7118), ('거미', 7119), ('욜', 7120), ('생일', 7121), ('죵', 7122), ('뺨', 7123), ('쏟아지', 7124), ('뒷맛', 7125), ('정극', 7126), ('둔갑', 7127), ('두려워', 7128), ('찜', 7129), ('왔다갔다', 7130), ('할매', 7131), ('소금', 7132), ('담당', 7133), ('짱깨', 7134), ('넘침', 7135), ('해집니다', 7136), ('라이토', 7137), ('스펙터클', 7138), ('추모', 7139), ('p', 7140), ('달라진', 7141), ('들어맞', 7142), ('만든다고', 7143), ('무당', 7144), ('벗어난', 7145), ('펀치', 7146), ('찬다', 7147), ('연속극', 7148), ('줄게', 7149), ('줄리아로버츠', 7150), ('베테랑', 7151), ('한창', 7152), ('검술', 7153), ('흘러간다', 7154), ('아이언', 7155), ('최신', 7156), ('리브스', 7157), ('for', 7158), ('끌려', 7159), ('코끼리', 7160), ('느껴집니다', 7161), ('스승', 7162), ('효과음', 7163), ('솜', 7164), ('국민학교', 7165), ('나오코', 7166), ('낚시질', 7167), ('아씨', 7168), ('충돌', 7169), ('소림사', 7170), ('돠', 7171), ('꾸미', 7172), ('선교', 7173), ('무력', 7174), ('이겼', 7175), ('착오', 7176), ('최곤데', 7177), ('연예', 7178), ('널리', 7179), ('도리', 7180), ('브레이크', 7181), ('not', 7182), ('that', 7183), ('야마카시', 7184), ('내세운', 7185), ('식겁', 7186), ('다던', 7187), ('오버액션', 7188), ('키아누리브스', 7189), ('사바', 7190), ('클릭', 7191), ('출', 7192), ('미지', 7193), ('도발', 7194), ('먹방', 7195), ('긴데', 7196), ('들이', 7197), ('느껴진', 7198), ('볼래', 7199), ('비운', 7200), ('발하', 7201), ('다람쥐', 7202), ('티켓', 7203), ('세밀', 7204), ('기념비', 7205), ('약했', 7206), ('힝', 7207), ('현대판', 7208), ('어따', 7209), ('렸다', 7210), ('더락', 7211), ('경향', 7212), ('올드', 7213), ('당께', 7214), ('수녀', 7215), ('수년', 7216), ('알포인트', 7217), ('지켜야', 7218), ('해맑', 7219), ('티라노', 7220), ('좋아', 7221), ('Z', 7222), ('미미', 7223), ('나잇', 7224), ('어우러지', 7225), ('옮기', 7226), ('지나쳤', 7227), ('절실히', 7228), ('눈꼽', 7229), ('시궁창', 7230), ('충실하', 7231), ('안전', 7232), ('아닐까요', 7233), ('명탐정', 7234), ('블럭', 7235), ('워라', 7236), ('가두', 7237), ('라디오', 7238), ('전원', 7239), ('거꾸로', 7240), ('유동근', 7241), ('건드리', 7242), ('회자', 7243), ('팬텀', 7244), ('링컨', 7245), ('언젠간', 7246), ('초대', 7247), ('스티븐시걸', 7248), ('대회', 7249), ('코스트너', 7250), ('기세', 7251), ('호모', 7252), ('할로윈', 7253), ('벌리', 7254), ('숨기', 7255), ('을껄', 7256), ('울궈먹', 7257), ('트라우마', 7258), ('허점', 7259), ('주걸륜', 7260), ('코폴라', 7261), ('긴말', 7262), ('재희', 7263), ('요한슨', 7264), ('김동완', 7265), ('구속', 7266), ('기름', 7267), ('램', 7268), ('비춰', 7269), ('쨩', 7270), ('바꿔야', 7271), ('미니언', 7272), ('그은', 7273), ('삽입곡', 7274), ('크로넨버그', 7275), ('극우', 7276), ('니라', 7277), ('성냥팔이', 7278), ('재림', 7279), ('무서워하', 7280), ('데려가', 7281), ('홍련', 7282), ('리오', 7283), ('수긍', 7284), ('밑바닥', 7285), ('부러웠', 7286), ('수행', 7287), ('고마', 7288), ('동포', 7289), ('보여요', 7290), ('안소니', 7291), ('생긴다', 7292), ('원본', 7293), ('리더', 7294), ('샤론', 7295), ('회수', 7296), ('한들', 7297), ('결여', 7298), ('어리버리', 7299), ('진영', 7300), ('뤽', 7301), ('내심', 7302), ('v', 7303), ('요괴', 7304), ('불문', 7305), ('끊이', 7306), ('깬다', 7307), ('틸', 7308), ('배끼', 7309), ('느라고', 7310), ('귀여우', 7311), ('리언', 7312), ('띄우', 7313), ('순서', 7314), ('설계', 7315), ('애교', 7316), ('눈시울', 7317), ('느려', 7318), ('졸이', 7319), ('바이올린', 7320), ('황정음', 7321), ('정경호', 7322), ('자이언트', 7323), ('끝장', 7324), ('해바라기', 7325), ('폐해', 7326), ('정직', 7327), ('But', 7328), ('일진', 7329), ('덴젤워싱턴', 7330), ('툭', 7331), ('바쁘', 7332), ('서영', 7333), ('화성', 7334), ('요세', 7335), ('호연', 7336), ('아오이유우', 7337), ('소망', 7338), ('비스', 7339), ('에어', 7340), ('pd', 7341), ('역겨워', 7342), ('음란', 7343), ('노릇', 7344), ('BGM', 7345), ('시네', 7346), ('내지', 7347), ('비틀즈', 7348), ('태극기', 7349), ('벌이', 7350), ('자란', 7351), ('돌고래', 7352), ('32', 7353), ('네이션', 7354), ('렌', 7355), ('감추', 7356), ('날개', 7357), ('모던', 7358), ('코끝', 7359), ('are', 7360), ('노린', 7361), ('투명', 7362), ('911', 7363), ('걸림', 7364), ('귓가', 7365), ('오후', 7366), ('악령', 7367), ('써니', 7368), ('하루카', 7369), ('극히', 7370), ('질려', 7371), ('괘', 7372), ('끈끈', 7373), ('해병대', 7374), ('불친절', 7375), ('본래', 7376), ('이제훈', 7377), ('브란도', 7378), ('김고은', 7379), ('레인져', 7380), ('정수', 7381), ('헨리', 7382), ('한판', 7383), ('처지', 7384), ('몰르', 7385), ('방지', 7386), ('우마서먼', 7387), ('꺄', 7388), ('재즈', 7389), ('폐인', 7390), ('제타', 7391), ('파란만장', 7392), ('저걸', 7393), ('고리타분', 7394), ('간결', 7395), ('한대', 7396), ('애써', 7397), ('GOOD', 7398), ('지망', 7399), ('내부', 7400), ('영점', 7401), ('쫄딱', 7402), ('씽', 7403), ('신지', 7404), ('친근', 7405), ('여백', 7406), ('에밀리', 7407), ('프랭크', 7408), ('컬러', 7409), ('아닙니까', 7410), ('올리비아', 7411), ('래디', 7412), ('한류', 7413), ('매체', 7414), ('04', 7415), ('여성부', 7416), ('천지', 7417), ('운전', 7418), ('입양', 7419), ('뒷모습', 7420), ('애청자', 7421), ('심플', 7422), ('보낼', 7423), ('닳', 7424), ('시끄러워서', 7425), ('큽니다', 7426), ('고군분투', 7427), ('빈틈', 7428), ('매길', 7429), ('염정아', 7430), ('홍석천', 7431), ('모였', 7432), ('니모', 7433), ('당첨', 7434), ('흙', 7435), ('연개', 7436), ('태권브이', 7437), ('스트립', 7438), ('으로부터', 7439), ('메가', 7440), ('케이온', 7441), ('주리', 7442), ('유방', 7443), ('라디오스타', 7444), ('자신감', 7445), ('튀어나오', 7446), ('공략', 7447), ('권총', 7448), ('다이', 7449), ('바스코', 7450), ('안달', 7451), ('키이라', 7452), ('머금', 7453), ('은희', 7454), ('고은', 7455), ('팜', 7456), ('미아', 7457), ('뚱뚱', 7458), ('참가자', 7459), ('우물', 7460), ('빼앗', 7461), ('가발', 7462), ('제대', 7463), ('버킷', 7464), ('개그콘서트', 7465), ('살해', 7466), ('정은지', 7467), ('빔', 7468), ('재기', 7469), ('온전히', 7470), ('점차', 7471), ('친척', 7472), ('살아온', 7473), ('갈팡질팡', 7474), ('빙빙', 7475), ('사치', 7476), ('홍경인', 7477), ('아이템', 7478), ('느껴져', 7479), ('능청', 7480), ('공자', 7481), ('부러', 7482), ('문란', 7483), ('파트', 7484), ('유투', 7485), ('밤새', 7486), ('쨋', 7487), ('P', 7488), ('룸', 7489), ('시내', 7490), ('H', 7491), ('로드리게즈', 7492), ('넘사벽', 7493), ('체제', 7494), ('드릴게요', 7495), ('하느님', 7496), ('수능', 7497), ('성욕', 7498), ('미덕', 7499), ('균', 7500), ('넘버원', 7501), ('or', 7502), ('홍어', 7503), ('슈퍼스타', 7504), ('템포', 7505), ('귀여니', 7506), ('오픈', 7507), ('뉘', 7508), ('놓쳤', 7509), ('뺐', 7510), ('지지부진', 7511), ('컬', 7512), ('외설', 7513), ('물중', 7514), ('화가', 7515), ('쓸모없', 7516), ('맹목', 7517), ('훔치', 7518), ('시초', 7519), ('편협', 7520), ('유죄', 7521), ('찰리채플린', 7522), ('카페', 7523), ('떨어뜨린다', 7524), ('요청', 7525), ('휴대폰', 7526), ('말년', 7527), ('더구나', 7528), ('돌릴', 7529), ('임요환', 7530), ('모른다는', 7531), ('썩어빠진', 7532), ('교묘', 7533), ('신랄', 7534), ('별생각', 7535), ('쪙', 7536), ('꼬리', 7537), ('여긴', 7538), ('뒷이야기', 7539), ('번지르르', 7540), ('임금', 7541), ('멜로디', 7542), ('클로이', 7543), ('데이즈', 7544), ('발킬머', 7545), ('소중히', 7546), ('존트라볼타', 7547), ('나타낸', 7548), ('순식간', 7549), ('아까우', 7550), ('맬', 7551), ('흉내내', 7552), ('책임감', 7553), ('암것도', 7554), ('차려라', 7555), ('범벅', 7556), ('죽여도', 7557), ('존슨', 7558), ('댄다', 7559), ('소릴', 7560), ('멍하니', 7561), ('몰라요', 7562), ('프렌즈', 7563), ('몹시', 7564), ('우산', 7565), ('고평', 7566), ('스콜세지', 7567), ('썸머', 7568), ('평등', 7569), ('난장판', 7570), ('숨죽이', 7571), ('V', 7572), ('양념', 7573), ('바뀔', 7574), ('남여', 7575), ('겠어요', 7576), ('치우', 7577), ('일부분', 7578), ('패닝', 7579), ('애뜻', 7580), ('도망치', 7581), ('통속', 7582), ('bbbb', 7583), ('샤이니', 7584), ('오락물', 7585), ('눈길', 7586), ('최종', 7587), ('베꼈', 7588), ('불렀', 7589), ('레디', 7590), ('코미', 7591), ('48', 7592), ('blog', 7593), ('동성', 7594), ('경상도', 7595), ('승질', 7596), ('소지', 7597), ('on', 7598), ('일류', 7599), ('82', 7600), ('카펜터', 7601), ('모조리', 7602), ('갸', 7603), ('크리스찬베일', 7604), ('하울', 7605), ('밥맛', 7606), ('남겨진', 7607), ('최상', 7608), ('이명박', 7609), ('과자', 7610), ('히로', 7611), ('특공대', 7612), ('허영', 7613), ('느림', 7614), ('빙자', 7615), ('전우치', 7616), ('은밀', 7617), ('웰', 7618), ('얽히', 7619), ('이소연', 7620), ('이국', 7621), ('르노', 7622), ('따라간다', 7623), ('엘리베이터', 7624), ('이시영', 7625), ('장학우', 7626), ('투니', 7627), ('우마', 7628), ('토토', 7629), ('미친놈', 7630), ('절벽', 7631), ('장화', 7632), ('제이콥', 7633), ('삼각', 7634), ('놈놈놈', 7635), ('벗어날', 7636), ('희열', 7637), ('독보', 7638), ('사탄', 7639), ('클리프', 7640), ('다이빙', 7641), ('사뭇', 7642), ('스미스', 7643), ('얼간이', 7644), ('주구장창', 7645), ('증언', 7646), ('어스', 7647), ('무협물', 7648), ('이지나', 7649), ('판빙빙', 7650), ('마미', 7651), ('피어스', 7652), ('아담스', 7653), ('96', 7654), ('초저', 7655), ('컨대', 7656), ('이하늬', 7657), ('속터지', 7658), ('다네요', 7659), ('오염', 7660), ('최시원', 7661), ('중국어', 7662), ('모자르', 7663), ('백제', 7664), ('폭동', 7665), ('옆집', 7666), ('좋아한다', 7667), ('할려면', 7668), ('79', 7669), ('정녕', 7670), ('불타', 7671), ('놀라웠', 7672), ('짠해', 7673), ('갇힌', 7674), ('대장', 7675), ('습격', 7676), ('바란', 7677), ('대인', 7678), ('닮음', 7679), ('풍광', 7680), ('이불', 7681), ('150', 7682), ('십니까', 7683), ('주부', 7684), ('흐믓', 7685), ('더이다', 7686), ('깎아내리', 7687), ('생산', 7688), ('복장', 7689), ('망설이', 7690), ('가져', 7691), ('REC', 7692), ('턱', 7693), ('대륙', 7694), ('디지털', 7695), ('김병만', 7696), ('알아듣', 7697), ('87', 7698), ('하하하하', 7699), ('그랬음', 7700), ('굵', 7701), ('돌이켜', 7702), ('고치', 7703), ('펼쳐', 7704), ('정교', 7705), ('소송', 7706), ('핑크', 7707), ('때묻', 7708), ('회차', 7709), ('려구요', 7710), ('알콩달콩', 7711), ('훔쳐', 7712), ('유재석', 7713), ('마력', 7714), ('사납', 7715), ('독수리', 7716), ('올립니다', 7717), ('사기극', 7718), ('김정화', 7719), ('벌려', 7720), ('브레드', 7721), ('어려워', 7722), ('자다', 7723), ('그리도', 7724), ('대머리', 7725), ('시대극', 7726), ('저냥', 7727), ('육', 7728), ('한잔', 7729), ('떨어집니다', 7730), ('심보', 7731), ('만드셨', 7732), ('내기', 7733), ('종족', 7734), ('바람둥이', 7735), ('기생', 7736), ('찾아왔', 7737), ('조크', 7738), ('나탈리', 7739), ('던질', 7740), ('가져야', 7741), ('구해서', 7742), ('했으며', 7743), ('농장', 7744), ('카지노', 7745), ('표방', 7746), ('훗날', 7747), ('고창석', 7748), ('ㄲ', 7749), ('스텔론', 7750), ('욕했', 7751), ('한회', 7752), ('역겨울', 7753), ('메이드', 7754), ('박혀', 7755), ('나선', 7756), ('칼싸움', 7757), ('될수록', 7758), ('퍽', 7759), ('먹여', 7760), ('알아주', 7761), ('어렴풋이', 7762), ('바위', 7763), ('옵', 7764), ('반미', 7765), ('네버', 7766), ('남아도', 7767), ('레미제라블', 7768), ('겹치', 7769), ('비호', 7770), ('밀도', 7771), ('장식', 7772), ('근친', 7773), ('페넬로페', 7774), ('잣대', 7775), ('유사라', 7776), ('찰스', 7777), ('소란', 7778), ('숙제', 7779), ('쳐라', 7780), ('꼈', 7781), ('멕시코', 7782), ('남한', 7783), ('각종', 7784), ('과한', 7785), ('갱스터', 7786), ('보트', 7787), ('해리슨포드', 7788), ('다냐', 7789), ('발칙', 7790), ('결핍', 7791), ('심야', 7792), ('차례', 7793), ('터져서', 7794), ('붓', 7795), ('we', 7796), ('편승', 7797), ('로우', 7798), ('추운', 7799), ('기쁘', 7800), ('엑스파일', 7801), ('외전', 7802), ('핀처', 7803), ('임무', 7804), ('마다가스카', 7805), ('조이', 7806), ('톡톡', 7807), ('찰', 7808), ('응징', 7809), ('놀아나', 7810), ('서리', 7811), ('윤제문', 7812), ('툭하면', 7813), ('들어간다', 7814), ('민중', 7815), ('금물', 7816), ('햇살', 7817), ('모녀', 7818), ('조디포스터', 7819), ('뜻밖', 7820), ('센세이션', 7821), ('일으킨', 7822), ('개답', 7823), ('걸쳐', 7824), ('생동감', 7825), ('유괴', 7826), ('툭툭', 7827), ('지아', 7828), ('박장대소', 7829), ('대우', 7830), ('최루성', 7831), ('자시', 7832), ('어르신', 7833), ('지미', 7834), ('잔치', 7835), ('통틀', 7836), ('마이클베이', 7837), ('모텔', 7838), ('퀴즈', 7839), ('한채영', 7840), ('니콜라스케이지', 7841), ('나오미', 7842), ('복습', 7843), ('개신교', 7844), ('돌려서', 7845), ('포켓몬스터', 7846), ('Ost', 7847), ('뷁', 7848), ('잡다', 7849), ('죽도', 7850), ('000', 7851), ('다죠', 7852), ('강해서', 7853), ('비스트', 7854), ('약점', 7855), ('해용', 7856), ('볼륨', 7857), ('번개', 7858), ('사족', 7859), ('긁', 7860), ('엘리트', 7861), ('지현우', 7862), ('엘리자베스', 7863), ('배워야', 7864), ('뻣뻣', 7865), ('욧', 7866), ('어떤지', 7867), ('쏟아져', 7868), ('듬뿍', 7869), ('쩍', 7870), ('추기경', 7871), ('카이', 7872), ('타리', 7873), ('가면', 7874), ('료코', 7875), ('교체', 7876), ('김정훈', 7877), ('얍', 7878), ('가방', 7879), ('할께', 7880), ('끝맺', 7881), ('지하', 7882), ('라이즈', 7883), ('반데라스', 7884), ('심취', 7885), ('품달', 7886), ('뿌린', 7887), ('횡설수설', 7888), ('거린', 7889), ('성장통', 7890), ('구상', 7891), ('어이없이', 7892), ('스웨덴', 7893), ('면모', 7894), ('장르노', 7895), ('비로소', 7896), ('78', 7897), ('참다참다', 7898), ('장판', 7899), ('타고난', 7900), ('야호', 7901), ('공공', 7902), ('러셀크로우', 7903), ('화났', 7904), ('엑스', 7905), ('궁극', 7906), ('자부', 7907), ('결심', 7908), ('덤덤', 7909), ('서구', 7910), ('갈증', 7911), ('수박', 7912), ('더운', 7913), ('유학', 7914), ('결정판', 7915), ('눈깔', 7916), ('버무린', 7917), ('오달수', 7918), ('1995', 7919), ('때릴', 7920), ('검프', 7921), ('녹아들', 7922), ('해서인지', 7923), ('트루', 7924), ('1999', 7925), ('노트북', 7926), ('사고방식', 7927), ('김민정', 7928), ('런지', 7929), ('넘겼', 7930), ('빙의', 7931), ('달성', 7932), ('도시락', 7933), ('전직', 7934), ('슬랩스틱', 7935), ('생명력', 7936), ('bbb', 7937), ('www', 7938), ('사리', 7939), ('일색', 7940), ('볼께', 7941), ('조진웅', 7942), ('갔다왔', 7943), ('서요', 7944), ('첩혈쌍웅', 7945), ('시갈', 7946), ('벅차', 7947), ('점줄', 7948), ('통틀어', 7949), ('껴서', 7950), ('은혜', 7951), ('난도질', 7952), ('오즈', 7953), ('규모', 7954), ('의구심', 7955), ('팔레스타인', 7956), ('로지', 7957), ('뒀', 7958), ('ㅇㅋ', 7959), ('재이', 7960), ('슬립', 7961), ('상기', 7962), ('밋기', 7963), ('라푼젤', 7964), ('탄식', 7965), ('세뇌', 7966), ('아찔', 7967), ('광수', 7968), ('김유정', 7969), ('mc', 7970), ('은지원', 7971), ('김청기', 7972), ('저학년', 7973), ('비장', 7974), ('공백', 7975), ('우디알렌', 7976), ('어떨', 7977), ('조마조마', 7978), ('음성', 7979), ('간절히', 7980), ('돌아간다', 7981), ('내게는', 7982), ('건축', 7983), ('사운드트랙', 7984), ('안구', 7985), ('뒤돌아보', 7986), ('풉', 7987), ('잔다', 7988), ('왕정', 7989), ('모자랄', 7990), ('변했', 7991), ('감미', 7992), ('출품', 7993), ('음미', 7994), ('분단', 7995), ('발달', 7996), ('루피', 7997), ('이수정', 7998), ('김원효', 7999), ('기독교인', 8000), ('분야', 8001), ('방화', 8002), ('풀어놓', 8003), ('기관', 8004), ('차예련', 8005), ('능력자', 8006), ('베이비', 8007), ('유년', 8008), ('사태', 8009), ('윈', 8010), ('짬', 8011), ('아려', 8012), ('예체능', 8013), ('인제', 8014), ('브로스넌', 8015), ('예외', 8016), ('헤매', 8017), ('이빠이', 8018), ('귀여운데', 8019), ('68', 8020), ('작자', 8021), ('달렸', 8022), ('갈피', 8023), ('터널', 8024), ('쫓기', 8025), ('아멘', 8026), ('한단', 8027), ('줄까', 8028), ('졸림', 8029), ('류급', 8030), ('바가지', 8031), ('올리버', 8032), ('진중', 8033), ('됐었', 8034), ('꽥꽥', 8035), ('하비에르', 8036), ('홍콩식', 8037), ('내려놓', 8038), ('마당', 8039), ('생소', 8040), ('마비', 8041), ('박재정', 8042), ('강풀', 8043), ('아싸', 8044), ('스카이', 8045), ('건졌', 8046), ('희진', 8047), ('파고들', 8048), ('이스트', 8049), ('지겨워서', 8050), ('꺼져라', 8051), ('83', 8052), ('해봐라', 8053), ('코리아', 8054), ('포맷', 8055), ('러쉬', 8056), ('수수', 8057), ('OUT', 8058), ('기교', 8059), ('대체로', 8060), ('따질', 8061), ('모래', 8062), ('세나', 8063), ('멕', 8064), ('전적', 8065), ('담임', 8066), ('심은경', 8067), ('이뭐병', 8068), ('비서', 8069), ('질러대', 8070), ('검색어', 8071), ('우주선', 8072), ('주름', 8073), ('시원찮', 8074), ('발매', 8075), ('노민우', 8076), ('흡혈귀', 8077), ('턱없이', 8078), ('아름다울', 8079), ('재밌기만', 8080), ('다행히', 8081), ('삘', 8082), ('샵', 8083), ('시크릿', 8084), ('워커', 8085), ('케빈코스트너', 8086), ('순정만화', 8087), ('김지영', 8088), ('묻힌', 8089), ('서툰', 8090), ('드류', 8091), ('이래도', 8092), ('맞췄', 8093), ('글로리아', 8094), ('푸하하', 8095), ('서동요', 8096), ('어드벤처', 8097), ('표면', 8098), ('섭', 8099), ('앙상블', 8100), ('스턴트맨', 8101), ('치도', 8102), ('올릴', 8103), ('최선정', 8104), ('이룰', 8105), ('바람직', 8106), ('박철수', 8107), ('사이프리드', 8108), ('컴백', 8109), ('메마른', 8110), ('선장', 8111), ('옵니다', 8112), ('관능', 8113), ('였음을', 8114), ('곽경택', 8115), ('떨어트리', 8116), ('생물', 8117), ('절규', 8118), ('제주', 8119), ('레지던트', 8120), ('낭패', 8121), ('포로', 8122), ('어려', 8123), ('샤크', 8124), ('인공', 8125), ('박하선', 8126), ('출근', 8127), ('비틀', 8128), ('대서', 8129), ('말자', 8130), ('서늘', 8131), ('박상민', 8132), ('경주', 8133), ('넘길', 8134), ('요번', 8135), ('지만서도', 8136), ('안다고', 8137), ('제멋대로', 8138), ('문제작', 8139), ('쭉쭉', 8140), ('이색', 8141), ('뒤떨어지', 8142), ('연애시대', 8143), ('견뎌', 8144), ('어느덧', 8145), ('아껴', 8146), ('아픕니다', 8147), ('위상', 8148), ('고갈', 8149), ('김두한', 8150), ('이르', 8151), ('힙', 8152), ('늠', 8153), ('교', 8154), ('상위', 8155), ('취재', 8156), ('생방', 8157), ('정해', 8158), ('과감히', 8159), ('망설임', 8160), ('외노', 8161), ('항', 8162), ('걸친', 8163), ('아플', 8164), ('백진희', 8165), ('뺨치', 8166), ('정려원', 8167), ('갑툭튀', 8168), ('김인권', 8169), ('로울', 8170), ('코넬리', 8171), ('인천', 8172), ('도착', 8173), ('행오버', 8174), ('다분', 8175), ('갑작스런', 8176), ('정우', 8177), ('천포', 8178), ('디자이너', 8179), ('조미료', 8180), ('모세', 8181), ('갇혀', 8182), ('무민', 8183), ('올까', 8184), ('아이큐', 8185), ('업적', 8186), ('웁', 8187), ('고은아', 8188), ('영회', 8189), ('깨어나', 8190), ('이끄', 8191), ('카모', 8192), ('발광', 8193), ('골라서', 8194), ('영웅주의', 8195), ('김영철', 8196), ('히히', 8197), ('쉐프', 8198), ('윤진서', 8199), ('포즈', 8200), ('현주소', 8201), ('라마', 8202), ('오광록', 8203), ('주어진', 8204), ('망칠', 8205), ('페인', 8206), ('공무원', 8207), ('찌꺼기', 8208), ('시스', 8209), ('사세요', 8210), ('켄', 8211), ('이래야', 8212), ('아닐지', 8213), ('먼데', 8214), ('J', 8215), ('유기', 8216), ('시놉시스', 8217), ('관서', 8218), ('겸', 8219), ('기미', 8220), ('다치', 8221), ('우왕좌왕', 8222), ('You', 8223), ('못생김', 8224), ('개밥', 8225), ('립니', 8226), ('다른가', 8227), ('공영', 8228), ('초짜', 8229), ('보성', 8230), ('하하하하하', 8231), ('털리', 8232), ('km', 8233), ('쑤', 8234), ('시린', 8235), ('다이애나', 8236), ('메르스', 8237), ('머저리', 8238), ('손해', 8239), ('교도소', 8240), ('보도', 8241), ('위력', 8242), ('안나', 8243), ('ㅜㅡ', 8244), ('리스', 8245), ('빨리빨리', 8246), ('가슴속', 8247), ('조미', 8248), ('불법체류', 8249), ('내라', 8250), ('스러', 8251), ('김혜선', 8252), ('1996', 8253), ('푸하하하', 8254), ('아이스', 8255), ('다투', 8256), ('애니스톤', 8257), ('태어났', 8258), ('헤드', 8259), ('끌어가', 8260), ('사색', 8261), ('원주민', 8262), ('대강', 8263), ('감수성', 8264), ('상술', 8265), ('찰지', 8266), ('작품상', 8267), ('부진', 8268), ('마구잡이', 8269), ('거라', 8270), ('베트', 8271), ('브리짓', 8272), ('아부', 8273), ('정조', 8274), ('중복', 8275), ('단독', 8276), ('통화', 8277), ('웃길려고', 8278), ('연예계', 8279), ('다스', 8280), ('알콜', 8281), ('빌딩', 8282), ('편도', 8283), ('요런', 8284), ('미키루크', 8285), ('공산당', 8286), ('뿌듯', 8287), ('NO', 8288), ('어다', 8289), ('파커', 8290), ('파헤치', 8291), ('패트', 8292), ('트릭', 8293), ('용어', 8294), ('만든지', 8295), ('두사부일체', 8296), ('시인', 8297), ('허슬', 8298), ('나온다면', 8299), ('올렸', 8300), ('55', 8301), ('후딱', 8302), ('고도', 8303), ('소신', 8304), ('한지민', 8305), ('얹', 8306), ('버러지', 8307), ('들어서', 8308), ('김효진', 8309), ('가격', 8310), ('직시', 8311), ('돌아올', 8312), ('궈', 8313), ('거절', 8314), ('담겨져', 8315), ('산드라블록', 8316), ('감탄사', 8317), ('느그', 8318), ('전용', 8319), ('퇴화', 8320), ('돌아볼', 8321), ('정윤희', 8322), ('돌파', 8323), ('씁시다', 8324), ('떠드', 8325), ('개선', 8326), ('찌푸려', 8327), ('엄지원', 8328), ('드럼', 8329), ('폭행', 8330), ('전율', 8331), ('스토린', 8332), ('덩달', 8333), ('다라마', 8334), ('마감', 8335), ('레슬링', 8336), ('도쿄', 8337), ('본연', 8338), ('뇨', 8339), ('아선', 8340), ('강정', 8341), ('기립', 8342), ('스며드', 8343), ('꼇다', 8344), ('방가', 8345), ('징기스칸', 8346), ('그리울', 8347), ('이요', 8348), ('욘', 8349), ('슬레이터', 8350), ('맹탕', 8351), ('지점', 8352), ('랄프', 8353), ('나간다', 8354), ('주류', 8355), ('영향력', 8356), ('음울', 8357), ('정보석', 8358), ('겉도', 8359), ('우울해', 8360), ('배급', 8361), ('돌아와', 8362), ('매너', 8363), ('슬픕니다', 8364), ('관광', 8365), ('취업', 8366), ('빠이', 8367), ('말다', 8368), ('질색', 8369), ('어후', 8370), ('역설', 8371), ('꼽힐', 8372), ('흐미', 8373), ('토렌트', 8374), ('조타', 8375), ('치가', 8376), ('홀딱', 8377), ('은정', 8378), ('여균동', 8379), ('무분별', 8380), ('겸손', 8381), ('안겨준', 8382), ('홍길동', 8383), ('알렌', 8384), ('욕한', 8385), ('CSI', 8386), ('67', 8387), ('개무', 8388), ('막혀', 8389), ('히트맨', 8390), ('감자', 8391), ('잭블랙', 8392), ('태극', 8393), ('풀어낼', 8394), ('소림축구', 8395), ('찾아봐도', 8396), ('사라질', 8397), ('자화상', 8398), ('황진미', 8399), ('웨폰', 8400), ('몰두', 8401), ('r', 8402), ('얼렁뚱땅', 8403), ('군사', 8404), ('소동', 8405), ('웹', 8406), ('도신', 8407), ('욥', 8408), ('유료', 8409), ('양자경', 8410), ('횽', 8411), ('게이트', 8412), ('한꺼번에', 8413), ('킨', 8414), ('질러', 8415), ('고든', 8416), ('브이', 8417), ('궁굼', 8418), ('비율', 8419), ('벤쳐', 8420), ('매장', 8421), ('이현우', 8422), ('발끝', 8423), ('임성', 8424), ('주몽', 8425), ('과욕', 8426), ('메릴스트립', 8427), ('제기', 8428), ('지킬', 8429), ('토리', 8430), ('요정', 8431), ('천정명', 8432), ('에이미', 8433), ('불사신', 8434), ('토대', 8435), ('인간미', 8436), ('스러우', 8437), ('허영심', 8438), ('접속', 8439), ('슥', 8440), ('군국주의', 8441), ('엘리', 8442), ('와요', 8443), ('자동', 8444), ('자평', 8445), ('전병', 8446), ('저따위', 8447), ('히든', 8448), ('살아간다', 8449), ('여장', 8450), ('로라', 8451), ('나니아', 8452), ('남배우', 8453), ('씌', 8454), ('콱', 8455), ('알모도바르', 8456), ('더러워서', 8457), ('구토', 8458), ('냉철', 8459), ('도끼', 8460), ('주도', 8461), ('성실', 8462), ('애국', 8463), ('김사랑', 8464), ('망정', 8465), ('테니스', 8466), ('망각', 8467), ('목욕', 8468), ('수호', 8469), ('그만두', 8470), ('급작', 8471), ('장난아', 8472), ('전라', 8473), ('에로티시즘', 8474), ('쌓인', 8475), ('들어온다', 8476), ('들어와서', 8477), ('시답잖', 8478), ('경이롭', 8479), ('려던', 8480), ('죽여야', 8481), ('제압', 8482), ('도현', 8483), ('폄하', 8484), ('찌질이', 8485), ('3500', 8486), ('꺅', 8487), ('만족감', 8488), ('Very', 8489), ('위해선', 8490), ('애미', 8491), ('세기말', 8492), ('원수', 8493), ('봣으면', 8494), ('맞춤', 8495), ('때린다', 8496), ('오경', 8497), ('인크레더블', 8498), ('예상외', 8499), ('청각', 8500), ('구현', 8501), ('08', 8502), ('긴지', 8503), ('봐두', 8504), ('아야세', 8505), ('코치', 8506), ('으니라고', 8507), ('요샌', 8508), ('스쳐', 8509), ('흰', 8510), ('얽힌', 8511), ('서유리', 8512), ('판타', 8513), ('이주승', 8514), ('괸', 8515), ('로군', 8516), ('즐거워', 8517), ('대안', 8518), ('모모', 8519), ('맴돌', 8520), ('날아다니', 8521), ('초창기', 8522), ('이럴까', 8523), ('원판', 8524), ('돼야', 8525), ('우월', 8526), ('사지', 8527), ('득', 8528), ('아티스트', 8529), ('쯧쯧쯧', 8530), ('여섯', 8531), ('덕화', 8532), ('특촬물', 8533), ('노홍철', 8534), ('잰', 8535), ('라다', 8536), ('미셸', 8537), ('어지간히', 8538), ('에디', 8539), ('신작', 8540), ('한껏', 8541), ('줬었', 8542), ('소주', 8543), ('박시연', 8544), ('견', 8545), ('더러워지', 8546), ('피우', 8547), ('끈기', 8548), ('휘날리', 8549), ('회의', 8550), ('유오성', 8551), ('각오', 8552), ('비겁', 8553), ('애새끼', 8554), ('베이', 8555), ('매염방', 8556), ('로미오', 8557), ('니콜슨', 8558), ('이순재', 8559), ('괜한', 8560), ('남주의', 8561), ('화딱지', 8562), ('춤출', 8563), ('떠났', 8564), ('간혹', 8565), ('하난', 8566), ('마징가', 8567), ('나세', 8568), ('선라이즈', 8569), ('잡지', 8570), ('스트리트', 8571), ('조사', 8572), ('피라미드', 8573), ('시달리', 8574), ('추하', 8575), ('터무니없', 8576), ('공사', 8577), ('클루니', 8578), ('보복', 8579), ('한듯', 8580), ('힘겹', 8581), ('좀더', 8582), ('철철', 8583), ('time', 8584), ('바꿨', 8585), ('엽', 8586), ('반말', 8587), ('무서', 8588), ('도달', 8589), ('슈트', 8590), ('신자', 8591), ('올슨', 8592), ('캠코더', 8593), ('쬐금', 8594), ('비꼬', 8595), ('로워', 8596), ('던진', 8597), ('VOD', 8598), ('햄버거', 8599), ('구름', 8600), ('굴욕', 8601), ('홉킨스', 8602), ('빼먹', 8603), ('키는', 8604), ('오징어', 8605), ('열매', 8606), ('닐', 8607), ('십쇼', 8608), ('상속자', 8609), ('볼라', 8610), ('조셉', 8611), ('논할', 8612), ('깼', 8613), ('질림', 8614), ('애슐리', 8615), ('가스', 8616), ('호수', 8617), ('핫세', 8618), ('사무엘', 8619), ('베티', 8620), ('리딕', 8621), ('환생', 8622), ('무진장', 8623), ('추격자', 8624), ('망한다는', 8625), ('원장', 8626), ('퉷', 8627), ('반짝', 8628), ('시급', 8629), ('청법', 8630), ('모자람', 8631), ('각본가', 8632), ('불량', 8633), ('일지라도', 8634), ('시공간', 8635), ('다름없', 8636), ('트렁크', 8637), ('성준', 8638), ('줄여', 8639), ('미침', 8640), ('더글라스', 8641), ('컨텐츠', 8642), ('맥아담스', 8643), ('거니', 8644), ('생각납니다', 8645), ('메기', 8646), ('올림', 8647), ('31', 8648), ('입담', 8649), ('부들부들', 8650), ('레니', 8651), ('창고', 8652), ('늑대소년', 8653), ('앍', 8654), ('과소평가', 8655), ('리틀', 8656), ('성별', 8657), ('수목', 8658), ('들이대', 8659), ('깨우치', 8660), ('편파', 8661), ('바야', 8662), ('악녀', 8663), ('찌푸리', 8664), ('부유', 8665), ('동거', 8666), ('감춰진', 8667), ('체자', 8668), ('성과', 8669), ('의자', 8670), ('김재원', 8671), ('동떨어진', 8672), ('헤어진', 8673), ('격정', 8674), ('날씨', 8675), ('연말', 8676), ('라던지', 8677), ('막힐', 8678), ('참담', 8679), ('신음', 8680), ('은주', 8681), ('사투', 8682), ('블록', 8683), ('제트', 8684), ('This', 8685), ('줄줄', 8686), ('쿵후', 8687), ('메릴', 8688), ('마르', 8689), ('봐선', 8690), ('더블', 8691), ('참된', 8692), ('내포', 8693), ('헛점', 8694), ('향하', 8695), ('다가온', 8696), ('해답', 8697), ('낄낄', 8698), ('예기', 8699), ('활극', 8700), ('질린', 8701), ('남다른', 8702), ('어쨌', 8703), ('울트라', 8704), ('숫', 8705), ('젝', 8706), ('익살', 8707), ('감금', 8708), ('g', 8709), ('게요', 8710), ('저그', 8711), ('빨라서', 8712), ('때려잡', 8713), ('프리먼', 8714), ('웟음', 8715), ('꼭두각시', 8716), ('가져가', 8717), ('그럴싸한', 8718), ('비정', 8719), ('대적', 8720), ('살아오', 8721), ('왼쪽', 8722), ('유태인', 8723), ('만끽', 8724), ('불협화음', 8725), ('수니', 8726), ('만한', 8727), ('계몽', 8728), ('심혜진', 8729), ('본전', 8730), ('강자', 8731), ('정상인', 8732), ('해군', 8733), ('호호', 8734), ('지나갔', 8735), ('들어온', 8736), ('설교', 8737), ('허황', 8738), ('노이', 8739), ('잘라서', 8740), ('세자', 8741), ('탁재훈', 8742), ('괴짜', 8743), ('값진', 8744), ('현기증', 8745), ('밀리', 8746), ('베이더', 8747), ('뮬란', 8748), ('신사', 8749), ('순결', 8750), ('실물', 8751), ('근디', 8752), ('랜턴', 8753), ('넉', 8754), ('랙', 8755), ('앨런', 8756), ('찔끔', 8757), ('용의자', 8758), ('애국가', 8759), ('댕기', 8760), ('실질', 8761), ('최상급', 8762), ('아이폰', 8763), ('종료', 8764), ('주유소', 8765), ('탐구', 8766), ('중계', 8767), ('수치심', 8768), ('채웠', 8769), ('스피릿', 8770), ('어긋나', 8771), ('정겨운', 8772), ('이유리', 8773), ('으리라', 8774), ('현저히', 8775), ('이편', 8776), ('조쉬하트넷', 8777), ('군상', 8778), ('구닥다리', 8779), ('리들리스콧', 8780), ('아부지', 8781), ('숨바꼭질', 8782), ('81', 8783), ('미확인', 8784), ('고쳐', 8785), ('새로웠', 8786), ('때려치', 8787), ('냐구', 8788), ('민세연', 8789), ('제자리', 8790), ('바냐', 8791), ('트렌드', 8792), ('이종혁', 8793), ('김범', 8794), ('별것', 8795), ('동시대', 8796), ('당근', 8797), ('모차르트', 8798), ('남이', 8799), ('멕라이언', 8800), ('드려야', 8801), ('천안', 8802), ('상담', 8803), ('제주도', 8804), ('반대편', 8805), ('조상', 8806), ('바뀜', 8807), ('중단', 8808), ('저스틴', 8809), ('리차드', 8810), ('76', 8811), ('은희수', 8812), ('할거', 8813), ('수없이', 8814), ('왜냐하면', 8815), ('캠', 8816), ('사마', 8817), ('이수경', 8818), ('편의점', 8819), ('빈다', 8820), ('조디', 8821), ('넘나드', 8822), ('후퇴', 8823), ('얌', 8824), ('터트리', 8825), ('됩니까', 8826), ('단연코', 8827), ('캔', 8828), ('린즈링', 8829), ('이끈', 8830), ('덩', 8831), ('어눌', 8832), ('당기', 8833), ('미워할', 8834), ('박은혜', 8835), ('벅스', 8836), ('유효', 8837), ('줍시다', 8838), ('실현', 8839), ('장난질', 8840), ('왕가', 8841), ('전무', 8842), ('유감', 8843), ('투척', 8844), ('그리워지', 8845), ('딜레마', 8846), ('최다니엘', 8847), ('판도', 8848), ('태민', 8849), ('자의식', 8850), ('버틀러', 8851), ('포토', 8852), ('맥그리거', 8853), ('아우라', 8854), ('지어다', 8855), ('퉁', 8856), ('돌려주', 8857), ('오케이', 8858), ('프랑스인', 8859), ('시련', 8860), ('험', 8861), ('끗', 8862), ('이영애', 8863), ('앨범', 8864), ('셔도', 8865), ('후진국', 8866), ('나부랭이', 8867), ('뷰티', 8868), ('캐리비안', 8869), ('수잔', 8870), ('거북이', 8871), ('망한다', 8872), ('펀', 8873), ('더한', 8874), ('결정체', 8875), ('알린', 8876), ('만능', 8877), ('버프', 8878), ('에어컨', 8879), ('심도', 8880), ('의혹', 8881), ('전도', 8882), ('지효', 8883), ('힐러리', 8884), ('뺏기', 8885), ('무렵', 8886), ('홍성진', 8887), ('미디어', 8888), ('음침', 8889), ('넘어갈', 8890), ('아쉬워서', 8891), ('여하튼', 8892), ('채시라', 8893), ('논스톱', 8894), ('박지성', 8895), ('감도', 8896), ('다이아몬드', 8897), ('온주완', 8898), ('피로', 8899), ('폭스', 8900), ('예지원', 8901), ('딕', 8902), ('달라졌', 8903), ('겁내', 8904), ('잡힌', 8905), ('캐미', 8906), ('개방', 8907), ('반열', 8908), ('날까', 8909), ('해골', 8910), ('소라', 8911), ('하치', 8912), ('백야', 8913), ('백설', 8914), ('도자기', 8915), ('콜라', 8916), ('전역', 8917), ('무덤덤', 8918), ('적시', 8919), ('대조', 8920), ('피아니스트', 8921), ('암만', 8922), ('순박', 8923), ('느낍니다', 8924), ('소모', 8925), ('커다란', 8926), ('렛', 8927), ('뎌', 8928), ('끝없이', 8929), ('볼려면', 8930), ('순전히', 8931), ('끊임없', 8932), ('친숙', 8933), ('갓파더', 8934), ('떨림', 8935), ('마린', 8936), ('디질', 8937), ('볼지', 8938), ('메디컬', 8939), ('브라보', 8940), ('이청아', 8941), ('노노', 8942), ('기황후', 8943), ('엿같', 8944), ('재대로', 8945), ('찾아본', 8946), ('동반', 8947), ('스킬', 8948), ('욕정', 8949), ('첫째', 8950), ('확률', 8951), ('양쪽', 8952), ('송일국', 8953), ('짚', 8954), ('구지성', 8955), ('바지', 8956), ('열혈', 8957), ('남겨요', 8958), ('건네', 8959), ('교제', 8960), ('반장', 8961), ('땔', 8962), ('1500', 8963), ('잴', 8964), ('볼게요', 8965), ('좀비', 8966), ('투캅스', 8967), ('불사조', 8968), ('바르뎀', 8969), ('집시', 8970), ('찬성', 8971), ('이프로', 8972), ('머물', 8973), ('위장', 8974), ('신물', 8975), ('인주', 8976), ('승승장구', 8977), ('토시오', 8978), ('58', 8979), ('할땐', 8980), ('예쁜데', 8981), ('만드세요', 8982), ('신성', 8983), ('동작', 8984), ('ㅠㅠ진짜', 8985), ('올린다', 8986), ('겐', 8987), ('하희라', 8988), ('특급', 8989), ('이긴', 8990), ('이당', 8991), ('하류', 8992), ('지로', 8993), ('주성', 8994), ('나눈', 8995), ('배달', 8996), ('최우식', 8997), ('기네스', 8998), ('명목', 8999), ('바이', 9000), ('친한', 9001), ('횟수', 9002), ('드러워', 9003), ('천장지구', 9004), ('오마이갓', 9005), ('김신', 9006), ('추종', 9007), ('자네', 9008), ('낙원', 9009), ('엇갈리', 9010), ('어쩌다가', 9011), ('한지훈', 9012), ('퍼레이드', 9013), ('정규', 9014), ('아마존', 9015), ('오케스트라', 9016), ('충이', 9017), ('선조', 9018), ('셜', 9019), ('양익준', 9020), ('분발', 9021), ('잘생김', 9022), ('제약', 9023), ('다짜고짜', 9024), ('빨려', 9025), ('팝송', 9026), ('안다면', 9027), ('신난다', 9028), ('리처드', 9029), ('홍수', 9030), ('소식', 9031), ('도입', 9032), ('무사', 9033), ('귀환', 9034), ('이라크', 9035), ('찡해', 9036), ('미끼', 9037), ('xx', 9038), ('사후', 9039), ('비치', 9040), ('김동욱', 9041), ('김상경', 9042), ('뽕짝', 9043), ('66', 9044), ('걸려서', 9045), ('금고', 9046), ('세워', 9047), ('석양', 9048), ('사탕', 9049), ('경비', 9050), ('상대방', 9051), ('無', 9052), ('랍', 9053), ('민아', 9054), ('허공', 9055), ('주룩주룩', 9056), ('정기', 9057), ('셀', 9058), ('기질', 9059), ('술집', 9060), ('점프', 9061), ('축제', 9062), ('노랑머리', 9063), ('망가', 9064), ('엣', 9065), ('아앙', 9066), ('대성', 9067), ('띄워', 9068), ('되새기', 9069), ('무공', 9070), ('래쉬', 9071), ('연제욱', 9072), ('다코타패닝', 9073), ('눈썹', 9074), ('퇴', 9075), ('파란', 9076), ('신중', 9077), ('다잉', 9078), ('부당', 9079), ('저랬', 9080), ('드셨', 9081), ('댕', 9082), ('장이', 9083), ('함량', 9084), ('눈동자', 9085), ('리플리', 9086), ('며느리', 9087), ('마나', 9088), ('빚어낸', 9089), ('친일', 9090), ('난다고', 9091), ('번호', 9092), ('황당무계', 9093), ('김새론', 9094), ('one', 9095), ('맥빠지', 9096), ('모으', 9097), ('겠죠', 9098), ('나타났', 9099), ('평면', 9100), ('비해선', 9101), ('지나갈', 9102), ('굴곡', 9103), ('김일성', 9104), ('식사', 9105), ('고흐', 9106), ('따라오', 9107), ('화법', 9108), ('세라', 9109), ('신체', 9110), ('가려', 9111), ('오리엔탈리즘', 9112), ('피터팬', 9113), ('자나', 9114), ('행성', 9115), ('리턴즈', 9116), ('당혹', 9117), ('오스카', 9118), ('변함', 9119), ('고대로', 9120), ('세주', 9121), ('박한', 9122), ('세염', 9123), ('민비', 9124), ('카메론디아즈', 9125), ('코스모스', 9126), ('무상', 9127), ('온데', 9128), ('간데', 9129), ('입증', 9130), ('연출가', 9131), ('개취', 9132), ('힘찬', 9133), ('간다고', 9134), ('왈', 9135), ('놀리', 9136), ('학도', 9137), ('혼신', 9138), ('감방', 9139), ('대명사', 9140), ('발단', 9141), ('이사', 9142), ('쌓이', 9143), ('방치', 9144), ('질까', 9145), ('유부남', 9146), ('갑옷', 9147), ('돌이', 9148), ('탈북자', 9149), ('피눈물', 9150), ('냔', 9151), ('오마', 9152), ('터무니없이', 9153), ('그레', 9154), ('뼈저리', 9155), ('더냐', 9156), ('계약', 9157), ('잠재', 9158), ('베송', 9159), ('노년', 9160), ('끝났어야', 9161), ('인육', 9162), ('이루어질', 9163), ('기획사', 9164), ('핏줄', 9165), ('맞출', 9166), ('청소년기', 9167), ('개도', 9168), ('지방', 9169), ('토로', 9170), ('트리오', 9171), ('롤러코스터', 9172), ('임상수', 9173), ('행세', 9174), ('신성일', 9175), ('무법자', 9176), ('겁난다', 9177), ('부려', 9178), ('오전', 9179), ('크레이지', 9180), ('메가폰', 9181), ('크림슨', 9182), ('불평', 9183), ('동전', 9184), ('주의보', 9185), ('줄리안', 9186), ('청불', 9187), ('즐겼', 9188), ('레인', 9189), ('연정훈', 9190), ('독자', 9191), ('기르', 9192), ('하악', 9193), ('또래', 9194), ('팬더', 9195), ('쯔쯔', 9196), ('문성근', 9197), ('1992', 9198), ('동남아', 9199), ('키운', 9200), ('이어질', 9201), ('가출', 9202), ('보인', 9203), ('그간', 9204), ('준다면', 9205), ('닉쿤', 9206), ('토마토', 9207), ('못된', 9208), ('노래방', 9209), ('램버트', 9210), ('이벤트', 9211), ('후손', 9212), ('다이스', 9213), ('내전', 9214), ('아아아아', 9215), ('티아라', 9216), ('얄밉', 9217), ('환호', 9218), ('로빈윌리엄스', 9219), ('헝거', 9220), ('돌연변이', 9221), ('중경삼림', 9222), ('기뻤', 9223), ('박지윤', 9224), ('쾌락', 9225), ('쉰들러', 9226), ('조형기', 9227), ('치즈', 9228), ('코피', 9229), ('으뜸', 9230), ('오버랩', 9231), ('너머', 9232), ('색즉시공', 9233), ('헷', 9234), ('재산', 9235), ('이어졌', 9236), ('떳떳', 9237), ('흠흠', 9238), ('떠올라서', 9239), ('티격태격', 9240), ('힘없', 9241), ('기구', 9242), ('아랑', 9243), ('배용준', 9244), ('중립', 9245), ('쬐끔', 9246), ('마르소', 9247), ('겅', 9248), ('중사', 9249), ('게시판', 9250), ('신문', 9251), ('죄인', 9252), ('근친상간', 9253), ('무자비', 9254), ('맘마', 9255), ('후세', 9256), ('화남', 9257), ('미로', 9258), ('뿅', 9259), ('동서양', 9260), ('반공', 9261), ('매니저', 9262), ('려구', 9263), ('패자', 9264), ('서글픈', 9265), ('퇴색', 9266), ('명치', 9267), ('예민', 9268), ('유대인', 9269), ('관해', 9270), ('정정', 9271), ('얼간', 9272), ('나감', 9273), ('콜린파렐', 9274), ('퍼스', 9275), ('상류층', 9276), ('챔프', 9277), ('휴일', 9278), ('영화채널', 9279), ('증인', 9280), ('성취', 9281), ('차안', 9282), ('나와야지', 9283), ('달기', 9284), ('돌려도', 9285), ('에이즈', 9286), ('싸워', 9287), ('못한다면', 9288), ('지겨웠', 9289), ('민감', 9290), ('맘껏', 9291), ('합쳐서', 9292), ('망해라', 9293), ('그레이', 9294), ('풍선', 9295), ('엄지', 9296), ('움직인다', 9297), ('미술관', 9298), ('복고', 9299), ('엄연히', 9300), ('지식인', 9301), ('손자', 9302), ('별명', 9303), ('애국자', 9304), ('멋진데', 9305), ('온라인', 9306), ('제니', 9307), ('아낌없', 9308), ('아자니', 9309), ('전쟁터', 9310), ('제프', 9311), ('사만다', 9312), ('근처', 9313), ('통할', 9314), ('그릴', 9315), ('KTX', 9316), ('컴플렉스', 9317), ('불태우', 9318), ('똥파리', 9319), ('화난', 9320), ('유전', 9321), ('좋아함', 9322), ('신경질', 9323), ('읭', 9324), ('샘레이미', 9325), ('해명', 9326), ('구사', 9327), ('잠기', 9328), ('의료', 9329), ('cctv', 9330), ('life', 9331), ('故', 9332), ('이영활', 9333), ('외우', 9334), ('과유불급', 9335), ('배신자', 9336), ('do', 9337), ('명확히', 9338), ('희생양', 9339), ('따먹', 9340), ('물어내', 9341), ('레슬리', 9342), ('개입', 9343), ('死', 9344), ('자무시', 9345), ('몰상식', 9346), ('빨랑', 9347), ('까말까', 9348), ('great', 9349), ('아슬아슬', 9350), ('한테서', 9351), ('사형수', 9352), ('스마트', 9353), ('벤에플렉', 9354), ('주옥', 9355), ('와일드', 9356), ('밨는데', 9357), ('강함', 9358), ('박준형', 9359), ('그럴듯', 9360), ('나뉘', 9361), ('급박', 9362), ('도그', 9363), ('급조', 9364), ('하락세', 9365), ('대원', 9366), ('주다', 9367), ('시시껄렁', 9368), ('다움', 9369), ('워낭', 9370), ('스타크래프트', 9371), ('이준익', 9372), ('정준하', 9373), ('설렜', 9374), ('예스', 9375), ('멘토', 9376), ('이장우', 9377), ('모리꼬네', 9378), ('문장', 9379), ('로얄', 9380), ('계절', 9381), ('짜깁', 9382), ('소이다', 9383), ('구두', 9384), ('노르웨이', 9385), ('동해', 9386), ('현혹', 9387), ('센터', 9388), ('티브이', 9389), ('가량', 9390), ('아비', 9391), ('여잔데', 9392), ('넴', 9393), ('팔마', 9394), ('할라', 9395), ('숨소리', 9396), ('스탠리', 9397), ('그따위', 9398), ('원생', 9399), ('떠나보내', 9400), ('요보비치', 9401), ('트루먼', 9402), ('드라큘라', 9403), ('변할', 9404), ('베스트셀러', 9405), ('시끄러워', 9406), ('스턴트', 9407), ('커트', 9408), ('주군', 9409), ('실태', 9410), ('bad', 9411), ('어설펐', 9412), ('련지', 9413), ('사생활', 9414), ('관통', 9415), ('바라지', 9416), ('나문희', 9417), ('왕창', 9418), ('알아들', 9419), ('with', 9420), ('블리', 9421), ('본느', 9422), ('터리', 9423), ('떵', 9424), ('오른다', 9425), ('을려나', 9426), ('로또', 9427), ('처녀', 9428), ('휴우', 9429), ('우연찮', 9430), ('BEST', 9431), ('솔까말', 9432), ('물든', 9433), ('몰아가', 9434), ('예언', 9435), ('한눈', 9436), ('으려면', 9437), ('이즈', 9438), ('노동', 9439), ('줄라고', 9440), ('틀렸', 9441), ('처분', 9442), ('어긋난', 9443), ('위태', 9444), ('일침', 9445), ('소이현', 9446), ('겉돌', 9447), ('짤린', 9448), ('메이퀸', 9449), ('주입', 9450), ('철수', 9451), ('랏다', 9452), ('사살', 9453), ('택', 9454), ('나사', 9455), ('박차', 9456), ('선언', 9457), ('해져요', 9458), ('투영', 9459), ('관상', 9460), ('하드코어', 9461), ('규칙', 9462), ('잊혀질', 9463), ('들어야', 9464), ('빛난다', 9465), ('마음껏', 9466), ('밥상', 9467), ('조율', 9468), ('라기에', 9469), ('가인', 9470), ('저하', 9471), ('수염', 9472), ('So', 9473), ('끝냈으면', 9474), ('홀리', 9475), ('삭막', 9476), ('례', 9477), ('배출', 9478), ('다중', 9479), ('그해', 9480), ('에유', 9481), ('인용', 9482), ('껌', 9483), ('룬드그렌', 9484), ('나쁨', 9485), ('남궁민', 9486), ('게라도', 9487), ('레이놀즈', 9488), ('동굴', 9489), ('드레스', 9490), ('식민지', 9491), ('오지랖', 9492), ('지수', 9493), ('수출', 9494), ('그려지', 9495), ('그물', 9496), ('광신도', 9497), ('꾸며', 9498), ('몰랐었', 9499), ('안보', 9500), ('인게', 9501), ('무스', 9502), ('수식', 9503), ('선하', 9504), ('으랴', 9505), ('색채감', 9506), ('갈구', 9507), ('까대', 9508), ('풍성', 9509), ('횡포', 9510), ('무거울', 9511), ('콘택트', 9512), ('젠', 9513), ('왕년', 9514), ('이창동', 9515), ('시미', 9516), ('막힌다', 9517), ('임다', 9518), ('정준', 9519), ('이치', 9520), ('랜드', 9521), ('분열증', 9522), ('가네', 9523), ('매즈', 9524), ('마리오', 9525), ('박선영', 9526), ('비범', 9527), ('로리타', 9528), ('아니야', 9529), ('소고기', 9530), ('헤어짐', 9531), ('ok', 9532), ('희미', 9533), ('태풍', 9534), ('들마', 9535), ('버틸', 9536), ('테드', 9537), ('갯', 9538), ('혁', 9539), ('경직', 9540), ('imdb', 9541), ('고귀', 9542), ('퇴물', 9543), ('부조', 9544), ('사라짐', 9545), ('끌려서', 9546), ('곤충', 9547), ('낙태', 9548), ('아이콘', 9549), ('론가', 9550), ('냉장고', 9551), ('숙면', 9552), ('가져다준', 9553), ('춥', 9554), ('거렸', 9555), ('비견', 9556), ('이광수', 9557), ('눌', 9558), ('불릴', 9559), ('개차반', 9560), ('휴잇', 9561), ('쉰', 9562), ('앤더슨', 9563), ('허접쓰레기', 9564), ('이뤄', 9565), ('더군다나', 9566), ('맥클레인', 9567), ('젓', 9568), ('벼', 9569), ('남잔데', 9570), ('사실감', 9571), ('거침없', 9572), ('버렷', 9573), ('고사', 9574), ('성당', 9575), ('바티칸', 9576), ('혼돈', 9577), ('문제지', 9578), ('에단호크', 9579), ('봐온', 9580), ('진지희', 9581), ('가정부', 9582), ('이태리', 9583), ('미치광이', 9584), ('거저', 9585), ('갔다온', 9586), ('심리전', 9587), ('발표', 9588), ('상호', 9589), ('다아', 9590), ('츠마부키', 9591), ('부질없', 9592), ('매진', 9593), ('안면', 9594), ('존엄', 9595), ('흥하', 9596), ('였을까', 9597), ('래서', 9598), ('혁신', 9599), ('할껄', 9600), ('트럭', 9601), ('나눠서', 9602), ('치장', 9603), ('늑대인간', 9604), ('이덕화', 9605), ('다웠', 9606), ('주르륵', 9607), ('강해', 9608), ('사단', 9609), ('피터잭슨', 9610), ('악의', 9611), ('막혀서', 9612), ('공드리', 9613), ('서편제', 9614), ('91', 9615), ('로랑', 9616), ('콜린스', 9617), ('know', 9618), ('취소', 9619), ('편한', 9620), ('디게', 9621), ('따라다니', 9622), ('피자', 9623), ('톡', 9624), ('애자', 9625), ('을라고', 9626), ('약해서', 9627), ('56', 9628), ('스타쉽', 9629), ('바람난', 9630), ('처한', 9631), ('렵니다', 9632), ('신디', 9633), ('들으면서', 9634), ('점령', 9635), ('연작', 9636), ('경음', 9637), ('이세상', 9638), ('보드', 9639), ('박철민', 9640), ('자장가', 9641), ('공권력', 9642), ('였으며', 9643), ('시저', 9644), ('미사', 9645), ('올드만', 9646), ('속물', 9647), ('웨스', 9648), ('통통', 9649), ('똘똘', 9650), ('꿀리', 9651), ('팽', 9652), ('멈춰', 9653), ('은대', 9654), ('갑작스럽', 9655), ('ㅑ', 9656), ('이해도', 9657), ('world', 9658), ('신났', 9659), ('57', 9660), ('까이', 9661), ('물리치', 9662), ('초특급', 9663), ('조로리', 9664), ('외침', 9665), ('정해진', 9666), ('열중', 9667), ('적용', 9668), ('좌충우돌', 9669), ('였어요', 9670), ('어짜피', 9671), ('훤히', 9672), ('데미', 9673), ('당한다', 9674), ('이자', 9675), ('흡입', 9676), ('기다릴', 9677), ('다인', 9678), ('돈벌이', 9679), ('웟다', 9680), ('트립', 9681), ('쿄코', 9682), ('소울', 9683), ('글씨', 9684), ('데로', 9685), ('정체불명', 9686), ('미어지', 9687), ('용인', 9688), ('만일', 9689), ('어선', 9690), ('지체', 9691), ('하두', 9692), ('커리어', 9693), ('지긋지긋', 9694), ('TOP', 9695), ('IMDB', 9696), ('플래툰', 9697), ('발버둥', 9698), ('흐릿', 9699), ('냄새나', 9700), ('넘어갔', 9701), ('가학', 9702), ('바래요', 9703), ('냉전', 9704), ('속상하', 9705), ('첫날', 9706), ('퇴마', 9707), ('어장', 9708), ('망친다', 9709), ('주세요', 9710), ('여요', 9711), ('적도', 9712), ('체가', 9713), ('정색', 9714), ('첨단', 9715), ('막연', 9716), ('41', 9717), ('여타', 9718), ('흐흐', 9719), ('마츠코', 9720), ('짜린', 9721), ('부감', 9722), ('끓여', 9723), ('끔직', 9724), ('는데도', 9725), ('프레임', 9726), ('창의력', 9727), ('설원', 9728), ('칭하', 9729), ('가려진', 9730), ('꿀꿀', 9731), ('국정원', 9732), ('스틸러', 9733), ('180', 9734), ('콩콩', 9735), ('내고', 9736), ('소나기', 9737), ('드러낸', 9738), ('cm', 9739), ('곽', 9740), ('이래저래', 9741), ('인질극', 9742), ('평행', 9743), ('줄라', 9744), ('라구요', 9745), ('아파하', 9746), ('헌데', 9747), ('단절', 9748), ('실버', 9749), ('런던', 9750), ('설레였', 9751), ('된다니', 9752), ('차량', 9753), ('미혼모', 9754), ('가벼움', 9755), ('니들', 9756), ('에코', 9757), ('비긴즈', 9758), ('휴식', 9759), ('야망', 9760), ('육성', 9761), ('모임', 9762), ('가혹', 9763), ('실베스타', 9764), ('마우스', 9765), ('리치', 9766), ('일수록', 9767), ('오호', 9768), ('이다해', 9769), ('구타', 9770), ('블레어', 9771), ('110', 9772), ('미라', 9773), ('미쳐서', 9774), ('덥', 9775), ('좋아해', 9776), ('메카', 9777), ('베이커', 9778), ('부제', 9779), ('할린', 9780), ('누적', 9781), ('준영', 9782), ('조음', 9783), ('86', 9784), ('모이', 9785), ('복수초', 9786), ('물음표', 9787), ('판정', 9788), ('out', 9789), ('따라갈', 9790), ('뻥튀기', 9791), ('이영환', 9792), ('골고루', 9793), ('피닉스', 9794), ('패배', 9795), ('첨가', 9796), ('정겹', 9797), ('쭈쭈', 9798), ('드러난다', 9799), ('블로그', 9800), ('냉무', 9801), ('내년', 9802), ('합친', 9803), ('적벽', 9804), ('여잔', 9805), ('수퍼맨', 9806), ('위인', 9807), ('까놓', 9808), ('다뤘', 9809), ('줄리', 9810), ('숨쉬', 9811), ('해체', 9812), ('밀어주', 9813), ('늘어나', 9814), ('축축', 9815), ('근원', 9816), ('각시탈', 9817), ('징그러운', 9818), ('장가휘', 9819), ('실로', 9820), ('see', 9821), ('서론', 9822), ('속아', 9823), ('자폭', 9824), ('풍운', 9825), ('올림픽', 9826), ('무인', 9827), ('춘향', 9828), ('리버', 9829), ('가이리치', 9830), ('으으으', 9831), ('반한', 9832), ('육아', 9833), ('패션왕', 9834), ('정자', 9835), ('고준희', 9836), ('라이온', 9837), ('딴따라', 9838), ('간디', 9839), ('카레', 9840), ('체리', 9841), ('릉', 9842), ('다룰', 9843), ('퇴마록', 9844), ('트랩', 9845), ('악질', 9846), ('박예진', 9847), ('갈아타', 9848), ('위엄', 9849), ('FBI', 9850), ('끼친', 9851), ('욜라', 9852), ('강연', 9853), ('독고', 9854), ('라던데', 9855), ('39', 9856), ('만발', 9857), ('행중', 9858), ('이재은', 9859), ('엔드', 9860), ('차용', 9861), ('상우', 9862), ('계층', 9863), ('품격', 9864), ('기다려집니다', 9865), ('이화영', 9866), ('자자', 9867), ('물량', 9868), ('찍히', 9869), ('이데올로기', 9870), ('요리사', 9871), ('피티', 9872), ('얼핏', 9873), ('으련만', 9874), ('LA', 9875), ('댁', 9876), ('비할', 9877), ('신드롬', 9878), ('사유', 9879), ('억양', 9880), ('만찬', 9881), ('진호', 9882), ('활짝', 9883), ('해낼', 9884), ('한물', 9885), ('프로필', 9886), ('트로트', 9887), ('전미', 9888), ('추노', 9889), ('퀄', 9890), ('부다페스트', 9891), ('What', 9892), ('was', 9893), ('십수', 9894), ('찰나', 9895), ('니노', 9896), ('이중인격', 9897), ('공통점', 9898), ('선거', 9899), ('겹', 9900), ('어그', 9901), ('이해관계', 9902), ('스치', 9903), ('겸비', 9904), ('막혔', 9905), ('왜색', 9906), ('맞짱', 9907), ('치졸', 9908), ('모욕감', 9909), ('꼴통', 9910), ('훠', 9911), ('권유', 9912), ('일정', 9913), ('신도', 9914), ('호들갑', 9915), ('부러울', 9916), ('거룩', 9917), ('물타기', 9918), ('발사', 9919), ('줄기', 9920), ('더듬', 9921), ('채울', 9922), ('ㅆㄹㄱ', 9923), ('앱', 9924), ('레이버', 9925), ('히가시노', 9926), ('카톨릭', 9927), ('스태프', 9928), ('풀려', 9929), ('절하', 9930), ('로로', 9931), ('강철중', 9932), ('편의', 9933), ('마는', 9934), ('월트', 9935), ('프리즌', 9936), ('아이스크림', 9937), ('설국', 9938), ('쩡', 9939), ('단조로운', 9940), ('시종', 9941), ('아나킨', 9942), ('떠오를', 9943), ('빗대', 9944), ('조그만', 9945), ('못한다는', 9946), ('49', 9947), ('제임스완', 9948), ('관용', 9949), ('믄서', 9950), ('들였', 9951), ('피폐', 9952), ('유니크', 9953), ('옥택연', 9954), ('어머님', 9955), ('요인', 9956), ('측은', 9957), ('으라는', 9958), ('유연석', 9959), ('맥과이어', 9960), ('딱지', 9961), ('전략', 9962), ('깨닳', 9963), ('자각', 9964), ('소유자', 9965), ('건너뛰', 9966), ('한혜진', 9967), ('본판', 9968), ('실비아', 9969), ('정준용', 9970), ('그쪽', 9971), ('약물', 9972), ('핸드', 9973), ('드린다', 9974), ('로드리게스', 9975), ('않되', 9976), ('썪', 9977), ('할인', 9978), ('닐슨', 9979), ('강대국', 9980), ('일수', 9981), ('더라는', 9982), ('빼어난', 9983), ('열쇠', 9984), ('끝낸', 9985), ('화합', 9986), ('깊숙히', 9987), ('탈세', 9988), ('망설였', 9989), ('용도', 9990), ('고마웠', 9991), ('마의', 9992), ('산책', 9993), ('속빈', 9994), ('그램', 9995), ('총집합', 9996), ('형용', 9997), ('할머님', 9998), ('출산', 9999)])"
            ]
          },
          "metadata": {
            "tags": []
          },
          "execution_count": 14
        }
      ]
    },
    {
      "cell_type": "code",
      "metadata": {
        "colab": {
          "base_uri": "https://localhost:8080/"
        },
        "id": "yBrUcgRi6NOO",
        "outputId": "3f2b06c5-d22c-47ad-ff82-c1ac1a268321"
      },
      "source": [
        "index_to_word.items()"
      ],
      "execution_count": 15,
      "outputs": [
        {
          "output_type": "execute_result",
          "data": {
            "text/plain": [
              "dict_items([(3, ''), (4, '영화'), (5, '다'), (6, '고'), (7, '하'), (8, '을'), (9, '보'), (10, '게'), (11, '지'), (12, '있'), (13, '없'), (14, '좋'), (15, '나'), (16, '었'), (17, '만'), (18, '는데'), (19, '너무'), (20, '봤'), (21, '적'), (22, '안'), (23, '정말'), (24, '로'), (25, '음'), (26, '것'), (27, '아'), (28, '네요'), (29, '재밌'), (30, '어'), (31, '지만'), (32, '같'), (33, '점'), (34, '진짜'), (35, '에서'), (36, '했'), (37, '기'), (38, '네'), (39, '않'), (40, '거'), (41, '았'), (42, '수'), (43, '되'), (44, '면'), (45, 'ㅋㅋ'), (46, '인'), (47, '말'), (48, '연기'), (49, '주'), (50, '내'), (51, '최고'), (52, '평점'), (53, '이런'), (54, '던'), (55, '어요'), (56, '할'), (57, '왜'), (58, '겠'), (59, '1'), (60, '스토리'), (61, '해'), (62, '습니다'), (63, 'ㅋㅋㅋ'), (64, '듯'), (65, '아니'), (66, '드라마'), (67, '생각'), (68, '더'), (69, '그'), (70, '싶'), (71, '사람'), (72, '때'), (73, '감동'), (74, '배우'), (75, '함'), (76, '본'), (77, '까지'), (78, '뭐'), (79, '알'), (80, '만들'), (81, '내용'), (82, '볼'), (83, '보다'), (84, '라'), (85, '감독'), (86, '재미'), (87, '그냥'), (88, '시간'), (89, '중'), (90, '지루'), (91, '재미있'), (92, '년'), (93, '10'), (94, '였'), (95, '잼'), (96, '사랑'), (97, '못'), (98, '냐'), (99, '재미없'), (100, '쓰레기'), (101, '서'), (102, '라고'), (103, '2'), (104, '니'), (105, '면서'), (106, '번'), (107, '다시'), (108, '나오'), (109, '작품'), (110, '하나'), (111, '야'), (112, '이거'), (113, '줄'), (114, '해서'), (115, '개'), (116, '남'), (117, '정도'), (118, '마지막'), (119, '끝'), (120, '이건'), (121, '액션'), (122, '임'), (123, 'ㅋ'), (124, '기대'), (125, '3'), (126, '건'), (127, '라는'), (128, '입니다'), (129, '분'), (130, '다는'), (131, '완전'), (132, '참'), (133, '많'), (134, '처음'), (135, '장면'), (136, '대'), (137, '아깝'), (138, '다가'), (139, '으면'), (140, '지금'), (141, '모르'), (142, '이렇게'), (143, '편'), (144, '일'), (145, '돈'), (146, '이게'), (147, '성'), (148, '느낌'), (149, '이야기'), (150, '최악'), (151, '시'), (152, '된'), (153, '봐도'), (154, '님'), (155, '어서'), (156, '애'), (157, '전'), (158, '넘'), (159, '인데'), (160, 'ㅠㅠ'), (161, '다고'), (162, '이해'), (163, '걸'), (164, '별로'), (165, '그리고'), (166, '난'), (167, '명작'), (168, '여자'), (169, '역시'), (170, '이상'), (171, '또'), (172, '한국'), (173, '는지'), (174, '많이'), (175, '에게'), (176, '부터'), (177, '주인공'), (178, '받'), (179, '합니다'), (180, '두'), (181, '살'), (182, '우리'), (183, '요'), (184, '만든'), (185, '길'), (186, '엔'), (187, '괜찮'), (188, '기억'), (189, '한다'), (190, '연출'), (191, '때문'), (192, '이나'), (193, 'ㅎㅎ'), (194, '저'), (195, '재'), (196, '꼭'), (197, '며'), (198, '랑'), (199, '현실'), (200, '긴'), (201, 'ㅡㅡ'), (202, '무슨'), (203, '내내'), (204, '죽'), (205, '결말'), (206, '남자'), (207, '전개'), (208, '마음'), (209, '세요'), (210, '소재'), (211, '데'), (212, '속'), (213, '공포'), (214, '아서'), (215, '다른'), (216, '씨'), (217, '인생'), (218, '짜증'), (219, '짱'), (220, '뿐'), (221, '별'), (222, '아요'), (223, '은데'), (224, '유치'), (225, '가장'), (226, '필요'), (227, '오'), (228, '음악'), (229, '아이'), (230, '일본'), (231, '낮'), (232, '반전'), (233, '수준'), (234, '다니'), (235, '웃'), (236, '매력'), (237, '인지'), (238, '맞'), (239, '가슴'), (240, '없이'), (241, '원작'), (242, 'ㄷ'), (243, '인간'), (244, '높'), (245, 'ㅠ'), (246, '밋'), (247, '굿'), (248, '만드'), (249, '급'), (250, '눈물'), (251, '준'), (252, '보여'), (253, '찍'), (254, '인가'), (255, '노'), (256, '코미디'), (257, '신'), (258, '용'), (259, '마'), (260, '여'), (261, '화'), (262, '쓰'), (263, '모든'), (264, '추천'), (265, '5'), (266, '아직'), (267, '처럼'), (268, '아닌'), (269, '눈'), (270, '울'), (271, '자체'), (272, '몰입'), (273, '4'), (274, '란'), (275, '몇'), (276, '대박'), (277, '스럽'), (278, '을까'), (279, '실망'), (280, '는다'), (281, '대한'), (282, '그런'), (283, '죠'), (284, '솔직히'), (285, '캐릭터'), (286, 'ㅎ'), (287, '모두'), (288, '아주'), (289, '가족'), (290, '건지'), (291, '여운'), (292, '전혀'), (293, '연기력'), (294, '후'), (295, '다면'), (296, '될'), (297, '뭔가'), (298, '그래도'), (299, '시리즈'), (300, '나라'), (301, '근데'), (302, '표현'), (303, '작'), (304, '모습'), (305, '공감'), (306, '계속'), (307, '먹'), (308, '비'), (309, '제목'), (310, '7'), (311, '이랑'), (312, '극장'), (313, '치'), (314, '이걸'), (315, '바'), (316, '진'), (317, '대사'), (318, '그렇'), (319, '_'), (320, '부분'), (321, '개봉'), (322, 'OO'), (323, '대단'), (324, '0'), (325, '어디'), (326, '된다'), (327, '작가'), (328, '기분'), (329, '아쉽'), (330, '제'), (331, '진심'), (332, '구'), (333, '타임'), (334, '보이'), (335, '놓'), (336, '봐야'), (337, '해도'), (338, '웃기'), (339, '물'), (340, '막장'), (341, '삶'), (342, '친구'), (343, '잔잔'), (344, '이제'), (345, '씬'), (346, '조금'), (347, '억지'), (348, '가지'), (349, '영상'), (350, '찾'), (351, '딱'), (352, '요즘'), (353, '라도'), (354, '스릴러'), (355, '같이'), (356, '8'), (357, '믿'), (358, '싫'), (359, '아까운'), (360, '나왔'), (361, '중간'), (362, '긴장감'), (363, '개인'), (364, '점수'), (365, '제대로'), (366, '부족'), (367, '이유'), (368, '노래'), (369, '만큼'), (370, '어떻게'), (371, '시작'), (372, '라면'), (373, '잇'), (374, '구나'), (375, '한테'), (376, '특히'), (377, '날'), (378, '려고'), (379, '제일'), (380, '아름다운'), (381, '니까'), (382, '시대'), (383, '엔딩'), (384, 'ㅜㅜ'), (385, '당시'), (386, '나름'), (387, '명'), (388, '무섭'), (389, '사'), (390, '나온'), (391, '오랜만'), (392, '해요'), (393, '팬'), (394, '봐'), (395, '이것'), (396, '9'), (397, '차라리'), (398, '절대'), (399, '세상'), (400, '못하'), (401, '세'), (402, '의미'), (403, '봄'), (404, '욕'), (405, '감'), (406, '훌륭'), (407, '너무나'), (408, '강추'), (409, '됨'), (410, '따뜻'), (411, 'ㅡ'), (412, '빼'), (413, '느끼'), (414, '드'), (415, '해야'), (416, '뻔'), (417, '던데'), (418, '글'), (419, '도대체'), (420, '마다'), (421, '답답'), (422, '어야'), (423, '전쟁'), (424, '놈'), (425, '설정'), (426, '무엇'), (427, '수작'), (428, '흥미'), (429, '만화'), (430, '준다'), (431, '그저'), (432, '감정'), (433, '미국'), (434, '신선'), (435, '행복'), (436, '앞'), (437, '형'), (438, '허접'), (439, '시절'), (440, '어도'), (441, '관객'), (442, '배경'), (443, '6'), (444, '사실'), (445, '웃음'), (446, '초반'), (447, '답'), (448, '엄청'), (449, '더라'), (450, '질'), (451, '자신'), (452, '군'), (453, '추억'), (454, '류'), (455, '캐스팅'), (456, '라니'), (457, '멋있'), (458, '시나리오'), (459, '첨'), (460, '어색'), (461, '정신'), (462, '머'), (463, 'OOO'), (464, '슬프'), (465, '밖에'), (466, '분위기'), (467, '소름'), (468, '멋진'), (469, '힘들'), (470, '간'), (471, '오늘'), (472, '집'), (473, '어이없'), (474, '잡'), (475, '봐서'), (476, '구성'), (477, '엄마'), (478, '함께'), (479, '위해'), (480, '졸작'), (481, '이딴'), (482, '잊'), (483, '등'), (484, '문제'), (485, '유쾌'), (486, '킬링'), (487, '스러운'), (488, '소리'), (489, '결국'), (490, '낫'), (491, '뭘'), (492, '뭔'), (493, '한데'), (494, '20'), (495, '역사'), (496, '제발'), (497, '포스터'), (498, '아무리'), (499, '코믹'), (500, '어떤'), (501, '맘'), (502, '완벽'), (503, '얼마나'), (504, '애니메이션'), (505, '러'), (506, '주연'), (507, '원'), (508, '버리'), (509, '후회'), (510, '나요'), (511, '뻔한'), (512, '진부'), (513, '나올'), (514, '어릴'), (515, '보단'), (516, '책'), (517, '장난'), (518, '출연'), (519, '됐'), (520, '큰'), (521, '더니'), (522, '밖'), (523, '영화관'), (524, '개연'), (525, '둘'), (526, '극'), (527, 'ㅅ'), (528, '보고'), (529, '난다'), (530, '충격'), (531, '여기'), (532, '평가'), (533, '잔인'), (534, '아름답'), (535, '얘기'), (536, '줬'), (537, '예술'), (538, '갈수록'), (539, '매우'), (540, '꺼'), (541, '든'), (542, '위한'), (543, '이리'), (544, '자기'), (545, '이후'), (546, '불'), (547, '읽'), (548, '얼굴'), (549, '꽤'), (550, '티비'), (551, '이쁘'), (552, '별점'), (553, '깊'), (554, '옛날'), (555, '못한'), (556, '반'), (557, '불쌍'), (558, '텐데'), (559, '겟'), (560, '시청'), (561, '순수'), (562, '봐라'), (563, '라서'), (564, '으나'), (565, '건가'), (566, '언제'), (567, '낭비'), (568, '비디오'), (569, '배'), (570, '엇'), (571, '머리'), (572, '애니'), (573, '장르'), (574, '미'), (575, '생각나'), (576, '그래서'), (577, '다운'), (578, '주제'), (579, '하지만'), (580, '다큐'), (581, '궁금'), (582, '아님'), (583, '다음'), (584, '시키'), (585, '그렇게'), (586, '누구'), (587, '동안'), (588, '예전'), (589, '그만'), (590, '크'), (591, '뒤'), (592, '진정'), (593, '상황'), (594, '인상'), (595, '미친'), (596, '스릴'), (597, '이름'), (598, '그러'), (599, '감사'), (600, '아무'), (601, '시즌'), (602, '너'), (603, 'B'), (604, '오래'), (605, '본다'), (606, '집중'), (607, '어느'), (608, '로맨스'), (609, '약간'), (610, '나와서'), (611, '방송'), (612, '그나마'), (613, '식'), (614, '까'), (615, '짜리'), (616, '소설'), (617, '여주인공'), (618, '마세요'), (619, '걸작'), (620, '평'), (621, '존나'), (622, '그대로'), (623, '인물'), (624, '났'), (625, '그것'), (626, '회'), (627, '떨어지'), (628, '힘'), (629, '케'), (630, '몰'), (631, '죽이'), (632, '실화'), (633, '꿈'), (634, '해라'), (635, '대체'), (636, '에요'), (637, '훨씬'), (638, '짓'), (639, '사회'), (640, '누가'), (641, '만점'), (642, '전체'), (643, '발연기'), (644, '무'), (645, '비슷'), (646, '엉성'), (647, '막'), (648, '30'), (649, 'ㅜ'), (650, '왔'), (651, 'CG'), (652, '단'), (653, '햇'), (654, '중국'), (655, '귀엽'), (656, '여주'), (657, '입'), (658, '끝나'), (659, '비교'), (660, '영상미'), (661, '초딩'), (662, '감성'), (663, '네이버'), (664, '세계'), (665, '여배우'), (666, '구만'), (667, '는가'), (668, '느껴'), (669, '망'), (670, 'ㅎㅎㅎ'), (671, '나이'), (672, '순간'), (673, '려는'), (674, '상'), (675, '대해'), (676, '어렸'), (677, '쯤'), (678, '첫'), (679, '꿀'), (680, '어설픈'), (681, '판'), (682, '돋'), (683, '갔'), (684, '학교'), (685, '더럽'), (686, '생'), (687, '셨'), (688, '아들'), (689, '100'), (690, '혼자'), (691, '느낄'), (692, '아야'), (693, '가능'), (694, '성룡'), (695, '졸'), (696, '타'), (697, '어린'), (698, '교훈'), (699, '멋지'), (700, '바로'), (701, '맛'), (702, '잘못'), (703, '한마디'), (704, '나가'), (705, '티'), (706, '딸'), (707, '당신'), (708, '화려'), (709, '길래'), (710, '끌'), (711, '존'), (712, '판타지'), (713, '잠'), (714, '땜'), (715, '달'), (716, '맨'), (717, '영'), (718, '빨리'), (719, '목소리'), (720, '든다'), (721, '똥'), (722, '차'), (723, '초'), (724, '삼류'), (725, '거의'), (726, '듣'), (727, '봤었'), (728, '나온다'), (729, '전부'), (730, '지루함'), (731, '독특'), (732, '건데'), (733, '위'), (734, '다르'), (735, 'ㅉㅉ'), (736, '어른'), (737, '한번'), (738, '가치'), (739, '률'), (740, '상당히'), (741, '씩'), (742, '아까움'), (743, '90'), (744, '다만'), (745, '질질'), (746, '아버지'), (747, '넣'), (748, '스타일'), (749, '줄거리'), (750, '평론가'), (751, '갑자기'), (752, '군요'), (753, '이번'), (754, '그러나'), (755, '여러'), (756, '당'), (757, 'ㅂ'), (758, '허무'), (759, '의도'), (760, '저런'), (761, '대로'), (762, '존재'), (763, '밑'), (764, '에선'), (765, '째'), (766, '각본'), (767, '이러'), (768, '예상'), (769, '성우'), (770, '으면서'), (771, '버린'), (772, '화면'), (773, '그녀'), (774, '너무너무'), (775, '부'), (776, 'ㄱ'), (777, '떠나'), (778, '비해'), (779, '자연'), (780, '예쁘'), (781, '그런지'), (782, '담'), (783, '스'), (784, '슬픈'), (785, '굉장히'), (786, '평범'), (787, '관람'), (788, '복수'), (789, '뻔하'), (790, '만나'), (791, '단순'), (792, '댓글'), (793, '중요'), (794, '돼'), (795, '낸'), (796, '줌'), (797, '갖'), (798, '새로운'), (799, '피'), (800, '극장판'), (801, '앗'), (802, '제작'), (803, '일단'), (804, '굳'), (805, '한편'), (806, '못했'), (807, '버렸'), (808, '만족'), (809, '쉽'), (810, '선택'), (811, '쓴'), (812, 'TV'), (813, '아빠'), (814, '요소'), (815, '불편'), (816, '항상'), (817, '나옴'), (818, '거기'), (819, '한다는'), (820, '연출력'), (821, '지나'), (822, '그때'), (823, '에로'), (824, '롭'), (825, '탄탄'), (826, '잃'), (827, '흥행'), (828, '한심'), (829, '려'), (830, '예요'), (831, '물론'), (832, '거나'), (833, '발'), (834, '삼'), (835, '산'), (836, '관계'), (837, '조'), (838, '따라'), (839, '전형'), (840, '역대'), (841, '진행'), (842, '점점'), (843, '편집'), (844, '이하'), (845, '총'), (846, '짧'), (847, '법'), (848, '충분히'), (849, '멜'), (850, '던가'), (851, '안타깝'), (852, '에겐'), (853, '아닌가'), (854, '따'), (855, '식상'), (856, '김'), (857, '자꾸'), (858, '훈훈'), (859, '80'), (860, '미안'), (861, '도록'), (862, '게임'), (863, '아까워'), (864, '화이팅'), (865, '몰랐'), (866, '장'), (867, '원래'), (868, '곳'), (869, '그게'), (870, '잖아'), (871, '구요'), (872, '자극'), (873, '몸'), (874, '풀'), (875, '손'), (876, '어쩔'), (877, '뭔지'), (878, '똑같'), (879, '나쁜'), (880, '사건'), (881, '설명'), (882, '간다'), (883, '어울리'), (884, '팔'), (885, '귀신'), (886, '그래픽'), (887, '과거'), (888, '노력'), (889, '짐'), (890, '도저히'), (891, '상상'), (892, '짜'), (893, '황당'), (894, '조차'), (895, '닿'), (896, '개그'), (897, '됬'), (898, '아프'), (899, '죽음'), (900, '듬'), (901, '프랑스'), (902, '코메디'), (903, '홍콩'), (904, '취향'), (905, '했었'), (906, '무조건'), (907, '미치'), (908, '중반'), (909, '역'), (910, '빠'), (911, '속편'), (912, '빠져'), (913, '소중'), (914, '프로'), (915, '무비'), (916, '더빙'), (917, '간만에'), (918, '아쉬운'), (919, '나쁘'), (920, '멋'), (921, '좋아하'), (922, '빙'), (923, '넘치'), (924, '병맛'), (925, '괜히'), (926, '진지'), (927, '빠지'), (928, '척'), (929, '끝내'), (930, '쳐'), (931, '더욱'), (932, '리'), (933, '특유'), (934, '상영'), (935, '결혼'), (936, '참신'), (937, '또한'), (938, '짱짱'), (939, '유명'), (940, 'ost'), (941, '심리'), (942, '전설'), (943, '무서운'), (944, '엄청난'), (945, '헐'), (946, '숨'), (947, '오히려'), (948, '예고편'), (949, '후반부'), (950, '왕'), (951, '아저씨'), (952, '틀'), (953, '고자'), (954, '심하'), (955, '바보'), (956, '연기자'), (957, '촬영'), (958, '천재'), (959, '최근'), (960, '소녀'), (961, '느꼈'), (962, '아도'), (963, '로맨틱'), (964, '조연'), (965, '비추'), (966, 'ㄴ'), (967, '쩔'), (968, '그리'), (969, '희망'), (970, '으니'), (971, '억지로'), (972, '가볍'), (973, '이란'), (974, '는구나'), (975, '마무리'), (976, 'SF'), (977, '표정'), (978, '새끼'), (979, '현재'), (980, '전편'), (981, '온'), (982, '아무것'), (983, '어라'), (984, '힘든'), (985, '동화'), (986, '로서'), (987, '저질'), (988, '던지'), (989, '부모'), (990, '순'), (991, '이야'), (992, '대작'), (993, '아쉬움'), (994, '진실'), (995, '흠'), (996, '노출'), (997, '즐겁'), (998, '서로'), (999, '우연히'), (1000, '적당'), (1001, '빨'), (1002, '메세지'), (1003, '여성'), (1004, '이미'), (1005, '그런데'), (1006, '그림'), (1007, '묘사'), (1008, '대한민국'), (1009, '오빠'), (1010, '엉망'), (1011, '땐'), (1012, '으'), (1013, '이래'), (1014, '경찰'), (1015, '그닥'), (1016, '프로그램'), (1017, '유머'), (1018, '십'), (1019, '네여'), (1020, '청춘'), (1021, '허술'), (1022, '암'), (1023, '어설프'), (1024, '쩌'), (1025, '돌'), (1026, '남기'), (1027, '우'), (1028, 'tv'), (1029, '지난'), (1030, '왠만'), (1031, '나중'), (1032, '열'), (1033, '셈'), (1034, '갈'), (1035, '그랬'), (1036, '일까'), (1037, '나와'), (1038, '외'), (1039, '신기'), (1040, '졸라'), (1041, '하고'), (1042, '역할'), (1043, '전작'), (1044, '멍청'), (1045, '등장'), (1046, '거리'), (1047, '전달'), (1048, '먼저'), (1049, 'ㅠㅠㅠ'), (1050, '왠지'), (1051, '사이'), (1052, '살인'), (1053, 'ㅈ'), (1054, '계'), (1055, '졌'), (1056, '끄'), (1057, '놔'), (1058, '예'), (1059, '흥미진진'), (1060, '감상'), (1061, '해피'), (1062, '범죄'), (1063, '써'), (1064, '15'), (1065, '환상'), (1066, '로운'), (1067, '별루'), (1068, '마치'), (1069, '곤'), (1070, '낚'), (1071, '능력'), (1072, '문화'), (1073, '이젠'), (1074, '철학'), (1075, '다행'), (1076, '걸까'), (1077, '리메이크'), (1078, '스런'), (1079, '행동'), (1080, '효과'), (1081, '잊혀'), (1082, '미래'), (1083, '백'), (1084, 'D'), (1085, '슴'), (1086, '디'), (1087, '어렵'), (1088, '봣는데'), (1089, '그래'), (1090, '분명'), (1091, '호러'), (1092, '먹먹'), (1093, '새'), (1094, '아닌데'), (1095, '바람'), (1096, '되게'), (1097, '랄까'), (1098, '실제'), (1099, '엿'), (1100, '병'), (1101, '마시'), (1102, '후반'), (1103, '인정'), (1104, '대충'), (1105, '위대'), (1106, '군대'), (1107, '관심'), (1108, '더군요'), (1109, '마저'), (1110, '탄'), (1111, '할까'), (1112, '깊이'), (1113, '께'), (1114, '선생'), (1115, '으며'), (1116, '그런가'), (1117, '카메라'), (1118, '핵'), (1119, '성공'), (1120, '꼴'), (1121, '올'), (1122, 'OST'), (1123, '악'), (1124, '키'), (1125, '과정'), (1126, '범인'), (1127, '제작비'), (1128, '아닐까'), (1129, '손발'), (1130, '빵'), (1131, '차이'), (1132, '봅니다'), (1133, '보여준'), (1134, '생애'), (1135, '사극'), (1136, '알바'), (1137, '시도'), (1138, '가득'), (1139, '언니'), (1140, '겁나'), (1141, '귀여운'), (1142, '성인'), (1143, '박수'), (1144, '젊'), (1145, '매'), (1146, '웃긴'), (1147, '천'), (1148, '늙'), (1149, '드립니다'), (1150, '미소'), (1151, '은지'), (1152, '바라'), (1153, '가끔'), (1154, '그럼'), (1155, '스케일'), (1156, '늘'), (1157, '어쩌'), (1158, '평생'), (1159, '됩니다'), (1160, '케이블'), (1161, '동생'), (1162, '벗'), (1163, '낚였'), (1164, '결론'), (1165, '다소'), (1166, '확실히'), (1167, '얻'), (1168, 'cg'), (1169, '여서'), (1170, '심심'), (1171, '광고'), (1172, '자유'), (1173, '우울'), (1174, '한계'), (1175, '심'), (1176, '일상'), (1177, '젤'), (1178, '괴물'), (1179, '영웅'), (1180, '메시지'), (1181, '12'), (1182, '귀'), (1183, '억'), (1184, '산만'), (1185, '리얼'), (1186, '채널'), (1187, '당하'), (1188, '폭력'), (1189, '러브'), (1190, '충분'), (1191, '가진'), (1192, '고민'), (1193, '슬픔'), (1194, '자막'), (1195, '커플'), (1196, '아침'), (1197, '볼수록'), (1198, '의리'), (1199, '질리'), (1200, '조폭'), (1201, '독립영화'), (1202, '제작진'), (1203, '덜'), (1204, '걸로'), (1205, '올리'), (1206, '모'), (1207, '연애'), (1208, '리뷰'), (1209, '잤'), (1210, '거지'), (1211, '훨'), (1212, '싸우'), (1213, '아까웠'), (1214, '율'), (1215, '정'), (1216, '성장'), (1217, 'ㅇ'), (1218, '아까'), (1219, '기본'), (1220, '흐름'), (1221, '밤'), (1222, '남주'), (1223, '최'), (1224, '끼'), (1225, '표절'), (1226, '져'), (1227, '퀄리티'), (1228, '뮤지컬'), (1229, '정말로'), (1230, '박'), (1231, '아라'), (1232, '줘야'), (1233, '짝'), (1234, '소장'), (1235, '여행'), (1236, '쩐'), (1237, '스타'), (1238, '동물'), (1239, '코드'), (1240, '베'), (1241, '살짝'), (1242, '여전히'), (1243, '어린이'), (1244, '시선'), (1245, '자는'), (1246, '한다고'), (1247, '시청자'), (1248, '개판'), (1249, '악역'), (1250, '굳이'), (1251, '루'), (1252, '열심히'), (1253, '덕분'), (1254, '유일'), (1255, '우정'), (1256, '포장'), (1257, '웃겨'), (1258, '몸매'), (1259, '통해'), (1260, '포기'), (1261, '감탄'), (1262, '반성'), (1263, '인기'), (1264, '테'), (1265, '듯이'), (1266, '막판'), (1267, '분노'), (1268, '알려'), (1269, '정서'), (1270, '40'), (1271, '생겼'), (1272, '과연'), (1273, '깔끔'), (1274, '입도'), (1275, '정치'), (1276, '난해'), (1277, '니깐'), (1278, '실패'), (1279, '고전'), (1280, '드럽'), (1281, '코'), (1282, '쫌'), (1283, '자식'), (1284, '상처'), (1285, '완성도'), (1286, '소'), (1287, '느'), (1288, '용서'), (1289, '몰라도'), (1290, '어찌'), (1291, '불가'), (1292, '종교'), (1293, '약'), (1294, '빡'), (1295, '이연걸'), (1296, '딴'), (1297, '트'), (1298, '불륜'), (1299, '섹시'), (1300, '귀여워'), (1301, '어떻'), (1302, '압권'), (1303, '업'), (1304, '빛'), (1305, '달리'), (1306, '선'), (1307, '의심'), (1308, '섹스'), (1309, '고생'), (1310, '으론'), (1311, '상상력'), (1312, '싸이코'), (1313, '예쁜'), (1314, '까진'), (1315, '터지'), (1316, '딩'), (1317, '하나하나'), (1318, '북한'), (1319, '언제나'), (1320, '70'), (1321, '방'), (1322, '먼'), (1323, '블랙'), (1324, '홍보'), (1325, '끼리'), (1326, '힐링'), (1327, '공부'), (1328, '특별'), (1329, '권'), (1330, '비하'), (1331, 'ㅇㅇ'), (1332, 'b'), (1333, '긴장'), (1334, '춤'), (1335, '시켜'), (1336, '느와르'), (1337, '살아가'), (1338, '국민'), (1339, '등장인물'), (1340, 'ㅁ'), (1341, '표'), (1342, '보인다'), (1343, '의외'), (1344, '찡'), (1345, '통쾌'), (1346, '본방'), (1347, '웃겼'), (1348, '쉬'), (1349, '어제'), (1350, '더만'), (1351, '저예산'), (1352, '휴'), (1353, '돌아가'), (1354, '불쾌'), (1355, '펑펑'), (1356, '보내'), (1357, '남편'), (1358, '재난'), (1359, '나머지'), (1360, '눈빛'), (1361, '에휴'), (1362, '지겹'), (1363, '더라구요'), (1364, '더라도'), (1365, '놀랍'), (1366, '죄'), (1367, '다큐멘터리'), (1368, '열정'), (1369, '쪽'), (1370, '그립'), (1371, '늦'), (1372, '누나'), (1373, '올해'), (1374, '신경'), (1375, '봐요'), (1376, '연결'), (1377, '반개'), (1378, '이기'), (1379, '줘서'), (1380, '뜨'), (1381, '밥'), (1382, '아오'), (1383, '남녀'), (1384, '암튼'), (1385, '조잡'), (1386, '씁쓸'), (1387, '깨'), (1388, '그럭저럭'), (1389, '파'), (1390, '돌려'), (1391, '입장'), (1392, '우주'), (1393, 'ㄹ'), (1394, '디즈니'), (1395, '비극'), (1396, '비판'), (1397, '시원'), (1398, '연예인'), (1399, '오락'), (1400, '으로서'), (1401, '볼거리'), (1402, '아쉬웠'), (1403, '살리'), (1404, '비주얼'), (1405, '와서'), (1406, '만든다'), (1407, '아픔'), (1408, '못할'), (1409, '11'), (1410, '아련'), (1411, '출연진'), (1412, '그다지'), (1413, '이제야'), (1414, '스러움'), (1415, '무시'), (1416, '반복'), (1417, '쓰래'), (1418, '무협'), (1419, '그걸'), (1420, '히어로'), (1421, '심각'), (1422, '을지'), (1423, '려면'), (1424, '생기'), (1425, '줘'), (1426, '게다가'), (1427, '바뀌'), (1428, '불구'), (1429, '실력'), (1430, '50'), (1431, '딱히'), (1432, '닮'), (1433, '한다면'), (1434, '자리'), (1435, '지구'), (1436, '악당'), (1437, '결과'), (1438, '헐리우드'), (1439, '과장'), (1440, '한지'), (1441, '강렬'), (1442, '아줌마'), (1443, '설마'), (1444, '러닝'), (1445, '니다'), (1446, '실'), (1447, '썼'), (1448, '뜻'), (1449, '발견'), (1450, '때리'), (1451, '게이'), (1452, '의문'), (1453, '싸구려'), (1454, '하루'), (1455, '쓸'), (1456, '션'), (1457, '부르'), (1458, '냐고'), (1459, '로써'), (1460, '들어가'), (1461, '그거'), (1462, '영환'), (1463, '방금'), (1464, '방식'), (1465, '단지'), (1466, '맞추'), (1467, '썩'), (1468, '한국인'), (1469, '시사회'), (1470, '진다'), (1471, '아픈'), (1472, '생활'), (1473, '깨닫'), (1474, '소소'), (1475, '맨날'), (1476, '태어나'), (1477, '이때'), (1478, '돌리'), (1479, '글쎄'), (1480, '덕'), (1481, '존경'), (1482, '벌'), (1483, '라지만'), (1484, '시각'), (1485, '오글거리'), (1486, '싸'), (1487, '낳'), (1488, '어머니'), (1489, '뛰어난'), (1490, '흔한'), (1491, '놀랐'), (1492, '대화'), (1493, '초등'), (1494, '갑니다'), (1495, '섬세'), (1496, '청소년'), (1497, '확'), (1498, '유'), (1499, '희생'), (1500, '방법'), (1501, '새벽'), (1502, '본인'), (1503, '로봇'), (1504, '무언가'), (1505, '풋풋'), (1506, '조절'), (1507, '진리'), (1508, '무서웠'), (1509, '고통'), (1510, '지요'), (1511, '발전'), (1512, '밋밋'), (1513, '아역'), (1514, '외모'), (1515, '야한'), (1516, '쇼'), (1517, '찝찝'), (1518, '그린'), (1519, '벌써'), (1520, '베스트'), (1521, '따위'), (1522, '흐르'), (1523, '심장'), (1524, '전문가'), (1525, '인도'), (1526, '창'), (1527, '필름'), (1528, '세기'), (1529, '누군가'), (1530, '입감'), (1531, '죄다'), (1532, '이미지'), (1533, '짝퉁'), (1534, '기에'), (1535, '로그인'), (1536, '아류'), (1537, '어려운'), (1538, '느낀'), (1539, '아이돌'), (1540, '버'), (1541, '장애'), (1542, '푹'), (1543, '외국'), (1544, '이따위'), (1545, '묻'), (1546, '헐리'), (1547, '견자단'), (1548, '19'), (1549, '사수'), (1550, '시킨'), (1551, '완'), (1552, '시트콤'), (1553, '갈등'), (1554, '스스로'), (1555, '상업'), (1556, '김기덕'), (1557, '륜'), (1558, '야하'), (1559, '영어'), (1560, '기다리'), (1561, '이쁜'), (1562, '한가'), (1563, '했으나'), (1564, '연속'), (1565, '테러'), (1566, '스러웠'), (1567, '본다면'), (1568, '미스'), (1569, '애기'), (1570, '사기'), (1571, '교육'), (1572, '국내'), (1573, '느라'), (1574, '그려'), (1575, '월'), (1576, '끼치'), (1577, '학생'), (1578, '뭉클'), (1579, '쩝'), (1580, '특이'), (1581, '국가'), (1582, '기술'), (1583, '쏘'), (1584, '자살'), (1585, '명품'), (1586, '인해'), (1587, '미드'), (1588, '오브'), (1589, '앤'), (1590, '내요'), (1591, '와우'), (1592, '오버'), (1593, '망했'), (1594, '세월'), (1595, '영원'), (1596, '깜짝'), (1597, '쥐'), (1598, '대중'), (1599, '주말'), (1600, '특수'), (1601, '챙겨'), (1602, '시걸'), (1603, '력'), (1604, '어여'), (1605, '극치'), (1606, '미모'), (1607, '주변'), (1608, '형편없'), (1609, '겨울'), (1610, '터'), (1611, '지나치'), (1612, '라인'), (1613, '점주'), (1614, '착한'), (1615, '조합'), (1616, '해야지'), (1617, '탑'), (1618, '레전드'), (1619, '18'), (1620, '갠'), (1621, '그지'), (1622, '경험'), (1623, '에피소드'), (1624, '채'), (1625, '해석'), (1626, '13'), (1627, '아름다움'), (1628, '봐야지'), (1629, '갑'), (1630, '고양이'), (1631, '한참'), (1632, '편견'), (1633, '학년'), (1634, '슬펐'), (1635, '할지'), (1636, '완성'), (1637, '새롭'), (1638, '녀'), (1639, '치밀'), (1640, '솔직'), (1641, '꼬'), (1642, '무지'), (1643, '이용'), (1644, '신고'), (1645, '검색'), (1646, '포'), (1647, '단연'), (1648, '는군'), (1649, '고요'), (1650, '영국'), (1651, '투자'), (1652, '호'), (1653, '명화'), (1654, '저렇게'), (1655, '어휴'), (1656, '시시'), (1657, '스크린'), (1658, '움'), (1659, '놀라'), (1660, '우와'), (1661, '멀'), (1662, '양심'), (1663, '007'), (1664, '뇌'), (1665, '캐'), (1666, '래'), (1667, '포인트'), (1668, '허세'), (1669, '찌질'), (1670, '등등'), (1671, '빈'), (1672, '무척'), (1673, '다양'), (1674, '그럴'), (1675, '영혼'), (1676, '사진'), (1677, '민망'), (1678, '참고'), (1679, '대부분'), (1680, '갓'), (1681, '달달'), (1682, '확실'), (1683, '자면'), (1684, '양'), (1685, '뽑'), (1686, '꼽'), (1687, '싸움'), (1688, '기독교'), (1689, '돋보이'), (1690, '대표'), (1691, '21'), (1692, '으로써'), (1693, '형사'), (1694, '찾아보'), (1695, 'C'), (1696, '맡'), (1697, '땅'), (1698, '위해서'), (1699, '레'), (1700, '즐거운'), (1701, '레알'), (1702, '실제로'), (1703, '외계인'), (1704, '링'), (1705, '복잡'), (1706, '줍니다'), (1707, '마이너스'), (1708, '용기'), (1709, '인가요'), (1710, '가요'), (1711, '겁니다'), (1712, '생생'), (1713, '일어나'), (1714, '패러디'), (1715, '옆'), (1716, '꽝'), (1717, '초등학생'), (1718, '기자'), (1719, '엉'), (1720, '명성'), (1721, '보였'), (1722, '카리스마'), (1723, '조작'), (1724, '셔서'), (1725, '즐기'), (1726, '더러운'), (1727, '변화'), (1728, '응원'), (1729, '기억나'), (1730, '망한'), (1731, '유발'), (1732, '드림'), (1733, '아내'), (1734, '된다는'), (1735, '못해'), (1736, '포르노'), (1737, '도전'), (1738, '대해서'), (1739, '개념'), (1740, '미쳤'), (1741, '적절'), (1742, '관점'), (1743, '풍경'), (1744, '완전히'), (1745, '망치'), (1746, '화끈'), (1747, '더라면'), (1748, '인상깊'), (1749, '개뿔'), (1750, '얘'), (1751, '직접'), (1752, '더불'), (1753, '개성'), (1754, '코난'), (1755, '센스'), (1756, '개막'), (1757, '버림'), (1758, '형제'), (1759, '스트레스'), (1760, '틈'), (1761, '크리스마스'), (1762, '따로'), (1763, '피해자'), (1764, '할머니'), (1765, '전반'), (1766, '아냐'), (1767, 'x'), (1768, '잠깐'), (1769, '의식'), (1770, '역겹'), (1771, '느껴진다'), (1772, '일품'), (1773, '변태'), (1774, '수고'), (1775, '아름다웠'), (1776, '죽여'), (1777, '꽃'), (1778, '탓'), (1779, '빌려'), (1780, 'ㅠㅠㅠㅠ'), (1781, 'M'), (1782, '당연'), (1783, '가수'), (1784, '악마'), (1785, '기준'), (1786, '공짜'), (1787, '무술'), (1788, '디테일'), (1789, '흘리'), (1790, '모를'), (1791, '데리'), (1792, '욕망'), (1793, '전기세'), (1794, '기법'), (1795, '몇몇'), (1796, 'good'), (1797, '관한'), (1798, '놀'), (1799, '빵점'), (1800, '대본'), (1801, '허'), (1802, '정상'), (1803, '야동'), (1804, '내면'), (1805, '끝난'), (1806, '울리'), (1807, '젠장'), (1808, '전투'), (1809, '칼'), (1810, '기회'), (1811, '아까울'), (1812, '그건'), (1813, '아마'), (1814, '전문'), (1815, '잔'), (1816, '씀'), (1817, '선물'), (1818, '다룬'), (1819, '자고'), (1820, '빈약'), (1821, '정의'), (1822, '열받'), (1823, '패'), (1824, '성격'), (1825, '어용'), (1826, '2014'), (1827, '감흥'), (1828, '방영'), (1829, '상태'), (1830, '감히'), (1831, 'DVD'), (1832, '뛰어넘'), (1833, '효'), (1834, '이렇'), (1835, '보통'), (1836, '비밀'), (1837, '참으로'), (1838, '졸리'), (1839, '얼마'), (1840, '오바'), (1841, '엇다'), (1842, '안습'), (1843, '해결'), (1844, '칠'), (1845, '현대'), (1846, '는데요'), (1847, '공'), (1848, '바꾸'), (1849, '픈'), (1850, 'ㅣ'), (1851, '이영화'), (1852, '팀'), (1853, '감명깊'), (1854, '이럴'), (1855, '옷'), (1856, '사상'), (1857, '레딧'), (1858, '골'), (1859, '배역'), (1860, 'the'), (1861, '흑인'), (1862, '뜬금없'), (1863, '미화'), (1864, '근래'), (1865, '이래서'), (1866, '주성치'), (1867, '기발'), (1868, '닥'), (1869, '거짓말'), (1870, '설레'), (1871, '단어'), (1872, '정체'), (1873, '무리'), (1874, '남겨'), (1875, '단편'), (1876, '만남'), (1877, '라기'), (1878, '흘러가'), (1879, '조아'), (1880, '앉'), (1881, '감각'), (1882, '쵝오'), (1883, '제로'), (1884, '어야지'), (1885, '볼려고'), (1886, '지났'), (1887, '으니까'), (1888, '색감'), (1889, '아래'), (1890, '껏'), (1891, '아동'), (1892, '내생'), (1893, '아예'), (1894, '최초'), (1895, '웬만'), (1896, '떨어진다'), (1897, '아기'), (1898, '캬'), (1899, '말아먹'), (1900, '영원히'), (1901, '시기'), (1902, '안타까운'), (1903, '정보'), (1904, '어쩜'), (1905, '잔뜩'), (1906, '심오'), (1907, '보임'), (1908, '공포물'), (1909, '세련'), (1910, '여름'), (1911, '부부'), (1912, '빠져들'), (1913, '젼'), (1914, '보여준다'), (1915, '빛나'), (1916, '작위'), (1917, '껐'), (1918, '따구'), (1919, '뛰'), (1920, '부실'), (1921, '바랍니다'), (1922, '차별'), (1923, '약하'), (1924, '동시'), (1925, '겨우'), (1926, '살린'), (1927, '여러분'), (1928, '탄생'), (1929, '구하'), (1930, '영환데'), (1931, '조화'), (1932, '키스'), (1933, '이끌'), (1934, '이쁨'), (1935, '모험'), (1936, '확인'), (1937, '다루'), (1938, '깎'), (1939, '강력'), (1940, '꼬마'), (1941, '이제서야'), (1942, '삭제'), (1943, '해진다'), (1944, '토'), (1945, '그만큼'), (1946, '예능'), (1947, '빠진'), (1948, '관련'), (1949, '왜곡'), (1950, '슈퍼'), (1951, '바다'), (1952, '승리'), (1953, '사고'), (1954, '폐지'), (1955, '자주'), (1956, '최강'), (1957, '투'), (1958, '넹'), (1959, '풍자'), (1960, '왠'), (1961, 'A'), (1962, '씹'), (1963, '살려'), (1964, '아닙니다'), (1965, '생각없이'), (1966, '색다른'), (1967, '치곤'), (1968, '겪'), (1969, '우리나라'), (1970, '여태'), (1971, '운'), (1972, '이루'), (1973, '포스'), (1974, '히'), (1975, '결코'), (1976, '촌스럽'), (1977, '운명'), (1978, '즈'), (1979, '는대'), (1980, 'X'), (1981, 'sf'), (1982, '매일'), (1983, '목'), (1984, '려다'), (1985, '연극'), (1986, '연인'), (1987, '흉내'), (1988, '워'), (1989, '제외'), (1990, '낚시'), (1991, '망쳐'), (1992, '짠'), (1993, '목적'), (1994, '옛'), (1995, '강하'), (1996, '매니아'), (1997, '드리'), (1998, '혹은'), (1999, '아이디어'), (2000, '앞뒤'), (2001, '느껴졌'), (2002, '올려'), (2003, '무서움'), (2004, '이어지'), (2005, '감안'), (2006, '심지어'), (2007, '오랫만'), (2008, '한숨'), (2009, '컷'), (2010, '요리'), (2011, '적당히'), (2012, '호구'), (2013, '절'), (2014, '먼가'), (2015, '하늘'), (2016, '예산'), (2017, '빵빵'), (2018, '찌'), (2019, '을까요'), (2020, '혹시'), (2021, '블록버스터'), (2022, '끔찍'), (2023, '신비'), (2024, '아무런'), (2025, '꾸'), (2026, '60'), (2027, '플'), (2028, '본지'), (2029, '떼'), (2030, '따라가'), (2031, '꾼'), (2032, '넌'), (2033, '내리'), (2034, '걸리'), (2035, '냄새'), (2036, '열연'), (2037, '모양'), (2038, '건가요'), (2039, '공주'), (2040, '할아버지'), (2041, '시점'), (2042, '후속작'), (2043, '무료'), (2044, '내일'), (2045, '일반'), (2046, '바라보'), (2047, '신나'), (2048, '브'), (2049, '주기'), (2050, '담배'), (2051, '대신'), (2052, 'ㅉㅉㅉ'), (2053, 'ㅠㅜ'), (2054, '곡'), (2055, '버전'), (2056, '천국'), (2057, '즐거웠'), (2058, '빠르'), (2059, '금'), (2060, '했어요'), (2061, '겨'), (2062, '파괴'), (2063, '다섯'), (2064, '살렸'), (2065, '구리'), (2066, '화나'), (2067, '라곤'), (2068, '당황'), (2069, '대놓고'), (2070, '수많'), (2071, '플롯'), (2072, '그야말로'), (2073, '이전'), (2074, '우분'), (2075, '조카'), (2076, '호감'), (2077, '소년'), (2078, '건만'), (2079, '장국영'), (2080, '돌아보'), (2081, '중독'), (2082, '버릴'), (2083, '중심'), (2084, '신파'), (2085, '심형래'), (2086, '과학'), (2087, '추리'), (2088, '문'), (2089, '사투리'), (2090, '집착'), (2091, '잠시'), (2092, '마디'), (2093, '논리'), (2094, '혀'), (2095, '가정'), (2096, '울컥'), (2097, '부탁'), (2098, '마냥'), (2099, '강'), (2100, '교과서'), (2101, '마리'), (2102, '볼까'), (2103, '잭'), (2104, '예수'), (2105, '손가락'), (2106, '임팩트'), (2107, '의사'), (2108, '야구'), (2109, '따름'), (2110, '안감'), (2111, '대통령'), (2112, '이뻐서'), (2113, '술'), (2114, '욕심'), (2115, '끊'), (2116, '강한'), (2117, '종영'), (2118, '여친'), (2119, '터짐'), (2120, '야지'), (2121, '망하'), (2122, '동네'), (2123, '엠'), (2124, '다를'), (2125, '쓸데없이'), (2126, '수입'), (2127, '처'), (2128, '거부'), (2129, '사라지'), (2130, '못함'), (2131, '했을까'), (2132, '고서'), (2133, '따분'), (2134, '정작'), (2135, '어처구니'), (2136, '일부러'), (2137, '뭘까'), (2138, '르'), (2139, '고맙'), (2140, '조선'), (2141, '마이클'), (2142, '드라'), (2143, '상영관'), (2144, '명배우'), (2145, '놀라운'), (2146, '진정한'), (2147, '실수'), (2148, '해준다'), (2149, '체'), (2150, '당연히'), (2151, '영화제'), (2152, '위험'), (2153, '깍'), (2154, '고등학교'), (2155, '뛰어나'), (2156, '아쉬워'), (2157, '껄'), (2158, '멋졌'), (2159, '탈출'), (2160, '환경'), (2161, '못한다'), (2162, '힘내'), (2163, '설득력'), (2164, '터미네이터'), (2165, '컨셉'), (2166, '하품'), (2167, '로코'), (2168, '뱀파이어'), (2169, '공간'), (2170, '난리'), (2171, '바탕'), (2172, '잔혹'), (2173, '쿡'), (2174, '막히'), (2175, '일깨워'), (2176, '미녀'), (2177, '클레멘타인'), (2178, '멜로'), (2179, '만약'), (2180, '무서워'), (2181, '끼워'), (2182, '명장면'), (2183, '중학교'), (2184, '당할'), (2185, '블'), (2186, '가벼운'), (2187, 'dvd'), (2188, '최대'), (2189, '콩'), (2190, '카'), (2191, '혹시나'), (2192, '따지'), (2193, '결정'), (2194, '짜임새'), (2195, '색'), (2196, '인형'), (2197, '주윤발'), (2198, '자랑'), (2199, '고어'), (2200, '지경'), (2201, '는군요'), (2202, '멍'), (2203, '반드시'), (2204, '중간중간'), (2205, '해리포터'), (2206, '반대'), (2207, '별반'), (2208, '음식'), (2209, '동심'), (2210, '사운드'), (2211, '해진'), (2212, '14'), (2213, '저급'), (2214, '착각'), (2215, '루즈'), (2216, '구역'), (2217, '망친'), (2218, '재능'), (2219, '발상'), (2220, '론'), (2221, '스러워'), (2222, '마약'), (2223, '심한'), (2224, '따듯'), (2225, 'd'), (2226, '친'), (2227, '조니뎁'), (2228, '숨겨진'), (2229, '선동'), (2230, '빠른'), (2231, '나간'), (2232, '다크'), (2233, '우뢰매'), (2234, '값'), (2235, '자동차'), (2236, '베드'), (2237, '선정'), (2238, '거장'), (2239, '박진감'), (2240, '2000'), (2241, '때우'), (2242, '희대'), (2243, '그대'), (2244, '단순히'), (2245, '틱'), (2246, '뭥미'), (2247, '밝'), (2248, '든지'), (2249, '주일'), (2250, '사용'), (2251, '홍상수'), (2252, '동성애'), (2253, '침'), (2254, 'I'), (2255, '부럽'), (2256, '려다가'), (2257, '빌'), (2258, '편안'), (2259, '이소룡'), (2260, '인내심'), (2261, '떠오르'), (2262, '전하'), (2263, '버려'), (2264, '국판'), (2265, '살인마'), (2266, '폭발'), (2267, '여인'), (2268, '극단'), (2269, '평균'), (2270, '만화책'), (2271, '걱정'), (2272, '실험'), (2273, '기적'), (2274, '분장'), (2275, '다신'), (2276, '절정'), (2277, '의상'), (2278, '잠들'), (2279, '하지원'), (2280, '군인'), (2281, '애매'), (2282, '생긴'), (2283, '디워'), (2284, '하정우'), (2285, '익숙'), (2286, '엄청나'), (2287, '의지'), (2288, '귀여움'), (2289, '정신병자'), (2290, '온다'), (2291, '뽕'), (2292, '누군지'), (2293, '떨어짐'), (2294, '나이트'), (2295, '책임'), (2296, '및'), (2297, '해졌'), (2298, '아무튼'), (2299, '우려먹'), (2300, '부작'), (2301, 'of'), (2302, '이토록'), (2303, '섞'), (2304, '동영상'), (2305, '피해'), (2306, '네유'), (2307, '리즈'), (2308, '나레이션'), (2309, '쓸데없'), (2310, '분량'), (2311, '세대'), (2312, '으시'), (2313, '붙'), (2314, '만난'), (2315, '할리우드'), (2316, '놨'), (2317, '난잡'), (2318, '느니'), (2319, '상대'), (2320, '돼지'), (2321, '민폐'), (2322, '도움'), (2323, '탈'), (2324, '하하'), (2325, '준비'), (2326, '저렇'), (2327, '떄'), (2328, '연상'), (2329, '적어도'), (2330, '끈'), (2331, '인터넷'), (2332, '목숨'), (2333, '도무지'), (2334, '당한'), (2335, '흑'), (2336, '빠져서'), (2337, 'a'), (2338, '남성'), (2339, '영향'), (2340, '반지'), (2341, '검'), (2342, '22'), (2343, '여신'), (2344, '진수'), (2345, '쌍'), (2346, '패스'), (2347, '믿기'), (2348, '우연'), (2349, '응'), (2350, '킹'), (2351, '솔'), (2352, '낚이'), (2353, '보소'), (2354, '짐캐리'), (2355, '거품'), (2356, '메'), (2357, '일본인'), (2358, '줘도'), (2359, '샘'), (2360, '재개봉'), (2361, '다리'), (2362, '평화'), (2363, '인종'), (2364, '출신'), (2365, '뗄'), (2366, '흑백'), (2367, '마이'), (2368, '배트맨'), (2369, '소화'), (2370, '아놀드'), (2371, '요새'), (2372, '처절'), (2373, '서울'), (2374, '옴'), (2375, '비중'), (2376, '네티즌'), (2377, '국'), (2378, '죄송'), (2379, '기존'), (2380, '명대사'), (2381, '송강호'), (2382, '유럽'), (2383, '김치'), (2384, '원조'), (2385, '평소'), (2386, '어쩌면'), (2387, '에다'), (2388, '겉멋'), (2389, '려나'), (2390, '부끄럽'), (2391, '발음'), (2392, '재미나'), (2393, '장난치'), (2394, '하도'), (2395, '건강'), (2396, '배급사'), (2397, '25'), (2398, '옹'), (2399, '저리'), (2400, '축구'), (2401, '조용'), (2402, '납니다'), (2403, '소개'), (2404, '굉장'), (2405, '뭣'), (2406, '거북'), (2407, '이라도'), (2408, '계기'), (2409, '수록'), (2410, '놀이'), (2411, '스포츠'), (2412, '유지'), (2413, '생각난다'), (2414, '충실'), (2415, '극복'), (2416, '흥'), (2417, '빠졌'), (2418, '거림'), (2419, '벗어나'), (2420, '판단'), (2421, '도시'), (2422, '선수'), (2423, '애절'), (2424, '깡패'), (2425, '으려고'), (2426, '양아치'), (2427, '라스트'), (2428, '쭉'), (2429, '인류'), (2430, '오프닝'), (2431, '퍼'), (2432, '언젠가'), (2433, '광'), (2434, '놓치'), (2435, '리얼리티'), (2436, '러시아'), (2437, '능'), (2438, '꿈꾸'), (2439, '정우성'), (2440, '격'), (2441, '구조'), (2442, '만하다'), (2443, '제이슨'), (2444, '반영'), (2445, '설'), (2446, '곧'), (2447, '가까운'), (2448, '글자'), (2449, '제임스'), (2450, '말투'), (2451, '무대'), (2452, '위로'), (2453, '눈물나'), (2454, '담백'), (2455, '무한'), (2456, '최고봉'), (2457, '아까워서'), (2458, '즐겨'), (2459, '변하'), (2460, '에다가'), (2461, '게스트'), (2462, '왕국'), (2463, '무겁'), (2464, '망할'), (2465, '찾아볼'), (2466, '각색'), (2467, '차원'), (2468, '로드'), (2469, '달콤'), (2470, '반담'), (2471, '어둡'), (2472, '으신'), (2473, '류승범'), (2474, '만났'), (2475, '은근히'), (2476, '각'), (2477, '탁월'), (2478, '넘어가'), (2479, '빨갱이'), (2480, '로버트'), (2481, '잖'), (2482, '품'), (2483, '끔'), (2484, '제왕'), (2485, '찬'), (2486, '단체'), (2487, '톰'), (2488, '도데체'), (2489, '최소한'), (2490, '옥'), (2491, '만세'), (2492, '압도'), (2493, '역량'), (2494, '최소'), (2495, '접'), (2496, '유아'), (2497, '독일'), (2498, '파격'), (2499, '느리'), (2500, '연'), (2501, '개콘'), (2502, '과하'), (2503, '정당'), (2504, '부정'), (2505, '치유'), (2506, '잉'), (2507, '는다는'), (2508, '진한'), (2509, '단점'), (2510, '둘째치'), (2511, '그동안'), (2512, '몽환'), (2513, '드디어'), (2514, '밀'), (2515, '왤케'), (2516, '부인'), (2517, '상어'), (2518, '참나'), (2519, '그라'), (2520, '각자'), (2521, '자마자'), (2522, '날리'), (2523, '깨알'), (2524, '짜릿'), (2525, '떨'), (2526, '호기심'), (2527, '세여'), (2528, '범죄자'), (2529, '선사'), (2530, '깨달'), (2531, '바꿔'), (2532, '도와'), (2533, '중년'), (2534, '2012'), (2535, '헛웃음'), (2536, '즐길'), (2537, '컴퓨터'), (2538, '아닐'), (2539, '부리'), (2540, '파리'), (2541, '편하'), (2542, '멘'), (2543, '브루스'), (2544, '죤'), (2545, '올라가'), (2546, '명불허전'), (2547, '킬러'), (2548, '좌'), (2549, '정리'), (2550, '튼'), (2551, 'ㅉ'), (2552, '뎅'), (2553, '당했'), (2554, '배꼽'), (2555, '전화'), (2556, '하나님'), (2557, '신하균'), (2558, '폭풍'), (2559, '비행기'), (2560, '이병헌'), (2561, '로웠'), (2562, '움직이'), (2563, '림'), (2564, '해선'), (2565, '으리'), (2566, '뮤직'), (2567, '죽인'), (2568, '아팠'), (2569, '쏟'), (2570, '나왓'), (2571, '화장실'), (2572, '어두운'), (2573, '부활'), (2574, '촌'), (2575, '오글오글'), (2576, '임창정'), (2577, '기다려'), (2578, '대결'), (2579, '향수'), (2580, '말씀'), (2581, '엄'), (2582, '불안'), (2583, '지나가'), (2584, '본능'), (2585, '닥치'), (2586, '신인'), (2587, '역겨운'), (2588, '졸업'), (2589, '하이틴'), (2590, '무게'), (2591, '나타나'), (2592, '된다고'), (2593, '징'), (2594, '웰메이드'), (2595, '억울'), (2596, '교회'), (2597, '녀석'), (2598, '고뇌'), (2599, '슬'), (2600, '폰'), (2601, '락'), (2602, '민족'), (2603, 'you'), (2604, '매번'), (2605, '매미'), (2606, '몬'), (2607, '대상'), (2608, 'EBS'), (2609, '캐릭'), (2610, '미스터리'), (2611, '엽기'), (2612, '노인'), (2613, '웬'), (2614, '제니퍼'), (2615, '백인'), (2616, '덩어리'), (2617, '스티븐'), (2618, '일부'), (2619, '흐'), (2620, '베리'), (2621, '지르'), (2622, '등록'), (2623, '애초'), (2624, '드문'), (2625, '진진'), (2626, '녹'), (2627, '현'), (2628, '바닥'), (2629, '액션물'), (2630, '튀'), (2631, '실감'), (2632, '이만'), (2633, '가히'), (2634, '무거운'), (2635, '짬뽕'), (2636, '껀'), (2637, '타란티노'), (2638, '순위'), (2639, '짠하'), (2640, '대전'), (2641, '44'), (2642, '명복'), (2643, '쓸쓸'), (2644, '닼'), (2645, '똑같이'), (2646, '좋아할'), (2647, '한방'), (2648, '명연기'), (2649, '시장'), (2650, '연습'), (2651, '무간도'), (2652, '불과'), (2653, '직업'), (2654, '높이'), (2655, '상징'), (2656, '미국식'), (2657, '구분'), (2658, '지식'), (2659, '처리'), (2660, '준거'), (2661, '기사'), (2662, '털'), (2663, '예측'), (2664, '공유'), (2665, '발랄'), (2666, '짜집기'), (2667, '절망'), (2668, '재방'), (2669, '슈'), (2670, '오로지'), (2671, '관'), (2672, '맞춘'), (2673, '뜬금없이'), (2674, '은근'), (2675, '개그맨'), (2676, '회사'), (2677, '창피'), (2678, '여전'), (2679, '습니까'), (2680, '소통'), (2681, '담긴'), (2682, '천만'), (2683, '지키'), (2684, '총체'), (2685, '박보영'), (2686, '박중훈'), (2687, '맛있'), (2688, '강간'), (2689, '필'), (2690, '얼'), (2691, 'T'), (2692, '아만다'), (2693, '미스테리'), (2694, '절제'), (2695, '올레'), (2696, '담겨'), (2697, '떠'), (2698, '초월'), (2699, '풍'), (2700, '생명'), (2701, '특집'), (2702, '흡입력'), (2703, '정부'), (2704, '신화'), (2705, '우린'), (2706, '스타뎀'), (2707, '거대'), (2708, '킬'), (2709, '세포'), (2710, '고독'), (2711, '공룡'), (2712, '흘렸'), (2713, '모른다'), (2714, '경우'), (2715, '연관'), (2716, '향연'), (2717, '간지'), (2718, '착하'), (2719, '무식'), (2720, '개꿀'), (2721, '마누라'), (2722, '듭니다'), (2723, '대부'), (2724, '장점'), (2725, '알파치노'), (2726, '고딩'), (2727, '변신'), (2728, '레옹'), (2729, '칭찬'), (2730, '재앙'), (2731, '김수현'), (2732, '다시금'), (2733, '왓'), (2734, '고작'), (2735, '강동원'), (2736, '아쉬울'), (2737, '존스'), (2738, '스파이더맨'), (2739, '도둑'), (2740, '영화사'), (2741, '비록'), (2742, 'movie'), (2743, '배신'), (2744, '사과'), (2745, '오그라드'), (2746, '미션'), (2747, '우기'), (2748, '혐오'), (2749, '본질'), (2750, '동양'), (2751, '암울'), (2752, '최후'), (2753, '묘한'), (2754, '부산'), (2755, '늘어지'), (2756, '뒷'), (2757, '깔'), (2758, '뒤죽박죽'), (2759, '커서'), (2760, '포함'), (2761, '도중'), (2762, '혁명'), (2763, '던데요'), (2764, '들어간'), (2765, '채우'), (2766, '서부'), (2767, '내게'), (2768, '돋보였'), (2769, '무난'), (2770, '클래식'), (2771, '지옥'), (2772, '땡'), (2773, '합시다'), (2774, '의한'), (2775, '땀'), (2776, '라이언'), (2777, '쿨'), (2778, '망쳤'), (2779, '잖아요'), (2780, '늑대'), (2781, '스타워즈'), (2782, '케미'), (2783, '전기'), (2784, '레이'), (2785, '마녀'), (2786, '전이'), (2787, '병원'), (2788, '디카프리오'), (2789, '원숭이'), (2790, '방향'), (2791, '보일'), (2792, '담담'), (2793, '절로'), (2794, '인권'), (2795, '킥'), (2796, '픽사'), (2797, '고문'), (2798, '여러모로'), (2799, '기괴'), (2800, '광구'), (2801, '권력'), (2802, '나무'), (2803, '넘기'), (2804, '작화'), (2805, '고증'), (2806, '심사'), (2807, '매끄럽'), (2808, '철'), (2809, '영구'), (2810, '건질'), (2811, '쌩'), (2812, '뚱'), (2813, '제작자'), (2814, '독립'), (2815, '나와야'), (2816, '왕조현'), (2817, '페이크'), (2818, '낭만'), (2819, '16'), (2820, '댄스'), (2821, '런닝'), (2822, '오그라들'), (2823, '혼란'), (2824, '시험'), (2825, '이별'), (2826, '상당'), (2827, '워낙'), (2828, '쥬얼'), (2829, '예고'), (2830, '당장'), (2831, '상실'), (2832, '대학'), (2833, '귀여웠'), (2834, '국어'), (2835, '운동'), (2836, '나을'), (2837, '엮'), (2838, '인식'), (2839, '가짜'), (2840, '딩크'), (2841, '주인'), (2842, '스텝'), (2843, '언'), (2844, '시종일관'), (2845, '낼'), (2846, '허나'), (2847, '스릴러물'), (2848, '맙시다'), (2849, '추격'), (2850, '절대로'), (2851, '사이코'), (2852, '미학'), (2853, '맥'), (2854, '의해'), (2855, '뻔뻔'), (2856, '찬양'), (2857, '섬'), (2858, '섹'), (2859, 'ㅜㅠ'), (2860, '남친'), (2861, '천사'), (2862, '너희'), (2863, '어수선'), (2864, '수면제'), (2865, '상관없'), (2866, '우선'), (2867, '엄정화'), (2868, '고인'), (2869, '욕먹'), (2870, '어떠'), (2871, '젖'), (2872, '전성기'), (2873, '셋'), (2874, '유치찬란'), (2875, '위트'), (2876, '센'), (2877, '반응'), (2878, '놀란'), (2879, '진짜로'), (2880, '곱'), (2881, '상식'), (2882, '공연'), (2883, '환자'), (2884, 's'), (2885, '렷'), (2886, '호불호'), (2887, '월드'), (2888, '한석규'), (2889, '김혜수'), (2890, '은가'), (2891, '무기'), (2892, '별거'), (2893, '추가'), (2894, '능가'), (2895, '머릿속'), (2896, '가까이'), (2897, '매주'), (2898, '아이유'), (2899, '하하하'), (2900, '짱구'), (2901, '렉'), (2902, '터졌'), (2903, '감명'), (2904, '덤'), (2905, '방해'), (2906, '세트'), (2907, '환장'), (2908, '랄'), (2909, '떡밥'), (2910, '걷'), (2911, '옳'), (2912, '웃겨서'), (2913, '드립'), (2914, '아마추어'), (2915, '였을'), (2916, '회상'), (2917, '17'), (2918, '폼'), (2919, '모자라'), (2920, '빠질'), (2921, '거짓'), (2922, '쳤'), (2923, '바란다'), (2924, '마찬가지'), (2925, '화질'), (2926, '모아'), (2927, '아닌가요'), (2928, '정신없'), (2929, '기획'), (2930, '릭터'), (2931, '부자연'), (2932, '치고'), (2933, '호흡'), (2934, '쥬'), (2935, '공중'), (2936, '빕'), (2937, '실사'), (2938, '멋져'), (2939, '글고'), (2940, '낮추'), (2941, '긴박'), (2942, '슈퍼맨'), (2943, '외국인'), (2944, 'Good'), (2945, '어린애'), (2946, '보물'), (2947, '활용'), (2948, '애잔'), (2949, '차승원'), (2950, '오해'), (2951, '중학생'), (2952, '안타까움'), (2953, '주관'), (2954, '컸'), (2955, '흥분'), (2956, '온갖'), (2957, '서양'), (2958, '구경'), (2959, '허허'), (2960, '음향'), (2961, '형식'), (2962, '니매'), (2963, '아우'), (2964, '오르'), (2965, '께서'), (2966, '애틋'), (2967, '멋져요'), (2968, '어정쩡'), (2969, '셧'), (2970, '자세'), (2971, '택시'), (2972, '쳐도'), (2973, '99'), (2974, '컨'), (2975, '답니다'), (2976, '문득'), (2977, '어차피'), (2978, '세계관'), (2979, '누님'), (2980, '전해'), (2981, '뜬'), (2982, '김희선'), (2983, '에이'), (2984, '걸린'), (2985, '줘야지'), (2986, '널'), (2987, '유덕화'), (2988, '훈'), (2989, '방황'), (2990, 'bb'), (2991, '납득'), (2992, '재탕'), (2993, '파워'), (2994, '즐거움'), (2995, '낀'), (2996, '권상우'), (2997, '픽션'), (2998, '나루토'), (2999, '거려서'), (3000, '종'), (3001, '구려'), (3002, '본격'), (3003, '스릴감'), (3004, '봣다'), (3005, '태국'), (3006, '타인'), (3007, '나열'), (3008, '향기'), (3009, '안녕'), (3010, '살아남'), (3011, '구할'), (3012, '승부'), (3013, '으러'), (3014, '캐리'), (3015, '겉'), (3016, '어쨌든'), (3017, '벨'), (3018, '메이'), (3019, '테이큰'), (3020, '상큼'), (3021, '보석'), (3022, '애정'), (3023, '폴'), (3024, '수사'), (3025, '장진'), (3026, '위주'), (3027, '언어'), (3028, '속도'), (3029, '섬뜩'), (3030, '이뻐'), (3031, '역작'), (3032, '의견'), (3033, 'is'), (3034, '나았'), (3035, '광기'), (3036, '복선'), (3037, '먹칠'), (3038, '틀리'), (3039, '할려고'), (3040, '전지현'), (3041, '든가'), (3042, '괴'), (3043, '어째'), (3044, '곰'), (3045, '쉬운'), (3046, '닥터'), (3047, '인연'), (3048, '오랫동안'), (3049, '헉'), (3050, '뒤늦'), (3051, '약한'), (3052, '해외'), (3053, '칸'), (3054, '스파이'), (3055, '치료'), (3056, '개똥'), (3057, '생겨서'), (3058, '고향'), (3059, '봐줄'), (3060, '장소'), (3061, '냥'), (3062, '검사'), (3063, '지네'), (3064, '느낀다'), (3065, '지대'), (3066, '비참'), (3067, '슬퍼요'), (3068, '두고두고'), (3069, '귀찮'), (3070, '나갔'), (3071, '반갑'), (3072, '외면'), (3073, '한동안'), (3074, '느껴질'), (3075, '내놓'), (3076, '로빈'), (3077, '저것'), (3078, '어울림'), (3079, '난무'), (3080, '막상'), (3081, '떡'), (3082, '성형'), (3083, '대역'), (3084, '재수없'), (3085, '신부'), (3086, '보여서'), (3087, '나온다고'), (3088, '어린아이'), (3089, '유익'), (3090, '극본'), (3091, '나올까'), (3092, '집단'), (3093, '풀어낸'), (3094, '케빈'), (3095, '민'), (3096, '지내'), (3097, '시체'), (3098, '추'), (3099, '목사'), (3100, '기타'), (3101, '류영화'), (3102, 'MBC'), (3103, '런'), (3104, '영웅본색'), (3105, '나머진'), (3106, '가시'), (3107, '독'), (3108, '어딘가'), (3109, '깜놀'), (3110, '모호'), (3111, '에라이'), (3112, '원하'), (3113, '참여'), (3114, '흠잡'), (3115, '간직'), (3116, '홀로'), (3117, '뻥'), (3118, '질문'), (3119, '냈'), (3120, '아야지'), (3121, '수다'), (3122, '어울린다'), (3123, '영화판'), (3124, '찾아가'), (3125, '감정선'), (3126, '더라고요'), (3127, '일반인'), (3128, '던져'), (3129, '엉뚱'), (3130, '피아노'), (3131, '원피스'), (3132, '프'), (3133, '시켰'), (3134, '정확'), (3135, '톤'), (3136, '봣어요'), (3137, '시킬'), (3138, '커버'), (3139, '짙'), (3140, '무서울'), (3141, '박찬욱'), (3142, '버스'), (3143, '이럼'), (3144, '될까'), (3145, '이것저것'), (3146, '고등학생'), (3147, '오로라'), (3148, '유행'), (3149, '괴수'), (3150, '애인'), (3151, '커'), (3152, '셔야'), (3153, '더군'), (3154, '국산'), (3155, '일지'), (3156, '금지'), (3157, '터져'), (3158, '조기'), (3159, '묻어나'), (3160, '묵직'), (3161, '남긴다'), (3162, '비해서'), (3163, '설경구'), (3164, 'c'), (3165, '왕자'), (3166, '찬사'), (3167, '부담'), (3168, '다가오'), (3169, '아바타'), (3170, '이뻤'), (3171, '볼일'), (3172, '죽일'), (3173, '가리'), (3174, '흔하'), (3175, '여유'), (3176, '도라에몽'), (3177, '정사'), (3178, '오직'), (3179, '몰라'), (3180, '클라스'), (3181, '저러'), (3182, '개발'), (3183, '귀여워서'), (3184, '드려요'), (3185, 'vs'), (3186, '뿌'), (3187, '쟈'), (3188, '인디'), (3189, '최민수'), (3190, '집안'), (3191, '사나이'), (3192, '떠올리'), (3193, '시민'), (3194, '2015'), (3195, '유령'), (3196, '드니로'), (3197, '알리'), (3198, '그냥저냥'), (3199, '대하'), (3200, '유혹'), (3201, '했어도'), (3202, '일찍'), (3203, '겻'), (3204, '강요'), (3205, '미쳐'), (3206, '지우'), (3207, '시골'), (3208, '흔적'), (3209, '이정재'), (3210, '환'), (3211, '줘요'), (3212, '한국어'), (3213, '쏘우'), (3214, '도저'), (3215, '200'), (3216, '가관'), (3217, '맞춰'), (3218, '빅'), (3219, '따스'), (3220, '힙합'), (3221, '먹먹해'), (3222, '갖춘'), (3223, '닷'), (3224, '난국'), (3225, '평론'), (3226, '앙'), (3227, '기다렸'), (3228, '하이'), (3229, '짱나'), (3230, '생김'), (3231, '는다고'), (3232, '구혜선'), (3233, '렸'), (3234, '개소리'), (3235, '로망'), (3236, '오랜'), (3237, '차분'), (3238, '친절'), (3239, '마블'), (3240, '클'), (3241, '꺼버렸'), (3242, '욤'), (3243, '데뷔작'), (3244, '납치'), (3245, '엉망진창'), (3246, '맥스'), (3247, '성적'), (3248, '버린다'), (3249, '군더더기'), (3250, '분명히'), (3251, '실상'), (3252, '커피'), (3253, '날려'), (3254, '될지'), (3255, '반감'), (3256, '주온'), (3257, '차리'), (3258, '김명민'), (3259, '팍팍'), (3260, '심정'), (3261, '예뻐서'), (3262, '번역'), (3263, '기영'), (3264, '저희'), (3265, '쯧쯧'), (3266, '쓰레'), (3267, '송승헌'), (3268, '하아'), (3269, '제시카'), (3270, '롱'), (3271, '밧'), (3272, '스페인'), (3273, '둔'), (3274, '팝콘'), (3275, '아리'), (3276, '연주'), (3277, '새삼'), (3278, '열라'), (3279, '소품'), (3280, '멘탈'), (3281, '투성이'), (3282, '좆'), (3283, '충'), (3284, '농담'), (3285, '손색'), (3286, '소지섭'), (3287, '학원'), (3288, '외로움'), (3289, '게끔'), (3290, '좋아해서'), (3291, '람보'), (3292, '시끄럽'), (3293, '수위'), (3294, '웃긴다'), (3295, '뉴스'), (3296, '강아지'), (3297, '볼꺼'), (3298, '나온다는'), (3299, '나마'), (3300, '모욕'), (3301, '정점'), (3302, '최민식'), (3303, '추구'), (3304, '듦'), (3305, '믿음'), (3306, '뮤'), (3307, '나갈'), (3308, '리스트'), (3309, '없애'), (3310, '불러'), (3311, '색깔'), (3312, '지저분'), (3313, '다이하드'), (3314, '신데렐라'), (3315, '컬트'), (3316, '28'), (3317, '아아'), (3318, '적나라'), (3319, '았었'), (3320, '뿌리'), (3321, '레기'), (3322, '멈추'), (3323, '산다'), (3324, '스필버그'), (3325, '기업'), (3326, '우롱'), (3327, '느냐'), (3328, '성경'), (3329, '끝판'), (3330, '숲'), (3331, '안타까웠'), (3332, '쓴다'), (3333, '오페라'), (3334, '통해서'), (3335, '젊은이'), (3336, '이은주'), (3337, '모독'), (3338, '모방'), (3339, '들어오'), (3340, '끝난다'), (3341, '어중간'), (3342, '향한'), (3343, '쳐서'), (3344, '동감'), (3345, '피곤'), (3346, '청년'), (3347, '미달'), (3348, '떨어졌'), (3349, '놀랬'), (3350, '예뻤'), (3351, '공허'), (3352, '손예진'), (3353, '클라라'), (3354, '학창'), (3355, '모순'), (3356, '드만'), (3357, '미국인'), (3358, '셔'), (3359, '김태희'), (3360, '과도'), (3361, '마마'), (3362, '주위'), (3363, '증말'), (3364, '관람객'), (3365, '층'), (3366, '사장'), (3367, '맞음'), (3368, '각각'), (3369, '경악'), (3370, '본성'), (3371, '지도'), (3372, '왕가위'), (3373, '눈치'), (3374, '고수'), (3375, '쟁이'), (3376, '집니다'), (3377, '여왕'), (3378, '붕'), (3379, '헤'), (3380, '맑'), (3381, '장동건'), (3382, '태양'), (3383, '드래곤볼'), (3384, '동'), (3385, '자격'), (3386, '새록새록'), (3387, '끊기'), (3388, '애국심'), (3389, '탐'), (3390, '슬퍼'), (3391, '조심'), (3392, '괴담'), (3393, '관리'), (3394, '스킵'), (3395, '드물'), (3396, '고르'), (3397, '폭'), (3398, '열광'), (3399, '짜내'), (3400, '조정'), (3401, '학살'), (3402, '재방송'), (3403, '몰락'), (3404, '감기'), (3405, '울림'), (3406, '함부로'), (3407, '타이틀'), (3408, '김민종'), (3409, '전라도'), (3410, '피디'), (3411, '성유리'), (3412, '안성기'), (3413, '이어'), (3414, '부여'), (3415, '푸'), (3416, '마법'), (3417, '임신'), (3418, '유리'), (3419, '울음'), (3420, '상관'), (3421, '부끄러운'), (3422, '풀어내'), (3423, '어지럽'), (3424, '한정'), (3425, '김구라'), (3426, '후기'), (3427, '첩보'), (3428, '위하'), (3429, '남매'), (3430, '할게요'), (3431, '피식'), (3432, '추악'), (3433, '절묘'), (3434, '고급'), (3435, '2013'), (3436, '저주'), (3437, '지역'), (3438, '겁'), (3439, '가난'), (3440, '구라'), (3441, '감옥'), (3442, '자본'), (3443, '엑스맨'), (3444, '남긴'), (3445, '재료'), (3446, '으세요'), (3447, '커녕'), (3448, '출발'), (3449, '이입'), (3450, '냉정'), (3451, '열자'), (3452, '거려'), (3453, '객관'), (3454, '아이언맨'), (3455, '썸'), (3456, '슨'), (3457, '국제'), (3458, '니콜'), (3459, 'O'), (3460, '벽'), (3461, '지극히'), (3462, '간간히'), (3463, '돌아오'), (3464, '려는지'), (3465, '이외'), (3466, '보낸다'), (3467, '키우'), (3468, '영활'), (3469, '나와라'), (3470, '정화'), (3471, '노예'), (3472, '파라'), (3473, '색채'), (3474, '아닌지'), (3475, '미장센'), (3476, '블루'), (3477, '2005'), (3478, '감수'), (3479, '장난감'), (3480, '앞서'), (3481, '더더욱'), (3482, '통'), (3483, '규'), (3484, '우승'), (3485, '신세경'), (3486, '북'), (3487, '신세계'), (3488, '적극'), (3489, '일어날'), (3490, '재현'), (3491, '서정'), (3492, '차태현'), (3493, '이웃'), (3494, '할배'), (3495, '카피'), (3496, '효주'), (3497, '베일'), (3498, '법정'), (3499, '조악'), (3500, '정석'), (3501, '졸려'), (3502, '영광'), (3503, '흐지부지'), (3504, '춤추'), (3505, '먼지'), (3506, '황정민'), (3507, '들리'), (3508, '존재감'), (3509, '덮'), (3510, '예쁨'), (3511, '범'), (3512, '만날'), (3513, '공원'), (3514, '아카데미'), (3515, '더욱더'), (3516, '흔들'), (3517, '사전'), (3518, '이민기'), (3519, '지독'), (3520, '지켜'), (3521, '말리'), (3522, '거슬리'), (3523, '예술가'), (3524, '성찰'), (3525, 'ㅜㅜㅜ'), (3526, '소피마르소'), (3527, '엽문'), (3528, '이탈리아'), (3529, '경의'), (3530, '부각'), (3531, 'OOOO'), (3532, '또는'), (3533, '티나'), (3534, '요약'), (3535, '꺼내'), (3536, '할수록'), (3537, '행위'), (3538, '마을'), (3539, '싼'), (3540, '이연희'), (3541, '다운로드'), (3542, '그지없'), (3543, '외치'), (3544, '려니'), (3545, '부디'), (3546, '다름'), (3547, '빌리'), (3548, '한텐'), (3549, '때로'), (3550, '묘하'), (3551, '라구'), (3552, '박평식'), (3553, '기도'), (3554, '엉터리'), (3555, '공감대'), (3556, '임청하'), (3557, '걸릴'), (3558, '드러나'), (3559, '조명'), (3560, '기록'), (3561, '토할'), (3562, '대비'), (3563, '틀림없'), (3564, '최선'), (3565, '전도연'), (3566, '으려'), (3567, '단역'), (3568, '정통'), (3569, '에드워드'), (3570, '트랜스포머'), (3571, '원했'), (3572, '직'), (3573, '와중'), (3574, '지브리'), (3575, '초기'), (3576, '댓'), (3577, '들어도'), (3578, '출현'), (3579, 'ㅄ'), (3580, '실패작'), (3581, '아끼'), (3582, '호텔'), (3583, '반했'), (3584, '꽉'), (3585, '뿜'), (3586, '뭔데'), (3587, '색다르'), (3588, '합'), (3589, '놀래키'), (3590, '양반'), (3591, '어떡'), (3592, '해냈'), (3593, '배속'), (3594, '스러울'), (3595, '해짐'), (3596, '띄'), (3597, '고는'), (3598, '배려'), (3599, '수십'), (3600, '아나'), (3601, '톰크루즈'), (3602, '타지'), (3603, '크루즈'), (3604, '과대평가'), (3605, 'o'), (3606, '교수'), (3607, '행'), (3608, '원표'), (3609, '유지태'), (3610, '파이팅'), (3611, '격투'), (3612, '섭외'), (3613, '배울'), (3614, '계시'), (3615, '깨끗'), (3616, '식스'), (3617, '차마'), (3618, '정확히'), (3619, '뚝뚝'), (3620, '공식'), (3621, '자아'), (3622, '멤버'), (3623, '조승우'), (3624, '마니'), (3625, '구원'), (3626, '뜨거운'), (3627, '저게'), (3628, '쿠'), (3629, '신념'), (3630, '반부'), (3631, '봐왔'), (3632, '혹평'), (3633, '에러'), (3634, '져서'), (3635, '신민아'), (3636, '허구'), (3637, '작인'), (3638, '빙판'), (3639, '어딜'), (3640, '써요'), (3641, '300'), (3642, '윌리스'), (3643, '대학생'), (3644, '포켓몬'), (3645, '사냥'), (3646, '통수'), (3647, '데스'), (3648, '주먹'), (3649, '머지'), (3650, '누'), (3651, '남발'), (3652, 'CGV'), (3653, '미묘'), (3654, '빠져드'), (3655, '역활'), (3656, '키아누'), (3657, '밴드'), (3658, '붙이'), (3659, '우아'), (3660, '2003'), (3661, '는디'), (3662, '거든'), (3663, '서극'), (3664, '생략'), (3665, '송혜교'), (3666, '풍부'), (3667, '빨간'), (3668, '오인혜'), (3669, '가을'), (3670, '퇴보'), (3671, '순진'), (3672, '다지만'), (3673, '마스터'), (3674, '기간'), (3675, '토끼'), (3676, '주원'), (3677, '호강'), (3678, '데드'), (3679, '절반'), (3680, 'The'), (3681, '어이'), (3682, '하드'), (3683, '아프리카'), (3684, '고질라'), (3685, '심했'), (3686, '고마운'), (3687, '저거'), (3688, '극찬'), (3689, '붉'), (3690, '가깝'), (3691, '작전'), (3692, '꼬맹이'), (3693, '위기'), (3694, '혐'), (3695, '부를'), (3696, '특징'), (3697, '증명'), (3698, '그럼에도'), (3699, '몽'), (3700, '송'), (3701, '강조'), (3702, '취급'), (3703, '뽀'), (3704, '때려'), (3705, '노튼'), (3706, '노골'), (3707, '지겨워'), (3708, '젊음'), (3709, '복'), (3710, '인터뷰'), (3711, '장혁'), (3712, '경제'), (3713, '2004'), (3714, '흐뭇'), (3715, '마구'), (3716, '여기저기'), (3717, '거듭'), (3718, '지원'), (3719, '초점'), (3720, '미이라'), (3721, '할꺼'), (3722, '전락'), (3723, '와이프'), (3724, '찜찜'), (3725, '스피드'), (3726, '대단히'), (3727, '뒤집'), (3728, '니콜라스'), (3729, '서프라이즈'), (3730, '겄'), (3731, '그나저나'), (3732, '구멍'), (3733, '백배'), (3734, '접근'), (3735, '타령'), (3736, '획'), (3737, '모성애'), (3738, '일관'), (3739, '강시'), (3740, '흑역사'), (3741, '생존'), (3742, '퀴어'), (3743, '스텝업'), (3744, '희'), (3745, '라며'), (3746, '정신병'), (3747, '24'), (3748, '어쩌다'), (3749, '뻔히'), (3750, '로마'), (3751, '재주'), (3752, '떨어진'), (3753, '뉴욕'), (3754, '롤'), (3755, '무너지'), (3756, '송지효'), (3757, '강지환'), (3758, '제정신'), (3759, '구도'), (3760, '배드'), (3761, '경계'), (3762, '힘드'), (3763, '쥬라기'), (3764, '들어왔'), (3765, '갈리'), (3766, '모델'), (3767, '피터'), (3768, '어거지'), (3769, '메인'), (3770, '멀리'), (3771, '벌어지'), (3772, '비롯'), (3773, '사무라이'), (3774, '이뻐요'), (3775, '그래요'), (3776, '삐'), (3777, '패턴'), (3778, '줘라'), (3779, '장근석'), (3780, '수지'), (3781, '이스트우드'), (3782, '데이빗'), (3783, '오만'), (3784, '똑바로'), (3785, '시사'), (3786, '논'), (3787, '앞부분'), (3788, 'http'), (3789, '활동'), (3790, '깨달음'), (3791, '예의'), (3792, '었었'), (3793, '무서워서'), (3794, '헤어지'), (3795, '불행'), (3796, '순이'), (3797, '쌈'), (3798, '마케팅'), (3799, '종류'), (3800, '떠들'), (3801, '봉'), (3802, '퍼즐'), (3803, '임수정'), (3804, '오유'), (3805, '내보내'), (3806, '지배'), (3807, '한글'), (3808, '크리스찬'), (3809, '수애'), (3810, '봣'), (3811, '작렬'), (3812, '메리'), (3813, '평이'), (3814, '부자'), (3815, '등급'), (3816, 'PD'), (3817, '는다면'), (3818, '곁'), (3819, '풀리'), (3820, '뺏'), (3821, '관대'), (3822, '예뻐'), (3823, '채워'), (3824, '짜여진'), (3825, '조용히'), (3826, '장군'), (3827, '우왕'), (3828, '꼬라지'), (3829, '가식'), (3830, '제작사'), (3831, '찢'), (3832, '비싼'), (3833, '돼서'), (3834, '우익'), (3835, '런닝맨'), (3836, '더러'), (3837, '그렇지만'), (3838, '두려움'), (3839, '또라이'), (3840, '저번'), (3841, '받아들이'), (3842, '이범수'), (3843, '패션'), (3844, '살인자'), (3845, '바랬'), (3846, '나타내'), (3847, '불후'), (3848, '죽임'), (3849, '난감'), (3850, '밝혀'), (3851, '웅장'), (3852, '안타까울'), (3853, '아기자기'), (3854, '뭔가요'), (3855, '미남'), (3856, '끌리'), (3857, '플레이'), (3858, '어울려'), (3859, '남아돌'), (3860, '걸렸'), (3861, '일요일'), (3862, '임권택'), (3863, '의학'), (3864, '수정'), (3865, '고발'), (3866, 'com'), (3867, '빅뱅'), (3868, '인한'), (3869, '느슨'), (3870, '작년'), (3871, '역쉬'), (3872, '데이'), (3873, 'ㅏ'), (3874, '이나영'), (3875, '장치'), (3876, '미인'), (3877, '장나라'), (3878, '조지'), (3879, '맹'), (3880, '그분'), (3881, '초능력'), (3882, '원주율'), (3883, '향해'), (3884, '빼놓'), (3885, '부른'), (3886, '원인'), (3887, '보여줌'), (3888, '써서'), (3889, '성숙'), (3890, '극한'), (3891, '무색'), (3892, '연령'), (3893, '잭슨'), (3894, '구지'), (3895, '죽였'), (3896, '침묵'), (3897, '과잉'), (3898, '자본주의'), (3899, '홍금보'), (3900, '1000'), (3901, '엉엉'), (3902, '체험'), (3903, '닫'), (3904, '어설퍼'), (3905, '파악'), (3906, '즘'), (3907, '케릭'), (3908, '져요'), (3909, '휴먼'), (3910, '쉴'), (3911, '이순신'), (3912, '척하'), (3913, '딱딱'), (3914, 'ebs'), (3915, '드림웍스'), (3916, '간단'), (3917, '돋보인다'), (3918, '뭡니까'), (3919, 'it'), (3920, '나참'), (3921, '땜시'), (3922, '넘어선'), (3923, '지나친'), (3924, '주상욱'), (3925, '랫'), (3926, '일탈'), (3927, '물건'), (3928, '서기'), (3929, '가상'), (3930, '서스펜스'), (3931, '딸리'), (3932, '펭귄'), (3933, 't'), (3934, '짐승'), (3935, '즐'), (3936, '습니당'), (3937, '기쁨'), (3938, '로움'), (3939, '된다면'), (3940, '자위'), (3941, '두말'), (3942, '태도'), (3943, '접하'), (3944, '클린트'), (3945, '다구'), (3946, '분석'), (3947, '지적'), (3948, 'to'), (3949, '질주'), (3950, '안다'), (3951, '토니'), (3952, '마음속'), (3953, '외화'), (3954, '낙'), (3955, '투표'), (3956, '씨발'), (3957, '고로'), (3958, '철없'), (3959, '증거'), (3960, '파워레인저'), (3961, '가해자'), (3962, '알려준'), (3963, '스텔라'), (3964, '합니까'), (3965, '몫'), (3966, '지리'), (3967, '계획'), (3968, '녹화'), (3969, '이혼'), (3970, '깁니다'), (3971, '느린'), (3972, '큐'), (3973, '용감'), (3974, '모티브'), (3975, '저녁'), (3976, '코스프레'), (3977, '지인'), (3978, '해질'), (3979, '드러내'), (3980, '더러워'), (3981, '담아내'), (3982, '잃어버린'), (3983, '죽인다'), (3984, '사라졌'), (3985, '당당'), (3986, '작정'), (3987, '써라'), (3988, '랴'), (3989, '고스란히'), (3990, '별다른'), (3991, '앓'), (3992, '뻔해서'), (3993, '엉덩이'), (3994, '묘미'), (3995, '홧팅'), (3996, '하차'), (3997, '하구'), (3998, '서방'), (3999, '난생'), (4000, '자세히'), (4001, '제미'), (4002, '단언'), (4003, '불면증'), (4004, '중후'), (4005, '박신양'), (4006, '양동근'), (4007, '선율'), (4008, '카메론'), (4009, '경'), (4010, '존중'), (4011, '속지'), (4012, '온몸'), (4013, '람'), (4014, '여정'), (4015, '긍정'), (4016, '98'), (4017, '어마어마'), (4018, '오우'), (4019, '간첩'), (4020, '준다는'), (4021, '생각났'), (4022, '엑소시스트'), (4023, '사망'), (4024, '박사'), (4025, '도통'), (4026, '물씬'), (4027, '무리수'), (4028, '무어'), (4029, '날렸'), (4030, '뉴'), (4031, '때메'), (4032, 'best'), (4033, '기차'), (4034, '양조위'), (4035, '어우'), (4036, '진작'), (4037, '입니까'), (4038, '애쓰'), (4039, '추락'), (4040, '후한'), (4041, '멘붕'), (4042, '봣습니다'), (4043, '강제'), (4044, '겁니까'), (4045, '팀버튼'), (4046, '명확'), (4047, '유치뽕'), (4048, '위안'), (4049, '손색없'), (4050, '숀'), (4051, '웃겨요'), (4052, '심히'), (4053, '랩'), (4054, '글구'), (4055, '사연'), (4056, 'mbc'), (4057, '레이첼'), (4058, '한때'), (4059, '미스터'), (4060, '차지'), (4061, '띵'), (4062, '볼땐'), (4063, '헐크'), (4064, '피트'), (4065, '허무맹랑'), (4066, '총질'), (4067, '어우러진'), (4068, '따윈'), (4069, '로선'), (4070, '나서'), (4071, '적절히'), (4072, '올라갈'), (4073, '고정'), (4074, '익'), (4075, '보스'), (4076, '예뻐요'), (4077, '강호동'), (4078, '오타쿠'), (4079, '히트'), (4080, '잠수함'), (4081, '곱씹'), (4082, '조직'), (4083, '용가리'), (4084, '릴'), (4085, '못생긴'), (4086, '이승기'), (4087, '맛깔'), (4088, '2010'), (4089, '인척'), (4090, '소리지르'), (4091, '싸울'), (4092, '최저'), (4093, '강혜정'), (4094, '저렴'), (4095, '주목'), (4096, '이성재'), (4097, '장편'), (4098, '필수'), (4099, '당최'), (4100, '매혹'), (4101, '오류'), (4102, '언론'), (4103, '웹툰'), (4104, '일세'), (4105, '띠'), (4106, '나누'), (4107, '가졌'), (4108, '재치'), (4109, '논하'), (4110, '흡사'), (4111, '바꾼'), (4112, '실소'), (4113, '인터'), (4114, '아용'), (4115, '은퇴'), (4116, '예매'), (4117, '노동자'), (4118, '욕구'), (4119, '나옵니다'), (4120, '이름값'), (4121, '뜸'), (4122, '마틴'), (4123, '떨어져'), (4124, '달까'), (4125, '500'), (4126, '마요'), (4127, '학대'), (4128, '거창'), (4129, '닌자'), (4130, '봣음'), (4131, '내겐'), (4132, '명곡'), (4133, '슬래셔'), (4134, '슬퍼서'), (4135, '홈'), (4136, '가질'), (4137, '동기'), (4138, '흑흑'), (4139, '태어난'), (4140, '김강우'), (4141, '금요일'), (4142, 'ocn'), (4143, '클리셰'), (4144, '은데요'), (4145, '대만'), (4146, '종일'), (4147, '노무'), (4148, '쩜'), (4149, '미술'), (4150, '엘'), (4151, 'KBS'), (4152, '조조'), (4153, '베트남'), (4154, '고리'), (4155, '지금껏'), (4156, '이동욱'), (4157, '뜬금'), (4158, '제시'), (4159, '써도'), (4160, '태'), (4161, '몬스터'), (4162, '위원'), (4163, '소박'), (4164, '열린'), (4165, '본다고'), (4166, '곳곳'), (4167, '귀요미'), (4168, '미흡'), (4169, '우습'), (4170, '쏴'), (4171, '수치'), (4172, '마인드'), (4173, '대형'), (4174, '들여'), (4175, '팔아먹'), (4176, '나발'), (4177, '으라고'), (4178, '으려는'), (4179, '근'), (4180, '에일리언'), (4181, '한수'), (4182, '공존'), (4183, '떄문에'), (4184, '임파서블'), (4185, '용두사미'), (4186, '해본다'), (4187, '합리'), (4188, '습작'), (4189, '그룹'), (4190, '환불'), (4191, '흔히'), (4192, '서부극'), (4193, '언급'), (4194, '자료'), (4195, '졌으면'), (4196, '이념'), (4197, '멸망'), (4198, '디자인'), (4199, '껴'), (4200, '쳐먹'), (4201, '저절로'), (4202, '건진'), (4203, '경기'), (4204, '23'), (4205, '느껴짐'), (4206, '공개'), (4207, '장쯔이'), (4208, '모여'), (4209, '황비홍'), (4210, '헛'), (4211, '오리지널'), (4212, '친다'), (4213, '서우'), (4214, '남김'), (4215, '주체'), (4216, '진하'), (4217, '실컷'), (4218, '이겨'), (4219, '자라'), (4220, '니당'), (4221, '에게서'), (4222, '꺼져'), (4223, '투신'), (4224, '발생'), (4225, '놀라울'), (4226, '였으면'), (4227, '연장'), (4228, '차기'), (4229, '츄'), (4230, '뱀'), (4231, '발레'), (4232, '철저'), (4233, '바리'), (4234, '법칙'), (4235, '콘서트'), (4236, '자제'), (4237, '파이'), (4238, '도망가'), (4239, '걸까요'), (4240, '민주'), (4241, '고찰'), (4242, '다니엘'), (4243, '스탈'), (4244, '인디아나'), (4245, '집어넣'), (4246, '거든요'), (4247, '은은'), (4248, '120'), (4249, '더니만'), (4250, '수백'), (4251, '현대인'), (4252, '휴가'), (4253, '문학'), (4254, '큐브'), (4255, '박스'), (4256, '즉'), (4257, '지존'), (4258, '탕웨이'), (4259, '똑똑'), (4260, '찐'), (4261, '경쾌'), (4262, '정재영'), (4263, '추잡'), (4264, '나약'), (4265, '허탈'), (4266, '도덕'), (4267, '솜씨'), (4268, '어의'), (4269, '윤아'), (4270, '엑'), (4271, '두근두근'), (4272, '라길래'), (4273, '바치'), (4274, '허전'), (4275, '안정'), (4276, '가르쳐'), (4277, '비명'), (4278, '하군'), (4279, '어처구니없'), (4280, '달러'), (4281, '샤론스톤'), (4282, '회장'), (4283, '여동생'), (4284, '동호'), (4285, '일대기'), (4286, '총알'), (4287, '이준기'), (4288, '그곳'), (4289, '넋'), (4290, '관가'), (4291, '달라'), (4292, '소나'), (4293, '동료'), (4294, '자매'), (4295, '악평'), (4296, '삼가'), (4297, '감당'), (4298, '비난'), (4299, '브래드피트'), (4300, '대책'), (4301, '김하늘'), (4302, '설레임'), (4303, '갑갑'), (4304, '잘생긴'), (4305, '주의'), (4306, '기대감'), (4307, '거울'), (4308, '린'), (4309, '첩'), (4310, '소문'), (4311, '동일'), (4312, '욱'), (4313, '사라진'), (4314, '고백'), (4315, '2001'), (4316, '홍'), (4317, '진보'), (4318, '짜임'), (4319, '벤'), (4320, '대가리'), (4321, '여고'), (4322, '스콧'), (4323, '팩'), (4324, '흘렀'), (4325, '어찌나'), (4326, '쓰레기통'), (4327, '러셀'), (4328, '지겨운'), (4329, '아무래도'), (4330, '동아리'), (4331, '매회'), (4332, '보냅니다'), (4333, '매트릭스'), (4334, '졸려서'), (4335, '아오이'), (4336, '활약'), (4337, '침몰'), (4338, '믿겨'), (4339, '비유'), (4340, '는겨'), (4341, '진화'), (4342, '뇌리'), (4343, '담아낸'), (4344, '지성'), (4345, '클럽'), (4346, '쿵'), (4347, '마초'), (4348, '읍'), (4349, '혹성탈출'), (4350, '리암니슨'), (4351, '맴'), (4352, '일생'), (4353, '형성'), (4354, '직원'), (4355, '넓'), (4356, '졸음'), (4357, '짓거리'), (4358, '박해일'), (4359, '구먼'), (4360, '화신'), (4361, '투박'), (4362, '상쾌'), (4363, '쏙'), (4364, '사다코'), (4365, '오우삼'), (4366, '신현준'), (4367, '2009'), (4368, '긔'), (4369, '잡히'), (4370, '흘러도'), (4371, '밟'), (4372, '에릭'), (4373, '한예슬'), (4374, '미군'), (4375, '록키'), (4376, '스러워서'), (4377, '측면'), (4378, '궁'), (4379, '뻣'), (4380, '몰라서'), (4381, '하나같이'), (4382, '살아나'), (4383, '상투'), (4384, '케이지'), (4385, '썰'), (4386, '멀쩡'), (4387, '병사'), (4388, '꾹'), (4389, '관념'), (4390, '보장'), (4391, '붙여'), (4392, '타락'), (4393, '가운데'), (4394, '불법'), (4395, '콧물'), (4396, '제리'), (4397, '했으면'), (4398, '주지훈'), (4399, '배운'), (4400, '뻔했'), (4401, '레이싱'), (4402, '내려가'), (4403, '쎄'), (4404, '투자자'), (4405, 'kbs'), (4406, '본다는'), (4407, '스무'), (4408, '대표작'), (4409, '어렷'), (4410, '켜'), (4411, '전환'), (4412, '카드'), (4413, '팅'), (4414, '끝날'), (4415, '어떨까'), (4416, '샤'), (4417, '제국'), (4418, '지워'), (4419, '가치관'), (4420, '어지간'), (4421, '설렘'), (4422, '무얼'), (4423, '진솔'), (4424, '한효주'), (4425, '에너지'), (4426, '종합'), (4427, '개독'), (4428, '시스템'), (4429, '슈렉'), (4430, '수술'), (4431, '채플린'), (4432, '습'), (4433, '한없이'), (4434, '염'), (4435, '선배'), (4436, '므로'), (4437, '봐야겠다'), (4438, '미개'), (4439, '어느새'), (4440, '수준급'), (4441, '조선족'), (4442, '퉤'), (4443, '붕괴'), (4444, '미야자키'), (4445, 'in'), (4446, '콤비'), (4447, '부재'), (4448, '한두'), (4449, '화해'), (4450, '럼'), (4451, '바이러스'), (4452, '기엔'), (4453, '망함'), (4454, '영상물'), (4455, '요구'), (4456, '박자'), (4457, '함정'), (4458, '갖추'), (4459, '평정'), (4460, '유혼'), (4461, '포드'), (4462, '창조'), (4463, '누르'), (4464, '믄'), (4465, '고래'), (4466, '바래'), (4467, '뻔해'), (4468, '그리운'), (4469, '이중'), (4470, '윤'), (4471, '나와요'), (4472, '갱'), (4473, '人'), (4474, '재회'), (4475, '놨다'), (4476, '치열'), (4477, '없음'), (4478, '직장'), (4479, '힘든데'), (4480, '아이고'), (4481, '휴머니즘'), (4482, '푸른'), (4483, '싹'), (4484, '대략'), (4485, '내려'), (4486, '비오'), (4487, '주행'), (4488, '효민'), (4489, '으셨'), (4490, '앵글'), (4491, '따라서'), (4492, '재발견'), (4493, '배웠'), (4494, '가사'), (4495, '모야'), (4496, '기억난다'), (4497, '현장'), (4498, '멍청이'), (4499, '안목'), (4500, '교감'), (4501, '미리'), (4502, '정적'), (4503, '아담'), (4504, '매년'), (4505, '드신'), (4506, '모자'), (4507, '씨네'), (4508, '욕할'), (4509, '어려서'), (4510, '록'), (4511, '을려고'), (4512, '근거'), (4513, '홍진호'), (4514, '파티'), (4515, '긋'), (4516, '와이어'), (4517, '표본'), (4518, '끈다'), (4519, '97'), (4520, '로보캅'), (4521, '회복'), (4522, '파일'), (4523, '암살'), (4524, '에서부터'), (4525, '이놈'), (4526, '봉작'), (4527, '어설픔'), (4528, '놓친'), (4529, '광주'), (4530, '훼손'), (4531, '어려움'), (4532, '조인성'), (4533, '집중력'), (4534, 'F'), (4535, '쫓'), (4536, '조재현'), (4537, 'K'), (4538, '줄리아'), (4539, '음모'), (4540, '김남길'), (4541, '중국인'), (4542, '그릇'), (4543, '위원회'), (4544, '요원'), (4545, '웩'), (4546, '였으나'), (4547, '동급'), (4548, '직전'), (4549, '연기파'), (4550, '다듬'), (4551, '가문'), (4552, '아메리칸'), (4553, '토마스'), (4554, '이민정'), (4555, '윤계상'), (4556, '들어갔'), (4557, '망상'), (4558, '잎'), (4559, '고소영'), (4560, '프레디'), (4561, '사소'), (4562, '이랬'), (4563, '개떡'), (4564, '처먹'), (4565, '스캔들'), (4566, '얼른'), (4567, '어째서'), (4568, '어려울'), (4569, '맺'), (4570, '전국'), (4571, '뎁'), (4572, '출연료'), (4573, '깜찍'), (4574, '저기'), (4575, '루이스'), (4576, '백만'), (4577, '유사'), (4578, '어깨'), (4579, '안겨'), (4580, '새로'), (4581, '질투'), (4582, '어딨'), (4583, '남음'), (4584, '씁니다'), (4585, '인데요'), (4586, '쾌감'), (4587, '에이리언'), (4588, '황제'), (4589, '지지'), (4590, '나왔었'), (4591, '지진희'), (4592, '운운'), (4593, '묻혀'), (4594, '모자란'), (4595, '버티'), (4596, '그려냈'), (4597, '그러니까'), (4598, '줄리엣'), (4599, '져야'), (4600, '안타까워'), (4601, '원빈'), (4602, '호평'), (4603, '보호'), (4604, '기묘'), (4605, '이만큼'), (4606, '황홀'), (4607, '여지'), (4608, '그놈'), (4609, '프레데터'), (4610, '증'), (4611, '유덕'), (4612, '엑스트라'), (4613, '안티'), (4614, '정권'), (4615, '여야'), (4616, '구석'), (4617, '조각'), (4618, '따라한'), (4619, '오토바이'), (4620, 'and'), (4621, '오싹'), (4622, '무능'), (4623, '신파극'), (4624, '겠다'), (4625, '실존'), (4626, '짜집'), (4627, '평하'), (4628, '작업'), (4629, '미루'), (4630, '진구'), (4631, '미칠'), (4632, '현빈'), (4633, '웨슬리'), (4634, '대구'), (4635, '각성'), (4636, '확신'), (4637, '몰래'), (4638, '밀라'), (4639, '제법'), (4640, '촌스러운'), (4641, '좌파'), (4642, '시티'), (4643, '이성'), (4644, '인셉션'), (4645, '고기'), (4646, '쒸'), (4647, '신들린'), (4648, '진주'), (4649, '문근영'), (4650, '댐'), (4651, '알맹이'), (4652, '도박'), (4653, '사형'), (4654, '고려'), (4655, '데려다'), (4656, '듣보잡'), (4657, '메오'), (4658, '쌍욕'), (4659, '머신'), (4660, '결합'), (4661, '장인'), (4662, '모른'), (4663, '핸드폰'), (4664, '김선아'), (4665, '초심'), (4666, '발휘'), (4667, '슈스케'), (4668, '잘난'), (4669, '변호사'), (4670, '쏠쏠'), (4671, '기보단'), (4672, '중세'), (4673, '눈뜨'), (4674, '적응'), (4675, '자칫'), (4676, '변명'), (4677, '시리'), (4678, '발톱'), (4679, '핀'), (4680, '대변'), (4681, '기술력'), (4682, '간만'), (4683, '소피'), (4684, '이슈'), (4685, '턴'), (4686, '선가'), (4687, '일본식'), (4688, '악몽'), (4689, '줄려고'), (4690, '스탤론'), (4691, '써야'), (4692, '유작'), (4693, '우디'), (4694, '공기'), (4695, '어울렸'), (4696, '고현정'), (4697, '승화'), (4698, '에바'), (4699, '까먹'), (4700, '텐'), (4701, '어둠'), (4702, '그래두'), (4703, '내공'), (4704, '2008'), (4705, '실종'), (4706, '건물'), (4707, '무의미'), (4708, '쥐어짜'), (4709, '리암'), (4710, '후지'), (4711, '영감'), (4712, '압박'), (4713, '팍'), (4714, '아마도'), (4715, '선전'), (4716, '로다'), (4717, '아시아'), (4718, '토요'), (4719, '여진구'), (4720, '놀람'), (4721, '소수'), (4722, '급하'), (4723, '나와도'), (4724, '둘째'), (4725, '봤으니'), (4726, '낯'), (4727, '유치원생'), (4728, '밀려오'), (4729, '큼'), (4730, '니콜키드먼'), (4731, '연쇄'), (4732, '사춘기'), (4733, '마땅'), (4734, '흔들리'), (4735, '멜깁슨'), (4736, '똥폼'), (4737, '그리워'), (4738, '평타'), (4739, '백미'), (4740, '현상'), (4741, '가게'), (4742, '금방'), (4743, '첨보'), (4744, '나타난'), (4745, '늘리'), (4746, '종말'), (4747, '옹호'), (4748, '마루'), (4749, '충무로'), (4750, '각인'), (4751, '제도'), (4752, '스틸'), (4753, '닭'), (4754, '완소'), (4755, '차가운'), (4756, '닦'), (4757, '개미'), (4758, '안함'), (4759, '팝'), (4760, '사라져'), (4761, '떠오른다'), (4762, '지민'), (4763, '둥'), (4764, '어땠을까'), (4765, '논란'), (4766, '사로잡'), (4767, '완벽히'), (4768, '훈련'), (4769, '정유미'), (4770, '공효진'), (4771, '못생겼'), (4772, '이론'), (4773, '작중'), (4774, '이선균'), (4775, '시킨다'), (4776, '풍기'), (4777, '조커'), (4778, '쪼'), (4779, '싱'), (4780, '마련'), (4781, '옴니버스'), (4782, '지하철'), (4783, '저버리'), (4784, '린치'), (4785, '정답'), (4786, '원맨쇼'), (4787, '낯선'), (4788, '하얀'), (4789, '서서히'), (4790, '기부'), (4791, '감독판'), (4792, '어메이징'), (4793, '프로젝트'), (4794, '시킴'), (4795, '피스'), (4796, '요란'), (4797, '이종석'), (4798, '피하'), (4799, '이따'), (4800, '나미'), (4801, '싱겁'), (4802, 'my'), (4803, '고마워요'), (4804, '써먹'), (4805, '매기'), (4806, '인증'), (4807, '스탭'), (4808, '화난다'), (4809, 'MC'), (4810, '후유증'), (4811, '소방관'), (4812, '들인'), (4813, '농구'), (4814, '나비'), (4815, '공리'), (4816, '창의'), (4817, '기계'), (4818, '액'), (4819, '참혹'), (4820, '그치만'), (4821, '낭'), (4822, 'naver'), (4823, '연계'), (4824, '실망감'), (4825, 'very'), (4826, 'OCN'), (4827, '김수로'), (4828, '기승'), (4829, '유역비'), (4830, '졸립'), (4831, 'no'), (4832, '여도'), (4833, '잠든'), (4834, '그딴'), (4835, '본드'), (4836, '일으키'), (4837, '룡'), (4838, '잉여'), (4839, '성괴'), (4840, '찬란'), (4841, '예정'), (4842, '알아보'), (4843, '아웃'), (4844, '독백'), (4845, '독도'), (4846, '나빠'), (4847, '십니다'), (4848, '밝히'), (4849, '어벤져스'), (4850, '타입'), (4851, '찰리'), (4852, '버튼'), (4853, '채민서'), (4854, '망가지'), (4855, '무적'), (4856, '접한'), (4857, '비급'), (4858, '족'), (4859, '빠짐'), (4860, '가미'), (4861, '말기'), (4862, '본받'), (4863, '약속'), (4864, '망신'), (4865, '크리스토퍼'), (4866, '다녀온'), (4867, '달려'), (4868, '글쎄요'), (4869, '스펙타클'), (4870, '원망'), (4871, '도입부'), (4872, '공격'), (4873, '가만히'), (4874, '경이'), (4875, '일방'), (4876, '샷'), (4877, '희한'), (4878, '어유'), (4879, '일제'), (4880, '딘'), (4881, '서민'), (4882, '거시기'), (4883, '결과물'), (4884, '지상파'), (4885, '똘'), (4886, '돌렸'), (4887, '타짜'), (4888, '로부터'), (4889, '이여'), (4890, '오디션'), (4891, '주장'), (4892, '로렌스'), (4893, '히치콕'), (4894, '허준'), (4895, '제한'), (4896, '축'), (4897, '허비'), (4898, '오래오래'), (4899, '관계자'), (4900, '다수'), (4901, '하우스'), (4902, '넘겨'), (4903, '상자'), (4904, '정돈'), (4905, '서인국'), (4906, '터진다'), (4907, '벗기'), (4908, '성의'), (4909, '퀸'), (4910, '황금'), (4911, '복제'), (4912, '케로로'), (4913, '지켜보'), (4914, '헬'), (4915, '생뚱맞'), (4916, '으려나'), (4917, '아날로그'), (4918, '셜록'), (4919, '눈요기'), (4920, '어떨지'), (4921, '낌'), (4922, '우울증'), (4923, '라스'), (4924, '김래원'), (4925, '일기'), (4926, '다기'), (4927, '어리석'), (4928, '작작'), (4929, '여실히'), (4930, '신분'), (4931, '끊임없이'), (4932, '노무현'), (4933, '원초'), (4934, '수업'), (4935, 'm'), (4936, '어쨋든'), (4937, '성지'), (4938, '하네'), (4939, '신앙'), (4940, '시켜서'), (4941, '봤으나'), (4942, '라이'), (4943, '동원'), (4944, '브루스윌리스'), (4945, '주제곡'), (4946, '행운'), (4947, '계단'), (4948, '골든'), (4949, 'cgv'), (4950, '제공'), (4951, '농락'), (4952, '못지않'), (4953, '2002'), (4954, '2007'), (4955, '에니'), (4956, '교차'), (4957, '최대한'), (4958, '얄팍'), (4959, '덜덜'), (4960, '짐작'), (4961, '유승준'), (4962, '양산'), (4963, '구해'), (4964, '각지'), (4965, '보영'), (4966, '암시'), (4967, '그렸'), (4968, '피라냐'), (4969, '구매'), (4970, '독창'), (4971, '페이지'), (4972, '인내'), (4973, '하필'), (4974, '동경'), (4975, '레오'), (4976, '지속'), (4977, '잡아먹'), (4978, '엄태웅'), (4979, '찡하'), (4980, '외로운'), (4981, '밀려'), (4982, '장녀'), (4983, '이면'), (4984, '개웃'), (4985, '폴워커'), (4986, '악인'), (4987, '관심없'), (4988, '사막'), (4989, '드래곤'), (4990, '토르'), (4991, '볼라고'), (4992, '비씨'), (4993, '향'), (4994, '거슬린다'), (4995, '형태'), (4996, '취미'), (4997, '성향'), (4998, '절절'), (4999, '내놔'), (5000, '압축'), (5001, '화제'), (5002, '린다'), (5003, '구림'), (5004, '덴젤'), (5005, '탔'), (5006, '천녀'), (5007, '리그'), (5008, '카타르시스'), (5009, '공포감'), (5010, '으리으리'), (5011, '삼총사'), (5012, '균형'), (5013, '최하'), (5014, '퍼펙트'), (5015, '웃길'), (5016, '궁금증'), (5017, '근육'), (5018, '신동엽'), (5019, '어려웠'), (5020, '한다니'), (5021, '불꽃'), (5022, '버려서'), (5023, '의존'), (5024, '할까요'), (5025, '대가'), (5026, '애썼'), (5027, '디스'), (5028, '희극'), (5029, '아휴'), (5030, '매치'), (5031, '톰행크스'), (5032, '걸레'), (5033, 'me'), (5034, '마크'), (5035, '사라'), (5036, '대리'), (5037, '장만옥'), (5038, '왕따'), (5039, '마라'), (5040, '우수'), (5041, '끼친다'), (5042, '유도'), (5043, '부턴'), (5044, '박힌'), (5045, '어울릴'), (5046, '민주주의'), (5047, '통일'), (5048, '시바'), (5049, '헌터'), (5050, '전통'), (5051, '경지'), (5052, '졸린'), (5053, '뒤통수'), (5054, '시망'), (5055, '탁'), (5056, '사례'), (5057, '키드'), (5058, '편히'), (5059, '테스트'), (5060, '이완'), (5061, '벌레'), (5062, '바램'), (5063, '자존심'), (5064, '도다'), (5065, '계신'), (5066, '친일파'), (5067, '찌르'), (5068, '손꼽히'), (5069, '맥라이언'), (5070, '재연'), (5071, '망해'), (5072, '육체'), (5073, '아파'), (5074, '한몫'), (5075, '결제'), (5076, '로멘'), (5077, '톱'), (5078, '유행어'), (5079, '란다'), (5080, '봅시다'), (5081, '탐욕'), (5082, '토이'), (5083, '펙'), (5084, '충동'), (5085, '약해'), (5086, '선입견'), (5087, '때론'), (5088, '발암'), (5089, '장사'), (5090, '명예'), (5091, '한국식'), (5092, '하루하루'), (5093, '혼'), (5094, '누워'), (5095, '아름다워'), (5096, '2011'), (5097, '내린'), (5098, '비용'), (5099, '무도'), (5100, '브래드'), (5101, '모드'), (5102, '아담샌들러'), (5103, '유우'), (5104, '됌'), (5105, '웨'), (5106, '서세원'), (5107, '도망'), (5108, '봉태규'), (5109, '치명'), (5110, '호소'), (5111, '로버츠'), (5112, '강인'), (5113, '막스'), (5114, '낸다'), (5115, '하긴'), (5116, '한니발'), (5117, '인피니트'), (5118, '윌스미스'), (5119, '핵심'), (5120, '초콜릿'), (5121, '끝났으면'), (5122, '마피아'), (5123, '바비'), (5124, '걸려'), (5125, '깜'), (5126, '여군'), (5127, '질린다'), (5128, '못지'), (5129, '모를까'), (5130, '폭탄'), (5131, 'i'), (5132, '베낀'), (5133, '자녀'), (5134, '다길래'), (5135, '도로'), (5136, '444'), (5137, '부류'), (5138, '헬기'), (5139, '콜린'), (5140, '머니'), (5141, '놔서'), (5142, '보상'), (5143, '일어났'), (5144, '그럴싸하'), (5145, '대학교'), (5146, '아트'), (5147, '꺼라'), (5148, '췌'), (5149, '사신'), (5150, '동의'), (5151, '무장'), (5152, '조건'), (5153, 'but'), (5154, '흘러'), (5155, '뽀로로'), (5156, '차인표'), (5157, '쥔'), (5158, '일까요'), (5159, '소속'), (5160, '특성'), (5161, '뚫'), (5162, '테이크'), (5163, '허니'), (5164, '무려'), (5165, '블레이드'), (5166, '공상'), (5167, '설치'), (5168, '따라했'), (5169, '무표정'), (5170, '강박'), (5171, '지닌'), (5172, '천박'), (5173, '랏'), (5174, '브라이언'), (5175, '우드'), (5176, '맥어보이'), (5177, '야수'), (5178, '편지'), (5179, '지웠'), (5180, '초라'), (5181, '최진실'), (5182, '버금가'), (5183, '2006'), (5184, 'S'), (5185, '넘쳐나'), (5186, '지치'), (5187, '명량'), (5188, 'No'), (5189, '형편'), (5190, '유산'), (5191, '샀'), (5192, '넘친다'), (5193, '징그럽'), (5194, '머피'), (5195, '밍'), (5196, '이길'), (5197, '그걸로'), (5198, 'love'), (5199, '처참'), (5200, '소스'), (5201, '종이'), (5202, 'AV'), (5203, '드라마틱'), (5204, '물고기'), (5205, '화장'), (5206, '데미무어'), (5207, '다케시'), (5208, '부담없이'), (5209, '장미'), (5210, '재미난'), (5211, '외롭'), (5212, '단계'), (5213, '숭고'), (5214, '공익'), (5215, '안경'), (5216, '브금'), (5217, '끼쳤'), (5218, '목표'), (5219, '기반'), (5220, '잠자'), (5221, '핑'), (5222, '문제점'), (5223, '불멸'), (5224, '최지우'), (5225, '해운대'), (5226, '폐'), (5227, '릭'), (5228, '다는데'), (5229, '거린다'), (5230, '문구'), (5231, '신은경'), (5232, '이상실'), (5233, '귀한'), (5234, '는구만'), (5235, '실체'), (5236, '동참'), (5237, '해학'), (5238, '잔잔히'), (5239, '위치'), (5240, '바뀐'), (5241, '남동생'), (5242, '이터'), (5243, '타이밍'), (5244, '윤리'), (5245, 'L'), (5246, '샹'), (5247, '빈디젤'), (5248, '자전거'), (5249, '탕'), (5250, '기리'), (5251, '욕하'), (5252, '갔었'), (5253, '부성애'), (5254, '당대'), (5255, '펼치'), (5256, '쌤'), (5257, '도가니'), (5258, '무튼'), (5259, '데뷔'), (5260, '호화'), (5261, '고고'), (5262, '박신혜'), (5263, '삼국지'), (5264, '빠다'), (5265, '원작자'), (5266, '소유'), (5267, '빠진다'), (5268, '되돌아보'), (5269, '놀래'), (5270, '가져다'), (5271, '떠올랐'), (5272, '해놨'), (5273, '부대'), (5274, '방학'), (5275, '엑소'), (5276, '하여튼'), (5277, '캡틴'), (5278, '케이스'), (5279, '쿵푸'), (5280, '미만'), (5281, '불만'), (5282, '와나'), (5283, '맘대로'), (5284, '최강희'), (5285, '터질'), (5286, '슬로우'), (5287, '모션'), (5288, '이정현'), (5289, '권리'), (5290, '퓨'), (5291, '마동석'), (5292, '판치'), (5293, '썰렁'), (5294, '저건'), (5295, '챙기'), (5296, '강도'), (5297, '1990'), (5298, '반면'), (5299, '먹이'), (5300, '잘라'), (5301, '한결'), (5302, '어필'), (5303, '자비'), (5304, '며칠'), (5305, '움직임'), (5306, '모니터'), (5307, '4000'), (5308, '랍니다'), (5309, '29'), (5310, '헛소리'), (5311, '언더'), (5312, '아함'), (5313, '좌절'), (5314, '아일랜드'), (5315, '이나마'), (5316, '전범'), (5317, '변한'), (5318, '다세포'), (5319, 'sbs'), (5320, '맙소사'), (5321, '이런지'), (5322, '스페셜'), (5323, '27'), (5324, '기념'), (5325, '추석'), (5326, '콜린퍼스'), (5327, '묶'), (5328, '약자'), (5329, '취'), (5330, '별개'), (5331, '장담'), (5332, '기다'), (5333, '김승우'), (5334, '상승'), (5335, '오늘날'), (5336, '힌'), (5337, '문명'), (5338, '진국'), (5339, '트와일라잇'), (5340, '과제'), (5341, '개봉관'), (5342, '으라면'), (5343, '지라'), (5344, 'so'), (5345, '좁'), (5346, '인칭'), (5347, '무모'), (5348, '그림자'), (5349, 'av'), (5350, '소외'), (5351, '욕설'), (5352, '브로디'), (5353, '풋'), (5354, '부드럽'), (5355, '정글'), (5356, '스님'), (5357, '물질'), (5358, '충만'), (5359, '태권'), (5360, '꽁'), (5361, '성장기'), (5362, '생명체'), (5363, '포근'), (5364, '리라'), (5365, '크리스틴'), (5366, '부수'), (5367, '기승전결'), (5368, '엠마'), (5369, '밉'), (5370, '팬티'), (5371, '숭'), (5372, '개월'), (5373, '아키라'), (5374, '냄'), (5375, '하야오'), (5376, '마니아'), (5377, '저지르'), (5378, '88'), (5379, '놓칠'), (5380, '으니깐'), (5381, '웬지'), (5382, '적합'), (5383, '저딴'), (5384, '여전사'), (5385, '켠'), (5386, '귀여'), (5387, '진출'), (5388, '이분'), (5389, '테러리스트'), (5390, '빤'), (5391, '중구난방'), (5392, '파멸'), (5393, '전후'), (5394, '한쪽'), (5395, '축하'), (5396, '들으면'), (5397, '건달'), (5398, '쫄깃'), (5399, '철저히'), (5400, '수단'), (5401, '배슬기'), (5402, '폭파'), (5403, '해리'), (5404, '떠난'), (5405, '륵'), (5406, '으아'), (5407, '잣'), (5408, '95'), (5409, '나대'), (5410, '섞인'), (5411, '돋보인'), (5412, '통하'), (5413, '흘러나오'), (5414, '배두나'), (5415, '테이프'), (5416, '속이'), (5417, '이걸로'), (5418, '망침'), (5419, '결투'), (5420, '다가온다'), (5421, '조롱'), (5422, '꼽히'), (5423, '럽'), (5424, '쏠'), (5425, '고스트'), (5426, '산업'), (5427, '아이리스'), (5428, '라면서'), (5429, '윌'), (5430, '후하'), (5431, '어줍잖'), (5432, '느껴져서'), (5433, '돌아온'), (5434, '볼란다'), (5435, '떨어져서'), (5436, '헌신'), (5437, '담주'), (5438, '자질'), (5439, '원스'), (5440, '케이트'), (5441, '열차'), (5442, '단막극'), (5443, '라이트'), (5444, '기대치'), (5445, '금발'), (5446, '오줌'), (5447, '경쟁'), (5448, 'E'), (5449, '비됴'), (5450, '만만'), (5451, '윤시윤'), (5452, '연민'), (5453, '워킹'), (5454, '근본'), (5455, '정성'), (5456, '뻘'), (5457, '웅'), (5458, '의외로'), (5459, '치킨'), (5460, '박정희'), (5461, '공각'), (5462, '기동대'), (5463, 'ㅐ'), (5464, '통한'), (5465, '이슬람'), (5466, '초호'), (5467, '권하'), (5468, '무성'), (5469, '두뇌'), (5470, '손오공'), (5471, '타이타닉'), (5472, '해져'), (5473, '뚜렷'), (5474, '엿볼'), (5475, '지니어스'), (5476, '뒷부분'), (5477, '짤'), (5478, '충족'), (5479, '모처럼'), (5480, '승'), (5481, '미친다'), (5482, '하여금'), (5483, '데이트'), (5484, '탈락'), (5485, '꺼리'), (5486, '쿠바'), (5487, '맴도'), (5488, '단다'), (5489, '니미'), (5490, '생각날'), (5491, '초한지'), (5492, '스티브'), (5493, '늘어놓'), (5494, '앵'), (5495, '이제껏'), (5496, '떨리'), (5497, '돌림'), (5498, '살아갈'), (5499, '스칼렛'), (5500, '고마워'), (5501, '순간순간'), (5502, '읍니다'), (5503, 'ㅊ'), (5504, '하여간'), (5505, '위안부'), (5506, '어울려요'), (5507, '윽'), (5508, '울려'), (5509, '쯧'), (5510, '이야말로'), (5511, '재일'), (5512, '우월주의'), (5513, '송중기'), (5514, '헌'), (5515, '맞먹'), (5516, '드릅'), (5517, '10000'), (5518, '청'), (5519, '근대'), (5520, '라라'), (5521, '버무려'), (5522, '오지'), (5523, '살림'), (5524, '라더니'), (5525, '아가'), (5526, '기운'), (5527, '민영화'), (5528, '날림'), (5529, '바꿀'), (5530, '급급'), (5531, '금치'), (5532, '의아'), (5533, '낯설'), (5534, '부조리'), (5535, '이스라엘'), (5536, '뜨겁'), (5537, '심해'), (5538, '치중'), (5539, '느껴야'), (5540, '밉상'), (5541, '대립'), (5542, '수상'), (5543, '다던데'), (5544, '끝냈'), (5545, '유준상'), (5546, '세력'), (5547, 'ㅠㅠㅠㅠㅠ'), (5548, '새로울'), (5549, '것다'), (5550, '마져'), (5551, '다가왔'), (5552, '역부족'), (5553, '이수근'), (5554, '그땐'), (5555, '원제'), (5556, '보네'), (5557, '발차기'), (5558, '군데'), (5559, '델'), (5560, '생겨'), (5561, '치닫'), (5562, '클래스'), (5563, '뛰어났'), (5564, '개지'), (5565, '동정'), (5566, '괴롭히'), (5567, '시위'), (5568, '지연'), (5569, '화내'), (5570, '히틀러'), (5571, '거친'), (5572, '사골'), (5573, '이틀'), (5574, '바른'), (5575, '건담'), (5576, '돼요'), (5577, '워터'), (5578, '조성'), (5579, '심은하'), (5580, '휘'), (5581, '이득'), (5582, '평작'), (5583, '스키'), (5584, '뚝'), (5585, '고릴라'), (5586, '크리스'), (5587, '주민'), (5588, '헤어'), (5589, '침대'), (5590, '미니'), (5591, '곽지민'), (5592, '픽'), (5593, '전투기'), (5594, '후진'), (5595, '씨리'), (5596, '서른'), (5597, '쇼생크'), (5598, '올라오'), (5599, '올린'), (5600, '못해서'), (5601, '불러일으키'), (5602, '음모론'), (5603, '운지'), (5604, '장진영'), (5605, '서비스'), (5606, '상평'), (5607, '보삼'), (5608, '자르'), (5609, '분신'), (5610, '26'), (5611, '무방'), (5612, '에반'), (5613, '아무렇'), (5614, '물결'), (5615, '앞서간'), (5616, '획기'), (5617, '기여'), (5618, '접했'), (5619, '으려다'), (5620, 'ㅗ'), (5621, '기영화'), (5622, '와라'), (5623, '걸음'), (5624, '좋아한다면'), (5625, '웨이'), (5626, '도구'), (5627, '기원'), (5628, '구입'), (5629, '노다메'), (5630, '니슨'), (5631, '이대로'), (5632, '살인범'), (5633, '아자'), (5634, '감정이입'), (5635, '박스오피스'), (5636, '버려라'), (5637, '봣네요'), (5638, '견디'), (5639, '일어난'), (5640, '아유'), (5641, '류승룡'), (5642, '조여정'), (5643, '슴다'), (5644, '멋대로'), (5645, '해소'), (5646, '눈감'), (5647, '입가'), (5648, '월드컵'), (5649, '고루'), (5650, '죄책감'), (5651, '가만'), (5652, '주옥같'), (5653, '오죽'), (5654, '뜯'), (5655, '댈'), (5656, '폭소'), (5657, '반해'), (5658, '명언'), (5659, '허각'), (5660, '여명'), (5661, '서양인'), (5662, '고만'), (5663, '캐서린'), (5664, '샤말란'), (5665, '시어머니'), (5666, '했으니'), (5667, '김규리'), (5668, 'lt'), (5669, '어쩐지'), (5670, '보수'), (5671, '에로틱'), (5672, '지껄이'), (5673, '변'), (5674, '새드'), (5675, '소련'), (5676, '고선'), (5677, '간절'), (5678, '유치원'), (5679, '퍼지'), (5680, '붙잡'), (5681, '양키'), (5682, '박유천'), (5683, '레터'), (5684, '그로테스크'), (5685, '여우'), (5686, '패기'), (5687, '셔요'), (5688, '억압'), (5689, '고집'), (5690, '여사'), (5691, '스톤'), (5692, '바꿔라'), (5693, '모자이크'), (5694, '넘쳤'), (5695, '으다'), (5696, '할래'), (5697, '유승호'), (5698, '변해'), (5699, '종북'), (5700, '밖엔'), (5701, '연락'), (5702, '눈물샘'), (5703, 'ㅓ'), (5704, '되돌'), (5705, '조국'), (5706, '이상우'), (5707, '금포'), (5708, '구린'), (5709, '알차'), (5710, '강예원'), (5711, '갈릴'), (5712, '마이크'), (5713, '그려진'), (5714, '이리저리'), (5715, '전파'), (5716, '헷갈리'), (5717, '신다면'), (5718, '닝'), (5719, '불우'), (5720, '올시다'), (5721, '케이'), (5722, '종종'), (5723, '다면서'), (5724, '공장'), (5725, '제인'), (5726, '루지'), (5727, '쫄'), (5728, '호랑이'), (5729, '방울'), (5730, '여고생'), (5731, '변질'), (5732, '지혜'), (5733, '똥칠'), (5734, '아이러니'), (5735, '미키'), (5736, '야쿠자'), (5737, '무작정'), (5738, '동화책'), (5739, '빛났'), (5740, '튀기'), (5741, '동방'), (5742, '산타'), (5743, '유루'), (5744, '원한'), (5745, '과대'), (5746, '숀펜'), (5747, '인격'), (5748, '소원'), (5749, '완존'), (5750, '훅'), (5751, '모아서'), (5752, 'this'), (5753, '후속'), (5754, '기절'), (5755, 'ㅜㅜㅜㅜ'), (5756, '광해'), (5757, '일병'), (5758, '비트'), (5759, '솔로'), (5760, '저래'), (5761, '미성년자'), (5762, '옛다'), (5763, '93'), (5764, '콤'), (5765, '떨어뜨리'), (5766, '결'), (5767, '장동민'), (5768, '노리'), (5769, '정준호'), (5770, '상하'), (5771, '이자벨'), (5772, '정신없이'), (5773, '성동일'), (5774, '고개'), (5775, '밴'), (5776, '늘려'), (5777, '맥주'), (5778, '모름'), (5779, '국적'), (5780, '리티'), (5781, '파트너'), (5782, '게리온'), (5783, '결혼식'), (5784, '이브'), (5785, '두렵'), (5786, '신뢰'), (5787, '쓰러지'), (5788, '데스노트'), (5789, '쉐'), (5790, '호프만'), (5791, '놀랄'), (5792, '서사시'), (5793, '영화배우'), (5794, '비둘기'), (5795, '사정'), (5796, '아녀'), (5797, '다임'), (5798, '라이브'), (5799, '괴리'), (5800, '지능'), (5801, '1980'), (5802, '올드보이'), (5803, '십시오'), (5804, '인과'), (5805, '강했'), (5806, '스크림'), (5807, '부시'), (5808, '진자'), (5809, '시원시원'), (5810, '어리'), (5811, '지만은'), (5812, '펼쳐지'), (5813, '저능아'), (5814, '원한다면'), (5815, '울린다'), (5816, '라이프'), (5817, '짝사랑'), (5818, '된장'), (5819, '대영'), (5820, '미숙'), (5821, '간다는'), (5822, '모범'), (5823, '단조'), (5824, '막힌'), (5825, '동성애자'), (5826, '섞여'), (5827, '봉준호'), (5828, '창작'), (5829, 'It'), (5830, '환영'), (5831, 'gt'), (5832, '보낸'), (5833, '서사'), (5834, '김민준'), (5835, '제레미'), (5836, '할께요'), (5837, '정책'), (5838, '휴잭맨'), (5839, '쿠엔틴'), (5840, '독재'), (5841, '나른'), (5842, '권선징악'), (5843, '과감'), (5844, '붐'), (5845, '이준'), (5846, '역겨웠'), (5847, '교사'), (5848, '시계'), (5849, '흠뻑'), (5850, '인디언'), (5851, '나기'), (5852, '스포일러'), (5853, '릿'), (5854, '나아가'), (5855, '왔음'), (5856, '높여'), (5857, '뎀'), (5858, '창문'), (5859, '따르'), (5860, '늬'), (5861, '장백지'), (5862, '후배'), (5863, '달랐'), (5864, '썅'), (5865, '서바이벌'), (5866, '보편'), (5867, '오묘'), (5868, '이문식'), (5869, '네임'), (5870, '서태지'), (5871, '사자'), (5872, '메이저'), (5873, '탱고'), (5874, '슬슬'), (5875, '남겼'), (5876, '색기'), (5877, '이민호'), (5878, '유머러스'), (5879, '활'), (5880, '힛'), (5881, '거슬렸'), (5882, '중도'), (5883, '오덕'), (5884, '장기'), (5885, '일본어'), (5886, '롯데'), (5887, '인위'), (5888, '랍시고'), (5889, '총격전'), (5890, '무명'), (5891, '소비'), (5892, '완결'), (5893, '래도'), (5894, '설레이'), (5895, '지상'), (5896, '싱크로'), (5897, 'XX'), (5898, '훗'), (5899, '돕'), (5900, '김정은'), (5901, '푼'), (5902, '깔려'), (5903, '레드'), (5904, '추격전'), (5905, '진상'), (5906, '순례'), (5907, '밍밍'), (5908, '재벌'), (5909, '비포'), (5910, '윌리엄스'), (5911, '쓰리'), (5912, '텅'), (5913, '사이코패스'), (5914, '당해'), (5915, '떳'), (5916, '이루어지'), (5917, '니까요'), (5918, '살릴'), (5919, '전사'), (5920, '극대'), (5921, '됀'), (5922, '클라'), (5923, '하이라이트'), (5924, '타워'), (5925, '삽입'), (5926, '그런대로'), (5927, '굿바이'), (5928, '할텐데'), (5929, '드러난'), (5930, '녹음'), (5931, '뻑'), (5932, '컴'), (5933, '후련'), (5934, '정치인'), (5935, '츠'), (5936, '핑계'), (5937, '스토리텔링'), (5938, '라이더'), (5939, '다닐'), (5940, '삽질'), (5941, '주로'), (5942, '페미니즘'), (5943, '영화인'), (5944, '천천히'), (5945, '영화광'), (5946, '설리'), (5947, '맷데이먼'), (5948, '중견'), (5949, '훌쩍'), (5950, '서부터'), (5951, '습니'), (5952, '특선'), (5953, '장선우'), (5954, '최수종'), (5955, '당함'), (5956, '이질감'), (5957, '크리'), (5958, '야말로'), (5959, '넘쳐'), (5960, '해줘서'), (5961, '붙인'), (5962, '주진모'), (5963, '졌어요'), (5964, '시퀀스'), (5965, '서커스'), (5966, '온통'), (5967, '주네'), (5968, '틴'), (5969, '배제'), (5970, '보너스'), (5971, '객관적으로'), (5972, '리부트'), (5973, '세끼'), (5974, '웨스턴'), (5975, '마모루'), (5976, '돈다'), (5977, '룰'), (5978, '삼성'), (5979, '돌아왔'), (5980, '소서'), (5981, '로즈'), (5982, '김현주'), (5983, '어땠'), (5984, '쑈'), (5985, '다간'), (5986, '톱스타'), (5987, '주제가'), (5988, '이어서'), (5989, '기어'), (5990, '넷'), (5991, '전반부'), (5992, '흘릴'), (5993, '에라'), (5994, '웃긴데'), (5995, '경각심'), (5996, '주려'), (5997, '개운'), (5998, '햐'), (5999, '들어갈'), (6000, '감점'), (6001, 'bgm'), (6002, '후레쉬'), (6003, '파치노'), (6004, '인정받'), (6005, '싱어'), (6006, '기이'), (6007, '현란'), (6008, '유이'), (6009, '파도'), (6010, '싫어하'), (6011, '주요'), (6012, '큐라'), (6013, '자빠졌'), (6014, 'f'), (6015, '업그레이드'), (6016, '관우'), (6017, '수습'), (6018, '달린'), (6019, '컨데'), (6020, '반가웠'), (6021, '해봐도'), (6022, '새기'), (6023, '김민희'), (6024, 'ㅡㅜ'), (6025, '취지'), (6026, '김보성'), (6027, '말장난'), (6028, '달라서'), (6029, '협박'), (6030, '유해진'), (6031, '주문'), (6032, '쌍둥이'), (6033, '만행'), (6034, '멘스'), (6035, '무서워요'), (6036, '타잔'), (6037, '존나게'), (6038, '과언'), (6039, '어쩌구'), (6040, '르네'), (6041, '비행'), (6042, '성질'), (6043, '콩가루'), (6044, '역겨움'), (6045, '취하'), (6046, '액티비티'), (6047, '이라니'), (6048, '억지웃음'), (6049, '범작'), (6050, '애환'), (6051, '유튜브'), (6052, '멀미'), (6053, '빌려서'), (6054, '죄악'), (6055, '폴리스'), (6056, '맡기'), (6057, 'CF'), (6058, '장수'), (6059, '무지하'), (6060, '볼려'), (6061, '이정진'), (6062, '우려'), (6063, '여느'), (6064, '재해석'), (6065, '총격'), (6066, '멈출'), (6067, '마주'), (6068, '몸부림'), (6069, '둠'), (6070, '끼칠'), (6071, '쟝'), (6072, '오리지날'), (6073, '골랐'), (6074, '김창완'), (6075, '투쟁'), (6076, '추적'), (6077, '보리'), (6078, 'G'), (6079, '악어'), (6080, 'z'), (6081, '나치'), (6082, '안드로메다'), (6083, '모여서'), (6084, '발악'), (6085, '막무가내'), (6086, '러니'), (6087, '오름'), (6088, '헤헤'), (6089, '피노키오'), (6090, 'ㅡㅡㅋ'), (6091, '낡'), (6092, '스물'), (6093, '올랐'), (6094, '테론'), (6095, '키드먼'), (6096, '자아내'), (6097, '힐'), (6098, '디아즈'), (6099, '펴'), (6100, '아가씨'), (6101, '한구석'), (6102, '영하'), (6103, '이미연'), (6104, '베끼'), (6105, '김주혁'), (6106, '나나'), (6107, '우상'), (6108, '지쳐'), (6109, '해설'), (6110, '쌓'), (6111, '재생'), (6112, '주년'), (6113, '무고'), (6114, '안개'), (6115, '알맞'), (6116, '맞서'), (6117, '그리움'), (6118, '박물관'), (6119, '간신히'), (6120, '비약'), (6121, '성기'), (6122, '민국'), (6123, '희생자'), (6124, '드릴'), (6125, '답습'), (6126, '본데'), (6127, '꾸준히'), (6128, '운적'), (6129, '쳐다보'), (6130, '조쉬'), (6131, '불교'), (6132, '어게인'), (6133, '유오'), (6134, '새로움'), (6135, '장애인'), (6136, '데요'), (6137, '해리슨'), (6138, '인성'), (6139, '화보'), (6140, '지켜라'), (6141, '혹'), (6142, '딥'), (6143, '펜'), (6144, '초보'), (6145, '장비'), (6146, '울렸'), (6147, '공정'), (6148, '잡스'), (6149, '나인'), (6150, '강우석'), (6151, '존쿠삭'), (6152, '기다린'), (6153, '외계'), (6154, '김옥빈'), (6155, '작살'), (6156, '겜'), (6157, '유선'), (6158, '아이디'), (6159, '마이너'), (6160, '출생'), (6161, '벅찬'), (6162, '명장'), (6163, '시간대'), (6164, '건조'), (6165, '감싸'), (6166, '참으'), (6167, '김준호'), (6168, '후보'), (6169, '고난'), (6170, '퀼'), (6171, '긴박감'), (6172, '노라'), (6173, '루시'), (6174, '합쳐'), (6175, '눈살'), (6176, '아름다워요'), (6177, '울버린'), (6178, '박용우'), (6179, 'ㅇㅅㅇ'), (6180, '걸맞'), (6181, '환희'), (6182, '흐른다'), (6183, '다가가'), (6184, '투모로우'), (6185, '작성'), (6186, '얕'), (6187, '겠다는'), (6188, '떤'), (6189, '92'), (6190, '거늘'), (6191, '나눠'), (6192, '특정'), (6193, '야겠다'), (6194, '경력'), (6195, '끝남'), (6196, '인사'), (6197, '젬'), (6198, '140'), (6199, '김소연'), (6200, '현지'), (6201, '심함'), (6202, '같잖'), (6203, '쿵푸팬더'), (6204, '입체'), (6205, '킹콩'), (6206, '보고서'), (6207, '퍼센트'), (6208, '박진영'), (6209, '에스'), (6210, '123'), (6211, '뵈'), (6212, '씻'), (6213, '그럴듯한'), (6214, '리얼리즘'), (6215, '홀'), (6216, '루비'), (6217, '울부짖'), (6218, '디비'), (6219, '크크'), (6220, '윤재'), (6221, '출시'), (6222, '윤발'), (6223, '시덥잖'), (6224, '대다수'), (6225, '인내력'), (6226, '쇼킹'), (6227, '중고'), (6228, '저지른'), (6229, '점대'), (6230, '쫙'), (6231, '플러스'), (6232, '파탄'), (6233, '혼났'), (6234, '여태껏'), (6235, '심금'), (6236, '기타노'), (6237, '반점'), (6238, '달려가'), (6239, '비열'), (6240, '도배'), (6241, '지울'), (6242, '지못미'), (6243, '짝짝'), (6244, '칙칙'), (6245, '울린'), (6246, '엥'), (6247, '배워라'), (6248, '개병'), (6249, '아메리카'), (6250, '명절'), (6251, 'k'), (6252, '연출자'), (6253, '다물'), (6254, '주저'), (6255, '무릎'), (6256, '색히'), (6257, '흔해빠진'), (6258, '신발'), (6259, '은유'), (6260, '나무랄'), (6261, '박현지'), (6262, '무미건조'), (6263, '그래야'), (6264, '돌아다니'), (6265, '빠짐없이'), (6266, '눈앞'), (6267, '번방'), (6268, '와인'), (6269, '발리'), (6270, '요가'), (6271, '덴'), (6272, '줄께'), (6273, '망쳐놨'), (6274, '딸아이'), (6275, '극도'), (6276, '애비'), (6277, '유진'), (6278, '사귀'), (6279, '세심'), (6280, '알려진'), (6281, '간접'), (6282, '먹히'), (6283, '증오'), (6284, '머리카락'), (6285, '으휴'), (6286, '뺀'), (6287, '실천'), (6288, '떠날'), (6289, '길거리'), (6290, '대처'), (6291, '레이스'), (6292, '편향'), (6293, '가라'), (6294, '슬플'), (6295, '불리'), (6296, '앨리스'), (6297, '릴리'), (6298, '련'), (6299, '포커스'), (6300, '치부'), (6301, '따른'), (6302, '가위'), (6303, '겁나게'), (6304, '맞춰서'), (6305, '모지'), (6306, '꼴리'), (6307, '수영'), (6308, '33'), (6309, '바꿔서'), (6310, '신랑'), (6311, '연설'), (6312, '화이트'), (6313, '프리퀄'), (6314, '손잡'), (6315, '시대상'), (6316, '위협'), (6317, '맷'), (6318, '콜'), (6319, '뜰'), (6320, '빌린'), (6321, '인시디어스'), (6322, '강소라'), (6323, '더구만'), (6324, '키워'), (6325, '35'), (6326, '대답'), (6327, '진다는'), (6328, '갈망'), (6329, '혈압'), (6330, '이익'), (6331, '성시경'), (6332, '남상미'), (6333, '김윤석'), (6334, '불패'), (6335, '투더'), (6336, '관찰'), (6337, '마른'), (6338, '지친'), (6339, '버려야'), (6340, '부패'), (6341, '甲'), (6342, '뻔할'), (6343, '왠만해서'), (6344, '복귀'), (6345, '눈부신'), (6346, '핫'), (6347, '교양'), (6348, '뵙'), (6349, '절실'), (6350, '사업'), (6351, '안쓰럽'), (6352, '특별히'), (6353, '민간인'), (6354, '그토록'), (6355, '통제'), (6356, '지향'), (6357, '설득'), (6358, '사도'), (6359, '으루'), (6360, '구식'), (6361, '상품'), (6362, '94'), (6363, '기만'), (6364, '편성'), (6365, '축복'), (6366, '결승전'), (6367, '묵'), (6368, '조니'), (6369, '사악'), (6370, '수학'), (6371, '제시카알바'), (6372, 'up'), (6373, '모음'), (6374, '천하'), (6375, '개척'), (6376, 'be'), (6377, '알렉스'), (6378, '입력'), (6379, '혼합'), (6380, '보냈'), (6381, '명감독'), (6382, '종결'), (6383, '인줄'), (6384, '당당히'), (6385, '났었'), (6386, '무죄'), (6387, '떠서'), (6388, '괴기'), (6389, '혜'), (6390, '일거'), (6391, '출연자'), (6392, '시네마'), (6393, '댜'), (6394, '뼈'), (6395, '을라나'), (6396, '마법사'), (6397, '스나입스'), (6398, '해져서'), (6399, '매드'), (6400, '헝'), (6401, '깡'), (6402, '자국'), (6403, '눈알'), (6404, '성폭행'), (6405, '잔상'), (6406, '아랫'), (6407, '히스레저'), (6408, '떡칠'), (6409, '연구'), (6410, '비우'), (6411, '누드'), (6412, '하찮'), (6413, '애요'), (6414, '샌들러'), (6415, '으악'), (6416, '아하'), (6417, '끓'), (6418, '밸런스'), (6419, '아따'), (6420, '모니카'), (6421, '요기'), (6422, '조지클루니'), (6423, '오래간만'), (6424, '목숨걸'), (6425, '황'), (6426, '워크'), (6427, '마스크'), (6428, '남녀노소'), (6429, '댄'), (6430, '캠프'), (6431, '모시'), (6432, '별론데'), (6433, '반하'), (6434, '스머프'), (6435, 'SBS'), (6436, '호주'), (6437, '할려는'), (6438, 'ㅇㅇㅇ'), (6439, '석'), (6440, '오션스'), (6441, '세금'), (6442, '리들리'), (6443, '비평'), (6444, '망가진'), (6445, '乃'), (6446, '이룬'), (6447, '후후'), (6448, '그리스'), (6449, '꾸역꾸역'), (6450, '수식어'), (6451, '이서진'), (6452, '조장'), (6453, '떨어질'), (6454, '박한별'), (6455, '송윤아'), (6456, '비슷비슷'), (6457, '발가락'), (6458, '직설'), (6459, '봉전'), (6460, '콘'), (6461, '해줌'), (6462, '제자'), (6463, '삭'), (6464, '식당'), (6465, '무시무시'), (6466, '골라'), (6467, '오점'), (6468, '분열'), (6469, '매튜'), (6470, '표지'), (6471, '스팅'), (6472, '학예회'), (6473, '짖'), (6474, '아포칼립토'), (6475, '숫자'), (6476, '킹왕짱'), (6477, '어염'), (6478, '지상주의'), (6479, '곤란'), (6480, '히스'), (6481, '묘'), (6482, '허망'), (6483, '넘어서'), (6484, '세이'), (6485, '피부'), (6486, '정이건'), (6487, '박하'), (6488, '베를린'), (6489, '합격'), (6490, '달라지'), (6491, '송새벽'), (6492, '맛보'), (6493, '총기'), (6494, '건전'), (6495, '화살'), (6496, '날아가'), (6497, '미지근'), (6498, '절친'), (6499, '준다고'), (6500, '스토커'), (6501, '베토벤'), (6502, '터진'), (6503, '윤은혜'), (6504, '흘려'), (6505, '다지'), (6506, '청순'), (6507, '클로즈업'), (6508, '소심'), (6509, '올바른'), (6510, '소린지'), (6511, '85'), (6512, '정주'), (6513, '이빨'), (6514, '다며'), (6515, '산다는'), (6516, '에리카'), (6517, '우디앨런'), (6518, '꽃미남'), (6519, '하모니'), (6520, '짜맞추'), (6521, '지날수록'), (6522, '영역'), (6523, '반쪽'), (6524, '블러드'), (6525, '찐한'), (6526, '쌍벽'), (6527, '가르침'), (6528, '다짐'), (6529, '춘'), (6530, '눈높이'), (6531, '중점'), (6532, '맛없'), (6533, '특색'), (6534, '굴'), (6535, '다녀왔'), (6536, '조한선'), (6537, '괴상'), (6538, '긴급조치'), (6539, '현우'), (6540, '주식'), (6541, 'boring'), (6542, '쪼금'), (6543, '고대'), (6544, '풀어냈'), (6545, '싸인'), (6546, '비리'), (6547, '표출'), (6548, '스페이스'), (6549, '장황'), (6550, '든데'), (6551, '대견'), (6552, '분류'), (6553, '현명'), (6554, '부천'), (6555, '가르치'), (6556, '여지껏'), (6557, '토하'), (6558, '재판'), (6559, '패밀리'), (6560, '은행'), (6561, '닭살'), (6562, '샤를리즈'), (6563, '침략'), (6564, '레즈'), (6565, '포스트'), (6566, '훌'), (6567, '사이트'), (6568, '로썬'), (6569, '꼬집'), (6570, '후편'), (6571, '영애'), (6572, 'SM'), (6573, '그날'), (6574, '디지'), (6575, '댔'), (6576, '이미숙'), (6577, '붕가'), (6578, '유부녀'), (6579, '기막힌'), (6580, '틀린'), (6581, '핡'), (6582, '준수'), (6583, '구로사와'), (6584, '발정'), (6585, '달인'), (6586, '명백'), (6587, '박시환'), (6588, '문자'), (6589, '모건'), (6590, '코너'), (6591, '쌀'), (6592, '1997'), (6593, '여부'), (6594, '우베볼'), (6595, '시켜라'), (6596, '줄이'), (6597, '두근거리'), (6598, '압'), (6599, '몸짓'), (6600, '쇠'), (6601, '샤워'), (6602, '저격'), (6603, '쯔'), (6604, '리쉬'), (6605, '누워서'), (6606, '얼음'), (6607, '폰부스'), (6608, '지겨움'), (6609, '이집트'), (6610, '류덕환'), (6611, '짜장면'), (6612, '미사일'), (6613, '봇'), (6614, '예감'), (6615, '늘어진다'), (6616, '감우성'), (6617, '게리올드만'), (6618, '냉소'), (6619, '들려'), (6620, '봣던'), (6621, '누리'), (6622, '떴'), (6623, '킴'), (6624, '강철'), (6625, '무한도전'), (6626, '재수'), (6627, '이쁜데'), (6628, '한반도'), (6629, '을수록'), (6630, '레벨'), (6631, '김아중'), (6632, '맥락'), (6633, '거참'), (6634, '이지아'), (6635, '면은'), (6636, '기초'), (6637, '냉혹'), (6638, '직장인'), (6639, '에바그린'), (6640, '끌어내'), (6641, '내릴'), (6642, '김우빈'), (6643, '아름다우'), (6644, '생길'), (6645, '복싱'), (6646, '나래'), (6647, '홈즈'), (6648, '권장'), (6649, '두세'), (6650, '퍼포먼스'), (6651, '워쇼스키'), (6652, '뱉'), (6653, '싸이'), (6654, '막막'), (6655, '럭'), (6656, '인하'), (6657, '가물가물'), (6658, '아아아'), (6659, '정복'), (6660, '도서관'), (6661, '쟤'), (6662, '파이널'), (6663, '다더니'), (6664, '애서'), (6665, '갚'), (6666, '똑'), (6667, '소유진'), (6668, '세우'), (6669, '워스트'), (6670, '1998'), (6671, '김수미'), (6672, '으므로'), (6673, '동양인'), (6674, '빚'), (6675, '할라고'), (6676, '제라드'), (6677, '디젤'), (6678, '뇬'), (6679, '레고'), (6680, '산드라'), (6681, '토요일'), (6682, '꾀'), (6683, '강남'), (6684, '초중'), (6685, '장엄'), (6686, '잡탕'), (6687, '테마'), (6688, '세용'), (6689, '해적'), (6690, '웡'), (6691, '45'), (6692, '데려다가'), (6693, '통찰'), (6694, '89'), (6695, '예쁘다'), (6696, '징징대'), (6697, '추상'), (6698, '엎'), (6699, '민호'), (6700, '거침없이'), (6701, '애쓴'), (6702, '악한'), (6703, '유아인'), (6704, '뜻깊'), (6705, '스틱'), (6706, '이기심'), (6707, '아파서'), (6708, '참내'), (6709, '했어야'), (6710, '시한부'), (6711, '걔'), (6712, '벨라'), (6713, '보라'), (6714, '꼬이'), (6715, '생전'), (6716, '토크'), (6717, '기능'), (6718, '으으'), (6719, '캡'), (6720, '이안'), (6721, '치매'), (6722, '안젤리나'), (6723, '광대'), (6724, '견줄'), (6725, '함축'), (6726, '연대기'), (6727, '클레이'), (6728, '눌러'), (6729, '소수자'), (6730, '밀라요보비치'), (6731, '데기'), (6732, '개구리'), (6733, '허락'), (6734, '저럴'), (6735, '멎'), (6736, '유희'), (6737, '운영'), (6738, '계급'), (6739, '허리'), (6740, '몽골'), (6741, '오래가'), (6742, '마돈나'), (6743, '브라질'), (6744, '삼촌'), (6745, '상관없이'), (6746, '투입'), (6747, '고소'), (6748, '주의자'), (6749, '반항'), (6750, '쟁쟁'), (6751, '즈음'), (6752, '문소리'), (6753, '오컬트'), (6754, '테일러'), (6755, '세븐'), (6756, '깐'), (6757, '댄싱'), (6758, '공군'), (6759, '믹'), (6760, '땡기'), (6761, '박진희'), (6762, '종편'), (6763, '납'), (6764, '뿌려'), (6765, '파이트'), (6766, '노란'), (6767, '올려야'), (6768, '명분'), (6769, '윌리엄'), (6770, '84'), (6771, '쿼터'), (6772, '빽'), (6773, '변함없'), (6774, '워싱턴'), (6775, '자니'), (6776, '월화'), (6777, '비웃'), (6778, '돌아갈'), (6779, '오정세'), (6780, '경치'), (6781, '쉣'), (6782, '달래'), (6783, '퇴폐'), (6784, '보람'), (6785, '자연스레'), (6786, '휴지'), (6787, '위선'), (6788, '격투기'), (6789, '진가'), (6790, '아파트'), (6791, '판타스틱'), (6792, '싱크'), (6793, '쪄'), (6794, '탱크'), (6795, '파고드'), (6796, '이동진'), (6797, '바르'), (6798, '내주'), (6799, '받쳐'), (6800, '닉'), (6801, '여럿'), (6802, '갤'), (6803, '과분'), (6804, '돌프'), (6805, '고아라'), (6806, 'ever'), (6807, '총싸움'), (6808, '이내'), (6809, '배틀'), (6810, '해내'), (6811, '아름다워서'), (6812, '하트'), (6813, '뿐이'), (6814, '어우러져'), (6815, '에잇'), (6816, '바이블'), (6817, '비비'), (6818, '00'), (6819, '권투'), (6820, '뛴다'), (6821, '음산'), (6822, '노아'), (6823, '교통사고'), (6824, '배트'), (6825, '소위'), (6826, '고른'), (6827, '써본다'), (6828, '이보영'), (6829, '말코비치'), (6830, '김대희'), (6831, '허허허'), (6832, '흔치'), (6833, '왤캐'), (6834, '오열'), (6835, '꺼버린'), (6836, '톰하디'), (6837, '버디'), (6838, '보입니다'), (6839, '뚜'), (6840, '당위'), (6841, '누굴'), (6842, '일리'), (6843, '강원도'), (6844, '산뜻'), (6845, '고추'), (6846, '내인생의'), (6847, '싱거운'), (6848, '꺼지'), (6849, '차갑'), (6850, '단면'), (6851, '믹스'), (6852, '면상'), (6853, '순정'), (6854, '강수연'), (6855, '월요일'), (6856, '류승완'), (6857, '남북'), (6858, '앤드류'), (6859, '사촌'), (6860, '페이스'), (6861, '다라'), (6862, '돌아간'), (6863, '장교'), (6864, '숨막히'), (6865, '카메오'), (6866, '괴로웠'), (6867, '마술'), (6868, '싸대'), (6869, '뷰'), (6870, '인대'), (6871, '낮춰야'), (6872, '비긴'), (6873, '처벌'), (6874, '배틀로얄'), (6875, '국회의원'), (6876, '드러운'), (6877, '나위'), (6878, '루크'), (6879, '싯'), (6880, '김윤진'), (6881, '싸웠'), (6882, '들어와'), (6883, '에여'), (6884, '오오'), (6885, '중독자'), (6886, '펑'), (6887, '감격'), (6888, '조안'), (6889, '건너'), (6890, '라운드'), (6891, '토미'), (6892, '바둑'), (6893, '박시후'), (6894, '사물'), (6895, '김지수'), (6896, '신다'), (6897, '아나운서'), (6898, '날라'), (6899, '감출'), (6900, '무덤'), (6901, '바라본'), (6902, '이이'), (6903, '댄서'), (6904, '취해'), (6905, '뭍'), (6906, '정식'), (6907, '놀라움'), (6908, '영호'), (6909, '바쁜'), (6910, '놔두'), (6911, '방송국'), (6912, '토비'), (6913, '을래'), (6914, '이해력'), (6915, '들여서'), (6916, '이요원'), (6917, '아니면'), (6918, '강용석'), (6919, '약함'), (6920, '대요'), (6921, '랭'), (6922, '비노쉬'), (6923, '개고생'), (6924, '탐정'), (6925, '나락'), (6926, '감회'), (6927, '대세'), (6928, '서영희'), (6929, '닌'), (6930, '전무후무'), (6931, '선한'), (6932, '자칭'), (6933, '갑시다'), (6934, '배신감'), (6935, '퍼시픽'), (6936, '전두환'), (6937, '화재'), (6938, '견딜'), (6939, '바디'), (6940, '패틴슨'), (6941, '사토시'), (6942, '탄압'), (6943, '버스터'), (6944, '트리'), (6945, '일치'), (6946, '스마트폰'), (6947, '좃'), (6948, '여학생'), (6949, '포레스트'), (6950, '서유기'), (6951, '총각'), (6952, '으실'), (6953, '바꼈'), (6954, '유전자'), (6955, '올라'), (6956, '미생'), (6957, '보태'), (6958, '챙피'), (6959, '운다'), (6960, '세세'), (6961, '박력'), (6962, '식구'), (6963, '드팔마'), (6964, '므'), (6965, '이모'), (6966, '그럴싸'), (6967, '고조'), (6968, '시켜야'), (6969, '진전'), (6970, '레즈비언'), (6971, '이곳'), (6972, '입술'), (6973, '생생히'), (6974, '역동'), (6975, '따라잡'), (6976, '개똥철학'), (6977, '쌔'), (6978, '그루'), (6979, '이루어진'), (6980, '수천'), (6981, '매료'), (6982, '더러움'), (6983, '크로우'), (6984, '판사'), (6985, '심판'), (6986, '고파'), (6987, '이경영'), (6988, '꼬꼬마'), (6989, '영리'), (6990, '문채원'), (6991, '소시'), (6992, '정무문'), (6993, '남길'), (6994, '낚일'), (6995, 'what'), (6996, '참패'), (6997, '필립'), (6998, '대왕'), (6999, '지니'), (7000, '체인지'), (7001, '넘버'), (7002, '리플'), (7003, '막말'), (7004, '할리'), (7005, '묻히'), (7006, '금성무'), (7007, '노고'), (7008, '부처'), (7009, '요거'), (7010, '바랄'), (7011, '이태임'), (7012, '쪽팔리'), (7013, '뛰어다니'), (7014, '크기'), (7015, '무심코'), (7016, '옮겨'), (7017, '루카스'), (7018, '프리'), (7019, '잼따'), (7020, '정준영'), (7021, '무관'), (7022, '입맛'), (7023, '김지운'), (7024, '필모그래피'), (7025, '뽀뽀'), (7026, '만지'), (7027, '미련'), (7028, '불신'), (7029, '의의'), (7030, '보듬'), (7031, '썬'), (7032, '곽부성'), (7033, '주변인'), (7034, '흥겹'), (7035, '들어감'), (7036, '수도'), (7037, '탐험'), (7038, '부드러운'), (7039, '천상'), (7040, '개오'), (7041, '징징'), (7042, '악행'), (7043, '각외'), (7044, '오드리'), (7045, '따라올'), (7046, '연발'), (7047, '제국주의'), (7048, '승자'), (7049, '하녀'), (7050, '아이덴티티'), (7051, '차려'), (7052, '장예모'), (7053, '안다는'), (7054, 'am'), (7055, '큰일'), (7056, 'Best'), (7057, '한층'), (7058, '오가'), (7059, '괴롭'), (7060, '해당'), (7061, '거칠'), (7062, '방대'), (7063, '쇼크'), (7064, '꼬박꼬박'), (7065, '말론'), (7066, 'sm'), (7067, '챔피언'), (7068, '가득찬'), (7069, '깨지'), (7070, '평온'), (7071, '수퍼'), (7072, '스티'), (7073, '러블리'), (7074, '한낱'), (7075, '손꼽'), (7076, '올인'), (7077, '연평해전'), (7078, '게리'), (7079, '돌려줘'), (7080, '합작'), (7081, '마더'), (7082, '파이터'), (7083, '김대중'), (7084, '공평'), (7085, '우스꽝'), (7086, '강의'), (7087, '오감'), (7088, '경고'), (7089, '제격'), (7090, '만드신'), (7091, '개재'), (7092, '가필드'), (7093, '발성'), (7094, '나비효과'), (7095, '달린다'), (7096, '될까요'), (7097, '탱'), (7098, '읎'), (7099, 'top'), (7100, '기다림'), (7101, 'ㅠㅠㅠㅠㅠㅠ'), (7102, '흘린'), (7103, '1970'), (7104, '타격'), (7105, '못난이'), (7106, '라네'), (7107, '쭈욱'), (7108, '유코'), (7109, '안중근'), (7110, '반가운'), (7111, '퓨전'), (7112, '덧'), (7113, '출동'), (7114, '방어'), (7115, '껍데기'), (7116, '역경'), (7117, '싸가지'), (7118, '쵸'), (7119, '거미'), (7120, '욜'), (7121, '생일'), (7122, '죵'), (7123, '뺨'), (7124, '쏟아지'), (7125, '뒷맛'), (7126, '정극'), (7127, '둔갑'), (7128, '두려워'), (7129, '찜'), (7130, '왔다갔다'), (7131, '할매'), (7132, '소금'), (7133, '담당'), (7134, '짱깨'), (7135, '넘침'), (7136, '해집니다'), (7137, '라이토'), (7138, '스펙터클'), (7139, '추모'), (7140, 'p'), (7141, '달라진'), (7142, '들어맞'), (7143, '만든다고'), (7144, '무당'), (7145, '벗어난'), (7146, '펀치'), (7147, '찬다'), (7148, '연속극'), (7149, '줄게'), (7150, '줄리아로버츠'), (7151, '베테랑'), (7152, '한창'), (7153, '검술'), (7154, '흘러간다'), (7155, '아이언'), (7156, '최신'), (7157, '리브스'), (7158, 'for'), (7159, '끌려'), (7160, '코끼리'), (7161, '느껴집니다'), (7162, '스승'), (7163, '효과음'), (7164, '솜'), (7165, '국민학교'), (7166, '나오코'), (7167, '낚시질'), (7168, '아씨'), (7169, '충돌'), (7170, '소림사'), (7171, '돠'), (7172, '꾸미'), (7173, '선교'), (7174, '무력'), (7175, '이겼'), (7176, '착오'), (7177, '최곤데'), (7178, '연예'), (7179, '널리'), (7180, '도리'), (7181, '브레이크'), (7182, 'not'), (7183, 'that'), (7184, '야마카시'), (7185, '내세운'), (7186, '식겁'), (7187, '다던'), (7188, '오버액션'), (7189, '키아누리브스'), (7190, '사바'), (7191, '클릭'), (7192, '출'), (7193, '미지'), (7194, '도발'), (7195, '먹방'), (7196, '긴데'), (7197, '들이'), (7198, '느껴진'), (7199, '볼래'), (7200, '비운'), (7201, '발하'), (7202, '다람쥐'), (7203, '티켓'), (7204, '세밀'), (7205, '기념비'), (7206, '약했'), (7207, '힝'), (7208, '현대판'), (7209, '어따'), (7210, '렸다'), (7211, '더락'), (7212, '경향'), (7213, '올드'), (7214, '당께'), (7215, '수녀'), (7216, '수년'), (7217, '알포인트'), (7218, '지켜야'), (7219, '해맑'), (7220, '티라노'), (7221, '좋아'), (7222, 'Z'), (7223, '미미'), (7224, '나잇'), (7225, '어우러지'), (7226, '옮기'), (7227, '지나쳤'), (7228, '절실히'), (7229, '눈꼽'), (7230, '시궁창'), (7231, '충실하'), (7232, '안전'), (7233, '아닐까요'), (7234, '명탐정'), (7235, '블럭'), (7236, '워라'), (7237, '가두'), (7238, '라디오'), (7239, '전원'), (7240, '거꾸로'), (7241, '유동근'), (7242, '건드리'), (7243, '회자'), (7244, '팬텀'), (7245, '링컨'), (7246, '언젠간'), (7247, '초대'), (7248, '스티븐시걸'), (7249, '대회'), (7250, '코스트너'), (7251, '기세'), (7252, '호모'), (7253, '할로윈'), (7254, '벌리'), (7255, '숨기'), (7256, '을껄'), (7257, '울궈먹'), (7258, '트라우마'), (7259, '허점'), (7260, '주걸륜'), (7261, '코폴라'), (7262, '긴말'), (7263, '재희'), (7264, '요한슨'), (7265, '김동완'), (7266, '구속'), (7267, '기름'), (7268, '램'), (7269, '비춰'), (7270, '쨩'), (7271, '바꿔야'), (7272, '미니언'), (7273, '그은'), (7274, '삽입곡'), (7275, '크로넨버그'), (7276, '극우'), (7277, '니라'), (7278, '성냥팔이'), (7279, '재림'), (7280, '무서워하'), (7281, '데려가'), (7282, '홍련'), (7283, '리오'), (7284, '수긍'), (7285, '밑바닥'), (7286, '부러웠'), (7287, '수행'), (7288, '고마'), (7289, '동포'), (7290, '보여요'), (7291, '안소니'), (7292, '생긴다'), (7293, '원본'), (7294, '리더'), (7295, '샤론'), (7296, '회수'), (7297, '한들'), (7298, '결여'), (7299, '어리버리'), (7300, '진영'), (7301, '뤽'), (7302, '내심'), (7303, 'v'), (7304, '요괴'), (7305, '불문'), (7306, '끊이'), (7307, '깬다'), (7308, '틸'), (7309, '배끼'), (7310, '느라고'), (7311, '귀여우'), (7312, '리언'), (7313, '띄우'), (7314, '순서'), (7315, '설계'), (7316, '애교'), (7317, '눈시울'), (7318, '느려'), (7319, '졸이'), (7320, '바이올린'), (7321, '황정음'), (7322, '정경호'), (7323, '자이언트'), (7324, '끝장'), (7325, '해바라기'), (7326, '폐해'), (7327, '정직'), (7328, 'But'), (7329, '일진'), (7330, '덴젤워싱턴'), (7331, '툭'), (7332, '바쁘'), (7333, '서영'), (7334, '화성'), (7335, '요세'), (7336, '호연'), (7337, '아오이유우'), (7338, '소망'), (7339, '비스'), (7340, '에어'), (7341, 'pd'), (7342, '역겨워'), (7343, '음란'), (7344, '노릇'), (7345, 'BGM'), (7346, '시네'), (7347, '내지'), (7348, '비틀즈'), (7349, '태극기'), (7350, '벌이'), (7351, '자란'), (7352, '돌고래'), (7353, '32'), (7354, '네이션'), (7355, '렌'), (7356, '감추'), (7357, '날개'), (7358, '모던'), (7359, '코끝'), (7360, 'are'), (7361, '노린'), (7362, '투명'), (7363, '911'), (7364, '걸림'), (7365, '귓가'), (7366, '오후'), (7367, '악령'), (7368, '써니'), (7369, '하루카'), (7370, '극히'), (7371, '질려'), (7372, '괘'), (7373, '끈끈'), (7374, '해병대'), (7375, '불친절'), (7376, '본래'), (7377, '이제훈'), (7378, '브란도'), (7379, '김고은'), (7380, '레인져'), (7381, '정수'), (7382, '헨리'), (7383, '한판'), (7384, '처지'), (7385, '몰르'), (7386, '방지'), (7387, '우마서먼'), (7388, '꺄'), (7389, '재즈'), (7390, '폐인'), (7391, '제타'), (7392, '파란만장'), (7393, '저걸'), (7394, '고리타분'), (7395, '간결'), (7396, '한대'), (7397, '애써'), (7398, 'GOOD'), (7399, '지망'), (7400, '내부'), (7401, '영점'), (7402, '쫄딱'), (7403, '씽'), (7404, '신지'), (7405, '친근'), (7406, '여백'), (7407, '에밀리'), (7408, '프랭크'), (7409, '컬러'), (7410, '아닙니까'), (7411, '올리비아'), (7412, '래디'), (7413, '한류'), (7414, '매체'), (7415, '04'), (7416, '여성부'), (7417, '천지'), (7418, '운전'), (7419, '입양'), (7420, '뒷모습'), (7421, '애청자'), (7422, '심플'), (7423, '보낼'), (7424, '닳'), (7425, '시끄러워서'), (7426, '큽니다'), (7427, '고군분투'), (7428, '빈틈'), (7429, '매길'), (7430, '염정아'), (7431, '홍석천'), (7432, '모였'), (7433, '니모'), (7434, '당첨'), (7435, '흙'), (7436, '연개'), (7437, '태권브이'), (7438, '스트립'), (7439, '으로부터'), (7440, '메가'), (7441, '케이온'), (7442, '주리'), (7443, '유방'), (7444, '라디오스타'), (7445, '자신감'), (7446, '튀어나오'), (7447, '공략'), (7448, '권총'), (7449, '다이'), (7450, '바스코'), (7451, '안달'), (7452, '키이라'), (7453, '머금'), (7454, '은희'), (7455, '고은'), (7456, '팜'), (7457, '미아'), (7458, '뚱뚱'), (7459, '참가자'), (7460, '우물'), (7461, '빼앗'), (7462, '가발'), (7463, '제대'), (7464, '버킷'), (7465, '개그콘서트'), (7466, '살해'), (7467, '정은지'), (7468, '빔'), (7469, '재기'), (7470, '온전히'), (7471, '점차'), (7472, '친척'), (7473, '살아온'), (7474, '갈팡질팡'), (7475, '빙빙'), (7476, '사치'), (7477, '홍경인'), (7478, '아이템'), (7479, '느껴져'), (7480, '능청'), (7481, '공자'), (7482, '부러'), (7483, '문란'), (7484, '파트'), (7485, '유투'), (7486, '밤새'), (7487, '쨋'), (7488, 'P'), (7489, '룸'), (7490, '시내'), (7491, 'H'), (7492, '로드리게즈'), (7493, '넘사벽'), (7494, '체제'), (7495, '드릴게요'), (7496, '하느님'), (7497, '수능'), (7498, '성욕'), (7499, '미덕'), (7500, '균'), (7501, '넘버원'), (7502, 'or'), (7503, '홍어'), (7504, '슈퍼스타'), (7505, '템포'), (7506, '귀여니'), (7507, '오픈'), (7508, '뉘'), (7509, '놓쳤'), (7510, '뺐'), (7511, '지지부진'), (7512, '컬'), (7513, '외설'), (7514, '물중'), (7515, '화가'), (7516, '쓸모없'), (7517, '맹목'), (7518, '훔치'), (7519, '시초'), (7520, '편협'), (7521, '유죄'), (7522, '찰리채플린'), (7523, '카페'), (7524, '떨어뜨린다'), (7525, '요청'), (7526, '휴대폰'), (7527, '말년'), (7528, '더구나'), (7529, '돌릴'), (7530, '임요환'), (7531, '모른다는'), (7532, '썩어빠진'), (7533, '교묘'), (7534, '신랄'), (7535, '별생각'), (7536, '쪙'), (7537, '꼬리'), (7538, '여긴'), (7539, '뒷이야기'), (7540, '번지르르'), (7541, '임금'), (7542, '멜로디'), (7543, '클로이'), (7544, '데이즈'), (7545, '발킬머'), (7546, '소중히'), (7547, '존트라볼타'), (7548, '나타낸'), (7549, '순식간'), (7550, '아까우'), (7551, '맬'), (7552, '흉내내'), (7553, '책임감'), (7554, '암것도'), (7555, '차려라'), (7556, '범벅'), (7557, '죽여도'), (7558, '존슨'), (7559, '댄다'), (7560, '소릴'), (7561, '멍하니'), (7562, '몰라요'), (7563, '프렌즈'), (7564, '몹시'), (7565, '우산'), (7566, '고평'), (7567, '스콜세지'), (7568, '썸머'), (7569, '평등'), (7570, '난장판'), (7571, '숨죽이'), (7572, 'V'), (7573, '양념'), (7574, '바뀔'), (7575, '남여'), (7576, '겠어요'), (7577, '치우'), (7578, '일부분'), (7579, '패닝'), (7580, '애뜻'), (7581, '도망치'), (7582, '통속'), (7583, 'bbbb'), (7584, '샤이니'), (7585, '오락물'), (7586, '눈길'), (7587, '최종'), (7588, '베꼈'), (7589, '불렀'), (7590, '레디'), (7591, '코미'), (7592, '48'), (7593, 'blog'), (7594, '동성'), (7595, '경상도'), (7596, '승질'), (7597, '소지'), (7598, 'on'), (7599, '일류'), (7600, '82'), (7601, '카펜터'), (7602, '모조리'), (7603, '갸'), (7604, '크리스찬베일'), (7605, '하울'), (7606, '밥맛'), (7607, '남겨진'), (7608, '최상'), (7609, '이명박'), (7610, '과자'), (7611, '히로'), (7612, '특공대'), (7613, '허영'), (7614, '느림'), (7615, '빙자'), (7616, '전우치'), (7617, '은밀'), (7618, '웰'), (7619, '얽히'), (7620, '이소연'), (7621, '이국'), (7622, '르노'), (7623, '따라간다'), (7624, '엘리베이터'), (7625, '이시영'), (7626, '장학우'), (7627, '투니'), (7628, '우마'), (7629, '토토'), (7630, '미친놈'), (7631, '절벽'), (7632, '장화'), (7633, '제이콥'), (7634, '삼각'), (7635, '놈놈놈'), (7636, '벗어날'), (7637, '희열'), (7638, '독보'), (7639, '사탄'), (7640, '클리프'), (7641, '다이빙'), (7642, '사뭇'), (7643, '스미스'), (7644, '얼간이'), (7645, '주구장창'), (7646, '증언'), (7647, '어스'), (7648, '무협물'), (7649, '이지나'), (7650, '판빙빙'), (7651, '마미'), (7652, '피어스'), (7653, '아담스'), (7654, '96'), (7655, '초저'), (7656, '컨대'), (7657, '이하늬'), (7658, '속터지'), (7659, '다네요'), (7660, '오염'), (7661, '최시원'), (7662, '중국어'), (7663, '모자르'), (7664, '백제'), (7665, '폭동'), (7666, '옆집'), (7667, '좋아한다'), (7668, '할려면'), (7669, '79'), (7670, '정녕'), (7671, '불타'), (7672, '놀라웠'), (7673, '짠해'), (7674, '갇힌'), (7675, '대장'), (7676, '습격'), (7677, '바란'), (7678, '대인'), (7679, '닮음'), (7680, '풍광'), (7681, '이불'), (7682, '150'), (7683, '십니까'), (7684, '주부'), (7685, '흐믓'), (7686, '더이다'), (7687, '깎아내리'), (7688, '생산'), (7689, '복장'), (7690, '망설이'), (7691, '가져'), (7692, 'REC'), (7693, '턱'), (7694, '대륙'), (7695, '디지털'), (7696, '김병만'), (7697, '알아듣'), (7698, '87'), (7699, '하하하하'), (7700, '그랬음'), (7701, '굵'), (7702, '돌이켜'), (7703, '고치'), (7704, '펼쳐'), (7705, '정교'), (7706, '소송'), (7707, '핑크'), (7708, '때묻'), (7709, '회차'), (7710, '려구요'), (7711, '알콩달콩'), (7712, '훔쳐'), (7713, '유재석'), (7714, '마력'), (7715, '사납'), (7716, '독수리'), (7717, '올립니다'), (7718, '사기극'), (7719, '김정화'), (7720, '벌려'), (7721, '브레드'), (7722, '어려워'), (7723, '자다'), (7724, '그리도'), (7725, '대머리'), (7726, '시대극'), (7727, '저냥'), (7728, '육'), (7729, '한잔'), (7730, '떨어집니다'), (7731, '심보'), (7732, '만드셨'), (7733, '내기'), (7734, '종족'), (7735, '바람둥이'), (7736, '기생'), (7737, '찾아왔'), (7738, '조크'), (7739, '나탈리'), (7740, '던질'), (7741, '가져야'), (7742, '구해서'), (7743, '했으며'), (7744, '농장'), (7745, '카지노'), (7746, '표방'), (7747, '훗날'), (7748, '고창석'), (7749, 'ㄲ'), (7750, '스텔론'), (7751, '욕했'), (7752, '한회'), (7753, '역겨울'), (7754, '메이드'), (7755, '박혀'), (7756, '나선'), (7757, '칼싸움'), (7758, '될수록'), (7759, '퍽'), (7760, '먹여'), (7761, '알아주'), (7762, '어렴풋이'), (7763, '바위'), (7764, '옵'), (7765, '반미'), (7766, '네버'), (7767, '남아도'), (7768, '레미제라블'), (7769, '겹치'), (7770, '비호'), (7771, '밀도'), (7772, '장식'), (7773, '근친'), (7774, '페넬로페'), (7775, '잣대'), (7776, '유사라'), (7777, '찰스'), (7778, '소란'), (7779, '숙제'), (7780, '쳐라'), (7781, '꼈'), (7782, '멕시코'), (7783, '남한'), (7784, '각종'), (7785, '과한'), (7786, '갱스터'), (7787, '보트'), (7788, '해리슨포드'), (7789, '다냐'), (7790, '발칙'), (7791, '결핍'), (7792, '심야'), (7793, '차례'), (7794, '터져서'), (7795, '붓'), (7796, 'we'), (7797, '편승'), (7798, '로우'), (7799, '추운'), (7800, '기쁘'), (7801, '엑스파일'), (7802, '외전'), (7803, '핀처'), (7804, '임무'), (7805, '마다가스카'), (7806, '조이'), (7807, '톡톡'), (7808, '찰'), (7809, '응징'), (7810, '놀아나'), (7811, '서리'), (7812, '윤제문'), (7813, '툭하면'), (7814, '들어간다'), (7815, '민중'), (7816, '금물'), (7817, '햇살'), (7818, '모녀'), (7819, '조디포스터'), (7820, '뜻밖'), (7821, '센세이션'), (7822, '일으킨'), (7823, '개답'), (7824, '걸쳐'), (7825, '생동감'), (7826, '유괴'), (7827, '툭툭'), (7828, '지아'), (7829, '박장대소'), (7830, '대우'), (7831, '최루성'), (7832, '자시'), (7833, '어르신'), (7834, '지미'), (7835, '잔치'), (7836, '통틀'), (7837, '마이클베이'), (7838, '모텔'), (7839, '퀴즈'), (7840, '한채영'), (7841, '니콜라스케이지'), (7842, '나오미'), (7843, '복습'), (7844, '개신교'), (7845, '돌려서'), (7846, '포켓몬스터'), (7847, 'Ost'), (7848, '뷁'), (7849, '잡다'), (7850, '죽도'), (7851, '000'), (7852, '다죠'), (7853, '강해서'), (7854, '비스트'), (7855, '약점'), (7856, '해용'), (7857, '볼륨'), (7858, '번개'), (7859, '사족'), (7860, '긁'), (7861, '엘리트'), (7862, '지현우'), (7863, '엘리자베스'), (7864, '배워야'), (7865, '뻣뻣'), (7866, '욧'), (7867, '어떤지'), (7868, '쏟아져'), (7869, '듬뿍'), (7870, '쩍'), (7871, '추기경'), (7872, '카이'), (7873, '타리'), (7874, '가면'), (7875, '료코'), (7876, '교체'), (7877, '김정훈'), (7878, '얍'), (7879, '가방'), (7880, '할께'), (7881, '끝맺'), (7882, '지하'), (7883, '라이즈'), (7884, '반데라스'), (7885, '심취'), (7886, '품달'), (7887, '뿌린'), (7888, '횡설수설'), (7889, '거린'), (7890, '성장통'), (7891, '구상'), (7892, '어이없이'), (7893, '스웨덴'), (7894, '면모'), (7895, '장르노'), (7896, '비로소'), (7897, '78'), (7898, '참다참다'), (7899, '장판'), (7900, '타고난'), (7901, '야호'), (7902, '공공'), (7903, '러셀크로우'), (7904, '화났'), (7905, '엑스'), (7906, '궁극'), (7907, '자부'), (7908, '결심'), (7909, '덤덤'), (7910, '서구'), (7911, '갈증'), (7912, '수박'), (7913, '더운'), (7914, '유학'), (7915, '결정판'), (7916, '눈깔'), (7917, '버무린'), (7918, '오달수'), (7919, '1995'), (7920, '때릴'), (7921, '검프'), (7922, '녹아들'), (7923, '해서인지'), (7924, '트루'), (7925, '1999'), (7926, '노트북'), (7927, '사고방식'), (7928, '김민정'), (7929, '런지'), (7930, '넘겼'), (7931, '빙의'), (7932, '달성'), (7933, '도시락'), (7934, '전직'), (7935, '슬랩스틱'), (7936, '생명력'), (7937, 'bbb'), (7938, 'www'), (7939, '사리'), (7940, '일색'), (7941, '볼께'), (7942, '조진웅'), (7943, '갔다왔'), (7944, '서요'), (7945, '첩혈쌍웅'), (7946, '시갈'), (7947, '벅차'), (7948, '점줄'), (7949, '통틀어'), (7950, '껴서'), (7951, '은혜'), (7952, '난도질'), (7953, '오즈'), (7954, '규모'), (7955, '의구심'), (7956, '팔레스타인'), (7957, '로지'), (7958, '뒀'), (7959, 'ㅇㅋ'), (7960, '재이'), (7961, '슬립'), (7962, '상기'), (7963, '밋기'), (7964, '라푼젤'), (7965, '탄식'), (7966, '세뇌'), (7967, '아찔'), (7968, '광수'), (7969, '김유정'), (7970, 'mc'), (7971, '은지원'), (7972, '김청기'), (7973, '저학년'), (7974, '비장'), (7975, '공백'), (7976, '우디알렌'), (7977, '어떨'), (7978, '조마조마'), (7979, '음성'), (7980, '간절히'), (7981, '돌아간다'), (7982, '내게는'), (7983, '건축'), (7984, '사운드트랙'), (7985, '안구'), (7986, '뒤돌아보'), (7987, '풉'), (7988, '잔다'), (7989, '왕정'), (7990, '모자랄'), (7991, '변했'), (7992, '감미'), (7993, '출품'), (7994, '음미'), (7995, '분단'), (7996, '발달'), (7997, '루피'), (7998, '이수정'), (7999, '김원효'), (8000, '기독교인'), (8001, '분야'), (8002, '방화'), (8003, '풀어놓'), (8004, '기관'), (8005, '차예련'), (8006, '능력자'), (8007, '베이비'), (8008, '유년'), (8009, '사태'), (8010, '윈'), (8011, '짬'), (8012, '아려'), (8013, '예체능'), (8014, '인제'), (8015, '브로스넌'), (8016, '예외'), (8017, '헤매'), (8018, '이빠이'), (8019, '귀여운데'), (8020, '68'), (8021, '작자'), (8022, '달렸'), (8023, '갈피'), (8024, '터널'), (8025, '쫓기'), (8026, '아멘'), (8027, '한단'), (8028, '줄까'), (8029, '졸림'), (8030, '류급'), (8031, '바가지'), (8032, '올리버'), (8033, '진중'), (8034, '됐었'), (8035, '꽥꽥'), (8036, '하비에르'), (8037, '홍콩식'), (8038, '내려놓'), (8039, '마당'), (8040, '생소'), (8041, '마비'), (8042, '박재정'), (8043, '강풀'), (8044, '아싸'), (8045, '스카이'), (8046, '건졌'), (8047, '희진'), (8048, '파고들'), (8049, '이스트'), (8050, '지겨워서'), (8051, '꺼져라'), (8052, '83'), (8053, '해봐라'), (8054, '코리아'), (8055, '포맷'), (8056, '러쉬'), (8057, '수수'), (8058, 'OUT'), (8059, '기교'), (8060, '대체로'), (8061, '따질'), (8062, '모래'), (8063, '세나'), (8064, '멕'), (8065, '전적'), (8066, '담임'), (8067, '심은경'), (8068, '이뭐병'), (8069, '비서'), (8070, '질러대'), (8071, '검색어'), (8072, '우주선'), (8073, '주름'), (8074, '시원찮'), (8075, '발매'), (8076, '노민우'), (8077, '흡혈귀'), (8078, '턱없이'), (8079, '아름다울'), (8080, '재밌기만'), (8081, '다행히'), (8082, '삘'), (8083, '샵'), (8084, '시크릿'), (8085, '워커'), (8086, '케빈코스트너'), (8087, '순정만화'), (8088, '김지영'), (8089, '묻힌'), (8090, '서툰'), (8091, '드류'), (8092, '이래도'), (8093, '맞췄'), (8094, '글로리아'), (8095, '푸하하'), (8096, '서동요'), (8097, '어드벤처'), (8098, '표면'), (8099, '섭'), (8100, '앙상블'), (8101, '스턴트맨'), (8102, '치도'), (8103, '올릴'), (8104, '최선정'), (8105, '이룰'), (8106, '바람직'), (8107, '박철수'), (8108, '사이프리드'), (8109, '컴백'), (8110, '메마른'), (8111, '선장'), (8112, '옵니다'), (8113, '관능'), (8114, '였음을'), (8115, '곽경택'), (8116, '떨어트리'), (8117, '생물'), (8118, '절규'), (8119, '제주'), (8120, '레지던트'), (8121, '낭패'), (8122, '포로'), (8123, '어려'), (8124, '샤크'), (8125, '인공'), (8126, '박하선'), (8127, '출근'), (8128, '비틀'), (8129, '대서'), (8130, '말자'), (8131, '서늘'), (8132, '박상민'), (8133, '경주'), (8134, '넘길'), (8135, '요번'), (8136, '지만서도'), (8137, '안다고'), (8138, '제멋대로'), (8139, '문제작'), (8140, '쭉쭉'), (8141, '이색'), (8142, '뒤떨어지'), (8143, '연애시대'), (8144, '견뎌'), (8145, '어느덧'), (8146, '아껴'), (8147, '아픕니다'), (8148, '위상'), (8149, '고갈'), (8150, '김두한'), (8151, '이르'), (8152, '힙'), (8153, '늠'), (8154, '교'), (8155, '상위'), (8156, '취재'), (8157, '생방'), (8158, '정해'), (8159, '과감히'), (8160, '망설임'), (8161, '외노'), (8162, '항'), (8163, '걸친'), (8164, '아플'), (8165, '백진희'), (8166, '뺨치'), (8167, '정려원'), (8168, '갑툭튀'), (8169, '김인권'), (8170, '로울'), (8171, '코넬리'), (8172, '인천'), (8173, '도착'), (8174, '행오버'), (8175, '다분'), (8176, '갑작스런'), (8177, '정우'), (8178, '천포'), (8179, '디자이너'), (8180, '조미료'), (8181, '모세'), (8182, '갇혀'), (8183, '무민'), (8184, '올까'), (8185, '아이큐'), (8186, '업적'), (8187, '웁'), (8188, '고은아'), (8189, '영회'), (8190, '깨어나'), (8191, '이끄'), (8192, '카모'), (8193, '발광'), (8194, '골라서'), (8195, '영웅주의'), (8196, '김영철'), (8197, '히히'), (8198, '쉐프'), (8199, '윤진서'), (8200, '포즈'), (8201, '현주소'), (8202, '라마'), (8203, '오광록'), (8204, '주어진'), (8205, '망칠'), (8206, '페인'), (8207, '공무원'), (8208, '찌꺼기'), (8209, '시스'), (8210, '사세요'), (8211, '켄'), (8212, '이래야'), (8213, '아닐지'), (8214, '먼데'), (8215, 'J'), (8216, '유기'), (8217, '시놉시스'), (8218, '관서'), (8219, '겸'), (8220, '기미'), (8221, '다치'), (8222, '우왕좌왕'), (8223, 'You'), (8224, '못생김'), (8225, '개밥'), (8226, '립니'), (8227, '다른가'), (8228, '공영'), (8229, '초짜'), (8230, '보성'), (8231, '하하하하하'), (8232, '털리'), (8233, 'km'), (8234, '쑤'), (8235, '시린'), (8236, '다이애나'), (8237, '메르스'), (8238, '머저리'), (8239, '손해'), (8240, '교도소'), (8241, '보도'), (8242, '위력'), (8243, '안나'), (8244, 'ㅜㅡ'), (8245, '리스'), (8246, '빨리빨리'), (8247, '가슴속'), (8248, '조미'), (8249, '불법체류'), (8250, '내라'), (8251, '스러'), (8252, '김혜선'), (8253, '1996'), (8254, '푸하하하'), (8255, '아이스'), (8256, '다투'), (8257, '애니스톤'), (8258, '태어났'), (8259, '헤드'), (8260, '끌어가'), (8261, '사색'), (8262, '원주민'), (8263, '대강'), (8264, '감수성'), (8265, '상술'), (8266, '찰지'), (8267, '작품상'), (8268, '부진'), (8269, '마구잡이'), (8270, '거라'), (8271, '베트'), (8272, '브리짓'), (8273, '아부'), (8274, '정조'), (8275, '중복'), (8276, '단독'), (8277, '통화'), (8278, '웃길려고'), (8279, '연예계'), (8280, '다스'), (8281, '알콜'), (8282, '빌딩'), (8283, '편도'), (8284, '요런'), (8285, '미키루크'), (8286, '공산당'), (8287, '뿌듯'), (8288, 'NO'), (8289, '어다'), (8290, '파커'), (8291, '파헤치'), (8292, '패트'), (8293, '트릭'), (8294, '용어'), (8295, '만든지'), (8296, '두사부일체'), (8297, '시인'), (8298, '허슬'), (8299, '나온다면'), (8300, '올렸'), (8301, '55'), (8302, '후딱'), (8303, '고도'), (8304, '소신'), (8305, '한지민'), (8306, '얹'), (8307, '버러지'), (8308, '들어서'), (8309, '김효진'), (8310, '가격'), (8311, '직시'), (8312, '돌아올'), (8313, '궈'), (8314, '거절'), (8315, '담겨져'), (8316, '산드라블록'), (8317, '감탄사'), (8318, '느그'), (8319, '전용'), (8320, '퇴화'), (8321, '돌아볼'), (8322, '정윤희'), (8323, '돌파'), (8324, '씁시다'), (8325, '떠드'), (8326, '개선'), (8327, '찌푸려'), (8328, '엄지원'), (8329, '드럼'), (8330, '폭행'), (8331, '전율'), (8332, '스토린'), (8333, '덩달'), (8334, '다라마'), (8335, '마감'), (8336, '레슬링'), (8337, '도쿄'), (8338, '본연'), (8339, '뇨'), (8340, '아선'), (8341, '강정'), (8342, '기립'), (8343, '스며드'), (8344, '꼇다'), (8345, '방가'), (8346, '징기스칸'), (8347, '그리울'), (8348, '이요'), (8349, '욘'), (8350, '슬레이터'), (8351, '맹탕'), (8352, '지점'), (8353, '랄프'), (8354, '나간다'), (8355, '주류'), (8356, '영향력'), (8357, '음울'), (8358, '정보석'), (8359, '겉도'), (8360, '우울해'), (8361, '배급'), (8362, '돌아와'), (8363, '매너'), (8364, '슬픕니다'), (8365, '관광'), (8366, '취업'), (8367, '빠이'), (8368, '말다'), (8369, '질색'), (8370, '어후'), (8371, '역설'), (8372, '꼽힐'), (8373, '흐미'), (8374, '토렌트'), (8375, '조타'), (8376, '치가'), (8377, '홀딱'), (8378, '은정'), (8379, '여균동'), (8380, '무분별'), (8381, '겸손'), (8382, '안겨준'), (8383, '홍길동'), (8384, '알렌'), (8385, '욕한'), (8386, 'CSI'), (8387, '67'), (8388, '개무'), (8389, '막혀'), (8390, '히트맨'), (8391, '감자'), (8392, '잭블랙'), (8393, '태극'), (8394, '풀어낼'), (8395, '소림축구'), (8396, '찾아봐도'), (8397, '사라질'), (8398, '자화상'), (8399, '황진미'), (8400, '웨폰'), (8401, '몰두'), (8402, 'r'), (8403, '얼렁뚱땅'), (8404, '군사'), (8405, '소동'), (8406, '웹'), (8407, '도신'), (8408, '욥'), (8409, '유료'), (8410, '양자경'), (8411, '횽'), (8412, '게이트'), (8413, '한꺼번에'), (8414, '킨'), (8415, '질러'), (8416, '고든'), (8417, '브이'), (8418, '궁굼'), (8419, '비율'), (8420, '벤쳐'), (8421, '매장'), (8422, '이현우'), (8423, '발끝'), (8424, '임성'), (8425, '주몽'), (8426, '과욕'), (8427, '메릴스트립'), (8428, '제기'), (8429, '지킬'), (8430, '토리'), (8431, '요정'), (8432, '천정명'), (8433, '에이미'), (8434, '불사신'), (8435, '토대'), (8436, '인간미'), (8437, '스러우'), (8438, '허영심'), (8439, '접속'), (8440, '슥'), (8441, '군국주의'), (8442, '엘리'), (8443, '와요'), (8444, '자동'), (8445, '자평'), (8446, '전병'), (8447, '저따위'), (8448, '히든'), (8449, '살아간다'), (8450, '여장'), (8451, '로라'), (8452, '나니아'), (8453, '남배우'), (8454, '씌'), (8455, '콱'), (8456, '알모도바르'), (8457, '더러워서'), (8458, '구토'), (8459, '냉철'), (8460, '도끼'), (8461, '주도'), (8462, '성실'), (8463, '애국'), (8464, '김사랑'), (8465, '망정'), (8466, '테니스'), (8467, '망각'), (8468, '목욕'), (8469, '수호'), (8470, '그만두'), (8471, '급작'), (8472, '장난아'), (8473, '전라'), (8474, '에로티시즘'), (8475, '쌓인'), (8476, '들어온다'), (8477, '들어와서'), (8478, '시답잖'), (8479, '경이롭'), (8480, '려던'), (8481, '죽여야'), (8482, '제압'), (8483, '도현'), (8484, '폄하'), (8485, '찌질이'), (8486, '3500'), (8487, '꺅'), (8488, '만족감'), (8489, 'Very'), (8490, '위해선'), (8491, '애미'), (8492, '세기말'), (8493, '원수'), (8494, '봣으면'), (8495, '맞춤'), (8496, '때린다'), (8497, '오경'), (8498, '인크레더블'), (8499, '예상외'), (8500, '청각'), (8501, '구현'), (8502, '08'), (8503, '긴지'), (8504, '봐두'), (8505, '아야세'), (8506, '코치'), (8507, '으니라고'), (8508, '요샌'), (8509, '스쳐'), (8510, '흰'), (8511, '얽힌'), (8512, '서유리'), (8513, '판타'), (8514, '이주승'), (8515, '괸'), (8516, '로군'), (8517, '즐거워'), (8518, '대안'), (8519, '모모'), (8520, '맴돌'), (8521, '날아다니'), (8522, '초창기'), (8523, '이럴까'), (8524, '원판'), (8525, '돼야'), (8526, '우월'), (8527, '사지'), (8528, '득'), (8529, '아티스트'), (8530, '쯧쯧쯧'), (8531, '여섯'), (8532, '덕화'), (8533, '특촬물'), (8534, '노홍철'), (8535, '잰'), (8536, '라다'), (8537, '미셸'), (8538, '어지간히'), (8539, '에디'), (8540, '신작'), (8541, '한껏'), (8542, '줬었'), (8543, '소주'), (8544, '박시연'), (8545, '견'), (8546, '더러워지'), (8547, '피우'), (8548, '끈기'), (8549, '휘날리'), (8550, '회의'), (8551, '유오성'), (8552, '각오'), (8553, '비겁'), (8554, '애새끼'), (8555, '베이'), (8556, '매염방'), (8557, '로미오'), (8558, '니콜슨'), (8559, '이순재'), (8560, '괜한'), (8561, '남주의'), (8562, '화딱지'), (8563, '춤출'), (8564, '떠났'), (8565, '간혹'), (8566, '하난'), (8567, '마징가'), (8568, '나세'), (8569, '선라이즈'), (8570, '잡지'), (8571, '스트리트'), (8572, '조사'), (8573, '피라미드'), (8574, '시달리'), (8575, '추하'), (8576, '터무니없'), (8577, '공사'), (8578, '클루니'), (8579, '보복'), (8580, '한듯'), (8581, '힘겹'), (8582, '좀더'), (8583, '철철'), (8584, 'time'), (8585, '바꿨'), (8586, '엽'), (8587, '반말'), (8588, '무서'), (8589, '도달'), (8590, '슈트'), (8591, '신자'), (8592, '올슨'), (8593, '캠코더'), (8594, '쬐금'), (8595, '비꼬'), (8596, '로워'), (8597, '던진'), (8598, 'VOD'), (8599, '햄버거'), (8600, '구름'), (8601, '굴욕'), (8602, '홉킨스'), (8603, '빼먹'), (8604, '키는'), (8605, '오징어'), (8606, '열매'), (8607, '닐'), (8608, '십쇼'), (8609, '상속자'), (8610, '볼라'), (8611, '조셉'), (8612, '논할'), (8613, '깼'), (8614, '질림'), (8615, '애슐리'), (8616, '가스'), (8617, '호수'), (8618, '핫세'), (8619, '사무엘'), (8620, '베티'), (8621, '리딕'), (8622, '환생'), (8623, '무진장'), (8624, '추격자'), (8625, '망한다는'), (8626, '원장'), (8627, '퉷'), (8628, '반짝'), (8629, '시급'), (8630, '청법'), (8631, '모자람'), (8632, '각본가'), (8633, '불량'), (8634, '일지라도'), (8635, '시공간'), (8636, '다름없'), (8637, '트렁크'), (8638, '성준'), (8639, '줄여'), (8640, '미침'), (8641, '더글라스'), (8642, '컨텐츠'), (8643, '맥아담스'), (8644, '거니'), (8645, '생각납니다'), (8646, '메기'), (8647, '올림'), (8648, '31'), (8649, '입담'), (8650, '부들부들'), (8651, '레니'), (8652, '창고'), (8653, '늑대소년'), (8654, '앍'), (8655, '과소평가'), (8656, '리틀'), (8657, '성별'), (8658, '수목'), (8659, '들이대'), (8660, '깨우치'), (8661, '편파'), (8662, '바야'), (8663, '악녀'), (8664, '찌푸리'), (8665, '부유'), (8666, '동거'), (8667, '감춰진'), (8668, '체자'), (8669, '성과'), (8670, '의자'), (8671, '김재원'), (8672, '동떨어진'), (8673, '헤어진'), (8674, '격정'), (8675, '날씨'), (8676, '연말'), (8677, '라던지'), (8678, '막힐'), (8679, '참담'), (8680, '신음'), (8681, '은주'), (8682, '사투'), (8683, '블록'), (8684, '제트'), (8685, 'This'), (8686, '줄줄'), (8687, '쿵후'), (8688, '메릴'), (8689, '마르'), (8690, '봐선'), (8691, '더블'), (8692, '참된'), (8693, '내포'), (8694, '헛점'), (8695, '향하'), (8696, '다가온'), (8697, '해답'), (8698, '낄낄'), (8699, '예기'), (8700, '활극'), (8701, '질린'), (8702, '남다른'), (8703, '어쨌'), (8704, '울트라'), (8705, '숫'), (8706, '젝'), (8707, '익살'), (8708, '감금'), (8709, 'g'), (8710, '게요'), (8711, '저그'), (8712, '빨라서'), (8713, '때려잡'), (8714, '프리먼'), (8715, '웟음'), (8716, '꼭두각시'), (8717, '가져가'), (8718, '그럴싸한'), (8719, '비정'), (8720, '대적'), (8721, '살아오'), (8722, '왼쪽'), (8723, '유태인'), (8724, '만끽'), (8725, '불협화음'), (8726, '수니'), (8727, '만한'), (8728, '계몽'), (8729, '심혜진'), (8730, '본전'), (8731, '강자'), (8732, '정상인'), (8733, '해군'), (8734, '호호'), (8735, '지나갔'), (8736, '들어온'), (8737, '설교'), (8738, '허황'), (8739, '노이'), (8740, '잘라서'), (8741, '세자'), (8742, '탁재훈'), (8743, '괴짜'), (8744, '값진'), (8745, '현기증'), (8746, '밀리'), (8747, '베이더'), (8748, '뮬란'), (8749, '신사'), (8750, '순결'), (8751, '실물'), (8752, '근디'), (8753, '랜턴'), (8754, '넉'), (8755, '랙'), (8756, '앨런'), (8757, '찔끔'), (8758, '용의자'), (8759, '애국가'), (8760, '댕기'), (8761, '실질'), (8762, '최상급'), (8763, '아이폰'), (8764, '종료'), (8765, '주유소'), (8766, '탐구'), (8767, '중계'), (8768, '수치심'), (8769, '채웠'), (8770, '스피릿'), (8771, '어긋나'), (8772, '정겨운'), (8773, '이유리'), (8774, '으리라'), (8775, '현저히'), (8776, '이편'), (8777, '조쉬하트넷'), (8778, '군상'), (8779, '구닥다리'), (8780, '리들리스콧'), (8781, '아부지'), (8782, '숨바꼭질'), (8783, '81'), (8784, '미확인'), (8785, '고쳐'), (8786, '새로웠'), (8787, '때려치'), (8788, '냐구'), (8789, '민세연'), (8790, '제자리'), (8791, '바냐'), (8792, '트렌드'), (8793, '이종혁'), (8794, '김범'), (8795, '별것'), (8796, '동시대'), (8797, '당근'), (8798, '모차르트'), (8799, '남이'), (8800, '멕라이언'), (8801, '드려야'), (8802, '천안'), (8803, '상담'), (8804, '제주도'), (8805, '반대편'), (8806, '조상'), (8807, '바뀜'), (8808, '중단'), (8809, '저스틴'), (8810, '리차드'), (8811, '76'), (8812, '은희수'), (8813, '할거'), (8814, '수없이'), (8815, '왜냐하면'), (8816, '캠'), (8817, '사마'), (8818, '이수경'), (8819, '편의점'), (8820, '빈다'), (8821, '조디'), (8822, '넘나드'), (8823, '후퇴'), (8824, '얌'), (8825, '터트리'), (8826, '됩니까'), (8827, '단연코'), (8828, '캔'), (8829, '린즈링'), (8830, '이끈'), (8831, '덩'), (8832, '어눌'), (8833, '당기'), (8834, '미워할'), (8835, '박은혜'), (8836, '벅스'), (8837, '유효'), (8838, '줍시다'), (8839, '실현'), (8840, '장난질'), (8841, '왕가'), (8842, '전무'), (8843, '유감'), (8844, '투척'), (8845, '그리워지'), (8846, '딜레마'), (8847, '최다니엘'), (8848, '판도'), (8849, '태민'), (8850, '자의식'), (8851, '버틀러'), (8852, '포토'), (8853, '맥그리거'), (8854, '아우라'), (8855, '지어다'), (8856, '퉁'), (8857, '돌려주'), (8858, '오케이'), (8859, '프랑스인'), (8860, '시련'), (8861, '험'), (8862, '끗'), (8863, '이영애'), (8864, '앨범'), (8865, '셔도'), (8866, '후진국'), (8867, '나부랭이'), (8868, '뷰티'), (8869, '캐리비안'), (8870, '수잔'), (8871, '거북이'), (8872, '망한다'), (8873, '펀'), (8874, '더한'), (8875, '결정체'), (8876, '알린'), (8877, '만능'), (8878, '버프'), (8879, '에어컨'), (8880, '심도'), (8881, '의혹'), (8882, '전도'), (8883, '지효'), (8884, '힐러리'), (8885, '뺏기'), (8886, '무렵'), (8887, '홍성진'), (8888, '미디어'), (8889, '음침'), (8890, '넘어갈'), (8891, '아쉬워서'), (8892, '여하튼'), (8893, '채시라'), (8894, '논스톱'), (8895, '박지성'), (8896, '감도'), (8897, '다이아몬드'), (8898, '온주완'), (8899, '피로'), (8900, '폭스'), (8901, '예지원'), (8902, '딕'), (8903, '달라졌'), (8904, '겁내'), (8905, '잡힌'), (8906, '캐미'), (8907, '개방'), (8908, '반열'), (8909, '날까'), (8910, '해골'), (8911, '소라'), (8912, '하치'), (8913, '백야'), (8914, '백설'), (8915, '도자기'), (8916, '콜라'), (8917, '전역'), (8918, '무덤덤'), (8919, '적시'), (8920, '대조'), (8921, '피아니스트'), (8922, '암만'), (8923, '순박'), (8924, '느낍니다'), (8925, '소모'), (8926, '커다란'), (8927, '렛'), (8928, '뎌'), (8929, '끝없이'), (8930, '볼려면'), (8931, '순전히'), (8932, '끊임없'), (8933, '친숙'), (8934, '갓파더'), (8935, '떨림'), (8936, '마린'), (8937, '디질'), (8938, '볼지'), (8939, '메디컬'), (8940, '브라보'), (8941, '이청아'), (8942, '노노'), (8943, '기황후'), (8944, '엿같'), (8945, '재대로'), (8946, '찾아본'), (8947, '동반'), (8948, '스킬'), (8949, '욕정'), (8950, '첫째'), (8951, '확률'), (8952, '양쪽'), (8953, '송일국'), (8954, '짚'), (8955, '구지성'), (8956, '바지'), (8957, '열혈'), (8958, '남겨요'), (8959, '건네'), (8960, '교제'), (8961, '반장'), (8962, '땔'), (8963, '1500'), (8964, '잴'), (8965, '볼게요'), (8966, '좀비'), (8967, '투캅스'), (8968, '불사조'), (8969, '바르뎀'), (8970, '집시'), (8971, '찬성'), (8972, '이프로'), (8973, '머물'), (8974, '위장'), (8975, '신물'), (8976, '인주'), (8977, '승승장구'), (8978, '토시오'), (8979, '58'), (8980, '할땐'), (8981, '예쁜데'), (8982, '만드세요'), (8983, '신성'), (8984, '동작'), (8985, 'ㅠㅠ진짜'), (8986, '올린다'), (8987, '겐'), (8988, '하희라'), (8989, '특급'), (8990, '이긴'), (8991, '이당'), (8992, '하류'), (8993, '지로'), (8994, '주성'), (8995, '나눈'), (8996, '배달'), (8997, '최우식'), (8998, '기네스'), (8999, '명목'), (9000, '바이'), (9001, '친한'), (9002, '횟수'), (9003, '드러워'), (9004, '천장지구'), (9005, '오마이갓'), (9006, '김신'), (9007, '추종'), (9008, '자네'), (9009, '낙원'), (9010, '엇갈리'), (9011, '어쩌다가'), (9012, '한지훈'), (9013, '퍼레이드'), (9014, '정규'), (9015, '아마존'), (9016, '오케스트라'), (9017, '충이'), (9018, '선조'), (9019, '셜'), (9020, '양익준'), (9021, '분발'), (9022, '잘생김'), (9023, '제약'), (9024, '다짜고짜'), (9025, '빨려'), (9026, '팝송'), (9027, '안다면'), (9028, '신난다'), (9029, '리처드'), (9030, '홍수'), (9031, '소식'), (9032, '도입'), (9033, '무사'), (9034, '귀환'), (9035, '이라크'), (9036, '찡해'), (9037, '미끼'), (9038, 'xx'), (9039, '사후'), (9040, '비치'), (9041, '김동욱'), (9042, '김상경'), (9043, '뽕짝'), (9044, '66'), (9045, '걸려서'), (9046, '금고'), (9047, '세워'), (9048, '석양'), (9049, '사탕'), (9050, '경비'), (9051, '상대방'), (9052, '無'), (9053, '랍'), (9054, '민아'), (9055, '허공'), (9056, '주룩주룩'), (9057, '정기'), (9058, '셀'), (9059, '기질'), (9060, '술집'), (9061, '점프'), (9062, '축제'), (9063, '노랑머리'), (9064, '망가'), (9065, '엣'), (9066, '아앙'), (9067, '대성'), (9068, '띄워'), (9069, '되새기'), (9070, '무공'), (9071, '래쉬'), (9072, '연제욱'), (9073, '다코타패닝'), (9074, '눈썹'), (9075, '퇴'), (9076, '파란'), (9077, '신중'), (9078, '다잉'), (9079, '부당'), (9080, '저랬'), (9081, '드셨'), (9082, '댕'), (9083, '장이'), (9084, '함량'), (9085, '눈동자'), (9086, '리플리'), (9087, '며느리'), (9088, '마나'), (9089, '빚어낸'), (9090, '친일'), (9091, '난다고'), (9092, '번호'), (9093, '황당무계'), (9094, '김새론'), (9095, 'one'), (9096, '맥빠지'), (9097, '모으'), (9098, '겠죠'), (9099, '나타났'), (9100, '평면'), (9101, '비해선'), (9102, '지나갈'), (9103, '굴곡'), (9104, '김일성'), (9105, '식사'), (9106, '고흐'), (9107, '따라오'), (9108, '화법'), (9109, '세라'), (9110, '신체'), (9111, '가려'), (9112, '오리엔탈리즘'), (9113, '피터팬'), (9114, '자나'), (9115, '행성'), (9116, '리턴즈'), (9117, '당혹'), (9118, '오스카'), (9119, '변함'), (9120, '고대로'), (9121, '세주'), (9122, '박한'), (9123, '세염'), (9124, '민비'), (9125, '카메론디아즈'), (9126, '코스모스'), (9127, '무상'), (9128, '온데'), (9129, '간데'), (9130, '입증'), (9131, '연출가'), (9132, '개취'), (9133, '힘찬'), (9134, '간다고'), (9135, '왈'), (9136, '놀리'), (9137, '학도'), (9138, '혼신'), (9139, '감방'), (9140, '대명사'), (9141, '발단'), (9142, '이사'), (9143, '쌓이'), (9144, '방치'), (9145, '질까'), (9146, '유부남'), (9147, '갑옷'), (9148, '돌이'), (9149, '탈북자'), (9150, '피눈물'), (9151, '냔'), (9152, '오마'), (9153, '터무니없이'), (9154, '그레'), (9155, '뼈저리'), (9156, '더냐'), (9157, '계약'), (9158, '잠재'), (9159, '베송'), (9160, '노년'), (9161, '끝났어야'), (9162, '인육'), (9163, '이루어질'), (9164, '기획사'), (9165, '핏줄'), (9166, '맞출'), (9167, '청소년기'), (9168, '개도'), (9169, '지방'), (9170, '토로'), (9171, '트리오'), (9172, '롤러코스터'), (9173, '임상수'), (9174, '행세'), (9175, '신성일'), (9176, '무법자'), (9177, '겁난다'), (9178, '부려'), (9179, '오전'), (9180, '크레이지'), (9181, '메가폰'), (9182, '크림슨'), (9183, '불평'), (9184, '동전'), (9185, '주의보'), (9186, '줄리안'), (9187, '청불'), (9188, '즐겼'), (9189, '레인'), (9190, '연정훈'), (9191, '독자'), (9192, '기르'), (9193, '하악'), (9194, '또래'), (9195, '팬더'), (9196, '쯔쯔'), (9197, '문성근'), (9198, '1992'), (9199, '동남아'), (9200, '키운'), (9201, '이어질'), (9202, '가출'), (9203, '보인'), (9204, '그간'), (9205, '준다면'), (9206, '닉쿤'), (9207, '토마토'), (9208, '못된'), (9209, '노래방'), (9210, '램버트'), (9211, '이벤트'), (9212, '후손'), (9213, '다이스'), (9214, '내전'), (9215, '아아아아'), (9216, '티아라'), (9217, '얄밉'), (9218, '환호'), (9219, '로빈윌리엄스'), (9220, '헝거'), (9221, '돌연변이'), (9222, '중경삼림'), (9223, '기뻤'), (9224, '박지윤'), (9225, '쾌락'), (9226, '쉰들러'), (9227, '조형기'), (9228, '치즈'), (9229, '코피'), (9230, '으뜸'), (9231, '오버랩'), (9232, '너머'), (9233, '색즉시공'), (9234, '헷'), (9235, '재산'), (9236, '이어졌'), (9237, '떳떳'), (9238, '흠흠'), (9239, '떠올라서'), (9240, '티격태격'), (9241, '힘없'), (9242, '기구'), (9243, '아랑'), (9244, '배용준'), (9245, '중립'), (9246, '쬐끔'), (9247, '마르소'), (9248, '겅'), (9249, '중사'), (9250, '게시판'), (9251, '신문'), (9252, '죄인'), (9253, '근친상간'), (9254, '무자비'), (9255, '맘마'), (9256, '후세'), (9257, '화남'), (9258, '미로'), (9259, '뿅'), (9260, '동서양'), (9261, '반공'), (9262, '매니저'), (9263, '려구'), (9264, '패자'), (9265, '서글픈'), (9266, '퇴색'), (9267, '명치'), (9268, '예민'), (9269, '유대인'), (9270, '관해'), (9271, '정정'), (9272, '얼간'), (9273, '나감'), (9274, '콜린파렐'), (9275, '퍼스'), (9276, '상류층'), (9277, '챔프'), (9278, '휴일'), (9279, '영화채널'), (9280, '증인'), (9281, '성취'), (9282, '차안'), (9283, '나와야지'), (9284, '달기'), (9285, '돌려도'), (9286, '에이즈'), (9287, '싸워'), (9288, '못한다면'), (9289, '지겨웠'), (9290, '민감'), (9291, '맘껏'), (9292, '합쳐서'), (9293, '망해라'), (9294, '그레이'), (9295, '풍선'), (9296, '엄지'), (9297, '움직인다'), (9298, '미술관'), (9299, '복고'), (9300, '엄연히'), (9301, '지식인'), (9302, '손자'), (9303, '별명'), (9304, '애국자'), (9305, '멋진데'), (9306, '온라인'), (9307, '제니'), (9308, '아낌없'), (9309, '아자니'), (9310, '전쟁터'), (9311, '제프'), (9312, '사만다'), (9313, '근처'), (9314, '통할'), (9315, '그릴'), (9316, 'KTX'), (9317, '컴플렉스'), (9318, '불태우'), (9319, '똥파리'), (9320, '화난'), (9321, '유전'), (9322, '좋아함'), (9323, '신경질'), (9324, '읭'), (9325, '샘레이미'), (9326, '해명'), (9327, '구사'), (9328, '잠기'), (9329, '의료'), (9330, 'cctv'), (9331, 'life'), (9332, '故'), (9333, '이영활'), (9334, '외우'), (9335, '과유불급'), (9336, '배신자'), (9337, 'do'), (9338, '명확히'), (9339, '희생양'), (9340, '따먹'), (9341, '물어내'), (9342, '레슬리'), (9343, '개입'), (9344, '死'), (9345, '자무시'), (9346, '몰상식'), (9347, '빨랑'), (9348, '까말까'), (9349, 'great'), (9350, '아슬아슬'), (9351, '한테서'), (9352, '사형수'), (9353, '스마트'), (9354, '벤에플렉'), (9355, '주옥'), (9356, '와일드'), (9357, '밨는데'), (9358, '강함'), (9359, '박준형'), (9360, '그럴듯'), (9361, '나뉘'), (9362, '급박'), (9363, '도그'), (9364, '급조'), (9365, '하락세'), (9366, '대원'), (9367, '주다'), (9368, '시시껄렁'), (9369, '다움'), (9370, '워낭'), (9371, '스타크래프트'), (9372, '이준익'), (9373, '정준하'), (9374, '설렜'), (9375, '예스'), (9376, '멘토'), (9377, '이장우'), (9378, '모리꼬네'), (9379, '문장'), (9380, '로얄'), (9381, '계절'), (9382, '짜깁'), (9383, '소이다'), (9384, '구두'), (9385, '노르웨이'), (9386, '동해'), (9387, '현혹'), (9388, '센터'), (9389, '티브이'), (9390, '가량'), (9391, '아비'), (9392, '여잔데'), (9393, '넴'), (9394, '팔마'), (9395, '할라'), (9396, '숨소리'), (9397, '스탠리'), (9398, '그따위'), (9399, '원생'), (9400, '떠나보내'), (9401, '요보비치'), (9402, '트루먼'), (9403, '드라큘라'), (9404, '변할'), (9405, '베스트셀러'), (9406, '시끄러워'), (9407, '스턴트'), (9408, '커트'), (9409, '주군'), (9410, '실태'), (9411, 'bad'), (9412, '어설펐'), (9413, '련지'), (9414, '사생활'), (9415, '관통'), (9416, '바라지'), (9417, '나문희'), (9418, '왕창'), (9419, '알아들'), (9420, 'with'), (9421, '블리'), (9422, '본느'), (9423, '터리'), (9424, '떵'), (9425, '오른다'), (9426, '을려나'), (9427, '로또'), (9428, '처녀'), (9429, '휴우'), (9430, '우연찮'), (9431, 'BEST'), (9432, '솔까말'), (9433, '물든'), (9434, '몰아가'), (9435, '예언'), (9436, '한눈'), (9437, '으려면'), (9438, '이즈'), (9439, '노동'), (9440, '줄라고'), (9441, '틀렸'), (9442, '처분'), (9443, '어긋난'), (9444, '위태'), (9445, '일침'), (9446, '소이현'), (9447, '겉돌'), (9448, '짤린'), (9449, '메이퀸'), (9450, '주입'), (9451, '철수'), (9452, '랏다'), (9453, '사살'), (9454, '택'), (9455, '나사'), (9456, '박차'), (9457, '선언'), (9458, '해져요'), (9459, '투영'), (9460, '관상'), (9461, '하드코어'), (9462, '규칙'), (9463, '잊혀질'), (9464, '들어야'), (9465, '빛난다'), (9466, '마음껏'), (9467, '밥상'), (9468, '조율'), (9469, '라기에'), (9470, '가인'), (9471, '저하'), (9472, '수염'), (9473, 'So'), (9474, '끝냈으면'), (9475, '홀리'), (9476, '삭막'), (9477, '례'), (9478, '배출'), (9479, '다중'), (9480, '그해'), (9481, '에유'), (9482, '인용'), (9483, '껌'), (9484, '룬드그렌'), (9485, '나쁨'), (9486, '남궁민'), (9487, '게라도'), (9488, '레이놀즈'), (9489, '동굴'), (9490, '드레스'), (9491, '식민지'), (9492, '오지랖'), (9493, '지수'), (9494, '수출'), (9495, '그려지'), (9496, '그물'), (9497, '광신도'), (9498, '꾸며'), (9499, '몰랐었'), (9500, '안보'), (9501, '인게'), (9502, '무스'), (9503, '수식'), (9504, '선하'), (9505, '으랴'), (9506, '색채감'), (9507, '갈구'), (9508, '까대'), (9509, '풍성'), (9510, '횡포'), (9511, '무거울'), (9512, '콘택트'), (9513, '젠'), (9514, '왕년'), (9515, '이창동'), (9516, '시미'), (9517, '막힌다'), (9518, '임다'), (9519, '정준'), (9520, '이치'), (9521, '랜드'), (9522, '분열증'), (9523, '가네'), (9524, '매즈'), (9525, '마리오'), (9526, '박선영'), (9527, '비범'), (9528, '로리타'), (9529, '아니야'), (9530, '소고기'), (9531, '헤어짐'), (9532, 'ok'), (9533, '희미'), (9534, '태풍'), (9535, '들마'), (9536, '버틸'), (9537, '테드'), (9538, '갯'), (9539, '혁'), (9540, '경직'), (9541, 'imdb'), (9542, '고귀'), (9543, '퇴물'), (9544, '부조'), (9545, '사라짐'), (9546, '끌려서'), (9547, '곤충'), (9548, '낙태'), (9549, '아이콘'), (9550, '론가'), (9551, '냉장고'), (9552, '숙면'), (9553, '가져다준'), (9554, '춥'), (9555, '거렸'), (9556, '비견'), (9557, '이광수'), (9558, '눌'), (9559, '불릴'), (9560, '개차반'), (9561, '휴잇'), (9562, '쉰'), (9563, '앤더슨'), (9564, '허접쓰레기'), (9565, '이뤄'), (9566, '더군다나'), (9567, '맥클레인'), (9568, '젓'), (9569, '벼'), (9570, '남잔데'), (9571, '사실감'), (9572, '거침없'), (9573, '버렷'), (9574, '고사'), (9575, '성당'), (9576, '바티칸'), (9577, '혼돈'), (9578, '문제지'), (9579, '에단호크'), (9580, '봐온'), (9581, '진지희'), (9582, '가정부'), (9583, '이태리'), (9584, '미치광이'), (9585, '거저'), (9586, '갔다온'), (9587, '심리전'), (9588, '발표'), (9589, '상호'), (9590, '다아'), (9591, '츠마부키'), (9592, '부질없'), (9593, '매진'), (9594, '안면'), (9595, '존엄'), (9596, '흥하'), (9597, '였을까'), (9598, '래서'), (9599, '혁신'), (9600, '할껄'), (9601, '트럭'), (9602, '나눠서'), (9603, '치장'), (9604, '늑대인간'), (9605, '이덕화'), (9606, '다웠'), (9607, '주르륵'), (9608, '강해'), (9609, '사단'), (9610, '피터잭슨'), (9611, '악의'), (9612, '막혀서'), (9613, '공드리'), (9614, '서편제'), (9615, '91'), (9616, '로랑'), (9617, '콜린스'), (9618, 'know'), (9619, '취소'), (9620, '편한'), (9621, '디게'), (9622, '따라다니'), (9623, '피자'), (9624, '톡'), (9625, '애자'), (9626, '을라고'), (9627, '약해서'), (9628, '56'), (9629, '스타쉽'), (9630, '바람난'), (9631, '처한'), (9632, '렵니다'), (9633, '신디'), (9634, '들으면서'), (9635, '점령'), (9636, '연작'), (9637, '경음'), (9638, '이세상'), (9639, '보드'), (9640, '박철민'), (9641, '자장가'), (9642, '공권력'), (9643, '였으며'), (9644, '시저'), (9645, '미사'), (9646, '올드만'), (9647, '속물'), (9648, '웨스'), (9649, '통통'), (9650, '똘똘'), (9651, '꿀리'), (9652, '팽'), (9653, '멈춰'), (9654, '은대'), (9655, '갑작스럽'), (9656, 'ㅑ'), (9657, '이해도'), (9658, 'world'), (9659, '신났'), (9660, '57'), (9661, '까이'), (9662, '물리치'), (9663, '초특급'), (9664, '조로리'), (9665, '외침'), (9666, '정해진'), (9667, '열중'), (9668, '적용'), (9669, '좌충우돌'), (9670, '였어요'), (9671, '어짜피'), (9672, '훤히'), (9673, '데미'), (9674, '당한다'), (9675, '이자'), (9676, '흡입'), (9677, '기다릴'), (9678, '다인'), (9679, '돈벌이'), (9680, '웟다'), (9681, '트립'), (9682, '쿄코'), (9683, '소울'), (9684, '글씨'), (9685, '데로'), (9686, '정체불명'), (9687, '미어지'), (9688, '용인'), (9689, '만일'), (9690, '어선'), (9691, '지체'), (9692, '하두'), (9693, '커리어'), (9694, '지긋지긋'), (9695, 'TOP'), (9696, 'IMDB'), (9697, '플래툰'), (9698, '발버둥'), (9699, '흐릿'), (9700, '냄새나'), (9701, '넘어갔'), (9702, '가학'), (9703, '바래요'), (9704, '냉전'), (9705, '속상하'), (9706, '첫날'), (9707, '퇴마'), (9708, '어장'), (9709, '망친다'), (9710, '주세요'), (9711, '여요'), (9712, '적도'), (9713, '체가'), (9714, '정색'), (9715, '첨단'), (9716, '막연'), (9717, '41'), (9718, '여타'), (9719, '흐흐'), (9720, '마츠코'), (9721, '짜린'), (9722, '부감'), (9723, '끓여'), (9724, '끔직'), (9725, '는데도'), (9726, '프레임'), (9727, '창의력'), (9728, '설원'), (9729, '칭하'), (9730, '가려진'), (9731, '꿀꿀'), (9732, '국정원'), (9733, '스틸러'), (9734, '180'), (9735, '콩콩'), (9736, '내고'), (9737, '소나기'), (9738, '드러낸'), (9739, 'cm'), (9740, '곽'), (9741, '이래저래'), (9742, '인질극'), (9743, '평행'), (9744, '줄라'), (9745, '라구요'), (9746, '아파하'), (9747, '헌데'), (9748, '단절'), (9749, '실버'), (9750, '런던'), (9751, '설레였'), (9752, '된다니'), (9753, '차량'), (9754, '미혼모'), (9755, '가벼움'), (9756, '니들'), (9757, '에코'), (9758, '비긴즈'), (9759, '휴식'), (9760, '야망'), (9761, '육성'), (9762, '모임'), (9763, '가혹'), (9764, '실베스타'), (9765, '마우스'), (9766, '리치'), (9767, '일수록'), (9768, '오호'), (9769, '이다해'), (9770, '구타'), (9771, '블레어'), (9772, '110'), (9773, '미라'), (9774, '미쳐서'), (9775, '덥'), (9776, '좋아해'), (9777, '메카'), (9778, '베이커'), (9779, '부제'), (9780, '할린'), (9781, '누적'), (9782, '준영'), (9783, '조음'), (9784, '86'), (9785, '모이'), (9786, '복수초'), (9787, '물음표'), (9788, '판정'), (9789, 'out'), (9790, '따라갈'), (9791, '뻥튀기'), (9792, '이영환'), (9793, '골고루'), (9794, '피닉스'), (9795, '패배'), (9796, '첨가'), (9797, '정겹'), (9798, '쭈쭈'), (9799, '드러난다'), (9800, '블로그'), (9801, '냉무'), (9802, '내년'), (9803, '합친'), (9804, '적벽'), (9805, '여잔'), (9806, '수퍼맨'), (9807, '위인'), (9808, '까놓'), (9809, '다뤘'), (9810, '줄리'), (9811, '숨쉬'), (9812, '해체'), (9813, '밀어주'), (9814, '늘어나'), (9815, '축축'), (9816, '근원'), (9817, '각시탈'), (9818, '징그러운'), (9819, '장가휘'), (9820, '실로'), (9821, 'see'), (9822, '서론'), (9823, '속아'), (9824, '자폭'), (9825, '풍운'), (9826, '올림픽'), (9827, '무인'), (9828, '춘향'), (9829, '리버'), (9830, '가이리치'), (9831, '으으으'), (9832, '반한'), (9833, '육아'), (9834, '패션왕'), (9835, '정자'), (9836, '고준희'), (9837, '라이온'), (9838, '딴따라'), (9839, '간디'), (9840, '카레'), (9841, '체리'), (9842, '릉'), (9843, '다룰'), (9844, '퇴마록'), (9845, '트랩'), (9846, '악질'), (9847, '박예진'), (9848, '갈아타'), (9849, '위엄'), (9850, 'FBI'), (9851, '끼친'), (9852, '욜라'), (9853, '강연'), (9854, '독고'), (9855, '라던데'), (9856, '39'), (9857, '만발'), (9858, '행중'), (9859, '이재은'), (9860, '엔드'), (9861, '차용'), (9862, '상우'), (9863, '계층'), (9864, '품격'), (9865, '기다려집니다'), (9866, '이화영'), (9867, '자자'), (9868, '물량'), (9869, '찍히'), (9870, '이데올로기'), (9871, '요리사'), (9872, '피티'), (9873, '얼핏'), (9874, '으련만'), (9875, 'LA'), (9876, '댁'), (9877, '비할'), (9878, '신드롬'), (9879, '사유'), (9880, '억양'), (9881, '만찬'), (9882, '진호'), (9883, '활짝'), (9884, '해낼'), (9885, '한물'), (9886, '프로필'), (9887, '트로트'), (9888, '전미'), (9889, '추노'), (9890, '퀄'), (9891, '부다페스트'), (9892, 'What'), (9893, 'was'), (9894, '십수'), (9895, '찰나'), (9896, '니노'), (9897, '이중인격'), (9898, '공통점'), (9899, '선거'), (9900, '겹'), (9901, '어그'), (9902, '이해관계'), (9903, '스치'), (9904, '겸비'), (9905, '막혔'), (9906, '왜색'), (9907, '맞짱'), (9908, '치졸'), (9909, '모욕감'), (9910, '꼴통'), (9911, '훠'), (9912, '권유'), (9913, '일정'), (9914, '신도'), (9915, '호들갑'), (9916, '부러울'), (9917, '거룩'), (9918, '물타기'), (9919, '발사'), (9920, '줄기'), (9921, '더듬'), (9922, '채울'), (9923, 'ㅆㄹㄱ'), (9924, '앱'), (9925, '레이버'), (9926, '히가시노'), (9927, '카톨릭'), (9928, '스태프'), (9929, '풀려'), (9930, '절하'), (9931, '로로'), (9932, '강철중'), (9933, '편의'), (9934, '마는'), (9935, '월트'), (9936, '프리즌'), (9937, '아이스크림'), (9938, '설국'), (9939, '쩡'), (9940, '단조로운'), (9941, '시종'), (9942, '아나킨'), (9943, '떠오를'), (9944, '빗대'), (9945, '조그만'), (9946, '못한다는'), (9947, '49'), (9948, '제임스완'), (9949, '관용'), (9950, '믄서'), (9951, '들였'), (9952, '피폐'), (9953, '유니크'), (9954, '옥택연'), (9955, '어머님'), (9956, '요인'), (9957, '측은'), (9958, '으라는'), (9959, '유연석'), (9960, '맥과이어'), (9961, '딱지'), (9962, '전략'), (9963, '깨닳'), (9964, '자각'), (9965, '소유자'), (9966, '건너뛰'), (9967, '한혜진'), (9968, '본판'), (9969, '실비아'), (9970, '정준용'), (9971, '그쪽'), (9972, '약물'), (9973, '핸드'), (9974, '드린다'), (9975, '로드리게스'), (9976, '않되'), (9977, '썪'), (9978, '할인'), (9979, '닐슨'), (9980, '강대국'), (9981, '일수'), (9982, '더라는'), (9983, '빼어난'), (9984, '열쇠'), (9985, '끝낸'), (9986, '화합'), (9987, '깊숙히'), (9988, '탈세'), (9989, '망설였'), (9990, '용도'), (9991, '고마웠'), (9992, '마의'), (9993, '산책'), (9994, '속빈'), (9995, '그램'), (9996, '총집합'), (9997, '형용'), (9998, '할머님'), (9999, '출산')])"
            ]
          },
          "metadata": {
            "tags": []
          },
          "execution_count": 15
        }
      ]
    },
    {
      "cell_type": "code",
      "metadata": {
        "id": "T6Lz6x8U6bkm"
      },
      "source": [
        "# word_to_index, index to word 모두 index 0,1,2를 비워놓음 \n",
        "# padding 부분과, 문장의 첫 시작, dict에 없는 단어를 확인하기 위함 \n",
        "index_to_word[0]='<PAD>' \n",
        "index_to_word[1]='<BOS>'\n",
        "index_to_word[2]='<UNK>' \n",
        "\n",
        "word_to_index['<PAD>'] = 0\n",
        "word_to_index['<BOS>'] = 1\n",
        "word_to_index['<UNK>'] = 2\n"
      ],
      "execution_count": 16,
      "outputs": []
    },
    {
      "cell_type": "code",
      "metadata": {
        "colab": {
          "base_uri": "https://localhost:8080/",
          "height": 34
        },
        "id": "YJSBvZBV68Yh",
        "outputId": "0fa06074-06c7-4e55-cedd-a8f0de237fb7"
      },
      "source": [
        "# modified dictionary check \n",
        "index_to_word[0]"
      ],
      "execution_count": 17,
      "outputs": [
        {
          "output_type": "execute_result",
          "data": {
            "application/vnd.google.colaboratory.intrinsic+json": {
              "type": "string"
            },
            "text/plain": [
              "'<PAD>'"
            ]
          },
          "metadata": {
            "tags": []
          },
          "execution_count": 17
        }
      ]
    },
    {
      "cell_type": "code",
      "metadata": {
        "colab": {
          "base_uri": "https://localhost:8080/",
          "height": 424
        },
        "id": "ksGK4ZSq68U2",
        "outputId": "1441c155-eca2-40b6-d57d-29032aa85703"
      },
      "source": [
        "# modified dictionary check \n",
        "method_1 = {k: v for k, v in sorted(word_to_index.items(), key=lambda item: item[1])}\n",
        "\n",
        "# Dataframe 형식으로 편하게 보기 \n",
        "method_2 = pd.DataFrame(list(word_to_index.items()), columns = ['word', 'index'])\n",
        "method_2.sort_values(by = 'index')"
      ],
      "execution_count": 18,
      "outputs": [
        {
          "output_type": "execute_result",
          "data": {
            "text/html": [
              "<div>\n",
              "<style scoped>\n",
              "    .dataframe tbody tr th:only-of-type {\n",
              "        vertical-align: middle;\n",
              "    }\n",
              "\n",
              "    .dataframe tbody tr th {\n",
              "        vertical-align: top;\n",
              "    }\n",
              "\n",
              "    .dataframe thead th {\n",
              "        text-align: right;\n",
              "    }\n",
              "</style>\n",
              "<table border=\"1\" class=\"dataframe\">\n",
              "  <thead>\n",
              "    <tr style=\"text-align: right;\">\n",
              "      <th></th>\n",
              "      <th>word</th>\n",
              "      <th>index</th>\n",
              "    </tr>\n",
              "  </thead>\n",
              "  <tbody>\n",
              "    <tr>\n",
              "      <th>9997</th>\n",
              "      <td>&lt;PAD&gt;</td>\n",
              "      <td>0</td>\n",
              "    </tr>\n",
              "    <tr>\n",
              "      <th>9998</th>\n",
              "      <td>&lt;BOS&gt;</td>\n",
              "      <td>1</td>\n",
              "    </tr>\n",
              "    <tr>\n",
              "      <th>9999</th>\n",
              "      <td>&lt;UNK&gt;</td>\n",
              "      <td>2</td>\n",
              "    </tr>\n",
              "    <tr>\n",
              "      <th>0</th>\n",
              "      <td></td>\n",
              "      <td>3</td>\n",
              "    </tr>\n",
              "    <tr>\n",
              "      <th>1</th>\n",
              "      <td>영화</td>\n",
              "      <td>4</td>\n",
              "    </tr>\n",
              "    <tr>\n",
              "      <th>...</th>\n",
              "      <td>...</td>\n",
              "      <td>...</td>\n",
              "    </tr>\n",
              "    <tr>\n",
              "      <th>9992</th>\n",
              "      <td>그램</td>\n",
              "      <td>9995</td>\n",
              "    </tr>\n",
              "    <tr>\n",
              "      <th>9993</th>\n",
              "      <td>총집합</td>\n",
              "      <td>9996</td>\n",
              "    </tr>\n",
              "    <tr>\n",
              "      <th>9994</th>\n",
              "      <td>형용</td>\n",
              "      <td>9997</td>\n",
              "    </tr>\n",
              "    <tr>\n",
              "      <th>9995</th>\n",
              "      <td>할머님</td>\n",
              "      <td>9998</td>\n",
              "    </tr>\n",
              "    <tr>\n",
              "      <th>9996</th>\n",
              "      <td>출산</td>\n",
              "      <td>9999</td>\n",
              "    </tr>\n",
              "  </tbody>\n",
              "</table>\n",
              "<p>10000 rows × 2 columns</p>\n",
              "</div>"
            ],
            "text/plain": [
              "       word  index\n",
              "9997  <PAD>      0\n",
              "9998  <BOS>      1\n",
              "9999  <UNK>      2\n",
              "0                3\n",
              "1        영화      4\n",
              "...     ...    ...\n",
              "9992     그램   9995\n",
              "9993    총집합   9996\n",
              "9994     형용   9997\n",
              "9995    할머님   9998\n",
              "9996     출산   9999\n",
              "\n",
              "[10000 rows x 2 columns]"
            ]
          },
          "metadata": {
            "tags": []
          },
          "execution_count": 18
        }
      ]
    },
    {
      "cell_type": "code",
      "metadata": {
        "id": "hqSQMsMb1UQr"
      },
      "source": [
        "# 문장 하나, encoding Function\n",
        "# 모든 문장의 처음은 <BOS>로 시작 \n",
        "def get_encoded_sentence(sentence, word_to_index):\n",
        "    return [word_to_index['<BOS>']]+[word_to_index[word] if word in word_to_index else word_to_index['<UNK>'] for word in sentence.split()]\n",
        "\n",
        "\n",
        "# Multiple Sentence Word to Index\n",
        "def get_encoded_sentences(sentences, word_to_index):\n",
        "    return [get_encoded_sentence(sentence, word_to_index) for sentence in sentences]\n",
        "\n",
        "\n",
        "# 문장 하나, decoding Fuction\n",
        "def get_decoded_sentence(encoded_sentence, index_to_word):\n",
        "    return ' '.join(index_to_word[index] if index in index_to_word else '<UNK>' for index in encoded_sentence[1:])  #[1:]를 통해 <BOS>를 제외\n",
        "\n",
        "# Multiple Sentence Index to Word\n",
        "def get_decoded_sentences(encoded_sentences, index_to_word):\n",
        "    return [get_decoded_sentence(encoded_sentence, index_to_word) for encoded_sentence in encoded_sentences]"
      ],
      "execution_count": 19,
      "outputs": []
    },
    {
      "cell_type": "markdown",
      "metadata": {
        "id": "U2bkm8nK_kEn"
      },
      "source": [
        "### Data Preprocessing "
      ]
    },
    {
      "cell_type": "markdown",
      "metadata": {
        "id": "vbjrscK4DCZA"
      },
      "source": [
        "1. Data 확인"
      ]
    },
    {
      "cell_type": "code",
      "metadata": {
        "colab": {
          "base_uri": "https://localhost:8080/"
        },
        "id": "E5A1Vpwp1UMg",
        "outputId": "df1ed292-fac7-45c4-912d-90cab72d6d43"
      },
      "source": [
        "# 데이터 확인 : index 형식으로 가져온 것 확인\n",
        "print(x_train[0])\n",
        "print(y_train[0])\n",
        "\n",
        "print(len(x_train), len(y_train), len(x_test), len(y_test)) # train은 145830, test는 49073"
      ],
      "execution_count": 20,
      "outputs": [
        {
          "output_type": "stream",
          "text": [
            "[27, 68, 922, 34, 218, 15, 28, 719]\n",
            "0\n",
            "145830 145830 49073 49073\n"
          ],
          "name": "stdout"
        }
      ]
    },
    {
      "cell_type": "markdown",
      "metadata": {
        "id": "oCV6AH7MDF69"
      },
      "source": [
        "2. Max Sentence 길이 확인 \n",
        "  - pad_sequences를 통해 데이터셋 상의 문장의 길이를 통일하는 것을 꼭 기억\n",
        "  - 문장 최대 길이 maxlen의 값 설정도 전체 모델 성능에 영향을 미치게 됨\n",
        "  - maxlen의 적절한 값을 찾기 위해서는 전체 데이터셋의 분포를 확인해 보는 것이 좋음"
      ]
    },
    {
      "cell_type": "code",
      "metadata": {
        "colab": {
          "base_uri": "https://localhost:8080/"
        },
        "id": "vK-mF2fJ1UJ5",
        "outputId": "417bcfd5-a43c-45d1-83f8-730de8fd312d"
      },
      "source": [
        "total_data = list(x_train) + list(x_test)\n",
        "print(len(total_data)) \n",
        "\n",
        "num_tokens_list = [len(tokens) for tokens in total_data]\n",
        "num_tokens = np.array(num_tokens_list)\n",
        "\n",
        "print(np.mean(num_tokens)) # 14\n",
        "print(np.median(num_tokens)) # 11\n",
        "print(np.max(num_tokens)) # 105\n",
        "print(np.min(num_tokens)) # 0"
      ],
      "execution_count": 21,
      "outputs": [
        {
          "output_type": "stream",
          "text": [
            "194903\n",
            "14.073374960877976\n",
            "11.0\n",
            "105\n",
            "0\n"
          ],
          "name": "stdout"
        }
      ]
    },
    {
      "cell_type": "code",
      "metadata": {
        "colab": {
          "base_uri": "https://localhost:8080/",
          "height": 422
        },
        "id": "DCA_-OOlIdPQ",
        "outputId": "849bb1c7-742a-46a4-f063-6018a8f16433"
      },
      "source": [
        "# token 길이 graph로 확인 \n",
        "pd.Series(num_tokens_list).hist()\n",
        "plt.show()\n",
        "\n",
        "pd.Series(num_tokens_list).describe()"
      ],
      "execution_count": 22,
      "outputs": [
        {
          "output_type": "display_data",
          "data": {
            "image/png": "[encoded data removed]",
            "text/plain": [
              "<Figure size 432x288 with 1 Axes>"
            ]
          },
          "metadata": {
            "tags": [],
            "needs_background": "light"
          }
        },
        {
          "output_type": "execute_result",
          "data": {
            "text/plain": [
              "count    194903.000000\n",
              "mean         14.073375\n",
              "std          11.638804\n",
              "min           0.000000\n",
              "25%           6.000000\n",
              "50%          11.000000\n",
              "75%          17.000000\n",
              "max         105.000000\n",
              "dtype: float64"
            ]
          },
          "metadata": {
            "tags": []
          },
          "execution_count": 22
        }
      ]
    },
    {
      "cell_type": "code",
      "metadata": {
        "colab": {
          "base_uri": "https://localhost:8080/"
        },
        "id": "NzT_UNPs1UHQ",
        "outputId": "5b2e1027-88aa-446d-9cbf-8bc039ab0b28"
      },
      "source": [
        "# 75% 분포를 이용해 maxlen 설정 \n",
        "max_tokens = np.mean(num_tokens) + 2 * (np.std(num_tokens))\n",
        "maxlen = int(max_tokens)\n",
        "maxlen #37"
      ],
      "execution_count": 23,
      "outputs": [
        {
          "output_type": "execute_result",
          "data": {
            "text/plain": [
              "37"
            ]
          },
          "metadata": {
            "tags": []
          },
          "execution_count": 23
        }
      ]
    },
    {
      "cell_type": "code",
      "metadata": {
        "colab": {
          "base_uri": "https://localhost:8080/"
        },
        "id": "pm_7uc3-Ehu7",
        "outputId": "aae32af8-080f-4a7f-e7f8-39869c11da0c"
      },
      "source": [
        "# 전체 문장 중 93.5% 이상이 maxlen 설정값 내에 포함됨 \n",
        "np.sum(num_tokens < max_tokens) / len(num_tokens)"
      ],
      "execution_count": 24,
      "outputs": [
        {
          "output_type": "execute_result",
          "data": {
            "text/plain": [
              "0.935060004207221"
            ]
          },
          "metadata": {
            "tags": []
          },
          "execution_count": 24
        }
      ]
    },
    {
      "cell_type": "markdown",
      "metadata": {
        "id": "wZk1qNm7EbJ9"
      },
      "source": [
        "maxlen은 37로 setting하고자 함\n"
      ]
    },
    {
      "cell_type": "markdown",
      "metadata": {
        "id": "cil3kygiFtYu"
      },
      "source": [
        "### Padding \n",
        "- RNN을 사용하는 NLP에서는 prepadding이 선호됨\n",
        "- 마지막 단어가 input으로 들어가기 때문에  \n",
        "\n",
        "<br>\n",
        "\n",
        "Embedding 레이어를 활용하여 이전 스텝의 텍스트 데이터를 워드 벡터 텐서 형태로 다시 표현\n",
        "- raw_inputs 첫번째 code만 진행하면 : Embedding Layer의 인풋이 되는 문장은 길이가 일정해야 함. \n",
        "- 즉 raw_inputs 안의 모든 문장은 단어의 개수가 같아야 한다는 것 \n",
        "- pad 사용 \n",
        "- `keras.preprocessing.sequence.pad_sequences`는 문장벡터 뒤에 <PAD> 추가하여 길이 일정하게 \n",
        "- value 옵션은 padding 되는 곳에 어떤 값을 넣을 것인지 설정해주는 것 "
      ]
    },
    {
      "cell_type": "code",
      "metadata": {
        "id": "QglhBoq9EDES"
      },
      "source": [
        "x_train = pad_sequences(x_train, value = word_to_index['<PAD>'], \n",
        "                        padding = 'pre', maxlen = maxlen)\n",
        "\n",
        "x_test = pad_sequences(x_test, value = word_to_index['<PAD>'],\n",
        "                       padding = 'pre', maxlen = maxlen)"
      ],
      "execution_count": 25,
      "outputs": []
    },
    {
      "cell_type": "code",
      "metadata": {
        "colab": {
          "base_uri": "https://localhost:8080/"
        },
        "id": "ywT9Me20G3OL",
        "outputId": "3d889d22-0fee-4b14-a14c-1dc5ceebbc1f"
      },
      "source": [
        "# maxlen에 맞는 shape으로 all 변환 \n",
        "\n",
        "print(x_train.shape, x_test.shape)"
      ],
      "execution_count": 26,
      "outputs": [
        {
          "output_type": "stream",
          "text": [
            "(145830, 37) (49073, 37)\n"
          ],
          "name": "stdout"
        }
      ]
    },
    {
      "cell_type": "markdown",
      "metadata": {
        "id": "aBOTixH_HT1J"
      },
      "source": [
        "TIP\n",
        "- list 형태의 sentences는 numpy array로 변환되어야 딥러닝 레이어의 입력이 될 수 있음"
      ]
    },
    {
      "cell_type": "markdown",
      "metadata": {
        "id": "CrQGf2wpHakP"
      },
      "source": [
        "-------------\n",
        "-------------"
      ]
    },
    {
      "cell_type": "markdown",
      "metadata": {
        "id": "2AXT9ro4STjg"
      },
      "source": [
        "### Validation Set "
      ]
    },
    {
      "cell_type": "code",
      "metadata": {
        "colab": {
          "base_uri": "https://localhost:8080/"
        },
        "id": "KOg2i9aJSj7k",
        "outputId": "0d14b2f1-e79e-49a7-ef3c-461d5ffa526a"
      },
      "source": [
        "val_len = len(x_train)*0.2\n",
        "print(val_len)\n",
        "print(len(y_train)*0.2)\n",
        "\n",
        "val_len = int(val_len)"
      ],
      "execution_count": 27,
      "outputs": [
        {
          "output_type": "stream",
          "text": [
            "29166.0\n",
            "29166.0\n"
          ],
          "name": "stdout"
        }
      ]
    },
    {
      "cell_type": "code",
      "metadata": {
        "colab": {
          "base_uri": "https://localhost:8080/"
        },
        "id": "cCr7rQ3CSWcO",
        "outputId": "deb42576-ed21-4f12-b616-d88b0d8fdd31"
      },
      "source": [
        "# Split Train & Validation Set\n",
        "x_val = x_train[:val_len]\n",
        "y_val = y_train[:val_len]\n",
        "\n",
        "x_train = x_train[val_len : ]\n",
        "y_train = y_train[val_len : ]\n",
        "\n",
        "print(x_val.shape, x_train.shape)\n",
        "print(y_val.shape, y_train.shape)"
      ],
      "execution_count": 28,
      "outputs": [
        {
          "output_type": "stream",
          "text": [
            "(29166, 37) (116664, 37)\n",
            "(29166,) (116664,)\n"
          ],
          "name": "stdout"
        }
      ]
    },
    {
      "cell_type": "markdown",
      "metadata": {
        "id": "Y9IS72wVHafN"
      },
      "source": [
        "### Model 설계 "
      ]
    },
    {
      "cell_type": "markdown",
      "metadata": {
        "id": "WrLkD8YBSHYD"
      },
      "source": [
        "#### Model_1 : Using LSTM"
      ]
    },
    {
      "cell_type": "code",
      "metadata": {
        "colab": {
          "base_uri": "https://localhost:8080/"
        },
        "id": "M9tqhx5E1UDj",
        "outputId": "01586514-6720-451f-ad3a-0f6307880f7f"
      },
      "source": [
        "# LSTM\n",
        "vocab_size = 10000 # word 사전 10000개\n",
        "vector_dim = 64\n",
        "\n",
        "model_1 = keras.Sequential(name = 'model_LSTM')\n",
        "# shape = (None,)은 모양이 알려지지 않은 수치를 표시할 때 사용됨 \n",
        "# mask_zero = True : padding 부분 인지시켜주기 위해 진행 \n",
        "model_1.add(layers.Embedding(vocab_size, vector_dim, input_shape = (None,),\n",
        "                    mask_zero = True))\n",
        "model_1.add(layers.Bidirectional(layers.LSTM(units = 128)))\n",
        "model_1.add(layers.Dense(10, activation = 'relu'))\n",
        "model_1.add(layers.Dense(1, activation='sigmoid')) # 0, 1로 나와야 해서 sigmoid를 써야할 것 같긴한데... \n",
        "\n",
        "model_1.summary()\n"
      ],
      "execution_count": 29,
      "outputs": [
        {
          "output_type": "stream",
          "text": [
            "Model: \"model_LSTM\"\n",
            "_________________________________________________________________\n",
            "Layer (type)                 Output Shape              Param #   \n",
            "=================================================================\n",
            "embedding (Embedding)        (None, None, 64)          640000    \n",
            "_________________________________________________________________\n",
            "bidirectional (Bidirectional (None, 256)               197632    \n",
            "_________________________________________________________________\n",
            "dense (Dense)                (None, 10)                2570      \n",
            "_________________________________________________________________\n",
            "dense_1 (Dense)              (None, 1)                 11        \n",
            "=================================================================\n",
            "Total params: 840,213\n",
            "Trainable params: 840,213\n",
            "Non-trainable params: 0\n",
            "_________________________________________________________________\n"
          ],
          "name": "stdout"
        }
      ]
    },
    {
      "cell_type": "markdown",
      "metadata": {
        "id": "IOR152ofSKwz"
      },
      "source": [
        "#### Model_2 : Using LSTM(dropout)"
      ]
    },
    {
      "cell_type": "code",
      "metadata": {
        "colab": {
          "base_uri": "https://localhost:8080/"
        },
        "id": "fpoKQvbXHZFC",
        "outputId": "59d996d8-68e0-4d05-8989-f660500cfd3e"
      },
      "source": [
        "# LSTM_drop\n",
        "vocab_size = 10000\n",
        "vector_dim = 64\n",
        "\n",
        "model_2 = keras.Sequential(name = 'model_LSTM_dropout')\n",
        "model_2.add(layers.Embedding(vocab_size, vector_dim, input_shape = (None,),\n",
        "                    mask_zero = True))\n",
        "model_2.add(layers.Bidirectional(layers.LSTM(units = 128 , dropout = .2, recurrent_dropout = .2 )))\n",
        "model_2.add(layers.Dense(10, activation = 'relu'))\n",
        "model_2.add(layers.Dense(1, activation='sigmoid'))\n",
        "\n",
        "model_2.summary()"
      ],
      "execution_count": 30,
      "outputs": [
        {
          "output_type": "stream",
          "text": [
            "WARNING:tensorflow:Layer lstm_1 will not use cuDNN kernels since it doesn't meet the criteria. It will use a generic GPU kernel as fallback when running on GPU.\n",
            "WARNING:tensorflow:Layer lstm_1 will not use cuDNN kernels since it doesn't meet the criteria. It will use a generic GPU kernel as fallback when running on GPU.\n",
            "WARNING:tensorflow:Layer lstm_1 will not use cuDNN kernels since it doesn't meet the criteria. It will use a generic GPU kernel as fallback when running on GPU.\n",
            "Model: \"model_LSTM_dropout\"\n",
            "_________________________________________________________________\n",
            "Layer (type)                 Output Shape              Param #   \n",
            "=================================================================\n",
            "embedding_1 (Embedding)      (None, None, 64)          640000    \n",
            "_________________________________________________________________\n",
            "bidirectional_1 (Bidirection (None, 256)               197632    \n",
            "_________________________________________________________________\n",
            "dense_2 (Dense)              (None, 10)                2570      \n",
            "_________________________________________________________________\n",
            "dense_3 (Dense)              (None, 1)                 11        \n",
            "=================================================================\n",
            "Total params: 840,213\n",
            "Trainable params: 840,213\n",
            "Non-trainable params: 0\n",
            "_________________________________________________________________\n"
          ],
          "name": "stdout"
        }
      ]
    },
    {
      "cell_type": "markdown",
      "metadata": {
        "id": "D6FSADyqc9iH"
      },
      "source": [
        "#### Model_3 : Using LSTM(dropout & softmax)"
      ]
    },
    {
      "cell_type": "code",
      "metadata": {
        "colab": {
          "base_uri": "https://localhost:8080/"
        },
        "id": "7FfwpflLcmPc",
        "outputId": "d106d96b-f83c-4812-d343-c1d4bf047018"
      },
      "source": [
        "# LSTM_drop_softmax\n",
        "vocab_size = 10000 \n",
        "vector_dim = 64\n",
        "\n",
        "model_3 = keras.Sequential(name = 'model_LSTM_drop_softmax')\n",
        "model_3.add(layers.Embedding(vocab_size, vector_dim, input_shape = (None,),\n",
        "                    mask_zero = True))\n",
        "model_3.add(layers.Bidirectional(layers.LSTM(units = 128 , dropout = .2, recurrent_dropout = .2 )))\n",
        "model_3.add(layers.Dense(10, activation = 'relu'))\n",
        "model_3.add(layers.Dense(1, activation='softmax'))\n",
        "\n",
        "model_3.summary()"
      ],
      "execution_count": 31,
      "outputs": [
        {
          "output_type": "stream",
          "text": [
            "WARNING:tensorflow:Layer lstm_2 will not use cuDNN kernels since it doesn't meet the criteria. It will use a generic GPU kernel as fallback when running on GPU.\n",
            "WARNING:tensorflow:Layer lstm_2 will not use cuDNN kernels since it doesn't meet the criteria. It will use a generic GPU kernel as fallback when running on GPU.\n",
            "WARNING:tensorflow:Layer lstm_2 will not use cuDNN kernels since it doesn't meet the criteria. It will use a generic GPU kernel as fallback when running on GPU.\n",
            "Model: \"model_LSTM_drop_softmax\"\n",
            "_________________________________________________________________\n",
            "Layer (type)                 Output Shape              Param #   \n",
            "=================================================================\n",
            "embedding_2 (Embedding)      (None, None, 64)          640000    \n",
            "_________________________________________________________________\n",
            "bidirectional_2 (Bidirection (None, 256)               197632    \n",
            "_________________________________________________________________\n",
            "dense_4 (Dense)              (None, 10)                2570      \n",
            "_________________________________________________________________\n",
            "dense_5 (Dense)              (None, 1)                 11        \n",
            "=================================================================\n",
            "Total params: 840,213\n",
            "Trainable params: 840,213\n",
            "Non-trainable params: 0\n",
            "_________________________________________________________________\n"
          ],
          "name": "stdout"
        }
      ]
    },
    {
      "cell_type": "markdown",
      "metadata": {
        "id": "sqj_RQDl8_9g"
      },
      "source": [
        "참고페이지 \n",
        "- https://towardsdatascience.com/sentiment-analysis-using-lstm-step-by-step-50d074f09948\n"
      ]
    },
    {
      "cell_type": "markdown",
      "metadata": {
        "id": "naqwocV7SLcw"
      },
      "source": [
        "#### Model_4 : Using GRU"
      ]
    },
    {
      "cell_type": "code",
      "metadata": {
        "colab": {
          "base_uri": "https://localhost:8080/"
        },
        "id": "6tHeNmH0bMoE",
        "outputId": "7eeb687c-c71a-4a89-b611-1798012607e9"
      },
      "source": [
        "vocab_size = 10000 # word 사전 10000개\n",
        "vector_dim = 64\n",
        "\n",
        "model_4 = keras.Sequential(name = 'model_GRU')\n",
        "model_4.add(layers.Embedding(vocab_size, vector_dim, input_shape = (None,),\n",
        "                    mask_zero = True))\n",
        "model_4.add(layers.GRU(units = 128 , dropout = .2, recurrent_dropout = .2 ))\n",
        "model_4.add(layers.Dense(10, activation = 'relu'))\n",
        "model_4.add(layers.Dense(1, activation='sigmoid'))\n",
        "\n",
        "model_4.summary()"
      ],
      "execution_count": 32,
      "outputs": [
        {
          "output_type": "stream",
          "text": [
            "WARNING:tensorflow:Layer gru will not use cuDNN kernels since it doesn't meet the criteria. It will use a generic GPU kernel as fallback when running on GPU.\n",
            "Model: \"model_GRU\"\n",
            "_________________________________________________________________\n",
            "Layer (type)                 Output Shape              Param #   \n",
            "=================================================================\n",
            "embedding_3 (Embedding)      (None, None, 64)          640000    \n",
            "_________________________________________________________________\n",
            "gru (GRU)                    (None, 128)               74496     \n",
            "_________________________________________________________________\n",
            "dense_6 (Dense)              (None, 10)                1290      \n",
            "_________________________________________________________________\n",
            "dense_7 (Dense)              (None, 1)                 11        \n",
            "=================================================================\n",
            "Total params: 715,797\n",
            "Trainable params: 715,797\n",
            "Non-trainable params: 0\n",
            "_________________________________________________________________\n"
          ],
          "name": "stdout"
        }
      ]
    },
    {
      "cell_type": "markdown",
      "metadata": {
        "id": "91nBitO9eJzu"
      },
      "source": [
        "### Model_5 : Using CNN"
      ]
    },
    {
      "cell_type": "code",
      "metadata": {
        "colab": {
          "base_uri": "https://localhost:8080/"
        },
        "id": "WC1tksrcHZEC",
        "outputId": "93581402-7613-40f9-e4fb-8267ab308d96"
      },
      "source": [
        "# Model_5 생성\n",
        "\n",
        "vocab_size = 10000 \n",
        "word_vector_dim = 64\n",
        "\n",
        "model_5 = keras.Sequential(name = 'Model_CNN')\n",
        "model_5.add(keras.layers.Embedding(vocab_size, word_vector_dim, \n",
        "                                input_shape = (None, ), mask_zero = True))\n",
        "model_5.add(keras.layers.Conv1D(128, 16, activation = 'relu'))\n",
        "model_5.add(keras.layers.GlobalMaxPool1D())\n",
        "model_5.add(keras.layers.Dense(10, activation='relu'))\n",
        "model_5.add(keras.layers.Dense(1, activation = 'sigmoid'))\n",
        "\n",
        "model_5.summary()"
      ],
      "execution_count": 37,
      "outputs": [
        {
          "output_type": "stream",
          "text": [
            "Model: \"Model_CNN\"\n",
            "_________________________________________________________________\n",
            "Layer (type)                 Output Shape              Param #   \n",
            "=================================================================\n",
            "embedding_5 (Embedding)      (None, None, 64)          640000    \n",
            "_________________________________________________________________\n",
            "conv1d_1 (Conv1D)            (None, None, 128)         131200    \n",
            "_________________________________________________________________\n",
            "global_max_pooling1d_1 (Glob (None, 128)               0         \n",
            "_________________________________________________________________\n",
            "dense_10 (Dense)             (None, 10)                1290      \n",
            "_________________________________________________________________\n",
            "dense_11 (Dense)             (None, 1)                 11        \n",
            "=================================================================\n",
            "Total params: 772,501\n",
            "Trainable params: 772,501\n",
            "Non-trainable params: 0\n",
            "_________________________________________________________________\n"
          ],
          "name": "stdout"
        }
      ]
    },
    {
      "cell_type": "markdown",
      "metadata": {
        "id": "2RFVSBFcfUyo"
      },
      "source": [
        "### Model_6 : Using transformers layer -> 우선 pass\n"
      ]
    },
    {
      "cell_type": "code",
      "metadata": {
        "id": "eJ5XQUUsHZC1"
      },
      "source": [
        "!pip install transformers"
      ],
      "execution_count": null,
      "outputs": []
    },
    {
      "cell_type": "markdown",
      "metadata": {
        "id": "K1p_1fP9okTe"
      },
      "source": [
        "### Model Compile & Fit & Save"
      ]
    },
    {
      "cell_type": "code",
      "metadata": {
        "id": "f0-sYCfLo79i"
      },
      "source": [
        "# 최적일때 stop\n",
        "from keras.callbacks import EarlyStopping, ModelCheckpoint"
      ],
      "execution_count": 34,
      "outputs": []
    },
    {
      "cell_type": "code",
      "metadata": {
        "id": "-uHW-m3MrXBe"
      },
      "source": [
        "# epoch 및 batch 설정 \n",
        "epoch = 30\n",
        "batch_size = 128"
      ],
      "execution_count": 35,
      "outputs": []
    },
    {
      "cell_type": "markdown",
      "metadata": {
        "id": "WcEROO99qfV4"
      },
      "source": [
        "Accuracy를 기준으로 checkpoint 생성\n",
        "- best point를 h5 file로 저장 \n",
        "- 지금 model 5개의 학습을 3번에 걸쳐서 돌려서(1&2, 3,4&5) 3개의 h5 파일이 생성됨"
      ]
    },
    {
      "cell_type": "code",
      "metadata": {
        "colab": {
          "base_uri": "https://localhost:8080/"
        },
        "id": "RgMmyD5QHY_g",
        "outputId": "59e1154b-dacc-4faa-f339-0da3906c7fb8"
      },
      "source": [
        "# Model_1\n",
        "# checkpoint 및 earlystoppoint의 monitor와 fit의 metric은 동일해야함 \n",
        "\n",
        "model_num = 1\n",
        "file_name = 'checkpoint_epoch_{}_batch_{}_model_{}.h5'.format(epoch, batch_size, model_num)\n",
        "\n",
        "checkpoint = ModelCheckpoint(file_name, monitor = 'accuracy', verbose = 2,\n",
        "                             save_best_only = True, mode = 'auto')\n",
        "\n",
        "earlystoppoint = EarlyStopping(monitor = 'accuracy', patience = 5) #patience를 좀 줄일걸 \n",
        "\n",
        "model_1.compile(loss = 'binary_crossentropy', optimizer='adam', metrics = ['accuracy'])\n",
        "\n",
        "print(model_1.summary())\n",
        "\n",
        "# model fit\n",
        "\n",
        "history_1 = model_1.fit(x_train, y_train, validation_data = (x_val, y_val), \n",
        "                        epochs = epoch, batch_size = batch_size, \n",
        "                        callbacks = [checkpoint, earlystoppoint])\n"
      ],
      "execution_count": 41,
      "outputs": [
        {
          "output_type": "stream",
          "text": [
            "Model: \"model_LSTM\"\n",
            "_________________________________________________________________\n",
            "Layer (type)                 Output Shape              Param #   \n",
            "=================================================================\n",
            "embedding (Embedding)        (None, None, 64)          640000    \n",
            "_________________________________________________________________\n",
            "bidirectional (Bidirectional (None, 256)               197632    \n",
            "_________________________________________________________________\n",
            "dense (Dense)                (None, 10)                2570      \n",
            "_________________________________________________________________\n",
            "dense_1 (Dense)              (None, 1)                 11        \n",
            "=================================================================\n",
            "Total params: 840,213\n",
            "Trainable params: 840,213\n",
            "Non-trainable params: 0\n",
            "_________________________________________________________________\n",
            "None\n",
            "Epoch 1/30\n",
            "912/912 [==============================] - 252s 267ms/step - loss: 0.3890 - accuracy: 0.8266 - val_loss: 0.3402 - val_accuracy: 0.8496\n",
            "\n",
            "Epoch 00001: accuracy improved from -inf to 0.82660, saving model to checkpoint_epoch_30_batch_128_model_1.h5\n",
            "Epoch 2/30\n",
            "912/912 [==============================] - 241s 264ms/step - loss: 0.3075 - accuracy: 0.8667 - val_loss: 0.3303 - val_accuracy: 0.8541\n",
            "\n",
            "Epoch 00002: accuracy improved from 0.82660 to 0.86672, saving model to checkpoint_epoch_30_batch_128_model_1.h5\n",
            "Epoch 3/30\n",
            "912/912 [==============================] - 242s 265ms/step - loss: 0.2592 - accuracy: 0.8905 - val_loss: 0.3307 - val_accuracy: 0.8593\n",
            "\n",
            "Epoch 00003: accuracy improved from 0.86672 to 0.89045, saving model to checkpoint_epoch_30_batch_128_model_1.h5\n",
            "Epoch 4/30\n",
            "912/912 [==============================] - 240s 263ms/step - loss: 0.2193 - accuracy: 0.9098 - val_loss: 0.3562 - val_accuracy: 0.8556\n",
            "\n",
            "Epoch 00004: accuracy improved from 0.89045 to 0.90984, saving model to checkpoint_epoch_30_batch_128_model_1.h5\n",
            "Epoch 5/30\n",
            "912/912 [==============================] - 239s 262ms/step - loss: 0.1843 - accuracy: 0.9251 - val_loss: 0.3911 - val_accuracy: 0.8519\n",
            "\n",
            "Epoch 00005: accuracy improved from 0.90984 to 0.92514, saving model to checkpoint_epoch_30_batch_128_model_1.h5\n",
            "Epoch 6/30\n",
            "912/912 [==============================] - 238s 261ms/step - loss: 0.1527 - accuracy: 0.9387 - val_loss: 0.4518 - val_accuracy: 0.8517\n",
            "\n",
            "Epoch 00006: accuracy improved from 0.92514 to 0.93871, saving model to checkpoint_epoch_30_batch_128_model_1.h5\n",
            "Epoch 7/30\n",
            "912/912 [==============================] - 238s 261ms/step - loss: 0.1261 - accuracy: 0.9498 - val_loss: 0.5019 - val_accuracy: 0.8496\n",
            "\n",
            "Epoch 00007: accuracy improved from 0.93871 to 0.94978, saving model to checkpoint_epoch_30_batch_128_model_1.h5\n",
            "Epoch 8/30\n",
            "912/912 [==============================] - 237s 260ms/step - loss: 0.1055 - accuracy: 0.9577 - val_loss: 0.6044 - val_accuracy: 0.8450\n",
            "\n",
            "Epoch 00008: accuracy improved from 0.94978 to 0.95769, saving model to checkpoint_epoch_30_batch_128_model_1.h5\n",
            "Epoch 9/30\n",
            "912/912 [==============================] - 238s 261ms/step - loss: 0.0895 - accuracy: 0.9632 - val_loss: 0.6600 - val_accuracy: 0.8466\n",
            "\n",
            "Epoch 00009: accuracy improved from 0.95769 to 0.96324, saving model to checkpoint_epoch_30_batch_128_model_1.h5\n",
            "Epoch 10/30\n",
            "912/912 [==============================] - 238s 260ms/step - loss: 0.0770 - accuracy: 0.9684 - val_loss: 0.7688 - val_accuracy: 0.8388\n",
            "\n",
            "Epoch 00010: accuracy improved from 0.96324 to 0.96835, saving model to checkpoint_epoch_30_batch_128_model_1.h5\n",
            "Epoch 11/30\n",
            "912/912 [==============================] - 239s 262ms/step - loss: 0.0690 - accuracy: 0.9717 - val_loss: 0.8072 - val_accuracy: 0.8423\n",
            "\n",
            "Epoch 00011: accuracy improved from 0.96835 to 0.97168, saving model to checkpoint_epoch_30_batch_128_model_1.h5\n",
            "Epoch 12/30\n",
            "912/912 [==============================] - 238s 261ms/step - loss: 0.0597 - accuracy: 0.9754 - val_loss: 0.8809 - val_accuracy: 0.8405\n",
            "\n",
            "Epoch 00012: accuracy improved from 0.97168 to 0.97542, saving model to checkpoint_epoch_30_batch_128_model_1.h5\n",
            "Epoch 13/30\n",
            "912/912 [==============================] - 238s 261ms/step - loss: 0.0536 - accuracy: 0.9778 - val_loss: 0.9399 - val_accuracy: 0.8381\n",
            "\n",
            "Epoch 00013: accuracy improved from 0.97542 to 0.97783, saving model to checkpoint_epoch_30_batch_128_model_1.h5\n",
            "Epoch 14/30\n",
            "912/912 [==============================] - 237s 260ms/step - loss: 0.0488 - accuracy: 0.9797 - val_loss: 1.0133 - val_accuracy: 0.8373\n",
            "\n",
            "Epoch 00014: accuracy improved from 0.97783 to 0.97971, saving model to checkpoint_epoch_30_batch_128_model_1.h5\n",
            "Epoch 15/30\n",
            "912/912 [==============================] - 229s 251ms/step - loss: 0.0432 - accuracy: 0.9822 - val_loss: 1.0588 - val_accuracy: 0.8402\n",
            "\n",
            "Epoch 00015: accuracy improved from 0.97971 to 0.98224, saving model to checkpoint_epoch_30_batch_128_model_1.h5\n",
            "Epoch 16/30\n",
            "912/912 [==============================] - 227s 249ms/step - loss: 0.0402 - accuracy: 0.9831 - val_loss: 1.1092 - val_accuracy: 0.8378\n",
            "\n",
            "Epoch 00016: accuracy improved from 0.98224 to 0.98312, saving model to checkpoint_epoch_30_batch_128_model_1.h5\n",
            "Epoch 17/30\n",
            "912/912 [==============================] - 227s 249ms/step - loss: 0.0369 - accuracy: 0.9845 - val_loss: 1.1371 - val_accuracy: 0.8403\n",
            "\n",
            "Epoch 00017: accuracy improved from 0.98312 to 0.98450, saving model to checkpoint_epoch_30_batch_128_model_1.h5\n",
            "Epoch 18/30\n",
            "912/912 [==============================] - 228s 250ms/step - loss: 0.0338 - accuracy: 0.9856 - val_loss: 1.1838 - val_accuracy: 0.8365\n",
            "\n",
            "Epoch 00018: accuracy improved from 0.98450 to 0.98559, saving model to checkpoint_epoch_30_batch_128_model_1.h5\n",
            "Epoch 19/30\n",
            "912/912 [==============================] - 228s 250ms/step - loss: 0.0304 - accuracy: 0.9873 - val_loss: 1.2861 - val_accuracy: 0.8398\n",
            "\n",
            "Epoch 00019: accuracy improved from 0.98559 to 0.98728, saving model to checkpoint_epoch_30_batch_128_model_1.h5\n",
            "Epoch 20/30\n",
            "912/912 [==============================] - 228s 250ms/step - loss: 0.0281 - accuracy: 0.9883 - val_loss: 1.3447 - val_accuracy: 0.8343\n",
            "\n",
            "Epoch 00020: accuracy improved from 0.98728 to 0.98830, saving model to checkpoint_epoch_30_batch_128_model_1.h5\n",
            "Epoch 21/30\n",
            "912/912 [==============================] - 226s 248ms/step - loss: 0.0271 - accuracy: 0.9886 - val_loss: 1.3747 - val_accuracy: 0.8344\n",
            "\n",
            "Epoch 00021: accuracy improved from 0.98830 to 0.98857, saving model to checkpoint_epoch_30_batch_128_model_1.h5\n",
            "Epoch 22/30\n",
            "912/912 [==============================] - 228s 251ms/step - loss: 0.0244 - accuracy: 0.9896 - val_loss: 1.3421 - val_accuracy: 0.8354\n",
            "\n",
            "Epoch 00022: accuracy improved from 0.98857 to 0.98959, saving model to checkpoint_epoch_30_batch_128_model_1.h5\n",
            "Epoch 23/30\n",
            "912/912 [==============================] - 228s 250ms/step - loss: 0.0235 - accuracy: 0.9903 - val_loss: 1.4512 - val_accuracy: 0.8358\n",
            "\n",
            "Epoch 00023: accuracy improved from 0.98959 to 0.99026, saving model to checkpoint_epoch_30_batch_128_model_1.h5\n",
            "Epoch 24/30\n",
            "912/912 [==============================] - 228s 250ms/step - loss: 0.0212 - accuracy: 0.9909 - val_loss: 1.5221 - val_accuracy: 0.8371\n",
            "\n",
            "Epoch 00024: accuracy improved from 0.99026 to 0.99089, saving model to checkpoint_epoch_30_batch_128_model_1.h5\n",
            "Epoch 25/30\n",
            "912/912 [==============================] - 228s 250ms/step - loss: 0.0195 - accuracy: 0.9914 - val_loss: 1.5340 - val_accuracy: 0.8317\n",
            "\n",
            "Epoch 00025: accuracy improved from 0.99089 to 0.99137, saving model to checkpoint_epoch_30_batch_128_model_1.h5\n",
            "Epoch 26/30\n",
            "912/912 [==============================] - 229s 252ms/step - loss: 0.0207 - accuracy: 0.9913 - val_loss: 1.5809 - val_accuracy: 0.8370\n",
            "\n",
            "Epoch 00026: accuracy did not improve from 0.99137\n",
            "Epoch 27/30\n",
            "912/912 [==============================] - 228s 250ms/step - loss: 0.0177 - accuracy: 0.9923 - val_loss: 1.5821 - val_accuracy: 0.8353\n",
            "\n",
            "Epoch 00027: accuracy improved from 0.99137 to 0.99229, saving model to checkpoint_epoch_30_batch_128_model_1.h5\n",
            "Epoch 28/30\n",
            "912/912 [==============================] - 228s 250ms/step - loss: 0.0174 - accuracy: 0.9923 - val_loss: 1.5800 - val_accuracy: 0.8332\n",
            "\n",
            "Epoch 00028: accuracy improved from 0.99229 to 0.99232, saving model to checkpoint_epoch_30_batch_128_model_1.h5\n",
            "Epoch 29/30\n",
            "912/912 [==============================] - 228s 250ms/step - loss: 0.0175 - accuracy: 0.9926 - val_loss: 1.6523 - val_accuracy: 0.8391\n",
            "\n",
            "Epoch 00029: accuracy improved from 0.99232 to 0.99264, saving model to checkpoint_epoch_30_batch_128_model_1.h5\n",
            "Epoch 30/30\n",
            "912/912 [==============================] - 228s 250ms/step - loss: 0.0157 - accuracy: 0.9931 - val_loss: 1.6503 - val_accuracy: 0.8333\n",
            "\n",
            "Epoch 00030: accuracy improved from 0.99264 to 0.99314, saving model to checkpoint_epoch_30_batch_128_model_1.h5\n"
          ],
          "name": "stdout"
        }
      ]
    },
    {
      "cell_type": "code",
      "metadata": {
        "colab": {
          "base_uri": "https://localhost:8080/"
        },
        "id": "Ahe67xgVXqwu",
        "outputId": "4bdf70a2-9dfa-4c3f-d5af-6de3776321bc"
      },
      "source": [
        "# Model save & test\n",
        "model_1.save(join(root_path, 'E7_model_1.h5'))\n",
        "\n",
        "results_1 = model_1.evaluate(x_test,  y_test, verbose=2)\n",
        "print(results_1)"
      ],
      "execution_count": 42,
      "outputs": [
        {
          "output_type": "stream",
          "text": [
            "1534/1534 - 36s - loss: 1.6796 - accuracy: 0.8296\n",
            "[1.6795769929885864, 0.8295600414276123]\n"
          ],
          "name": "stdout"
        }
      ]
    },
    {
      "cell_type": "code",
      "metadata": {
        "colab": {
          "base_uri": "https://localhost:8080/"
        },
        "id": "hOwsXxWqrFXd",
        "outputId": "a988bd77-b749-42d9-beac-39537456c45f"
      },
      "source": [
        "# Model_2\n",
        "\n",
        "model_num = 2\n",
        "file_name = 'checkpoint_epoch_{}_batch_{}_model_{}.h5'.format(epoch, batch_size, model_num)\n",
        "\n",
        "checkpoint2 = ModelCheckpoint(file_name, monitor = 'accuracy', verbose = 2,\n",
        "                             save_best_only = True, mode = 'auto')\n",
        "\n",
        "earlystoppoint2 = EarlyStopping(monitor = 'accuracy', patience = 5) #patience를 좀 줄일걸 \n",
        "\n",
        "\n",
        "model_2.compile(loss = 'binary_crossentropy', optimizer='adam', metrics = ['accuracy'])\n",
        "\n",
        "print(model_2.summary())\n",
        "\n",
        "history_2 = model_2.fit(x_train, y_train, validation_data = (x_val, y_val), \n",
        "                        epochs = epoch, batch_size = batch_size, \n",
        "                        callbacks = [checkpoint2, earlystoppoint2])"
      ],
      "execution_count": 34,
      "outputs": [
        {
          "output_type": "stream",
          "text": [
            "Model: \"Model_CNN\"\n",
            "_________________________________________________________________\n",
            "Layer (type)                 Output Shape              Param #   \n",
            "=================================================================\n",
            "embedding_4 (Embedding)      (None, None, 64)          640000    \n",
            "_________________________________________________________________\n",
            "conv1d (Conv1D)              (None, None, 128)         131200    \n",
            "_________________________________________________________________\n",
            "global_max_pooling1d (Global (None, 128)               0         \n",
            "_________________________________________________________________\n",
            "dense_8 (Dense)              (None, 10)                1290      \n",
            "_________________________________________________________________\n",
            "dense_9 (Dense)              (None, 1)                 11        \n",
            "=================================================================\n",
            "Total params: 772,501\n",
            "Trainable params: 772,501\n",
            "Non-trainable params: 0\n",
            "_________________________________________________________________\n",
            "None\n",
            "Epoch 1/30\n",
            "912/912 [==============================] - 41s 13ms/step - loss: 0.3983 - accuracy: 0.8113 - val_loss: 0.3277 - val_accuracy: 0.8565\n",
            "\n",
            "Epoch 00001: accuracy did not improve from 0.99355\n",
            "Epoch 2/30\n",
            "912/912 [==============================] - 12s 13ms/step - loss: 0.2810 - accuracy: 0.8832 - val_loss: 0.3273 - val_accuracy: 0.8577\n",
            "\n",
            "Epoch 00002: accuracy did not improve from 0.99355\n",
            "Epoch 3/30\n",
            "912/912 [==============================] - 12s 13ms/step - loss: 0.2024 - accuracy: 0.9205 - val_loss: 0.3682 - val_accuracy: 0.8529\n",
            "\n",
            "Epoch 00003: accuracy did not improve from 0.99355\n",
            "Epoch 4/30\n",
            "912/912 [==============================] - 12s 13ms/step - loss: 0.1307 - accuracy: 0.9524 - val_loss: 0.4536 - val_accuracy: 0.8463\n",
            "\n",
            "Epoch 00004: accuracy did not improve from 0.99355\n",
            "Epoch 5/30\n",
            "912/912 [==============================] - 12s 13ms/step - loss: 0.0843 - accuracy: 0.9705 - val_loss: 0.5245 - val_accuracy: 0.8390\n",
            "\n",
            "Epoch 00005: accuracy did not improve from 0.99355\n",
            "Epoch 6/30\n",
            "912/912 [==============================] - 11s 12ms/step - loss: 0.0577 - accuracy: 0.9794 - val_loss: 0.6738 - val_accuracy: 0.8360\n",
            "\n",
            "Epoch 00006: accuracy did not improve from 0.99355\n",
            "Epoch 7/30\n",
            "912/912 [==============================] - 11s 12ms/step - loss: 0.0435 - accuracy: 0.9844 - val_loss: 0.7575 - val_accuracy: 0.8396\n",
            "\n",
            "Epoch 00007: accuracy did not improve from 0.99355\n",
            "Epoch 8/30\n",
            "912/912 [==============================] - 12s 13ms/step - loss: 0.0349 - accuracy: 0.9871 - val_loss: 0.8879 - val_accuracy: 0.8380\n",
            "\n",
            "Epoch 00008: accuracy did not improve from 0.99355\n",
            "Epoch 9/30\n",
            "912/912 [==============================] - 12s 13ms/step - loss: 0.0320 - accuracy: 0.9879 - val_loss: 0.9165 - val_accuracy: 0.8306\n",
            "\n",
            "Epoch 00009: accuracy did not improve from 0.99355\n",
            "Epoch 10/30\n",
            "912/912 [==============================] - 11s 12ms/step - loss: 0.0276 - accuracy: 0.9892 - val_loss: 1.0876 - val_accuracy: 0.8332\n",
            "\n",
            "Epoch 00010: accuracy did not improve from 0.99355\n",
            "Epoch 11/30\n",
            "912/912 [==============================] - 11s 12ms/step - loss: 0.0269 - accuracy: 0.9895 - val_loss: 1.1027 - val_accuracy: 0.8353\n",
            "\n",
            "Epoch 00011: accuracy did not improve from 0.99355\n",
            "Epoch 12/30\n",
            "912/912 [==============================] - 11s 12ms/step - loss: 0.0222 - accuracy: 0.9909 - val_loss: 1.1391 - val_accuracy: 0.8276\n",
            "\n",
            "Epoch 00012: accuracy did not improve from 0.99355\n",
            "Epoch 13/30\n",
            "912/912 [==============================] - 12s 13ms/step - loss: 0.0185 - accuracy: 0.9927 - val_loss: 1.2667 - val_accuracy: 0.8270\n",
            "\n",
            "Epoch 00013: accuracy did not improve from 0.99355\n",
            "Epoch 14/30\n",
            "912/912 [==============================] - 12s 13ms/step - loss: 0.0202 - accuracy: 0.9918 - val_loss: 1.2773 - val_accuracy: 0.8333\n",
            "\n",
            "Epoch 00014: accuracy did not improve from 0.99355\n",
            "Epoch 15/30\n",
            "912/912 [==============================] - 12s 13ms/step - loss: 0.0197 - accuracy: 0.9921 - val_loss: 1.3263 - val_accuracy: 0.8280\n",
            "\n",
            "Epoch 00015: accuracy did not improve from 0.99355\n",
            "Epoch 16/30\n",
            "912/912 [==============================] - 11s 12ms/step - loss: 0.0164 - accuracy: 0.9930 - val_loss: 1.4212 - val_accuracy: 0.8307\n",
            "\n",
            "Epoch 00016: accuracy did not improve from 0.99355\n",
            "Epoch 17/30\n",
            "912/912 [==============================] - 11s 12ms/step - loss: 0.0154 - accuracy: 0.9936 - val_loss: 1.4587 - val_accuracy: 0.8294\n",
            "\n",
            "Epoch 00017: accuracy improved from 0.99355 to 0.99357, saving model to checkpoint_epoch_30_batch_128_model_1.h5\n",
            "Epoch 18/30\n",
            "912/912 [==============================] - 11s 12ms/step - loss: 0.0173 - accuracy: 0.9929 - val_loss: 1.4886 - val_accuracy: 0.8258\n",
            "\n",
            "Epoch 00018: accuracy did not improve from 0.99357\n",
            "Epoch 19/30\n",
            "912/912 [==============================] - 12s 13ms/step - loss: 0.0162 - accuracy: 0.9930 - val_loss: 1.5146 - val_accuracy: 0.8293\n",
            "\n",
            "Epoch 00019: accuracy did not improve from 0.99357\n",
            "Epoch 20/30\n",
            "912/912 [==============================] - 12s 13ms/step - loss: 0.0149 - accuracy: 0.9935 - val_loss: 1.6060 - val_accuracy: 0.8308\n",
            "\n",
            "Epoch 00020: accuracy did not improve from 0.99357\n",
            "Epoch 21/30\n",
            "912/912 [==============================] - 12s 13ms/step - loss: 0.0130 - accuracy: 0.9941 - val_loss: 1.6065 - val_accuracy: 0.8282\n",
            "\n",
            "Epoch 00021: accuracy improved from 0.99357 to 0.99415, saving model to checkpoint_epoch_30_batch_128_model_1.h5\n",
            "Epoch 22/30\n",
            "912/912 [==============================] - 12s 13ms/step - loss: 0.0134 - accuracy: 0.9939 - val_loss: 1.6791 - val_accuracy: 0.8301\n",
            "\n",
            "Epoch 00022: accuracy did not improve from 0.99415\n",
            "Epoch 23/30\n",
            "912/912 [==============================] - 11s 12ms/step - loss: 0.0139 - accuracy: 0.9938 - val_loss: 1.7236 - val_accuracy: 0.8310\n",
            "\n",
            "Epoch 00023: accuracy did not improve from 0.99415\n",
            "Epoch 24/30\n",
            "912/912 [==============================] - 11s 12ms/step - loss: 0.0152 - accuracy: 0.9938 - val_loss: 1.6915 - val_accuracy: 0.8330\n",
            "\n",
            "Epoch 00024: accuracy did not improve from 0.99415\n",
            "Epoch 25/30\n",
            "912/912 [==============================] - 12s 13ms/step - loss: 0.0138 - accuracy: 0.9941 - val_loss: 1.6610 - val_accuracy: 0.8278\n",
            "\n",
            "Epoch 00025: accuracy did not improve from 0.99415\n",
            "Epoch 26/30\n",
            "912/912 [==============================] - 12s 13ms/step - loss: 0.0109 - accuracy: 0.9951 - val_loss: 1.8020 - val_accuracy: 0.8309\n",
            "\n",
            "Epoch 00026: accuracy improved from 0.99415 to 0.99507, saving model to checkpoint_epoch_30_batch_128_model_1.h5\n",
            "Epoch 27/30\n",
            "912/912 [==============================] - 12s 13ms/step - loss: 0.0099 - accuracy: 0.9953 - val_loss: 1.8339 - val_accuracy: 0.8288\n",
            "\n",
            "Epoch 00027: accuracy improved from 0.99507 to 0.99535, saving model to checkpoint_epoch_30_batch_128_model_1.h5\n",
            "Epoch 28/30\n",
            "912/912 [==============================] - 12s 13ms/step - loss: 0.0144 - accuracy: 0.9938 - val_loss: 1.8445 - val_accuracy: 0.8308\n",
            "\n",
            "Epoch 00028: accuracy did not improve from 0.99535\n",
            "Epoch 29/30\n",
            "912/912 [==============================] - 12s 13ms/step - loss: 0.0152 - accuracy: 0.9936 - val_loss: 1.7019 - val_accuracy: 0.8263\n",
            "\n",
            "Epoch 00029: accuracy did not improve from 0.99535\n",
            "Epoch 30/30\n",
            "912/912 [==============================] - 11s 12ms/step - loss: 0.0103 - accuracy: 0.9952 - val_loss: 1.8490 - val_accuracy: 0.8349\n",
            "\n",
            "Epoch 00030: accuracy did not improve from 0.99535\n"
          ],
          "name": "stdout"
        }
      ]
    },
    {
      "cell_type": "code",
      "metadata": {
        "id": "5GWJm8Y0dg_Y"
      },
      "source": [
        "# 학습한 후 runtime 종료로 인해 다시 불러옴\n",
        "\n",
        "model_2.load_weights(join(root_path, 'checkpoint_epoch_30_batch_128_model_2.h5'))"
      ],
      "execution_count": 44,
      "outputs": []
    },
    {
      "cell_type": "code",
      "metadata": {
        "colab": {
          "base_uri": "https://localhost:8080/",
          "height": 920
        },
        "id": "-vLEjBvrsgsE",
        "outputId": "ec765d5c-3e67-46f0-e9e8-ab4cbc1c5f72"
      },
      "source": [
        "# Model_3\n",
        "# patience 줄여서 학습 시작 \n",
        "# 잘못 click해서 결과 say goodbye. 그러나 accuracy 굉장히 낮게 나왔었음 0.5 정도\n",
        "\n",
        "model_num = 3\n",
        "file_name = 'checkpoint_epoch_{}_batch_{}_model_{}.h5'.format(epoch, batch_size, model_num)\n",
        "\n",
        "checkpoint3 = ModelCheckpoint(file_name, monitor = 'accuracy', verbose = 2,\n",
        "                             save_best_only = True, mode = 'auto')\n",
        "\n",
        "earlystoppoint3 = EarlyStopping(monitor = 'accuracy', patience = 5) \n",
        "\n",
        "model_3.compile(loss = 'binary_crossentropy', optimizer='adam', metrics = ['accuracy'])\n",
        "\n",
        "print(model_3.summary())\n",
        "\n",
        "history_3 = model_3.fit(x_train, y_train, validation_data = (x_val, y_val), \n",
        "                        epochs = epoch, batch_size = batch_size, \n",
        "                        callbacks = [checkpoint3, earlystoppoint3])"
      ],
      "execution_count": 38,
      "outputs": [
        {
          "output_type": "stream",
          "text": [
            "Model: \"model_LSTM_drop_softmax\"\n",
            "_________________________________________________________________\n",
            "Layer (type)                 Output Shape              Param #   \n",
            "=================================================================\n",
            "embedding_2 (Embedding)      (None, None, 64)          640000    \n",
            "_________________________________________________________________\n",
            "bidirectional_2 (Bidirection (None, 256)               197632    \n",
            "_________________________________________________________________\n",
            "dense_4 (Dense)              (None, 10)                2570      \n",
            "_________________________________________________________________\n",
            "dense_5 (Dense)              (None, 1)                 11        \n",
            "=================================================================\n",
            "Total params: 840,213\n",
            "Trainable params: 840,213\n",
            "Non-trainable params: 0\n",
            "_________________________________________________________________\n",
            "None\n",
            "Epoch 1/30\n"
          ],
          "name": "stdout"
        },
        {
          "output_type": "stream",
          "text": [
            "Exception ignored in: <function IteratorResourceDeleter.__del__ at 0x7f1c4df8d290>\n",
            "Traceback (most recent call last):\n",
            "  File \"/usr/local/lib/python3.7/dist-packages/tensorflow/python/data/ops/iterator_ops.py\", line 546, in __del__\n",
            "    handle=self._handle, deleter=self._deleter)\n",
            "  File \"/usr/local/lib/python3.7/dist-packages/tensorflow/python/ops/gen_dataset_ops.py\", line 1264, in delete_iterator\n",
            "    _ctx, \"DeleteIterator\", name, handle, deleter)\n",
            "KeyboardInterrupt: \n"
          ],
          "name": "stderr"
        },
        {
          "output_type": "error",
          "ename": "KeyboardInterrupt",
          "evalue": "ignored",
          "traceback": [
            "\u001b[0;31m---------------------------------------------------------------------------\u001b[0m",
            "\u001b[0;31mInvalidArgumentError\u001b[0m                      Traceback (most recent call last)",
            "\u001b[0;32m/usr/local/lib/python3.7/dist-packages/tensorflow/python/framework/ops.py\u001b[0m in \u001b[0;36mget_attr\u001b[0;34m(self, name)\u001b[0m\n\u001b[1;32m   2559\u001b[0m       \u001b[0;32mwith\u001b[0m \u001b[0mc_api_util\u001b[0m\u001b[0;34m.\u001b[0m\u001b[0mtf_buffer\u001b[0m\u001b[0;34m(\u001b[0m\u001b[0;34m)\u001b[0m \u001b[0;32mas\u001b[0m \u001b[0mbuf\u001b[0m\u001b[0;34m:\u001b[0m\u001b[0;34m\u001b[0m\u001b[0;34m\u001b[0m\u001b[0m\n\u001b[0;32m-> 2560\u001b[0;31m         \u001b[0mpywrap_tf_session\u001b[0m\u001b[0;34m.\u001b[0m\u001b[0mTF_OperationGetAttrValueProto\u001b[0m\u001b[0;34m(\u001b[0m\u001b[0mself\u001b[0m\u001b[0;34m.\u001b[0m\u001b[0m_c_op\u001b[0m\u001b[0;34m,\u001b[0m \u001b[0mname\u001b[0m\u001b[0;34m,\u001b[0m \u001b[0mbuf\u001b[0m\u001b[0;34m)\u001b[0m\u001b[0;34m\u001b[0m\u001b[0;34m\u001b[0m\u001b[0m\n\u001b[0m\u001b[1;32m   2561\u001b[0m         \u001b[0mdata\u001b[0m \u001b[0;34m=\u001b[0m \u001b[0mpywrap_tf_session\u001b[0m\u001b[0;34m.\u001b[0m\u001b[0mTF_GetBuffer\u001b[0m\u001b[0;34m(\u001b[0m\u001b[0mbuf\u001b[0m\u001b[0;34m)\u001b[0m\u001b[0;34m\u001b[0m\u001b[0;34m\u001b[0m\u001b[0m\n",
            "\u001b[0;31mInvalidArgumentError\u001b[0m: Operation 'gradient_tape/model_LSTM_drop_softmax/bidirectional_2/forward_lstm_2/while/gradients/model_LSTM_drop_softmax/bidirectional_2/forward_lstm_2/while/lstm_cell_7/mul_2_grad/BroadcastGradientArgs' has no attr named '_read_only_resource_inputs'.",
            "\nDuring handling of the above exception, another exception occurred:\n",
            "\u001b[0;31mKeyboardInterrupt\u001b[0m                         Traceback (most recent call last)",
            "\u001b[0;32m<ipython-input-38-b92ca501693e>\u001b[0m in \u001b[0;36m<module>\u001b[0;34m()\u001b[0m\n\u001b[1;32m     16\u001b[0m history_3 = model_3.fit(x_train, y_train, validation_data = (x_val, y_val), \n\u001b[1;32m     17\u001b[0m                         \u001b[0mepochs\u001b[0m \u001b[0;34m=\u001b[0m \u001b[0mepoch\u001b[0m\u001b[0;34m,\u001b[0m \u001b[0mbatch_size\u001b[0m \u001b[0;34m=\u001b[0m \u001b[0mbatch_size\u001b[0m\u001b[0;34m,\u001b[0m\u001b[0;34m\u001b[0m\u001b[0;34m\u001b[0m\u001b[0m\n\u001b[0;32m---> 18\u001b[0;31m                         callbacks = [checkpoint, earlystoppoint])\n\u001b[0m",
            "\u001b[0;32m/usr/local/lib/python3.7/dist-packages/tensorflow/python/keras/engine/training.py\u001b[0m in \u001b[0;36mfit\u001b[0;34m(self, x, y, batch_size, epochs, verbose, callbacks, validation_split, validation_data, shuffle, class_weight, sample_weight, initial_epoch, steps_per_epoch, validation_steps, validation_batch_size, validation_freq, max_queue_size, workers, use_multiprocessing)\u001b[0m\n\u001b[1;32m   1181\u001b[0m                 _r=1):\n\u001b[1;32m   1182\u001b[0m               \u001b[0mcallbacks\u001b[0m\u001b[0;34m.\u001b[0m\u001b[0mon_train_batch_begin\u001b[0m\u001b[0;34m(\u001b[0m\u001b[0mstep\u001b[0m\u001b[0;34m)\u001b[0m\u001b[0;34m\u001b[0m\u001b[0;34m\u001b[0m\u001b[0m\n\u001b[0;32m-> 1183\u001b[0;31m               \u001b[0mtmp_logs\u001b[0m \u001b[0;34m=\u001b[0m \u001b[0mself\u001b[0m\u001b[0;34m.\u001b[0m\u001b[0mtrain_function\u001b[0m\u001b[0;34m(\u001b[0m\u001b[0miterator\u001b[0m\u001b[0;34m)\u001b[0m\u001b[0;34m\u001b[0m\u001b[0;34m\u001b[0m\u001b[0m\n\u001b[0m\u001b[1;32m   1184\u001b[0m               \u001b[0;32mif\u001b[0m \u001b[0mdata_handler\u001b[0m\u001b[0;34m.\u001b[0m\u001b[0mshould_sync\u001b[0m\u001b[0;34m:\u001b[0m\u001b[0;34m\u001b[0m\u001b[0;34m\u001b[0m\u001b[0m\n\u001b[1;32m   1185\u001b[0m                 \u001b[0mcontext\u001b[0m\u001b[0;34m.\u001b[0m\u001b[0masync_wait\u001b[0m\u001b[0;34m(\u001b[0m\u001b[0;34m)\u001b[0m\u001b[0;34m\u001b[0m\u001b[0;34m\u001b[0m\u001b[0m\n",
            "\u001b[0;32m/usr/local/lib/python3.7/dist-packages/tensorflow/python/eager/def_function.py\u001b[0m in \u001b[0;36m__call__\u001b[0;34m(self, *args, **kwds)\u001b[0m\n\u001b[1;32m    887\u001b[0m \u001b[0;34m\u001b[0m\u001b[0m\n\u001b[1;32m    888\u001b[0m       \u001b[0;32mwith\u001b[0m \u001b[0mOptionalXlaContext\u001b[0m\u001b[0;34m(\u001b[0m\u001b[0mself\u001b[0m\u001b[0;34m.\u001b[0m\u001b[0m_jit_compile\u001b[0m\u001b[0;34m)\u001b[0m\u001b[0;34m:\u001b[0m\u001b[0;34m\u001b[0m\u001b[0;34m\u001b[0m\u001b[0m\n\u001b[0;32m--> 889\u001b[0;31m         \u001b[0mresult\u001b[0m \u001b[0;34m=\u001b[0m \u001b[0mself\u001b[0m\u001b[0;34m.\u001b[0m\u001b[0m_call\u001b[0m\u001b[0;34m(\u001b[0m\u001b[0;34m*\u001b[0m\u001b[0margs\u001b[0m\u001b[0;34m,\u001b[0m \u001b[0;34m**\u001b[0m\u001b[0mkwds\u001b[0m\u001b[0;34m)\u001b[0m\u001b[0;34m\u001b[0m\u001b[0;34m\u001b[0m\u001b[0m\n\u001b[0m\u001b[1;32m    890\u001b[0m \u001b[0;34m\u001b[0m\u001b[0m\n\u001b[1;32m    891\u001b[0m       \u001b[0mnew_tracing_count\u001b[0m \u001b[0;34m=\u001b[0m \u001b[0mself\u001b[0m\u001b[0;34m.\u001b[0m\u001b[0mexperimental_get_tracing_count\u001b[0m\u001b[0;34m(\u001b[0m\u001b[0;34m)\u001b[0m\u001b[0;34m\u001b[0m\u001b[0;34m\u001b[0m\u001b[0m\n",
            "\u001b[0;32m/usr/local/lib/python3.7/dist-packages/tensorflow/python/eager/def_function.py\u001b[0m in \u001b[0;36m_call\u001b[0;34m(self, *args, **kwds)\u001b[0m\n\u001b[1;32m    948\u001b[0m         \u001b[0;31m# Lifting succeeded, so variables are initialized and we can run the\u001b[0m\u001b[0;34m\u001b[0m\u001b[0;34m\u001b[0m\u001b[0;34m\u001b[0m\u001b[0m\n\u001b[1;32m    949\u001b[0m         \u001b[0;31m# stateless function.\u001b[0m\u001b[0;34m\u001b[0m\u001b[0;34m\u001b[0m\u001b[0;34m\u001b[0m\u001b[0m\n\u001b[0;32m--> 950\u001b[0;31m         \u001b[0;32mreturn\u001b[0m \u001b[0mself\u001b[0m\u001b[0;34m.\u001b[0m\u001b[0m_stateless_fn\u001b[0m\u001b[0;34m(\u001b[0m\u001b[0;34m*\u001b[0m\u001b[0margs\u001b[0m\u001b[0;34m,\u001b[0m \u001b[0;34m**\u001b[0m\u001b[0mkwds\u001b[0m\u001b[0;34m)\u001b[0m\u001b[0;34m\u001b[0m\u001b[0;34m\u001b[0m\u001b[0m\n\u001b[0m\u001b[1;32m    951\u001b[0m     \u001b[0;32melse\u001b[0m\u001b[0;34m:\u001b[0m\u001b[0;34m\u001b[0m\u001b[0;34m\u001b[0m\u001b[0m\n\u001b[1;32m    952\u001b[0m       \u001b[0m_\u001b[0m\u001b[0;34m,\u001b[0m \u001b[0m_\u001b[0m\u001b[0;34m,\u001b[0m \u001b[0m_\u001b[0m\u001b[0;34m,\u001b[0m \u001b[0mfiltered_flat_args\u001b[0m \u001b[0;34m=\u001b[0m\u001b[0;31m \u001b[0m\u001b[0;31m\\\u001b[0m\u001b[0;34m\u001b[0m\u001b[0;34m\u001b[0m\u001b[0m\n",
            "\u001b[0;32m/usr/local/lib/python3.7/dist-packages/tensorflow/python/eager/function.py\u001b[0m in \u001b[0;36m__call__\u001b[0;34m(self, *args, **kwargs)\u001b[0m\n\u001b[1;32m   3020\u001b[0m     \u001b[0;32mwith\u001b[0m \u001b[0mself\u001b[0m\u001b[0;34m.\u001b[0m\u001b[0m_lock\u001b[0m\u001b[0;34m:\u001b[0m\u001b[0;34m\u001b[0m\u001b[0;34m\u001b[0m\u001b[0m\n\u001b[1;32m   3021\u001b[0m       (graph_function,\n\u001b[0;32m-> 3022\u001b[0;31m        filtered_flat_args) = self._maybe_define_function(args, kwargs)\n\u001b[0m\u001b[1;32m   3023\u001b[0m     return graph_function._call_flat(\n\u001b[1;32m   3024\u001b[0m         filtered_flat_args, captured_inputs=graph_function.captured_inputs)  # pylint: disable=protected-access\n",
            "\u001b[0;32m/usr/local/lib/python3.7/dist-packages/tensorflow/python/eager/function.py\u001b[0m in \u001b[0;36m_maybe_define_function\u001b[0;34m(self, args, kwargs)\u001b[0m\n\u001b[1;32m   3442\u001b[0m \u001b[0;34m\u001b[0m\u001b[0m\n\u001b[1;32m   3443\u001b[0m           \u001b[0mself\u001b[0m\u001b[0;34m.\u001b[0m\u001b[0m_function_cache\u001b[0m\u001b[0;34m.\u001b[0m\u001b[0mmissed\u001b[0m\u001b[0;34m.\u001b[0m\u001b[0madd\u001b[0m\u001b[0;34m(\u001b[0m\u001b[0mcall_context_key\u001b[0m\u001b[0;34m)\u001b[0m\u001b[0;34m\u001b[0m\u001b[0;34m\u001b[0m\u001b[0m\n\u001b[0;32m-> 3444\u001b[0;31m           \u001b[0mgraph_function\u001b[0m \u001b[0;34m=\u001b[0m \u001b[0mself\u001b[0m\u001b[0;34m.\u001b[0m\u001b[0m_create_graph_function\u001b[0m\u001b[0;34m(\u001b[0m\u001b[0margs\u001b[0m\u001b[0;34m,\u001b[0m \u001b[0mkwargs\u001b[0m\u001b[0;34m)\u001b[0m\u001b[0;34m\u001b[0m\u001b[0;34m\u001b[0m\u001b[0m\n\u001b[0m\u001b[1;32m   3445\u001b[0m           \u001b[0mself\u001b[0m\u001b[0;34m.\u001b[0m\u001b[0m_function_cache\u001b[0m\u001b[0;34m.\u001b[0m\u001b[0mprimary\u001b[0m\u001b[0;34m[\u001b[0m\u001b[0mcache_key\u001b[0m\u001b[0;34m]\u001b[0m \u001b[0;34m=\u001b[0m \u001b[0mgraph_function\u001b[0m\u001b[0;34m\u001b[0m\u001b[0;34m\u001b[0m\u001b[0m\n\u001b[1;32m   3446\u001b[0m \u001b[0;34m\u001b[0m\u001b[0m\n",
            "\u001b[0;32m/usr/local/lib/python3.7/dist-packages/tensorflow/python/eager/function.py\u001b[0m in \u001b[0;36m_create_graph_function\u001b[0;34m(self, args, kwargs, override_flat_arg_shapes)\u001b[0m\n\u001b[1;32m   3287\u001b[0m             \u001b[0marg_names\u001b[0m\u001b[0;34m=\u001b[0m\u001b[0marg_names\u001b[0m\u001b[0;34m,\u001b[0m\u001b[0;34m\u001b[0m\u001b[0;34m\u001b[0m\u001b[0m\n\u001b[1;32m   3288\u001b[0m             \u001b[0moverride_flat_arg_shapes\u001b[0m\u001b[0;34m=\u001b[0m\u001b[0moverride_flat_arg_shapes\u001b[0m\u001b[0;34m,\u001b[0m\u001b[0;34m\u001b[0m\u001b[0;34m\u001b[0m\u001b[0m\n\u001b[0;32m-> 3289\u001b[0;31m             capture_by_value=self._capture_by_value),\n\u001b[0m\u001b[1;32m   3290\u001b[0m         \u001b[0mself\u001b[0m\u001b[0;34m.\u001b[0m\u001b[0m_function_attributes\u001b[0m\u001b[0;34m,\u001b[0m\u001b[0;34m\u001b[0m\u001b[0;34m\u001b[0m\u001b[0m\n\u001b[1;32m   3291\u001b[0m         \u001b[0mfunction_spec\u001b[0m\u001b[0;34m=\u001b[0m\u001b[0mself\u001b[0m\u001b[0;34m.\u001b[0m\u001b[0mfunction_spec\u001b[0m\u001b[0;34m,\u001b[0m\u001b[0;34m\u001b[0m\u001b[0;34m\u001b[0m\u001b[0m\n",
            "\u001b[0;32m/usr/local/lib/python3.7/dist-packages/tensorflow/python/framework/func_graph.py\u001b[0m in \u001b[0;36mfunc_graph_from_py_func\u001b[0;34m(name, python_func, args, kwargs, signature, func_graph, autograph, autograph_options, add_control_dependencies, arg_names, op_return_value, collections, capture_by_value, override_flat_arg_shapes)\u001b[0m\n\u001b[1;32m    997\u001b[0m         \u001b[0m_\u001b[0m\u001b[0;34m,\u001b[0m \u001b[0moriginal_func\u001b[0m \u001b[0;34m=\u001b[0m \u001b[0mtf_decorator\u001b[0m\u001b[0;34m.\u001b[0m\u001b[0munwrap\u001b[0m\u001b[0;34m(\u001b[0m\u001b[0mpython_func\u001b[0m\u001b[0;34m)\u001b[0m\u001b[0;34m\u001b[0m\u001b[0;34m\u001b[0m\u001b[0m\n\u001b[1;32m    998\u001b[0m \u001b[0;34m\u001b[0m\u001b[0m\n\u001b[0;32m--> 999\u001b[0;31m       \u001b[0mfunc_outputs\u001b[0m \u001b[0;34m=\u001b[0m \u001b[0mpython_func\u001b[0m\u001b[0;34m(\u001b[0m\u001b[0;34m*\u001b[0m\u001b[0mfunc_args\u001b[0m\u001b[0;34m,\u001b[0m \u001b[0;34m**\u001b[0m\u001b[0mfunc_kwargs\u001b[0m\u001b[0;34m)\u001b[0m\u001b[0;34m\u001b[0m\u001b[0;34m\u001b[0m\u001b[0m\n\u001b[0m\u001b[1;32m   1000\u001b[0m \u001b[0;34m\u001b[0m\u001b[0m\n\u001b[1;32m   1001\u001b[0m       \u001b[0;31m# invariant: `func_outputs` contains only Tensors, CompositeTensors,\u001b[0m\u001b[0;34m\u001b[0m\u001b[0;34m\u001b[0m\u001b[0;34m\u001b[0m\u001b[0m\n",
            "\u001b[0;32m/usr/local/lib/python3.7/dist-packages/tensorflow/python/eager/def_function.py\u001b[0m in \u001b[0;36mwrapped_fn\u001b[0;34m(*args, **kwds)\u001b[0m\n\u001b[1;32m    670\u001b[0m         \u001b[0;31m# the function a weak reference to itself to avoid a reference cycle.\u001b[0m\u001b[0;34m\u001b[0m\u001b[0;34m\u001b[0m\u001b[0;34m\u001b[0m\u001b[0m\n\u001b[1;32m    671\u001b[0m         \u001b[0;32mwith\u001b[0m \u001b[0mOptionalXlaContext\u001b[0m\u001b[0;34m(\u001b[0m\u001b[0mcompile_with_xla\u001b[0m\u001b[0;34m)\u001b[0m\u001b[0;34m:\u001b[0m\u001b[0;34m\u001b[0m\u001b[0;34m\u001b[0m\u001b[0m\n\u001b[0;32m--> 672\u001b[0;31m           \u001b[0mout\u001b[0m \u001b[0;34m=\u001b[0m \u001b[0mweak_wrapped_fn\u001b[0m\u001b[0;34m(\u001b[0m\u001b[0;34m)\u001b[0m\u001b[0;34m.\u001b[0m\u001b[0m__wrapped__\u001b[0m\u001b[0;34m(\u001b[0m\u001b[0;34m*\u001b[0m\u001b[0margs\u001b[0m\u001b[0;34m,\u001b[0m \u001b[0;34m**\u001b[0m\u001b[0mkwds\u001b[0m\u001b[0;34m)\u001b[0m\u001b[0;34m\u001b[0m\u001b[0;34m\u001b[0m\u001b[0m\n\u001b[0m\u001b[1;32m    673\u001b[0m         \u001b[0;32mreturn\u001b[0m \u001b[0mout\u001b[0m\u001b[0;34m\u001b[0m\u001b[0;34m\u001b[0m\u001b[0m\n\u001b[1;32m    674\u001b[0m \u001b[0;34m\u001b[0m\u001b[0m\n",
            "\u001b[0;32m/usr/local/lib/python3.7/dist-packages/tensorflow/python/framework/func_graph.py\u001b[0m in \u001b[0;36mwrapper\u001b[0;34m(*args, **kwargs)\u001b[0m\n\u001b[1;32m    980\u001b[0m                     \u001b[0mrecursive\u001b[0m\u001b[0;34m=\u001b[0m\u001b[0;32mTrue\u001b[0m\u001b[0;34m,\u001b[0m\u001b[0;34m\u001b[0m\u001b[0;34m\u001b[0m\u001b[0m\n\u001b[1;32m    981\u001b[0m                     \u001b[0moptional_features\u001b[0m\u001b[0;34m=\u001b[0m\u001b[0mautograph_options\u001b[0m\u001b[0;34m,\u001b[0m\u001b[0;34m\u001b[0m\u001b[0;34m\u001b[0m\u001b[0m\n\u001b[0;32m--> 982\u001b[0;31m                     \u001b[0muser_requested\u001b[0m\u001b[0;34m=\u001b[0m\u001b[0;32mTrue\u001b[0m\u001b[0;34m,\u001b[0m\u001b[0;34m\u001b[0m\u001b[0;34m\u001b[0m\u001b[0m\n\u001b[0m\u001b[1;32m    983\u001b[0m                 ))\n\u001b[1;32m    984\u001b[0m           \u001b[0;32mexcept\u001b[0m \u001b[0mException\u001b[0m \u001b[0;32mas\u001b[0m \u001b[0me\u001b[0m\u001b[0;34m:\u001b[0m  \u001b[0;31m# pylint:disable=broad-except\u001b[0m\u001b[0;34m\u001b[0m\u001b[0;34m\u001b[0m\u001b[0m\n",
            "\u001b[0;32m/usr/local/lib/python3.7/dist-packages/tensorflow/python/autograph/impl/api.py\u001b[0m in \u001b[0;36mconverted_call\u001b[0;34m(f, args, kwargs, caller_fn_scope, options)\u001b[0m\n\u001b[1;32m    442\u001b[0m     \u001b[0;32mtry\u001b[0m\u001b[0;34m:\u001b[0m\u001b[0;34m\u001b[0m\u001b[0;34m\u001b[0m\u001b[0m\n\u001b[1;32m    443\u001b[0m       \u001b[0;32mif\u001b[0m \u001b[0mkwargs\u001b[0m \u001b[0;32mis\u001b[0m \u001b[0;32mnot\u001b[0m \u001b[0;32mNone\u001b[0m\u001b[0;34m:\u001b[0m\u001b[0;34m\u001b[0m\u001b[0;34m\u001b[0m\u001b[0m\n\u001b[0;32m--> 444\u001b[0;31m         \u001b[0mresult\u001b[0m \u001b[0;34m=\u001b[0m \u001b[0mconverted_f\u001b[0m\u001b[0;34m(\u001b[0m\u001b[0;34m*\u001b[0m\u001b[0meffective_args\u001b[0m\u001b[0;34m,\u001b[0m \u001b[0;34m**\u001b[0m\u001b[0mkwargs\u001b[0m\u001b[0;34m)\u001b[0m\u001b[0;34m\u001b[0m\u001b[0;34m\u001b[0m\u001b[0m\n\u001b[0m\u001b[1;32m    445\u001b[0m       \u001b[0;32melse\u001b[0m\u001b[0;34m:\u001b[0m\u001b[0;34m\u001b[0m\u001b[0;34m\u001b[0m\u001b[0m\n\u001b[1;32m    446\u001b[0m         \u001b[0mresult\u001b[0m \u001b[0;34m=\u001b[0m \u001b[0mconverted_f\u001b[0m\u001b[0;34m(\u001b[0m\u001b[0;34m*\u001b[0m\u001b[0meffective_args\u001b[0m\u001b[0;34m)\u001b[0m\u001b[0;34m\u001b[0m\u001b[0;34m\u001b[0m\u001b[0m\n",
            "\u001b[0;32m/usr/local/lib/python3.7/dist-packages/tensorflow/python/keras/engine/training.py\u001b[0m in \u001b[0;36mtf__train_function\u001b[0;34m(iterator)\u001b[0m\n\u001b[1;32m     13\u001b[0m                 \u001b[0;32mtry\u001b[0m\u001b[0;34m:\u001b[0m\u001b[0;34m\u001b[0m\u001b[0;34m\u001b[0m\u001b[0m\n\u001b[1;32m     14\u001b[0m                     \u001b[0mdo_return\u001b[0m \u001b[0;34m=\u001b[0m \u001b[0;32mTrue\u001b[0m\u001b[0;34m\u001b[0m\u001b[0;34m\u001b[0m\u001b[0m\n\u001b[0;32m---> 15\u001b[0;31m                     \u001b[0mretval_\u001b[0m \u001b[0;34m=\u001b[0m \u001b[0mag__\u001b[0m\u001b[0;34m.\u001b[0m\u001b[0mconverted_call\u001b[0m\u001b[0;34m(\u001b[0m\u001b[0mag__\u001b[0m\u001b[0;34m.\u001b[0m\u001b[0mld\u001b[0m\u001b[0;34m(\u001b[0m\u001b[0mstep_function\u001b[0m\u001b[0;34m)\u001b[0m\u001b[0;34m,\u001b[0m \u001b[0;34m(\u001b[0m\u001b[0mag__\u001b[0m\u001b[0;34m.\u001b[0m\u001b[0mld\u001b[0m\u001b[0;34m(\u001b[0m\u001b[0mself\u001b[0m\u001b[0;34m)\u001b[0m\u001b[0;34m,\u001b[0m \u001b[0mag__\u001b[0m\u001b[0;34m.\u001b[0m\u001b[0mld\u001b[0m\u001b[0;34m(\u001b[0m\u001b[0miterator\u001b[0m\u001b[0;34m)\u001b[0m\u001b[0;34m)\u001b[0m\u001b[0;34m,\u001b[0m \u001b[0;32mNone\u001b[0m\u001b[0;34m,\u001b[0m \u001b[0mfscope\u001b[0m\u001b[0;34m)\u001b[0m\u001b[0;34m\u001b[0m\u001b[0;34m\u001b[0m\u001b[0m\n\u001b[0m\u001b[1;32m     16\u001b[0m                 \u001b[0;32mexcept\u001b[0m\u001b[0;34m:\u001b[0m\u001b[0;34m\u001b[0m\u001b[0;34m\u001b[0m\u001b[0m\n\u001b[1;32m     17\u001b[0m                     \u001b[0mdo_return\u001b[0m \u001b[0;34m=\u001b[0m \u001b[0;32mFalse\u001b[0m\u001b[0;34m\u001b[0m\u001b[0;34m\u001b[0m\u001b[0m\n",
            "\u001b[0;32m/usr/local/lib/python3.7/dist-packages/tensorflow/python/autograph/impl/api.py\u001b[0m in \u001b[0;36mconverted_call\u001b[0;34m(f, args, kwargs, caller_fn_scope, options)\u001b[0m\n\u001b[1;32m    334\u001b[0m   \u001b[0;32mif\u001b[0m \u001b[0mconversion\u001b[0m\u001b[0;34m.\u001b[0m\u001b[0mis_in_allowlist_cache\u001b[0m\u001b[0;34m(\u001b[0m\u001b[0mf\u001b[0m\u001b[0;34m,\u001b[0m \u001b[0moptions\u001b[0m\u001b[0;34m)\u001b[0m\u001b[0;34m:\u001b[0m\u001b[0;34m\u001b[0m\u001b[0;34m\u001b[0m\u001b[0m\n\u001b[1;32m    335\u001b[0m     \u001b[0mlogging\u001b[0m\u001b[0;34m.\u001b[0m\u001b[0mlog\u001b[0m\u001b[0;34m(\u001b[0m\u001b[0;36m2\u001b[0m\u001b[0;34m,\u001b[0m \u001b[0;34m'Allowlisted %s: from cache'\u001b[0m\u001b[0;34m,\u001b[0m \u001b[0mf\u001b[0m\u001b[0;34m)\u001b[0m\u001b[0;34m\u001b[0m\u001b[0;34m\u001b[0m\u001b[0m\n\u001b[0;32m--> 336\u001b[0;31m     \u001b[0;32mreturn\u001b[0m \u001b[0m_call_unconverted\u001b[0m\u001b[0;34m(\u001b[0m\u001b[0mf\u001b[0m\u001b[0;34m,\u001b[0m \u001b[0margs\u001b[0m\u001b[0;34m,\u001b[0m \u001b[0mkwargs\u001b[0m\u001b[0;34m,\u001b[0m \u001b[0moptions\u001b[0m\u001b[0;34m,\u001b[0m \u001b[0;32mFalse\u001b[0m\u001b[0;34m)\u001b[0m\u001b[0;34m\u001b[0m\u001b[0;34m\u001b[0m\u001b[0m\n\u001b[0m\u001b[1;32m    337\u001b[0m \u001b[0;34m\u001b[0m\u001b[0m\n\u001b[1;32m    338\u001b[0m   \u001b[0;32mif\u001b[0m \u001b[0mag_ctx\u001b[0m\u001b[0;34m.\u001b[0m\u001b[0mcontrol_status_ctx\u001b[0m\u001b[0;34m(\u001b[0m\u001b[0;34m)\u001b[0m\u001b[0;34m.\u001b[0m\u001b[0mstatus\u001b[0m \u001b[0;34m==\u001b[0m \u001b[0mag_ctx\u001b[0m\u001b[0;34m.\u001b[0m\u001b[0mStatus\u001b[0m\u001b[0;34m.\u001b[0m\u001b[0mDISABLED\u001b[0m\u001b[0;34m:\u001b[0m\u001b[0;34m\u001b[0m\u001b[0;34m\u001b[0m\u001b[0m\n",
            "\u001b[0;32m/usr/local/lib/python3.7/dist-packages/tensorflow/python/autograph/impl/api.py\u001b[0m in \u001b[0;36m_call_unconverted\u001b[0;34m(f, args, kwargs, options, update_cache)\u001b[0m\n\u001b[1;32m    462\u001b[0m   \u001b[0;32mif\u001b[0m \u001b[0mkwargs\u001b[0m \u001b[0;32mis\u001b[0m \u001b[0;32mnot\u001b[0m \u001b[0;32mNone\u001b[0m\u001b[0;34m:\u001b[0m\u001b[0;34m\u001b[0m\u001b[0;34m\u001b[0m\u001b[0m\n\u001b[1;32m    463\u001b[0m     \u001b[0;32mreturn\u001b[0m \u001b[0mf\u001b[0m\u001b[0;34m(\u001b[0m\u001b[0;34m*\u001b[0m\u001b[0margs\u001b[0m\u001b[0;34m,\u001b[0m \u001b[0;34m**\u001b[0m\u001b[0mkwargs\u001b[0m\u001b[0;34m)\u001b[0m\u001b[0;34m\u001b[0m\u001b[0;34m\u001b[0m\u001b[0m\n\u001b[0;32m--> 464\u001b[0;31m   \u001b[0;32mreturn\u001b[0m \u001b[0mf\u001b[0m\u001b[0;34m(\u001b[0m\u001b[0;34m*\u001b[0m\u001b[0margs\u001b[0m\u001b[0;34m)\u001b[0m\u001b[0;34m\u001b[0m\u001b[0;34m\u001b[0m\u001b[0m\n\u001b[0m\u001b[1;32m    465\u001b[0m \u001b[0;34m\u001b[0m\u001b[0m\n\u001b[1;32m    466\u001b[0m \u001b[0;34m\u001b[0m\u001b[0m\n",
            "\u001b[0;32m/usr/local/lib/python3.7/dist-packages/tensorflow/python/keras/engine/training.py\u001b[0m in \u001b[0;36mstep_function\u001b[0;34m(model, iterator)\u001b[0m\n\u001b[1;32m    843\u001b[0m \u001b[0;34m\u001b[0m\u001b[0m\n\u001b[1;32m    844\u001b[0m       \u001b[0mdata\u001b[0m \u001b[0;34m=\u001b[0m \u001b[0mnext\u001b[0m\u001b[0;34m(\u001b[0m\u001b[0miterator\u001b[0m\u001b[0;34m)\u001b[0m\u001b[0;34m\u001b[0m\u001b[0;34m\u001b[0m\u001b[0m\n\u001b[0;32m--> 845\u001b[0;31m       \u001b[0moutputs\u001b[0m \u001b[0;34m=\u001b[0m \u001b[0mmodel\u001b[0m\u001b[0;34m.\u001b[0m\u001b[0mdistribute_strategy\u001b[0m\u001b[0;34m.\u001b[0m\u001b[0mrun\u001b[0m\u001b[0;34m(\u001b[0m\u001b[0mrun_step\u001b[0m\u001b[0;34m,\u001b[0m \u001b[0margs\u001b[0m\u001b[0;34m=\u001b[0m\u001b[0;34m(\u001b[0m\u001b[0mdata\u001b[0m\u001b[0;34m,\u001b[0m\u001b[0;34m)\u001b[0m\u001b[0;34m)\u001b[0m\u001b[0;34m\u001b[0m\u001b[0;34m\u001b[0m\u001b[0m\n\u001b[0m\u001b[1;32m    846\u001b[0m       outputs = reduce_per_replica(\n\u001b[1;32m    847\u001b[0m           outputs, self.distribute_strategy, reduction='first')\n",
            "\u001b[0;32m/usr/local/lib/python3.7/dist-packages/tensorflow/python/distribute/distribute_lib.py\u001b[0m in \u001b[0;36mrun\u001b[0;34m(***failed resolving arguments***)\u001b[0m\n\u001b[1;32m   1283\u001b[0m       fn = autograph.tf_convert(\n\u001b[1;32m   1284\u001b[0m           fn, autograph_ctx.control_status_ctx(), convert_by_default=False)\n\u001b[0;32m-> 1285\u001b[0;31m       \u001b[0;32mreturn\u001b[0m \u001b[0mself\u001b[0m\u001b[0;34m.\u001b[0m\u001b[0m_extended\u001b[0m\u001b[0;34m.\u001b[0m\u001b[0mcall_for_each_replica\u001b[0m\u001b[0;34m(\u001b[0m\u001b[0mfn\u001b[0m\u001b[0;34m,\u001b[0m \u001b[0margs\u001b[0m\u001b[0;34m=\u001b[0m\u001b[0margs\u001b[0m\u001b[0;34m,\u001b[0m \u001b[0mkwargs\u001b[0m\u001b[0;34m=\u001b[0m\u001b[0mkwargs\u001b[0m\u001b[0;34m)\u001b[0m\u001b[0;34m\u001b[0m\u001b[0;34m\u001b[0m\u001b[0m\n\u001b[0m\u001b[1;32m   1286\u001b[0m \u001b[0;34m\u001b[0m\u001b[0m\n\u001b[1;32m   1287\u001b[0m   \u001b[0;32mdef\u001b[0m \u001b[0mreduce\u001b[0m\u001b[0;34m(\u001b[0m\u001b[0mself\u001b[0m\u001b[0;34m,\u001b[0m \u001b[0mreduce_op\u001b[0m\u001b[0;34m,\u001b[0m \u001b[0mvalue\u001b[0m\u001b[0;34m,\u001b[0m \u001b[0maxis\u001b[0m\u001b[0;34m)\u001b[0m\u001b[0;34m:\u001b[0m\u001b[0;34m\u001b[0m\u001b[0;34m\u001b[0m\u001b[0m\n",
            "\u001b[0;32m/usr/local/lib/python3.7/dist-packages/tensorflow/python/distribute/distribute_lib.py\u001b[0m in \u001b[0;36mcall_for_each_replica\u001b[0;34m(self, fn, args, kwargs)\u001b[0m\n\u001b[1;32m   2831\u001b[0m       \u001b[0mkwargs\u001b[0m \u001b[0;34m=\u001b[0m \u001b[0;34m{\u001b[0m\u001b[0;34m}\u001b[0m\u001b[0;34m\u001b[0m\u001b[0;34m\u001b[0m\u001b[0m\n\u001b[1;32m   2832\u001b[0m     \u001b[0;32mwith\u001b[0m \u001b[0mself\u001b[0m\u001b[0;34m.\u001b[0m\u001b[0m_container_strategy\u001b[0m\u001b[0;34m(\u001b[0m\u001b[0;34m)\u001b[0m\u001b[0;34m.\u001b[0m\u001b[0mscope\u001b[0m\u001b[0;34m(\u001b[0m\u001b[0;34m)\u001b[0m\u001b[0;34m:\u001b[0m\u001b[0;34m\u001b[0m\u001b[0;34m\u001b[0m\u001b[0m\n\u001b[0;32m-> 2833\u001b[0;31m       \u001b[0;32mreturn\u001b[0m \u001b[0mself\u001b[0m\u001b[0;34m.\u001b[0m\u001b[0m_call_for_each_replica\u001b[0m\u001b[0;34m(\u001b[0m\u001b[0mfn\u001b[0m\u001b[0;34m,\u001b[0m \u001b[0margs\u001b[0m\u001b[0;34m,\u001b[0m \u001b[0mkwargs\u001b[0m\u001b[0;34m)\u001b[0m\u001b[0;34m\u001b[0m\u001b[0;34m\u001b[0m\u001b[0m\n\u001b[0m\u001b[1;32m   2834\u001b[0m \u001b[0;34m\u001b[0m\u001b[0m\n\u001b[1;32m   2835\u001b[0m   \u001b[0;32mdef\u001b[0m \u001b[0m_call_for_each_replica\u001b[0m\u001b[0;34m(\u001b[0m\u001b[0mself\u001b[0m\u001b[0;34m,\u001b[0m \u001b[0mfn\u001b[0m\u001b[0;34m,\u001b[0m \u001b[0margs\u001b[0m\u001b[0;34m,\u001b[0m \u001b[0mkwargs\u001b[0m\u001b[0;34m)\u001b[0m\u001b[0;34m:\u001b[0m\u001b[0;34m\u001b[0m\u001b[0;34m\u001b[0m\u001b[0m\n",
            "\u001b[0;32m/usr/local/lib/python3.7/dist-packages/tensorflow/python/distribute/distribute_lib.py\u001b[0m in \u001b[0;36m_call_for_each_replica\u001b[0;34m(self, fn, args, kwargs)\u001b[0m\n\u001b[1;32m   3606\u001b[0m   \u001b[0;32mdef\u001b[0m \u001b[0m_call_for_each_replica\u001b[0m\u001b[0;34m(\u001b[0m\u001b[0mself\u001b[0m\u001b[0;34m,\u001b[0m \u001b[0mfn\u001b[0m\u001b[0;34m,\u001b[0m \u001b[0margs\u001b[0m\u001b[0;34m,\u001b[0m \u001b[0mkwargs\u001b[0m\u001b[0;34m)\u001b[0m\u001b[0;34m:\u001b[0m\u001b[0;34m\u001b[0m\u001b[0;34m\u001b[0m\u001b[0m\n\u001b[1;32m   3607\u001b[0m     \u001b[0;32mwith\u001b[0m \u001b[0mReplicaContext\u001b[0m\u001b[0;34m(\u001b[0m\u001b[0mself\u001b[0m\u001b[0;34m.\u001b[0m\u001b[0m_container_strategy\u001b[0m\u001b[0;34m(\u001b[0m\u001b[0;34m)\u001b[0m\u001b[0;34m,\u001b[0m \u001b[0mreplica_id_in_sync_group\u001b[0m\u001b[0;34m=\u001b[0m\u001b[0;36m0\u001b[0m\u001b[0;34m)\u001b[0m\u001b[0;34m:\u001b[0m\u001b[0;34m\u001b[0m\u001b[0;34m\u001b[0m\u001b[0m\n\u001b[0;32m-> 3608\u001b[0;31m       \u001b[0;32mreturn\u001b[0m \u001b[0mfn\u001b[0m\u001b[0;34m(\u001b[0m\u001b[0;34m*\u001b[0m\u001b[0margs\u001b[0m\u001b[0;34m,\u001b[0m \u001b[0;34m**\u001b[0m\u001b[0mkwargs\u001b[0m\u001b[0;34m)\u001b[0m\u001b[0;34m\u001b[0m\u001b[0;34m\u001b[0m\u001b[0m\n\u001b[0m\u001b[1;32m   3609\u001b[0m \u001b[0;34m\u001b[0m\u001b[0m\n\u001b[1;32m   3610\u001b[0m   \u001b[0;32mdef\u001b[0m \u001b[0m_reduce_to\u001b[0m\u001b[0;34m(\u001b[0m\u001b[0mself\u001b[0m\u001b[0;34m,\u001b[0m \u001b[0mreduce_op\u001b[0m\u001b[0;34m,\u001b[0m \u001b[0mvalue\u001b[0m\u001b[0;34m,\u001b[0m \u001b[0mdestinations\u001b[0m\u001b[0;34m,\u001b[0m \u001b[0moptions\u001b[0m\u001b[0;34m)\u001b[0m\u001b[0;34m:\u001b[0m\u001b[0;34m\u001b[0m\u001b[0;34m\u001b[0m\u001b[0m\n",
            "\u001b[0;32m/usr/local/lib/python3.7/dist-packages/tensorflow/python/autograph/impl/api.py\u001b[0m in \u001b[0;36mwrapper\u001b[0;34m(*args, **kwargs)\u001b[0m\n\u001b[1;32m    690\u001b[0m       \u001b[0;32mtry\u001b[0m\u001b[0;34m:\u001b[0m\u001b[0;34m\u001b[0m\u001b[0;34m\u001b[0m\u001b[0m\n\u001b[1;32m    691\u001b[0m         \u001b[0;32mwith\u001b[0m \u001b[0mconversion_ctx\u001b[0m\u001b[0;34m:\u001b[0m\u001b[0;34m\u001b[0m\u001b[0;34m\u001b[0m\u001b[0m\n\u001b[0;32m--> 692\u001b[0;31m           \u001b[0;32mreturn\u001b[0m \u001b[0mconverted_call\u001b[0m\u001b[0;34m(\u001b[0m\u001b[0mf\u001b[0m\u001b[0;34m,\u001b[0m \u001b[0margs\u001b[0m\u001b[0;34m,\u001b[0m \u001b[0mkwargs\u001b[0m\u001b[0;34m,\u001b[0m \u001b[0moptions\u001b[0m\u001b[0;34m=\u001b[0m\u001b[0moptions\u001b[0m\u001b[0;34m)\u001b[0m\u001b[0;34m\u001b[0m\u001b[0;34m\u001b[0m\u001b[0m\n\u001b[0m\u001b[1;32m    693\u001b[0m       \u001b[0;32mexcept\u001b[0m \u001b[0mException\u001b[0m \u001b[0;32mas\u001b[0m \u001b[0me\u001b[0m\u001b[0;34m:\u001b[0m  \u001b[0;31m# pylint:disable=broad-except\u001b[0m\u001b[0;34m\u001b[0m\u001b[0;34m\u001b[0m\u001b[0m\n\u001b[1;32m    694\u001b[0m         \u001b[0;32mif\u001b[0m \u001b[0mhasattr\u001b[0m\u001b[0;34m(\u001b[0m\u001b[0me\u001b[0m\u001b[0;34m,\u001b[0m \u001b[0;34m'ag_error_metadata'\u001b[0m\u001b[0;34m)\u001b[0m\u001b[0;34m:\u001b[0m\u001b[0;34m\u001b[0m\u001b[0;34m\u001b[0m\u001b[0m\n",
            "\u001b[0;32m/usr/local/lib/python3.7/dist-packages/tensorflow/python/autograph/impl/api.py\u001b[0m in \u001b[0;36mconverted_call\u001b[0;34m(f, args, kwargs, caller_fn_scope, options)\u001b[0m\n\u001b[1;32m    380\u001b[0m \u001b[0;34m\u001b[0m\u001b[0m\n\u001b[1;32m    381\u001b[0m   \u001b[0;32mif\u001b[0m \u001b[0;32mnot\u001b[0m \u001b[0moptions\u001b[0m\u001b[0;34m.\u001b[0m\u001b[0muser_requested\u001b[0m \u001b[0;32mand\u001b[0m \u001b[0mconversion\u001b[0m\u001b[0;34m.\u001b[0m\u001b[0mis_allowlisted\u001b[0m\u001b[0;34m(\u001b[0m\u001b[0mf\u001b[0m\u001b[0;34m)\u001b[0m\u001b[0;34m:\u001b[0m\u001b[0;34m\u001b[0m\u001b[0;34m\u001b[0m\u001b[0m\n\u001b[0;32m--> 382\u001b[0;31m     \u001b[0;32mreturn\u001b[0m \u001b[0m_call_unconverted\u001b[0m\u001b[0;34m(\u001b[0m\u001b[0mf\u001b[0m\u001b[0;34m,\u001b[0m \u001b[0margs\u001b[0m\u001b[0;34m,\u001b[0m \u001b[0mkwargs\u001b[0m\u001b[0;34m,\u001b[0m \u001b[0moptions\u001b[0m\u001b[0;34m)\u001b[0m\u001b[0;34m\u001b[0m\u001b[0;34m\u001b[0m\u001b[0m\n\u001b[0m\u001b[1;32m    383\u001b[0m \u001b[0;34m\u001b[0m\u001b[0m\n\u001b[1;32m    384\u001b[0m   \u001b[0;31m# internal_convert_user_code is for example turned off when issuing a dynamic\u001b[0m\u001b[0;34m\u001b[0m\u001b[0;34m\u001b[0m\u001b[0;34m\u001b[0m\u001b[0m\n",
            "\u001b[0;32m/usr/local/lib/python3.7/dist-packages/tensorflow/python/autograph/impl/api.py\u001b[0m in \u001b[0;36m_call_unconverted\u001b[0;34m(f, args, kwargs, options, update_cache)\u001b[0m\n\u001b[1;32m    461\u001b[0m \u001b[0;34m\u001b[0m\u001b[0m\n\u001b[1;32m    462\u001b[0m   \u001b[0;32mif\u001b[0m \u001b[0mkwargs\u001b[0m \u001b[0;32mis\u001b[0m \u001b[0;32mnot\u001b[0m \u001b[0;32mNone\u001b[0m\u001b[0;34m:\u001b[0m\u001b[0;34m\u001b[0m\u001b[0;34m\u001b[0m\u001b[0m\n\u001b[0;32m--> 463\u001b[0;31m     \u001b[0;32mreturn\u001b[0m \u001b[0mf\u001b[0m\u001b[0;34m(\u001b[0m\u001b[0;34m*\u001b[0m\u001b[0margs\u001b[0m\u001b[0;34m,\u001b[0m \u001b[0;34m**\u001b[0m\u001b[0mkwargs\u001b[0m\u001b[0;34m)\u001b[0m\u001b[0;34m\u001b[0m\u001b[0;34m\u001b[0m\u001b[0m\n\u001b[0m\u001b[1;32m    464\u001b[0m   \u001b[0;32mreturn\u001b[0m \u001b[0mf\u001b[0m\u001b[0;34m(\u001b[0m\u001b[0;34m*\u001b[0m\u001b[0margs\u001b[0m\u001b[0;34m)\u001b[0m\u001b[0;34m\u001b[0m\u001b[0;34m\u001b[0m\u001b[0m\n\u001b[1;32m    465\u001b[0m \u001b[0;34m\u001b[0m\u001b[0m\n",
            "\u001b[0;32m/usr/local/lib/python3.7/dist-packages/tensorflow/python/keras/engine/training.py\u001b[0m in \u001b[0;36mrun_step\u001b[0;34m(data)\u001b[0m\n\u001b[1;32m    836\u001b[0m \u001b[0;34m\u001b[0m\u001b[0m\n\u001b[1;32m    837\u001b[0m       \u001b[0;32mdef\u001b[0m \u001b[0mrun_step\u001b[0m\u001b[0;34m(\u001b[0m\u001b[0mdata\u001b[0m\u001b[0;34m)\u001b[0m\u001b[0;34m:\u001b[0m\u001b[0;34m\u001b[0m\u001b[0;34m\u001b[0m\u001b[0m\n\u001b[0;32m--> 838\u001b[0;31m         \u001b[0moutputs\u001b[0m \u001b[0;34m=\u001b[0m \u001b[0mmodel\u001b[0m\u001b[0;34m.\u001b[0m\u001b[0mtrain_step\u001b[0m\u001b[0;34m(\u001b[0m\u001b[0mdata\u001b[0m\u001b[0;34m)\u001b[0m\u001b[0;34m\u001b[0m\u001b[0;34m\u001b[0m\u001b[0m\n\u001b[0m\u001b[1;32m    839\u001b[0m         \u001b[0;31m# Ensure counter is updated only if `train_step` succeeds.\u001b[0m\u001b[0;34m\u001b[0m\u001b[0;34m\u001b[0m\u001b[0;34m\u001b[0m\u001b[0m\n\u001b[1;32m    840\u001b[0m         \u001b[0;32mwith\u001b[0m \u001b[0mops\u001b[0m\u001b[0;34m.\u001b[0m\u001b[0mcontrol_dependencies\u001b[0m\u001b[0;34m(\u001b[0m\u001b[0m_minimum_control_deps\u001b[0m\u001b[0;34m(\u001b[0m\u001b[0moutputs\u001b[0m\u001b[0;34m)\u001b[0m\u001b[0;34m)\u001b[0m\u001b[0;34m:\u001b[0m\u001b[0;34m\u001b[0m\u001b[0;34m\u001b[0m\u001b[0m\n",
            "\u001b[0;32m/usr/local/lib/python3.7/dist-packages/tensorflow/python/keras/engine/training.py\u001b[0m in \u001b[0;36mtrain_step\u001b[0;34m(self, data)\u001b[0m\n\u001b[1;32m    797\u001b[0m           y, y_pred, sample_weight, regularization_losses=self.losses)\n\u001b[1;32m    798\u001b[0m     \u001b[0;31m# Run backwards pass.\u001b[0m\u001b[0;34m\u001b[0m\u001b[0;34m\u001b[0m\u001b[0;34m\u001b[0m\u001b[0m\n\u001b[0;32m--> 799\u001b[0;31m     \u001b[0mself\u001b[0m\u001b[0;34m.\u001b[0m\u001b[0moptimizer\u001b[0m\u001b[0;34m.\u001b[0m\u001b[0mminimize\u001b[0m\u001b[0;34m(\u001b[0m\u001b[0mloss\u001b[0m\u001b[0;34m,\u001b[0m \u001b[0mself\u001b[0m\u001b[0;34m.\u001b[0m\u001b[0mtrainable_variables\u001b[0m\u001b[0;34m,\u001b[0m \u001b[0mtape\u001b[0m\u001b[0;34m=\u001b[0m\u001b[0mtape\u001b[0m\u001b[0;34m)\u001b[0m\u001b[0;34m\u001b[0m\u001b[0;34m\u001b[0m\u001b[0m\n\u001b[0m\u001b[1;32m    800\u001b[0m     \u001b[0mself\u001b[0m\u001b[0;34m.\u001b[0m\u001b[0mcompiled_metrics\u001b[0m\u001b[0;34m.\u001b[0m\u001b[0mupdate_state\u001b[0m\u001b[0;34m(\u001b[0m\u001b[0my\u001b[0m\u001b[0;34m,\u001b[0m \u001b[0my_pred\u001b[0m\u001b[0;34m,\u001b[0m \u001b[0msample_weight\u001b[0m\u001b[0;34m)\u001b[0m\u001b[0;34m\u001b[0m\u001b[0;34m\u001b[0m\u001b[0m\n\u001b[1;32m    801\u001b[0m     \u001b[0;31m# Collect metrics to return\u001b[0m\u001b[0;34m\u001b[0m\u001b[0;34m\u001b[0m\u001b[0;34m\u001b[0m\u001b[0m\n",
            "\u001b[0;32m/usr/local/lib/python3.7/dist-packages/tensorflow/python/keras/optimizer_v2/optimizer_v2.py\u001b[0m in \u001b[0;36mminimize\u001b[0;34m(self, loss, var_list, grad_loss, name, tape)\u001b[0m\n\u001b[1;32m    527\u001b[0m     \"\"\"\n\u001b[1;32m    528\u001b[0m     grads_and_vars = self._compute_gradients(\n\u001b[0;32m--> 529\u001b[0;31m         loss, var_list=var_list, grad_loss=grad_loss, tape=tape)\n\u001b[0m\u001b[1;32m    530\u001b[0m     \u001b[0;32mreturn\u001b[0m \u001b[0mself\u001b[0m\u001b[0;34m.\u001b[0m\u001b[0mapply_gradients\u001b[0m\u001b[0;34m(\u001b[0m\u001b[0mgrads_and_vars\u001b[0m\u001b[0;34m,\u001b[0m \u001b[0mname\u001b[0m\u001b[0;34m=\u001b[0m\u001b[0mname\u001b[0m\u001b[0;34m)\u001b[0m\u001b[0;34m\u001b[0m\u001b[0;34m\u001b[0m\u001b[0m\n\u001b[1;32m    531\u001b[0m \u001b[0;34m\u001b[0m\u001b[0m\n",
            "\u001b[0;32m/usr/local/lib/python3.7/dist-packages/tensorflow/python/keras/optimizer_v2/optimizer_v2.py\u001b[0m in \u001b[0;36m_compute_gradients\u001b[0;34m(self, loss, var_list, grad_loss, tape)\u001b[0m\n\u001b[1;32m    578\u001b[0m     \u001b[0mvar_list\u001b[0m \u001b[0;34m=\u001b[0m \u001b[0mnest\u001b[0m\u001b[0;34m.\u001b[0m\u001b[0mflatten\u001b[0m\u001b[0;34m(\u001b[0m\u001b[0mvar_list\u001b[0m\u001b[0;34m)\u001b[0m\u001b[0;34m\u001b[0m\u001b[0;34m\u001b[0m\u001b[0m\n\u001b[1;32m    579\u001b[0m     \u001b[0;32mwith\u001b[0m \u001b[0mops\u001b[0m\u001b[0;34m.\u001b[0m\u001b[0mname_scope_v2\u001b[0m\u001b[0;34m(\u001b[0m\u001b[0mself\u001b[0m\u001b[0;34m.\u001b[0m\u001b[0m_name\u001b[0m \u001b[0;34m+\u001b[0m \u001b[0;34m\"/gradients\"\u001b[0m\u001b[0;34m)\u001b[0m\u001b[0;34m:\u001b[0m\u001b[0;34m\u001b[0m\u001b[0;34m\u001b[0m\u001b[0m\n\u001b[0;32m--> 580\u001b[0;31m       \u001b[0mgrads_and_vars\u001b[0m \u001b[0;34m=\u001b[0m \u001b[0mself\u001b[0m\u001b[0;34m.\u001b[0m\u001b[0m_get_gradients\u001b[0m\u001b[0;34m(\u001b[0m\u001b[0mtape\u001b[0m\u001b[0;34m,\u001b[0m \u001b[0mloss\u001b[0m\u001b[0;34m,\u001b[0m \u001b[0mvar_list\u001b[0m\u001b[0;34m,\u001b[0m \u001b[0mgrad_loss\u001b[0m\u001b[0;34m)\u001b[0m\u001b[0;34m\u001b[0m\u001b[0;34m\u001b[0m\u001b[0m\n\u001b[0m\u001b[1;32m    581\u001b[0m \u001b[0;34m\u001b[0m\u001b[0m\n\u001b[1;32m    582\u001b[0m     self._assert_valid_dtypes([\n",
            "\u001b[0;32m/usr/local/lib/python3.7/dist-packages/tensorflow/python/keras/optimizer_v2/optimizer_v2.py\u001b[0m in \u001b[0;36m_get_gradients\u001b[0;34m(self, tape, loss, var_list, grad_loss)\u001b[0m\n\u001b[1;32m    471\u001b[0m   \u001b[0;32mdef\u001b[0m \u001b[0m_get_gradients\u001b[0m\u001b[0;34m(\u001b[0m\u001b[0mself\u001b[0m\u001b[0;34m,\u001b[0m \u001b[0mtape\u001b[0m\u001b[0;34m,\u001b[0m \u001b[0mloss\u001b[0m\u001b[0;34m,\u001b[0m \u001b[0mvar_list\u001b[0m\u001b[0;34m,\u001b[0m \u001b[0mgrad_loss\u001b[0m\u001b[0;34m=\u001b[0m\u001b[0;32mNone\u001b[0m\u001b[0;34m)\u001b[0m\u001b[0;34m:\u001b[0m\u001b[0;34m\u001b[0m\u001b[0;34m\u001b[0m\u001b[0m\n\u001b[1;32m    472\u001b[0m     \u001b[0;34m\"\"\"Called in `minimize` to compute gradients from loss.\"\"\"\u001b[0m\u001b[0;34m\u001b[0m\u001b[0;34m\u001b[0m\u001b[0m\n\u001b[0;32m--> 473\u001b[0;31m     \u001b[0mgrads\u001b[0m \u001b[0;34m=\u001b[0m \u001b[0mtape\u001b[0m\u001b[0;34m.\u001b[0m\u001b[0mgradient\u001b[0m\u001b[0;34m(\u001b[0m\u001b[0mloss\u001b[0m\u001b[0;34m,\u001b[0m \u001b[0mvar_list\u001b[0m\u001b[0;34m,\u001b[0m \u001b[0mgrad_loss\u001b[0m\u001b[0;34m)\u001b[0m\u001b[0;34m\u001b[0m\u001b[0;34m\u001b[0m\u001b[0m\n\u001b[0m\u001b[1;32m    474\u001b[0m     \u001b[0;32mreturn\u001b[0m \u001b[0mlist\u001b[0m\u001b[0;34m(\u001b[0m\u001b[0mzip\u001b[0m\u001b[0;34m(\u001b[0m\u001b[0mgrads\u001b[0m\u001b[0;34m,\u001b[0m \u001b[0mvar_list\u001b[0m\u001b[0;34m)\u001b[0m\u001b[0;34m)\u001b[0m\u001b[0;34m\u001b[0m\u001b[0;34m\u001b[0m\u001b[0m\n\u001b[1;32m    475\u001b[0m \u001b[0;34m\u001b[0m\u001b[0m\n",
            "\u001b[0;32m/usr/local/lib/python3.7/dist-packages/tensorflow/python/eager/backprop.py\u001b[0m in \u001b[0;36mgradient\u001b[0;34m(self, target, sources, output_gradients, unconnected_gradients)\u001b[0m\n\u001b[1;32m   1078\u001b[0m         \u001b[0moutput_gradients\u001b[0m\u001b[0;34m=\u001b[0m\u001b[0moutput_gradients\u001b[0m\u001b[0;34m,\u001b[0m\u001b[0;34m\u001b[0m\u001b[0;34m\u001b[0m\u001b[0m\n\u001b[1;32m   1079\u001b[0m         \u001b[0msources_raw\u001b[0m\u001b[0;34m=\u001b[0m\u001b[0mflat_sources_raw\u001b[0m\u001b[0;34m,\u001b[0m\u001b[0;34m\u001b[0m\u001b[0;34m\u001b[0m\u001b[0m\n\u001b[0;32m-> 1080\u001b[0;31m         unconnected_gradients=unconnected_gradients)\n\u001b[0m\u001b[1;32m   1081\u001b[0m \u001b[0;34m\u001b[0m\u001b[0m\n\u001b[1;32m   1082\u001b[0m     \u001b[0;32mif\u001b[0m \u001b[0;32mnot\u001b[0m \u001b[0mself\u001b[0m\u001b[0;34m.\u001b[0m\u001b[0m_persistent\u001b[0m\u001b[0;34m:\u001b[0m\u001b[0;34m\u001b[0m\u001b[0;34m\u001b[0m\u001b[0m\n",
            "\u001b[0;32m/usr/local/lib/python3.7/dist-packages/tensorflow/python/eager/imperative_grad.py\u001b[0m in \u001b[0;36mimperative_grad\u001b[0;34m(tape, target, sources, output_gradients, sources_raw, unconnected_gradients)\u001b[0m\n\u001b[1;32m     75\u001b[0m       \u001b[0moutput_gradients\u001b[0m\u001b[0;34m,\u001b[0m\u001b[0;34m\u001b[0m\u001b[0;34m\u001b[0m\u001b[0m\n\u001b[1;32m     76\u001b[0m       \u001b[0msources_raw\u001b[0m\u001b[0;34m,\u001b[0m\u001b[0;34m\u001b[0m\u001b[0;34m\u001b[0m\u001b[0m\n\u001b[0;32m---> 77\u001b[0;31m       compat.as_str(unconnected_gradients.value))\n\u001b[0m",
            "\u001b[0;32m/usr/local/lib/python3.7/dist-packages/tensorflow/python/eager/backprop.py\u001b[0m in \u001b[0;36m_gradient_function\u001b[0;34m(op_name, attr_tuple, num_inputs, inputs, outputs, out_grads, skip_input_indices, forward_pass_name_scope)\u001b[0m\n\u001b[1;32m    157\u001b[0m       \u001b[0mgradient_name_scope\u001b[0m \u001b[0;34m+=\u001b[0m \u001b[0mforward_pass_name_scope\u001b[0m \u001b[0;34m+\u001b[0m \u001b[0;34m\"/\"\u001b[0m\u001b[0;34m\u001b[0m\u001b[0;34m\u001b[0m\u001b[0m\n\u001b[1;32m    158\u001b[0m     \u001b[0;32mwith\u001b[0m \u001b[0mops\u001b[0m\u001b[0;34m.\u001b[0m\u001b[0mname_scope\u001b[0m\u001b[0;34m(\u001b[0m\u001b[0mgradient_name_scope\u001b[0m\u001b[0;34m)\u001b[0m\u001b[0;34m:\u001b[0m\u001b[0;34m\u001b[0m\u001b[0;34m\u001b[0m\u001b[0m\n\u001b[0;32m--> 159\u001b[0;31m       \u001b[0;32mreturn\u001b[0m \u001b[0mgrad_fn\u001b[0m\u001b[0;34m(\u001b[0m\u001b[0mmock_op\u001b[0m\u001b[0;34m,\u001b[0m \u001b[0;34m*\u001b[0m\u001b[0mout_grads\u001b[0m\u001b[0;34m)\u001b[0m\u001b[0;34m\u001b[0m\u001b[0;34m\u001b[0m\u001b[0m\n\u001b[0m\u001b[1;32m    160\u001b[0m   \u001b[0;32melse\u001b[0m\u001b[0;34m:\u001b[0m\u001b[0;34m\u001b[0m\u001b[0;34m\u001b[0m\u001b[0m\n\u001b[1;32m    161\u001b[0m     \u001b[0;32mreturn\u001b[0m \u001b[0mgrad_fn\u001b[0m\u001b[0;34m(\u001b[0m\u001b[0mmock_op\u001b[0m\u001b[0;34m,\u001b[0m \u001b[0;34m*\u001b[0m\u001b[0mout_grads\u001b[0m\u001b[0;34m)\u001b[0m\u001b[0;34m\u001b[0m\u001b[0;34m\u001b[0m\u001b[0m\n",
            "\u001b[0;32m/usr/local/lib/python3.7/dist-packages/tensorflow/python/ops/while_v2.py\u001b[0m in \u001b[0;36m_WhileGrad\u001b[0;34m(op, *grads)\u001b[0m\n\u001b[1;32m    354\u001b[0m   body_grad_graph, args = _create_grad_func(\n\u001b[1;32m    355\u001b[0m       \u001b[0mys\u001b[0m\u001b[0;34m,\u001b[0m \u001b[0mxs\u001b[0m\u001b[0;34m,\u001b[0m \u001b[0mnon_none_grads\u001b[0m\u001b[0;34m,\u001b[0m \u001b[0mcond_graph\u001b[0m\u001b[0;34m,\u001b[0m \u001b[0mbody_graph\u001b[0m\u001b[0;34m,\u001b[0m\u001b[0;34m\u001b[0m\u001b[0;34m\u001b[0m\u001b[0m\n\u001b[0;32m--> 356\u001b[0;31m       util.unique_grad_fn_name(body_graph.name), op, maximum_iterations)\n\u001b[0m\u001b[1;32m    357\u001b[0m \u001b[0;34m\u001b[0m\u001b[0m\n\u001b[1;32m    358\u001b[0m   \u001b[0;32mif\u001b[0m \u001b[0mbody_grad_graph\u001b[0m\u001b[0;34m.\u001b[0m\u001b[0mwhile_op_needs_rewrite\u001b[0m\u001b[0;34m:\u001b[0m\u001b[0;34m\u001b[0m\u001b[0;34m\u001b[0m\u001b[0m\n",
            "\u001b[0;32m/usr/local/lib/python3.7/dist-packages/tensorflow/python/ops/while_v2.py\u001b[0m in \u001b[0;36m_create_grad_func\u001b[0;34m(ys, xs, grads, cond_graph, body_graph, name, while_op, maximum_iterations)\u001b[0m\n\u001b[1;32m    651\u001b[0m       func_graph=_WhileBodyGradFuncGraph(name, cond_graph, body_graph,\n\u001b[1;32m    652\u001b[0m                                          \u001b[0mmaximum_iterations\u001b[0m\u001b[0;34m,\u001b[0m \u001b[0mwhile_op\u001b[0m\u001b[0;34m,\u001b[0m\u001b[0;34m\u001b[0m\u001b[0;34m\u001b[0m\u001b[0m\n\u001b[0;32m--> 653\u001b[0;31m                                          body_graph_inputs, body_graph_outputs))\n\u001b[0m\u001b[1;32m    654\u001b[0m \u001b[0;34m\u001b[0m\u001b[0m\n\u001b[1;32m    655\u001b[0m   \u001b[0;31m# Update the list of outputs with tensors corresponding to the captured\u001b[0m\u001b[0;34m\u001b[0m\u001b[0;34m\u001b[0m\u001b[0;34m\u001b[0m\u001b[0m\n",
            "\u001b[0;32m/usr/local/lib/python3.7/dist-packages/tensorflow/python/framework/func_graph.py\u001b[0m in \u001b[0;36mfunc_graph_from_py_func\u001b[0;34m(name, python_func, args, kwargs, signature, func_graph, autograph, autograph_options, add_control_dependencies, arg_names, op_return_value, collections, capture_by_value, override_flat_arg_shapes)\u001b[0m\n\u001b[1;32m   1038\u001b[0m         if x is not None)\n\u001b[1;32m   1039\u001b[0m \u001b[0;34m\u001b[0m\u001b[0m\n\u001b[0;32m-> 1040\u001b[0;31m     \u001b[0mfunc_graph\u001b[0m\u001b[0;34m.\u001b[0m\u001b[0mvariables\u001b[0m \u001b[0;34m=\u001b[0m \u001b[0mvariables\u001b[0m\u001b[0;34m\u001b[0m\u001b[0;34m\u001b[0m\u001b[0m\n\u001b[0m\u001b[1;32m   1041\u001b[0m \u001b[0;34m\u001b[0m\u001b[0m\n\u001b[1;32m   1042\u001b[0m   \u001b[0;32mif\u001b[0m \u001b[0madd_control_dependencies\u001b[0m\u001b[0;34m:\u001b[0m\u001b[0;34m\u001b[0m\u001b[0;34m\u001b[0m\u001b[0m\n",
            "\u001b[0;32m/usr/local/lib/python3.7/dist-packages/tensorflow/python/framework/auto_control_deps.py\u001b[0m in \u001b[0;36m__exit__\u001b[0;34m(self, unused_type, unused_value, unused_traceback)\u001b[0m\n\u001b[1;32m    409\u001b[0m       \u001b[0;31m# Check for any resource inputs. If we find any, we update control_inputs\u001b[0m\u001b[0;34m\u001b[0m\u001b[0;34m\u001b[0m\u001b[0;34m\u001b[0m\u001b[0m\n\u001b[1;32m    410\u001b[0m       \u001b[0;31m# and last_write_to_resource.\u001b[0m\u001b[0;34m\u001b[0m\u001b[0;34m\u001b[0m\u001b[0;34m\u001b[0m\u001b[0m\n\u001b[0;32m--> 411\u001b[0;31m       \u001b[0;32mfor\u001b[0m \u001b[0minp\u001b[0m\u001b[0;34m,\u001b[0m \u001b[0mresource_type\u001b[0m \u001b[0;32min\u001b[0m \u001b[0m_get_resource_inputs\u001b[0m\u001b[0;34m(\u001b[0m\u001b[0mop\u001b[0m\u001b[0;34m)\u001b[0m\u001b[0;34m:\u001b[0m\u001b[0;34m\u001b[0m\u001b[0;34m\u001b[0m\u001b[0m\n\u001b[0m\u001b[1;32m    412\u001b[0m         \u001b[0mis_read\u001b[0m \u001b[0;34m=\u001b[0m \u001b[0mresource_type\u001b[0m \u001b[0;34m==\u001b[0m \u001b[0mResourceType\u001b[0m\u001b[0;34m.\u001b[0m\u001b[0mREAD_ONLY\u001b[0m\u001b[0;34m\u001b[0m\u001b[0;34m\u001b[0m\u001b[0m\n\u001b[1;32m    413\u001b[0m         \u001b[0minput_id\u001b[0m \u001b[0;34m=\u001b[0m \u001b[0mops\u001b[0m\u001b[0;34m.\u001b[0m\u001b[0mtensor_id\u001b[0m\u001b[0;34m(\u001b[0m\u001b[0minp\u001b[0m\u001b[0;34m)\u001b[0m\u001b[0;34m\u001b[0m\u001b[0;34m\u001b[0m\u001b[0m\n",
            "\u001b[0;32m/usr/local/lib/python3.7/dist-packages/tensorflow/python/framework/auto_control_deps.py\u001b[0m in \u001b[0;36m_get_resource_inputs\u001b[0;34m(op)\u001b[0m\n\u001b[1;32m    532\u001b[0m \u001b[0;32mdef\u001b[0m \u001b[0m_get_resource_inputs\u001b[0m\u001b[0;34m(\u001b[0m\u001b[0mop\u001b[0m\u001b[0;34m)\u001b[0m\u001b[0;34m:\u001b[0m\u001b[0;34m\u001b[0m\u001b[0;34m\u001b[0m\u001b[0m\n\u001b[1;32m    533\u001b[0m   \u001b[0;34m\"\"\"Returns an iterable of resources touched by this `op`.\"\"\"\u001b[0m\u001b[0;34m\u001b[0m\u001b[0;34m\u001b[0m\u001b[0m\n\u001b[0;32m--> 534\u001b[0;31m   \u001b[0mreads\u001b[0m\u001b[0;34m,\u001b[0m \u001b[0mwrites\u001b[0m \u001b[0;34m=\u001b[0m \u001b[0mutils\u001b[0m\u001b[0;34m.\u001b[0m\u001b[0mget_read_write_resource_inputs\u001b[0m\u001b[0;34m(\u001b[0m\u001b[0mop\u001b[0m\u001b[0;34m)\u001b[0m\u001b[0;34m\u001b[0m\u001b[0;34m\u001b[0m\u001b[0m\n\u001b[0m\u001b[1;32m    535\u001b[0m   \u001b[0msaturated\u001b[0m \u001b[0;34m=\u001b[0m \u001b[0;32mFalse\u001b[0m\u001b[0;34m\u001b[0m\u001b[0;34m\u001b[0m\u001b[0m\n\u001b[1;32m    536\u001b[0m   \u001b[0;32mwhile\u001b[0m \u001b[0;32mnot\u001b[0m \u001b[0msaturated\u001b[0m\u001b[0;34m:\u001b[0m\u001b[0;34m\u001b[0m\u001b[0;34m\u001b[0m\u001b[0m\n",
            "\u001b[0;32m/usr/local/lib/python3.7/dist-packages/tensorflow/python/framework/auto_control_deps_utils.py\u001b[0m in \u001b[0;36mget_read_write_resource_inputs\u001b[0;34m(op)\u001b[0m\n\u001b[1;32m    107\u001b[0m \u001b[0;34m\u001b[0m\u001b[0m\n\u001b[1;32m    108\u001b[0m   \u001b[0;32mtry\u001b[0m\u001b[0;34m:\u001b[0m\u001b[0;34m\u001b[0m\u001b[0;34m\u001b[0m\u001b[0m\n\u001b[0;32m--> 109\u001b[0;31m     \u001b[0mread_only_input_indices\u001b[0m \u001b[0;34m=\u001b[0m \u001b[0mop\u001b[0m\u001b[0;34m.\u001b[0m\u001b[0mget_attr\u001b[0m\u001b[0;34m(\u001b[0m\u001b[0mREAD_ONLY_RESOURCE_INPUTS_ATTR\u001b[0m\u001b[0;34m)\u001b[0m\u001b[0;34m\u001b[0m\u001b[0;34m\u001b[0m\u001b[0m\n\u001b[0m\u001b[1;32m    110\u001b[0m   \u001b[0;32mexcept\u001b[0m \u001b[0mValueError\u001b[0m\u001b[0;34m:\u001b[0m\u001b[0;34m\u001b[0m\u001b[0;34m\u001b[0m\u001b[0m\n\u001b[1;32m    111\u001b[0m     \u001b[0;31m# Attr was not set. Add all resource inputs to `writes` and return.\u001b[0m\u001b[0;34m\u001b[0m\u001b[0;34m\u001b[0m\u001b[0;34m\u001b[0m\u001b[0m\n",
            "\u001b[0;32m/usr/local/lib/python3.7/dist-packages/tensorflow/python/framework/ops.py\u001b[0m in \u001b[0;36mget_attr\u001b[0;34m(self, name)\u001b[0m\n\u001b[1;32m   2558\u001b[0m     \u001b[0;32mtry\u001b[0m\u001b[0;34m:\u001b[0m\u001b[0;34m\u001b[0m\u001b[0;34m\u001b[0m\u001b[0m\n\u001b[1;32m   2559\u001b[0m       \u001b[0;32mwith\u001b[0m \u001b[0mc_api_util\u001b[0m\u001b[0;34m.\u001b[0m\u001b[0mtf_buffer\u001b[0m\u001b[0;34m(\u001b[0m\u001b[0;34m)\u001b[0m \u001b[0;32mas\u001b[0m \u001b[0mbuf\u001b[0m\u001b[0;34m:\u001b[0m\u001b[0;34m\u001b[0m\u001b[0;34m\u001b[0m\u001b[0m\n\u001b[0;32m-> 2560\u001b[0;31m         \u001b[0mpywrap_tf_session\u001b[0m\u001b[0;34m.\u001b[0m\u001b[0mTF_OperationGetAttrValueProto\u001b[0m\u001b[0;34m(\u001b[0m\u001b[0mself\u001b[0m\u001b[0;34m.\u001b[0m\u001b[0m_c_op\u001b[0m\u001b[0;34m,\u001b[0m \u001b[0mname\u001b[0m\u001b[0;34m,\u001b[0m \u001b[0mbuf\u001b[0m\u001b[0;34m)\u001b[0m\u001b[0;34m\u001b[0m\u001b[0;34m\u001b[0m\u001b[0m\n\u001b[0m\u001b[1;32m   2561\u001b[0m         \u001b[0mdata\u001b[0m \u001b[0;34m=\u001b[0m \u001b[0mpywrap_tf_session\u001b[0m\u001b[0;34m.\u001b[0m\u001b[0mTF_GetBuffer\u001b[0m\u001b[0;34m(\u001b[0m\u001b[0mbuf\u001b[0m\u001b[0;34m)\u001b[0m\u001b[0;34m\u001b[0m\u001b[0;34m\u001b[0m\u001b[0m\n\u001b[1;32m   2562\u001b[0m     \u001b[0;32mexcept\u001b[0m \u001b[0merrors\u001b[0m\u001b[0;34m.\u001b[0m\u001b[0mInvalidArgumentError\u001b[0m \u001b[0;32mas\u001b[0m \u001b[0me\u001b[0m\u001b[0;34m:\u001b[0m\u001b[0;34m\u001b[0m\u001b[0;34m\u001b[0m\u001b[0m\n",
            "\u001b[0;31mKeyboardInterrupt\u001b[0m: "
          ]
        }
      ]
    },
    {
      "cell_type": "code",
      "metadata": {
        "colab": {
          "base_uri": "https://localhost:8080/"
        },
        "id": "cShzGmlpsgh-",
        "outputId": "70b6e9d1-5bca-4bea-e60c-b2f4a54bd59a"
      },
      "source": [
        "# Model_4\n",
        "\n",
        "model_num = 4\n",
        "file_name = 'checkpoint_epoch_{}_batch_{}_model_{}.h5'.format(epoch, batch_size, model_num)\n",
        "\n",
        "checkpoint4 = ModelCheckpoint(file_name, monitor = 'accuracy', verbose = 2,\n",
        "                             save_best_only = True, mode = 'auto')\n",
        "\n",
        "earlystoppoint4 = EarlyStopping(monitor = 'accuracy', patience = 5) \n",
        "\n",
        "model_4.compile(loss = 'binary_crossentropy', optimizer='adam', metrics = ['accuracy'])\n",
        "\n",
        "print(model_4.summary())\n",
        "\n",
        "history_4 = model_4.fit(x_train, y_train, validation_data = (x_val, y_val), \n",
        "                        epochs = epoch, batch_size = batch_size, \n",
        "                        callbacks = [checkpoint4, earlystoppoint4])"
      ],
      "execution_count": 41,
      "outputs": [
        {
          "output_type": "stream",
          "text": [
            "Model: \"model_GRU\"\n",
            "_________________________________________________________________\n",
            "Layer (type)                 Output Shape              Param #   \n",
            "=================================================================\n",
            "embedding_3 (Embedding)      (None, None, 64)          640000    \n",
            "_________________________________________________________________\n",
            "gru (GRU)                    (None, 128)               74496     \n",
            "_________________________________________________________________\n",
            "dense_6 (Dense)              (None, 10)                1290      \n",
            "_________________________________________________________________\n",
            "dense_7 (Dense)              (None, 1)                 11        \n",
            "=================================================================\n",
            "Total params: 715,797\n",
            "Trainable params: 715,797\n",
            "Non-trainable params: 0\n",
            "_________________________________________________________________\n",
            "None\n",
            "Epoch 1/30\n",
            "912/912 [==============================] - 153s 165ms/step - loss: 0.3835 - accuracy: 0.8321 - val_loss: 0.3439 - val_accuracy: 0.8486\n",
            "\n",
            "Epoch 00001: accuracy improved from -inf to 0.83211, saving model to checkpoint_epoch_30_batch_128_model_4.h5\n",
            "Epoch 2/30\n",
            "912/912 [==============================] - 152s 166ms/step - loss: 0.3218 - accuracy: 0.8611 - val_loss: 0.3306 - val_accuracy: 0.8556\n",
            "\n",
            "Epoch 00002: accuracy improved from 0.83211 to 0.86113, saving model to checkpoint_epoch_30_batch_128_model_4.h5\n",
            "Epoch 3/30\n",
            "912/912 [==============================] - 150s 165ms/step - loss: 0.2876 - accuracy: 0.8774 - val_loss: 0.3260 - val_accuracy: 0.8573\n",
            "\n",
            "Epoch 00003: accuracy improved from 0.86113 to 0.87740, saving model to checkpoint_epoch_30_batch_128_model_4.h5\n",
            "Epoch 4/30\n",
            "912/912 [==============================] - 151s 165ms/step - loss: 0.2589 - accuracy: 0.8911 - val_loss: 0.3333 - val_accuracy: 0.8587\n",
            "\n",
            "Epoch 00004: accuracy improved from 0.87740 to 0.89111, saving model to checkpoint_epoch_30_batch_128_model_4.h5\n",
            "Epoch 5/30\n",
            "912/912 [==============================] - 152s 167ms/step - loss: 0.2339 - accuracy: 0.9023 - val_loss: 0.3465 - val_accuracy: 0.8571\n",
            "\n",
            "Epoch 00005: accuracy improved from 0.89111 to 0.90233, saving model to checkpoint_epoch_30_batch_128_model_4.h5\n",
            "Epoch 6/30\n",
            "912/912 [==============================] - 152s 167ms/step - loss: 0.2145 - accuracy: 0.9119 - val_loss: 0.3635 - val_accuracy: 0.8535\n",
            "\n",
            "Epoch 00006: accuracy improved from 0.90233 to 0.91190, saving model to checkpoint_epoch_30_batch_128_model_4.h5\n",
            "Epoch 7/30\n",
            "912/912 [==============================] - 153s 168ms/step - loss: 0.1966 - accuracy: 0.9198 - val_loss: 0.3823 - val_accuracy: 0.8510\n",
            "\n",
            "Epoch 00007: accuracy improved from 0.91190 to 0.91979, saving model to checkpoint_epoch_30_batch_128_model_4.h5\n",
            "Epoch 8/30\n",
            "912/912 [==============================] - 152s 167ms/step - loss: 0.1825 - accuracy: 0.9260 - val_loss: 0.4151 - val_accuracy: 0.8485\n",
            "\n",
            "Epoch 00008: accuracy improved from 0.91979 to 0.92597, saving model to checkpoint_epoch_30_batch_128_model_4.h5\n",
            "Epoch 9/30\n",
            "912/912 [==============================] - 153s 168ms/step - loss: 0.1684 - accuracy: 0.9315 - val_loss: 0.4496 - val_accuracy: 0.8487\n",
            "\n",
            "Epoch 00009: accuracy improved from 0.92597 to 0.93149, saving model to checkpoint_epoch_30_batch_128_model_4.h5\n",
            "Epoch 10/30\n",
            "912/912 [==============================] - 152s 166ms/step - loss: 0.1553 - accuracy: 0.9366 - val_loss: 0.4733 - val_accuracy: 0.8465\n",
            "\n",
            "Epoch 00010: accuracy improved from 0.93149 to 0.93660, saving model to checkpoint_epoch_30_batch_128_model_4.h5\n",
            "Epoch 11/30\n",
            "912/912 [==============================] - 155s 170ms/step - loss: 0.1438 - accuracy: 0.9418 - val_loss: 0.5224 - val_accuracy: 0.8474\n",
            "\n",
            "Epoch 00011: accuracy improved from 0.93660 to 0.94177, saving model to checkpoint_epoch_30_batch_128_model_4.h5\n",
            "Epoch 12/30\n",
            "912/912 [==============================] - 152s 166ms/step - loss: 0.1333 - accuracy: 0.9454 - val_loss: 0.5593 - val_accuracy: 0.8437\n",
            "\n",
            "Epoch 00012: accuracy improved from 0.94177 to 0.94540, saving model to checkpoint_epoch_30_batch_128_model_4.h5\n",
            "Epoch 13/30\n",
            "912/912 [==============================] - 154s 168ms/step - loss: 0.1234 - accuracy: 0.9494 - val_loss: 0.5836 - val_accuracy: 0.8399\n",
            "\n",
            "Epoch 00013: accuracy improved from 0.94540 to 0.94941, saving model to checkpoint_epoch_30_batch_128_model_4.h5\n",
            "Epoch 14/30\n",
            "912/912 [==============================] - 152s 166ms/step - loss: 0.1167 - accuracy: 0.9525 - val_loss: 0.5972 - val_accuracy: 0.8408\n",
            "\n",
            "Epoch 00014: accuracy improved from 0.94941 to 0.95246, saving model to checkpoint_epoch_30_batch_128_model_4.h5\n",
            "Epoch 15/30\n",
            "912/912 [==============================] - 156s 171ms/step - loss: 0.1081 - accuracy: 0.9562 - val_loss: 0.6352 - val_accuracy: 0.8409\n",
            "\n",
            "Epoch 00015: accuracy improved from 0.95246 to 0.95616, saving model to checkpoint_epoch_30_batch_128_model_4.h5\n",
            "Epoch 16/30\n",
            "912/912 [==============================] - 155s 170ms/step - loss: 0.1035 - accuracy: 0.9575 - val_loss: 0.6592 - val_accuracy: 0.8381\n",
            "\n",
            "Epoch 00016: accuracy improved from 0.95616 to 0.95751, saving model to checkpoint_epoch_30_batch_128_model_4.h5\n",
            "Epoch 17/30\n",
            "912/912 [==============================] - 156s 171ms/step - loss: 0.0968 - accuracy: 0.9607 - val_loss: 0.7236 - val_accuracy: 0.8418\n",
            "\n",
            "Epoch 00017: accuracy improved from 0.95751 to 0.96072, saving model to checkpoint_epoch_30_batch_128_model_4.h5\n",
            "Epoch 18/30\n",
            "912/912 [==============================] - 157s 172ms/step - loss: 0.0923 - accuracy: 0.9623 - val_loss: 0.7390 - val_accuracy: 0.8390\n",
            "\n",
            "Epoch 00018: accuracy improved from 0.96072 to 0.96232, saving model to checkpoint_epoch_30_batch_128_model_4.h5\n",
            "Epoch 19/30\n",
            "912/912 [==============================] - 157s 172ms/step - loss: 0.0891 - accuracy: 0.9634 - val_loss: 0.7677 - val_accuracy: 0.8417\n",
            "\n",
            "Epoch 00019: accuracy improved from 0.96232 to 0.96338, saving model to checkpoint_epoch_30_batch_128_model_4.h5\n",
            "Epoch 20/30\n",
            "912/912 [==============================] - 155s 170ms/step - loss: 0.0841 - accuracy: 0.9656 - val_loss: 0.7949 - val_accuracy: 0.8396\n",
            "\n",
            "Epoch 00020: accuracy improved from 0.96338 to 0.96562, saving model to checkpoint_epoch_30_batch_128_model_4.h5\n",
            "Epoch 21/30\n",
            "912/912 [==============================] - 158s 173ms/step - loss: 0.0805 - accuracy: 0.9671 - val_loss: 0.8338 - val_accuracy: 0.8386\n",
            "\n",
            "Epoch 00021: accuracy improved from 0.96562 to 0.96707, saving model to checkpoint_epoch_30_batch_128_model_4.h5\n",
            "Epoch 22/30\n",
            "912/912 [==============================] - 160s 175ms/step - loss: 0.0754 - accuracy: 0.9691 - val_loss: 0.8545 - val_accuracy: 0.8387\n",
            "\n",
            "Epoch 00022: accuracy improved from 0.96707 to 0.96910, saving model to checkpoint_epoch_30_batch_128_model_4.h5\n",
            "Epoch 23/30\n",
            "912/912 [==============================] - 158s 173ms/step - loss: 0.0736 - accuracy: 0.9700 - val_loss: 0.8642 - val_accuracy: 0.8419\n",
            "\n",
            "Epoch 00023: accuracy improved from 0.96910 to 0.96997, saving model to checkpoint_epoch_30_batch_128_model_4.h5\n",
            "Epoch 24/30\n",
            "912/912 [==============================] - 154s 169ms/step - loss: 0.0698 - accuracy: 0.9716 - val_loss: 0.8806 - val_accuracy: 0.8400\n",
            "\n",
            "Epoch 00024: accuracy improved from 0.96997 to 0.97160, saving model to checkpoint_epoch_30_batch_128_model_4.h5\n",
            "Epoch 25/30\n",
            "912/912 [==============================] - 156s 171ms/step - loss: 0.0676 - accuracy: 0.9725 - val_loss: 0.9010 - val_accuracy: 0.8385\n",
            "\n",
            "Epoch 00025: accuracy improved from 0.97160 to 0.97255, saving model to checkpoint_epoch_30_batch_128_model_4.h5\n",
            "Epoch 26/30\n",
            "912/912 [==============================] - 154s 169ms/step - loss: 0.0655 - accuracy: 0.9736 - val_loss: 0.9497 - val_accuracy: 0.8385\n",
            "\n",
            "Epoch 00026: accuracy improved from 0.97255 to 0.97361, saving model to checkpoint_epoch_30_batch_128_model_4.h5\n",
            "Epoch 27/30\n",
            "912/912 [==============================] - 154s 169ms/step - loss: 0.0622 - accuracy: 0.9747 - val_loss: 0.9437 - val_accuracy: 0.8389\n",
            "\n",
            "Epoch 00027: accuracy improved from 0.97361 to 0.97469, saving model to checkpoint_epoch_30_batch_128_model_4.h5\n",
            "Epoch 28/30\n",
            "912/912 [==============================] - 151s 165ms/step - loss: 0.0593 - accuracy: 0.9757 - val_loss: 1.0046 - val_accuracy: 0.8405\n",
            "\n",
            "Epoch 00028: accuracy improved from 0.97469 to 0.97567, saving model to checkpoint_epoch_30_batch_128_model_4.h5\n",
            "Epoch 29/30\n",
            "912/912 [==============================] - 152s 167ms/step - loss: 0.0585 - accuracy: 0.9759 - val_loss: 1.0039 - val_accuracy: 0.8373\n",
            "\n",
            "Epoch 00029: accuracy improved from 0.97567 to 0.97586, saving model to checkpoint_epoch_30_batch_128_model_4.h5\n",
            "Epoch 30/30\n",
            "912/912 [==============================] - 153s 167ms/step - loss: 0.0561 - accuracy: 0.9770 - val_loss: 1.0178 - val_accuracy: 0.8379\n",
            "\n",
            "Epoch 00030: accuracy improved from 0.97586 to 0.97704, saving model to checkpoint_epoch_30_batch_128_model_4.h5\n"
          ],
          "name": "stdout"
        }
      ]
    },
    {
      "cell_type": "markdown",
      "metadata": {
        "id": "4qU3tJp6l91n"
      },
      "source": [
        "- model 1, 2보다 낮은 accuracy 보임 "
      ]
    },
    {
      "cell_type": "markdown",
      "metadata": {
        "id": "-Sg845xvYZJ8"
      },
      "source": [
        "<span style=\"color:yellow\">callback의 checkpoint, earlystoppoint 다 model마다 각자 설정해줘야 실제로 사용이 가능하겠다 인지</span>"
      ]
    },
    {
      "cell_type": "code",
      "metadata": {
        "colab": {
          "base_uri": "https://localhost:8080/"
        },
        "id": "RxrINENPsgcH",
        "outputId": "18f64a7c-f279-47bd-9d62-ae2331cdc437"
      },
      "source": [
        "# Model_5\n",
        "# checkpoint 및 earlystoppoint는 model_1과 동일함 \n",
        "model_num = 5\n",
        "file_name = 'checkpoint_epoch_{}_batch_{}_model_{}.h5'.format(epoch, batch_size, model_num)\n",
        "\n",
        "checkpoint5 = ModelCheckpoint(file_name, monitor = 'accuracy', verbose = 2,\n",
        "                             save_best_only = True, mode = 'auto')\n",
        "\n",
        "earlystoppoint5 = EarlyStopping(monitor = 'accuracy', patience = 5) \n",
        "\n",
        "\n",
        "model_5.compile(loss = 'binary_crossentropy', optimizer='adam', metrics = ['accuracy'])\n",
        "\n",
        "print(model_5.summary())\n",
        "\n",
        "# model fit\n",
        "\n",
        "history_5 = model_5.fit(x_train, y_train, validation_data = (x_val, y_val), \n",
        "                        epochs = epoch, batch_size = batch_size, \n",
        "                        callbacks = [checkpoint5, earlystoppoint5])"
      ],
      "execution_count": 38,
      "outputs": [
        {
          "output_type": "stream",
          "text": [
            "Model: \"Model_CNN\"\n",
            "_________________________________________________________________\n",
            "Layer (type)                 Output Shape              Param #   \n",
            "=================================================================\n",
            "embedding_5 (Embedding)      (None, None, 64)          640000    \n",
            "_________________________________________________________________\n",
            "conv1d_1 (Conv1D)            (None, None, 128)         131200    \n",
            "_________________________________________________________________\n",
            "global_max_pooling1d_1 (Glob (None, 128)               0         \n",
            "_________________________________________________________________\n",
            "dense_10 (Dense)             (None, 10)                1290      \n",
            "_________________________________________________________________\n",
            "dense_11 (Dense)             (None, 1)                 11        \n",
            "=================================================================\n",
            "Total params: 772,501\n",
            "Trainable params: 772,501\n",
            "Non-trainable params: 0\n",
            "_________________________________________________________________\n",
            "None\n",
            "Epoch 1/30\n",
            "912/912 [==============================] - 45s 17ms/step - loss: 0.3898 - accuracy: 0.8197 - val_loss: 0.3312 - val_accuracy: 0.8554\n",
            "\n",
            "Epoch 00001: accuracy improved from -inf to 0.81970, saving model to checkpoint_epoch_30_batch_128_model_5.h5\n",
            "Epoch 2/30\n",
            "912/912 [==============================] - 15s 17ms/step - loss: 0.2762 - accuracy: 0.8844 - val_loss: 0.3295 - val_accuracy: 0.8595\n",
            "\n",
            "Epoch 00002: accuracy improved from 0.81970 to 0.88439, saving model to checkpoint_epoch_30_batch_128_model_5.h5\n",
            "Epoch 3/30\n",
            "912/912 [==============================] - 15s 17ms/step - loss: 0.1952 - accuracy: 0.9242 - val_loss: 0.3780 - val_accuracy: 0.8514\n",
            "\n",
            "Epoch 00003: accuracy improved from 0.88439 to 0.92423, saving model to checkpoint_epoch_30_batch_128_model_5.h5\n",
            "Epoch 4/30\n",
            "912/912 [==============================] - 16s 17ms/step - loss: 0.1234 - accuracy: 0.9554 - val_loss: 0.4577 - val_accuracy: 0.8432\n",
            "\n",
            "Epoch 00004: accuracy improved from 0.92423 to 0.95536, saving model to checkpoint_epoch_30_batch_128_model_5.h5\n",
            "Epoch 5/30\n",
            "912/912 [==============================] - 16s 18ms/step - loss: 0.0798 - accuracy: 0.9725 - val_loss: 0.5415 - val_accuracy: 0.8448\n",
            "\n",
            "Epoch 00005: accuracy improved from 0.95536 to 0.97249, saving model to checkpoint_epoch_30_batch_128_model_5.h5\n",
            "Epoch 6/30\n",
            "912/912 [==============================] - 16s 18ms/step - loss: 0.0548 - accuracy: 0.9808 - val_loss: 0.6661 - val_accuracy: 0.8385\n",
            "\n",
            "Epoch 00006: accuracy improved from 0.97249 to 0.98082, saving model to checkpoint_epoch_30_batch_128_model_5.h5\n",
            "Epoch 7/30\n",
            "912/912 [==============================] - 16s 17ms/step - loss: 0.0429 - accuracy: 0.9846 - val_loss: 0.7626 - val_accuracy: 0.8398\n",
            "\n",
            "Epoch 00007: accuracy improved from 0.98082 to 0.98458, saving model to checkpoint_epoch_30_batch_128_model_5.h5\n",
            "Epoch 8/30\n",
            "912/912 [==============================] - 16s 18ms/step - loss: 0.0374 - accuracy: 0.9862 - val_loss: 0.8460 - val_accuracy: 0.8364\n",
            "\n",
            "Epoch 00008: accuracy improved from 0.98458 to 0.98617, saving model to checkpoint_epoch_30_batch_128_model_5.h5\n",
            "Epoch 9/30\n",
            "912/912 [==============================] - 16s 18ms/step - loss: 0.0323 - accuracy: 0.9883 - val_loss: 0.8900 - val_accuracy: 0.8358\n",
            "\n",
            "Epoch 00009: accuracy improved from 0.98617 to 0.98827, saving model to checkpoint_epoch_30_batch_128_model_5.h5\n",
            "Epoch 10/30\n",
            "912/912 [==============================] - 16s 18ms/step - loss: 0.0289 - accuracy: 0.9889 - val_loss: 0.9266 - val_accuracy: 0.8341\n",
            "\n",
            "Epoch 00010: accuracy improved from 0.98827 to 0.98889, saving model to checkpoint_epoch_30_batch_128_model_5.h5\n",
            "Epoch 11/30\n",
            "912/912 [==============================] - 16s 18ms/step - loss: 0.0252 - accuracy: 0.9903 - val_loss: 1.0754 - val_accuracy: 0.8360\n",
            "\n",
            "Epoch 00011: accuracy improved from 0.98889 to 0.99034, saving model to checkpoint_epoch_30_batch_128_model_5.h5\n",
            "Epoch 12/30\n",
            "912/912 [==============================] - 16s 18ms/step - loss: 0.0242 - accuracy: 0.9906 - val_loss: 1.0719 - val_accuracy: 0.8343\n",
            "\n",
            "Epoch 00012: accuracy improved from 0.99034 to 0.99061, saving model to checkpoint_epoch_30_batch_128_model_5.h5\n",
            "Epoch 13/30\n",
            "912/912 [==============================] - 16s 18ms/step - loss: 0.0217 - accuracy: 0.9913 - val_loss: 1.1384 - val_accuracy: 0.8332\n",
            "\n",
            "Epoch 00013: accuracy improved from 0.99061 to 0.99128, saving model to checkpoint_epoch_30_batch_128_model_5.h5\n",
            "Epoch 14/30\n",
            "912/912 [==============================] - 16s 18ms/step - loss: 0.0201 - accuracy: 0.9921 - val_loss: 1.2177 - val_accuracy: 0.8350\n",
            "\n",
            "Epoch 00014: accuracy improved from 0.99128 to 0.99209, saving model to checkpoint_epoch_30_batch_128_model_5.h5\n",
            "Epoch 15/30\n",
            "912/912 [==============================] - 16s 18ms/step - loss: 0.0165 - accuracy: 0.9931 - val_loss: 1.3155 - val_accuracy: 0.8314\n",
            "\n",
            "Epoch 00015: accuracy improved from 0.99209 to 0.99308, saving model to checkpoint_epoch_30_batch_128_model_5.h5\n",
            "Epoch 16/30\n",
            "912/912 [==============================] - 16s 18ms/step - loss: 0.0181 - accuracy: 0.9926 - val_loss: 1.3636 - val_accuracy: 0.8308\n",
            "\n",
            "Epoch 00016: accuracy did not improve from 0.99308\n",
            "Epoch 17/30\n",
            "912/912 [==============================] - 16s 18ms/step - loss: 0.0190 - accuracy: 0.9922 - val_loss: 1.2992 - val_accuracy: 0.8297\n",
            "\n",
            "Epoch 00017: accuracy did not improve from 0.99308\n",
            "Epoch 18/30\n",
            "912/912 [==============================] - 16s 18ms/step - loss: 0.0164 - accuracy: 0.9934 - val_loss: 1.3453 - val_accuracy: 0.8321\n",
            "\n",
            "Epoch 00018: accuracy improved from 0.99308 to 0.99337, saving model to checkpoint_epoch_30_batch_128_model_5.h5\n",
            "Epoch 19/30\n",
            "912/912 [==============================] - 16s 18ms/step - loss: 0.0120 - accuracy: 0.9948 - val_loss: 1.4977 - val_accuracy: 0.8324\n",
            "\n",
            "Epoch 00019: accuracy improved from 0.99337 to 0.99482, saving model to checkpoint_epoch_30_batch_128_model_5.h5\n",
            "Epoch 20/30\n",
            "912/912 [==============================] - 17s 18ms/step - loss: 0.0141 - accuracy: 0.9940 - val_loss: 1.3761 - val_accuracy: 0.8319\n",
            "\n",
            "Epoch 00020: accuracy did not improve from 0.99482\n",
            "Epoch 21/30\n",
            "912/912 [==============================] - 16s 18ms/step - loss: 0.0183 - accuracy: 0.9925 - val_loss: 1.4340 - val_accuracy: 0.8349\n",
            "\n",
            "Epoch 00021: accuracy did not improve from 0.99482\n",
            "Epoch 22/30\n",
            "912/912 [==============================] - 16s 18ms/step - loss: 0.0136 - accuracy: 0.9941 - val_loss: 1.5388 - val_accuracy: 0.8335\n",
            "\n",
            "Epoch 00022: accuracy did not improve from 0.99482\n",
            "Epoch 23/30\n",
            "912/912 [==============================] - 16s 18ms/step - loss: 0.0120 - accuracy: 0.9947 - val_loss: 1.5852 - val_accuracy: 0.8303\n",
            "\n",
            "Epoch 00023: accuracy did not improve from 0.99482\n",
            "Epoch 24/30\n",
            "912/912 [==============================] - 17s 18ms/step - loss: 0.0110 - accuracy: 0.9951 - val_loss: 1.5595 - val_accuracy: 0.8324\n",
            "\n",
            "Epoch 00024: accuracy improved from 0.99482 to 0.99511, saving model to checkpoint_epoch_30_batch_128_model_5.h5\n",
            "Epoch 25/30\n",
            "912/912 [==============================] - 16s 18ms/step - loss: 0.0117 - accuracy: 0.9947 - val_loss: 1.5919 - val_accuracy: 0.8309\n",
            "\n",
            "Epoch 00025: accuracy did not improve from 0.99511\n",
            "Epoch 26/30\n",
            "912/912 [==============================] - 16s 18ms/step - loss: 0.0122 - accuracy: 0.9948 - val_loss: 1.5777 - val_accuracy: 0.8323\n",
            "\n",
            "Epoch 00026: accuracy did not improve from 0.99511\n",
            "Epoch 27/30\n",
            "912/912 [==============================] - 17s 18ms/step - loss: 0.0133 - accuracy: 0.9945 - val_loss: 1.6076 - val_accuracy: 0.8340\n",
            "\n",
            "Epoch 00027: accuracy did not improve from 0.99511\n",
            "Epoch 28/30\n",
            "912/912 [==============================] - 17s 18ms/step - loss: 0.0117 - accuracy: 0.9946 - val_loss: 1.6149 - val_accuracy: 0.8295\n",
            "\n",
            "Epoch 00028: accuracy did not improve from 0.99511\n",
            "Epoch 29/30\n",
            "912/912 [==============================] - 17s 18ms/step - loss: 0.0091 - accuracy: 0.9956 - val_loss: 1.7423 - val_accuracy: 0.8346\n",
            "\n",
            "Epoch 00029: accuracy improved from 0.99511 to 0.99565, saving model to checkpoint_epoch_30_batch_128_model_5.h5\n",
            "Epoch 30/30\n",
            "912/912 [==============================] - 16s 18ms/step - loss: 0.0095 - accuracy: 0.9955 - val_loss: 1.7360 - val_accuracy: 0.8313\n",
            "\n",
            "Epoch 00030: accuracy did not improve from 0.99565\n"
          ],
          "name": "stdout"
        }
      ]
    },
    {
      "cell_type": "markdown",
      "metadata": {
        "id": "ja-tEtn3qrkT"
      },
      "source": [
        "checkpoint & earlystoppoint 참고 : https://teddylee777.github.io/tensorflow/keras-%EC%BD%9C%EB%B0%B1%ED%95%A8%EC%88%98-vol-03"
      ]
    },
    {
      "cell_type": "markdown",
      "metadata": {
        "id": "Ll0WHk3EU8zG"
      },
      "source": [
        "### Model 전체 save"
      ]
    },
    {
      "cell_type": "code",
      "metadata": {
        "id": "pFnioKAJQ5VC"
      },
      "source": [
        "# model_1.save(join(root_path, 'E7_model_1.h5'))\n",
        "# model_2.save(join(root_path, 'E7_model_2.h5'))\n",
        "# model_3.save(join(root_path, 'E7_model_3.h5'))"
      ],
      "execution_count": null,
      "outputs": []
    },
    {
      "cell_type": "code",
      "metadata": {
        "id": "cpZ62mvWQ5Rm"
      },
      "source": [
        "# model_4.save(join(root_path, 'E7_model_4.h5'))\n",
        "# model_5.save(join(root_path, 'E7_model_5.h5'))"
      ],
      "execution_count": 39,
      "outputs": []
    },
    {
      "cell_type": "code",
      "metadata": {
        "id": "aVg8WlCPbsVE"
      },
      "source": [
        "# model_1_weight = model_1.load_weights(\"E7_model_1.h5\")\n",
        "# model_2_weight = model_2.load_weights(\"E7_model_2.h5\")\n",
        "# model_3_weight = model_3.load_weights(\"E7_model_3.h5\")\n",
        "# model_4_weight = model_4.load_weights(\"E7_model_4.h5\")\n",
        "# model_5_weight = model_5.load_weights(\"E7_model_5.h5\")"
      ],
      "execution_count": null,
      "outputs": []
    },
    {
      "cell_type": "markdown",
      "metadata": {
        "id": "1we9DcTrubal"
      },
      "source": [
        "### Graph로 학습 아이디어 얻기\n",
        "- model1,2,5만 사용 & 진행"
      ]
    },
    {
      "cell_type": "code",
      "metadata": {
        "colab": {
          "base_uri": "https://localhost:8080/"
        },
        "id": "T9MrdGOwtvxB",
        "outputId": "5ac63ffd-e688-464d-eb80-07720af8184c"
      },
      "source": [
        "history_dict = history_1.history\n",
        "history_dict.keys()"
      ],
      "execution_count": 78,
      "outputs": [
        {
          "output_type": "execute_result",
          "data": {
            "text/plain": [
              "dict_keys(['loss', 'accuracy', 'val_loss', 'val_accuracy'])"
            ]
          },
          "metadata": {
            "tags": []
          },
          "execution_count": 78
        }
      ]
    },
    {
      "cell_type": "code",
      "metadata": {
        "id": "f5EXj8p_rm4m"
      },
      "source": [
        "# Plot Method_1\n",
        "\n",
        "def history_plot(history_name, model_name):\n",
        "    history_dict = history_name.history\n",
        "    acc = history_dict['accuracy']\n",
        "    val_acc = history_dict['val_accuracy']\n",
        "    loss = history_dict['loss']\n",
        "    val_loss = history_dict['val_loss']\n",
        "\n",
        "    epochs = range(1, len(acc)+1)\n",
        "\n",
        "    fig, ax = plt.subplots(1,2)\n",
        "    ax[0].plot(epochs, loss, 'bo', label = 'Training loss')\n",
        "    ax[0].plot(epochs, val_loss, 'b', label = 'Validation loss')\n",
        "    ax[0].set_title('Training & Validation Loss')\n",
        "    ax[0].set_xlabel('Epoch')\n",
        "    ax[0].set_ylabel('Loss')\n",
        "    ax[0].legend()\n",
        "\n",
        "    ax[1].plot(epochs, acc, 'ro', label = 'Training acc')\n",
        "    ax[1].plot(epochs, val_acc, 'r', label = 'Validation acc')\n",
        "    ax[1].set_title('Training & Validation Accuracy')\n",
        "    ax[1].set_xlabel('Epoch')\n",
        "    ax[1].set_ylabel('Accuracy')\n",
        "    ax[1].legend()\n",
        "\n",
        "    plt.suptitle(model_name, fontsize=20)\n",
        "\n",
        "    plt.show()"
      ],
      "execution_count": 53,
      "outputs": []
    },
    {
      "cell_type": "code",
      "metadata": {
        "id": "n2INBAr0rm1E"
      },
      "source": [
        "# # Plot Method_2\n",
        "\n",
        "# def vis(history,name) :\n",
        "#     plt.title(f\"{name.upper()}\")\n",
        "#     plt.xlabel('epochs')\n",
        "#     plt.ylabel(f\"{name.lower()}\")\n",
        "#     value = history.history.get(name)\n",
        "#     val_value = history.history.get(f\"val_{name}\",None)\n",
        "#     epochs = range(1, len(value)+1)\n",
        "#     plt.plot(epochs, value, 'b-', label=f'training {name}')\n",
        "#     if val_value is not None :\n",
        "#         plt.plot(epochs, val_value, 'r:', label=f'validation {name}')\n",
        "#     plt.legend(loc='upper center', bbox_to_anchor=(0.05, 1.2) , fontsize=10 , ncol=1)\n",
        "    \n",
        "# def plot_history(history) :\n",
        "#     key_value = list(set([i.split(\"val_\")[-1] for i in list(history.history.keys())]))\n",
        "#     plt.figure(figsize=(12, 4))\n",
        "#     for idx , key in enumerate(key_value) :\n",
        "#         plt.subplot(1, len(key_value), idx+1)\n",
        "#         vis(history, key)\n",
        "#     plt.tight_layout()\n",
        "#     plt.show()"
      ],
      "execution_count": null,
      "outputs": []
    },
    {
      "cell_type": "markdown",
      "metadata": {
        "id": "S8O76NcDv-WB"
      },
      "source": [
        "plot 참고페이지 : https://data-newbie.tistory.com/644"
      ]
    },
    {
      "cell_type": "markdown",
      "metadata": {
        "id": "zPVt0hih1vZ7"
      },
      "source": [
        "--------\n",
        "---------"
      ]
    },
    {
      "cell_type": "markdown",
      "metadata": {
        "id": "iKneuwli-ilK"
      },
      "source": [
        "### 학습한 Models을 Word2Vec 형식으로 만듦 | Word2VecKeyedVectors 이용"
      ]
    },
    {
      "cell_type": "code",
      "metadata": {
        "id": "JfkzLdveIR9T"
      },
      "source": [
        "#  !pip install gensim == 3.8.3"
      ],
      "execution_count": null,
      "outputs": []
    },
    {
      "cell_type": "code",
      "metadata": {
        "id": "zrTrf76AIO-V"
      },
      "source": [
        "import gensim\n",
        "from gensim.models import KeyedVectors\n",
        "from gensim.models.keyedvectors import Word2VecKeyedVectors"
      ],
      "execution_count": 58,
      "outputs": []
    },
    {
      "cell_type": "markdown",
      "metadata": {
        "id": "NfnbZgi3GyvV"
      },
      "source": [
        "#### Model_1 _ Word2Vec 생성 "
      ]
    },
    {
      "cell_type": "code",
      "metadata": {
        "colab": {
          "base_uri": "https://localhost:8080/"
        },
        "id": "kZnDqzINDuOt",
        "outputId": "026cdb5b-10c1-4fc4-91a8-6cd1970d0bd7"
      },
      "source": [
        "embedding_layer_1 = model_1.layers[0]\n",
        "weights_1 = embedding_layer_1.get_weights()[0]\n",
        "print(weights_1.shape)    # shape: (vocab_size, embedding_dim)"
      ],
      "execution_count": 59,
      "outputs": [
        {
          "output_type": "stream",
          "text": [
            "(10000, 64)\n"
          ],
          "name": "stdout"
        }
      ]
    },
    {
      "cell_type": "code",
      "metadata": {
        "id": "Qb8vf6eN199x"
      },
      "source": [
        "# 학습한 Embedding 파라미터를 write하여 파일에 저장 \n",
        "word2vec_file_path_1 = join(root_path, 'word2vec_1.txt')\n",
        "f1 = open(word2vec_file_path_1, 'w')\n",
        "f1.write('{} {}\\n'.format(vocab_size, vector_dim)) \n",
        "\n",
        "\n",
        "# 단어 개수 10000개의 워드 벡터를 파일에 기록(< >문자 포함)\n",
        "vectors1 = model_1.get_weights()[0]\n",
        "for i in range(0,vocab_size):\n",
        "    f1.write('{} {}\\n'.format(index_to_word[i], ' '.join(map(str, list(vectors1[i, :])))))\n",
        "f1.close()"
      ],
      "execution_count": 61,
      "outputs": []
    },
    {
      "cell_type": "code",
      "metadata": {
        "id": "pHqyuT__HY8B"
      },
      "source": [
        "# word2vec_1 들고오기\n",
        "\n",
        "word2vec_mine = Word2VecKeyedVectors.load_word2vec_format(word2vec_file_path_1, binary=False)"
      ],
      "execution_count": 62,
      "outputs": []
    },
    {
      "cell_type": "code",
      "metadata": {
        "colab": {
          "base_uri": "https://localhost:8080/"
        },
        "id": "9DXOey1IHY6p",
        "outputId": "f4f4028f-906f-4964-d57d-3f89f556157a"
      },
      "source": [
        "#word2vec 패키지 확인\n",
        "vector = word2vec_mine['영화']\n",
        "vector"
      ],
      "execution_count": 64,
      "outputs": [
        {
          "output_type": "execute_result",
          "data": {
            "text/plain": [
              "array([-0.02720558,  0.05660259, -0.09718677,  0.16494884,  0.06101682,\n",
              "       -0.05755186,  0.02935116,  0.04682359,  0.04432143,  0.08732117,\n",
              "        0.00751934, -0.02492078, -0.02856544, -0.00612819, -0.11302219,\n",
              "       -0.02910005,  0.03547359, -0.03876388,  0.14789626,  0.01749439,\n",
              "       -0.10210567, -0.02629398,  0.00693661, -0.05005178,  0.11824082,\n",
              "        0.00464731, -0.10318331,  0.02877716, -0.06746715,  0.15147485,\n",
              "       -0.12857829, -0.12058488,  0.01626531, -0.05598835,  0.16060871,\n",
              "        0.07972607,  0.12797768,  0.00183492,  0.14319521,  0.02310717,\n",
              "       -0.09168578, -0.00286361,  0.09998713, -0.0251008 ,  0.02233405,\n",
              "        0.04041274, -0.11524167,  0.00981642,  0.00314537, -0.02502657,\n",
              "        0.01779595, -0.04438778,  0.05073783, -0.07750952, -0.00396719,\n",
              "        0.14839734, -0.00713173,  0.10869856, -0.039334  , -0.14740008,\n",
              "        0.06436296,  0.03386389,  0.04185395, -0.11302136], dtype=float32)"
            ]
          },
          "metadata": {
            "tags": []
          },
          "execution_count": 64
        }
      ]
    },
    {
      "cell_type": "markdown",
      "metadata": {
        "id": "1kQ7yhbymV0K"
      },
      "source": [
        "#### Model_2 _ Word2Vec 생성 "
      ]
    },
    {
      "cell_type": "code",
      "metadata": {
        "colab": {
          "base_uri": "https://localhost:8080/"
        },
        "id": "-i6U3d_bmVFX",
        "outputId": "8a9707b7-2786-4672-a2fd-a69bad5ab05e"
      },
      "source": [
        "embedding_layer_2 = model_2.layers[0]\n",
        "weights_2 = embedding_layer_2.get_weights()[0]\n",
        "print(weights_2.shape)    # shape: (vocab_size, embedding_dim)"
      ],
      "execution_count": 66,
      "outputs": [
        {
          "output_type": "stream",
          "text": [
            "(10000, 64)\n"
          ],
          "name": "stdout"
        }
      ]
    },
    {
      "cell_type": "code",
      "metadata": {
        "id": "A2voW1qzmYkR"
      },
      "source": [
        "# 학습한 Embedding 파라미터를 write하여 파일에 저장 \n",
        "word2vec_file_path_2 = join(root_path, 'ko/ko.bin')\n",
        "f2 = open(word2vec_file_path_2, 'w')\n",
        "f2.write('{} {}\\n'.format(vocab_size, vector_dim)) \n",
        "\n",
        "\n",
        "# 단어 개수 10000개의 워드 벡터를 파일에 기록(< >문자 포함)\n",
        "vectors2 = model_2.get_weights()[0]\n",
        "for i in range(0,vocab_size):\n",
        "    f2.write('{} {}\\n'.format(index_to_word[i], ' '.join(map(str, list(vectors2[i, :])))))\n",
        "f2.close()"
      ],
      "execution_count": 68,
      "outputs": []
    },
    {
      "cell_type": "code",
      "metadata": {
        "id": "_NmM-EtOmYgY"
      },
      "source": [
        "# word2vec_2 들고오기\n",
        "\n",
        "word2vec_mine2 = Word2VecKeyedVectors.load_word2vec_format(word2vec_file_path_2, binary=False)"
      ],
      "execution_count": 69,
      "outputs": []
    },
    {
      "cell_type": "code",
      "metadata": {
        "colab": {
          "base_uri": "https://localhost:8080/"
        },
        "id": "2O3YFUQbmYdw",
        "outputId": "4b77991c-0030-4aaf-eb0d-88d3228956a8"
      },
      "source": [
        "#word2vec 패키지 확인\n",
        "vector = word2vec_mine2['영화']\n",
        "vector"
      ],
      "execution_count": 73,
      "outputs": [
        {
          "output_type": "execute_result",
          "data": {
            "text/plain": [
              "array([-0.10195308, -0.17778495,  0.00630154,  0.01549865,  0.09949715,\n",
              "        0.1652493 , -0.25506037, -0.07690629,  0.08236503,  0.04496053,\n",
              "       -0.11586308,  0.00415615,  0.06876255, -0.16979063, -0.09522153,\n",
              "        0.05523648, -0.07432997, -0.1475577 , -0.01525136, -0.05461713,\n",
              "       -0.11131179, -0.00217426, -0.00871316, -0.08896422,  0.12746404,\n",
              "        0.01526602, -0.06951655, -0.11488252,  0.03038533, -0.00539643,\n",
              "        0.0686589 ,  0.04256728, -0.05102964,  0.06784522,  0.01497143,\n",
              "       -0.04703365,  0.01000274, -0.07843749, -0.1686823 , -0.13532667,\n",
              "        0.03066035,  0.02273932, -0.0299186 ,  0.10490283,  0.1330655 ,\n",
              "       -0.00091471, -0.09008346, -0.01825393, -0.20772776,  0.02385543,\n",
              "       -0.03566461,  0.05633284,  0.02563849,  0.07399575, -0.04187523,\n",
              "       -0.08208246, -0.10081647, -0.11872657, -0.03499075,  0.10316721,\n",
              "        0.07887933,  0.07665923, -0.02020802, -0.17429446], dtype=float32)"
            ]
          },
          "metadata": {
            "tags": []
          },
          "execution_count": 73
        }
      ]
    },
    {
      "cell_type": "markdown",
      "metadata": {
        "id": "rdhLlNJcA5_x"
      },
      "source": [
        "------------ 여기까지는 모델 생성해서 진행한 것---------------"
      ]
    },
    {
      "cell_type": "markdown",
      "metadata": {
        "id": "vtG9e1Jg8nP3"
      },
      "source": [
        "--------------\n",
        "---------------"
      ]
    },
    {
      "cell_type": "markdown",
      "metadata": {
        "id": "Dm2gNgFe-gK3"
      },
      "source": [
        "### Model_6 | 한국어 Word2Vec 사용 | from 박규병"
      ]
    },
    {
      "cell_type": "code",
      "metadata": {
        "id": "nGsYQd-u-bn6"
      },
      "source": [
        "# ko.bin 이용 \n",
        "import gensim\n",
        "\n",
        "k_word2vec_file_path = join(root_path, 'ko/ko.bin') \n",
        "model_6 = gensim.models.Word2Vec.load(k_word2vec_file_path)"
      ],
      "execution_count": 80,
      "outputs": []
    },
    {
      "cell_type": "code",
      "metadata": {
        "colab": {
          "base_uri": "https://localhost:8080/"
        },
        "id": "4Rz5KeR4_bt8",
        "outputId": "5b162322-fd42-4dbf-f351-8a7a52e8982d"
      },
      "source": [
        "result = model_6.wv.most_similar(\"강아지\")\n",
        "print(result)"
      ],
      "execution_count": 81,
      "outputs": [
        {
          "output_type": "stream",
          "text": [
            "[('고양이', 0.7290452718734741), ('거위', 0.7185635566711426), ('토끼', 0.7056223154067993), ('멧돼지', 0.6950401067733765), ('엄마', 0.6934334635734558), ('난쟁이', 0.6806551218032837), ('한마리', 0.6770296096801758), ('아가씨', 0.6750352382659912), ('아빠', 0.6729634404182434), ('목걸이', 0.6512460708618164)]\n"
          ],
          "name": "stdout"
        }
      ]
    },
    {
      "cell_type": "markdown",
      "metadata": {
        "id": "4tosUBURQrmh"
      },
      "source": [
        "- 참고 페이지 : https://wikidocs.net/50739"
      ]
    },
    {
      "cell_type": "markdown",
      "metadata": {
        "id": "mWoAG-YkJTIg"
      },
      "source": [
        "Embedding matrix에 학습된 Word2Vec 사용하기 "
      ]
    },
    {
      "cell_type": "code",
      "metadata": {
        "colab": {
          "base_uri": "https://localhost:8080/"
        },
        "id": "QImq4ljPHY2p",
        "outputId": "3aaeb4b9-bb2d-4bc3-a57c-2c8401838af1"
      },
      "source": [
        "vocab_size = 10000 \n",
        "vector_dim = 200 \n",
        "\n",
        "# rand 들어간 matrix 생성\n",
        "embedding_matrix = np.random.rand(vocab_size, vector_dim)\n",
        "\n",
        "# embedding_matrix에 Word2Vec 단어에 매칭되는 워드벡터를 추가 \n",
        "for i in range(0,vocab_size):\n",
        "    if index_to_word[i] in model_6:\n",
        "        embedding_matrix[i] = model_6[index_to_word[i]]"
      ],
      "execution_count": 84,
      "outputs": [
        {
          "output_type": "stream",
          "text": [
            "/usr/local/lib/python3.7/dist-packages/ipykernel_launcher.py:9: DeprecationWarning: Call to deprecated `__contains__` (Method will be removed in 4.0.0, use self.wv.__contains__() instead).\n",
            "  if __name__ == '__main__':\n",
            "/usr/local/lib/python3.7/dist-packages/ipykernel_launcher.py:10: DeprecationWarning: Call to deprecated `__getitem__` (Method will be removed in 4.0.0, use self.wv.__getitem__() instead).\n",
            "  # Remove the CWD from sys.path while we load stuff.\n"
          ],
          "name": "stderr"
        }
      ]
    },
    {
      "cell_type": "code",
      "metadata": {
        "colab": {
          "base_uri": "https://localhost:8080/"
        },
        "id": "h6hvpfj87V--",
        "outputId": "8e7811e7-a7b6-4b27-c806-1a387738d07c"
      },
      "source": [
        "from tensorflow.keras.initializers import Constant\n",
        "\n",
        "# Word2Vec 이용한 Model_6 구성\n",
        "# 다른 layers은 위 다른 model 1-5 에서 가장 효율이 좋았던 내역들을 사용   -?>>>>\n",
        "\n",
        "model_6 = keras.Sequential()\n",
        "model_6.add(keras.layers.Embedding(vocab_size, \n",
        "                                 vector_dim, \n",
        "                                 embeddings_initializer=Constant(embedding_matrix),\n",
        "                                 input_length=maxlen, \n",
        "                                 trainable=True))   # Fine-tuning을 위해\n",
        "model_6.add(keras.layers.Conv1D(32, 16, activation='relu'))\n",
        "model_6.add(keras.layers.GlobalMaxPooling1D())\n",
        "model_6.add(keras.layers.Dense(8, activation='relu'))\n",
        "model_6.add(keras.layers.Dense(1, activation='sigmoid')) \n",
        "\n",
        "model_6.summary()"
      ],
      "execution_count": 93,
      "outputs": [
        {
          "output_type": "stream",
          "text": [
            "Model: \"sequential_6\"\n",
            "_________________________________________________________________\n",
            "Layer (type)                 Output Shape              Param #   \n",
            "=================================================================\n",
            "embedding_16 (Embedding)     (None, 37, 200)           2000000   \n",
            "_________________________________________________________________\n",
            "conv1d_6 (Conv1D)            (None, 22, 32)            102432    \n",
            "_________________________________________________________________\n",
            "global_max_pooling1d_2 (Glob (None, 32)                0         \n",
            "_________________________________________________________________\n",
            "dense_12 (Dense)             (None, 8)                 264       \n",
            "_________________________________________________________________\n",
            "dense_13 (Dense)             (None, 1)                 9         \n",
            "=================================================================\n",
            "Total params: 2,102,705\n",
            "Trainable params: 2,102,705\n",
            "Non-trainable params: 0\n",
            "_________________________________________________________________\n"
          ],
          "name": "stdout"
        }
      ]
    },
    {
      "cell_type": "code",
      "metadata": {
        "colab": {
          "base_uri": "https://localhost:8080/"
        },
        "id": "0XN6Fdoo7V6R",
        "outputId": "5bf25883-796d-4355-c41d-3b90d9b64ffe"
      },
      "source": [
        "model_num = 6\n",
        "batch_size = 512 # 많으니까 높임 \n",
        "\n",
        "file_name = 'checkpoint_epoch_{}_batch_{}_model_{}.h5'.format(epoch, batch_size, model_num)\n",
        "\n",
        "checkpoint6 = ModelCheckpoint(file_name, monitor = 'accuracy', verbose = 2,\n",
        "                             save_best_only = True, mode = 'auto')\n",
        "\n",
        "earlystoppoint6 = EarlyStopping(monitor = 'accuracy', patience = 5) \n",
        "\n",
        "model_6.compile(loss = 'binary_crossentropy', optimizer='adam', metrics = ['accuracy'])\n",
        "\n",
        "print(model_6.summary())\n",
        "\n",
        "# model fit\n",
        "\n",
        "history_6 = model_6.fit(x_train, y_train, validation_data = (x_val, y_val), \n",
        "                        epochs = epoch, batch_size = batch_size, \n",
        "                        callbacks = [checkpoint6, earlystoppoint6])"
      ],
      "execution_count": 94,
      "outputs": [
        {
          "output_type": "stream",
          "text": [
            "Model: \"sequential_6\"\n",
            "_________________________________________________________________\n",
            "Layer (type)                 Output Shape              Param #   \n",
            "=================================================================\n",
            "embedding_16 (Embedding)     (None, 37, 200)           2000000   \n",
            "_________________________________________________________________\n",
            "conv1d_6 (Conv1D)            (None, 22, 32)            102432    \n",
            "_________________________________________________________________\n",
            "global_max_pooling1d_2 (Glob (None, 32)                0         \n",
            "_________________________________________________________________\n",
            "dense_12 (Dense)             (None, 8)                 264       \n",
            "_________________________________________________________________\n",
            "dense_13 (Dense)             (None, 1)                 9         \n",
            "=================================================================\n",
            "Total params: 2,102,705\n",
            "Trainable params: 2,102,705\n",
            "Non-trainable params: 0\n",
            "_________________________________________________________________\n",
            "None\n",
            "Epoch 1/30\n",
            "228/228 [==============================] - 13s 50ms/step - loss: 0.5483 - accuracy: 0.7162 - val_loss: 0.4671 - val_accuracy: 0.7777\n",
            "\n",
            "Epoch 00001: accuracy improved from -inf to 0.71623, saving model to checkpoint_epoch_30_batch_512_model_6.h5\n",
            "Epoch 2/30\n",
            "228/228 [==============================] - 10s 43ms/step - loss: 0.3932 - accuracy: 0.8242 - val_loss: 0.3865 - val_accuracy: 0.8243\n",
            "\n",
            "Epoch 00002: accuracy improved from 0.71623 to 0.82425, saving model to checkpoint_epoch_30_batch_512_model_6.h5\n",
            "Epoch 3/30\n",
            "228/228 [==============================] - 10s 44ms/step - loss: 0.3227 - accuracy: 0.8624 - val_loss: 0.3763 - val_accuracy: 0.8337\n",
            "\n",
            "Epoch 00003: accuracy improved from 0.82425 to 0.86236, saving model to checkpoint_epoch_30_batch_512_model_6.h5\n",
            "Epoch 4/30\n",
            "228/228 [==============================] - 10s 45ms/step - loss: 0.2758 - accuracy: 0.8846 - val_loss: 0.3911 - val_accuracy: 0.8307\n",
            "\n",
            "Epoch 00004: accuracy improved from 0.86236 to 0.88459, saving model to checkpoint_epoch_30_batch_512_model_6.h5\n",
            "Epoch 5/30\n",
            "228/228 [==============================] - 11s 50ms/step - loss: 0.2365 - accuracy: 0.9047 - val_loss: 0.3893 - val_accuracy: 0.8380\n",
            "\n",
            "Epoch 00005: accuracy improved from 0.88459 to 0.90469, saving model to checkpoint_epoch_30_batch_512_model_6.h5\n",
            "Epoch 6/30\n",
            "228/228 [==============================] - 12s 51ms/step - loss: 0.2008 - accuracy: 0.9212 - val_loss: 0.4132 - val_accuracy: 0.8364\n",
            "\n",
            "Epoch 00006: accuracy improved from 0.90469 to 0.92118, saving model to checkpoint_epoch_30_batch_512_model_6.h5\n",
            "Epoch 7/30\n",
            "228/228 [==============================] - 11s 46ms/step - loss: 0.1708 - accuracy: 0.9351 - val_loss: 0.4531 - val_accuracy: 0.8341\n",
            "\n",
            "Epoch 00007: accuracy improved from 0.92118 to 0.93511, saving model to checkpoint_epoch_30_batch_512_model_6.h5\n",
            "Epoch 8/30\n",
            "228/228 [==============================] - 11s 47ms/step - loss: 0.1451 - accuracy: 0.9465 - val_loss: 0.4809 - val_accuracy: 0.8347\n",
            "\n",
            "Epoch 00008: accuracy improved from 0.93511 to 0.94647, saving model to checkpoint_epoch_30_batch_512_model_6.h5\n",
            "Epoch 9/30\n",
            "228/228 [==============================] - 11s 47ms/step - loss: 0.1255 - accuracy: 0.9548 - val_loss: 0.5208 - val_accuracy: 0.8318\n",
            "\n",
            "Epoch 00009: accuracy improved from 0.94647 to 0.95479, saving model to checkpoint_epoch_30_batch_512_model_6.h5\n",
            "Epoch 10/30\n",
            "228/228 [==============================] - 10s 45ms/step - loss: 0.1067 - accuracy: 0.9623 - val_loss: 0.5676 - val_accuracy: 0.8312\n",
            "\n",
            "Epoch 00010: accuracy improved from 0.95479 to 0.96232, saving model to checkpoint_epoch_30_batch_512_model_6.h5\n",
            "Epoch 11/30\n",
            "228/228 [==============================] - 10s 45ms/step - loss: 0.0920 - accuracy: 0.9682 - val_loss: 0.6206 - val_accuracy: 0.8288\n",
            "\n",
            "Epoch 00011: accuracy improved from 0.96232 to 0.96823, saving model to checkpoint_epoch_30_batch_512_model_6.h5\n",
            "Epoch 12/30\n",
            "228/228 [==============================] - 11s 48ms/step - loss: 0.0839 - accuracy: 0.9704 - val_loss: 0.6717 - val_accuracy: 0.8274\n",
            "\n",
            "Epoch 00012: accuracy improved from 0.96823 to 0.97040, saving model to checkpoint_epoch_30_batch_512_model_6.h5\n",
            "Epoch 13/30\n",
            "228/228 [==============================] - 11s 49ms/step - loss: 0.0723 - accuracy: 0.9756 - val_loss: 0.7219 - val_accuracy: 0.8276\n",
            "\n",
            "Epoch 00013: accuracy improved from 0.97040 to 0.97560, saving model to checkpoint_epoch_30_batch_512_model_6.h5\n",
            "Epoch 14/30\n",
            "228/228 [==============================] - 11s 47ms/step - loss: 0.0654 - accuracy: 0.9779 - val_loss: 0.7525 - val_accuracy: 0.8270\n",
            "\n",
            "Epoch 00014: accuracy improved from 0.97560 to 0.97789, saving model to checkpoint_epoch_30_batch_512_model_6.h5\n",
            "Epoch 15/30\n",
            "228/228 [==============================] - 10s 45ms/step - loss: 0.0596 - accuracy: 0.9793 - val_loss: 0.7984 - val_accuracy: 0.8286\n",
            "\n",
            "Epoch 00015: accuracy improved from 0.97789 to 0.97929, saving model to checkpoint_epoch_30_batch_512_model_6.h5\n",
            "Epoch 16/30\n",
            "228/228 [==============================] - 12s 53ms/step - loss: 0.0583 - accuracy: 0.9797 - val_loss: 0.8978 - val_accuracy: 0.8177\n",
            "\n",
            "Epoch 00016: accuracy improved from 0.97929 to 0.97967, saving model to checkpoint_epoch_30_batch_512_model_6.h5\n",
            "Epoch 17/30\n",
            "228/228 [==============================] - 11s 47ms/step - loss: 0.0560 - accuracy: 0.9800 - val_loss: 0.9001 - val_accuracy: 0.8242\n",
            "\n",
            "Epoch 00017: accuracy improved from 0.97967 to 0.97999, saving model to checkpoint_epoch_30_batch_512_model_6.h5\n",
            "Epoch 18/30\n",
            "228/228 [==============================] - 11s 46ms/step - loss: 0.0492 - accuracy: 0.9831 - val_loss: 0.9380 - val_accuracy: 0.8237\n",
            "\n",
            "Epoch 00018: accuracy improved from 0.97999 to 0.98305, saving model to checkpoint_epoch_30_batch_512_model_6.h5\n",
            "Epoch 19/30\n",
            "228/228 [==============================] - 11s 47ms/step - loss: 0.0410 - accuracy: 0.9861 - val_loss: 0.9858 - val_accuracy: 0.8222\n",
            "\n",
            "Epoch 00019: accuracy improved from 0.98305 to 0.98611, saving model to checkpoint_epoch_30_batch_512_model_6.h5\n",
            "Epoch 20/30\n",
            "228/228 [==============================] - 11s 47ms/step - loss: 0.0348 - accuracy: 0.9882 - val_loss: 1.0168 - val_accuracy: 0.8230\n",
            "\n",
            "Epoch 00020: accuracy improved from 0.98611 to 0.98825, saving model to checkpoint_epoch_30_batch_512_model_6.h5\n",
            "Epoch 21/30\n",
            "228/228 [==============================] - 10s 46ms/step - loss: 0.0310 - accuracy: 0.9895 - val_loss: 1.0666 - val_accuracy: 0.8213\n",
            "\n",
            "Epoch 00021: accuracy improved from 0.98825 to 0.98952, saving model to checkpoint_epoch_30_batch_512_model_6.h5\n",
            "Epoch 22/30\n",
            "228/228 [==============================] - 10s 45ms/step - loss: 0.0269 - accuracy: 0.9910 - val_loss: 1.1136 - val_accuracy: 0.8219\n",
            "\n",
            "Epoch 00022: accuracy improved from 0.98952 to 0.99103, saving model to checkpoint_epoch_30_batch_512_model_6.h5\n",
            "Epoch 23/30\n",
            "228/228 [==============================] - 11s 48ms/step - loss: 0.0259 - accuracy: 0.9912 - val_loss: 1.1636 - val_accuracy: 0.8209\n",
            "\n",
            "Epoch 00023: accuracy improved from 0.99103 to 0.99116, saving model to checkpoint_epoch_30_batch_512_model_6.h5\n",
            "Epoch 24/30\n",
            "228/228 [==============================] - 11s 48ms/step - loss: 0.0236 - accuracy: 0.9916 - val_loss: 1.2334 - val_accuracy: 0.8201\n",
            "\n",
            "Epoch 00024: accuracy improved from 0.99116 to 0.99164, saving model to checkpoint_epoch_30_batch_512_model_6.h5\n",
            "Epoch 25/30\n",
            "228/228 [==============================] - 10s 46ms/step - loss: 0.0445 - accuracy: 0.9843 - val_loss: 1.2729 - val_accuracy: 0.8203\n",
            "\n",
            "Epoch 00025: accuracy did not improve from 0.99164\n",
            "Epoch 26/30\n",
            "228/228 [==============================] - 11s 46ms/step - loss: 0.0826 - accuracy: 0.9727 - val_loss: 1.2073 - val_accuracy: 0.8191\n",
            "\n",
            "Epoch 00026: accuracy did not improve from 0.99164\n",
            "Epoch 27/30\n",
            "228/228 [==============================] - 11s 49ms/step - loss: 0.0400 - accuracy: 0.9855 - val_loss: 1.1956 - val_accuracy: 0.8219\n",
            "\n",
            "Epoch 00027: accuracy did not improve from 0.99164\n",
            "Epoch 28/30\n",
            "228/228 [==============================] - 11s 48ms/step - loss: 0.0229 - accuracy: 0.9921 - val_loss: 1.2367 - val_accuracy: 0.8196\n",
            "\n",
            "Epoch 00028: accuracy improved from 0.99164 to 0.99213, saving model to checkpoint_epoch_30_batch_512_model_6.h5\n",
            "Epoch 29/30\n",
            "228/228 [==============================] - 11s 47ms/step - loss: 0.0186 - accuracy: 0.9932 - val_loss: 1.2749 - val_accuracy: 0.8211\n",
            "\n",
            "Epoch 00029: accuracy improved from 0.99213 to 0.99322, saving model to checkpoint_epoch_30_batch_512_model_6.h5\n",
            "Epoch 30/30\n",
            "228/228 [==============================] - 11s 47ms/step - loss: 0.0170 - accuracy: 0.9939 - val_loss: 1.2983 - val_accuracy: 0.8226\n",
            "\n",
            "Epoch 00030: accuracy improved from 0.99322 to 0.99391, saving model to checkpoint_epoch_30_batch_512_model_6.h5\n"
          ],
          "name": "stdout"
        }
      ]
    },
    {
      "cell_type": "code",
      "metadata": {
        "id": "4DMDlEr-TV7P"
      },
      "source": [
        "model_6.save(join(root_path, 'E7_model_6.h5'))"
      ],
      "execution_count": 95,
      "outputs": []
    },
    {
      "cell_type": "markdown",
      "metadata": {
        "id": "893U_ZrT8pOA"
      },
      "source": [
        "### Model 평가 "
      ]
    },
    {
      "cell_type": "code",
      "metadata": {
        "colab": {
          "base_uri": "https://localhost:8080/"
        },
        "id": "OIN3cadl7V4A",
        "outputId": "080d4376-b903-43d3-d324-6bcaece3f446"
      },
      "source": [
        "results_1 = model_1.evaluate(x_test,  y_test, verbose=2)\n",
        "print(results_1)"
      ],
      "execution_count": 75,
      "outputs": [
        {
          "output_type": "stream",
          "text": [
            "1534/1534 - 36s - loss: 1.6796 - accuracy: 0.8296\n",
            "[1.6795769929885864, 0.8295600414276123]\n"
          ],
          "name": "stdout"
        }
      ]
    },
    {
      "cell_type": "code",
      "metadata": {
        "id": "vDG5nPKN7V1c"
      },
      "source": [
        "# results_2 = model_2.evaluate(x_test,  y_test, verbose=2)\n",
        "# print(results_2)"
      ],
      "execution_count": null,
      "outputs": []
    },
    {
      "cell_type": "code",
      "metadata": {
        "id": "ktaEcvxK8xBv"
      },
      "source": [
        "# results_3 = model_3.evaluate(x_test,  y_test, verbose=2)\n",
        "# print(results_3)"
      ],
      "execution_count": null,
      "outputs": []
    },
    {
      "cell_type": "code",
      "metadata": {
        "id": "bcwE6w8j8w_Y"
      },
      "source": [
        "# results_4 = model_4.evaluate(x_test,  y_test, verbose=2)\n",
        "# print(results_4)"
      ],
      "execution_count": null,
      "outputs": []
    },
    {
      "cell_type": "code",
      "metadata": {
        "colab": {
          "base_uri": "https://localhost:8080/"
        },
        "id": "DG8WQMvx8w81",
        "outputId": "d0e023a2-4a80-4fa7-ac79-4dc77d60225d"
      },
      "source": [
        "results_5 = model_5.evaluate(x_test,  y_test, verbose=2)\n",
        "print(results_5)"
      ],
      "execution_count": 77,
      "outputs": [
        {
          "output_type": "stream",
          "text": [
            "1534/1534 - 4s - loss: 1.7738 - accuracy: 0.8293\n",
            "[1.7738267183303833, 0.8293358683586121]\n"
          ],
          "name": "stdout"
        }
      ]
    },
    {
      "cell_type": "code",
      "metadata": {
        "colab": {
          "base_uri": "https://localhost:8080/"
        },
        "id": "dRT0NRzF8w0n",
        "outputId": "23e7a309-0d68-40e6-c331-dac632c8b33f"
      },
      "source": [
        "results_6 = model_6.evaluate(x_test,  y_test, verbose=2)\n",
        "print(results_6)"
      ],
      "execution_count": 96,
      "outputs": [
        {
          "output_type": "stream",
          "text": [
            "1534/1534 - 4s - loss: 1.3189 - accuracy: 0.8189\n",
            "[1.3189376592636108, 0.8189228177070618]\n"
          ],
          "name": "stdout"
        }
      ]
    },
    {
      "cell_type": "markdown",
      "metadata": {
        "id": "N8nIjAc529hx"
      },
      "source": [
        "model_1이 가장 좋은 결과를 보임 "
      ]
    },
    {
      "cell_type": "markdown",
      "metadata": {
        "id": "b3jxf1cz2RX1"
      },
      "source": [
        "### 개선필요점\n",
        "- model 학습을 더 빠르게 진행할 수 있는 방법 search \n",
        "- model 학습 중간에 멈추거나, runtime이 중단되어도 연속될 수 있는 방법 search \n"
      ]
    }
  ]
}