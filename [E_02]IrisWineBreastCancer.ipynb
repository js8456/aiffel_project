{
  "nbformat": 4,
  "nbformat_minor": 0,
  "metadata": {
    "colab": {
      "name": "[E-02]IrisWineBreastCancer.ipynb",
      "provenance": [],
      "collapsed_sections": []
    },
    "kernelspec": {
      "name": "python3",
      "display_name": "Python 3"
    },
    "language_info": {
      "name": "python"
    }
  },
  "cells": [
    {
      "cell_type": "markdown",
      "metadata": {
        "id": "Oe1OHxQcT3JB"
      },
      "source": [
        "###**프로젝트1 load_digits**#"
      ]
    },
    {
      "cell_type": "code",
      "metadata": {
        "id": "M141hM_JPxZ1"
      },
      "source": [
        "from sklearn.datasets import load_digits, load_wine, load_breast_cancer\n",
        "from sklearn.model_selection import train_test_split\n",
        "from sklearn.metrics import accuracy_score, classification_report, \\\n",
        "    confusion_matrix, recall_score, f1_score, precision_score\n",
        "from sklearn.tree import DecisionTreeClassifier\n",
        "from sklearn.ensemble import RandomForestClassifier\n",
        "from sklearn.svm import SVC\n",
        "from sklearn.linear_model import LogisticRegression, SGDClassifier\n",
        "from sklearn.preprocessing import StandardScaler\n",
        "from matplotlib import pyplot as plt"
      ],
      "execution_count": null,
      "outputs": []
    },
    {
      "cell_type": "markdown",
      "metadata": {
        "id": "u2pTyTd2QG3y"
      },
      "source": [
        "#### Data Load & Check & Split"
      ]
    },
    {
      "cell_type": "code",
      "metadata": {
        "id": "9RjJonjJP7I-",
        "colab": {
          "base_uri": "https://localhost:8080/",
          "height": 132
        },
        "outputId": "04505681-afbe-4e8b-a92f-65dc1b6b82d4"
      },
      "source": [
        "## Data load & check\n",
        "\n",
        "digit = load_digits()\n",
        "digit.keys()\n",
        "digit.target_names  # 10 class\n",
        "digit.target.shape  # 1797\n",
        "digit.data.shape  # (1797, 64)\n",
        "digit.DESCR\n"
      ],
      "execution_count": null,
      "outputs": [
        {
          "output_type": "execute_result",
          "data": {
            "application/vnd.google.colaboratory.intrinsic+json": {
              "type": "string"
            },
            "text/plain": [
              "\".. _digits_dataset:\\n\\nOptical recognition of handwritten digits dataset\\n--------------------------------------------------\\n\\n**Data Set Characteristics:**\\n\\n    :Number of Instances: 5620\\n    :Number of Attributes: 64\\n    :Attribute Information: 8x8 image of integer pixels in the range 0..16.\\n    :Missing Attribute Values: None\\n    :Creator: E. Alpaydin (alpaydin '@' boun.edu.tr)\\n    :Date: July; 1998\\n\\nThis is a copy of the test set of the UCI ML hand-written digits datasets\\nhttps://archive.ics.uci.edu/ml/datasets/Optical+Recognition+of+Handwritten+Digits\\n\\nThe data set contains images of hand-written digits: 10 classes where\\neach class refers to a digit.\\n\\nPreprocessing programs made available by NIST were used to extract\\nnormalized bitmaps of handwritten digits from a preprinted form. From a\\ntotal of 43 people, 30 contributed to the training set and different 13\\nto the test set. 32x32 bitmaps are divided into nonoverlapping blocks of\\n4x4 and the number of on pixels are counted in each block. This generates\\nan input matrix of 8x8 where each element is an integer in the range\\n0..16. This reduces dimensionality and gives invariance to small\\ndistortions.\\n\\nFor info on NIST preprocessing routines, see M. D. Garris, J. L. Blue, G.\\nT. Candela, D. L. Dimmick, J. Geist, P. J. Grother, S. A. Janet, and C.\\nL. Wilson, NIST Form-Based Handprint Recognition System, NISTIR 5469,\\n1994.\\n\\n.. topic:: References\\n\\n  - C. Kaynak (1995) Methods of Combining Multiple Classifiers and Their\\n    Applications to Handwritten Digit Recognition, MSc Thesis, Institute of\\n    Graduate Studies in Science and Engineering, Bogazici University.\\n  - E. Alpaydin, C. Kaynak (1998) Cascading Classifiers, Kybernetika.\\n  - Ken Tang and Ponnuthurai N. Suganthan and Xi Yao and A. Kai Qin.\\n    Linear dimensionalityreduction using relevance weighted LDA. School of\\n    Electrical and Electronic Engineering Nanyang Technological University.\\n    2005.\\n  - Claudio Gentile. A New Approximate Maximal Margin Classification\\n    Algorithm. NIPS. 2000.\""
            ]
          },
          "metadata": {
            "tags": []
          },
          "execution_count": 23
        }
      ]
    },
    {
      "cell_type": "code",
      "metadata": {
        "id": "kjhBGR_oP7Lm"
      },
      "source": [
        "# Feature data & Label data Setting\n",
        "data = digit.data\n",
        "label = digit.target"
      ],
      "execution_count": null,
      "outputs": []
    },
    {
      "cell_type": "code",
      "metadata": {
        "id": "sOpn_eL6P7OD",
        "colab": {
          "base_uri": "https://localhost:8080/"
        },
        "outputId": "708eeb9f-9d7d-4f29-d1f0-5a0dacdc4c04"
      },
      "source": [
        "# Data Split using train_test_split\n",
        "X_train, X_test, y_train, y_test = train_test_split(data, label, test_size=0.2, random_state=10)\n",
        "print(X_train.shape, X_test.shape)"
      ],
      "execution_count": null,
      "outputs": [
        {
          "output_type": "stream",
          "text": [
            "(1437, 64) (360, 64)\n"
          ],
          "name": "stdout"
        }
      ]
    },
    {
      "cell_type": "markdown",
      "metadata": {
        "id": "dTS18m-dQCBq"
      },
      "source": [
        "#### Model Training"
      ]
    },
    {
      "cell_type": "code",
      "metadata": {
        "id": "Rca2fXGwP7Vn",
        "colab": {
          "base_uri": "https://localhost:8080/"
        },
        "outputId": "626c6b53-7bfe-46a9-f7a2-795d4bf80833"
      },
      "source": [
        "# Decision Tree\n",
        "d_tree = DecisionTreeClassifier(random_state=10)\n",
        "d_tree.fit(X_train, y_train)\n",
        "tree_pred = d_tree.predict(X_test)\n",
        "print(classification_report(y_test, tree_pred))"
      ],
      "execution_count": null,
      "outputs": [
        {
          "output_type": "stream",
          "text": [
            "              precision    recall  f1-score   support\n",
            "\n",
            "           0       0.94      0.92      0.93        37\n",
            "           1       0.91      0.91      0.91        34\n",
            "           2       0.81      0.88      0.85        34\n",
            "           3       0.79      0.85      0.82        40\n",
            "           4       0.73      0.79      0.76        34\n",
            "           5       0.91      0.91      0.91        32\n",
            "           6       0.94      0.92      0.93        37\n",
            "           7       0.95      0.88      0.91        40\n",
            "           8       0.74      0.70      0.72        33\n",
            "           9       0.81      0.77      0.79        39\n",
            "\n",
            "    accuracy                           0.85       360\n",
            "   macro avg       0.85      0.85      0.85       360\n",
            "weighted avg       0.86      0.85      0.85       360\n",
            "\n"
          ],
          "name": "stdout"
        }
      ]
    },
    {
      "cell_type": "code",
      "metadata": {
        "id": "HlxywEKSP7Yo",
        "colab": {
          "base_uri": "https://localhost:8080/"
        },
        "outputId": "07732f2f-4173-463f-abf1-dd5e36ca93c2"
      },
      "source": [
        "# RandomForest\n",
        "d_random = RandomForestClassifier(random_state=10)\n",
        "d_random.fit(X_train, y_train)\n",
        "random_pred = d_random.predict(X_test)\n",
        "print(classification_report(y_test, random_pred))\n"
      ],
      "execution_count": null,
      "outputs": [
        {
          "output_type": "stream",
          "text": [
            "              precision    recall  f1-score   support\n",
            "\n",
            "           0       1.00      0.97      0.99        37\n",
            "           1       0.94      0.91      0.93        34\n",
            "           2       0.97      1.00      0.99        34\n",
            "           3       0.97      0.97      0.97        40\n",
            "           4       0.97      0.94      0.96        34\n",
            "           5       0.94      1.00      0.97        32\n",
            "           6       1.00      1.00      1.00        37\n",
            "           7       0.93      1.00      0.96        40\n",
            "           8       0.94      0.91      0.92        33\n",
            "           9       1.00      0.95      0.97        39\n",
            "\n",
            "    accuracy                           0.97       360\n",
            "   macro avg       0.97      0.97      0.97       360\n",
            "weighted avg       0.97      0.97      0.97       360\n",
            "\n"
          ],
          "name": "stdout"
        }
      ]
    },
    {
      "cell_type": "code",
      "metadata": {
        "id": "5yApy2i6P7a6",
        "colab": {
          "base_uri": "https://localhost:8080/"
        },
        "outputId": "df374e03-5d01-4f67-c286-f9e45be80fc4"
      },
      "source": [
        "# SVM\n",
        "d_svm = SVC(random_state=10)\n",
        "d_svm.fit(X_train, y_train)\n",
        "svm_pred = d_svm.predict(X_test)\n",
        "print(classification_report(y_test, svm_pred))"
      ],
      "execution_count": null,
      "outputs": [
        {
          "output_type": "stream",
          "text": [
            "              precision    recall  f1-score   support\n",
            "\n",
            "           0       1.00      1.00      1.00        37\n",
            "           1       0.97      1.00      0.99        34\n",
            "           2       0.97      1.00      0.99        34\n",
            "           3       1.00      0.97      0.99        40\n",
            "           4       1.00      0.94      0.97        34\n",
            "           5       0.97      1.00      0.98        32\n",
            "           6       1.00      1.00      1.00        37\n",
            "           7       1.00      1.00      1.00        40\n",
            "           8       0.91      0.97      0.94        33\n",
            "           9       1.00      0.95      0.97        39\n",
            "\n",
            "    accuracy                           0.98       360\n",
            "   macro avg       0.98      0.98      0.98       360\n",
            "weighted avg       0.98      0.98      0.98       360\n",
            "\n"
          ],
          "name": "stdout"
        }
      ]
    },
    {
      "cell_type": "markdown",
      "metadata": {
        "id": "BZVdzn3BQgZf"
      },
      "source": [
        "#### Linear Model </p>\n",
        "1. error occurred. increase the number of iterations or scale the data... </p>\n",
        "2. https://scikit-learn.org/stable/modules/preprocessing.html </p>\n",
        "3. regarding this document, can be assumed Preprocessing data issue </p>\n",
        "4. Realize that the result of Logistic Regression is binary... should do Normalize data </p>\n",
        "5. choose among StandardScaler(mean 0 std 1), MinMaxScaler(min 0 max 1), RobustScaler(IQR 1) </p>\n"
      ]
    },
    {
      "cell_type": "code",
      "metadata": {
        "id": "OXSofG79P7d4",
        "colab": {
          "base_uri": "https://localhost:8080/"
        },
        "outputId": "051b941a-486e-412f-c081-b50bc35392c9"
      },
      "source": [
        "# SGD Classifier\n",
        "scaler = StandardScaler()\n",
        "X_train_log = scaler.fit_transform(X_train)\n",
        "X_test_log = scaler.fit_transform(X_test)\n",
        "\n",
        "d_sgd = SGDClassifier(random_state=10)\n",
        "d_sgd.fit(X_train_log, y_train)\n",
        "sgd_pred = d_sgd.predict(X_test_log)\n",
        "print(classification_report(y_test, sgd_pred))"
      ],
      "execution_count": null,
      "outputs": [
        {
          "output_type": "stream",
          "text": [
            "              precision    recall  f1-score   support\n",
            "\n",
            "           0       0.97      0.97      0.97        37\n",
            "           1       0.91      0.94      0.93        34\n",
            "           2       1.00      1.00      1.00        34\n",
            "           3       1.00      0.95      0.97        40\n",
            "           4       0.94      0.88      0.91        34\n",
            "           5       0.97      0.94      0.95        32\n",
            "           6       1.00      0.97      0.99        37\n",
            "           7       0.97      0.95      0.96        40\n",
            "           8       0.76      0.97      0.85        33\n",
            "           9       0.97      0.90      0.93        39\n",
            "\n",
            "    accuracy                           0.95       360\n",
            "   macro avg       0.95      0.95      0.95       360\n",
            "weighted avg       0.95      0.95      0.95       360\n",
            "\n"
          ],
          "name": "stdout"
        }
      ]
    },
    {
      "cell_type": "code",
      "metadata": {
        "id": "Gn28e86kP7gg",
        "colab": {
          "base_uri": "https://localhost:8080/"
        },
        "outputId": "62815acb-4fe8-4f0c-b930-85034ac6fad0"
      },
      "source": [
        "# Logistic Regression\n",
        "d_log = LogisticRegression(random_state=10)\n",
        "d_log.fit(X_train_log, y_train)\n",
        "log_pred = d_log.predict(X_test_log)\n",
        "print(classification_report(y_test, log_pred))\n",
        "print(confusion_matrix(y_test, svm_pred))"
      ],
      "execution_count": null,
      "outputs": [
        {
          "output_type": "stream",
          "text": [
            "              precision    recall  f1-score   support\n",
            "\n",
            "           0       1.00      1.00      1.00        37\n",
            "           1       0.92      0.97      0.94        34\n",
            "           2       0.94      1.00      0.97        34\n",
            "           3       1.00      0.95      0.97        40\n",
            "           4       0.97      0.94      0.96        34\n",
            "           5       0.91      0.97      0.94        32\n",
            "           6       1.00      0.97      0.99        37\n",
            "           7       1.00      1.00      1.00        40\n",
            "           8       0.91      0.91      0.91        33\n",
            "           9       1.00      0.95      0.97        39\n",
            "\n",
            "    accuracy                           0.97       360\n",
            "   macro avg       0.97      0.97      0.97       360\n",
            "weighted avg       0.97      0.97      0.97       360\n",
            "\n",
            "[[37  0  0  0  0  0  0  0  0  0]\n",
            " [ 0 34  0  0  0  0  0  0  0  0]\n",
            " [ 0  0 34  0  0  0  0  0  0  0]\n",
            " [ 0  0  1 39  0  0  0  0  0  0]\n",
            " [ 0  0  0  0 32  0  0  0  2  0]\n",
            " [ 0  0  0  0  0 32  0  0  0  0]\n",
            " [ 0  0  0  0  0  0 37  0  0  0]\n",
            " [ 0  0  0  0  0  0  0 40  0  0]\n",
            " [ 0  1  0  0  0  0  0  0 32  0]\n",
            " [ 0  0  0  0  0  1  0  0  1 37]]\n"
          ],
          "name": "stdout"
        }
      ]
    },
    {
      "cell_type": "code",
      "metadata": {
        "id": "C7CAkPNjP7jJ",
        "colab": {
          "base_uri": "https://localhost:8080/"
        },
        "outputId": "e3205787-2066-4f9b-a010-04a792f64b0d"
      },
      "source": [
        "# Score Checking\n",
        "print('---------Decision Tree----------')\n",
        "print(d_tree.score(X_train, y_train))\n",
        "print(d_tree.score(X_test, y_test))\n",
        "print('---------Random Forest----------')\n",
        "print(d_random.score(X_train, y_train))\n",
        "print(d_random.score(X_test, y_test))\n",
        "print('---------SVM----------')\n",
        "print(d_svm.score(X_train, y_train))\n",
        "print(d_svm.score(X_test, y_test))\n",
        "print('---------SGD----------')\n",
        "print(d_sgd.score(X_train_log, y_train))\n",
        "print(d_sgd.score(X_test_log, y_test))\n",
        "print('---------Logistic Regression----------')\n",
        "print(d_log.score(X_train_log, y_train))\n",
        "print(d_log.score(X_test_log, y_test))"
      ],
      "execution_count": null,
      "outputs": [
        {
          "output_type": "stream",
          "text": [
            "---------Decision Tree----------\n",
            "1.0\n",
            "0.8527777777777777\n",
            "---------Random Forest----------\n",
            "1.0\n",
            "0.9666666666666667\n",
            "---------SVM----------\n",
            "0.9944328462073765\n",
            "0.9833333333333333\n",
            "---------SGD----------\n",
            "0.988865692414753\n",
            "0.9472222222222222\n",
            "---------Logistic Regression----------\n",
            "0.9986082115518441\n",
            "0.9666666666666667\n"
          ],
          "name": "stdout"
        }
      ]
    },
    {
      "cell_type": "markdown",
      "metadata": {
        "id": "roZ-YIuZRHb9"
      },
      "source": [
        "#### Comparison of Efficiency"
      ]
    },
    {
      "cell_type": "code",
      "metadata": {
        "id": "b3p7hWulP7ln"
      },
      "source": [
        "def get_model_training(model, X_train=None, X_test=None, y_train=None, y_test=None):\n",
        "    model.fit(X_train, y_train)\n",
        "    predict = model.predict(X_test)\n",
        "    get_eval(y_test, predict)\n"
      ],
      "execution_count": null,
      "outputs": []
    },
    {
      "cell_type": "code",
      "metadata": {
        "id": "b3YK6tNRP7oF"
      },
      "source": [
        "def get_eval(y_test, predict):\n",
        "    accuracy = accuracy_score(y_test, predict)\n",
        "    precision = precision_score(y_test, predict, average='micro')\n",
        "    recall = recall_score(y_test, predict, average='micro')\n",
        "    f1 = f1_score(y_test, predict, average='micro')\n",
        "    # roc_auc = roc_auc_score(y_test, predict, multi_class='ovo')\n",
        "    print('Accuracy: {0:.4f}, Precision: {1:.4f}, Recall: {2:.4f}, f1: {3:.4f}'.format(accuracy, precision, recall, f1))\n"
      ],
      "execution_count": null,
      "outputs": []
    },
    {
      "cell_type": "code",
      "metadata": {
        "id": "VKP9unYlP7rm",
        "colab": {
          "base_uri": "https://localhost:8080/"
        },
        "outputId": "fb147f69-8cbc-4d31-e743-f6c6c0208458"
      },
      "source": [
        "#DT Method\n",
        "model = DecisionTreeClassifier(random_state=10)\n",
        "get_model_training(model, X_train, X_test, y_train, y_test)\n",
        "get_eval(y_test, tree_pred)"
      ],
      "execution_count": null,
      "outputs": [
        {
          "output_type": "stream",
          "text": [
            "Accuracy: 0.8528, Precision: 0.8528, Recall: 0.8528, f1: 0.8528\n",
            "Accuracy: 0.8528, Precision: 0.8528, Recall: 0.8528, f1: 0.8528\n"
          ],
          "name": "stdout"
        }
      ]
    },
    {
      "cell_type": "markdown",
      "metadata": {
        "id": "ATI7w6JWRRRz"
      },
      "source": [
        "#### Using for range, Get All Consequences </p>\n",
        ">> Split with Linear and Non-Linear </p>"
      ]
    },
    {
      "cell_type": "code",
      "metadata": {
        "id": "DBbfUAFTP7tu"
      },
      "source": [
        "model = [DecisionTreeClassifier(random_state=10), RandomForestClassifier(random_state=10), SVC(random_state=10)]\n",
        "linear_model = [SGDClassifier(random_state=10), LogisticRegression(random_state=10, solver='lbfgs', max_iter=1000)]\n"
      ],
      "execution_count": null,
      "outputs": []
    },
    {
      "cell_type": "code",
      "metadata": {
        "id": "zfBOCJJFP7v1"
      },
      "source": [
        "def get_model_training(model, X_train=None, X_test=None, y_train=None, y_test=None):\n",
        "    for i in range(len(model)):\n",
        "        model[i].fit(X_train, y_train)\n",
        "        predict = model[i].predict(X_test)\n",
        "        get_eval(y_test, predict)\n"
      ],
      "execution_count": null,
      "outputs": []
    },
    {
      "cell_type": "code",
      "metadata": {
        "id": "e_TcMswtP7xv"
      },
      "source": [
        "def get_eval(y_test, predict):\n",
        "    accuracy = accuracy_score(y_test, predict)\n",
        "    precision = precision_score(y_test, predict, average='micro')\n",
        "    recall = recall_score(y_test, predict, average='micro')\n",
        "    f1 = f1_score(y_test, predict, average='micro')\n",
        "    # roc_auc = roc_auc_score(y_test, predict, multi_class='ovo')\n",
        "    print('Accuracy: {0:.4f}, Precision: {1:.4f}, Recall: {2:.4f}, f1: {3:.4f}'.format(accuracy, precision, recall, f1))\n"
      ],
      "execution_count": null,
      "outputs": []
    },
    {
      "cell_type": "code",
      "metadata": {
        "id": "i8ppGgtIP70D",
        "colab": {
          "base_uri": "https://localhost:8080/"
        },
        "outputId": "1150f399-fd5f-4c57-c5bb-a794a2044b07"
      },
      "source": [
        "# Wanna add Naming -> 나중에 해보기\n",
        "# DT, RF, SVM, SGD, LR 순서대로 값 나열\n",
        "get_model_training(model, X_train, X_test, y_train, y_test)\n",
        "get_model_training(linear_model, X_train_log, X_test, y_train, y_test)\n"
      ],
      "execution_count": null,
      "outputs": [
        {
          "output_type": "stream",
          "text": [
            "Accuracy: 0.8528, Precision: 0.8528, Recall: 0.8528, f1: 0.8528\n",
            "Accuracy: 0.9667, Precision: 0.9667, Recall: 0.9667, f1: 0.9667\n",
            "Accuracy: 0.9833, Precision: 0.9833, Recall: 0.9833, f1: 0.9833\n",
            "Accuracy: 0.8139, Precision: 0.8139, Recall: 0.8139, f1: 0.8139\n",
            "Accuracy: 0.8278, Precision: 0.8278, Recall: 0.8278, f1: 0.8278\n"
          ],
          "name": "stdout"
        }
      ]
    },
    {
      "cell_type": "markdown",
      "metadata": {
        "id": "Ds1vWsWpRjDG"
      },
      "source": [
        "#### get_eval function Error </p>\n",
        "1. ValueError: Target is multiclass but average='binary'.</p>\n",
        "2. Please choose another average setting, one of [None, 'micro', 'macro', 'weighted'].</p>\n",
        "3. Put 'average = ' on Precision, Recall, f1 then problem solved.</p>\n",
        "4. micro, weighted are suitable, Just my thoughts.</p>\n",
        "5. Most of data are not Binary i.e. Positive & Negative, so keep in mind</p>\n",
        "6. https://scikit-learn.org/stable/modules/generated/sklearn.metrics.recall_score.html</p>\n",
        "7. https://scikit-learn.org/stable/auto_examples/model_selection/plot_precision_recall.html</p>\n",
        "8. https://koreapy.tistory.com/506</p>\n",
        "9. https://www.youtube.com/watch?v=8DbC39cvvis</p>"
      ]
    },
    {
      "cell_type": "markdown",
      "metadata": {
        "id": "iRp2T7gWRxGe"
      },
      "source": [
        "####  TODO </p>\n",
        "1. Precision-Recall은 클래스 데이터가 불균형할 때 좋은 척도가 될 수 있음.</p>\n",
        "2. Precision은 결과 관련성의 척도인반면 Recall은 얼마나 관령성 높은 결과가 반환되었는지 알 수 있는 척도</p>\n",
        "3. 더 공부해봐야겠다. 위에서 두번째 website 방문.</p>\n",
        "4. 임계값이란 귀무가설 하 검정통계량의 분포에서 귀무가설을 기각해야 하는 값의 집합을 정의하는 점</p>\n",
        "5. ROC-AUC</p>\n",
        "6. Also regarding multi classes.</p>\n",
        "7. Precision & Recall Plot</p>\n",
        "8. https://dojinkimm.github.io/ml/2019/10/26/handson-ch3.html (관련 설명)</p>\n"
      ]
    },
    {
      "cell_type": "markdown",
      "metadata": {
        "id": "zO04ZClDSaeI"
      },
      "source": [
        "#### CONCLUSION\n",
        "\n",
        "1.   DT: Accuracy: 0.8528, Precision: 0.8528, Recall: 0.8528, f1: 0.8528\n",
        "2.   RF: Accuracy: 0.9667, Precision: 0.9667, Recall: 0.9667, f1: 0.9667\n",
        "3.   **SVC: Accuracy: 0.9833, Precision: 0.9833, Recall: 0.9833, f1: 0.9833**\n",
        "4.   SGD: Accuracy: 0.8139, Precision: 0.8139, Recall: 0.8139, f1: 0.8139\n",
        "5.   LR: Accuracy: 0.8278, Precision: 0.8278, Recall: 0.8278, f1: 0.8278\n",
        "\n",
        "\n",
        "\n"
      ]
    },
    {
      "cell_type": "markdown",
      "metadata": {
        "id": "ZV-WmpI8UWfw"
      },
      "source": [
        "현재 분류 목적은 손글씨와 digit이 맞는거니까 FP가 FN보다 중요하다 이런건 없는 것 같으니 정확도인 accuracy를 기준점으로 잡고자 함\n",
        ">> SVC가 0.9833로 가장 높음"
      ]
    },
    {
      "cell_type": "code",
      "metadata": {
        "id": "hxoKYJuqRbg7"
      },
      "source": [
        ""
      ],
      "execution_count": null,
      "outputs": []
    },
    {
      "cell_type": "markdown",
      "metadata": {
        "id": "3AObiFjsU77y"
      },
      "source": [
        "###**프로젝트2 load_wine**#"
      ]
    },
    {
      "cell_type": "code",
      "metadata": {
        "id": "mGAL_I7qRbep",
        "colab": {
          "base_uri": "https://localhost:8080/"
        },
        "outputId": "409a996c-c9b6-459e-c36f-f71d2d20d1a8"
      },
      "source": [
        "wine = load_wine()\n",
        "wine.keys()"
      ],
      "execution_count": null,
      "outputs": [
        {
          "output_type": "execute_result",
          "data": {
            "text/plain": [
              "dict_keys(['data', 'target', 'target_names', 'DESCR', 'feature_names'])"
            ]
          },
          "metadata": {
            "tags": []
          },
          "execution_count": 39
        }
      ]
    },
    {
      "cell_type": "code",
      "metadata": {
        "id": "vTuswlVBRbbf",
        "colab": {
          "base_uri": "https://localhost:8080/",
          "height": 132
        },
        "outputId": "040c4f00-93fa-48ba-d9b1-2ed76f4a923b"
      },
      "source": [
        "# Target Names\n",
        "wine.target_names  # 3 class\n",
        "wine.DESCR"
      ],
      "execution_count": null,
      "outputs": [
        {
          "output_type": "execute_result",
          "data": {
            "application/vnd.google.colaboratory.intrinsic+json": {
              "type": "string"
            },
            "text/plain": [
              "'.. _wine_dataset:\\n\\nWine recognition dataset\\n------------------------\\n\\n**Data Set Characteristics:**\\n\\n    :Number of Instances: 178 (50 in each of three classes)\\n    :Number of Attributes: 13 numeric, predictive attributes and the class\\n    :Attribute Information:\\n \\t\\t- Alcohol\\n \\t\\t- Malic acid\\n \\t\\t- Ash\\n\\t\\t- Alcalinity of ash  \\n \\t\\t- Magnesium\\n\\t\\t- Total phenols\\n \\t\\t- Flavanoids\\n \\t\\t- Nonflavanoid phenols\\n \\t\\t- Proanthocyanins\\n\\t\\t- Color intensity\\n \\t\\t- Hue\\n \\t\\t- OD280/OD315 of diluted wines\\n \\t\\t- Proline\\n\\n    - class:\\n            - class_0\\n            - class_1\\n            - class_2\\n\\t\\t\\n    :Summary Statistics:\\n    \\n    ============================= ==== ===== ======= =====\\n                                   Min   Max   Mean     SD\\n    ============================= ==== ===== ======= =====\\n    Alcohol:                      11.0  14.8    13.0   0.8\\n    Malic Acid:                   0.74  5.80    2.34  1.12\\n    Ash:                          1.36  3.23    2.36  0.27\\n    Alcalinity of Ash:            10.6  30.0    19.5   3.3\\n    Magnesium:                    70.0 162.0    99.7  14.3\\n    Total Phenols:                0.98  3.88    2.29  0.63\\n    Flavanoids:                   0.34  5.08    2.03  1.00\\n    Nonflavanoid Phenols:         0.13  0.66    0.36  0.12\\n    Proanthocyanins:              0.41  3.58    1.59  0.57\\n    Colour Intensity:              1.3  13.0     5.1   2.3\\n    Hue:                          0.48  1.71    0.96  0.23\\n    OD280/OD315 of diluted wines: 1.27  4.00    2.61  0.71\\n    Proline:                       278  1680     746   315\\n    ============================= ==== ===== ======= =====\\n\\n    :Missing Attribute Values: None\\n    :Class Distribution: class_0 (59), class_1 (71), class_2 (48)\\n    :Creator: R.A. Fisher\\n    :Donor: Michael Marshall (MARSHALL%PLU@io.arc.nasa.gov)\\n    :Date: July, 1988\\n\\nThis is a copy of UCI ML Wine recognition datasets.\\nhttps://archive.ics.uci.edu/ml/machine-learning-databases/wine/wine.data\\n\\nThe data is the results of a chemical analysis of wines grown in the same\\nregion in Italy by three different cultivators. There are thirteen different\\nmeasurements taken for different constituents found in the three types of\\nwine.\\n\\nOriginal Owners: \\n\\nForina, M. et al, PARVUS - \\nAn Extendible Package for Data Exploration, Classification and Correlation. \\nInstitute of Pharmaceutical and Food Analysis and Technologies,\\nVia Brigata Salerno, 16147 Genoa, Italy.\\n\\nCitation:\\n\\nLichman, M. (2013). UCI Machine Learning Repository\\n[https://archive.ics.uci.edu/ml]. Irvine, CA: University of California,\\nSchool of Information and Computer Science. \\n\\n.. topic:: References\\n\\n  (1) S. Aeberhard, D. Coomans and O. de Vel, \\n  Comparison of Classifiers in High Dimensional Settings, \\n  Tech. Rep. no. 92-02, (1992), Dept. of Computer Science and Dept. of  \\n  Mathematics and Statistics, James Cook University of North Queensland. \\n  (Also submitted to Technometrics). \\n\\n  The data was used with many others for comparing various \\n  classifiers. The classes are separable, though only RDA \\n  has achieved 100% correct classification. \\n  (RDA : 100%, QDA 99.4%, LDA 98.9%, 1NN 96.1% (z-transformed data)) \\n  (All results using the leave-one-out technique) \\n\\n  (2) S. Aeberhard, D. Coomans and O. de Vel, \\n  \"THE CLASSIFICATION PERFORMANCE OF RDA\" \\n  Tech. Rep. no. 92-01, (1992), Dept. of Computer Science and Dept. of \\n  Mathematics and Statistics, James Cook University of North Queensland. \\n  (Also submitted to Journal of Chemometrics).\\n'"
            ]
          },
          "metadata": {
            "tags": []
          },
          "execution_count": 40
        }
      ]
    },
    {
      "cell_type": "code",
      "metadata": {
        "id": "yJHk9dGaRbYh"
      },
      "source": [
        "# Data Setting\n",
        "wine_data = wine.data\n",
        "wine_label = wine.target"
      ],
      "execution_count": null,
      "outputs": []
    },
    {
      "cell_type": "code",
      "metadata": {
        "id": "fcMVy-bYeV3r"
      },
      "source": [
        "# Data Split\n",
        "X_train_w, X_test_w, y_train_w, y_test_w = train_test_split(wine_data, wine_label, test_size=0.2, random_state=11)\n"
      ],
      "execution_count": null,
      "outputs": []
    },
    {
      "cell_type": "code",
      "metadata": {
        "id": "7JbENRNIeV1r"
      },
      "source": [
        "# Data Normalization\n",
        "\n",
        "scaler = StandardScaler()\n",
        "X_train_wlog = scaler.fit_transform(X_train_w)\n",
        "X_test_wlog = scaler.fit_transform(X_test_w)"
      ],
      "execution_count": null,
      "outputs": []
    },
    {
      "cell_type": "code",
      "metadata": {
        "id": "x_WMiVLKeVz0"
      },
      "source": [
        "# Data Evaluation\n",
        "\n",
        "model = [DecisionTreeClassifier(random_state=11), RandomForestClassifier(random_state=11), SVC(random_state=11)]\n",
        "linear_model = [SGDClassifier(random_state=11), LogisticRegression(random_state=11, solver='lbfgs', max_iter=1000)]\n"
      ],
      "execution_count": null,
      "outputs": []
    },
    {
      "cell_type": "code",
      "metadata": {
        "colab": {
          "base_uri": "https://localhost:8080/"
        },
        "id": "r6fN5UrceVww",
        "outputId": "11fbba86-42a8-4d0d-fdbf-6ba7d86f7b01"
      },
      "source": [
        "get_model_training(model, X_train_w, X_test_w, y_train_w, y_test_w)\n",
        "get_model_training(linear_model, X_train_wlog, X_test_wlog, y_train_w, y_test_w)\n"
      ],
      "execution_count": null,
      "outputs": [
        {
          "output_type": "stream",
          "text": [
            "Accuracy: 0.9722, Precision: 0.9722, Recall: 0.9722, f1: 0.9722\n",
            "Accuracy: 0.9722, Precision: 0.9722, Recall: 0.9722, f1: 0.9722\n",
            "Accuracy: 0.7778, Precision: 0.7778, Recall: 0.7778, f1: 0.7778\n",
            "Accuracy: 1.0000, Precision: 1.0000, Recall: 1.0000, f1: 1.0000\n",
            "Accuracy: 1.0000, Precision: 1.0000, Recall: 1.0000, f1: 1.0000\n"
          ],
          "name": "stdout"
        }
      ]
    },
    {
      "cell_type": "markdown",
      "metadata": {
        "id": "2laFMPCtech4"
      },
      "source": [
        "#### Conclusion\n",
        "1.  wine 데이터의 분석 목적은 정확한 와인 종류 구분\n",
        "2.  정확도가 중요함 \n",
        "3.  linear model의 분석 accuracy가 1로 나옴 \n",
        "4.  SGD Classifier & Logistic Regression 사용 \n",
        "5.  이거 너무 높게 나오는데 확인해보기 "
      ]
    },
    {
      "cell_type": "markdown",
      "metadata": {
        "id": "pYdMLEOmem-E"
      },
      "source": [
        "##  **프로젝트3 breast_cancer**"
      ]
    },
    {
      "cell_type": "code",
      "metadata": {
        "colab": {
          "base_uri": "https://localhost:8080/"
        },
        "id": "73zYArDoeVuX",
        "outputId": "f2a0da8d-e842-4db4-e1ea-0a0882c70fc1"
      },
      "source": [
        "cancer = load_breast_cancer()\n",
        "cancer.keys()"
      ],
      "execution_count": null,
      "outputs": [
        {
          "output_type": "execute_result",
          "data": {
            "text/plain": [
              "dict_keys(['data', 'target', 'target_names', 'DESCR', 'feature_names', 'filename'])"
            ]
          },
          "metadata": {
            "tags": []
          },
          "execution_count": 46
        }
      ]
    },
    {
      "cell_type": "code",
      "metadata": {
        "colab": {
          "base_uri": "https://localhost:8080/",
          "height": 132
        },
        "id": "d56bQ_mmeVr2",
        "outputId": "5c912715-a694-4087-9602-d328fe7618be"
      },
      "source": [
        "# Target Names\n",
        "cancer.target_names  # 3 class\n",
        "cancer.DESCR"
      ],
      "execution_count": null,
      "outputs": [
        {
          "output_type": "execute_result",
          "data": {
            "application/vnd.google.colaboratory.intrinsic+json": {
              "type": "string"
            },
            "text/plain": [
              "'.. _breast_cancer_dataset:\\n\\nBreast cancer wisconsin (diagnostic) dataset\\n--------------------------------------------\\n\\n**Data Set Characteristics:**\\n\\n    :Number of Instances: 569\\n\\n    :Number of Attributes: 30 numeric, predictive attributes and the class\\n\\n    :Attribute Information:\\n        - radius (mean of distances from center to points on the perimeter)\\n        - texture (standard deviation of gray-scale values)\\n        - perimeter\\n        - area\\n        - smoothness (local variation in radius lengths)\\n        - compactness (perimeter^2 / area - 1.0)\\n        - concavity (severity of concave portions of the contour)\\n        - concave points (number of concave portions of the contour)\\n        - symmetry \\n        - fractal dimension (\"coastline approximation\" - 1)\\n\\n        The mean, standard error, and \"worst\" or largest (mean of the three\\n        largest values) of these features were computed for each image,\\n        resulting in 30 features.  For instance, field 3 is Mean Radius, field\\n        13 is Radius SE, field 23 is Worst Radius.\\n\\n        - class:\\n                - WDBC-Malignant\\n                - WDBC-Benign\\n\\n    :Summary Statistics:\\n\\n    ===================================== ====== ======\\n                                           Min    Max\\n    ===================================== ====== ======\\n    radius (mean):                        6.981  28.11\\n    texture (mean):                       9.71   39.28\\n    perimeter (mean):                     43.79  188.5\\n    area (mean):                          143.5  2501.0\\n    smoothness (mean):                    0.053  0.163\\n    compactness (mean):                   0.019  0.345\\n    concavity (mean):                     0.0    0.427\\n    concave points (mean):                0.0    0.201\\n    symmetry (mean):                      0.106  0.304\\n    fractal dimension (mean):             0.05   0.097\\n    radius (standard error):              0.112  2.873\\n    texture (standard error):             0.36   4.885\\n    perimeter (standard error):           0.757  21.98\\n    area (standard error):                6.802  542.2\\n    smoothness (standard error):          0.002  0.031\\n    compactness (standard error):         0.002  0.135\\n    concavity (standard error):           0.0    0.396\\n    concave points (standard error):      0.0    0.053\\n    symmetry (standard error):            0.008  0.079\\n    fractal dimension (standard error):   0.001  0.03\\n    radius (worst):                       7.93   36.04\\n    texture (worst):                      12.02  49.54\\n    perimeter (worst):                    50.41  251.2\\n    area (worst):                         185.2  4254.0\\n    smoothness (worst):                   0.071  0.223\\n    compactness (worst):                  0.027  1.058\\n    concavity (worst):                    0.0    1.252\\n    concave points (worst):               0.0    0.291\\n    symmetry (worst):                     0.156  0.664\\n    fractal dimension (worst):            0.055  0.208\\n    ===================================== ====== ======\\n\\n    :Missing Attribute Values: None\\n\\n    :Class Distribution: 212 - Malignant, 357 - Benign\\n\\n    :Creator:  Dr. William H. Wolberg, W. Nick Street, Olvi L. Mangasarian\\n\\n    :Donor: Nick Street\\n\\n    :Date: November, 1995\\n\\nThis is a copy of UCI ML Breast Cancer Wisconsin (Diagnostic) datasets.\\nhttps://goo.gl/U2Uwz2\\n\\nFeatures are computed from a digitized image of a fine needle\\naspirate (FNA) of a breast mass.  They describe\\ncharacteristics of the cell nuclei present in the image.\\n\\nSeparating plane described above was obtained using\\nMultisurface Method-Tree (MSM-T) [K. P. Bennett, \"Decision Tree\\nConstruction Via Linear Programming.\" Proceedings of the 4th\\nMidwest Artificial Intelligence and Cognitive Science Society,\\npp. 97-101, 1992], a classification method which uses linear\\nprogramming to construct a decision tree.  Relevant features\\nwere selected using an exhaustive search in the space of 1-4\\nfeatures and 1-3 separating planes.\\n\\nThe actual linear program used to obtain the separating plane\\nin the 3-dimensional space is that described in:\\n[K. P. Bennett and O. L. Mangasarian: \"Robust Linear\\nProgramming Discrimination of Two Linearly Inseparable Sets\",\\nOptimization Methods and Software 1, 1992, 23-34].\\n\\nThis database is also available through the UW CS ftp server:\\n\\nftp ftp.cs.wisc.edu\\ncd math-prog/cpo-dataset/machine-learn/WDBC/\\n\\n.. topic:: References\\n\\n   - W.N. Street, W.H. Wolberg and O.L. Mangasarian. Nuclear feature extraction \\n     for breast tumor diagnosis. IS&T/SPIE 1993 International Symposium on \\n     Electronic Imaging: Science and Technology, volume 1905, pages 861-870,\\n     San Jose, CA, 1993.\\n   - O.L. Mangasarian, W.N. Street and W.H. Wolberg. Breast cancer diagnosis and \\n     prognosis via linear programming. Operations Research, 43(4), pages 570-577, \\n     July-August 1995.\\n   - W.H. Wolberg, W.N. Street, and O.L. Mangasarian. Machine learning techniques\\n     to diagnose breast cancer from fine-needle aspirates. Cancer Letters 77 (1994) \\n     163-171.'"
            ]
          },
          "metadata": {
            "tags": []
          },
          "execution_count": 47
        }
      ]
    },
    {
      "cell_type": "code",
      "metadata": {
        "id": "gvBj9053eVpY"
      },
      "source": [
        "# Data Setting\n",
        "cancer_data = cancer.data\n",
        "cancer_label = cancer.target"
      ],
      "execution_count": null,
      "outputs": []
    },
    {
      "cell_type": "code",
      "metadata": {
        "id": "qGsd1ZQpRbWB"
      },
      "source": [
        "# Data Split\n",
        "X_train_c, X_test_c, y_train_c, y_test_c = train_test_split(cancer_data, cancer_label, test_size=0.2, random_state=12)\n"
      ],
      "execution_count": null,
      "outputs": []
    },
    {
      "cell_type": "code",
      "metadata": {
        "id": "P1j5YMSxetj9"
      },
      "source": [
        "# Data Normalization\n",
        "\n",
        "scaler = StandardScaler()\n",
        "X_train_clog = scaler.fit_transform(X_train_c)\n",
        "X_test_clog = scaler.fit_transform(X_test_c)"
      ],
      "execution_count": null,
      "outputs": []
    },
    {
      "cell_type": "code",
      "metadata": {
        "id": "Dg8wG0QTethh"
      },
      "source": [
        "# Data Evaluation\n",
        "\n",
        "model = [DecisionTreeClassifier(random_state=12), RandomForestClassifier(random_state=12), SVC(random_state=12)]\n",
        "linear_model = [SGDClassifier(random_state=12), LogisticRegression(random_state=12, solver='lbfgs', max_iter=1000)]\n"
      ],
      "execution_count": null,
      "outputs": []
    },
    {
      "cell_type": "code",
      "metadata": {
        "colab": {
          "base_uri": "https://localhost:8080/"
        },
        "id": "hfYZRNBdetfC",
        "outputId": "7fa3babc-946a-4bf7-fdb3-7475d8c04dc3"
      },
      "source": [
        "get_model_training(model, X_train_c, X_test_c, y_train_c, y_test_c)\n",
        "get_model_training(linear_model, X_train_clog, X_test_clog, y_train_c, y_test_c)\n"
      ],
      "execution_count": null,
      "outputs": [
        {
          "output_type": "stream",
          "text": [
            "Accuracy: 0.9474, Precision: 0.9474, Recall: 0.9474, f1: 0.9474\n",
            "Accuracy: 0.9298, Precision: 0.9298, Recall: 0.9298, f1: 0.9298\n",
            "Accuracy: 0.8860, Precision: 0.8860, Recall: 0.8860, f1: 0.8860\n",
            "Accuracy: 0.9561, Precision: 0.9561, Recall: 0.9561, f1: 0.9561\n",
            "Accuracy: 0.9561, Precision: 0.9561, Recall: 0.9561, f1: 0.9561\n"
          ],
          "name": "stdout"
        }
      ]
    },
    {
      "cell_type": "markdown",
      "metadata": {
        "id": "GkCoj-nAez2K"
      },
      "source": [
        "#### Conclusion\n",
        "1. 이 데이터는 breast cancer을 예측하는 것이기 때문에 FP보다 FN가 낮은게 중요함\n",
        "2. 위양성이 나오는 위험성보다 위음성이 나오는 위험성이 더 높기 때문에\n",
        "3. 즉, Recall 값을 중심적으로 보아야 한다\n",
        "4. Recall값이 가장 높은 SGD Classifier & Logistic Regression 사용\n",
        "5. 왜 값이 동일하지. 확인해보기"
      ]
    }
  ]
}