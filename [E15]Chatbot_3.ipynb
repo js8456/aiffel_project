{
 "cells": [
  {
   "cell_type": "markdown",
   "id": "historic-latin",
   "metadata": {},
   "source": [
    "## Chatbot \n",
    "- GPU Environment \n",
    "- Transformer code refer to node\n"
   ]
  },
  {
   "cell_type": "code",
   "execution_count": 1,
   "id": "binding-freedom",
   "metadata": {},
   "outputs": [],
   "source": [
    "import os \n",
    "import re\n",
    "import numpy as np \n",
    "import pandas as pd\n",
    "\n",
    "import matplotlib.pyplot as plt\n",
    "\n",
    "import tensorflow as tf\n",
    "import tensorflow_datasets as tfds"
   ]
  },
  {
   "cell_type": "markdown",
   "id": "desperate-bruce",
   "metadata": {},
   "source": [
    "### 1. Dataset"
   ]
  },
  {
   "cell_type": "code",
   "execution_count": 3,
   "id": "transparent-bridge",
   "metadata": {},
   "outputs": [
    {
     "data": {
      "text/html": [
       "<div>\n",
       "<style scoped>\n",
       "    .dataframe tbody tr th:only-of-type {\n",
       "        vertical-align: middle;\n",
       "    }\n",
       "\n",
       "    .dataframe tbody tr th {\n",
       "        vertical-align: top;\n",
       "    }\n",
       "\n",
       "    .dataframe thead th {\n",
       "        text-align: right;\n",
       "    }\n",
       "</style>\n",
       "<table border=\"1\" class=\"dataframe\">\n",
       "  <thead>\n",
       "    <tr style=\"text-align: right;\">\n",
       "      <th></th>\n",
       "      <th>Q</th>\n",
       "      <th>A</th>\n",
       "      <th>label</th>\n",
       "    </tr>\n",
       "  </thead>\n",
       "  <tbody>\n",
       "    <tr>\n",
       "      <th>0</th>\n",
       "      <td>12시 땡!</td>\n",
       "      <td>하루가 또 가네요.</td>\n",
       "      <td>0</td>\n",
       "    </tr>\n",
       "    <tr>\n",
       "      <th>1</th>\n",
       "      <td>1지망 학교 떨어졌어</td>\n",
       "      <td>위로해 드립니다.</td>\n",
       "      <td>0</td>\n",
       "    </tr>\n",
       "    <tr>\n",
       "      <th>2</th>\n",
       "      <td>3박4일 놀러가고 싶다</td>\n",
       "      <td>여행은 언제나 좋죠.</td>\n",
       "      <td>0</td>\n",
       "    </tr>\n",
       "    <tr>\n",
       "      <th>3</th>\n",
       "      <td>3박4일 정도 놀러가고 싶다</td>\n",
       "      <td>여행은 언제나 좋죠.</td>\n",
       "      <td>0</td>\n",
       "    </tr>\n",
       "    <tr>\n",
       "      <th>4</th>\n",
       "      <td>PPL 심하네</td>\n",
       "      <td>눈살이 찌푸려지죠.</td>\n",
       "      <td>0</td>\n",
       "    </tr>\n",
       "  </tbody>\n",
       "</table>\n",
       "</div>"
      ],
      "text/plain": [
       "                 Q            A  label\n",
       "0           12시 땡!   하루가 또 가네요.      0\n",
       "1      1지망 학교 떨어졌어    위로해 드립니다.      0\n",
       "2     3박4일 놀러가고 싶다  여행은 언제나 좋죠.      0\n",
       "3  3박4일 정도 놀러가고 싶다  여행은 언제나 좋죠.      0\n",
       "4          PPL 심하네   눈살이 찌푸려지죠.      0"
      ]
     },
     "execution_count": 3,
     "metadata": {},
     "output_type": "execute_result"
    }
   ],
   "source": [
    "data_path = os.getcwd() + '/data/ChatbotData.csv'\n",
    "\n",
    "data = pd.read_csv(data_path)\n",
    "data.head()\n"
   ]
  },
  {
   "cell_type": "code",
   "execution_count": 55,
   "id": "built-prize",
   "metadata": {},
   "outputs": [],
   "source": [
    "# preprocessing text -> dataframe 기준 전처리 function \n",
    "\n",
    "def preprocess_text(df):\n",
    "    df.iloc[:, 0:2] = df.iloc[:, 0:2].apply(lambda x: x.str.strip())\n",
    "    df = df.replace(r\"([?.!,])\", r\" \\1 \", regex = True)\n",
    "    df = df.replace('(([!.,*^])\\\\2{1,})', '', regex = True) # 연속된 같은 문자 변환 (2개이상)\n",
    "    df = df.replace('[\" \"]+', \" \", regex = True) # 공백 2개 이상시 한개로 변환\n",
    "    df.iloc[:, 0:2] = df.iloc[:, 0:2].apply(lambda x: x.str.strip())\n",
    "    return df\n",
    "    "
   ]
  },
  {
   "cell_type": "code",
   "execution_count": 67,
   "id": "north-auditor",
   "metadata": {},
   "outputs": [],
   "source": [
    "# List 기준 전처리 fuction \n",
    "\n",
    "def preprocess_sentence(sentence):\n",
    "    sentence = sentence.lower().strip()\n",
    "    sentence = re.sub(r\"([?.!,])\", r\" \\1 \", sentence)\n",
    "    sentence = re.sub(r'(([!.,*^])\\\\2{1,})', '', sentence)\n",
    "    sentence = re.sub(r'[\" \"]+', \" \", sentence)\n",
    "    sentence = sentence.strip()\n",
    "    return sentence"
   ]
  },
  {
   "cell_type": "code",
   "execution_count": 56,
   "id": "suspended-blackberry",
   "metadata": {},
   "outputs": [],
   "source": [
    "# data는 df 형식이기 때문 preprocess_text 사용 \n",
    "\n",
    "data = preprocess_text(data)"
   ]
  },
  {
   "cell_type": "markdown",
   "id": "alone-organ",
   "metadata": {},
   "source": [
    "#### 데이터 중복값 처리 "
   ]
  },
  {
   "cell_type": "code",
   "execution_count": 7,
   "id": "resident-conclusion",
   "metadata": {},
   "outputs": [
    {
     "data": {
      "text/html": [
       "<div>\n",
       "<style scoped>\n",
       "    .dataframe tbody tr th:only-of-type {\n",
       "        vertical-align: middle;\n",
       "    }\n",
       "\n",
       "    .dataframe tbody tr th {\n",
       "        vertical-align: top;\n",
       "    }\n",
       "\n",
       "    .dataframe thead th {\n",
       "        text-align: right;\n",
       "    }\n",
       "</style>\n",
       "<table border=\"1\" class=\"dataframe\">\n",
       "  <thead>\n",
       "    <tr style=\"text-align: right;\">\n",
       "      <th></th>\n",
       "      <th>Q</th>\n",
       "      <th>A</th>\n",
       "    </tr>\n",
       "  </thead>\n",
       "  <tbody>\n",
       "    <tr>\n",
       "      <th>count</th>\n",
       "      <td>11823</td>\n",
       "      <td>11823</td>\n",
       "    </tr>\n",
       "    <tr>\n",
       "      <th>unique</th>\n",
       "      <td>11662</td>\n",
       "      <td>7779</td>\n",
       "    </tr>\n",
       "    <tr>\n",
       "      <th>top</th>\n",
       "      <td>외로워</td>\n",
       "      <td>맛있게 드세요 .</td>\n",
       "    </tr>\n",
       "    <tr>\n",
       "      <th>freq</th>\n",
       "      <td>4</td>\n",
       "      <td>22</td>\n",
       "    </tr>\n",
       "  </tbody>\n",
       "</table>\n",
       "</div>"
      ],
      "text/plain": [
       "            Q          A\n",
       "count   11823      11823\n",
       "unique  11662       7779\n",
       "top       외로워  맛있게 드세요 .\n",
       "freq        4         22"
      ]
     },
     "execution_count": 7,
     "metadata": {},
     "output_type": "execute_result"
    }
   ],
   "source": [
    "# 겹치는 행 있는지 check \n",
    "data[['Q', 'A']].describe()\n",
    "# data.describe()"
   ]
  },
  {
   "cell_type": "code",
   "execution_count": 8,
   "id": "heated-reasoning",
   "metadata": {},
   "outputs": [
    {
     "name": "stdout",
     "output_type": "stream",
     "text": [
      "0\n",
      "73\n",
      "<class 'pandas.core.frame.DataFrame'>\n",
      "Int64Index: 11750 entries, 0 to 11822\n",
      "Data columns (total 3 columns):\n",
      " #   Column  Non-Null Count  Dtype \n",
      "---  ------  --------------  ----- \n",
      " 0   Q       11750 non-null  object\n",
      " 1   A       11750 non-null  object\n",
      " 2   label   11750 non-null  int64 \n",
      "dtypes: int64(1), object(2)\n",
      "memory usage: 367.2+ KB\n"
     ]
    }
   ],
   "source": [
    "# 전체 데이터로는 중복값 없음 \n",
    "print(data.duplicated().sum())\n",
    "\n",
    "# 라벨을 제외한 데이터로 확인하면 73개 존재 \n",
    "print(data.duplicated(['Q', 'A']).sum())\n",
    "\n",
    "# 중복값 중 처음꺼 remain \n",
    "data_m = data.drop_duplicates(['Q', 'A'], inplace = False)\n",
    "data_m.info()"
   ]
  },
  {
   "cell_type": "code",
   "execution_count": 9,
   "id": "ideal-medicare",
   "metadata": {},
   "outputs": [
    {
     "name": "stdout",
     "output_type": "stream",
     "text": [
      "0\n"
     ]
    }
   ],
   "source": [
    "# 중복값 없는 것 확인 \n",
    "\n",
    "print(data_m.duplicated(['Q', 'A']).sum())"
   ]
  },
  {
   "cell_type": "code",
   "execution_count": 10,
   "id": "jewish-discovery",
   "metadata": {},
   "outputs": [
    {
     "name": "stdout",
     "output_type": "stream",
     "text": [
      "13.231920832276073\n",
      "57\n",
      "1\n",
      "16.037384758521526\n",
      "78\n",
      "1\n"
     ]
    }
   ],
   "source": [
    "# question 평균 length 파악 \n",
    "print(data.iloc[:, 0].apply(len).mean())\n",
    "print(data.iloc[:, 0].apply(len).max())\n",
    "print(data.iloc[:, 0].apply(len).min())\n",
    "\n",
    "# answer 평균 length 파악 \n",
    "print(data.iloc[:, 1].apply(len).mean())\n",
    "print(data.iloc[:, 1].apply(len).max())\n",
    "print(data.iloc[:, 1].apply(len).min())\n",
    "\n",
    "# 이건 str 한 단어가 아닌 한 음절(?)의 길이를 의미함 max_sample 설정에 필요한 정보ok \n",
    "\n",
    "q_w_len = data.iloc[:, 0].apply(len)\n",
    "a_w_len = data.iloc[:, 1].apply(len)\n",
    "\n",
    "# print(q_w_len, a_w_len)"
   ]
  },
  {
   "cell_type": "code",
   "execution_count": 11,
   "id": "judicial-williams",
   "metadata": {},
   "outputs": [
    {
     "data": {
      "image/png": "[encoded data removed]",
      "text/plain": [
       "<Figure size 432x288 with 2 Axes>"
      ]
     },
     "metadata": {
      "needs_background": "light"
     },
     "output_type": "display_data"
    }
   ],
   "source": [
    "plt.subplot(121)\n",
    "plt.hist(q_w_len)\n",
    "\n",
    "plt.subplot(122)\n",
    "plt.hist(a_w_len)\n",
    "plt.show()\n",
    "\n",
    "# max_sample은 20으로 설정하고자 함 "
   ]
  },
  {
   "cell_type": "code",
   "execution_count": 12,
   "id": "spiritual-pioneer",
   "metadata": {},
   "outputs": [],
   "source": [
    "# 데이터 question, answer 각 각 리스트화 \n",
    "MAX_SAMPLES = 25\n",
    "\n",
    "def get_text_as_list(data):\n",
    "    inputs, outputs = [], []\n",
    "    \n",
    "    for input in data.iloc[:, 0]:\n",
    "        inputs.append(input)\n",
    "    for output in data.iloc[:, 1]:\n",
    "        outputs.append(output)\n",
    "    \n",
    "    if len(input) <= MAX_SAMPLES:\n",
    "        return inputs, outputs\n",
    "    "
   ]
  },
  {
   "cell_type": "code",
   "execution_count": 13,
   "id": "drawn-infrastructure",
   "metadata": {},
   "outputs": [],
   "source": [
    "questions, answers = get_text_as_list(data)"
   ]
  },
  {
   "cell_type": "code",
   "execution_count": 14,
   "id": "ordered-terrace",
   "metadata": {},
   "outputs": [
    {
     "data": {
      "text/plain": [
       "['12시 땡 !', '1지망 학교 떨어졌어', '3박4일 놀러가고 싶다', '3박4일 정도 놀러가고 싶다', 'PPL 심하네']"
      ]
     },
     "execution_count": 14,
     "metadata": {},
     "output_type": "execute_result"
    }
   ],
   "source": [
    "# list data 확인 \n",
    "questions[:5]"
   ]
  },
  {
   "cell_type": "code",
   "execution_count": 15,
   "id": "public-tunisia",
   "metadata": {},
   "outputs": [
    {
     "name": "stdout",
     "output_type": "stream",
     "text": [
      "11823 11823\n"
     ]
    }
   ],
   "source": [
    "# len 동일한지 재 확인 \n",
    "\n",
    "print(len(questions), len(answers))"
   ]
  },
  {
   "cell_type": "markdown",
   "id": "overhead-render",
   "metadata": {},
   "source": [
    "### 2. Tokenizing "
   ]
  },
  {
   "cell_type": "code",
   "execution_count": 16,
   "id": "worse-people",
   "metadata": {},
   "outputs": [],
   "source": [
    "# 질문과 답변 데이터셋에 대해서 Vocabulary 생성\n",
    "# tf.__version__ over 2.3.0\n",
    "tokenizer = tfds.deprecated.text.SubwordTextEncoder.build_from_corpus(questions + answers, target_vocab_size=2**13)\n"
   ]
  },
  {
   "cell_type": "code",
   "execution_count": 17,
   "id": "mathematical-score",
   "metadata": {},
   "outputs": [],
   "source": [
    "# tf.__version__ under 2.3.0\n",
    "# tokenizer = tfds.features.text.SubwordTextEncoder.build_from_corpus(questions + answers, target_vocab_size=2**13)"
   ]
  },
  {
   "cell_type": "code",
   "execution_count": 18,
   "id": "absent-hello",
   "metadata": {},
   "outputs": [
    {
     "data": {
      "text/plain": [
       "<SubwordTextEncoder vocab_size=8173>"
      ]
     },
     "execution_count": 18,
     "metadata": {},
     "output_type": "execute_result"
    }
   ],
   "source": [
    "tokenizer"
   ]
  },
  {
   "cell_type": "code",
   "execution_count": 19,
   "id": "unauthorized-rental",
   "metadata": {},
   "outputs": [
    {
     "data": {
      "text/plain": [
       "8173"
      ]
     },
     "execution_count": 19,
     "metadata": {},
     "output_type": "execute_result"
    }
   ],
   "source": [
    "# 토크나이저 결과 vocab size 확인\n",
    "# 해당 size 이후 number로 start token, end token 설정할 예정 \n",
    "tokenizer.vocab_size"
   ]
  },
  {
   "cell_type": "markdown",
   "id": "potential-alarm",
   "metadata": {},
   "source": [
    "#### input, output 문장 구분 str 입력"
   ]
  },
  {
   "cell_type": "code",
   "execution_count": 20,
   "id": "straight-sheriff",
   "metadata": {},
   "outputs": [
    {
     "name": "stdout",
     "output_type": "stream",
     "text": [
      "[8173] [8174]\n"
     ]
    }
   ],
   "source": [
    "START_TOKEN, END_TOKEN = [tokenizer.vocab_size], [tokenizer.vocab_size + 1]\n",
    "\n",
    "print(START_TOKEN, END_TOKEN)"
   ]
  },
  {
   "cell_type": "code",
   "execution_count": 21,
   "id": "based-karma",
   "metadata": {},
   "outputs": [
    {
     "name": "stdout",
     "output_type": "stream",
     "text": [
      "8175\n"
     ]
    }
   ],
   "source": [
    "# 전체 vocab size 설정 \n",
    "VOCAB_SIZE = tokenizer.vocab_size + 2\n",
    "print(VOCAB_SIZE)"
   ]
  },
  {
   "cell_type": "code",
   "execution_count": 22,
   "id": "proud-literature",
   "metadata": {},
   "outputs": [
    {
     "name": "stdout",
     "output_type": "stream",
     "text": [
      "[7912, 4204, 3056, 41] 12시 땡 !\n",
      "[7966, 47, 918, 7949, 997, 1715] 1지망 학교 떨어졌어\n"
     ]
    }
   ],
   "source": [
    "# str -> int 인코더 결과 test 확인\n",
    "\n",
    "print(tokenizer.encode(questions[0]), questions[0])\n",
    "print(tokenizer.encode(questions[1]), questions[1])"
   ]
  },
  {
   "cell_type": "code",
   "execution_count": 71,
   "id": "documentary-charm",
   "metadata": {},
   "outputs": [
    {
     "data": {
      "text/plain": [
       "'12시 땡 !'"
      ]
     },
     "execution_count": 71,
     "metadata": {},
     "output_type": "execute_result"
    }
   ],
   "source": [
    "# 거꾸로로도 확인 \n",
    "\n",
    "tokenizer.decode([7912, 4204, 3056, 41])\n",
    "\n",
    "# tokenizer.decode([8173] # 얘는 처음부터 \n"
   ]
  },
  {
   "cell_type": "code",
   "execution_count": 23,
   "id": "packed-venezuela",
   "metadata": {},
   "outputs": [],
   "source": [
    "# start & end token 추가 및 Padding \n",
    "\n",
    "def tokenize_and_padding(inputs, outputs):\n",
    "    tokenized_inputs, tokenized_outputs = [], []\n",
    "    \n",
    "    for (text1, text2) in zip(inputs, outputs):\n",
    "        text1 = START_TOKEN + tokenizer.encode(text1) + END_TOKEN\n",
    "        text2 = START_TOKEN + tokenizer.encode(text2) + END_TOKEN\n",
    "        \n",
    "        if len(text1) <= MAX_SAMPLES and len(text2) <= MAX_SAMPLES:\n",
    "            tokenized_inputs.append(text1)\n",
    "            tokenized_outputs.append(text2)\n",
    "            \n",
    "    # MAX_SAMPLE에 맞춰서 padding \n",
    "    tokenized_inputs = tf.keras.preprocessing.sequence.pad_sequences(\n",
    "                tokenized_inputs, maxlen = MAX_SAMPLES, padding = 'post')\n",
    "    tokenized_outputs = tf.keras.preprocessing.sequence.pad_sequences(\n",
    "                tokenized_outputs, maxlen = MAX_SAMPLES, padding = 'post')\n",
    "    \n",
    "    return tokenized_inputs, tokenized_outputs\n",
    "        "
   ]
  },
  {
   "cell_type": "code",
   "execution_count": 24,
   "id": "experimental-editor",
   "metadata": {},
   "outputs": [
    {
     "name": "stdout",
     "output_type": "stream",
     "text": [
      "단어장의 크기 : 8175\n",
      "필터링 후의 질문 샘플 개수: 11817\n",
      "필터링 후의 답변 샘플 개수: 11817\n"
     ]
    }
   ],
   "source": [
    "# question, answer에 앞뒤token 추가한 뒤 padding \n",
    "\n",
    "questions, answers = tokenize_and_padding(questions, answers)\n",
    "print('단어장의 크기 :',(VOCAB_SIZE))\n",
    "print('필터링 후의 질문 샘플 개수: {}'.format(len(questions)))\n",
    "print('필터링 후의 답변 샘플 개수: {}'.format(len(answers)))\n",
    "\n",
    "# 기존 데이터와 몇개 차이나지 않음 "
   ]
  },
  {
   "cell_type": "markdown",
   "id": "attempted-curve",
   "metadata": {},
   "source": [
    "### 3. Transformer | Encoder & Decoder Function\n",
    "RNN을 사용하지 않고, Attention을 여러 레이어에서 반복함   \n",
    "\n",
    "\n",
    "1. Encoder\n",
    "- Input Embedding Matrix : 입력값 embedding. embedding dim은 임의로 설정(논문에서는 512로 세팅) \n",
    "- Positional Encoding : 위치정보 포함시킴\n",
    "- Multihead Attention : Input Embedding + Positional Encoding \n",
    "    - 입력 문장에 대한 정보(input embedding) + 위치정보(positional)된 입력정보를 얻게 됨 \n",
    "    - 입력받아서 각 단어 이용해서 Self-Attention 수행 \n",
    "    - 각 단어가 서로에게 어떤 relation이 있는지 확인. 문맥정보 주는것\n",
    "- Add + Norm : Residual Learing 진행한 값까지 받아서 Normalize까지 해줌\n",
    "    - positional encoding된 정보를 multihead를 뛰어 넘어서 추가적으로 잔여된 부분만 추가적으로 학습시킴   \n",
    "    \n",
    "\n",
    "- Encoder 정리 \n",
    "    - Encoder 한 레이어에 input embedding - positional encoding - multihead attention - add+norm - feedforward layer - add + norm 이 진행됨 \n",
    "    - Attention과 Normalize 과정을 반복 \n",
    "    - 각 레이어는 서로 다른 파라미터 가짐 \n",
    "    - Encoder의 마지막 출력값은 Decoder에 input으로 들어감 \n",
    "    - Decoder는 출력할 때마다 입력소스 문장 중에서 어떤 단어에게 가장 많은 초점을 둬야하는지 알려줘야 하기 때문 \n",
    "    \n",
    "    \n",
    "2. Decoder \n",
    "- Encoder 마지막 출력값을 받아서 Output Embedding Matrix를 통해서, Positional Encoding으로 상대적인 위치 정보를 알려주기 위해 encoder 값 추가한 후에 입력 넣게 됨 \n",
    "- 2개의 MultiheadAttention 사용. \n",
    "    1) 처음 것이 SELF ATTENTION : 단어들끼리 서로가 서로에게 어떤 가중치를 갖고있는지 확인하게 해서 출력되고 있는 문장에 대한 전반적인 표현을 학습할 수 있게 만듦(인코더 어탠션과 동일함)\n",
    "    2) 두번쨰 Attention : 인코더의 출력 정보를 받아와서 사용. 각 출력 단어가 소스문장에서의 어떤 단어와 관련이 있는지 확인. Encoder Decoder Attention이라 해. \n",
    "- END TOKEN이 나올떄까지 Decoder를 이용 \n",
    "\n",
    "\n",
    "3. MultiheadAttention\n",
    "- ScaledDotProductAttention을 사용함 \n",
    "- Attention을 위해서 Q, K, V가 필요함 \n",
    "- 쿼리는 물어보는 주체, 물어보는 대상이 key(I라는 쿼리 단어가 i am a teacher(각각이 key야) 각각에 대해서 얼마나 연관성이 있는지 구하고자 하는 것) \n",
    "- key는 attention을 수행할 단어들을 의미함 \n",
    "- Q와 K를 Matmul -> Scale -> Mask -> softmax 통과해 값을 얻고, V과 그 결과값을 MatMul \n",
    "- 나온 V, K, Q값은 linear 즉, 행렬곱을 수행해서 서로 다른 h개의 scaled dot product attention으로 각 각 들어감 \n",
    "- h개의 서로 다른 v, k, q를 얻는 것이지 \n",
    "- 그리고 그 결과를 concat해서 input값과 output값이 같은 차원으로 나오도록 처리하고 \n",
    "- linear 을 통해서 결과값을 내보냄 \n",
    "\n",
    "\n",
    "4. Mask matrix\n",
    "- Attention Energy와 Mask Matrix를 곱해서 마스크를 적용시켜서 특정 단어는 attention을 적용시키지 않게 진행함 "
   ]
  },
  {
   "cell_type": "markdown",
   "id": "about-ballot",
   "metadata": {},
   "source": [
    "#### 위치정보 제공하는 PositionalEncoding func.\n"
   ]
  },
  {
   "cell_type": "code",
   "execution_count": 25,
   "id": "micro-inflation",
   "metadata": {},
   "outputs": [],
   "source": [
    "\n",
    "class PositionalEncoding(tf.keras.layers.Layer): # tf.keras.layers.Layer 메소드를 상속받겠다 \n",
    "\n",
    "    def __init__(self, position, d_model): # d_model은 임베딩 차원 \n",
    "        super(PositionalEncoding, self).__init__() # super : 자식 클래스에서 부모클래스의 내용을 사용할 때 사용 \n",
    "        self.pos_encoding = self.positional_encoding(position, d_model)\n",
    "\n",
    "    def get_angles(self, position, i, d_model): \n",
    "        angles = 1 / tf.pow(10000, (2* (i //2)) / tf.cast(d_model, tf.float32))\n",
    "        return position * angles\n",
    "\n",
    "    def positional_encoding(self, position, d_model):\n",
    "        # 각도 배열 생성 \n",
    "        angle_rads = self.get_angles(\n",
    "                    position = tf.range(position, dtype = tf.float32)[:, tf.newaxis], #position값까지 숫자 생성. newaxis로 차원 변경 \n",
    "                    i = tf.range(d_model, dtype = tf.float32)[tf.newaxis, :], \n",
    "                    d_model = d_model)\n",
    "\n",
    "        # 배열의 짝수 인덱스에는 sin 함수 적용. 주기성 학습하기위해 사용 \n",
    "        sines = tf.math.sin(angle_rads[:, 0::2]) \n",
    "        # 배열의 홀수 인덱스에는 cosine 함수 적용 \n",
    "        cosines = tf.math.cos(angle_rads[:, 1::2])\n",
    "\n",
    "        # sin과 cosine이 교차되도록 재배열 \n",
    "        pos_encoding = tf.stack([sines, cosines], axis = 0)\n",
    "        pos_encoding = tf.transpose(pos_encoding, [1,2,0])\n",
    "        pos_encoding = tf.reshape(pos_encoding, [position, d_model])\n",
    "\n",
    "        pos_encoding = pos_encoding[tf.newaxis, ...]\n",
    "        return tf.cast(pos_encoding, tf.float32)\n",
    "\n",
    "    def call(self, inputs):\n",
    "        return inputs + self.pos_encoding[:, :tf.shape(inputs)[1], :]\n"
   ]
  },
  {
   "cell_type": "markdown",
   "id": "brilliant-working",
   "metadata": {},
   "source": [
    "***[TIP]***  \n",
    "\n",
    "1. arr[a:b:c] : index a부터 index b까지 c의 간격으로 배열을 생성해라  \n",
    "\n",
    "    a가 none 이면 처음부터, b가 none이면 할수있는데까지(c가 양수면 마지막index까지, c가 음수면 첫 index까지), c가 none이면 한칸 간격으로  \n",
    "\n",
    "2. tf.pow(x, y) : x 값에 y 거듭제곱  \n",
    "\n",
    "3. tf.cast(a, b) : a를 b형태로 변경해라 (boolean인데 int로 바꾼다면 0과 1로 바꾼다)  \n",
    "\n",
    "4. tf.range(limit, delta, dtype, name) / tf.range(start, limit, delta, dtype, name)  \n",
    "\n",
    "5. train_x [..., tf.newaxis]\n",
    "\n",
    "    이 방법은 [] 안에 기존의 배열을...으로 적고, 추가하고 싶은 위치에 tf.newaxis를 적어주면 간단히 size 변경이 됨  \n"
   ]
  },
  {
   "cell_type": "code",
   "execution_count": 26,
   "id": "separated-graduation",
   "metadata": {},
   "outputs": [],
   "source": [
    "# 스케일드 닷 프로덕트 어텐션 함수 \n",
    "\n",
    "\n",
    "def scaled_dot_product_attention(query, key, value, mask):\n",
    "    # 어텐션 가중치는 Q와 K의 닷 프로덕트 \n",
    "    matmul_qk = tf.matmul(query, key, transpose_b = True)\n",
    "\n",
    "    # 가중치를 정규화 \n",
    "    depth = tf.cast(tf.shape(key)[-1], tf.float32)\n",
    "    logits = matmul_qk / tf.math.sqrt(depth)\n",
    "\n",
    "    # 패딩에 마스크 추가 \n",
    "    if mask is not None:\n",
    "        logits += (mask * -1e9)\n",
    "    \n",
    "    # softmax 적용\n",
    "    attention_weights = tf.nn.softmax(logits, axis = -1)\n",
    "\n",
    "    # 최종 attention은 가중치와 V의 닷 프로덕트 \n",
    "    output = tf.matmul(attention_weights, value)\n",
    "    return output"
   ]
  },
  {
   "cell_type": "code",
   "execution_count": 27,
   "id": "heated-assembly",
   "metadata": {},
   "outputs": [],
   "source": [
    "# 계산효율성을 위해 head 개수만큼 나눠서 계산 후 concat\n",
    "\n",
    "class MultiHeadAttention(tf.keras.layers.Layer):\n",
    "\n",
    "    def __init__(self, d_model, num_heads, name=\"multi_head_attention\"):\n",
    "        super(MultiHeadAttention, self).__init__(name=name)\n",
    "        self.num_heads = num_heads\n",
    "        self.d_model = d_model\n",
    "\n",
    "        assert d_model % self.num_heads == 0 # assert는 뒤의 조건이 True가 아니면 AssertError를 발생한다.\n",
    "\n",
    "        self.depth = d_model // self.num_heads # 차원을 병렬개수로 나눠서 depth를 얻어 \n",
    "\n",
    "        self.query_dense = tf.keras.layers.Dense(units=d_model) \n",
    "        self.key_dense = tf.keras.layers.Dense(units=d_model)\n",
    "        self.value_dense = tf.keras.layers.Dense(units=d_model)\n",
    "\n",
    "        self.dense = tf.keras.layers.Dense(units=d_model)\n",
    "\n",
    "    def split_heads(self, inputs, batch_size):\n",
    "        inputs = tf.reshape(\n",
    "            inputs, shape=(batch_size, -1, self.num_heads, self.depth))\n",
    "        return tf.transpose(inputs, perm=[0, 2, 1, 3]) #  (x.shape[0], x.shape[2], x.shape[1], x.shape[3])\n",
    "    \n",
    "    def call(self, inputs):\n",
    "        query, key, value, mask = inputs['query'], inputs['key'], inputs['value'], inputs['mask']\n",
    "        batch_size = tf.shape(query)[0]\n",
    "\n",
    "        # Q, K, V에 각각 Dense를 적용합니다\n",
    "        query = self.query_dense(query)\n",
    "        key = self.key_dense(key)\n",
    "        value = self.value_dense(value)\n",
    "\n",
    "        # 병렬 연산을 위한 머리를 여러 개 만듭니다\n",
    "        query = self.split_heads(query, batch_size)\n",
    "        key = self.split_heads(key, batch_size)\n",
    "        value = self.split_heads(value, batch_size)\n",
    "\n",
    "        # 스케일드 닷 프로덕트 어텐션 함수\n",
    "        scaled_attention = scaled_dot_product_attention(query, key, value, mask)\n",
    "\n",
    "        scaled_attention = tf.transpose(scaled_attention, perm=[0, 2, 1, 3])\n",
    "\n",
    "        # 어텐션 연산 후에 각 결과를 다시 연결(concatenate)합니다\n",
    "        concat_attention = tf.reshape(scaled_attention,\n",
    "                                    (batch_size, -1, self.d_model))\n",
    "\n",
    "        # 최종 결과에도 Dense를 한 번 더 적용합니다\n",
    "        outputs = self.dense(concat_attention)\n",
    "\n",
    "        return outputs\n"
   ]
  },
  {
   "cell_type": "code",
   "execution_count": 28,
   "id": "judicial-bankruptcy",
   "metadata": {},
   "outputs": [],
   "source": [
    "# padding masking\n",
    "def create_padding_mask(x):\n",
    "    # 정수 시퀀스에서 0인 경우에는 1(True니까)로 변환하고, 그렇지 않은 경우에는 0(False)으로 변환하는 함수\n",
    "    mask = tf.cast(tf.math.equal(x, 0), tf.float32)\n",
    "    # (batch_size, 1, 1, sequence length)\n",
    "    return mask[:, tf.newaxis, tf.newaxis, :] # 4차원으로 변경하겠다 \n"
   ]
  },
  {
   "cell_type": "markdown",
   "id": "falling-usage",
   "metadata": {},
   "source": [
    "***[TIP]***  \n",
    "\n",
    "`tf.math.equal(x, y, name=None)` : Returns the truth value of (x == y) element-wise."
   ]
  },
  {
   "cell_type": "code",
   "execution_count": 29,
   "id": "suited-destination",
   "metadata": {},
   "outputs": [],
   "source": [
    "# 룩어헤드마스크\n",
    "\n",
    "def create_look_ahead_mask(x):\n",
    "    seq_len = tf.shape(x)[1]\n",
    "    # tf.linalg.band_part: 가장 안쪽의 각 행렬에서 중앙 밴드 외부의 모든 것을 0으로 설정하는 텐서를 복사\n",
    "    look_ahead_mask = 1 - tf.linalg.band_part(tf.ones((seq_len, seq_len)), -1, 0) # tf.linalg의 값을 반대로 \n",
    "    padding_mask = create_padding_mask(x)\n",
    "    return tf.maximum(look_ahead_mask, padding_mask)\n",
    "\n",
    "# # padding masking\n",
    "# def create_padding_mask(x):\n",
    "#     # 정수 시퀀스에서 0인 경우에는 1(True니까)로 변환하고, 그렇지 않은 경우에는 0(False)으로 변환하는 함수\n",
    "#     mask = tf.cast(tf.math.equal(x, 0), tf.float32)\n",
    "#     # (batch_size, 1, 1, sequence length)\n",
    "#     return mask[:, tf.newaxis, tf.newaxis, :]\n",
    "\n",
    "\n",
    "# tf.linalg.band_part(input, num_lower, num_upper, name=None)\n",
    "# num_lower is lower bound of number and num_upper is upper bound of number\n",
    "# we want to keep number for a matrix in a range num_lower to num upper and \n",
    "# if the number of matrix not fall at this range then this api makes it 0\n",
    "# Now this tensorflow api only do this work upper triangular region of matrix \n",
    "# and lower triangular region of this matrix\n",
    "# If the num_lower is less than num_upper then it applies for lower triangular matrix\n",
    "# and if num_lower is greater than num upper then it applies upper triangular of matrix"
   ]
  },
  {
   "cell_type": "code",
   "execution_count": 30,
   "id": "preceding-joining",
   "metadata": {},
   "outputs": [],
   "source": [
    "# 인코더 하나의 레이어를 함수로 구현.\n",
    "# 이 하나의 레이어 안에는 두 개의 서브 레이어가 존재합니다.\n",
    "\n",
    "def encoder_layer(units, d_model, num_heads, dropout, name = 'encoder_layer'):\n",
    "    inputs = tf.keras.Input(shape = (None, d_model), name = 'inputs')\n",
    "\n",
    "    # 패딩 마스크 사용 \n",
    "    padding_mask = tf.keras.Input(shape = (1,1,None), name = 'padding_mask')\n",
    "\n",
    "    # 첫번째 서브 레이어: 멀티 헤드 어텐션 수행(셀프어텐션)\n",
    "    attention = MultiHeadAttention(\n",
    "        d_model, num_heads, name = 'attention')({\n",
    "            'query' : inputs, \n",
    "            'key' : inputs, \n",
    "            'value' : inputs, \n",
    "            'mask' : padding_mask\n",
    "        })\n",
    "    \n",
    "    # 어텐션의 결과는 dropout과 layer normalization이라는 훈련을 돕는 테크닉을 수행 \n",
    "    attention = tf.keras.layers.Dropout(rate = dropout)(attention)\n",
    "    attention = tf.keras.layers.LayerNormalization(epsilon = 1e-6)(inputs + attention)\n",
    "\n",
    "    # 두번째 서브 레이어 : 2개의 완전 연결층 \n",
    "    outputs = tf.keras.layers.Dense(units = units, activation = 'relu')(attention)\n",
    "    outputs = tf.keras.layers.Dense(units = d_model)(outputs)\n",
    "\n",
    "    # 완전연결층의 결과는 dropout과 layerNormalization이라는 훈련을 돕는 테크닉을 수행 \n",
    "    outputs = tf.keras.layers.Dropout(rate = dropout)(outputs)\n",
    "    outputs = tf.keras.layers.LayerNormalization(epsilon = 1e-6)(attention + outputs)\n",
    "\n",
    "    return tf.keras.Model(\n",
    "        inputs = [inputs, padding_mask], outputs = outputs, name = name)\n",
    "    "
   ]
  },
  {
   "cell_type": "code",
   "execution_count": 31,
   "id": "strong-stretch",
   "metadata": {},
   "outputs": [],
   "source": [
    "def encoder(vocab_size,\n",
    "            num_layers,\n",
    "            units,\n",
    "            d_model,\n",
    "            num_heads,\n",
    "            dropout,\n",
    "            name=\"encoder\"):\n",
    "    inputs = tf.keras.Input(shape=(None,), name=\"inputs\")\n",
    "\n",
    "    # 패딩 마스크 사용\n",
    "    padding_mask = tf.keras.Input(shape=(1, 1, None), name=\"padding_mask\")\n",
    "\n",
    "    # 임베딩 레이어\n",
    "    embeddings = tf.keras.layers.Embedding(vocab_size, d_model)(inputs)\n",
    "    embeddings *= tf.math.sqrt(tf.cast(d_model, tf.float32))\n",
    "\n",
    "    # 포지셔널 인코딩\n",
    "    embeddings = PositionalEncoding(vocab_size, d_model)(embeddings)\n",
    "\n",
    "    outputs = tf.keras.layers.Dropout(rate=dropout)(embeddings)\n",
    "\n",
    "    # num_layers만큼 쌓아올린 인코더의 층.\n",
    "    for i in range(num_layers):\n",
    "        outputs = encoder_layer(\n",
    "            units=units,\n",
    "            d_model=d_model,\n",
    "            num_heads=num_heads,\n",
    "            dropout=dropout,\n",
    "            name=\"encoder_layer_{}\".format(i),\n",
    "        )([outputs, padding_mask])\n",
    "\n",
    "    return tf.keras.Model(\n",
    "        inputs=[inputs, padding_mask], outputs=outputs, name=name)"
   ]
  },
  {
   "cell_type": "code",
   "execution_count": 32,
   "id": "swedish-connectivity",
   "metadata": {},
   "outputs": [],
   "source": [
    "# 디코더 하나의 레이어를 함수로 구현.\n",
    "# 이 하나의 레이어 안에는 세 개의 서브 레이어가 존재합니다.\n",
    "def decoder_layer(units, d_model, num_heads, dropout, name=\"decoder_layer\"):\n",
    "    inputs = tf.keras.Input(shape=(None, d_model), name=\"inputs\")\n",
    "    enc_outputs = tf.keras.Input(shape=(None, d_model), name=\"encoder_outputs\")\n",
    "    look_ahead_mask = tf.keras.Input(\n",
    "        shape=(1, None, None), name=\"look_ahead_mask\")\n",
    "    padding_mask = tf.keras.Input(shape=(1, 1, None), name='padding_mask')\n",
    "\n",
    "    # 첫 번째 서브 레이어 : 멀티 헤드 어텐션 수행 (셀프 어텐션)\n",
    "    attention1 = MultiHeadAttention(\n",
    "        d_model, num_heads, name=\"attention_1\")(inputs={\n",
    "            'query': inputs,\n",
    "            'key': inputs,\n",
    "            'value': inputs,\n",
    "            'mask': look_ahead_mask\n",
    "        })\n",
    "\n",
    "    # 멀티 헤드 어텐션의 결과는 LayerNormalization이라는 훈련을 돕는 테크닉을 수행\n",
    "    attention1 = tf.keras.layers.LayerNormalization(\n",
    "        epsilon=1e-6)(attention1 + inputs)\n",
    "\n",
    "    # 두 번째 서브 레이어 : 마스크드 멀티 헤드 어텐션 수행 (인코더-디코더 어텐션)\n",
    "    attention2 = MultiHeadAttention(\n",
    "        d_model, num_heads, name=\"attention_2\")(inputs={\n",
    "            'query': attention1,\n",
    "            'key': enc_outputs,\n",
    "            'value': enc_outputs,\n",
    "            'mask': padding_mask\n",
    "        })\n",
    "\n",
    "    # 마스크드 멀티 헤드 어텐션의 결과는\n",
    "    # Dropout과 LayerNormalization이라는 훈련을 돕는 테크닉을 수행\n",
    "    attention2 = tf.keras.layers.Dropout(rate=dropout)(attention2)\n",
    "    attention2 = tf.keras.layers.LayerNormalization(\n",
    "        epsilon=1e-6)(attention2 + attention1)\n",
    "\n",
    "    # 세 번째 서브 레이어 : 2개의 완전연결층\n",
    "    outputs = tf.keras.layers.Dense(units=units, activation='relu')(attention2)\n",
    "    outputs = tf.keras.layers.Dense(units=d_model)(outputs)\n",
    "\n",
    "    # 완전연결층의 결과는 Dropout과 LayerNormalization 수행\n",
    "    outputs = tf.keras.layers.Dropout(rate=dropout)(outputs)\n",
    "    outputs = tf.keras.layers.LayerNormalization(\n",
    "        epsilon=1e-6)(outputs + attention2)\n",
    "\n",
    "    return tf.keras.Model(\n",
    "        inputs=[inputs, enc_outputs, look_ahead_mask, padding_mask],\n",
    "        outputs=outputs,\n",
    "        name=name)\n"
   ]
  },
  {
   "cell_type": "code",
   "execution_count": 33,
   "id": "trained-treat",
   "metadata": {},
   "outputs": [],
   "source": [
    "def decoder(vocab_size,\n",
    "            num_layers,\n",
    "            units,\n",
    "            d_model,\n",
    "            num_heads,\n",
    "            dropout,\n",
    "            name='decoder'):\n",
    "    inputs = tf.keras.Input(shape=(None,), name='inputs')\n",
    "    enc_outputs = tf.keras.Input(shape=(None, d_model), name='encoder_outputs')\n",
    "    look_ahead_mask = tf.keras.Input(\n",
    "        shape=(1, None, None), name='look_ahead_mask')\n",
    "\n",
    "    # 패딩 마스크\n",
    "    padding_mask = tf.keras.Input(shape=(1, 1, None), name='padding_mask')\n",
    "    \n",
    "    # 임베딩 레이어\n",
    "    embeddings = tf.keras.layers.Embedding(vocab_size, d_model)(inputs)\n",
    "    embeddings *= tf.math.sqrt(tf.cast(d_model, tf.float32))\n",
    "\n",
    "    # 포지셔널 인코딩\n",
    "    embeddings = PositionalEncoding(vocab_size, d_model)(embeddings)\n",
    "\n",
    "    # Dropout이라는 훈련을 돕는 테크닉을 수행\n",
    "    outputs = tf.keras.layers.Dropout(rate=dropout)(embeddings)\n",
    "\n",
    "    for i in range(num_layers):\n",
    "        outputs = decoder_layer(\n",
    "            units=units,\n",
    "            d_model=d_model,\n",
    "            num_heads=num_heads,\n",
    "            dropout=dropout,\n",
    "            name='decoder_layer_{}'.format(i),\n",
    "        )(inputs=[outputs, enc_outputs, look_ahead_mask, padding_mask])\n",
    "\n",
    "    return tf.keras.Model(\n",
    "        inputs=[inputs, enc_outputs, look_ahead_mask, padding_mask],\n",
    "        outputs=outputs,\n",
    "        name=name)"
   ]
  },
  {
   "cell_type": "markdown",
   "id": "given-regard",
   "metadata": {},
   "source": [
    "### Model 구성 "
   ]
  },
  {
   "cell_type": "code",
   "execution_count": 34,
   "id": "acoustic-endorsement",
   "metadata": {},
   "outputs": [],
   "source": [
    "BATCH_SIZE = 64\n",
    "BUFFER_SIZE = 20000\n",
    "\n",
    "# question이 input, answer이 output\n",
    "# output에서는 start token 제거. 디코더는 인코더의 결과를 사용하기 때문\n",
    "\n",
    "dataset = tf.data.Dataset.from_tensor_slices((\n",
    "    {'inputs': questions,'dec_inputs': answers[:, :-1]},\n",
    "    {'outputs': answers[:, 1:]},\n",
    "))\n",
    "\n",
    "dataset = dataset.cache()\n",
    "dataset = dataset.shuffle(BUFFER_SIZE)\n",
    "dataset = dataset.batch(BATCH_SIZE)\n",
    "dataset = dataset.prefetch(tf.data.experimental.AUTOTUNE)\n"
   ]
  },
  {
   "cell_type": "markdown",
   "id": "portuguese-joshua",
   "metadata": {},
   "source": [
    "tf.data.experimental.AUTOTUNE으로 설정하면 tf.data 런타임이 실행 시에 동적으로 값을 조정"
   ]
  },
  {
   "cell_type": "code",
   "execution_count": 35,
   "id": "vulnerable-means",
   "metadata": {},
   "outputs": [
    {
     "data": {
      "text/plain": [
       "<PrefetchDataset shapes: ({inputs: (None, 25), dec_inputs: (None, 24)}, {outputs: (None, 24)}), types: ({inputs: tf.int32, dec_inputs: tf.int32}, {outputs: tf.int32})>"
      ]
     },
     "execution_count": 35,
     "metadata": {},
     "output_type": "execute_result"
    }
   ],
   "source": [
    "dataset"
   ]
  },
  {
   "cell_type": "code",
   "execution_count": 36,
   "id": "accredited-public",
   "metadata": {},
   "outputs": [],
   "source": [
    "def transformer(vocab_size,\n",
    "                num_layers,\n",
    "                units,\n",
    "                d_model,\n",
    "                num_heads,\n",
    "                dropout,\n",
    "                name=\"transformer\"):\n",
    "    inputs = tf.keras.Input(shape=(None,), name=\"inputs\")\n",
    "    dec_inputs = tf.keras.Input(shape=(None,), name=\"dec_inputs\")\n",
    "\n",
    "    # 인코더에서 패딩을 위한 마스크\n",
    "    enc_padding_mask = tf.keras.layers.Lambda(\n",
    "        create_padding_mask, output_shape=(1, 1, None),\n",
    "        name='enc_padding_mask')(inputs)\n",
    "\n",
    "    # 디코더에서 미래의 토큰을 마스크 하기 위해서 사용\n",
    "    # 내부적으로 패딩 마스크도 포함되어 있음 \n",
    "    look_ahead_mask = tf.keras.layers.Lambda(\n",
    "        create_look_ahead_mask,\n",
    "        output_shape=(1, None, None),\n",
    "        name='look_ahead_mask')(dec_inputs)\n",
    "\n",
    "    # 두 번째 어텐션 블록에서 인코더의 벡터들을 마스킹\n",
    "    # 디코더에서 패딩을 위한 마스크\n",
    "    dec_padding_mask = tf.keras.layers.Lambda(\n",
    "        create_padding_mask, output_shape=(1, 1, None),\n",
    "        name='dec_padding_mask')(inputs)\n",
    "\n",
    "    # 인코더\n",
    "    enc_outputs = encoder(\n",
    "        vocab_size=vocab_size,\n",
    "        num_layers=num_layers,\n",
    "        units=units,\n",
    "        d_model=d_model,\n",
    "        num_heads=num_heads,\n",
    "        dropout=dropout,\n",
    "    )(inputs=[inputs, enc_padding_mask])\n",
    "\n",
    "    # 디코더\n",
    "    dec_outputs = decoder(\n",
    "        vocab_size=vocab_size,\n",
    "        num_layers=num_layers,\n",
    "        units=units,\n",
    "        d_model=d_model,\n",
    "        num_heads=num_heads,\n",
    "        dropout=dropout,\n",
    "    )(inputs=[dec_inputs, enc_outputs, look_ahead_mask, dec_padding_mask])\n",
    "\n",
    "    # 완전연결층\n",
    "    outputs = tf.keras.layers.Dense(units=vocab_size, name=\"outputs\")(dec_outputs)\n",
    "\n",
    "    return tf.keras.Model(inputs=[inputs, dec_inputs], outputs=outputs, name=name)\n"
   ]
  },
  {
   "cell_type": "code",
   "execution_count": 37,
   "id": "informative-combination",
   "metadata": {},
   "outputs": [
    {
     "name": "stdout",
     "output_type": "stream",
     "text": [
      "Model: \"transformer\"\n",
      "__________________________________________________________________________________________________\n",
      "Layer (type)                    Output Shape         Param #     Connected to                     \n",
      "==================================================================================================\n",
      "inputs (InputLayer)             [(None, None)]       0                                            \n",
      "__________________________________________________________________________________________________\n",
      "dec_inputs (InputLayer)         [(None, None)]       0                                            \n",
      "__________________________________________________________________________________________________\n",
      "enc_padding_mask (Lambda)       (None, 1, 1, None)   0           inputs[0][0]                     \n",
      "__________________________________________________________________________________________________\n",
      "encoder (Functional)            (None, None, 256)    3147008     inputs[0][0]                     \n",
      "                                                                 enc_padding_mask[0][0]           \n",
      "__________________________________________________________________________________________________\n",
      "look_ahead_mask (Lambda)        (None, 1, None, None 0           dec_inputs[0][0]                 \n",
      "__________________________________________________________________________________________________\n",
      "dec_padding_mask (Lambda)       (None, 1, 1, None)   0           inputs[0][0]                     \n",
      "__________________________________________________________________________________________________\n",
      "decoder (Functional)            (None, None, 256)    3674368     dec_inputs[0][0]                 \n",
      "                                                                 encoder[0][0]                    \n",
      "                                                                 look_ahead_mask[0][0]            \n",
      "                                                                 dec_padding_mask[0][0]           \n",
      "__________________________________________________________________________________________________\n",
      "outputs (Dense)                 (None, None, 8175)   2100975     decoder[0][0]                    \n",
      "==================================================================================================\n",
      "Total params: 8,922,351\n",
      "Trainable params: 8,922,351\n",
      "Non-trainable params: 0\n",
      "__________________________________________________________________________________________________\n"
     ]
    }
   ],
   "source": [
    "tf.keras.backend.clear_session()\n",
    "\n",
    "# 하이퍼파라미터\n",
    "NUM_LAYERS = 2 # 인코더와 디코더의 층의 개수\n",
    "D_MODEL = 256 # 인코더와 디코더 내부의 입, 출력의 고정 차원\n",
    "NUM_HEADS = 8 # 멀티 헤드 어텐션에서의 헤드 수 \n",
    "UNITS = 512 # 피드 포워드 신경망의 은닉층의 크기\n",
    "DROPOUT = 0.1 # 드롭아웃의 비율\n",
    "\n",
    "model = transformer(\n",
    "    vocab_size=VOCAB_SIZE,\n",
    "    num_layers=NUM_LAYERS,\n",
    "    units=UNITS,\n",
    "    d_model=D_MODEL,\n",
    "    num_heads=NUM_HEADS,\n",
    "    dropout=DROPOUT)\n",
    "\n",
    "model.summary()"
   ]
  },
  {
   "cell_type": "code",
   "execution_count": 43,
   "id": "engaged-jumping",
   "metadata": {},
   "outputs": [],
   "source": [
    "def loss_function(y_true, y_pred):\n",
    "    y_true = tf.reshape(y_true, shape=(-1, MAX_SAMPLES - 1))\n",
    "    \n",
    "    loss = tf.keras.losses.SparseCategoricalCrossentropy(\n",
    "        from_logits=True, reduction='none')(y_true, y_pred)\n",
    "\n",
    "    mask = tf.cast(tf.not_equal(y_true, 0), tf.float32)\n",
    "    loss = tf.multiply(loss, mask)\n",
    "\n",
    "    return tf.reduce_mean(loss)\n"
   ]
  },
  {
   "cell_type": "code",
   "execution_count": 39,
   "id": "checked-palace",
   "metadata": {},
   "outputs": [],
   "source": [
    "class CustomSchedule(tf.keras.optimizers.schedules.LearningRateSchedule):\n",
    "\n",
    "    def __init__(self, d_model, warmup_steps=4000):\n",
    "        super(CustomSchedule, self).__init__()\n",
    "\n",
    "        self.d_model = d_model\n",
    "        self.d_model = tf.cast(self.d_model, tf.float32)\n",
    "\n",
    "        self.warmup_steps = warmup_steps\n",
    "\n",
    "    def __call__(self, step):\n",
    "        arg1 = tf.math.rsqrt(step)\n",
    "        arg2 = step * (self.warmup_steps**-1.5)\n",
    "\n",
    "        return tf.math.rsqrt(self.d_model) * tf.math.minimum(arg1, arg2)\n"
   ]
  },
  {
   "cell_type": "code",
   "execution_count": 44,
   "id": "numeric-voltage",
   "metadata": {},
   "outputs": [
    {
     "data": {
      "text/plain": [
       "Text(0.5, 0, 'Train Step')"
      ]
     },
     "execution_count": 44,
     "metadata": {},
     "output_type": "execute_result"
    },
    {
     "data": {
      "image/png": "[encoded data removed]",
      "text/plain": [
       "<Figure size 432x288 with 1 Axes>"
      ]
     },
     "metadata": {
      "needs_background": "light"
     },
     "output_type": "display_data"
    }
   ],
   "source": [
    "sample_learning_rate = CustomSchedule(d_model=128)\n",
    "\n",
    "plt.plot(sample_learning_rate(tf.range(200000, dtype=tf.float32)))\n",
    "plt.ylabel(\"Learning Rate\")\n",
    "plt.xlabel(\"Train Step\")"
   ]
  },
  {
   "cell_type": "code",
   "execution_count": 47,
   "id": "usual-turner",
   "metadata": {},
   "outputs": [],
   "source": [
    "learning_rate = CustomSchedule(D_MODEL)\n",
    "\n",
    "optimizer = tf.keras.optimizers.Adam(\n",
    "    learning_rate, beta_1=0.9, beta_2=0.98, epsilon=1e-9)\n",
    "\n",
    "def accuracy(y_true, y_pred):\n",
    "    y_true = tf.reshape(y_true, shape=(-1, MAX_SAMPLES - 1))\n",
    "    return tf.keras.metrics.sparse_categorical_accuracy(y_true, y_pred)\n",
    "\n",
    "model.compile(optimizer=optimizer, loss=loss_function, metrics=[accuracy])\n"
   ]
  },
  {
   "cell_type": "code",
   "execution_count": 73,
   "id": "affecting-elder",
   "metadata": {},
   "outputs": [
    {
     "name": "stdout",
     "output_type": "stream",
     "text": [
      "Epoch 1/50\n",
      "185/185 [==============================] - 18s 95ms/step - loss: 0.0687 - accuracy: 0.2677\n",
      "Epoch 2/50\n",
      "185/185 [==============================] - 18s 98ms/step - loss: 0.0655 - accuracy: 0.2680\n",
      "Epoch 3/50\n",
      "185/185 [==============================] - 18s 98ms/step - loss: 0.0597 - accuracy: 0.2694\n",
      "Epoch 4/50\n",
      "185/185 [==============================] - 19s 101ms/step - loss: 0.0511 - accuracy: 0.2715\n",
      "Epoch 5/50\n",
      "185/185 [==============================] - 19s 101ms/step - loss: 0.0449 - accuracy: 0.2729\n",
      "Epoch 6/50\n",
      "185/185 [==============================] - 19s 102ms/step - loss: 0.0408 - accuracy: 0.2740\n",
      "Epoch 7/50\n",
      "185/185 [==============================] - 19s 101ms/step - loss: 0.0354 - accuracy: 0.2753\n",
      "Epoch 8/50\n",
      "185/185 [==============================] - 19s 103ms/step - loss: 0.0336 - accuracy: 0.2759\n",
      "Epoch 9/50\n",
      "185/185 [==============================] - 19s 101ms/step - loss: 0.0297 - accuracy: 0.2766\n",
      "Epoch 10/50\n",
      "185/185 [==============================] - 19s 102ms/step - loss: 0.0272 - accuracy: 0.2772\n",
      "Epoch 11/50\n",
      "185/185 [==============================] - 19s 100ms/step - loss: 0.0254 - accuracy: 0.2778\n",
      "Epoch 12/50\n",
      "185/185 [==============================] - 19s 104ms/step - loss: 0.0229 - accuracy: 0.2784\n",
      "Epoch 13/50\n",
      "185/185 [==============================] - 19s 101ms/step - loss: 0.0217 - accuracy: 0.2790\n",
      "Epoch 14/50\n",
      "185/185 [==============================] - 19s 102ms/step - loss: 0.0205 - accuracy: 0.2790\n",
      "Epoch 15/50\n",
      "185/185 [==============================] - 19s 102ms/step - loss: 0.0187 - accuracy: 0.2796\n",
      "Epoch 16/50\n",
      "185/185 [==============================] - 19s 104ms/step - loss: 0.0180 - accuracy: 0.2798\n",
      "Epoch 17/50\n",
      "185/185 [==============================] - 19s 103ms/step - loss: 0.0169 - accuracy: 0.2800\n",
      "Epoch 18/50\n",
      "185/185 [==============================] - 19s 101ms/step - loss: 0.0157 - accuracy: 0.2803\n",
      "Epoch 19/50\n",
      "185/185 [==============================] - 19s 101ms/step - loss: 0.0151 - accuracy: 0.2804\n",
      "Epoch 20/50\n",
      "185/185 [==============================] - 19s 103ms/step - loss: 0.0138 - accuracy: 0.2808\n",
      "Epoch 21/50\n",
      "185/185 [==============================] - 19s 103ms/step - loss: 0.0125 - accuracy: 0.2811\n",
      "Epoch 22/50\n",
      "185/185 [==============================] - 19s 104ms/step - loss: 0.0125 - accuracy: 0.2812\n",
      "Epoch 23/50\n",
      "185/185 [==============================] - 19s 104ms/step - loss: 0.0126 - accuracy: 0.2812\n",
      "Epoch 24/50\n",
      "185/185 [==============================] - 19s 102ms/step - loss: 0.0114 - accuracy: 0.2813\n",
      "Epoch 25/50\n",
      "185/185 [==============================] - 19s 101ms/step - loss: 0.0109 - accuracy: 0.2816\n",
      "Epoch 26/50\n",
      "185/185 [==============================] - 19s 101ms/step - loss: 0.0108 - accuracy: 0.2815\n",
      "Epoch 27/50\n",
      "185/185 [==============================] - 19s 104ms/step - loss: 0.0103 - accuracy: 0.2816\n",
      "Epoch 28/50\n",
      "185/185 [==============================] - 19s 100ms/step - loss: 0.0094 - accuracy: 0.2819\n",
      "Epoch 29/50\n",
      "185/185 [==============================] - 19s 102ms/step - loss: 0.0100 - accuracy: 0.2817\n",
      "Epoch 30/50\n",
      "185/185 [==============================] - 19s 103ms/step - loss: 0.0092 - accuracy: 0.2817\n",
      "Epoch 31/50\n",
      "185/185 [==============================] - 19s 102ms/step - loss: 0.0089 - accuracy: 0.2819\n",
      "Epoch 32/50\n",
      "185/185 [==============================] - 19s 102ms/step - loss: 0.0085 - accuracy: 0.2820\n",
      "Epoch 33/50\n",
      "185/185 [==============================] - 19s 103ms/step - loss: 0.0084 - accuracy: 0.2820\n",
      "Epoch 34/50\n",
      "185/185 [==============================] - 19s 103ms/step - loss: 0.0083 - accuracy: 0.2820\n",
      "Epoch 35/50\n",
      "185/185 [==============================] - 18s 100ms/step - loss: 0.0069 - accuracy: 0.2824\n",
      "Epoch 36/50\n",
      "185/185 [==============================] - 19s 102ms/step - loss: 0.0074 - accuracy: 0.2823\n",
      "Epoch 37/50\n",
      "185/185 [==============================] - 19s 103ms/step - loss: 0.0073 - accuracy: 0.2823\n",
      "Epoch 38/50\n",
      "185/185 [==============================] - 19s 103ms/step - loss: 0.0066 - accuracy: 0.2824\n",
      "Epoch 39/50\n",
      "185/185 [==============================] - 19s 102ms/step - loss: 0.0066 - accuracy: 0.2825\n",
      "Epoch 40/50\n",
      "185/185 [==============================] - 19s 101ms/step - loss: 0.0072 - accuracy: 0.2823\n",
      "Epoch 41/50\n",
      "185/185 [==============================] - 19s 103ms/step - loss: 0.0062 - accuracy: 0.2825\n",
      "Epoch 42/50\n",
      "185/185 [==============================] - 19s 102ms/step - loss: 0.0061 - accuracy: 0.2826\n",
      "Epoch 43/50\n",
      "185/185 [==============================] - 19s 104ms/step - loss: 0.0060 - accuracy: 0.2826\n",
      "Epoch 44/50\n",
      "185/185 [==============================] - 19s 103ms/step - loss: 0.0062 - accuracy: 0.2826\n",
      "Epoch 45/50\n",
      "185/185 [==============================] - 19s 103ms/step - loss: 0.0058 - accuracy: 0.2825\n",
      "Epoch 46/50\n",
      "185/185 [==============================] - 19s 102ms/step - loss: 0.0056 - accuracy: 0.2827\n",
      "Epoch 47/50\n",
      "185/185 [==============================] - 19s 103ms/step - loss: 0.0057 - accuracy: 0.2827\n",
      "Epoch 48/50\n",
      "185/185 [==============================] - 19s 103ms/step - loss: 0.0056 - accuracy: 0.2826\n",
      "Epoch 49/50\n",
      "185/185 [==============================] - 19s 103ms/step - loss: 0.0050 - accuracy: 0.2828\n",
      "Epoch 50/50\n",
      "185/185 [==============================] - 19s 102ms/step - loss: 0.0055 - accuracy: 0.2826\n"
     ]
    },
    {
     "data": {
      "text/plain": [
       "<tensorflow.python.keras.callbacks.History at 0x7faad51de810>"
      ]
     },
     "execution_count": 73,
     "metadata": {},
     "output_type": "execute_result"
    }
   ],
   "source": [
    "EPOCHS = 50\n",
    "model.fit(dataset, epochs=EPOCHS, verbose=1)"
   ]
  },
  {
   "cell_type": "markdown",
   "id": "capable-wayne",
   "metadata": {},
   "source": [
    "### 결과확인"
   ]
  },
  {
   "cell_type": "code",
   "execution_count": 61,
   "id": "transsexual-florence",
   "metadata": {},
   "outputs": [],
   "source": [
    "# 전처리 함수\n",
    "def preprocess_sentence(sentence):\n",
    "    sentence = sentence.lower().strip()\n",
    "    sentence = re.sub(r\"([?.!,])\", r\" \\1 \", sentence)\n",
    "    sentence = re.sub(r'[\" \"]+', \" \", sentence)\n",
    "    sentence = sentence.strip()\n",
    "    return sentence"
   ]
  },
  {
   "cell_type": "code",
   "execution_count": null,
   "id": "finished-conservation",
   "metadata": {},
   "outputs": [],
   "source": [
    "# preprocessing text \n",
    "\n",
    "def preprocess_text(df):\n",
    "    df.iloc[:, 0:2] = df.iloc[:, 0:2].apply(lambda x: x.str.strip())\n",
    "    df = df.replace(r\"([?.!,])\", r\" \\1 \", regex = True)\n",
    "    df = df.replace('(([!.,*^])\\\\2{1,})', '', regex = True) # 연속된 같은 문자 변환 (2개이상)\n",
    "    df = df.replace('[\" \"]+', \" \", regex = True) # 공백 2개 이상시 한개로 변환\n",
    "    df.iloc[:, 0:2] = df.iloc[:, 0:2].apply(lambda x: x.str.strip())\n",
    "    return df\n",
    "    "
   ]
  },
  {
   "cell_type": "code",
   "execution_count": 74,
   "id": "threatened-baseline",
   "metadata": {},
   "outputs": [],
   "source": [
    "def decoder_inference(sentence):\n",
    "    sentence = preprocess_sentence(sentence)\n",
    "\n",
    "    # 입력된 문장을 정수 인코딩 후, 시작 토큰과 종료 토큰을 앞뒤로 추가.\n",
    "    sentence = tf.expand_dims(\n",
    "        START_TOKEN + tokenizer.encode(sentence) + END_TOKEN, axis=0)\n",
    "\n",
    "    # 디코더의 현재까지의 예측한 출력 시퀀스가 지속적으로 저장되는 변수\n",
    "    # 처음에는 예측한 내용이 없음으로 시작 토큰만 별도 저장\n",
    "    output_sequence = tf.expand_dims(START_TOKEN, 0)\n",
    "\n",
    "    # 디코더의 인퍼런스 단계\n",
    "    for i in range(MAX_SAMPLES):\n",
    "        # 디코더는 최대 MAX_LENGTH의 길이만큼 다음 단어 예측을 반복\n",
    "        predictions = model(inputs=[sentence, output_sequence], training=False)\n",
    "        predictions = predictions[:, -1:, :]\n",
    "\n",
    "        # 현재 예측한 단어의 정수\n",
    "        predicted_id = tf.cast(tf.argmax(predictions, axis=-1), tf.int32)\n",
    "\n",
    "        # 만약 현재 예측한 단어가 종료 토큰이라면 for문을 종료\n",
    "        if tf.equal(predicted_id, END_TOKEN[0]):\n",
    "            break\n",
    "\n",
    "        # 예측한 단어들은 지속적으로 output_sequence에 추가됨\n",
    "        # 이 output_sequence는 다시 디코더에 입력됨\n",
    "        output_sequence = tf.concat([output_sequence, predicted_id], axis=-1)\n",
    "\n",
    "    return tf.squeeze(output_sequence, axis=0)\n"
   ]
  },
  {
   "cell_type": "code",
   "execution_count": 75,
   "id": "enhanced-healing",
   "metadata": {},
   "outputs": [],
   "source": [
    "def sentence_generation(sentence):\n",
    "    # 입력 문장에 대해서 디코더를 동작 시켜 예측된 정수 시퀀스를 리턴\n",
    "    prediction = decoder_inference(sentence)\n",
    "\n",
    "    # 정수 시퀀스를 다시 텍스트 시퀀스로 변환\n",
    "    predicted_sentence = tokenizer.decode(\n",
    "        [i for i in prediction if i < tokenizer.vocab_size])\n",
    "\n",
    "    print('입력 : {}'.format(sentence))\n",
    "    print('출력 : {}'.format(predicted_sentence))\n",
    "\n",
    "    return predicted_sentence\n"
   ]
  },
  {
   "cell_type": "code",
   "execution_count": 76,
   "id": "spread-partnership",
   "metadata": {},
   "outputs": [
    {
     "name": "stdout",
     "output_type": "stream",
     "text": [
      "입력 : 좋아하는 애한테 뭐하자고 물어볼까?\n",
      "출력 : 저랑 놀아요 .\n"
     ]
    },
    {
     "data": {
      "text/plain": [
       "'저랑 놀아요 .'"
      ]
     },
     "execution_count": 76,
     "metadata": {},
     "output_type": "execute_result"
    }
   ],
   "source": [
    "sentence_generation('좋아하는 애한테 뭐하자고 물어볼까?')"
   ]
  },
  {
   "cell_type": "code",
   "execution_count": 77,
   "id": "compliant-headquarters",
   "metadata": {},
   "outputs": [
    {
     "name": "stdout",
     "output_type": "stream",
     "text": [
      "입력 : 고백 어떻게해?\n",
      "출력 : 먼저 고백하는 것도 좋지만 슬쩍 호감을 표현해보세요 .\n"
     ]
    },
    {
     "data": {
      "text/plain": [
       "'먼저 고백하는 것도 좋지만 슬쩍 호감을 표현해보세요 .'"
      ]
     },
     "execution_count": 77,
     "metadata": {},
     "output_type": "execute_result"
    }
   ],
   "source": [
    "sentence_generation('고백 어떻게해?')"
   ]
  },
  {
   "cell_type": "code",
   "execution_count": 78,
   "id": "entire-private",
   "metadata": {},
   "outputs": [
    {
     "name": "stdout",
     "output_type": "stream",
     "text": [
      "입력 : 배고파\n",
      "출력 : 뭐 좀 챙겨드세요 .\n"
     ]
    },
    {
     "data": {
      "text/plain": [
       "'뭐 좀 챙겨드세요 .'"
      ]
     },
     "execution_count": 78,
     "metadata": {},
     "output_type": "execute_result"
    }
   ],
   "source": [
    "sentence_generation('배고파')"
   ]
  },
  {
   "cell_type": "code",
   "execution_count": 82,
   "id": "olympic-reflection",
   "metadata": {},
   "outputs": [
    {
     "name": "stdout",
     "output_type": "stream",
     "text": [
      "입력 : 스트레스 많을 때 어떻게 해?\n",
      "출력 : 운동을 해보세요 .\n"
     ]
    },
    {
     "data": {
      "text/plain": [
       "'운동을 해보세요 .'"
      ]
     },
     "execution_count": 82,
     "metadata": {},
     "output_type": "execute_result"
    }
   ],
   "source": [
    "sentence_generation('스트레스 많을 때 어떻게 해?')"
   ]
  },
  {
   "cell_type": "markdown",
   "id": "imported-services",
   "metadata": {},
   "source": [
    "### 회고 \n",
    "- 코드를 쪼개는데 약간의 무리가 있음. 공부가 더 필요함\n",
    "- epoch를 늘려서 진행해본 결과 epoch = 20보다는, epoch = 50이 훨신 더 나아지는 결과를 보여줌 "
   ]
  },
  {
   "cell_type": "code",
   "execution_count": null,
   "id": "handmade-rocket",
   "metadata": {},
   "outputs": [],
   "source": []
  }
 ],
 "metadata": {
  "kernelspec": {
   "display_name": "Python 3",
   "language": "python",
   "name": "python3"
  },
  "language_info": {
   "codemirror_mode": {
    "name": "ipython",
    "version": 3
   },
   "file_extension": ".py",
   "mimetype": "text/x-python",
   "name": "python",
   "nbconvert_exporter": "python",
   "pygments_lexer": "ipython3",
   "version": "3.7.9"
  }
 },
 "nbformat": 4,
 "nbformat_minor": 5
}
